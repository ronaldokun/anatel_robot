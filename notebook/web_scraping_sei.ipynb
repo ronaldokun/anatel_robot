{
 "cells": [
  {
   "cell_type": "code",
   "execution_count": 1,
   "metadata": {
    "collapsed": true
   },
   "outputs": [],
   "source": [
    "#HTML PARSER\n",
    "from bs4 import BeautifulSoup as soup\n",
    "\n",
    "# IMPORT DRIVER\n",
    "from selenium import webdriver\n",
    "from selenium.webdriver.support.ui import WebDriverWait # available since 2.4.0\n",
    "\n",
    "# WAIT AND CONDITIONS METHODS\n",
    "from selenium.common.exceptions import TimeoutException\n",
    "from selenium.webdriver.support import expected_conditions as EC # available since 2.26.0\n",
    "from selenium.webdriver.common.by import By\n",
    "\n",
    "from selenium.webdriver.common.keys import Keys\n",
    "from selenium.webdriver.support.ui import Select\n",
    "\n",
    "url = \"https://sei.anatel.gov.br\"\n",
    "#TODO Fazer a entrada de dados via sys.args\n",
    "usr = 'rsilva'\n",
    "pwd = 'Savorthemom3nts'"
   ]
  },
  {
   "cell_type": "code",
   "execution_count": 2,
   "metadata": {
    "collapsed": true
   },
   "outputs": [],
   "source": [
    "def init_driver():\n",
    "    \n",
    "    # Create an instance of Chrome\n",
    "    driver = webdriver.Chrome()\n",
    "    driver.wait = WebDriverWait(driver, 10)\n",
    "    \n",
    "    return driver"
   ]
  },
  {
   "cell_type": "code",
   "execution_count": 3,
   "metadata": {
    "collapsed": true
   },
   "outputs": [],
   "source": [
    "def loga_sei_chrome(url, usr, pwd):\n",
    "    \n",
    "    \"\"\"Navigate to url, make login and return and instance of browser\"\"\"\n",
    "\n",
    "    #TODO fazer isso de uma maneira decente\n",
    "\n",
    "    # he driver.get method will navigate to a page given by the URL. \n",
    "    driver.get(url)\n",
    "    \n",
    "    try:\n",
    "        \n",
    "        usuario = driver.wait.until(\n",
    "        EC.presence_of_element_located((By.ID, \"txtUsuario\")))\n",
    "        \n",
    "        senha = driver.wait.until(\n",
    "            EC.presence_of_element_located((By.ID, \"pwdSenha\")))\n",
    "        \n",
    "        # Clear any clutter on the form \n",
    "        usuario.clear()\n",
    "        usuario.send_keys(usr)\n",
    "\n",
    "        senha.clear()\n",
    "        senha.send_keys(pwd)\n",
    "\n",
    "        # Hit Enter\n",
    "        senha.send_keys(Keys.RETURN)\n",
    "\n",
    "    except ElementNotVisibleException:\n",
    "        print(\"Pagina de login do SEI não carrega atualmente\")\n",
    "       \n",
    "    assert \"No results found.\" not in driver.page_source\n",
    "\n",
    "    return"
   ]
  },
  {
   "cell_type": "code",
   "execution_count": 4,
   "metadata": {
    "collapsed": true
   },
   "outputs": [],
   "source": [
    "driver = init_driver()\n",
    "\n",
    "loga_sei_chrome(url, usr, pwd)"
   ]
  },
  {
   "cell_type": "code",
   "execution_count": 9,
   "metadata": {
    "collapsed": true
   },
   "outputs": [],
   "source": [
    "# Verifica se está na visualização restrita, caso estiver clica para geral\n",
    "try: \n",
    "    ver_todos_processos = driver.wait.until(\n",
    "        EC.element_to_be_clickable((By.ID, \"ancVisualizacao1\")))\n",
    "    \n",
    "    if ver_todos_processos.text == 'Ver todos os processos':\n",
    "        ver_todos_processos.click()\n",
    "    \n",
    "except:\n",
    "    print(\"Ocorreu algum erro na Visualização dos Processos\")\n",
    "\n",
    "# Verifica se está na visualização detalhada senão muda para ela\n",
    "try:\n",
    "    visualizacao_detalhada = driver.wait.until(\n",
    "    EC.element_to_be_clickable((By.ID, 'ancTipoVisualizacao')))\n",
    "    \n",
    "    if visualizacao_detalhada.text == 'Visualização detalhada':\n",
    "        visualizacao_detalhada.click()\n",
    "    \n",
    "except:\n",
    "    print(\"Ocorreu algum erro ao acessar a visualização detalhada dos processos\")   \n"
   ]
  },
  {
   "cell_type": "code",
   "execution_count": 10,
   "metadata": {},
   "outputs": [
    {
     "name": "stdout",
     "output_type": "stream",
     "text": [
      "Página de Processos Inicial\n"
     ]
    }
   ],
   "source": [
    "# Verifica se está na primeira página\n",
    "try:\n",
    "    driver.find_element_by_id(\"lnkInfraPrimeiraPaginaSuperior\").click()\n",
    "    \n",
    "except:\n",
    "    print(\"Página de Processos Inicial\")"
   ]
  },
  {
   "cell_type": "code",
   "execution_count": 21,
   "metadata": {},
   "outputs": [
    {
     "name": "stdout",
     "output_type": "stream",
     "text": [
      "1\n",
      "2\n",
      "3\n",
      "4\n",
      "5\n"
     ]
    }
   ],
   "source": [
    "processos_abertos_sei = []\n",
    "\n",
    "contador = Select(driver.find_element_by_id('selInfraPaginacaoSuperior'))\n",
    "\n",
    "for i in contador.options:\n",
    "    print(i.text)"
   ]
  },
  {
   "cell_type": "code",
   "execution_count": 22,
   "metadata": {},
   "outputs": [
    {
     "ename": "StaleElementReferenceException",
     "evalue": "Message: stale element reference: element is not attached to the page document\n  (Session info: chrome=60.0.3112.90)\n  (Driver info: chromedriver=2.31.488763 (092de99f48a300323ecf8c2a4e2e7cab51de5ba8),platform=Linux 4.4.0-53-generic x86_64)\n",
     "output_type": "error",
     "traceback": [
      "\u001b[0;31m---------------------------------------------------------------------------\u001b[0m",
      "\u001b[0;31mStaleElementReferenceException\u001b[0m            Traceback (most recent call last)",
      "\u001b[0;32m<ipython-input-22-128fc22c751c>\u001b[0m in \u001b[0;36m<module>\u001b[0;34m()\u001b[0m\n\u001b[1;32m      7\u001b[0m \u001b[0;32mfor\u001b[0m \u001b[0mpag\u001b[0m \u001b[0;32min\u001b[0m \u001b[0mpaginas\u001b[0m\u001b[0;34m:\u001b[0m\u001b[0;34m\u001b[0m\u001b[0m\n\u001b[1;32m      8\u001b[0m \u001b[0;34m\u001b[0m\u001b[0m\n\u001b[0;32m----> 9\u001b[0;31m     \u001b[0mcontador\u001b[0m\u001b[0;34m.\u001b[0m\u001b[0mselect_by_visible_text\u001b[0m\u001b[0;34m(\u001b[0m\u001b[0mpag\u001b[0m\u001b[0;34m.\u001b[0m\u001b[0mtext\u001b[0m\u001b[0;34m)\u001b[0m\u001b[0;34m\u001b[0m\u001b[0m\n\u001b[0m\u001b[1;32m     10\u001b[0m     \u001b[0;31m# infraTrClara eh o frame dos processos\u001b[0m\u001b[0;34m\u001b[0m\u001b[0;34m\u001b[0m\u001b[0m\n\u001b[1;32m     11\u001b[0m     \u001b[0mhtml_sei\u001b[0m \u001b[0;34m=\u001b[0m \u001b[0mdriver\u001b[0m\u001b[0;34m.\u001b[0m\u001b[0mpage_source\u001b[0m\u001b[0;34m\u001b[0m\u001b[0m\n",
      "\u001b[0;32m/home/ronaldo/anaconda3/lib/python3.6/site-packages/selenium/webdriver/remote/webelement.py\u001b[0m in \u001b[0;36mtext\u001b[0;34m(self)\u001b[0m\n\u001b[1;32m     71\u001b[0m     \u001b[0;32mdef\u001b[0m \u001b[0mtext\u001b[0m\u001b[0;34m(\u001b[0m\u001b[0mself\u001b[0m\u001b[0;34m)\u001b[0m\u001b[0;34m:\u001b[0m\u001b[0;34m\u001b[0m\u001b[0m\n\u001b[1;32m     72\u001b[0m         \u001b[0;34m\"\"\"The text of the element.\"\"\"\u001b[0m\u001b[0;34m\u001b[0m\u001b[0m\n\u001b[0;32m---> 73\u001b[0;31m         \u001b[0;32mreturn\u001b[0m \u001b[0mself\u001b[0m\u001b[0;34m.\u001b[0m\u001b[0m_execute\u001b[0m\u001b[0;34m(\u001b[0m\u001b[0mCommand\u001b[0m\u001b[0;34m.\u001b[0m\u001b[0mGET_ELEMENT_TEXT\u001b[0m\u001b[0;34m)\u001b[0m\u001b[0;34m[\u001b[0m\u001b[0;34m'value'\u001b[0m\u001b[0;34m]\u001b[0m\u001b[0;34m\u001b[0m\u001b[0m\n\u001b[0m\u001b[1;32m     74\u001b[0m \u001b[0;34m\u001b[0m\u001b[0m\n\u001b[1;32m     75\u001b[0m     \u001b[0;32mdef\u001b[0m \u001b[0mclick\u001b[0m\u001b[0;34m(\u001b[0m\u001b[0mself\u001b[0m\u001b[0;34m)\u001b[0m\u001b[0;34m:\u001b[0m\u001b[0;34m\u001b[0m\u001b[0m\n",
      "\u001b[0;32m/home/ronaldo/anaconda3/lib/python3.6/site-packages/selenium/webdriver/remote/webelement.py\u001b[0m in \u001b[0;36m_execute\u001b[0;34m(self, command, params)\u001b[0m\n\u001b[1;32m    491\u001b[0m             \u001b[0mparams\u001b[0m \u001b[0;34m=\u001b[0m \u001b[0;34m{\u001b[0m\u001b[0;34m}\u001b[0m\u001b[0;34m\u001b[0m\u001b[0m\n\u001b[1;32m    492\u001b[0m         \u001b[0mparams\u001b[0m\u001b[0;34m[\u001b[0m\u001b[0;34m'id'\u001b[0m\u001b[0;34m]\u001b[0m \u001b[0;34m=\u001b[0m \u001b[0mself\u001b[0m\u001b[0;34m.\u001b[0m\u001b[0m_id\u001b[0m\u001b[0;34m\u001b[0m\u001b[0m\n\u001b[0;32m--> 493\u001b[0;31m         \u001b[0;32mreturn\u001b[0m \u001b[0mself\u001b[0m\u001b[0;34m.\u001b[0m\u001b[0m_parent\u001b[0m\u001b[0;34m.\u001b[0m\u001b[0mexecute\u001b[0m\u001b[0;34m(\u001b[0m\u001b[0mcommand\u001b[0m\u001b[0;34m,\u001b[0m \u001b[0mparams\u001b[0m\u001b[0;34m)\u001b[0m\u001b[0;34m\u001b[0m\u001b[0m\n\u001b[0m\u001b[1;32m    494\u001b[0m \u001b[0;34m\u001b[0m\u001b[0m\n\u001b[1;32m    495\u001b[0m     \u001b[0;32mdef\u001b[0m \u001b[0mfind_element\u001b[0m\u001b[0;34m(\u001b[0m\u001b[0mself\u001b[0m\u001b[0;34m,\u001b[0m \u001b[0mby\u001b[0m\u001b[0;34m=\u001b[0m\u001b[0mBy\u001b[0m\u001b[0;34m.\u001b[0m\u001b[0mID\u001b[0m\u001b[0;34m,\u001b[0m \u001b[0mvalue\u001b[0m\u001b[0;34m=\u001b[0m\u001b[0;32mNone\u001b[0m\u001b[0;34m)\u001b[0m\u001b[0;34m:\u001b[0m\u001b[0;34m\u001b[0m\u001b[0m\n",
      "\u001b[0;32m/home/ronaldo/anaconda3/lib/python3.6/site-packages/selenium/webdriver/remote/webdriver.py\u001b[0m in \u001b[0;36mexecute\u001b[0;34m(self, driver_command, params)\u001b[0m\n\u001b[1;32m    254\u001b[0m         \u001b[0mresponse\u001b[0m \u001b[0;34m=\u001b[0m \u001b[0mself\u001b[0m\u001b[0;34m.\u001b[0m\u001b[0mcommand_executor\u001b[0m\u001b[0;34m.\u001b[0m\u001b[0mexecute\u001b[0m\u001b[0;34m(\u001b[0m\u001b[0mdriver_command\u001b[0m\u001b[0;34m,\u001b[0m \u001b[0mparams\u001b[0m\u001b[0;34m)\u001b[0m\u001b[0;34m\u001b[0m\u001b[0m\n\u001b[1;32m    255\u001b[0m         \u001b[0;32mif\u001b[0m \u001b[0mresponse\u001b[0m\u001b[0;34m:\u001b[0m\u001b[0;34m\u001b[0m\u001b[0m\n\u001b[0;32m--> 256\u001b[0;31m             \u001b[0mself\u001b[0m\u001b[0;34m.\u001b[0m\u001b[0merror_handler\u001b[0m\u001b[0;34m.\u001b[0m\u001b[0mcheck_response\u001b[0m\u001b[0;34m(\u001b[0m\u001b[0mresponse\u001b[0m\u001b[0;34m)\u001b[0m\u001b[0;34m\u001b[0m\u001b[0m\n\u001b[0m\u001b[1;32m    257\u001b[0m             response['value'] = self._unwrap_value(\n\u001b[1;32m    258\u001b[0m                 response.get('value', None))\n",
      "\u001b[0;32m/home/ronaldo/anaconda3/lib/python3.6/site-packages/selenium/webdriver/remote/errorhandler.py\u001b[0m in \u001b[0;36mcheck_response\u001b[0;34m(self, response)\u001b[0m\n\u001b[1;32m    192\u001b[0m         \u001b[0;32melif\u001b[0m \u001b[0mexception_class\u001b[0m \u001b[0;34m==\u001b[0m \u001b[0mUnexpectedAlertPresentException\u001b[0m \u001b[0;32mand\u001b[0m \u001b[0;34m'alert'\u001b[0m \u001b[0;32min\u001b[0m \u001b[0mvalue\u001b[0m\u001b[0;34m:\u001b[0m\u001b[0;34m\u001b[0m\u001b[0m\n\u001b[1;32m    193\u001b[0m             \u001b[0;32mraise\u001b[0m \u001b[0mexception_class\u001b[0m\u001b[0;34m(\u001b[0m\u001b[0mmessage\u001b[0m\u001b[0;34m,\u001b[0m \u001b[0mscreen\u001b[0m\u001b[0;34m,\u001b[0m \u001b[0mstacktrace\u001b[0m\u001b[0;34m,\u001b[0m \u001b[0mvalue\u001b[0m\u001b[0;34m[\u001b[0m\u001b[0;34m'alert'\u001b[0m\u001b[0;34m]\u001b[0m\u001b[0;34m.\u001b[0m\u001b[0mget\u001b[0m\u001b[0;34m(\u001b[0m\u001b[0;34m'text'\u001b[0m\u001b[0;34m)\u001b[0m\u001b[0;34m)\u001b[0m\u001b[0;34m\u001b[0m\u001b[0m\n\u001b[0;32m--> 194\u001b[0;31m         \u001b[0;32mraise\u001b[0m \u001b[0mexception_class\u001b[0m\u001b[0;34m(\u001b[0m\u001b[0mmessage\u001b[0m\u001b[0;34m,\u001b[0m \u001b[0mscreen\u001b[0m\u001b[0;34m,\u001b[0m \u001b[0mstacktrace\u001b[0m\u001b[0;34m)\u001b[0m\u001b[0;34m\u001b[0m\u001b[0m\n\u001b[0m\u001b[1;32m    195\u001b[0m \u001b[0;34m\u001b[0m\u001b[0m\n\u001b[1;32m    196\u001b[0m     \u001b[0;32mdef\u001b[0m \u001b[0m_value_or_default\u001b[0m\u001b[0;34m(\u001b[0m\u001b[0mself\u001b[0m\u001b[0;34m,\u001b[0m \u001b[0mobj\u001b[0m\u001b[0;34m,\u001b[0m \u001b[0mkey\u001b[0m\u001b[0;34m,\u001b[0m \u001b[0mdefault\u001b[0m\u001b[0;34m)\u001b[0m\u001b[0;34m:\u001b[0m\u001b[0;34m\u001b[0m\u001b[0m\n",
      "\u001b[0;31mStaleElementReferenceException\u001b[0m: Message: stale element reference: element is not attached to the page document\n  (Session info: chrome=60.0.3112.90)\n  (Driver info: chromedriver=2.31.488763 (092de99f48a300323ecf8c2a4e2e7cab51de5ba8),platform=Linux 4.4.0-53-generic x86_64)\n"
     ]
    }
   ],
   "source": [
    "processos_abertos_sei = []\n",
    "\n",
    "contador = Select(driver.find_element_by_id('selInfraPaginacaoSuperior'))\n",
    "\n",
    "paginas = len(contador.options)\n",
    "\n",
    "contador.select_by_visible_text(1)\n",
    "\n",
    "for pag in paginas:\n",
    "    \n",
    "    contador.select_by_visible_text(pag.text)\n",
    "    # infraTrClara eh o frame dos processos\n",
    "    html_sei = driver.page_source\n",
    "    html_sei = soup(html_sei,\"lxml\")\n",
    "    processos_abertos_sei += html_sei(\"tr\", {\"class\":'infraTrClara'})\n",
    "\n",
    "\n",
    "    #there is a counter to the next page\n",
    "    #driver.find_element_by_id(\"lnkInfraProximaPaginaSuperior\").click()\n",
    "\n",
    "        \n",
    "    #except:\n",
    "        \n",
    "     #   break\n",
    "\n",
    "\n",
    "print(\"Número de Processos: \", len(processos_abertos_sei))"
   ]
  },
  {
   "cell_type": "code",
   "execution_count": null,
   "metadata": {
    "collapsed": true
   },
   "outputs": [],
   "source": []
  },
  {
   "cell_type": "code",
   "execution_count": 45,
   "metadata": {},
   "outputs": [
    {
     "name": "stdout",
     "output_type": "stream",
     "text": [
      "<tr class=\"infraTrClara\" id=\"P103273\">\n",
      " <td align=\"center\" valign=\"top\">\n",
      "  <a id=\"lnkDetalhadoID-103273\" name=\"ID-103273\">\n",
      "  </a>\n",
      "  <input class=\"infraCheckbox\" id=\"chkDetalhadoItem0\" name=\"chkDetalhadoItem0\" onclick=\"infraSelecionarItens(this,'Detalhado');\" title=\"53504.201627/2015-66\" type=\"checkbox\" value=\"103273\"/>\n",
      " </td>\n",
      " <td align=\"center\" valign=\"top\">\n",
      "  <a href=\"controlador.php?acao=anotacao_registrar&amp;acao_origem=procedimento_controlar&amp;acao_retorno=procedimento_controlar&amp;id_protocolo=103273&amp;infra_sistema=100000100&amp;infra_unidade_atual=110001005&amp;infra_hash=96dc9c97da036b69189bf8d14a094daaabfeb35613e97cc05bfbd2e188beb98b\" onmouseout=\"return infraTooltipOcultar();\" onmouseover=\"return infraTooltipMostrar('Solicita troca estação RA tipo 3 por tipo 5 em Rio Claro SP.','fabioc');\">\n",
      "   <img class=\"imagemStatus\" src=\"imagens/sei_anotacao_pequeno.gif\"/>\n",
      "  </a>\n",
      "  <a href=\"controlador.php?acao=andamento_situacao_gerenciar&amp;acao_origem=procedimento_controlar&amp;acao_retorno=procedimento_controlar&amp;id_procedimento=103273&amp;infra_sistema=100000100&amp;infra_unidade_atual=110001005&amp;infra_hash=e9e2f032b6b3dda8d3343e36aef2410eae9985dde39596acb45481ea6a2fb2e3\" onmouseout=\"return infraTooltipOcultar();\" onmouseover=\"return infraTooltipMostrar('Outorga: Em análise');\">\n",
      "   <img class=\"imagemStatus\" src=\"imagens/sei_situacao_pequeno.png\"/>\n",
      "  </a>\n",
      "  <a href=\"controlador.php?acao=andamento_marcador_gerenciar&amp;acao_origem=procedimento_controlar&amp;acao_retorno=procedimento_controlar&amp;id_procedimento=103273&amp;infra_sistema=100000100&amp;infra_unidade_atual=110001005&amp;infra_hash=b6079515cccdf0836d628233a9801b97ad5f131d252b8819f97aac727406237a\" onmouseout=\"return infraTooltipOcultar();\" onmouseover=\"return infraTooltipMostrar('','Radioamador');\">\n",
      "   <img class=\"imagemStatus\" src=\"imagens/marcador_preto.png\"/>\n",
      "  </a>\n",
      " </td>\n",
      " <td align=\"center\" valign=\"top\">\n",
      "  <a class=\"processoVisualizado\" href=\"controlador.php?acao=procedimento_trabalhar&amp;acao_origem=procedimento_controlar&amp;acao_retorno=procedimento_controlar&amp;id_procedimento=103273&amp;infra_sistema=100000100&amp;infra_unidade_atual=110001005&amp;infra_hash=87021d3011c4fc301ecea3556d2fdd814dc5da78facb219c3ec6b9da30495f37\" onmouseout=\"return infraTooltipOcultar();\" onmouseover=\"return infraTooltipMostrar('Alteração','Outorga: Radioamador');\">\n",
      "   53504.201627/2015-66\n",
      "  </a>\n",
      " </td>\n",
      " <td align=\"left\" valign=\"top\">\n",
      "  (\n",
      "  <a class=\"ancoraSigla\" href=\"controlador.php?acao=procedimento_atribuicao_listar&amp;acao_retorno=procedimento_controlar&amp;id_usuario_atribuicao=100000503&amp;id_procedimento=103273&amp;infra_sistema=100000100&amp;infra_unidade_atual=110001005&amp;infra_hash=5d11cbe796dbad128c20c76e0c9384c8455cda97b182ea8ea6e6fa4173e7cc97\" title=\"Atribuído para Fábio José Capobianco\">\n",
      "   fabioc\n",
      "  </a>\n",
      "  )\n",
      " </td>\n",
      " <td align=\"left\" valign=\"top\">\n",
      "  Outorga: Radioamador\n",
      " </td>\n",
      " <td align=\"left\" valign=\"top\">\n",
      "  <div>\n",
      "   <div class=\"divItemCelula\">\n",
      "    <div class=\"divDiamante\">\n",
      "     ♦\n",
      "    </div>\n",
      "    <div>\n",
      "     <span class=\"spanItemCelula\">\n",
      "      Acácio Abdalla Júnior\n",
      "     </span>\n",
      "    </div>\n",
      "   </div>\n",
      "  </div>\n",
      " </td>\n",
      "</tr>\n",
      "\n"
     ]
    }
   ],
   "source": [
    "p = processos_abertos_sei[-1]\n",
    "\n",
    "print(p.prettify())\n"
   ]
  },
  {
   "cell_type": "code",
   "execution_count": 43,
   "metadata": {
    "collapsed": true,
    "scrolled": true
   },
   "outputs": [],
   "source": []
  },
  {
   "cell_type": "code",
   "execution_count": 68,
   "metadata": {
    "scrolled": true
   },
   "outputs": [
    {
     "name": "stdout",
     "output_type": "stream",
     "text": [
      "<td align=\"center\" valign=\"top\"><a id=\"lnkDetalhadoID-103273\" name=\"ID-103273\"></a><input class=\"infraCheckbox\" id=\"chkDetalhadoItem0\" name=\"chkDetalhadoItem0\" onclick=\"infraSelecionarItens(this,'Detalhado');\" title=\"53504.201627/2015-66\" type=\"checkbox\" value=\"103273\"/></td> \n",
      "\n",
      "<td align=\"center\" valign=\"top\"><a href=\"controlador.php?acao=anotacao_registrar&amp;acao_origem=procedimento_controlar&amp;acao_retorno=procedimento_controlar&amp;id_protocolo=103273&amp;infra_sistema=100000100&amp;infra_unidade_atual=110001005&amp;infra_hash=96dc9c97da036b69189bf8d14a094daaabfeb35613e97cc05bfbd2e188beb98b\" onmouseout=\"return infraTooltipOcultar();\" onmouseover=\"return infraTooltipMostrar('Solicita troca estação RA tipo 3 por tipo 5 em Rio Claro SP.','fabioc');\"><img class=\"imagemStatus\" src=\"imagens/sei_anotacao_pequeno.gif\"/></a><a href=\"controlador.php?acao=andamento_situacao_gerenciar&amp;acao_origem=procedimento_controlar&amp;acao_retorno=procedimento_controlar&amp;id_procedimento=103273&amp;infra_sistema=100000100&amp;infra_unidade_atual=110001005&amp;infra_hash=e9e2f032b6b3dda8d3343e36aef2410eae9985dde39596acb45481ea6a2fb2e3\" onmouseout=\"return infraTooltipOcultar();\" onmouseover=\"return infraTooltipMostrar('Outorga: Em análise');\"><img class=\"imagemStatus\" src=\"imagens/sei_situacao_pequeno.png\"/></a><a href=\"controlador.php?acao=andamento_marcador_gerenciar&amp;acao_origem=procedimento_controlar&amp;acao_retorno=procedimento_controlar&amp;id_procedimento=103273&amp;infra_sistema=100000100&amp;infra_unidade_atual=110001005&amp;infra_hash=b6079515cccdf0836d628233a9801b97ad5f131d252b8819f97aac727406237a\" onmouseout=\"return infraTooltipOcultar();\" onmouseover=\"return infraTooltipMostrar('','Radioamador');\"><img class=\"imagemStatus\" src=\"imagens/marcador_preto.png\"/></a></td> \n",
      "\n",
      "<td align=\"center\" valign=\"top\"><a class=\"processoVisualizado\" href=\"controlador.php?acao=procedimento_trabalhar&amp;acao_origem=procedimento_controlar&amp;acao_retorno=procedimento_controlar&amp;id_procedimento=103273&amp;infra_sistema=100000100&amp;infra_unidade_atual=110001005&amp;infra_hash=87021d3011c4fc301ecea3556d2fdd814dc5da78facb219c3ec6b9da30495f37\" onmouseout=\"return infraTooltipOcultar();\" onmouseover=\"return infraTooltipMostrar('Alteração','Outorga: Radioamador');\">53504.201627/2015-66</a></td> \n",
      "\n",
      "<td align=\"left\" valign=\"top\">(<a class=\"ancoraSigla\" href=\"controlador.php?acao=procedimento_atribuicao_listar&amp;acao_retorno=procedimento_controlar&amp;id_usuario_atribuicao=100000503&amp;id_procedimento=103273&amp;infra_sistema=100000100&amp;infra_unidade_atual=110001005&amp;infra_hash=5d11cbe796dbad128c20c76e0c9384c8455cda97b182ea8ea6e6fa4173e7cc97\" title=\"Atribuído para Fábio José Capobianco\">fabioc</a>)</td> \n",
      "\n",
      "<td align=\"left\" valign=\"top\">Outorga: Radioamador</td> \n",
      "\n",
      "<td align=\"left\" valign=\"top\"><div><div class=\"divItemCelula\"><div class=\"divDiamante\">♦  </div><div><span class=\"spanItemCelula\">Acácio Abdalla Júnior</span></div></div></div></td> \n",
      "\n"
     ]
    }
   ],
   "source": [
    "def tags_do_processo(processo):\n",
    "    \"\"\"Recebe o código fonte de um frame de processo\n",
    "    e retorna uma lista com as tags externas do frame\n",
    "    e.g. checkbox, post-it, ponto-de-controle,\n",
    "    link do processo, interessado do processo\"\"\"\n",
    "    \n",
    "    tags_do_processo = [tag for tag in p.contents if tag!='\\n']\n",
    "\n",
    "    for t in tags_do_processo:\n",
    "        \n",
    "for tag in tags_do_processo:\n",
    "    print(tag, \"\\n\" )\n"
   ]
  },
  {
   "cell_type": "code",
   "execution_count": 70,
   "metadata": {},
   "outputs": [
    {
     "data": {
      "text/plain": [
       "'53504.201627/2015-66'"
      ]
     },
     "execution_count": 70,
     "metadata": {},
     "output_type": "execute_result"
    }
   ],
   "source": [
    "tags_do_processo[2].text"
   ]
  },
  {
   "cell_type": "code",
   "execution_count": null,
   "metadata": {
    "collapsed": true
   },
   "outputs": [],
   "source": []
  }
 ],
 "metadata": {
  "kernelspec": {
   "display_name": "Python 3",
   "language": "python",
   "name": "python3"
  },
  "language_info": {
   "codemirror_mode": {
    "name": "ipython",
    "version": 3
   },
   "file_extension": ".py",
   "mimetype": "text/x-python",
   "name": "python",
   "nbconvert_exporter": "python",
   "pygments_lexer": "ipython3",
   "version": "3.6.1"
  }
 },
 "nbformat": 4,
 "nbformat_minor": 2
}
