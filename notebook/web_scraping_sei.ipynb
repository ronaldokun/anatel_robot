{
 "cells": [
  {
   "cell_type": "code",
   "execution_count": null,
   "metadata": {
    "collapsed": true
   },
   "outputs": [],
   "source": [
    "#HTML PARSER\n",
    "from bs4 import BeautifulSoup as soup\n",
    "\n",
    "# IMPORT DRIVER\n",
    "from selenium import webdriver\n",
    "from selenium.webdriver.support.ui import WebDriverWait # available since 2.4.0\n",
    "\n",
    "# WAIT AND CONDITIONS METHODS\n",
    "from selenium.common.exceptions import TimeoutException\n",
    "from selenium.webdriver.support import expected_conditions as EC # available since 2.26.0\n",
    "from selenium.webdriver.common.by import By\n",
    "\n",
    "from selenium.webdriver.common.keys import Keys\n",
    "from selenium.webdriver.support.ui import Select\n",
    "\n",
    "url = \"https://sei.anatel.gov.br\"\n",
    "#TODO Fazer a entrada de dados via sys.args\n",
    "usr = 'rsilva'\n",
    "pwd = 'Savorthemom3nts'"
   ]
  },
  {
   "cell_type": "code",
   "execution_count": null,
   "metadata": {
    "collapsed": true
   },
   "outputs": [],
   "source": [
    "def init_driver():\n",
    "    \n",
    "    # Create an instance of Chrome\n",
    "    driver = webdriver.Chrome()\n",
    "    driver.wait = WebDriverWait(driver, 10)\n",
    "    \n",
    "    return driver"
   ]
  },
  {
   "cell_type": "code",
   "execution_count": null,
   "metadata": {
    "collapsed": true
   },
   "outputs": [],
   "source": [
    "def loga_sei_chrome(url, usr, pwd):\n",
    "    \n",
    "    \"\"\"Navigate to url, make login and return and instance of browser\"\"\"\n",
    "\n",
    "    #TODO fazer isso de uma maneira decente\n",
    "\n",
    "    # he driver.get method will navigate to a page given by the URL. \n",
    "    driver.get(url)\n",
    "    \n",
    "    try:\n",
    "        \n",
    "        usuario = driver.wait.until(\n",
    "        EC.presence_of_element_located((By.ID, \"txtUsuario\")))\n",
    "        \n",
    "        senha = driver.wait.until(\n",
    "            EC.presence_of_element_located((By.ID, \"pwdSenha\")))\n",
    "        \n",
    "        # Clear any clutter on the form \n",
    "        usuario.clear()\n",
    "        usuario.send_keys(usr)\n",
    "\n",
    "        senha.clear()\n",
    "        senha.send_keys(pwd)\n",
    "\n",
    "        # Hit Enter\n",
    "        senha.send_keys(Keys.RETURN)\n",
    "\n",
    "    except ElementNotVisibleException:\n",
    "        print(\"Pagina de login do SEI não carrega atualmente\")\n",
    "       \n",
    "    assert \"No results found.\" not in driver.page_source\n",
    "\n",
    "    return"
   ]
  },
  {
   "cell_type": "code",
   "execution_count": null,
   "metadata": {
    "collapsed": true
   },
   "outputs": [],
   "source": [
    "driver = init_driver()\n",
    "\n",
    "loga_sei_chrome(url, usr, pwd)"
   ]
  },
  {
   "cell_type": "code",
   "execution_count": null,
   "metadata": {
    "collapsed": true
   },
   "outputs": [],
   "source": [
    "# Verifica se está na visualização restrita, caso estiver clica para geral\n",
    "try: \n",
    "    ver_todos_processos = driver.wait.until(\n",
    "        EC.element_to_be_clickable((By.ID, \"ancVisualizacao1\")))\n",
    "    \n",
    "    if ver_todos_processos.text == 'Ver todos os processos':\n",
    "        ver_todos_processos.click()\n",
    "    \n",
    "except:\n",
    "    print(\"Ocorreu algum erro na Visualização dos Processos\")\n",
    "\n",
    "# Verifica se está na visualização detalhada senão muda para ela\n",
    "try:\n",
    "    visualizacao_detalhada = driver.wait.until(\n",
    "    EC.element_to_be_clickable((By.ID, 'ancTipoVisualizacao')))\n",
    "    \n",
    "    if visualizacao_detalhada.text == 'Visualização detalhada':\n",
    "        visualizacao_detalhada.click()\n",
    "    \n",
    "except:\n",
    "    print(\"Ocorreu algum erro ao acessar a visualização detalhada dos processos\")   \n"
   ]
  },
  {
   "cell_type": "code",
   "execution_count": null,
   "metadata": {},
   "outputs": [],
   "source": [
    "# Verifica se está na primeira página\n",
    "try:\n",
    "    driver.find_element_by_id(\"lnkInfraPrimeiraPaginaSuperior\").click()\n",
    "    \n",
    "except:\n",
    "    print(\"Página de Processos Inicial\")"
   ]
  },
  {
   "cell_type": "code",
   "execution_count": null,
   "metadata": {},
   "outputs": [],
   "source": [
    "processos_abertos_sei = []\n",
    "\n",
    "contador = Select(driver.find_element_by_id('selInfraPaginacaoSuperior'))\n",
    "\n",
    "for i in contador.options:\n",
    "    print(i.text)"
   ]
  },
  {
   "cell_type": "code",
   "execution_count": null,
   "metadata": {},
   "outputs": [],
   "source": [
    "processos_abertos_sei = []\n",
    "\n",
    "contador = Select(driver.find_element_by_id('selInfraPaginacaoSuperior'))\n",
    "\n",
    "paginas = len(contador.options)\n",
    "\n",
    "contador.select_by_visible_text(1)\n",
    "\n",
    "for pag in paginas:\n",
    "    \n",
    "    contador.select_by_visible_text(pag.text)\n",
    "    # infraTrClara eh o frame dos processos\n",
    "    html_sei = driver.page_source\n",
    "    html_sei = soup(html_sei,\"lxml\")\n",
    "    processos_abertos_sei += html_sei(\"tr\", {\"class\":'infraTrClara'})\n",
    "\n",
    "\n",
    "    #there is a counter to the next page\n",
    "    #driver.find_element_by_id(\"lnkInfraProximaPaginaSuperior\").click()\n",
    "\n",
    "        \n",
    "    #except:\n",
    "        \n",
    "     #   break\n",
    "\n",
    "\n",
    "print(\"Número de Processos: \", len(processos_abertos_sei))"
   ]
  },
  {
   "cell_type": "code",
   "execution_count": null,
   "metadata": {
    "collapsed": true
   },
   "outputs": [],
   "source": []
  },
  {
   "cell_type": "code",
   "execution_count": null,
   "metadata": {},
   "outputs": [],
   "source": [
    "p = processos_abertos_sei[-1]\n",
    "\n",
    "print(p.prettify())\n"
   ]
  },
  {
   "cell_type": "code",
   "execution_count": null,
   "metadata": {
    "collapsed": true,
    "scrolled": true
   },
   "outputs": [],
   "source": []
  },
  {
   "cell_type": "code",
   "execution_count": null,
   "metadata": {
    "scrolled": true
   },
   "outputs": [],
   "source": [
    "def tags_do_processo(processo):\n",
    "    \"\"\"Recebe o código fonte de um frame de processo\n",
    "    e retorna uma lista com as tags externas do frame\n",
    "    e.g. checkbox, post-it, ponto-de-controle,\n",
    "    link do processo, interessado do processo\"\"\"\n",
    "    \n",
    "    tags_do_processo = [tag for tag in p.contents if tag!='\\n']\n",
    "\n",
    "    for t in tags_do_processo:\n",
    "        \n",
    "for tag in tags_do_processo:\n",
    "    print(tag, \"\\n\" )\n"
   ]
  },
  {
   "cell_type": "code",
   "execution_count": null,
   "metadata": {},
   "outputs": [],
   "source": [
    "tags_do_processo[2].text"
   ]
  },
  {
   "cell_type": "code",
   "execution_count": null,
   "metadata": {
    "collapsed": true
   },
   "outputs": [],
   "source": []
  }
 ],
 "metadata": {
  "kernelspec": {
   "display_name": "Python 3",
   "language": "python",
   "name": "python3"
  },
  "language_info": {
   "codemirror_mode": {
    "name": "ipython",
    "version": 3
   },
   "file_extension": ".py",
   "mimetype": "text/x-python",
   "name": "python",
   "nbconvert_exporter": "python",
   "pygments_lexer": "ipython3",
   "version": "3.6.1"
  }
 },
 "nbformat": 4,
 "nbformat_minor": 2
}
