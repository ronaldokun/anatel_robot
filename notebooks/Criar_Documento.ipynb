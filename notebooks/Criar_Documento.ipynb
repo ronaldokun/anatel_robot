{
 "cells": [
  {
   "cell_type": "markdown",
   "metadata": {},
   "source": [
    "## Importando as bibliotecas Necessárias"
   ]
  },
  {
   "cell_type": "code",
   "execution_count": 1,
   "metadata": {},
   "outputs": [],
   "source": [
    "#Importação necessária para ajustar o PATH e o script encontrar os módulos\n",
    "import context\n",
    "\n",
    "#Standard Lib imports\n",
    "import sys, os\n",
    "from pathlib import Path\n",
    "import getpass\n",
    "\n",
    "\n",
    "# Third party imports\n",
    "import pandas as pd\n",
    "\n",
    "# Local application imports\n",
    "from sei import sei\n",
    "\n",
    "\n",
    "%reload_ext autoreload\n",
    "%autoreload 2"
   ]
  },
  {
   "cell_type": "markdown",
   "metadata": {},
   "source": [
    "## Dados de Login\n",
    "Dessa maneira seus dados de usuários são somente salvos nessa sessão e não são expostos."
   ]
  },
  {
   "cell_type": "code",
   "execution_count": 2,
   "metadata": {},
   "outputs": [
    {
     "name": "stdout",
     "output_type": "stream",
     "text": [
      "Olá rsilva\n",
      "Digite sua Senha: ········\n"
     ]
    }
   ],
   "source": [
    "USR = getpass.getuser()\n",
    "print(f'Olá {USR}')\n",
    "PWD = getpass.getpass(\"Digite sua Senha: \")"
   ]
  },
  {
   "cell_type": "markdown",
   "metadata": {},
   "source": [
    "## Dados a serem Utilizados na Criação dos Processos."
   ]
  },
  {
   "cell_type": "code",
   "execution_count": 9,
   "metadata": {},
   "outputs": [],
   "source": [
    "DOC = Path(\"C:/Users/rsilva/Documents/Maria/FUST.xlsx\")"
   ]
  },
  {
   "cell_type": "code",
   "execution_count": 10,
   "metadata": {},
   "outputs": [],
   "source": [
    "df = pd.read_excel(DOC)"
   ]
  },
  {
   "cell_type": "code",
   "execution_count": 11,
   "metadata": {},
   "outputs": [
    {
     "data": {
      "text/html": [
       "<div>\n",
       "<style scoped>\n",
       "    .dataframe tbody tr th:only-of-type {\n",
       "        vertical-align: middle;\n",
       "    }\n",
       "\n",
       "    .dataframe tbody tr th {\n",
       "        vertical-align: top;\n",
       "    }\n",
       "\n",
       "    .dataframe thead th {\n",
       "        text-align: right;\n",
       "    }\n",
       "</style>\n",
       "<table border=\"1\" class=\"dataframe\">\n",
       "  <thead>\n",
       "    <tr style=\"text-align: right;\">\n",
       "      <th></th>\n",
       "      <th>Tipo do Processo</th>\n",
       "      <th>Especificação</th>\n",
       "      <th>Interessado</th>\n",
       "      <th>Nível de Acesso</th>\n",
       "      <th>#</th>\n",
       "      <th>Projeto</th>\n",
       "      <th>Título</th>\n",
       "      <th>Subtema</th>\n",
       "    </tr>\n",
       "  </thead>\n",
       "  <tbody>\n",
       "    <tr>\n",
       "      <th>187</th>\n",
       "      <td>Fiscalização: Tributário</td>\n",
       "      <td>Funttel: TM SOLUTIONS - TECNOLOGIA DA INFORMAC...</td>\n",
       "      <td>67726505000109</td>\n",
       "      <td>Público</td>\n",
       "      <td>24078</td>\n",
       "      <td>SEXEC</td>\n",
       "      <td>SOL_SEXEC_2020_0292</td>\n",
       "      <td>Tributário - FUNTTEL</td>\n",
       "    </tr>\n",
       "    <tr>\n",
       "      <th>188</th>\n",
       "      <td>Fiscalização: Tributário</td>\n",
       "      <td>Funttel: SKY BRASIL SERVIÇOS LTDA.  (728208220...</td>\n",
       "      <td>72820822000120</td>\n",
       "      <td>Público</td>\n",
       "      <td>24080</td>\n",
       "      <td>SEXEC</td>\n",
       "      <td>SOL_SEXEC_2020_0294</td>\n",
       "      <td>Tributário - FUNTTEL</td>\n",
       "    </tr>\n",
       "    <tr>\n",
       "      <th>189</th>\n",
       "      <td>Fiscalização: Tributário</td>\n",
       "      <td>Funttel: CENTURYLINK COMUNICACOES DO BRASIL LT...</td>\n",
       "      <td>72843212000141</td>\n",
       "      <td>Público</td>\n",
       "      <td>24081</td>\n",
       "      <td>SEXEC</td>\n",
       "      <td>SOL_SEXEC_2020_0295</td>\n",
       "      <td>Tributário - FUNTTEL</td>\n",
       "    </tr>\n",
       "    <tr>\n",
       "      <th>190</th>\n",
       "      <td>Fiscalização: Tributário</td>\n",
       "      <td>Funttel: BIT-TEC TECNOLOGIA LTDA.  (7289755600...</td>\n",
       "      <td>72897556000133</td>\n",
       "      <td>Público</td>\n",
       "      <td>24082</td>\n",
       "      <td>SEXEC</td>\n",
       "      <td>SOL_SEXEC_2020_0296</td>\n",
       "      <td>Tributário - FUNTTEL</td>\n",
       "    </tr>\n",
       "    <tr>\n",
       "      <th>191</th>\n",
       "      <td>Fiscalização: Tributário</td>\n",
       "      <td>Funttel: BT LATAM BRASIL LTDA  (74280256000136)</td>\n",
       "      <td>74280256000136</td>\n",
       "      <td>Público</td>\n",
       "      <td>24084</td>\n",
       "      <td>SEXEC</td>\n",
       "      <td>SOL_SEXEC_2020_0298</td>\n",
       "      <td>Tributário - FUNTTEL</td>\n",
       "    </tr>\n",
       "  </tbody>\n",
       "</table>\n",
       "</div>"
      ],
      "text/plain": [
       "             Tipo do Processo  \\\n",
       "187  Fiscalização: Tributário   \n",
       "188  Fiscalização: Tributário   \n",
       "189  Fiscalização: Tributário   \n",
       "190  Fiscalização: Tributário   \n",
       "191  Fiscalização: Tributário   \n",
       "\n",
       "                                         Especificação     Interessado  \\\n",
       "187  Funttel: TM SOLUTIONS - TECNOLOGIA DA INFORMAC...  67726505000109   \n",
       "188  Funttel: SKY BRASIL SERVIÇOS LTDA.  (728208220...  72820822000120   \n",
       "189  Funttel: CENTURYLINK COMUNICACOES DO BRASIL LT...  72843212000141   \n",
       "190  Funttel: BIT-TEC TECNOLOGIA LTDA.  (7289755600...  72897556000133   \n",
       "191    Funttel: BT LATAM BRASIL LTDA  (74280256000136)  74280256000136   \n",
       "\n",
       "    Nível de Acesso      # Projeto               Título               Subtema  \n",
       "187         Público  24078   SEXEC  SOL_SEXEC_2020_0292  Tributário - FUNTTEL  \n",
       "188         Público  24080   SEXEC  SOL_SEXEC_2020_0294  Tributário - FUNTTEL  \n",
       "189         Público  24081   SEXEC  SOL_SEXEC_2020_0295  Tributário - FUNTTEL  \n",
       "190         Público  24082   SEXEC  SOL_SEXEC_2020_0296  Tributário - FUNTTEL  \n",
       "191         Público  24084   SEXEC  SOL_SEXEC_2020_0298  Tributário - FUNTTEL  "
      ]
     },
     "execution_count": 11,
     "metadata": {},
     "output_type": "execute_result"
    }
   ],
   "source": [
    "df.tail()"
   ]
  },
  {
   "cell_type": "code",
   "execution_count": 12,
   "metadata": {},
   "outputs": [],
   "source": [
    "funtel = df[(df['Especificação'].str.contains('Funttel'))]"
   ]
  },
  {
   "cell_type": "code",
   "execution_count": 13,
   "metadata": {},
   "outputs": [
    {
     "data": {
      "text/html": [
       "<div>\n",
       "<style scoped>\n",
       "    .dataframe tbody tr th:only-of-type {\n",
       "        vertical-align: middle;\n",
       "    }\n",
       "\n",
       "    .dataframe tbody tr th {\n",
       "        vertical-align: top;\n",
       "    }\n",
       "\n",
       "    .dataframe thead th {\n",
       "        text-align: right;\n",
       "    }\n",
       "</style>\n",
       "<table border=\"1\" class=\"dataframe\">\n",
       "  <thead>\n",
       "    <tr style=\"text-align: right;\">\n",
       "      <th></th>\n",
       "      <th>Tipo do Processo</th>\n",
       "      <th>Especificação</th>\n",
       "      <th>Interessado</th>\n",
       "      <th>Nível de Acesso</th>\n",
       "      <th>#</th>\n",
       "      <th>Projeto</th>\n",
       "      <th>Título</th>\n",
       "      <th>Subtema</th>\n",
       "    </tr>\n",
       "  </thead>\n",
       "  <tbody>\n",
       "    <tr>\n",
       "      <th>96</th>\n",
       "      <td>Fiscalização: Tributário</td>\n",
       "      <td>Funttel: SKY SERVICOS DE BANDA LARGA LTDA.  (0...</td>\n",
       "      <td>497373000110</td>\n",
       "      <td>Público</td>\n",
       "      <td>23584</td>\n",
       "      <td>SEXEC</td>\n",
       "      <td>SOL_SEXEC_2020_0003</td>\n",
       "      <td>Tributário - FUNTTEL</td>\n",
       "    </tr>\n",
       "    <tr>\n",
       "      <th>97</th>\n",
       "      <td>Fiscalização: Tributário</td>\n",
       "      <td>Funttel: FALKLAND TECNOLOGIA EM TELECOMUNICAÇÕ...</td>\n",
       "      <td>1009876000161</td>\n",
       "      <td>Público</td>\n",
       "      <td>23593</td>\n",
       "      <td>SEXEC</td>\n",
       "      <td>SOL_SEXEC_2020_0012</td>\n",
       "      <td>Tributário - FUNTTEL</td>\n",
       "    </tr>\n",
       "    <tr>\n",
       "      <th>98</th>\n",
       "      <td>Fiscalização: Tributário</td>\n",
       "      <td>Funttel: UOL DIVEO TECNOLOGIA LTDA.  (01588770...</td>\n",
       "      <td>1588770000160</td>\n",
       "      <td>Público</td>\n",
       "      <td>23598</td>\n",
       "      <td>SEXEC</td>\n",
       "      <td>SOL_SEXEC_2020_0017</td>\n",
       "      <td>Tributário - FUNTTEL</td>\n",
       "    </tr>\n",
       "    <tr>\n",
       "      <th>99</th>\n",
       "      <td>Fiscalização: Tributário</td>\n",
       "      <td>Funttel: AMERICA NET LTDA  (01778972000174)</td>\n",
       "      <td>1778972000174</td>\n",
       "      <td>Público</td>\n",
       "      <td>23601</td>\n",
       "      <td>SEXEC</td>\n",
       "      <td>SOL_SEXEC_2020_0020</td>\n",
       "      <td>Tributário - FUNTTEL</td>\n",
       "    </tr>\n",
       "    <tr>\n",
       "      <th>100</th>\n",
       "      <td>Fiscalização: Tributário</td>\n",
       "      <td>Funttel: BRASIL TELECOM COMUNICACAO MULTIMIDIA...</td>\n",
       "      <td>2041460000193</td>\n",
       "      <td>Público</td>\n",
       "      <td>23603</td>\n",
       "      <td>SEXEC</td>\n",
       "      <td>SOL_SEXEC_2020_0022</td>\n",
       "      <td>Tributário - FUNTTEL</td>\n",
       "    </tr>\n",
       "  </tbody>\n",
       "</table>\n",
       "</div>"
      ],
      "text/plain": [
       "             Tipo do Processo  \\\n",
       "96   Fiscalização: Tributário   \n",
       "97   Fiscalização: Tributário   \n",
       "98   Fiscalização: Tributário   \n",
       "99   Fiscalização: Tributário   \n",
       "100  Fiscalização: Tributário   \n",
       "\n",
       "                                         Especificação    Interessado  \\\n",
       "96   Funttel: SKY SERVICOS DE BANDA LARGA LTDA.  (0...   497373000110   \n",
       "97   Funttel: FALKLAND TECNOLOGIA EM TELECOMUNICAÇÕ...  1009876000161   \n",
       "98   Funttel: UOL DIVEO TECNOLOGIA LTDA.  (01588770...  1588770000160   \n",
       "99         Funttel: AMERICA NET LTDA  (01778972000174)  1778972000174   \n",
       "100  Funttel: BRASIL TELECOM COMUNICACAO MULTIMIDIA...  2041460000193   \n",
       "\n",
       "    Nível de Acesso      # Projeto               Título               Subtema  \n",
       "96          Público  23584   SEXEC  SOL_SEXEC_2020_0003  Tributário - FUNTTEL  \n",
       "97          Público  23593   SEXEC  SOL_SEXEC_2020_0012  Tributário - FUNTTEL  \n",
       "98          Público  23598   SEXEC  SOL_SEXEC_2020_0017  Tributário - FUNTTEL  \n",
       "99          Público  23601   SEXEC  SOL_SEXEC_2020_0020  Tributário - FUNTTEL  \n",
       "100         Público  23603   SEXEC  SOL_SEXEC_2020_0022  Tributário - FUNTTEL  "
      ]
     },
     "execution_count": 13,
     "metadata": {},
     "output_type": "execute_result"
    }
   ],
   "source": [
    "funtel.head()"
   ]
  },
  {
   "cell_type": "code",
   "execution_count": 14,
   "metadata": {},
   "outputs": [
    {
     "ename": "ValueError",
     "evalue": "Must have equal len keys and value when setting with an iterable",
     "output_type": "error",
     "traceback": [
      "\u001b[1;31m---------------------------------------------------------------------------\u001b[0m",
      "\u001b[1;31mValueError\u001b[0m                                Traceback (most recent call last)",
      "\u001b[1;32m<ipython-input-14-a582b3a4b64d>\u001b[0m in \u001b[0;36m<module>\u001b[1;34m\u001b[0m\n\u001b[1;32m----> 1\u001b[1;33m \u001b[0mfuntel\u001b[0m\u001b[1;33m.\u001b[0m\u001b[0mloc\u001b[0m\u001b[1;33m[\u001b[0m\u001b[1;33m:\u001b[0m \u001b[1;33m(\u001b[0m\u001b[1;34m'Nome'\u001b[0m\u001b[1;33m)\u001b[0m\u001b[1;33m]\u001b[0m \u001b[1;33m=\u001b[0m \u001b[0mfuntel\u001b[0m\u001b[1;33m.\u001b[0m\u001b[0mloc\u001b[0m\u001b[1;33m[\u001b[0m\u001b[1;33m:\u001b[0m\u001b[1;33m,\u001b[0m \u001b[1;34m\"Especificação\"\u001b[0m\u001b[1;33m]\u001b[0m\u001b[1;33m.\u001b[0m\u001b[0mstr\u001b[0m\u001b[1;33m.\u001b[0m\u001b[0mreplace\u001b[0m\u001b[1;33m(\u001b[0m\u001b[1;34m'Funttel: '\u001b[0m\u001b[1;33m,\u001b[0m \u001b[1;34m\"\"\u001b[0m\u001b[1;33m)\u001b[0m\u001b[1;33m\u001b[0m\u001b[1;33m\u001b[0m\u001b[0m\n\u001b[0m",
      "\u001b[1;32mc:\\users\\rsilva\\code\\anatelbot\\.venv\\lib\\site-packages\\pandas\\core\\indexing.py\u001b[0m in \u001b[0;36m__setitem__\u001b[1;34m(self, key, value)\u001b[0m\n\u001b[0;32m    203\u001b[0m             \u001b[0mkey\u001b[0m \u001b[1;33m=\u001b[0m \u001b[0mcom\u001b[0m\u001b[1;33m.\u001b[0m\u001b[0mapply_if_callable\u001b[0m\u001b[1;33m(\u001b[0m\u001b[0mkey\u001b[0m\u001b[1;33m,\u001b[0m \u001b[0mself\u001b[0m\u001b[1;33m.\u001b[0m\u001b[0mobj\u001b[0m\u001b[1;33m)\u001b[0m\u001b[1;33m\u001b[0m\u001b[1;33m\u001b[0m\u001b[0m\n\u001b[0;32m    204\u001b[0m         \u001b[0mindexer\u001b[0m \u001b[1;33m=\u001b[0m \u001b[0mself\u001b[0m\u001b[1;33m.\u001b[0m\u001b[0m_get_setitem_indexer\u001b[0m\u001b[1;33m(\u001b[0m\u001b[0mkey\u001b[0m\u001b[1;33m)\u001b[0m\u001b[1;33m\u001b[0m\u001b[1;33m\u001b[0m\u001b[0m\n\u001b[1;32m--> 205\u001b[1;33m         \u001b[0mself\u001b[0m\u001b[1;33m.\u001b[0m\u001b[0m_setitem_with_indexer\u001b[0m\u001b[1;33m(\u001b[0m\u001b[0mindexer\u001b[0m\u001b[1;33m,\u001b[0m \u001b[0mvalue\u001b[0m\u001b[1;33m)\u001b[0m\u001b[1;33m\u001b[0m\u001b[1;33m\u001b[0m\u001b[0m\n\u001b[0m\u001b[0;32m    206\u001b[0m \u001b[1;33m\u001b[0m\u001b[0m\n\u001b[0;32m    207\u001b[0m     \u001b[1;32mdef\u001b[0m \u001b[0m_validate_key\u001b[0m\u001b[1;33m(\u001b[0m\u001b[0mself\u001b[0m\u001b[1;33m,\u001b[0m \u001b[0mkey\u001b[0m\u001b[1;33m,\u001b[0m \u001b[0maxis\u001b[0m\u001b[1;33m:\u001b[0m \u001b[0mint\u001b[0m\u001b[1;33m)\u001b[0m\u001b[1;33m:\u001b[0m\u001b[1;33m\u001b[0m\u001b[1;33m\u001b[0m\u001b[0m\n",
      "\u001b[1;32mc:\\users\\rsilva\\code\\anatelbot\\.venv\\lib\\site-packages\\pandas\\core\\indexing.py\u001b[0m in \u001b[0;36m_setitem_with_indexer\u001b[1;34m(self, indexer, value)\u001b[0m\n\u001b[0;32m    545\u001b[0m                     \u001b[1;32mif\u001b[0m \u001b[0mlen\u001b[0m\u001b[1;33m(\u001b[0m\u001b[0mlabels\u001b[0m\u001b[1;33m)\u001b[0m \u001b[1;33m!=\u001b[0m \u001b[0mlen\u001b[0m\u001b[1;33m(\u001b[0m\u001b[0mvalue\u001b[0m\u001b[1;33m)\u001b[0m\u001b[1;33m:\u001b[0m\u001b[1;33m\u001b[0m\u001b[1;33m\u001b[0m\u001b[0m\n\u001b[0;32m    546\u001b[0m                         raise ValueError(\n\u001b[1;32m--> 547\u001b[1;33m                             \u001b[1;34m\"Must have equal len keys and value \"\u001b[0m\u001b[1;33m\u001b[0m\u001b[1;33m\u001b[0m\u001b[0m\n\u001b[0m\u001b[0;32m    548\u001b[0m                             \u001b[1;34m\"when setting with an iterable\"\u001b[0m\u001b[1;33m\u001b[0m\u001b[1;33m\u001b[0m\u001b[0m\n\u001b[0;32m    549\u001b[0m                         )\n",
      "\u001b[1;31mValueError\u001b[0m: Must have equal len keys and value when setting with an iterable"
     ]
    }
   ],
   "source": [
    "funtel.loc[: ('Nome')] = funtel.loc[:, \"Especificação\"].str.replace('Funttel: ', \"\")"
   ]
  },
  {
   "cell_type": "code",
   "execution_count": null,
   "metadata": {},
   "outputs": [],
   "source": [
    "funtel.head()"
   ]
  },
  {
   "cell_type": "code",
   "execution_count": 54,
   "metadata": {},
   "outputs": [
    {
     "data": {
      "text/html": [
       "<div>\n",
       "<style scoped>\n",
       "    .dataframe tbody tr th:only-of-type {\n",
       "        vertical-align: middle;\n",
       "    }\n",
       "\n",
       "    .dataframe tbody tr th {\n",
       "        vertical-align: top;\n",
       "    }\n",
       "\n",
       "    .dataframe thead th {\n",
       "        text-align: right;\n",
       "    }\n",
       "</style>\n",
       "<table border=\"1\" class=\"dataframe\">\n",
       "  <thead>\n",
       "    <tr style=\"text-align: right;\">\n",
       "      <th></th>\n",
       "      <th>Tipo do Processo</th>\n",
       "      <th>Especificação</th>\n",
       "      <th>Interessado</th>\n",
       "      <th>Nível de Acesso</th>\n",
       "      <th>#</th>\n",
       "      <th>Projeto</th>\n",
       "      <th>Título</th>\n",
       "      <th>Subtema</th>\n",
       "    </tr>\n",
       "  </thead>\n",
       "  <tbody>\n",
       "    <tr>\n",
       "      <th>0</th>\n",
       "      <td>Fiscalização: Tributário</td>\n",
       "      <td>Fust:  SKY SERVICOS DE BANDA LARGA LTDA.  (004...</td>\n",
       "      <td>497373000110</td>\n",
       "      <td>Público</td>\n",
       "      <td>24111</td>\n",
       "      <td>AFFO</td>\n",
       "      <td>SOL_AFFO_2020_0004</td>\n",
       "      <td>Tributário - FUST</td>\n",
       "    </tr>\n",
       "    <tr>\n",
       "      <th>1</th>\n",
       "      <td>Fiscalização: Tributário</td>\n",
       "      <td>Fust:  FALKLAND TECNOLOGIA EM TELECOMUNICAÇÕES...</td>\n",
       "      <td>1009876000161</td>\n",
       "      <td>Público</td>\n",
       "      <td>24120</td>\n",
       "      <td>AFFO</td>\n",
       "      <td>SOL_AFFO_2020_0013</td>\n",
       "      <td>Tributário - FUST</td>\n",
       "    </tr>\n",
       "    <tr>\n",
       "      <th>2</th>\n",
       "      <td>Fiscalização: Tributário</td>\n",
       "      <td>Fust:  UOL DIVEO TECNOLOGIA LTDA.  (0158877000...</td>\n",
       "      <td>1588770000160</td>\n",
       "      <td>Público</td>\n",
       "      <td>24125</td>\n",
       "      <td>AFFO</td>\n",
       "      <td>SOL_AFFO_2020_0018</td>\n",
       "      <td>Tributário - FUST</td>\n",
       "    </tr>\n",
       "    <tr>\n",
       "      <th>3</th>\n",
       "      <td>Fiscalização: Tributário</td>\n",
       "      <td>Fust:  AMERICA NET LTDA  (01778972000174)</td>\n",
       "      <td>1778972000174</td>\n",
       "      <td>Público</td>\n",
       "      <td>24128</td>\n",
       "      <td>AFFO</td>\n",
       "      <td>SOL_AFFO_2020_0021</td>\n",
       "      <td>Tributário - FUST</td>\n",
       "    </tr>\n",
       "    <tr>\n",
       "      <th>4</th>\n",
       "      <td>Fiscalização: Tributário</td>\n",
       "      <td>Fust:  BRASIL TELECOM COMUNICACAO MULTIMIDIA L...</td>\n",
       "      <td>2041460000193</td>\n",
       "      <td>Público</td>\n",
       "      <td>24130</td>\n",
       "      <td>AFFO</td>\n",
       "      <td>SOL_AFFO_2020_0023</td>\n",
       "      <td>Tributário - FUST</td>\n",
       "    </tr>\n",
       "  </tbody>\n",
       "</table>\n",
       "</div>"
      ],
      "text/plain": [
       "           Tipo do Processo  \\\n",
       "0  Fiscalização: Tributário   \n",
       "1  Fiscalização: Tributário   \n",
       "2  Fiscalização: Tributário   \n",
       "3  Fiscalização: Tributário   \n",
       "4  Fiscalização: Tributário   \n",
       "\n",
       "                                       Especificação    Interessado  \\\n",
       "0  Fust:  SKY SERVICOS DE BANDA LARGA LTDA.  (004...   497373000110   \n",
       "1  Fust:  FALKLAND TECNOLOGIA EM TELECOMUNICAÇÕES...  1009876000161   \n",
       "2  Fust:  UOL DIVEO TECNOLOGIA LTDA.  (0158877000...  1588770000160   \n",
       "3          Fust:  AMERICA NET LTDA  (01778972000174)  1778972000174   \n",
       "4  Fust:  BRASIL TELECOM COMUNICACAO MULTIMIDIA L...  2041460000193   \n",
       "\n",
       "  Nível de Acesso      # Projeto              Título            Subtema  \n",
       "0         Público  24111    AFFO  SOL_AFFO_2020_0004  Tributário - FUST  \n",
       "1         Público  24120    AFFO  SOL_AFFO_2020_0013  Tributário - FUST  \n",
       "2         Público  24125    AFFO  SOL_AFFO_2020_0018  Tributário - FUST  \n",
       "3         Público  24128    AFFO  SOL_AFFO_2020_0021  Tributário - FUST  \n",
       "4         Público  24130    AFFO  SOL_AFFO_2020_0023  Tributário - FUST  "
      ]
     },
     "execution_count": 54,
     "metadata": {},
     "output_type": "execute_result"
    }
   ],
   "source": [
    "fust = df[(df['Especificação'].str.contains('Fust'))] ; fust.head()"
   ]
  },
  {
   "cell_type": "markdown",
   "metadata": {},
   "source": [
    "## Loga no sei e atribui o objeto retornado à variável pagina"
   ]
  },
  {
   "cell_type": "code",
   "execution_count": 16,
   "metadata": {},
   "outputs": [],
   "source": [
    "pagina = sei.login_sei(USR, PWD, browser='Chrome', timeout=5, teste=True)"
   ]
  },
  {
   "cell_type": "code",
   "execution_count": 19,
   "metadata": {},
   "outputs": [],
   "source": [
    "pagina.mudar_lotação(\"GR01FI3\")"
   ]
  },
  {
   "cell_type": "code",
   "execution_count": null,
   "metadata": {},
   "outputs": [],
   "source": [
    "def detalhes(exemplo):\n",
    "    \n",
    "    tipo = exemplo['Tipo do Processo']\n",
    "    especificacao = exemplo['Especificação']\n",
    "    interessado= exemplo['Interessado']\n",
    "    obs = \"Subtema: \"+exemplo[\"Subtema\"] + \"\\n\" + \"# \" + str(exemplo[\"#\"]) + \"\\n\" + \"Projeto: \"+exemplo[\"Projeto\"] + \"\\n\" \\\n",
    "          + \"Título: \"+exemplo[\"Título\"]\n",
    "    nivel = \"Público\"\n",
    "    \n",
    "    return tipo, especificacao, interessado, obs, nivel\n",
    "    "
   ]
  },
  {
   "cell_type": "code",
   "execution_count": 55,
   "metadata": {},
   "outputs": [],
   "source": [
    "index = 0"
   ]
  },
  {
   "cell_type": "code",
   "execution_count": null,
   "metadata": {},
   "outputs": [],
   "source": [
    "for i, row in fust.iloc[index:].iterrows():\n",
    "    t, e, i, o, n = detalhes(row)\n",
    "    s.criar_processo(t, e, i, o, n, True)\n",
    "    index = i"
   ]
  },
  {
   "cell_type": "code",
   "execution_count": 21,
   "metadata": {},
   "outputs": [],
   "source": [
    "pagina.itera_processos()"
   ]
  },
  {
   "cell_type": "code",
   "execution_count": null,
   "metadata": {},
   "outputs": [],
   "source": []
  }
 ],
 "metadata": {
  "kernelspec": {
   "display_name": "anatelbot",
   "language": "python",
   "name": "anatelbot"
  },
  "language_info": {
   "codemirror_mode": {
    "name": "ipython",
    "version": 3
   },
   "file_extension": ".py",
   "mimetype": "text/x-python",
   "name": "python",
   "nbconvert_exporter": "python",
   "pygments_lexer": "ipython3",
   "version": "3.7.5"
  },
  "toc": {
   "base_numbering": 1,
   "nav_menu": {},
   "number_sections": true,
   "sideBar": true,
   "skip_h1_title": false,
   "title_cell": "Table of Contents",
   "title_sidebar": "Contents",
   "toc_cell": false,
   "toc_position": {},
   "toc_section_display": true,
   "toc_window_display": false
  },
  "varInspector": {
   "cols": {
    "lenName": 16,
    "lenType": 16,
    "lenVar": 40
   },
   "kernels_config": {
    "python": {
     "delete_cmd_postfix": "",
     "delete_cmd_prefix": "del ",
     "library": "var_list.py",
     "varRefreshCmd": "print(var_dic_list())"
    },
    "r": {
     "delete_cmd_postfix": ") ",
     "delete_cmd_prefix": "rm(",
     "library": "var_list.r",
     "varRefreshCmd": "cat(var_dic_list()) "
    }
   },
   "types_to_exclude": [
    "module",
    "function",
    "builtin_function_or_method",
    "instance",
    "_Feature"
   ],
   "window_display": false
  }
 },
 "nbformat": 4,
 "nbformat_minor": 4
}
