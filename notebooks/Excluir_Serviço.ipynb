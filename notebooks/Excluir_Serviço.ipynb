{
 "cells": [
  {
   "cell_type": "code",
   "execution_count": null,
   "metadata": {
    "ExecuteTime": {
     "end_time": "2019-12-12T19:13:49.780020Z",
     "start_time": "2019-12-12T19:13:49.598902Z"
    }
   },
   "outputs": [],
   "source": [
    "import os\n",
    "import pandas as pd\n",
    "from datetime import date, datetime\n",
    "from tqdm import tqdm, tqdm_notebook\n",
    "from time import sleep\n",
    "\n",
    "os.chdir(\"C:/Users/rsilva/Code/anatelbot/\")\n",
    "\n",
    "from sistemas.sistemas import Slmm, Slma\n",
    "import selenium.webdriver as webdriver\n",
    "from selenium.common.exceptions import TimeoutException\n",
    "\n",
    "DF = r\"C:\\Users\\rsilva\\Google Drive\\anatel\\Cassacao\\Serviços.xlsm\"\n",
    "SHEET = \"Cassação_MM\"\n",
    "CLASS = Slmm\n",
    "\n",
    "\n",
    "%reload_ext autoreload\n",
    "%autoreload 2"
   ]
  },
  {
   "cell_type": "code",
   "execution_count": null,
   "metadata": {
    "ExecuteTime": {
     "end_time": "2019-12-12T19:11:06.537723Z",
     "start_time": "2019-12-12T19:11:05.073412Z"
    }
   },
   "outputs": [],
   "source": [
    "driver = webdriver.Edge()"
   ]
  },
  {
   "cell_type": "code",
   "execution_count": null,
   "metadata": {
    "ExecuteTime": {
     "end_time": "2019-12-12T19:13:52.266810Z",
     "start_time": "2019-12-12T19:13:52.093143Z"
    }
   },
   "outputs": [],
   "source": [
    "instance = CLASS(driver)\n",
    "instance.page.timeout = 2"
   ]
  },
  {
   "cell_type": "code",
   "execution_count": null,
   "metadata": {
    "ExecuteTime": {
     "end_time": "2019-12-12T19:14:13.445652Z",
     "start_time": "2019-12-12T19:14:13.261843Z"
    }
   },
   "outputs": [],
   "source": [
    "cols = [\"Fistel\", \"CNPJ/CPF\", \"Nome/Razão Social\", \"Validade_RF\", \"Processo\"]"
   ]
  },
  {
   "cell_type": "code",
   "execution_count": null,
   "metadata": {
    "ExecuteTime": {
     "end_time": "2019-12-12T19:25:30.724351Z",
     "start_time": "2019-12-12T19:25:23.858579Z"
    }
   },
   "outputs": [],
   "source": [
    "df = pd.read_excel(DF, SHEET, usecols=cols,dtype=str, na_values=\"\", parse_dates=True)"
   ]
  },
  {
   "cell_type": "code",
   "execution_count": null,
   "metadata": {
    "ExecuteTime": {
     "end_time": "2019-12-12T19:25:31.268801Z",
     "start_time": "2019-12-12T19:25:31.100294Z"
    }
   },
   "outputs": [],
   "source": [
    "df.head()"
   ]
  },
  {
   "cell_type": "code",
   "execution_count": null,
   "metadata": {
    "ExecuteTime": {
     "end_time": "2019-12-12T19:25:31.812953Z",
     "start_time": "2019-12-12T19:25:31.646928Z"
    }
   },
   "outputs": [],
   "source": [
    "PROC = r\"53504.005855/2019-31\"\n",
    "DOC = \"5020764\""
   ]
  },
  {
   "cell_type": "code",
   "execution_count": null,
   "metadata": {
    "ExecuteTime": {
     "end_time": "2019-12-12T19:25:32.352912Z",
     "start_time": "2019-12-12T19:25:32.189125Z"
    }
   },
   "outputs": [],
   "source": [
    "df = df[((df.Processo == PROC) & (df.Validade_RF < \"2019-12-01\"))]"
   ]
  },
  {
   "cell_type": "code",
   "execution_count": null,
   "metadata": {
    "ExecuteTime": {
     "end_time": "2019-12-12T19:25:32.898508Z",
     "start_time": "2019-12-12T19:25:32.726909Z"
    }
   },
   "outputs": [],
   "source": [
    "df.tail()"
   ]
  },
  {
   "cell_type": "code",
   "execution_count": null,
   "metadata": {
    "ExecuteTime": {
     "end_time": "2019-12-12T19:25:33.450071Z",
     "start_time": "2019-12-12T19:25:33.283415Z"
    }
   },
   "outputs": [],
   "source": [
    "df.shape"
   ]
  },
  {
   "cell_type": "code",
   "execution_count": null,
   "metadata": {
    "ExecuteTime": {
     "end_time": "2019-12-12T19:25:36.141567Z",
     "start_time": "2019-12-12T19:25:35.971378Z"
    }
   },
   "outputs": [],
   "source": [
    "proc = PROC.replace('/', '')"
   ]
  },
  {
   "cell_type": "code",
   "execution_count": null,
   "metadata": {
    "ExecuteTime": {
     "end_time": "2019-12-12T19:27:42.596124Z",
     "start_time": "2019-12-12T19:25:41.522916Z"
    }
   },
   "outputs": [],
   "source": [
    "for i, reg in enumerate(tqdm_notebook(df.itertuples(), total=df.shape[0])):\n",
    "    \n",
    "    try:\n",
    "        \n",
    "        instance.servico_excluir(reg.Fistel, tipo_id=\"id_fistel\", documento=DOC, motivo=\"Cassação\", \n",
    "                                 num_proc=proc)\n",
    "    except TimeoutException:\n",
    "        continue #print(reg.Fistel)        \n",
    "        \n",
    "\n"
   ]
  }
 ],
 "metadata": {
  "jupytext": {
   "encoding": "# -*- coding: utf-8 -*-",
   "formats": "ipynb,py:percent"
  },
  "kernelspec": {
   "display_name": "Python [conda env:automation]",
   "language": "python",
   "name": "conda-env-automation-py"
  },
  "language_info": {
   "codemirror_mode": {
    "name": "ipython",
    "version": 3
   },
   "file_extension": ".py",
   "mimetype": "text/x-python",
   "name": "python",
   "nbconvert_exporter": "python",
   "pygments_lexer": "ipython3",
   "version": "3.7.3"
  },
  "toc": {
   "base_numbering": 1,
   "nav_menu": {},
   "number_sections": true,
   "sideBar": true,
   "skip_h1_title": false,
   "title_cell": "Table of Contents",
   "title_sidebar": "Contents",
   "toc_cell": false,
   "toc_position": {},
   "toc_section_display": true,
   "toc_window_display": false
  },
  "varInspector": {
   "cols": {
    "lenName": 16,
    "lenType": 16,
    "lenVar": 40
   },
   "kernels_config": {
    "python": {
     "delete_cmd_postfix": "",
     "delete_cmd_prefix": "del ",
     "library": "var_list.py",
     "varRefreshCmd": "print(var_dic_list())"
    },
    "r": {
     "delete_cmd_postfix": ") ",
     "delete_cmd_prefix": "rm(",
     "library": "var_list.r",
     "varRefreshCmd": "cat(var_dic_list()) "
    }
   },
   "types_to_exclude": [
    "module",
    "function",
    "builtin_function_or_method",
    "instance",
    "_Feature"
   ],
   "window_display": false
  }
 },
 "nbformat": 4,
 "nbformat_minor": 2
}
