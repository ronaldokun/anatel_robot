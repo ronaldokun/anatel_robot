{
 "cells": [
  {
   "cell_type": "code",
   "execution_count": 4,
   "metadata": {
    "ExecuteTime": {
     "end_time": "2019-12-13T18:21:48.285895Z",
     "start_time": "2019-12-13T18:21:48.227022Z"
    }
   },
   "outputs": [
    {
     "ename": "ModuleNotFoundError",
     "evalue": "No module named 'pandas'",
     "output_type": "error",
     "traceback": [
      "\u001b[1;31m---------------------------------------------------------------------------\u001b[0m",
      "\u001b[1;31mModuleNotFoundError\u001b[0m                       Traceback (most recent call last)",
      "\u001b[1;32m<ipython-input-4-9b8f7af27fcb>\u001b[0m in \u001b[0;36m<module>\u001b[1;34m\u001b[0m\n\u001b[0;32m      8\u001b[0m \u001b[1;33m\u001b[0m\u001b[0m\n\u001b[0;32m      9\u001b[0m \u001b[1;31m# Third party imports\u001b[0m\u001b[1;33m\u001b[0m\u001b[1;33m\u001b[0m\u001b[1;33m\u001b[0m\u001b[0m\n\u001b[1;32m---> 10\u001b[1;33m \u001b[1;32mimport\u001b[0m \u001b[0mpandas\u001b[0m \u001b[1;32mas\u001b[0m \u001b[0mpd\u001b[0m\u001b[1;33m\u001b[0m\u001b[1;33m\u001b[0m\u001b[0m\n\u001b[0m\u001b[0;32m     11\u001b[0m \u001b[1;33m\u001b[0m\u001b[0m\n\u001b[0;32m     12\u001b[0m \u001b[1;31m# Local application imports\u001b[0m\u001b[1;33m\u001b[0m\u001b[1;33m\u001b[0m\u001b[1;33m\u001b[0m\u001b[0m\n",
      "\u001b[1;31mModuleNotFoundError\u001b[0m: No module named 'pandas'"
     ]
    }
   ],
   "source": [
    "#Standard Lib imports\n",
    "import sys, os\n",
    "from pathlib import Path\n",
    "import getpass\n",
    "from tqdm import tqdm_notebook\n",
    "from time import sleep\n",
    "\n",
    "\n",
    "# Third party imports\n",
    "import pandas as pd\n",
    "\n",
    "# Local application imports\n",
    "from sei import sei\n",
    "from selenium.webdriver.support.ui import Select\n",
    "\n",
    "#USR = getpass.getuser()\n",
    "USR = 'rsilva'\n",
    "print(f'Olá {USR}')\n",
    "PWD = getpass.getpass(\"Digite sua Senha: \")\n",
    "%load_ext autoreload\n",
    "%autoreload 2"
   ]
  },
  {
   "cell_type": "code",
   "execution_count": 2,
   "metadata": {
    "ExecuteTime": {
     "end_time": "2019-12-13T17:30:11.568347Z",
     "start_time": "2019-12-13T17:30:10.589708Z"
    }
   },
   "outputs": [
    {
     "name": "stdout",
     "output_type": "stream",
     "text": [
      "Package            Version  \n",
      "------------------ ---------\n",
      "appdirs            1.4.3    \n",
      "aspy.yaml          1.3.0    \n",
      "atomicwrites       1.3.0    \n",
      "attrs              19.3.0   \n",
      "backcall           0.1.0    \n",
      "beautifulsoup4     4.8.1    \n",
      "black              19.10b0  \n",
      "cfgv               2.0.1    \n",
      "Click              7.0      \n",
      "colorama           0.4.3    \n",
      "coverage           4.5.4    \n",
      "decorator          4.4.1    \n",
      "entrypoints        0.3      \n",
      "flake8             3.7.9    \n",
      "identify           1.4.8    \n",
      "importlib-metadata 1.3.0    \n",
      "ipykernel          5.1.3    \n",
      "ipython            7.10.1   \n",
      "ipython-genutils   0.2.0    \n",
      "isort              4.3.21   \n",
      "jedi               0.15.1   \n",
      "jupyter-client     5.3.4    \n",
      "jupyter-core       4.6.1    \n",
      "mccabe             0.6.1    \n",
      "more-itertools     8.0.2    \n",
      "mypy               0.750    \n",
      "mypy-extensions    0.4.3    \n",
      "nodeenv            1.3.3    \n",
      "numpy              1.17.4   \n",
      "packaging          19.2     \n",
      "pandas             0.25.3   \n",
      "parso              0.5.1    \n",
      "pathspec           0.6.0    \n",
      "pickleshare        0.7.5    \n",
      "pip                19.3.1   \n",
      "pluggy             0.13.1   \n",
      "pre-commit         1.20.0   \n",
      "prompt-toolkit     3.0.2    \n",
      "py                 1.8.0    \n",
      "pycodestyle        2.5.0    \n",
      "pyflakes           2.1.1    \n",
      "Pygments           2.5.2    \n",
      "pyparsing          2.4.5    \n",
      "pytest             5.3.1    \n",
      "pytest-cov         2.8.1    \n",
      "python-dateutil    2.8.1    \n",
      "pytz               2019.3   \n",
      "pywin32            227      \n",
      "PyYAML             5.2      \n",
      "pyzmq              18.1.1   \n",
      "regex              2019.12.9\n",
      "selenium           3.141.0  \n",
      "setuptools         42.0.2   \n",
      "six                1.13.0   \n",
      "soupsieve          1.9.5    \n",
      "toml               0.10.0   \n",
      "tornado            6.0.3    \n",
      "traitlets          4.3.3    \n",
      "typed-ast          1.4.0    \n",
      "typing-extensions  3.7.4.1  \n",
      "urllib3            1.25.7   \n",
      "virtualenv         16.7.8   \n",
      "wcwidth            0.1.7    \n",
      "wheel              0.33.6   \n",
      "zipp               0.6.0    \n"
     ]
    }
   ],
   "source": [
    "!pip list"
   ]
  },
  {
   "cell_type": "code",
   "execution_count": 5,
   "metadata": {
    "ExecuteTime": {
     "end_time": "2019-12-13T17:19:58.866460Z",
     "start_time": "2019-12-13T17:19:58.850836Z"
    }
   },
   "outputs": [],
   "source": [
    "??unicodedata"
   ]
  },
  {
   "cell_type": "code",
   "execution_count": null,
   "metadata": {
    "ExecuteTime": {
     "end_time": "2019-12-09T21:19:51.447243Z",
     "start_time": "2019-12-09T21:19:37.507453Z"
    }
   },
   "outputs": [],
   "source": [
    "s = sei.login_sei(USR, PWD, browser='Firefox', timeout=1, teste=True)"
   ]
  },
  {
   "cell_type": "code",
   "execution_count": 3,
   "metadata": {
    "ExecuteTime": {
     "end_time": "2019-12-09T20:17:35.761659Z",
     "start_time": "2019-12-09T20:17:35.523805Z"
    }
   },
   "outputs": [],
   "source": [
    "df = pd.read_excel(FILE, dtype=str)"
   ]
  },
  {
   "cell_type": "code",
   "execution_count": 7,
   "metadata": {
    "ExecuteTime": {
     "end_time": "2019-12-09T20:18:24.638374Z",
     "start_time": "2019-12-09T20:18:24.522609Z"
    }
   },
   "outputs": [
    {
     "data": {
      "text/plain": [
       "array(['Concluído', 'Aberto'], dtype=object)"
      ]
     },
     "execution_count": 7,
     "metadata": {},
     "output_type": "execute_result"
    }
   ],
   "source": [
    "df['Situação do Processo'].unique()"
   ]
  },
  {
   "cell_type": "code",
   "execution_count": 26,
   "metadata": {
    "ExecuteTime": {
     "end_time": "2019-12-09T20:55:18.560766Z",
     "start_time": "2019-12-09T20:55:18.444600Z"
    }
   },
   "outputs": [],
   "source": [
    "df['Alterado'] = \"Não\""
   ]
  },
  {
   "cell_type": "code",
   "execution_count": 45,
   "metadata": {
    "ExecuteTime": {
     "end_time": "2019-12-09T21:43:01.585487Z",
     "start_time": "2019-12-09T21:43:01.482578Z"
    }
   },
   "outputs": [],
   "source": [
    "def alterar_acesso(link, nivel='Restrito', hip='Informação Pessoal (Art. 31 da Lei nº 12.527/2011)'):    \n",
    "\n",
    "    s.go(link)\n",
    "    p = sei.Processo(s.page, row[\"Processo\"])\n",
    "    sleep(1)\n",
    "    \n",
    "    acoes = p._get_acoes(click=False)\n",
    "#     if acoes.get(\"Reabrir Processo\"):\n",
    "#         with p._go_to_central_frame():\n",
    "#             p.page._click_button_new_win(acoes['Reabrir Processo'])\n",
    "#             return\n",
    "            \n",
    "#         s.go(link)\n",
    "#         p = sei.Processo(s.page, row[\"Processo\"])\n",
    "#         sleep(1)\n",
    "    \n",
    "    acao = acoes.get(\"Consultar/Alterar Documento\")\n",
    "    if not acao:\n",
    "        acao = acoes.get(\"Consultar/Alterar Documento Externo\")\n",
    "        \n",
    "    if acao:\n",
    "        with p._go_to_central_frame():\n",
    "            p.page._click_button_new_win(acao)\n",
    "            p.page._clicar(('xpath', f'//*[@id=\"opt{nivel}\"]'))                \n",
    "            if nivel == 'Restrito':\n",
    "                hip = Select(p.page.wait_for_element_to_click(('xpath', '//*[@id=\"selHipoteseLegal\"]')))\n",
    "                hip.select_by_value(\"35\") #.select_by_visible_text(hip)                    \n",
    "            p.page._clicar(('xpath', '//*[@id=\"btnSalvar\"]'))\n",
    "            return True\n",
    "    \n",
    "    return False"
   ]
  },
  {
   "cell_type": "code",
   "execution_count": 26,
   "metadata": {
    "ExecuteTime": {
     "end_time": "2019-12-09T19:21:42.236371Z",
     "start_time": "2019-12-09T19:21:42.105286Z"
    }
   },
   "outputs": [
    {
     "data": {
      "application/vnd.jupyter.widget-view+json": {
       "model_id": "3409163b32014c4b9bb349c46f30e5ed",
       "version_major": 2,
       "version_minor": 0
      },
      "text/plain": [
       "HBox(children=(IntProgress(value=1, bar_style='info', max=1), HTML(value='')))"
      ]
     },
     "metadata": {},
     "output_type": "display_data"
    },
    {
     "name": "stdout",
     "output_type": "stream",
     "text": [
      "\n"
     ]
    }
   ],
   "source": [
    "sub = df[df['Situação do Processo'] == \"Concluir\"]\n",
    "for i, row in tqdm_notebook(sub.iterrows(), total=sub.shape[0]):\n",
    "    p = s.go(row['Link SEI'])\n",
    "    p = sei.Processo(s.page, row[\"Processo\"])\n",
    "    #sleep(1)\n",
    "    #p.concluir_processo()\n",
    "    df.loc[i, \"Situação do Processo\"] = \"OK\""
   ]
  },
  {
   "cell_type": "code",
   "execution_count": 49,
   "metadata": {
    "ExecuteTime": {
     "end_time": "2019-12-09T22:23:05.064843Z",
     "start_time": "2019-12-09T22:21:50.242458Z"
    }
   },
   "outputs": [
    {
     "data": {
      "application/vnd.jupyter.widget-view+json": {
       "model_id": "2057f6bd0d7c439bb33e81aadd81258b",
       "version_major": 2,
       "version_minor": 0
      },
      "text/plain": [
       "HBox(children=(IntProgress(value=0, max=34), HTML(value='')))"
      ]
     },
     "metadata": {},
     "output_type": "display_data"
    },
    {
     "name": "stdout",
     "output_type": "stream",
     "text": [
      "\n"
     ]
    }
   ],
   "source": [
    "sub = df[df.Alterado == \"Erro\"]\n",
    "for i, row in tqdm_notebook(sub.iterrows(), total=sub.shape[0]):\n",
    "    if alterar_acesso(link=row['Link SEI'], nivel='Restrito', hip=r'Fiscalização / Investigação da Anatel (Art. 174 da Lei nº 9.472/1997)'):\n",
    "        df.loc[i, 'Alterado'] = 'Sim'\n",
    "    else:\n",
    "        df.loc[i, 'Alterado'] = 'Erro'    "
   ]
  },
  {
   "cell_type": "code",
   "execution_count": 51,
   "metadata": {
    "ExecuteTime": {
     "end_time": "2019-12-09T22:24:04.764858Z",
     "start_time": "2019-12-09T22:24:04.310756Z"
    }
   },
   "outputs": [],
   "source": [
    "df.to_csv(FILE.parent / 'FI3.csv', index=False)"
   ]
  },
  {
   "cell_type": "code",
   "execution_count": null,
   "metadata": {},
   "outputs": [],
   "source": []
  }
 ],
 "metadata": {
  "kernelspec": {
   "display_name": "anatelbot",
   "language": "python",
   "name": "anatelbot"
  },
  "language_info": {
   "codemirror_mode": {
    "name": "ipython",
    "version": 3
   },
   "file_extension": ".py",
   "mimetype": "text/x-python",
   "name": "python",
   "nbconvert_exporter": "python",
   "pygments_lexer": "ipython3",
   "version": "3.7.1"
  },
  "toc": {
   "base_numbering": 1,
   "nav_menu": {},
   "number_sections": true,
   "sideBar": true,
   "skip_h1_title": false,
   "title_cell": "Table of Contents",
   "title_sidebar": "Contents",
   "toc_cell": false,
   "toc_position": {},
   "toc_section_display": true,
   "toc_window_display": false
  },
  "varInspector": {
   "cols": {
    "lenName": 16,
    "lenType": 16,
    "lenVar": 40
   },
   "kernels_config": {
    "python": {
     "delete_cmd_postfix": "",
     "delete_cmd_prefix": "del ",
     "library": "var_list.py",
     "varRefreshCmd": "print(var_dic_list())"
    },
    "r": {
     "delete_cmd_postfix": ") ",
     "delete_cmd_prefix": "rm(",
     "library": "var_list.r",
     "varRefreshCmd": "cat(var_dic_list()) "
    }
   },
   "types_to_exclude": [
    "module",
    "function",
    "builtin_function_or_method",
    "instance",
    "_Feature"
   ],
   "window_display": false
  }
 },
 "nbformat": 4,
 "nbformat_minor": 2
}
