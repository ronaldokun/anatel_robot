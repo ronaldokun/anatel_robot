{
 "cells": [
  {
   "cell_type": "code",
   "execution_count": 1,
   "metadata": {
    "ExecuteTime": {
     "end_time": "2021-02-10T17:23:43.065959Z",
     "start_time": "2021-02-10T17:23:28.231515Z"
    }
   },
   "outputs": [
    {
     "name": "stdin",
     "output_type": "stream",
     "text": [
      "Digite sua Senha:  ··········\n"
     ]
    },
    {
     "name": "stdout",
     "output_type": "stream",
     "text": [
      "Olá rsilva\n"
     ]
    }
   ],
   "source": [
    "#Standard Lib imports\n",
    "import sys, os\n",
    "from pathlib import Path\n",
    "import getpass\n",
    "from time import sleep\n",
    "from tqdm.notebook import tqdm\n",
    "from fastcore.utils import parallel\n",
    "from fastcore.foundation import L\n",
    "\n",
    "\n",
    "\n",
    "# Third party imports\n",
    "import pandas as pd\n",
    "\n",
    "# Insert in Path Project Directory\n",
    "sys.path.insert(0, str(Path().cwd().parent))\n",
    "\n",
    "# Local application imports\n",
    "from sei import sei\n",
    "from selenium.webdriver.support.ui import Select\n",
    "\n",
    "USR = getpass.getuser()\n",
    "PWD = getpass.getpass(\"Digite sua Senha: \")\n",
    "print(f'Olá {USR}')\n",
    "\n",
    "%load_ext autoreload\n",
    "%autoreload 2"
   ]
  },
  {
   "cell_type": "code",
   "execution_count": 2,
   "metadata": {},
   "outputs": [],
   "source": [
    "FILE = Path(r\"D:\\OneDrive - ANATEL\\GR01FI3\\Denúncias\\Denúncias_PRD.xlsx\")\n",
    "saida = Path(r'C:\\Users\\rsilva\\Downloads\\pendentes')"
   ]
  },
  {
   "cell_type": "code",
   "execution_count": 12,
   "metadata": {
    "ExecuteTime": {
     "end_time": "2021-02-10T17:26:02.291540Z",
     "start_time": "2021-02-10T17:25:44.423377Z"
    }
   },
   "outputs": [],
   "source": [
    "s = sei.login_sei(USR, PWD, browser='Chrome', timeout=5, teste=False, is_headless=False)"
   ]
  },
  {
   "cell_type": "code",
   "execution_count": 17,
   "metadata": {},
   "outputs": [],
   "source": [
    "# s.page.driver.get('http://sistemas.anatel.gov.br/se/public/view/b/srd.php')\n",
    "\n",
    "# s.page.driver.execute_script(\"toggleFilter();\")\n",
    "\n",
    "# from selenium.webdriver.common.keys import Keys\n",
    "# s.page._atualizar_elemento(('id', 'fc_0'), '50407081810' + Keys.RETURN)\n",
    "\n",
    "# s.page._clicar(('xpath', '//*[@id=\"aplTbl\"]/tbody/tr[2]/td[1]/button'))"
   ]
  },
  {
   "cell_type": "code",
   "execution_count": null,
   "metadata": {},
   "outputs": [],
   "source": [
    "s.mudar_lotação(\"GR01OR\")"
   ]
  },
  {
   "cell_type": "code",
   "execution_count": 4,
   "metadata": {
    "ExecuteTime": {
     "end_time": "2019-12-09T20:17:35.761659Z",
     "start_time": "2019-12-09T20:17:35.523805Z"
    }
   },
   "outputs": [],
   "source": [
    "df = pd.read_excel(FILE, dtype='str', engine='openpyxl', sheet_name='Dados')"
   ]
  },
  {
   "cell_type": "code",
   "execution_count": 5,
   "metadata": {},
   "outputs": [],
   "source": [
    "df = df.iloc[:, [0, 4]]\n",
    "df.columns = ['Protocolo', 'Processo']"
   ]
  },
  {
   "cell_type": "code",
   "execution_count": 6,
   "metadata": {},
   "outputs": [],
   "source": [
    "df = df[df.Processo.notna()]\n",
    "df = df[df.Processo != ' ']\n",
    "df = df[df.Processo != '']"
   ]
  },
  {
   "cell_type": "code",
   "execution_count": 13,
   "metadata": {},
   "outputs": [
    {
     "data": {
      "application/vnd.jupyter.widget-view+json": {
       "model_id": "66bf5c1e09bf43b2a6564a88796da001",
       "version_major": 2,
       "version_minor": 0
      },
      "text/plain": [
       "  0%|          | 0/329 [00:00<?, ?it/s]"
      ]
     },
     "metadata": {},
     "output_type": "display_data"
    },
    {
     "name": "stdout",
     "output_type": "stream",
     "text": [
      "Não foi possível acessar o frame central\n",
      "Não foi possível acessar o frame central\n"
     ]
    }
   ],
   "source": [
    "for row in tqdm(list(df.itertuples())[::-1]):\n",
    "    while True:\n",
    "        try:\n",
    "            s.go_to_processo(row.Processo)\n",
    "            p = sei.Processo(s.page, row.Processo)\n",
    "            sleep(5)\n",
    "            acoes = p._get_acoes(click=False)\n",
    "            if acoes.get(\"Reabrir Processo\"):\n",
    "                with p._go_to_central_frame():\n",
    "                    #p.page._clica_abre_nova_janela(acoes['Reabrir Processo'])\n",
    "                    p.page._clicar(acoes['Reabrir Processo'])\n",
    "            break\n",
    "        except TimeoutError:\n",
    "            pass            "
   ]
  },
  {
   "cell_type": "code",
   "execution_count": 20,
   "metadata": {},
   "outputs": [
    {
     "data": {
      "text/plain": [
       "' '"
      ]
     },
     "execution_count": 20,
     "metadata": {},
     "output_type": "execute_result"
    }
   ],
   "source": [
    "row.Processo"
   ]
  },
  {
   "cell_type": "code",
   "execution_count": null,
   "metadata": {},
   "outputs": [],
   "source": [
    "#df = df[(df['Unidade'].isin(['GR01OR'])) & (df['Nível de Acesso'] == 'Público')].reset_index(drop=True)"
   ]
  },
  {
   "cell_type": "code",
   "execution_count": 27,
   "metadata": {
    "ExecuteTime": {
     "end_time": "2019-12-09T20:18:24.638374Z",
     "start_time": "2019-12-09T20:18:24.522609Z"
    }
   },
   "outputs": [
    {
     "data": {
      "text/html": [
       "<div>\n",
       "<style scoped>\n",
       "    .dataframe tbody tr th:only-of-type {\n",
       "        vertical-align: middle;\n",
       "    }\n",
       "\n",
       "    .dataframe tbody tr th {\n",
       "        vertical-align: top;\n",
       "    }\n",
       "\n",
       "    .dataframe thead th {\n",
       "        text-align: right;\n",
       "    }\n",
       "</style>\n",
       "<table border=\"1\" class=\"dataframe\">\n",
       "  <thead>\n",
       "    <tr style=\"text-align: right;\">\n",
       "      <th></th>\n",
       "      <th>Unidade</th>\n",
       "      <th>Processo</th>\n",
       "      <th>Documento</th>\n",
       "      <th>Link SEI</th>\n",
       "      <th>Tipo de Documento</th>\n",
       "      <th>Situação do Processo</th>\n",
       "    </tr>\n",
       "  </thead>\n",
       "  <tbody>\n",
       "    <tr>\n",
       "      <th>0</th>\n",
       "      <td>GR01FI3</td>\n",
       "      <td>53500.006847/2016-07</td>\n",
       "      <td>0370249</td>\n",
       "      <td>https://sei.anatel.gov.br/sei/controlador.php?...</td>\n",
       "      <td>Carta</td>\n",
       "      <td>Concluído</td>\n",
       "    </tr>\n",
       "    <tr>\n",
       "      <th>1</th>\n",
       "      <td>GR01FI3</td>\n",
       "      <td>53504.000294/2020-17</td>\n",
       "      <td>6386998</td>\n",
       "      <td>https://sei.anatel.gov.br/sei/controlador.php?...</td>\n",
       "      <td>Auto</td>\n",
       "      <td>Aberto</td>\n",
       "    </tr>\n",
       "    <tr>\n",
       "      <th>2</th>\n",
       "      <td>GR01FI3</td>\n",
       "      <td>53504.000830/2017-89</td>\n",
       "      <td>1138974</td>\n",
       "      <td>https://sei.anatel.gov.br/sei/controlador.php?...</td>\n",
       "      <td>Ofício</td>\n",
       "      <td>Concluído</td>\n",
       "    </tr>\n",
       "    <tr>\n",
       "      <th>3</th>\n",
       "      <td>GR01FI3</td>\n",
       "      <td>53504.001140/2017-47</td>\n",
       "      <td>1163595</td>\n",
       "      <td>https://sei.anatel.gov.br/sei/controlador.php?...</td>\n",
       "      <td>Ofício</td>\n",
       "      <td>Concluído</td>\n",
       "    </tr>\n",
       "    <tr>\n",
       "      <th>4</th>\n",
       "      <td>GR01FI3</td>\n",
       "      <td>53504.001796/2019-21</td>\n",
       "      <td>3872836</td>\n",
       "      <td>https://sei.anatel.gov.br/sei/controlador.php?...</td>\n",
       "      <td>Conteúdo de Mídia</td>\n",
       "      <td>Concluído</td>\n",
       "    </tr>\n",
       "  </tbody>\n",
       "</table>\n",
       "</div>"
      ],
      "text/plain": [
       "   Unidade              Processo Documento  \\\n",
       "0  GR01FI3  53500.006847/2016-07   0370249   \n",
       "1  GR01FI3  53504.000294/2020-17   6386998   \n",
       "2  GR01FI3  53504.000830/2017-89   1138974   \n",
       "3  GR01FI3  53504.001140/2017-47   1163595   \n",
       "4  GR01FI3  53504.001796/2019-21   3872836   \n",
       "\n",
       "                                            Link SEI  Tipo de Documento  \\\n",
       "0  https://sei.anatel.gov.br/sei/controlador.php?...              Carta   \n",
       "1  https://sei.anatel.gov.br/sei/controlador.php?...               Auto   \n",
       "2  https://sei.anatel.gov.br/sei/controlador.php?...             Ofício   \n",
       "3  https://sei.anatel.gov.br/sei/controlador.php?...             Ofício   \n",
       "4  https://sei.anatel.gov.br/sei/controlador.php?...  Conteúdo de Mídia   \n",
       "\n",
       "  Situação do Processo  \n",
       "0            Concluído  \n",
       "1               Aberto  \n",
       "2            Concluído  \n",
       "3            Concluído  \n",
       "4            Concluído  "
      ]
     },
     "execution_count": 27,
     "metadata": {},
     "output_type": "execute_result"
    }
   ],
   "source": [
    "df.head()"
   ]
  },
  {
   "cell_type": "code",
   "execution_count": 20,
   "metadata": {},
   "outputs": [],
   "source": [
    "df.loc[:, 'Alterado'] = 'Não'"
   ]
  },
  {
   "cell_type": "code",
   "execution_count": 22,
   "metadata": {
    "ExecuteTime": {
     "end_time": "2019-12-09T21:43:01.585487Z",
     "start_time": "2019-12-09T21:43:01.482578Z"
    }
   },
   "outputs": [],
   "source": [
    "def alterar_acesso(row, nivel='Restrito', hip='Informação Pessoal (Art. 31 da Lei nº 12.527/2011)'):\n",
    "    s.go(row['Link SEI'])\n",
    "    sleep(5)            \n",
    "    p = sei.Processo(s.page, row[\"Processo\"])\n",
    "#     p.armazena_arvore()\n",
    "#     keys = L(p.arvore.keys())\n",
    "#     i = keys.argwhere(lambda x:row['Documento'] in x)[0]\n",
    "#     key = keys[i]\n",
    "#     with p._go_to_arvore():\n",
    "#         if p.page.check_element_exists(('id', f'anchorNA{p.arvore[key][\"id\"].split(\"anchor\")[-1]}')):\n",
    "#             #p.page.driver.maximize_window()\n",
    "#             p.page.driver.save_screenshot(f\"{saida}/{row['Processo'].replace('/', '')}.png\")\n",
    "#             return True\n",
    "        \n",
    "    sleep(5)\n",
    "            \n",
    "    acoes = p._get_acoes(click=False)\n",
    "    if acoes.get(\"Reabrir Processo\"):\n",
    "        with p._go_to_central_frame():\n",
    "            #p.page._clica_abre_nova_janela(acoes['Reabrir Processo'])\n",
    "            p.page._clicar(acoes['Reabrir Processo'])\n",
    "                        \n",
    "        s.go(row['SEI'])\n",
    "        p = sei.Processo(s.page, row[\"Processo\"])\n",
    "        sleep(5)\n",
    "    \n",
    "    \n",
    "    acao = acoes.get(\"Consultar/Alterar Documento\")\n",
    "    if not acao:\n",
    "        acao = acoes.get(\"Consultar/Alterar Documento Externo\")\n",
    "    if acao:\n",
    "        with p._go_to_central_frame():\n",
    "            #with p.page._clica_abre_nova_janela(acao):\n",
    "            p.page._clicar(acao)\n",
    "            p.page._clicar(('xpath', f'//*[@id=\"opt{nivel}\"]'))                \n",
    "            if nivel == 'Restrito':\n",
    "                p.page._selecionar_por_texto(('xpath', '//*[@id=\"selHipoteseLegal\"]'), hip)                                  \n",
    "            p.page._clicar(('xpath', '//*[@id=\"btnSalvar\"]'))\n",
    "            return True    \n",
    "    return False"
   ]
  },
  {
   "cell_type": "code",
   "execution_count": 8,
   "metadata": {},
   "outputs": [],
   "source": [
    "rows = list(df.sample(frac=1).iterrows())"
   ]
  },
  {
   "cell_type": "code",
   "execution_count": null,
   "metadata": {},
   "outputs": [],
   "source": [
    "#parallel(alterar_acesso, rows, pause=1)"
   ]
  },
  {
   "cell_type": "code",
   "execution_count": 33,
   "metadata": {
    "ExecuteTime": {
     "end_time": "2019-12-09T22:23:05.064843Z",
     "start_time": "2019-12-09T22:21:50.242458Z"
    }
   },
   "outputs": [
    {
     "data": {
      "application/vnd.jupyter.widget-view+json": {
       "model_id": "cf4b39eefb474097b03f3170294d3288",
       "version_major": 2,
       "version_minor": 0
      },
      "text/plain": [
       "HBox(children=(HTML(value=''), FloatProgress(value=0.0, max=46.0), HTML(value='')))"
      ]
     },
     "metadata": {},
     "output_type": "display_data"
    },
    {
     "name": "stdout",
     "output_type": "stream",
     "text": [
      "Erro: 53504.005695/2016-87\n",
      "Erro: 53504.003582/2016-47\n",
      "Erro: 53500.006847/2016-07\n",
      "Erro: 53504.005298/2016-13\n",
      "Erro: 53504.001140/2017-47\n",
      "Erro: 53504.002270/2017-05\n",
      "Erro: 53504.003684/2016-62\n",
      "Erro: 53504.008890/2016-69\n",
      "Erro: 53504.005256/2017-55\n",
      "Erro: 53504.001796/2019-21\n",
      "Erro: 53504.005013/2016-36\n",
      "Erro: 53504.007241/2016-41\n",
      "Erro: 53504.013360/2016-32\n",
      "Erro: 53504.006695/2017-85\n",
      "Erro: 53504.005245/2017-75\n",
      "Erro: 53504.003968/2016-59\n",
      "Erro: 53504.005221/2016-35\n",
      "Erro: 53504.005626/2016-73\n",
      "Erro: 53504.005470/2018-92\n",
      "Erro: 53504.003550/2016-41\n",
      "Erro: 53504.011168/2016-10\n",
      "Erro: 53504.003273/2016-77\n",
      "Erro: 53504.004244/2016-22\n",
      "Erro: 53504.003112/2017-64\n",
      "Erro: 53504.004511/2016-61\n",
      "Erro: 53504.000830/2017-89\n",
      "Erro: 53504.005877/2016-58\n",
      "Erro: 53504.004758/2016-88\n",
      "Erro: 53504.005060/2016-80\n",
      "Erro: 53504.005256/2017-55\n",
      "\n"
     ]
    }
   ],
   "source": [
    "for i, row in tqdm(rows):\n",
    "    if alterar_acesso(row, hip=r'Fiscalização / Investigação da Anatel (Art. 174 da Lei nº 9.472/1997)'):\n",
    "        df.loc[i, 'Alterado'] = 'Sim'\n",
    "    else:\n",
    "        df.loc[i, 'Alterado'] = 'Erro'\n",
    "        print(f\"Erro: {row['Processo']}\")"
   ]
  },
  {
   "cell_type": "code",
   "execution_count": null,
   "metadata": {},
   "outputs": [],
   "source": [
    "df[df.Alterado == 'Erro'].to_excel(r'C:\\Users\\rsilva\\Downloads\\erro3.xlsx', index=False)"
   ]
  },
  {
   "cell_type": "code",
   "execution_count": null,
   "metadata": {},
   "outputs": [],
   "source": [
    "concluir_processos = df.loc[(df.Alterado == 'Sim') & (df['Situação do Processo'] == 'Concluído')]['Processo'].unique()"
   ]
  },
  {
   "cell_type": "code",
   "execution_count": null,
   "metadata": {},
   "outputs": [],
   "source": [
    "for proc in concluir_processos:\n",
    "    p = s.go_to_processo(proc)\n",
    "    sleep(5)\n",
    "    p.concluir_processo()"
   ]
  },
  {
   "cell_type": "code",
   "execution_count": 29,
   "metadata": {},
   "outputs": [
    {
     "ename": "AttributeError",
     "evalue": "'DataFrame' object has no attribute 'Alterado'",
     "output_type": "error",
     "traceback": [
      "\u001b[1;31m---------------------------------------------------------------------------\u001b[0m",
      "\u001b[1;31mAttributeError\u001b[0m                            Traceback (most recent call last)",
      "\u001b[1;32m<ipython-input-29-110f0fe21c56>\u001b[0m in \u001b[0;36m<module>\u001b[1;34m\u001b[0m\n\u001b[1;32m----> 1\u001b[1;33m \u001b[1;32mfor\u001b[0m \u001b[0mi\u001b[0m\u001b[1;33m,\u001b[0m \u001b[0mrow\u001b[0m \u001b[1;32min\u001b[0m \u001b[0mdf\u001b[0m\u001b[1;33m[\u001b[0m\u001b[1;33m(\u001b[0m\u001b[0mdf\u001b[0m\u001b[1;33m.\u001b[0m\u001b[0mAlterado\u001b[0m \u001b[1;33m==\u001b[0m \u001b[1;34m'Erro'\u001b[0m\u001b[1;33m)\u001b[0m \u001b[1;33m&\u001b[0m \u001b[1;33m(\u001b[0m\u001b[0mdf\u001b[0m\u001b[1;33m[\u001b[0m\u001b[1;34m'Situação do Processo'\u001b[0m\u001b[1;33m]\u001b[0m \u001b[1;33m==\u001b[0m \u001b[1;34m'Aberto'\u001b[0m\u001b[1;33m)\u001b[0m\u001b[1;33m]\u001b[0m\u001b[1;33m.\u001b[0m\u001b[0miterrows\u001b[0m\u001b[1;33m(\u001b[0m\u001b[1;33m)\u001b[0m\u001b[1;33m:\u001b[0m\u001b[1;33m\u001b[0m\u001b[1;33m\u001b[0m\u001b[0m\n\u001b[0m\u001b[0;32m      2\u001b[0m     \u001b[0mp\u001b[0m \u001b[1;33m=\u001b[0m \u001b[0ms\u001b[0m\u001b[1;33m.\u001b[0m\u001b[0mgo_to_processo\u001b[0m\u001b[1;33m(\u001b[0m\u001b[0mrow\u001b[0m\u001b[1;33m[\u001b[0m\u001b[1;34m'Processo'\u001b[0m\u001b[1;33m]\u001b[0m\u001b[1;33m)\u001b[0m\u001b[1;33m\u001b[0m\u001b[1;33m\u001b[0m\u001b[0m\n\u001b[0;32m      3\u001b[0m     \u001b[0msleep\u001b[0m\u001b[1;33m(\u001b[0m\u001b[1;36m5\u001b[0m\u001b[1;33m)\u001b[0m\u001b[1;33m\u001b[0m\u001b[1;33m\u001b[0m\u001b[0m\n\u001b[0;32m      4\u001b[0m     \u001b[0macoes\u001b[0m \u001b[1;33m=\u001b[0m \u001b[0mp\u001b[0m\u001b[1;33m.\u001b[0m\u001b[0m_get_acoes\u001b[0m\u001b[1;33m(\u001b[0m\u001b[0mclick\u001b[0m\u001b[1;33m=\u001b[0m\u001b[1;32mFalse\u001b[0m\u001b[1;33m)\u001b[0m\u001b[1;33m\u001b[0m\u001b[1;33m\u001b[0m\u001b[0m\n\u001b[0;32m      5\u001b[0m     \u001b[1;32mif\u001b[0m \u001b[0macoes\u001b[0m\u001b[1;33m.\u001b[0m\u001b[0mget\u001b[0m\u001b[1;33m(\u001b[0m\u001b[1;34m\"Remover Sobrestamento do Processo\"\u001b[0m\u001b[1;33m)\u001b[0m\u001b[1;33m:\u001b[0m\u001b[1;33m\u001b[0m\u001b[1;33m\u001b[0m\u001b[0m\n",
      "\u001b[1;32m~\\Miniconda3\\envs\\anatelbot\\lib\\site-packages\\pandas\\core\\generic.py\u001b[0m in \u001b[0;36m__getattr__\u001b[1;34m(self, name)\u001b[0m\n\u001b[0;32m   5137\u001b[0m             \u001b[1;32mif\u001b[0m \u001b[0mself\u001b[0m\u001b[1;33m.\u001b[0m\u001b[0m_info_axis\u001b[0m\u001b[1;33m.\u001b[0m\u001b[0m_can_hold_identifiers_and_holds_name\u001b[0m\u001b[1;33m(\u001b[0m\u001b[0mname\u001b[0m\u001b[1;33m)\u001b[0m\u001b[1;33m:\u001b[0m\u001b[1;33m\u001b[0m\u001b[1;33m\u001b[0m\u001b[0m\n\u001b[0;32m   5138\u001b[0m                 \u001b[1;32mreturn\u001b[0m \u001b[0mself\u001b[0m\u001b[1;33m[\u001b[0m\u001b[0mname\u001b[0m\u001b[1;33m]\u001b[0m\u001b[1;33m\u001b[0m\u001b[1;33m\u001b[0m\u001b[0m\n\u001b[1;32m-> 5139\u001b[1;33m             \u001b[1;32mreturn\u001b[0m \u001b[0mobject\u001b[0m\u001b[1;33m.\u001b[0m\u001b[0m__getattribute__\u001b[0m\u001b[1;33m(\u001b[0m\u001b[0mself\u001b[0m\u001b[1;33m,\u001b[0m \u001b[0mname\u001b[0m\u001b[1;33m)\u001b[0m\u001b[1;33m\u001b[0m\u001b[1;33m\u001b[0m\u001b[0m\n\u001b[0m\u001b[0;32m   5140\u001b[0m \u001b[1;33m\u001b[0m\u001b[0m\n\u001b[0;32m   5141\u001b[0m     \u001b[1;32mdef\u001b[0m \u001b[0m__setattr__\u001b[0m\u001b[1;33m(\u001b[0m\u001b[0mself\u001b[0m\u001b[1;33m,\u001b[0m \u001b[0mname\u001b[0m\u001b[1;33m:\u001b[0m \u001b[0mstr\u001b[0m\u001b[1;33m,\u001b[0m \u001b[0mvalue\u001b[0m\u001b[1;33m)\u001b[0m \u001b[1;33m->\u001b[0m \u001b[1;32mNone\u001b[0m\u001b[1;33m:\u001b[0m\u001b[1;33m\u001b[0m\u001b[1;33m\u001b[0m\u001b[0m\n",
      "\u001b[1;31mAttributeError\u001b[0m: 'DataFrame' object has no attribute 'Alterado'"
     ]
    }
   ],
   "source": [
    "for i, row in df[(df.Alterado == 'Erro') & (df['Situação do Processo'] == 'Aberto')].iterrows():\n",
    "    p = s.go_to_processo(row['Processo'])\n",
    "    sleep(5)\n",
    "    acoes = p._get_acoes(click=False)\n",
    "    if acoes.get(\"Remover Sobrestamento do Processo\"):\n",
    "        with p._go_to_central_frame():\n",
    "            #p.page._clica_abre_nova_janela(acoes['Reabrir Processo'])\n",
    "            p.page._clicar(acoes['Remover Sobrestamento do Processo'])\n",
    "            df.loc[i, 'Situação do Processo'] = 'Sobrestado'"
   ]
  },
  {
   "cell_type": "code",
   "execution_count": 34,
   "metadata": {},
   "outputs": [
    {
     "data": {
      "text/html": [
       "<div>\n",
       "<style scoped>\n",
       "    .dataframe tbody tr th:only-of-type {\n",
       "        vertical-align: middle;\n",
       "    }\n",
       "\n",
       "    .dataframe tbody tr th {\n",
       "        vertical-align: top;\n",
       "    }\n",
       "\n",
       "    .dataframe thead th {\n",
       "        text-align: right;\n",
       "    }\n",
       "</style>\n",
       "<table border=\"1\" class=\"dataframe\">\n",
       "  <thead>\n",
       "    <tr style=\"text-align: right;\">\n",
       "      <th></th>\n",
       "      <th>Unidade</th>\n",
       "      <th>Processo</th>\n",
       "      <th>Documento</th>\n",
       "      <th>Link SEI</th>\n",
       "      <th>Tipo de Documento</th>\n",
       "      <th>Situação do Processo</th>\n",
       "      <th>Alterado</th>\n",
       "    </tr>\n",
       "  </thead>\n",
       "  <tbody>\n",
       "    <tr>\n",
       "      <th>1</th>\n",
       "      <td>GR01FI3</td>\n",
       "      <td>53504.000294/2020-17</td>\n",
       "      <td>6386998</td>\n",
       "      <td>https://sei.anatel.gov.br/sei/controlador.php?...</td>\n",
       "      <td>Auto</td>\n",
       "      <td>Aberto</td>\n",
       "      <td>Sim</td>\n",
       "    </tr>\n",
       "    <tr>\n",
       "      <th>6</th>\n",
       "      <td>GR01FI3</td>\n",
       "      <td>53504.003052/2020-85</td>\n",
       "      <td>5754270</td>\n",
       "      <td>https://sei.anatel.gov.br/sei/controlador.php?...</td>\n",
       "      <td>Carta</td>\n",
       "      <td>Sobrestado</td>\n",
       "      <td>Sim</td>\n",
       "    </tr>\n",
       "    <tr>\n",
       "      <th>16</th>\n",
       "      <td>GR01FI3</td>\n",
       "      <td>53504.004820/2020-18</td>\n",
       "      <td>6101573</td>\n",
       "      <td>https://sei.anatel.gov.br/sei/controlador.php?...</td>\n",
       "      <td>Conteúdo de Mídia</td>\n",
       "      <td>Aberto</td>\n",
       "      <td>Sim</td>\n",
       "    </tr>\n",
       "    <tr>\n",
       "      <th>17</th>\n",
       "      <td>GR01FI3</td>\n",
       "      <td>53504.004820/2020-18</td>\n",
       "      <td>6101567</td>\n",
       "      <td>https://sei.anatel.gov.br/sei/controlador.php?...</td>\n",
       "      <td>Conteúdo de Mídia</td>\n",
       "      <td>Aberto</td>\n",
       "      <td>Sim</td>\n",
       "    </tr>\n",
       "    <tr>\n",
       "      <th>18</th>\n",
       "      <td>GR01FI3</td>\n",
       "      <td>53504.004820/2020-18</td>\n",
       "      <td>6101551</td>\n",
       "      <td>https://sei.anatel.gov.br/sei/controlador.php?...</td>\n",
       "      <td>Carta</td>\n",
       "      <td>Aberto</td>\n",
       "      <td>Sim</td>\n",
       "    </tr>\n",
       "    <tr>\n",
       "      <th>29</th>\n",
       "      <td>GR01FI3</td>\n",
       "      <td>53504.005818/2020-66</td>\n",
       "      <td>6118948</td>\n",
       "      <td>https://sei.anatel.gov.br/sei/controlador.php?...</td>\n",
       "      <td>Carta</td>\n",
       "      <td>Aberto</td>\n",
       "      <td>Sim</td>\n",
       "    </tr>\n",
       "    <tr>\n",
       "      <th>31</th>\n",
       "      <td>GR01FI3</td>\n",
       "      <td>53504.006673/2020-11</td>\n",
       "      <td>6192035</td>\n",
       "      <td>https://sei.anatel.gov.br/sei/controlador.php?...</td>\n",
       "      <td>Ofício</td>\n",
       "      <td>Aberto</td>\n",
       "      <td>Sim</td>\n",
       "    </tr>\n",
       "    <tr>\n",
       "      <th>33</th>\n",
       "      <td>GR01FI3</td>\n",
       "      <td>53504.006739/2020-72</td>\n",
       "      <td>6359313</td>\n",
       "      <td>https://sei.anatel.gov.br/sei/controlador.php?...</td>\n",
       "      <td>Defesa</td>\n",
       "      <td>Aberto</td>\n",
       "      <td>Sim</td>\n",
       "    </tr>\n",
       "    <tr>\n",
       "      <th>35</th>\n",
       "      <td>GR01FI3</td>\n",
       "      <td>53504.007381/2020-03</td>\n",
       "      <td>6246225</td>\n",
       "      <td>https://sei.anatel.gov.br/sei/controlador.php?...</td>\n",
       "      <td>Ofício</td>\n",
       "      <td>Aberto</td>\n",
       "      <td>Sim</td>\n",
       "    </tr>\n",
       "    <tr>\n",
       "      <th>36</th>\n",
       "      <td>GR01FI3</td>\n",
       "      <td>53504.007520/2020-91</td>\n",
       "      <td>6321289</td>\n",
       "      <td>https://sei.anatel.gov.br/sei/controlador.php?...</td>\n",
       "      <td>Carta</td>\n",
       "      <td>Aberto</td>\n",
       "      <td>Sim</td>\n",
       "    </tr>\n",
       "    <tr>\n",
       "      <th>42</th>\n",
       "      <td>GR01FI3</td>\n",
       "      <td>53524.002769/2020-71</td>\n",
       "      <td>6248366</td>\n",
       "      <td>https://sei.anatel.gov.br/sei/controlador.php?...</td>\n",
       "      <td>Ofício</td>\n",
       "      <td>Aberto</td>\n",
       "      <td>Sim</td>\n",
       "    </tr>\n",
       "    <tr>\n",
       "      <th>43</th>\n",
       "      <td>GR01FI3</td>\n",
       "      <td>53528.000692/2020-65</td>\n",
       "      <td>6351976</td>\n",
       "      <td>https://sei.anatel.gov.br/sei/controlador.php?...</td>\n",
       "      <td>Auto</td>\n",
       "      <td>Aberto</td>\n",
       "      <td>Sim</td>\n",
       "    </tr>\n",
       "    <tr>\n",
       "      <th>44</th>\n",
       "      <td>GR01FI3</td>\n",
       "      <td>53557.000312/2020-45</td>\n",
       "      <td>6220738</td>\n",
       "      <td>https://sei.anatel.gov.br/sei/controlador.php?...</td>\n",
       "      <td>Declaração</td>\n",
       "      <td>Aberto</td>\n",
       "      <td>Sim</td>\n",
       "    </tr>\n",
       "    <tr>\n",
       "      <th>45</th>\n",
       "      <td>GR01FI3</td>\n",
       "      <td>53569.002034/2020-21</td>\n",
       "      <td>6302719</td>\n",
       "      <td>https://sei.anatel.gov.br/sei/controlador.php?...</td>\n",
       "      <td>Anexo</td>\n",
       "      <td>Aberto</td>\n",
       "      <td>Sim</td>\n",
       "    </tr>\n",
       "  </tbody>\n",
       "</table>\n",
       "</div>"
      ],
      "text/plain": [
       "    Unidade              Processo Documento  \\\n",
       "1   GR01FI3  53504.000294/2020-17   6386998   \n",
       "6   GR01FI3  53504.003052/2020-85   5754270   \n",
       "16  GR01FI3  53504.004820/2020-18   6101573   \n",
       "17  GR01FI3  53504.004820/2020-18   6101567   \n",
       "18  GR01FI3  53504.004820/2020-18   6101551   \n",
       "29  GR01FI3  53504.005818/2020-66   6118948   \n",
       "31  GR01FI3  53504.006673/2020-11   6192035   \n",
       "33  GR01FI3  53504.006739/2020-72   6359313   \n",
       "35  GR01FI3  53504.007381/2020-03   6246225   \n",
       "36  GR01FI3  53504.007520/2020-91   6321289   \n",
       "42  GR01FI3  53524.002769/2020-71   6248366   \n",
       "43  GR01FI3  53528.000692/2020-65   6351976   \n",
       "44  GR01FI3  53557.000312/2020-45   6220738   \n",
       "45  GR01FI3  53569.002034/2020-21   6302719   \n",
       "\n",
       "                                             Link SEI  Tipo de Documento  \\\n",
       "1   https://sei.anatel.gov.br/sei/controlador.php?...               Auto   \n",
       "6   https://sei.anatel.gov.br/sei/controlador.php?...              Carta   \n",
       "16  https://sei.anatel.gov.br/sei/controlador.php?...  Conteúdo de Mídia   \n",
       "17  https://sei.anatel.gov.br/sei/controlador.php?...  Conteúdo de Mídia   \n",
       "18  https://sei.anatel.gov.br/sei/controlador.php?...              Carta   \n",
       "29  https://sei.anatel.gov.br/sei/controlador.php?...              Carta   \n",
       "31  https://sei.anatel.gov.br/sei/controlador.php?...             Ofício   \n",
       "33  https://sei.anatel.gov.br/sei/controlador.php?...             Defesa   \n",
       "35  https://sei.anatel.gov.br/sei/controlador.php?...             Ofício   \n",
       "36  https://sei.anatel.gov.br/sei/controlador.php?...              Carta   \n",
       "42  https://sei.anatel.gov.br/sei/controlador.php?...             Ofício   \n",
       "43  https://sei.anatel.gov.br/sei/controlador.php?...               Auto   \n",
       "44  https://sei.anatel.gov.br/sei/controlador.php?...         Declaração   \n",
       "45  https://sei.anatel.gov.br/sei/controlador.php?...              Anexo   \n",
       "\n",
       "   Situação do Processo Alterado  \n",
       "1                Aberto      Sim  \n",
       "6            Sobrestado      Sim  \n",
       "16               Aberto      Sim  \n",
       "17               Aberto      Sim  \n",
       "18               Aberto      Sim  \n",
       "29               Aberto      Sim  \n",
       "31               Aberto      Sim  \n",
       "33               Aberto      Sim  \n",
       "35               Aberto      Sim  \n",
       "36               Aberto      Sim  \n",
       "42               Aberto      Sim  \n",
       "43               Aberto      Sim  \n",
       "44               Aberto      Sim  \n",
       "45               Aberto      Sim  "
      ]
     },
     "execution_count": 34,
     "metadata": {},
     "output_type": "execute_result"
    }
   ],
   "source": [
    "df[df.Processo.str.contains('/2020')]"
   ]
  },
  {
   "cell_type": "code",
   "execution_count": null,
   "metadata": {},
   "outputs": [],
   "source": [
    "for i, row in copy.iterrows():\n",
    "    p = s.go_to_processo(row['Processo'])\n",
    "    sleep(5)\n",
    "    acoes = p._get_acoes(click=False)\n",
    "    if acoes.get(\"Sobrestar Processo\"):\n",
    "        with p._go_to_central_frame():\n",
    "            p.page._clicar(acoes['Sobrestar Processo'])\n",
    "            p.page._clicar(('xpath', '//*[@id=\"optSomenteSobrestar\"]'))\n",
    "            p.page._atualizar_elemento(('xpath', '//*[@id=\"txaMotivo\"]'), 'Será atendida em breve.')\n",
    "            p.page._clicar(('xpath', '//*[@id=\"sbmSalvar\"]'))"
   ]
  },
  {
   "cell_type": "code",
   "execution_count": null,
   "metadata": {
    "ExecuteTime": {
     "end_time": "2019-12-09T19:21:42.236371Z",
     "start_time": "2019-12-09T19:21:42.105286Z"
    }
   },
   "outputs": [],
   "source": [
    "sub = df[df['Situação do Processo'] == \"Concluir\"]\n",
    "for i, row in tqdm_notebook(sub.iterrows(), total=sub.shape[0]):\n",
    "    p = s.go(row['Link SEI'])\n",
    "    p = sei.Processo(s.page, row[\"Processo\"])\n",
    "    #sleep(1)\n",
    "    #p.concluir_processo()\n",
    "    df.loc[i, \"Situação do Processo\"] = \"OK\""
   ]
  },
  {
   "cell_type": "code",
   "execution_count": null,
   "metadata": {
    "ExecuteTime": {
     "end_time": "2019-12-09T22:23:05.064843Z",
     "start_time": "2019-12-09T22:21:50.242458Z"
    }
   },
   "outputs": [],
   "source": [
    "sub = df[df.Alterado == \"Erro\"]\n",
    "for i, row in tqdm_notebook(sub.iterrows(), total=sub.shape[0]):\n",
    "    if alterar_acesso(link=row['Link SEI'], nivel='Restrito', hip=r'Fiscalização / Investigação da Anatel (Art. 174 da Lei nº 9.472/1997)'):\n",
    "        df.loc[i, 'Alterado'] = 'Sim'\n",
    "    else:\n",
    "        df.loc[i, 'Alterado'] = 'Erro' \n",
    "        print('Erro: {row}')"
   ]
  },
  {
   "cell_type": "code",
   "execution_count": null,
   "metadata": {
    "ExecuteTime": {
     "end_time": "2019-12-09T22:24:04.764858Z",
     "start_time": "2019-12-09T22:24:04.310756Z"
    }
   },
   "outputs": [],
   "source": [
    "df.to_csv(FILE.parent / 'Resumo_Alterados.csv', index=False)"
   ]
  },
  {
   "cell_type": "code",
   "execution_count": null,
   "metadata": {},
   "outputs": [],
   "source": []
  }
 ],
 "metadata": {
  "kernelspec": {
   "display_name": "Python [conda env:scraping]",
   "language": "python",
   "name": "conda-env-scraping-py"
  },
  "language_info": {
   "codemirror_mode": {
    "name": "ipython",
    "version": 3
   },
   "file_extension": ".py",
   "mimetype": "text/x-python",
   "name": "python",
   "nbconvert_exporter": "python",
   "pygments_lexer": "ipython3",
   "version": "3.7.9"
  },
  "nbTranslate": {
   "displayLangs": [
    "*"
   ],
   "hotkey": "alt-t",
   "langInMainMenu": true,
   "sourceLang": "en",
   "targetLang": "fr",
   "useGoogleTranslate": true
  },
  "toc": {
   "base_numbering": 1,
   "nav_menu": {},
   "number_sections": true,
   "sideBar": true,
   "skip_h1_title": false,
   "title_cell": "Table of Contents",
   "title_sidebar": "Contents",
   "toc_cell": false,
   "toc_position": {},
   "toc_section_display": true,
   "toc_window_display": false
  },
  "varInspector": {
   "cols": {
    "lenName": 16,
    "lenType": 16,
    "lenVar": 40
   },
   "kernels_config": {
    "python": {
     "delete_cmd_postfix": "",
     "delete_cmd_prefix": "del ",
     "library": "var_list.py",
     "varRefreshCmd": "print(var_dic_list())"
    },
    "r": {
     "delete_cmd_postfix": ") ",
     "delete_cmd_prefix": "rm(",
     "library": "var_list.r",
     "varRefreshCmd": "cat(var_dic_list()) "
    }
   },
   "types_to_exclude": [
    "module",
    "function",
    "builtin_function_or_method",
    "instance",
    "_Feature"
   ],
   "window_display": false
  }
 },
 "nbformat": 4,
 "nbformat_minor": 4
}
