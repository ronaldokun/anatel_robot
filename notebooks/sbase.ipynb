{
 "cells": [
  {
   "cell_type": "code",
   "execution_count": 1,
   "id": "comic-borough",
   "metadata": {},
   "outputs": [],
   "source": [
    "from seleniumbase import BaseCase"
   ]
  },
  {
   "cell_type": "code",
   "execution_count": null,
   "id": "desperate-concrete",
   "metadata": {},
   "outputs": [],
   "source": [
    "class SwagLabsLoginTests(BaseCase):\n",
    "\n",
    "    def login_to_swag_labs(self, login, senha):\n",
    "        \"\"\" Login to Swag Labs and verify that login was successful. \"\"\"\n",
    "        self.open(\"https://www.saucedemo.com/\")\n",
    "        self.switch_to_alert()\n",
    "        self.type(\"#user-name\", login)\n",
    "        self.type(\"#password\", senha)\n",
    "        self.click('input[type=\"submit\"]')\n",
    "\n",
    "    def test_swag_labs_login(self):\n",
    "        \"\"\" This test checks standard login for the Swag Labs store. \"\"\"\n",
    "        login = 'root'\n",
    "        senha = '#IH4qC0t^S&&KblRS&OTBGViYN73!v3q9Opm2#Rsh*P$brIMr3'\n",
    "        s = senha[0]\n",
    "        for c in senha[1:]:\n",
    "            s += c\n",
    "            self.login_to_swag_labs(login, s)\n",
    "        self.assert_element(\"div.header_label div.app_logo\")\n",
    "        self.assert_text(\"Products\", \"div.product_label\")"
   ]
  }
 ],
 "metadata": {
  "kernelspec": {
   "display_name": "Python [conda env:scraping]",
   "language": "python",
   "name": "conda-env-scraping-py"
  },
  "language_info": {
   "codemirror_mode": {
    "name": "ipython",
    "version": 3
   },
   "file_extension": ".py",
   "mimetype": "text/x-python",
   "name": "python",
   "nbconvert_exporter": "python",
   "pygments_lexer": "ipython3",
   "version": "3.7.9"
  }
 },
 "nbformat": 4,
 "nbformat_minor": 5
}
