{
 "cells": [
  {
   "cell_type": "code",
   "execution_count": 1,
   "metadata": {
    "ExecuteTime": {
     "end_time": "2019-08-15T13:58:03.830447Z",
     "start_time": "2019-08-15T13:58:01.920911Z"
    }
   },
   "outputs": [],
   "source": [
    "import os, sys\n",
    "from pathlib import Path\n",
    "\n",
    "os.chdir(\"C:/Users/rsilva/automation\")\n",
    "\n",
    "from sistemas.sistemas import *\n",
    "\n",
    "from sistemas.sistemas import Sec\n",
    "\n",
    "%load_ext autoreload\n",
    "%autoreload 2"
   ]
  },
  {
   "cell_type": "code",
   "execution_count": 2,
   "metadata": {
    "ExecuteTime": {
     "end_time": "2019-08-15T13:58:05.125491Z",
     "start_time": "2019-08-15T13:58:03.830447Z"
    }
   },
   "outputs": [],
   "source": [
    "sec = Sec(webdriver.Ie())"
   ]
  },
  {
   "cell_type": "code",
   "execution_count": 4,
   "metadata": {
    "ExecuteTime": {
     "end_time": "2019-08-15T14:30:08.623945Z",
     "start_time": "2019-08-15T14:14:02.203242Z"
    }
   },
   "outputs": [],
   "source": [
    "sec.imprimir_provas(num_prova='12174', cpf='31888916877', num_registros=48, start=0, end=48)"
   ]
  },
  {
   "cell_type": "code",
   "execution_count": null,
   "metadata": {},
   "outputs": [],
   "source": []
  }
 ],
 "metadata": {
  "kernelspec": {
   "display_name": "Python [conda env:automation]",
   "language": "python",
   "name": "conda-env-automation-py"
  },
  "language_info": {
   "codemirror_mode": {
    "name": "ipython",
    "version": 3
   },
   "file_extension": ".py",
   "mimetype": "text/x-python",
   "name": "python",
   "nbconvert_exporter": "python",
   "pygments_lexer": "ipython3",
   "version": "3.7.3"
  },
  "toc": {
   "base_numbering": 1,
   "nav_menu": {},
   "number_sections": true,
   "sideBar": true,
   "skip_h1_title": false,
   "title_cell": "Table of Contents",
   "title_sidebar": "Contents",
   "toc_cell": false,
   "toc_position": {},
   "toc_section_display": true,
   "toc_window_display": false
  }
 },
 "nbformat": 4,
 "nbformat_minor": 2
}
