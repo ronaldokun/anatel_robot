{
 "cells": [
  {
   "cell_type": "code",
   "execution_count": 8,
   "metadata": {},
   "outputs": [
    {
     "name": "stdout",
     "output_type": "stream",
     "text": [
      "Olá rsilva\n",
      "Digite sua Senha: ········\n",
      "The autoreload extension is already loaded. To reload it, use:\n",
      "  %reload_ext autoreload\n"
     ]
    }
   ],
   "source": [
    "import context\n",
    "\n",
    "#Standard Lib imports\n",
    "import sys, os\n",
    "from pathlib import Path\n",
    "import getpass\n",
    "\n",
    "\n",
    "# Third party imports\n",
    "import pandas as pd\n",
    "\n",
    "# Local application imports\n",
    "from sei import sei\n",
    "\n",
    "#USR = getpass.getuser()\n",
    "USR = 'rsilva'\n",
    "print(f'Olá {USR}')\n",
    "PWD = getpass.getpass(\"Digite sua Senha: \")\n",
    "\n",
    "%reload_ext autoreload\n",
    "%autoreload 2"
   ]
  },
  {
   "cell_type": "code",
   "execution_count": 20,
   "metadata": {},
   "outputs": [],
   "source": [
    "TIPO = \"Viagem: No País - Prestação de Contas\"\n",
    "DOC = Path(\"C:/Users/rsilva/Documents/Maria/FUST.xlsx\")"
   ]
  },
  {
   "cell_type": "code",
   "execution_count": 22,
   "metadata": {},
   "outputs": [],
   "source": [
    "df = pd.read_excel(DOC)"
   ]
  },
  {
   "cell_type": "code",
   "execution_count": 32,
   "metadata": {},
   "outputs": [
    {
     "data": {
      "text/html": [
       "<div>\n",
       "<style scoped>\n",
       "    .dataframe tbody tr th:only-of-type {\n",
       "        vertical-align: middle;\n",
       "    }\n",
       "\n",
       "    .dataframe tbody tr th {\n",
       "        vertical-align: top;\n",
       "    }\n",
       "\n",
       "    .dataframe thead th {\n",
       "        text-align: right;\n",
       "    }\n",
       "</style>\n",
       "<table border=\"1\" class=\"dataframe\">\n",
       "  <thead>\n",
       "    <tr style=\"text-align: right;\">\n",
       "      <th></th>\n",
       "      <th>Tipo do Processo</th>\n",
       "      <th>Especificação</th>\n",
       "      <th>Interessado</th>\n",
       "      <th>Nível de Acesso</th>\n",
       "      <th>#</th>\n",
       "      <th>Projeto</th>\n",
       "      <th>Título</th>\n",
       "      <th>Subtema</th>\n",
       "    </tr>\n",
       "  </thead>\n",
       "  <tbody>\n",
       "    <tr>\n",
       "      <th>187</th>\n",
       "      <td>Fiscalização: Tributário</td>\n",
       "      <td>Funttel: TM SOLUTIONS - TECNOLOGIA DA INFORMAC...</td>\n",
       "      <td>67726505000109</td>\n",
       "      <td>Público</td>\n",
       "      <td>24078</td>\n",
       "      <td>SEXEC</td>\n",
       "      <td>SOL_SEXEC_2020_0292</td>\n",
       "      <td>Tributário - FUNTTEL</td>\n",
       "    </tr>\n",
       "    <tr>\n",
       "      <th>188</th>\n",
       "      <td>Fiscalização: Tributário</td>\n",
       "      <td>Funttel: SKY BRASIL SERVIÇOS LTDA.  (728208220...</td>\n",
       "      <td>72820822000120</td>\n",
       "      <td>Público</td>\n",
       "      <td>24080</td>\n",
       "      <td>SEXEC</td>\n",
       "      <td>SOL_SEXEC_2020_0294</td>\n",
       "      <td>Tributário - FUNTTEL</td>\n",
       "    </tr>\n",
       "    <tr>\n",
       "      <th>189</th>\n",
       "      <td>Fiscalização: Tributário</td>\n",
       "      <td>Funttel: CENTURYLINK COMUNICACOES DO BRASIL LT...</td>\n",
       "      <td>72843212000141</td>\n",
       "      <td>Público</td>\n",
       "      <td>24081</td>\n",
       "      <td>SEXEC</td>\n",
       "      <td>SOL_SEXEC_2020_0295</td>\n",
       "      <td>Tributário - FUNTTEL</td>\n",
       "    </tr>\n",
       "    <tr>\n",
       "      <th>190</th>\n",
       "      <td>Fiscalização: Tributário</td>\n",
       "      <td>Funttel: BIT-TEC TECNOLOGIA LTDA.  (7289755600...</td>\n",
       "      <td>72897556000133</td>\n",
       "      <td>Público</td>\n",
       "      <td>24082</td>\n",
       "      <td>SEXEC</td>\n",
       "      <td>SOL_SEXEC_2020_0296</td>\n",
       "      <td>Tributário - FUNTTEL</td>\n",
       "    </tr>\n",
       "    <tr>\n",
       "      <th>191</th>\n",
       "      <td>Fiscalização: Tributário</td>\n",
       "      <td>Funttel: BT LATAM BRASIL LTDA  (74280256000136)</td>\n",
       "      <td>74280256000136</td>\n",
       "      <td>Público</td>\n",
       "      <td>24084</td>\n",
       "      <td>SEXEC</td>\n",
       "      <td>SOL_SEXEC_2020_0298</td>\n",
       "      <td>Tributário - FUNTTEL</td>\n",
       "    </tr>\n",
       "  </tbody>\n",
       "</table>\n",
       "</div>"
      ],
      "text/plain": [
       "             Tipo do Processo  \\\n",
       "187  Fiscalização: Tributário   \n",
       "188  Fiscalização: Tributário   \n",
       "189  Fiscalização: Tributário   \n",
       "190  Fiscalização: Tributário   \n",
       "191  Fiscalização: Tributário   \n",
       "\n",
       "                                         Especificação     Interessado  \\\n",
       "187  Funttel: TM SOLUTIONS - TECNOLOGIA DA INFORMAC...  67726505000109   \n",
       "188  Funttel: SKY BRASIL SERVIÇOS LTDA.  (728208220...  72820822000120   \n",
       "189  Funttel: CENTURYLINK COMUNICACOES DO BRASIL LT...  72843212000141   \n",
       "190  Funttel: BIT-TEC TECNOLOGIA LTDA.  (7289755600...  72897556000133   \n",
       "191    Funttel: BT LATAM BRASIL LTDA  (74280256000136)  74280256000136   \n",
       "\n",
       "    Nível de Acesso      # Projeto               Título               Subtema  \n",
       "187         Público  24078   SEXEC  SOL_SEXEC_2020_0292  Tributário - FUNTTEL  \n",
       "188         Público  24080   SEXEC  SOL_SEXEC_2020_0294  Tributário - FUNTTEL  \n",
       "189         Público  24081   SEXEC  SOL_SEXEC_2020_0295  Tributário - FUNTTEL  \n",
       "190         Público  24082   SEXEC  SOL_SEXEC_2020_0296  Tributário - FUNTTEL  \n",
       "191         Público  24084   SEXEC  SOL_SEXEC_2020_0298  Tributário - FUNTTEL  "
      ]
     },
     "execution_count": 32,
     "metadata": {},
     "output_type": "execute_result"
    }
   ],
   "source": [
    "df.tail()"
   ]
  },
  {
   "cell_type": "code",
   "execution_count": 52,
   "metadata": {},
   "outputs": [],
   "source": [
    "funtel = df[(df['Especificação'].str.contains('Funttel'))]"
   ]
  },
  {
   "cell_type": "code",
   "execution_count": 53,
   "metadata": {},
   "outputs": [
    {
     "data": {
      "text/html": [
       "<div>\n",
       "<style scoped>\n",
       "    .dataframe tbody tr th:only-of-type {\n",
       "        vertical-align: middle;\n",
       "    }\n",
       "\n",
       "    .dataframe tbody tr th {\n",
       "        vertical-align: top;\n",
       "    }\n",
       "\n",
       "    .dataframe thead th {\n",
       "        text-align: right;\n",
       "    }\n",
       "</style>\n",
       "<table border=\"1\" class=\"dataframe\">\n",
       "  <thead>\n",
       "    <tr style=\"text-align: right;\">\n",
       "      <th></th>\n",
       "      <th>Tipo do Processo</th>\n",
       "      <th>Especificação</th>\n",
       "      <th>Interessado</th>\n",
       "      <th>Nível de Acesso</th>\n",
       "      <th>#</th>\n",
       "      <th>Projeto</th>\n",
       "      <th>Título</th>\n",
       "      <th>Subtema</th>\n",
       "    </tr>\n",
       "  </thead>\n",
       "  <tbody>\n",
       "    <tr>\n",
       "      <th>96</th>\n",
       "      <td>Fiscalização: Tributário</td>\n",
       "      <td>Funttel: SKY SERVICOS DE BANDA LARGA LTDA.  (0...</td>\n",
       "      <td>497373000110</td>\n",
       "      <td>Público</td>\n",
       "      <td>23584</td>\n",
       "      <td>SEXEC</td>\n",
       "      <td>SOL_SEXEC_2020_0003</td>\n",
       "      <td>Tributário - FUNTTEL</td>\n",
       "    </tr>\n",
       "    <tr>\n",
       "      <th>97</th>\n",
       "      <td>Fiscalização: Tributário</td>\n",
       "      <td>Funttel: FALKLAND TECNOLOGIA EM TELECOMUNICAÇÕ...</td>\n",
       "      <td>1009876000161</td>\n",
       "      <td>Público</td>\n",
       "      <td>23593</td>\n",
       "      <td>SEXEC</td>\n",
       "      <td>SOL_SEXEC_2020_0012</td>\n",
       "      <td>Tributário - FUNTTEL</td>\n",
       "    </tr>\n",
       "    <tr>\n",
       "      <th>98</th>\n",
       "      <td>Fiscalização: Tributário</td>\n",
       "      <td>Funttel: UOL DIVEO TECNOLOGIA LTDA.  (01588770...</td>\n",
       "      <td>1588770000160</td>\n",
       "      <td>Público</td>\n",
       "      <td>23598</td>\n",
       "      <td>SEXEC</td>\n",
       "      <td>SOL_SEXEC_2020_0017</td>\n",
       "      <td>Tributário - FUNTTEL</td>\n",
       "    </tr>\n",
       "    <tr>\n",
       "      <th>99</th>\n",
       "      <td>Fiscalização: Tributário</td>\n",
       "      <td>Funttel: AMERICA NET LTDA  (01778972000174)</td>\n",
       "      <td>1778972000174</td>\n",
       "      <td>Público</td>\n",
       "      <td>23601</td>\n",
       "      <td>SEXEC</td>\n",
       "      <td>SOL_SEXEC_2020_0020</td>\n",
       "      <td>Tributário - FUNTTEL</td>\n",
       "    </tr>\n",
       "    <tr>\n",
       "      <th>100</th>\n",
       "      <td>Fiscalização: Tributário</td>\n",
       "      <td>Funttel: BRASIL TELECOM COMUNICACAO MULTIMIDIA...</td>\n",
       "      <td>2041460000193</td>\n",
       "      <td>Público</td>\n",
       "      <td>23603</td>\n",
       "      <td>SEXEC</td>\n",
       "      <td>SOL_SEXEC_2020_0022</td>\n",
       "      <td>Tributário - FUNTTEL</td>\n",
       "    </tr>\n",
       "  </tbody>\n",
       "</table>\n",
       "</div>"
      ],
      "text/plain": [
       "             Tipo do Processo  \\\n",
       "96   Fiscalização: Tributário   \n",
       "97   Fiscalização: Tributário   \n",
       "98   Fiscalização: Tributário   \n",
       "99   Fiscalização: Tributário   \n",
       "100  Fiscalização: Tributário   \n",
       "\n",
       "                                         Especificação    Interessado  \\\n",
       "96   Funttel: SKY SERVICOS DE BANDA LARGA LTDA.  (0...   497373000110   \n",
       "97   Funttel: FALKLAND TECNOLOGIA EM TELECOMUNICAÇÕ...  1009876000161   \n",
       "98   Funttel: UOL DIVEO TECNOLOGIA LTDA.  (01588770...  1588770000160   \n",
       "99         Funttel: AMERICA NET LTDA  (01778972000174)  1778972000174   \n",
       "100  Funttel: BRASIL TELECOM COMUNICACAO MULTIMIDIA...  2041460000193   \n",
       "\n",
       "    Nível de Acesso      # Projeto               Título               Subtema  \n",
       "96          Público  23584   SEXEC  SOL_SEXEC_2020_0003  Tributário - FUNTTEL  \n",
       "97          Público  23593   SEXEC  SOL_SEXEC_2020_0012  Tributário - FUNTTEL  \n",
       "98          Público  23598   SEXEC  SOL_SEXEC_2020_0017  Tributário - FUNTTEL  \n",
       "99          Público  23601   SEXEC  SOL_SEXEC_2020_0020  Tributário - FUNTTEL  \n",
       "100         Público  23603   SEXEC  SOL_SEXEC_2020_0022  Tributário - FUNTTEL  "
      ]
     },
     "execution_count": 53,
     "metadata": {},
     "output_type": "execute_result"
    }
   ],
   "source": [
    "funtel.head()"
   ]
  },
  {
   "cell_type": "code",
   "execution_count": 55,
   "metadata": {},
   "outputs": [],
   "source": [
    "funtel.loc[:, 'Nome'] = funtel[\"Especificação\"].str.replace('Funttel: ', \"\")"
   ]
  },
  {
   "cell_type": "code",
   "execution_count": 6,
   "metadata": {},
   "outputs": [],
   "source": [
    "s = sei.login_sei(USR, PWD, browser='Firefox', timeout=5, teste=True)"
   ]
  },
  {
   "cell_type": "code",
   "execution_count": 7,
   "metadata": {},
   "outputs": [],
   "source": [
    "s.mudar_lotação(\"GR01\")"
   ]
  },
  {
   "cell_type": "code",
   "execution_count": 56,
   "metadata": {},
   "outputs": [],
   "source": [
    "exemplo = funtel.iloc[0]"
   ]
  },
  {
   "cell_type": "code",
   "execution_count": 57,
   "metadata": {},
   "outputs": [
    {
     "data": {
      "text/plain": [
       "Tipo do Processo                             Fiscalização: Tributário\n",
       "Especificação       Funttel: SKY SERVICOS DE BANDA LARGA LTDA.  (0...\n",
       "Interessado                                              497373000110\n",
       "Nível de Acesso                                               Público\n",
       "#                                                               23584\n",
       "Projeto                                                         SEXEC\n",
       "Título                                            SOL_SEXEC_2020_0003\n",
       "Subtema                                          Tributário - FUNTTEL\n",
       "Nome                SKY SERVICOS DE BANDA LARGA LTDA.  (0049737300...\n",
       "Name: 96, dtype: object"
      ]
     },
     "execution_count": 57,
     "metadata": {},
     "output_type": "execute_result"
    }
   ],
   "source": [
    "exemplo"
   ]
  },
  {
   "cell_type": "code",
   "execution_count": 64,
   "metadata": {},
   "outputs": [],
   "source": [
    "def detalhes(exemplo):\n",
    "    \n",
    "    tipo = exemplo['Tipo do Processo']\n",
    "    especificacao = exemplo['Especificação']\n",
    "    interessado= exemplo['Interessado']\n",
    "    obs = exemplo[\"Subtema\"] + \"\\n\" + \"# \" + str(exemplo[\"#\"]) + \"\\n\" + exemplo[\"Projeto\"] + \"\\n\" \\\n",
    "          + exemplo[\"Título\"]\n",
    "    nivel = \"Público\"\n",
    "    \n",
    "    return tipo, especificacao, interessado, obs, nivel\n",
    "    "
   ]
  },
  {
   "cell_type": "code",
   "execution_count": 81,
   "metadata": {},
   "outputs": [
    {
     "ename": "TypeError",
     "evalue": "'NoneType' object is not an iterator",
     "output_type": "error",
     "traceback": [
      "\u001b[1;31m---------------------------------------------------------------------------\u001b[0m",
      "\u001b[1;31mTypeError\u001b[0m                                 Traceback (most recent call last)",
      "\u001b[1;32m<ipython-input-81-780a9b7b243a>\u001b[0m in \u001b[0;36m<module>\u001b[1;34m\u001b[0m\n\u001b[0;32m      1\u001b[0m \u001b[1;32mfor\u001b[0m \u001b[0mi\u001b[0m\u001b[1;33m,\u001b[0m \u001b[0mrow\u001b[0m \u001b[1;32min\u001b[0m \u001b[0mfuntel\u001b[0m\u001b[1;33m.\u001b[0m\u001b[0miterrows\u001b[0m\u001b[1;33m(\u001b[0m\u001b[1;33m)\u001b[0m\u001b[1;33m:\u001b[0m\u001b[1;33m\u001b[0m\u001b[1;33m\u001b[0m\u001b[0m\n\u001b[0;32m      2\u001b[0m     \u001b[0mt\u001b[0m\u001b[1;33m,\u001b[0m \u001b[0me\u001b[0m\u001b[1;33m,\u001b[0m \u001b[0mi\u001b[0m\u001b[1;33m,\u001b[0m \u001b[0mo\u001b[0m\u001b[1;33m,\u001b[0m \u001b[0mn\u001b[0m \u001b[1;33m=\u001b[0m \u001b[0mdetalhes\u001b[0m\u001b[1;33m(\u001b[0m\u001b[0mrow\u001b[0m\u001b[1;33m)\u001b[0m\u001b[1;33m\u001b[0m\u001b[1;33m\u001b[0m\u001b[0m\n\u001b[1;32m----> 3\u001b[1;33m     \u001b[0ms\u001b[0m\u001b[1;33m.\u001b[0m\u001b[0mcriar_processo\u001b[0m\u001b[1;33m(\u001b[0m\u001b[0mt\u001b[0m\u001b[1;33m,\u001b[0m \u001b[0me\u001b[0m\u001b[1;33m,\u001b[0m \u001b[0mi\u001b[0m\u001b[1;33m,\u001b[0m \u001b[0mo\u001b[0m\u001b[1;33m,\u001b[0m \u001b[0mn\u001b[0m\u001b[1;33m)\u001b[0m\u001b[1;33m\u001b[0m\u001b[1;33m\u001b[0m\u001b[0m\n\u001b[0m\u001b[0;32m      4\u001b[0m     \u001b[1;32mbreak\u001b[0m\u001b[1;33m\u001b[0m\u001b[1;33m\u001b[0m\u001b[0m\n",
      "\u001b[1;32m~\\Code\\anatelbot\\sei\\sei.py\u001b[0m in \u001b[0;36mcriar_processo\u001b[1;34m(self, tipo, especificacao, interessado, obs, nivel, salvar)\u001b[0m\n\u001b[0;32m    463\u001b[0m         \u001b[1;32mif\u001b[0m \u001b[0minteressado\u001b[0m\u001b[1;33m:\u001b[0m\u001b[1;33m\u001b[0m\u001b[1;33m\u001b[0m\u001b[0m\n\u001b[0;32m    464\u001b[0m \u001b[1;33m\u001b[0m\u001b[0m\n\u001b[1;32m--> 465\u001b[1;33m             \u001b[1;32mwith\u001b[0m \u001b[0mself\u001b[0m\u001b[1;33m.\u001b[0m\u001b[0mpage\u001b[0m\u001b[1;33m.\u001b[0m\u001b[0m_click_button_new_win\u001b[0m\u001b[1;33m(\u001b[0m\u001b[0mhelper\u001b[0m\u001b[1;33m.\u001b[0m\u001b[0mLUPA\u001b[0m\u001b[1;33m[\u001b[0m\u001b[1;34m'el'\u001b[0m\u001b[1;33m]\u001b[0m\u001b[1;33m)\u001b[0m\u001b[1;33m:\u001b[0m\u001b[1;33m\u001b[0m\u001b[1;33m\u001b[0m\u001b[0m\n\u001b[0m\u001b[0;32m    466\u001b[0m                 \u001b[1;32mpass\u001b[0m\u001b[1;33m\u001b[0m\u001b[1;33m\u001b[0m\u001b[0m\n\u001b[0;32m    467\u001b[0m \u001b[1;33m\u001b[0m\u001b[0m\n",
      "\u001b[1;32m~\\.pyenv\\pyenv-win\\versions\\3.7.5-amd64\\lib\\contextlib.py\u001b[0m in \u001b[0;36m__enter__\u001b[1;34m(self)\u001b[0m\n\u001b[0;32m    110\u001b[0m         \u001b[1;32mdel\u001b[0m \u001b[0mself\u001b[0m\u001b[1;33m.\u001b[0m\u001b[0margs\u001b[0m\u001b[1;33m,\u001b[0m \u001b[0mself\u001b[0m\u001b[1;33m.\u001b[0m\u001b[0mkwds\u001b[0m\u001b[1;33m,\u001b[0m \u001b[0mself\u001b[0m\u001b[1;33m.\u001b[0m\u001b[0mfunc\u001b[0m\u001b[1;33m\u001b[0m\u001b[1;33m\u001b[0m\u001b[0m\n\u001b[0;32m    111\u001b[0m         \u001b[1;32mtry\u001b[0m\u001b[1;33m:\u001b[0m\u001b[1;33m\u001b[0m\u001b[1;33m\u001b[0m\u001b[0m\n\u001b[1;32m--> 112\u001b[1;33m             \u001b[1;32mreturn\u001b[0m \u001b[0mnext\u001b[0m\u001b[1;33m(\u001b[0m\u001b[0mself\u001b[0m\u001b[1;33m.\u001b[0m\u001b[0mgen\u001b[0m\u001b[1;33m)\u001b[0m\u001b[1;33m\u001b[0m\u001b[1;33m\u001b[0m\u001b[0m\n\u001b[0m\u001b[0;32m    113\u001b[0m         \u001b[1;32mexcept\u001b[0m \u001b[0mStopIteration\u001b[0m\u001b[1;33m:\u001b[0m\u001b[1;33m\u001b[0m\u001b[1;33m\u001b[0m\u001b[0m\n\u001b[0;32m    114\u001b[0m             \u001b[1;32mraise\u001b[0m \u001b[0mRuntimeError\u001b[0m\u001b[1;33m(\u001b[0m\u001b[1;34m\"generator didn't yield\"\u001b[0m\u001b[1;33m)\u001b[0m \u001b[1;32mfrom\u001b[0m \u001b[1;32mNone\u001b[0m\u001b[1;33m\u001b[0m\u001b[1;33m\u001b[0m\u001b[0m\n",
      "\u001b[1;31mTypeError\u001b[0m: 'NoneType' object is not an iterator"
     ]
    }
   ],
   "source": [
    "\n",
    "for i, row in funtel.iterrows():\n",
    "    t, e, i, o, n = detalhes(row)\n",
    "    s.criar_processo(t, e, i, o, n)\n",
    "    break"
   ]
  },
  {
   "cell_type": "code",
   "execution_count": 82,
   "metadata": {},
   "outputs": [
    {
     "name": "stdout",
     "output_type": "stream",
     "text": [
      "Help on method _go_new_win in module tools.page:\n",
      "\n",
      "_go_new_win(main=None) -> None method of tools.page.Page instance\n",
      "    :param main: Caso seja fornecida uma instância do webdriver\n",
      "    :return:\n",
      "\n"
     ]
    }
   ],
   "source": [
    "help(s.page._go_new_win)"
   ]
  },
  {
   "cell_type": "code",
   "execution_count": 69,
   "metadata": {},
   "outputs": [],
   "source": []
  },
  {
   "cell_type": "code",
   "execution_count": 71,
   "metadata": {},
   "outputs": [
    {
     "data": {
      "text/plain": [
       "'Público'"
      ]
     },
     "execution_count": 71,
     "metadata": {},
     "output_type": "execute_result"
    }
   ],
   "source": [
    "n"
   ]
  },
  {
   "cell_type": "code",
   "execution_count": null,
   "metadata": {},
   "outputs": [],
   "source": []
  }
 ],
 "metadata": {
  "kernelspec": {
   "display_name": "anatelbot",
   "language": "python",
   "name": "anatelbot"
  },
  "language_info": {
   "codemirror_mode": {
    "name": "ipython",
    "version": 3
   },
   "file_extension": ".py",
   "mimetype": "text/x-python",
   "name": "python",
   "nbconvert_exporter": "python",
   "pygments_lexer": "ipython3",
   "version": "3.7.5"
  }
 },
 "nbformat": 4,
 "nbformat_minor": 4
}
