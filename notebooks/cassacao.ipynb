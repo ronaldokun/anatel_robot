{
 "cells": [
  {
   "cell_type": "code",
   "execution_count": null,
   "metadata": {
    "ExecuteTime": {
     "end_time": "2018-07-27T12:40:24.313356Z",
     "start_time": "2018-07-27T12:40:23.793280Z"
    }
   },
   "outputs": [],
   "source": [
    "import os\n",
    "import gc\n",
    "\n",
    "import pandas as pd\n",
    "import gspread_dataframe as gs\n",
    "import pyperclip as clip # copiar o texto clipboard\n",
    "from time import sleep\n",
    "from selenium.webdriver.support.ui import Select\n",
    "from selenium.webdriver.common.by import By\n",
    "from bs4 import BeautifulSoup as soup\n",
    "\n",
    "import random\n",
    "\n",
    "# Change the directory to reflect the main repository\n",
    "os.chdir(\"C:/Users/rsilva/gdrive/projects/programming/automation\")\n",
    "\n",
    "#import sistemas\n",
    "import sei\n",
    "import functions\n",
    "import page\n",
    "from page import *\n",
    "import helpers\n",
    "import sistemas\n",
    "\n",
    "% reload_ext autoreload\n",
    "% autoreload 2"
   ]
  },
  {
   "cell_type": "code",
   "execution_count": null,
   "metadata": {
    "ExecuteTime": {
     "end_time": "2018-07-27T11:07:02.998494Z",
     "start_time": "2018-07-27T11:07:02.840288Z"
    }
   },
   "outputs": [],
   "source": [
    "def extrai_pares_tabulação(source):\n",
    "    trs = source.find_all('tr')\n",
    "    dados = {}\n",
    "    i = 1\n",
    "    for tr in trs:        \n",
    "        td = tr.find_all('td', string=True)\n",
    "        label = tr.find_all('label', string=True)\n",
    "        \n",
    "        i = 1\n",
    "        for field, result in zip(td, label):\n",
    "            field, result = field.text[:-1], result.text\n",
    "            if field in dados:\n",
    "                field = field + \"_\" + str(i + 1)\n",
    "            dados[field] = result \n",
    "       \n",
    "    return dados"
   ]
  },
  {
   "cell_type": "code",
   "execution_count": null,
   "metadata": {
    "ExecuteTime": {
     "end_time": "2018-07-26T22:40:47.686538Z",
     "start_time": "2018-07-26T22:40:47.124538Z"
    }
   },
   "outputs": [],
   "source": [
    "processo = r'53504.006463/2018-16'"
   ]
  },
  {
   "cell_type": "code",
   "execution_count": null,
   "metadata": {
    "ExecuteTime": {
     "end_time": "2018-07-27T13:56:09.991975Z",
     "start_time": "2018-07-27T13:56:05.332404Z"
    }
   },
   "outputs": [],
   "source": [
    "auth = functions.authenticate_google(\"files/anatel.json\")\n",
    "wb = auth.open(title=\"Banco_de_Dados_Cassacao\")\n",
    "sht = wb.get_worksheet(0)\n",
    "df = gs.get_as_dataframe(sht, dtype=str)"
   ]
  },
  {
   "cell_type": "code",
   "execution_count": 77,
   "metadata": {
    "ExecuteTime": {
     "end_time": "2018-07-27T14:22:03.015315Z",
     "start_time": "2018-07-27T14:21:51.492715Z"
    }
   },
   "outputs": [],
   "source": [
    "usr = \"rsilva\"\n",
    "pwd = \"Savorthemom3nts\"\n",
    "\n",
    "page = webdriver.Ie()\n",
    "scpx = sistemas.Scpx(page)"
   ]
  },
  {
   "cell_type": "code",
   "execution_count": null,
   "metadata": {
    "ExecuteTime": {
     "end_time": "2018-07-27T13:56:39.312427Z",
     "start_time": "2018-07-27T13:56:36.900239Z"
    }
   },
   "outputs": [],
   "source": [
    "validade_rf = sht.range('T210:T227')\n",
    "fistel = sht.range('C210:C227')"
   ]
  },
  {
   "cell_type": "code",
   "execution_count": null,
   "metadata": {
    "ExecuteTime": {
     "end_time": "2018-07-27T13:21:09.129130Z",
     "start_time": "2018-07-27T13:20:50.921470Z"
    }
   },
   "outputs": [],
   "source": [
    "scpx.imprimir_licenca(\"33576590854\")"
   ]
  },
  {
   "cell_type": "code",
   "execution_count": null,
   "metadata": {
    "ExecuteTime": {
     "end_time": "2018-07-27T14:19:34.397315Z",
     "start_time": "2018-07-27T14:11:15.795415Z"
    }
   },
   "outputs": [],
   "source": [
    "#dados = list()\n",
    "for f, v in zip(fistel, validade_rf):\n",
    "    dados = scpx.extrai_cadastro(f.value, tipo_id='id_fistel')\n",
    "    \n",
    "    i = input()\n",
    "    \n",
    "    if i == 'l':\n",
    "        \n",
    "        try:\n",
    "        \n",
    "            scpx.imprimir_licenca(f.value())\n",
    "            \n",
    "        except: next\n",
    "        \n",
    "    elif i == 'g':\n",
    "        \n",
    "        try:\n",
    "                    \n",
    "            scpx.movimento_cancelar(f.value)\n",
    "            \n",
    "        except:\n",
    "            \n",
    "            next\n",
    "        \n",
    "    \n",
    "        \n",
    "    #v.value = dados[-1].get('Validade Radiofreqüência', \"\")\n",
    "    #sht.update_cell(v.row, v.col, v.value)\n",
    "    #scpx.consulta(f.value, tipo_id=\"id_fistel\")\n",
    "    \n",
    "    gc.collect()"
   ]
  },
  {
   "cell_type": "code",
   "execution_count": 78,
   "metadata": {
    "ExecuteTime": {
     "end_time": "2018-07-27T14:22:35.627315Z",
     "start_time": "2018-07-27T14:22:03.017315Z"
    }
   },
   "outputs": [],
   "source": [
    "scpx.movimento_cancelar(\"05712320860\")"
   ]
  },
  {
   "cell_type": "code",
   "execution_count": null,
   "metadata": {
    "ExecuteTime": {
     "end_time": "2018-07-27T12:52:50.658063Z",
     "start_time": "2018-07-27T12:52:50.150035Z"
    }
   },
   "outputs": [],
   "source": [
    "df = pd.DataFrame(columns=dados[0].keys())"
   ]
  },
  {
   "cell_type": "code",
   "execution_count": null,
   "metadata": {
    "ExecuteTime": {
     "end_time": "2018-07-27T12:52:56.911988Z",
     "start_time": "2018-07-27T12:52:54.146826Z"
    }
   },
   "outputs": [],
   "source": [
    "for dic in dados:\n",
    "\n",
    "    df = df.append(pd.Series(dic), ignore_index=True)\n",
    "    \n",
    "df.head()"
   ]
  },
  {
   "cell_type": "code",
   "execution_count": null,
   "metadata": {},
   "outputs": [],
   "source": [
    "vals = []\n",
    "\n",
    "for i, values in df[df[\"Processo\"] == processo].iterrows():\n",
    "    fistel = values.FISTEL\n",
    "    while len(fistel) < 11:\n",
    "        fistel = '0' + fistel\n",
    "    scpx.consulta(fistel,tipo_id='id_fistel')\n",
    "    source = soup(scpx.driver.page_source, \"lxml\")\n",
    "    dados = extrai_pares_tabulação(source)\n",
    "    \n",
    "    scpx.wait_for_element_to_click((By.ID, \"botaoFlatPróximo\")).click()\n",
    "    val_rf = source.find(id='labelDataValidadeRadioFrequencia')\n",
    "    \n",
    "    #source = soup(scpx.driver.page_source, \"lxml\")\n",
    "    #dados = {**dados, **extrai_pares_tabulação(source)}\n",
    "                                               \n",
    "    #proximo = scpx.wait_for_element_to_click((By.ID, \"botaoFlatEstação\"))\n",
    "    #proximo.click()\n",
    "    \n",
    "    #source = soup(scpx.driver.page_source, \"lxml\")\n",
    "    #dados = {**dados, **extrai_pares_tabulação(source)}\n",
    "    \n",
    "    print(\"Nome: {}\".format(values['NOME']))\n",
    "    print(\"Validade de Radiofrequência: {}\".format(val_rf.text))\n",
    "    print(\"Data de Validade Licença: {}\\n\".format(dados['Data Validade Licença']))\n",
    "    \n",
    "    vals.append(val_rf) \n",
    "    \n",
    "df.loc[df[\"Processo\"] == processo, \"Validade_RF\"] = vals"
   ]
  }
 ],
 "metadata": {
  "kernelspec": {
   "display_name": "Python 3",
   "language": "python",
   "name": "python3"
  },
  "language_info": {
   "codemirror_mode": {
    "name": "ipython",
    "version": 3
   },
   "file_extension": ".py",
   "mimetype": "text/x-python",
   "name": "python",
   "nbconvert_exporter": "python",
   "pygments_lexer": "ipython3",
   "version": "3.5.4"
  },
  "toc": {
   "base_numbering": 1,
   "nav_menu": {},
   "number_sections": true,
   "sideBar": true,
   "skip_h1_title": false,
   "title_cell": "Table of Contents",
   "title_sidebar": "Contents",
   "toc_cell": false,
   "toc_position": {},
   "toc_section_display": true,
   "toc_window_display": false
  }
 },
 "nbformat": 4,
 "nbformat_minor": 2
}
