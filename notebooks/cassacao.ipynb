{
 "cells": [
  {
   "cell_type": "code",
   "execution_count": 13,
   "metadata": {},
   "outputs": [],
   "source": [
    "import os\n",
    "\n",
    "import pandas as pd\n",
    "import gspread_dataframe as gs\n",
    "import pyperclip as clip # copiar o texto clipboard\n",
    "from time import sleep\n",
    "from selenium.webdriver.support.ui import Select\n",
    "from selenium.webdriver.common.by import By\n",
    "from bs4 import BeautifulSoup as soup\n",
    "\n",
    "import random\n",
    "\n",
    "# Change the directory to reflect the main repository\n",
    "os.chdir(\"C:/Users/rsilva/gdrive/projects/programming/automation\")\n",
    "\n",
    "#import sistemas\n",
    "import sei\n",
    "import functions\n",
    "import page\n",
    "from page import *\n",
    "import helpers\n",
    "import sistemas\n",
    "\n",
    "% reload_ext autoreload\n",
    "% autoreload 2"
   ]
  },
  {
   "cell_type": "code",
   "execution_count": null,
   "metadata": {},
   "outputs": [],
   "source": [
    "COLS = [\"CPF\", \"Nome\", \"Fistel\", \"Validade\", \"End_Sede\", \"Nome_RF\", \"End_Sede\",\n",
    "        \"End_Correspondencia\", \"End_Completo\", \"CPF_RF\", ]"
   ]
  },
  {
   "cell_type": "code",
   "execution_count": 39,
   "metadata": {},
   "outputs": [],
   "source": [
    "processo = \"53504.005936/2018-50\""
   ]
  },
  {
   "cell_type": "code",
   "execution_count": 4,
   "metadata": {},
   "outputs": [],
   "source": [
    "gc = functions.authenticate_google(\"files/anatel.json\")\n",
    "wb = gc.open(title=\"Expedidos\")\n",
    "sht = wb.get_worksheet(0)\n",
    "df = gs.get_as_dataframe(sht, dtype=str)"
   ]
  },
  {
   "cell_type": "code",
   "execution_count": 9,
   "metadata": {},
   "outputs": [],
   "source": [
    "def extrai_pares_tabulação(source):\n",
    "    trs = source.find_all('tr')\n",
    "    dados = {}\n",
    "    i = 1\n",
    "    for tr in trs:        \n",
    "        td = tr.find_all('td', string=True)\n",
    "        label = tr.find_all('label', string=True)\n",
    "        \n",
    "        i = 1\n",
    "        for field, result in zip(td, label):\n",
    "            field, result = field.text[:-1], result.text\n",
    "            if field in dados:\n",
    "                field = field + \"_\" + str(i + 1)\n",
    "            dados[field] = result \n",
    "       \n",
    "    return dados"
   ]
  },
  {
   "cell_type": "code",
   "execution_count": 15,
   "metadata": {},
   "outputs": [],
   "source": [
    "usr = \"rsilva\"\n",
    "pwd = \"Savorthemom3nts\"\n",
    "\n",
    "driver = webdriver.Ie()\n",
    "scpx = sistemas.Scpx(driver)"
   ]
  },
  {
   "cell_type": "code",
   "execution_count": null,
   "metadata": {},
   "outputs": [
    {
     "name": "stdout",
     "output_type": "stream",
     "text": [
      "Nome: ALEXANDRE CARLOS CALADO\n",
      "Validade de Radiofrequência: 06/09/2017\n",
      "Data de Validade Licença: 06/09/2017\n",
      "\n",
      "Nome: CELSO DONIZETE SALOMAO\n",
      "Validade de Radiofrequência: 13/06/2017\n",
      "Data de Validade Licença: 13/06/2017\n",
      "\n",
      "Nome: EDGAR HENRIQUE NERY\n",
      "Validade de Radiofrequência: 13/06/2017\n",
      "Data de Validade Licença: 13/06/2017\n",
      "\n",
      "Nome: EDUARDO CAMPOS PARDO\n",
      "Validade de Radiofrequência: 06/06/2017\n",
      "Data de Validade Licença: 31/03/2008\n",
      "\n",
      "Nome: FABIANO SABINO DA SILVA\n",
      "Validade de Radiofrequência: 13/06/2017\n",
      "Data de Validade Licença: 13/06/2017\n",
      "\n",
      "Nome: HELIO DE OLIVEIRA NUNES\n",
      "Validade de Radiofrequência: 13/06/2037\n",
      "Data de Validade Licença: 13/06/2037\n",
      "\n",
      "Nome: HENRIQUE CREPALDI INFORZATO\n",
      "Validade de Radiofrequência: 13/06/2017\n",
      "Data de Validade Licença: 13/06/2017\n",
      "\n",
      "Nome: JUAREZ LOYOLA JUNIOR\n",
      "Validade de Radiofrequência: 30/05/2017\n",
      "Data de Validade Licença: 30/05/2017\n",
      "\n",
      "Nome: MARCELO HUERTAS RODRIGUES\n",
      "Validade de Radiofrequência: 30/05/2017\n",
      "Data de Validade Licença: 30/05/2017\n",
      "\n",
      "Nome: MARCELO JOSE CARNEIRO\n",
      "Validade de Radiofrequência: 30/05/2017\n",
      "Data de Validade Licença: 30/05/2017\n",
      "\n",
      "Nome: MARCOS ANTONIO DA SILVA\n",
      "Validade de Radiofrequência: 30/05/2017\n",
      "Data de Validade Licença: 30/05/2017\n",
      "\n",
      "Nome: PEDRO PINTO MADUREIRA\n",
      "Validade de Radiofrequência: 30/05/2017\n",
      "Data de Validade Licença: 30/05/2017\n",
      "\n",
      "Nome: ROBERTO WAGNER GALINA\n",
      "Validade de Radiofrequência: 30/05/2017\n",
      "Data de Validade Licença: 30/05/2017\n",
      "\n"
     ]
    }
   ],
   "source": [
    "vals = []\n",
    "\n",
    "for i, values in df[df[\"Processo\"] == processo].iterrows():\n",
    "    fistel = values.FISTEL\n",
    "    while len(fistel) < 11:\n",
    "        fistel = '0' + fistel\n",
    "    scpx.consulta(fistel,tipo_id='id_fistel')\n",
    "    source = soup(scpx.driver.page_source, \"lxml\")\n",
    "    dados = extrai_pares_tabulação(source)\n",
    "    \n",
    "    scpx.wait_for_element_to_click((By.ID, \"botaoFlatPróximo\")).click()\n",
    "    val_rf = source.find(id='labelDataValidadeRadioFrequencia')\n",
    "    \n",
    "    #source = soup(scpx.driver.page_source, \"lxml\")\n",
    "    #dados = {**dados, **extrai_pares_tabulação(source)}\n",
    "                                               \n",
    "    #proximo = scpx.wait_for_element_to_click((By.ID, \"botaoFlatEstação\"))\n",
    "    #proximo.click()\n",
    "    \n",
    "    #source = soup(scpx.driver.page_source, \"lxml\")\n",
    "    #dados = {**dados, **extrai_pares_tabulação(source)}\n",
    "    \n",
    "    print(\"Nome: {}\".format(values['NOME']))\n",
    "    print(\"Validade de Radiofrequência: {}\".format(val_rf.text))\n",
    "    print(\"Data de Validade Licença: {}\\n\".format(dados['Data Validade Licença']))\n",
    "    \n",
    "    vals.append(val_rf) \n",
    "    \n",
    "df.loc[df[\"Processo\"] == processo, \"Validade_RF\"] = vals"
   ]
  }
 ],
 "metadata": {
  "kernelspec": {
   "display_name": "Python 3",
   "language": "python",
   "name": "python3"
  },
  "language_info": {
   "codemirror_mode": {
    "name": "ipython",
    "version": 3
   },
   "file_extension": ".py",
   "mimetype": "text/x-python",
   "name": "python",
   "nbconvert_exporter": "python",
   "pygments_lexer": "ipython3",
   "version": "3.5.4"
  }
 },
 "nbformat": 4,
 "nbformat_minor": 2
}
