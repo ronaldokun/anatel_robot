{
 "cells": [
  {
   "cell_type": "code",
   "execution_count": null,
   "metadata": {},
   "outputs": [],
   "source": [
    "import os\n",
    "import gc\n",
    "\n",
    "import pandas as pd\n",
    "import gspread_dataframe as gs\n",
    "import pyperclip as clip # copiar o texto clipboard\n",
    "from time import sleep\n",
    "from selenium import webdriver\n",
    "from selenium.webdriver.support.ui import Select\n",
    "from selenium.webdriver.common.by import By\n",
    "from bs4 import BeautifulSoup as soup\n",
    "\n",
    "import random\n",
    "\n",
    "# Change the directory to reflect the main repository\n",
    "os.chdir(\"C:/Users/rsilva/gdrive/projects/programming/automation\")\n",
    "\n",
    "#import sistemas\n",
    "import sei.sei as sei\n",
    "from sei.sei_helpers import *\n",
    "import page\n",
    "from page import *\n",
    "from sistemas import sistemas\n",
    "import functions\n",
    "\n",
    "% reload_ext autoreload\n",
    "% autoreload 2"
   ]
  },
  {
   "cell_type": "code",
   "execution_count": null,
   "metadata": {},
   "outputs": [],
   "source": [
    "def extrai_pares_tabulação(source):\n",
    "    trs = source.find_all('tr')\n",
    "    dados = {}\n",
    "    i = 1\n",
    "    for tr in trs:        \n",
    "        td = tr.find_all('td', string=True)\n",
    "        label = tr.find_all('label', string=True)\n",
    "        \n",
    "        i = 1\n",
    "        for field, result in zip(td, label):\n",
    "            field, result = field.text[:-1], result.text\n",
    "            if field in dados:\n",
    "                field = field + \"_\" + str(i + 1)\n",
    "            dados[field] = result \n",
    "       \n",
    "    return dados"
   ]
  },
  {
   "cell_type": "code",
   "execution_count": null,
   "metadata": {},
   "outputs": [],
   "source": [
    "def string_endereço(dados):\n",
    "    \n",
    "    d = {}\n",
    "    \n",
    "    s = 'A(o)<br>' \n",
    "    \n",
    "    s += dados[\"Nome/Razão Social\"].title()\n",
    "    \n",
    "    s += '<br>' + dados[\"Logradouro\"].title() + \", \" + dados[\"Número\"] + \" \" \n",
    "    \n",
    "    s += dados[\"Complemento\"].title() + \" \" \n",
    "    \n",
    "    s += dados[\"Bairro\"].title() + '<br>' \n",
    "    \n",
    "    s += \"CEP: \" + dados[\"Cep\"] + \" - \" + dados[\"Município\"].title() + \" - \" + dados[\"UF\"] \n",
    "            \n",
    "    s += \"<br><br>\" + \"<b>FISTEL: \" + dados[\"Número Fistel\"] + \"</b>\"\n",
    "    \n",
    "    s += \"<br><br>\" + \"<b>Validade: \" + dados[\"Validade Radiofreqüência\"] + \"</b>\"\n",
    "    \n",
    "    \n",
    "    d[\"À\"] = s\n",
    "    \n",
    "    #d[r'vencem(ram)'] = 'vencem(ram) em {0}'.format(dado['Validade Radiofreqüência'])\n",
    "    \n",
    "    return d"
   ]
  },
  {
   "cell_type": "code",
   "execution_count": null,
   "metadata": {},
   "outputs": [],
   "source": [
    "processo = r'53504.000636/2019-65'"
   ]
  },
  {
   "cell_type": "code",
   "execution_count": null,
   "metadata": {},
   "outputs": [],
   "source": [
    "usr = 'rsilva'\n",
    "pwd = 'Savorthemom3nts'\n",
    "sei_ = sei.login_sei(webdriver.Firefox(), usr, pwd)"
   ]
  },
  {
   "cell_type": "code",
   "execution_count": null,
   "metadata": {},
   "outputs": [],
   "source": [
    "sei_.itera_processos()"
   ]
  },
  {
   "cell_type": "code",
   "execution_count": null,
   "metadata": {},
   "outputs": [],
   "source": [
    "p = sei_.go_to_processo(processo)"
   ]
  },
  {
   "cell_type": "code",
   "execution_count": null,
   "metadata": {},
   "outputs": [],
   "source": [
    "auth = functions.authenticate_google(\"files/anatel.json\")\n",
    "wb = auth.open(title=\"RC\")\n",
    "sht = wb.worksheet(processo)\n",
    "df = gs.get_as_dataframe(sht, dtype=str)"
   ]
  },
  {
   "cell_type": "code",
   "execution_count": null,
   "metadata": {},
   "outputs": [],
   "source": [
    "df.shape"
   ]
  },
  {
   "cell_type": "code",
   "execution_count": null,
   "metadata": {},
   "outputs": [],
   "source": [
    "usr = \"rsilva\"\n",
    "pwd = \"Savorthemom3nts\"\n",
    "\n",
    "page = webdriver.Ie()\n",
    "scpx = sistemas.Scpx(page)"
   ]
  },
  {
   "cell_type": "code",
   "execution_count": null,
   "metadata": {},
   "outputs": [],
   "source": [
    "nome = df['Nome da Entidade'][1:]\n",
    "cpf = df['CNPJ/CPF'][1:]\n",
    "fistel = df['Fistel'][1:]"
   ]
  },
  {
   "cell_type": "code",
   "execution_count": null,
   "metadata": {},
   "outputs": [],
   "source": [
    "#dados = pd.read_pickle(\"dados.pkl\")"
   ]
  },
  {
   "cell_type": "code",
   "execution_count": null,
   "metadata": {},
   "outputs": [],
   "source": [
    "dados = pd.read_pickle(\"dados.pkl\")\n",
    "\n",
    "\n",
    "for i, (n, f, c) in enumerate(zip(nome, fistel, cpf)):\n",
    "    \n",
    "    f = str(f)\n",
    "    \n",
    "    p = sei_.go_to_processo(processo)\n",
    "\n",
    "    sleep(5)\n",
    "    \n",
    "    while len(f) < 11:\n",
    "        f = '0' + f\n",
    "        \n",
    "    dado = dados.get(c, None)    \n",
    "        \n",
    "    if not dado: \n",
    "        \n",
    "        dado = scpx.extrai_cadastro(f, tipo_id='id_fistel', timeout=5)\n",
    "        \n",
    "        dados[c] = dado\n",
    "        \n",
    "        pd.to_pickle(dados, \"dados.pkl\")\n",
    "        \n",
    "    val = dado['Validade Radiofreqüência']\n",
    "        \n",
    "    df.loc[df[\"CNPJ/CPF\"] == c, \"Validade\"] = val\n",
    "    \n",
    "    print(dado[\"Nome/Razão Social\"], val)\n",
    "                \n",
    "    #tags = sei_.pesquisa_contato(n)\n",
    "    \n",
    "    #if tags is None:\n",
    "        \n",
    "    #    sei_._cria_contato(dado)\n",
    "        \n",
    "    #else:\n",
    "        \n",
    "    #    try:\n",
    "    #        sei_._mudar_dados_contato(dado)            \n",
    "    #    except: next\n",
    "    \n",
    "    p.incluir_oficio(\"RC_Oficio de Cassação\", dados=string_endereço(dados[c]), timeout=5)\n",
    "    \n",
    "    sleep(5)\n",
    "    \n",
    "    gc.collect()"
   ]
  },
  {
   "cell_type": "code",
   "execution_count": null,
   "metadata": {},
   "outputs": [],
   "source": [
    "dados.keys()"
   ]
  },
  {
   "cell_type": "code",
   "execution_count": null,
   "metadata": {},
   "outputs": [],
   "source": [
    "df.Validade = pd.to_datetime(df['Validade'])"
   ]
  },
  {
   "cell_type": "code",
   "execution_count": null,
   "metadata": {},
   "outputs": [],
   "source": [
    "df.loc[df.Validade >= '2019', ['CNPJ/CPF', 'Nome da Entidade', 'Fistel', 'Validade']]"
   ]
  },
  {
   "cell_type": "code",
   "execution_count": null,
   "metadata": {},
   "outputs": [],
   "source": [
    "gs.set_with_dataframe(sht, df)"
   ]
  },
  {
   "cell_type": "code",
   "execution_count": null,
   "metadata": {},
   "outputs": [],
   "source": [
    "#pd.to_pickle(dados, \"dados.pkl\")\n",
    "dados = pd.read_pickle(\"dados.pkl\")"
   ]
  },
  {
   "cell_type": "code",
   "execution_count": null,
   "metadata": {},
   "outputs": [],
   "source": [
    "len(dados)"
   ]
  },
  {
   "cell_type": "code",
   "execution_count": null,
   "metadata": {},
   "outputs": [],
   "source": [
    "scpx.movimento_cancelar(\"05712320860\")"
   ]
  },
  {
   "cell_type": "code",
   "execution_count": null,
   "metadata": {},
   "outputs": [],
   "source": [
    "df = pd.DataFrame(columns=dados[0].keys())"
   ]
  },
  {
   "cell_type": "code",
   "execution_count": null,
   "metadata": {},
   "outputs": [],
   "source": [
    "for dic in dados:\n",
    "\n",
    "    df = df.append(pd.Series(dic), ignore_index=True)\n",
    "    \n",
    "df.head()"
   ]
  },
  {
   "cell_type": "code",
   "execution_count": null,
   "metadata": {},
   "outputs": [],
   "source": [
    "vals = []\n",
    "\n",
    "for i, values in df[df[\"Processo\"] == processo].iterrows():\n",
    "    fistel = values.FISTEL\n",
    "    while len(fistel) < 11:\n",
    "        fistel = '0' + fistel\n",
    "    scpx.consulta(fistel,tipo_id='id_fistel')\n",
    "    source = soup(scpx.driver.page_source, \"lxml\")\n",
    "    dados = extrai_pares_tabulação(source)\n",
    "    \n",
    "    scpx.wait_for_element_to_click((By.ID, \"botaoFlatPróximo\")).click()\n",
    "    val_rf = source.find(id='labelDataValidadeRadioFrequencia')\n",
    "    \n",
    "    #source = soup(scpx.driver.page_source, \"lxml\")\n",
    "    #dados = {**dados, **extrai_pares_tabulação(source)}\n",
    "                                               \n",
    "    #proximo = scpx.wait_for_element_to_click((By.ID, \"botaoFlatEstação\"))\n",
    "    #proximo.click()\n",
    "    \n",
    "    #source = soup(scpx.driver.page_source, \"lxml\")\n",
    "    #dados = {**dados, **extrai_pares_tabulação(source)}\n",
    "    \n",
    "    print(\"Nome: {}\".format(values['NOME']))\n",
    "    print(\"Validade de Radiofrequência: {}\".format(val_rf.text))\n",
    "    print(\"Data de Validade Licença: {}\\n\".format(dados['Data Validade Licença']))\n",
    "    \n",
    "    vals.append(val_rf) \n",
    "    \n",
    "df.loc[df[\"Processo\"] == processo, \"Validade_RF\"] = vals"
   ]
  }
 ],
 "metadata": {
  "jupytext": {
   "text_representation": {
    "extension": ".py",
    "format_name": "percent",
    "format_version": "1.2",
    "jupytext_version": "0.8.6"
   }
  },
  "kernelspec": {
   "display_name": "Python 3",
   "language": "python",
   "name": "python3"
  },
  "language_info": {
   "codemirror_mode": {
    "name": "ipython",
    "version": 3
   },
   "file_extension": ".py",
   "mimetype": "text/x-python",
   "name": "python",
   "nbconvert_exporter": "python",
   "pygments_lexer": "ipython3",
   "version": "3.7.1"
  },
  "nbTranslate": {
   "displayLangs": [
    "*"
   ],
   "hotkey": "alt-t",
   "langInMainMenu": true,
   "sourceLang": "en",
   "targetLang": "pt",
   "useGoogleTranslate": true
  },
  "toc": {
   "base_numbering": 1,
   "nav_menu": {},
   "number_sections": true,
   "sideBar": true,
   "skip_h1_title": false,
   "title_cell": "Table of Contents",
   "title_sidebar": "Contents",
   "toc_cell": false,
   "toc_position": {},
   "toc_section_display": true,
   "toc_window_display": false
  },
  "varInspector": {
   "cols": {
    "lenName": 16,
    "lenType": 16,
    "lenVar": 40
   },
   "kernels_config": {
    "python": {
     "delete_cmd_postfix": "",
     "delete_cmd_prefix": "del ",
     "library": "var_list.py",
     "varRefreshCmd": "print(var_dic_list())"
    },
    "r": {
     "delete_cmd_postfix": ") ",
     "delete_cmd_prefix": "rm(",
     "library": "var_list.r",
     "varRefreshCmd": "cat(var_dic_list()) "
    }
   },
   "types_to_exclude": [
    "module",
    "function",
    "builtin_function_or_method",
    "instance",
    "_Feature"
   ],
   "window_display": false
  }
 },
 "nbformat": 4,
 "nbformat_minor": 2
}
