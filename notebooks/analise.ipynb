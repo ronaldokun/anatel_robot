{
 "cells": [
  {
   "cell_type": "code",
   "execution_count": null,
   "metadata": {
    "ExecuteTime": {
     "end_time": "2018-07-25T19:53:49.604113Z",
     "start_time": "2018-07-25T19:53:48.842571Z"
    }
   },
   "outputs": [],
   "source": [
    "import os\n",
    "import gc\n",
    "import pyperclip as clip\n",
    "# Change the directory to reflect the main repository\n",
    "os.chdir(\"C:/Users/rsilva/gdrive/projects/programming/automation\")\n",
    "from time import sleep\n",
    "import sistemas\n",
    "import sei\n",
    "import functions\n",
    "from page import *\n",
    "import selenium.webdriver as webdriver\n",
    "\n",
    "% reload_ext autoreload\n",
    "% autoreload 2"
   ]
  },
  {
   "cell_type": "code",
   "execution_count": null,
   "metadata": {
    "ExecuteTime": {
     "end_time": "2018-07-20T13:16:13.770568Z",
     "start_time": "2018-07-20T13:16:13.634554Z"
    }
   },
   "outputs": [],
   "source": [
    "PATH = os.path.abspath(r\"C:/Users/rsilva/Desktop/SEI/\")\n",
    "print(PATH)               "
   ]
  },
  {
   "cell_type": "code",
   "execution_count": null,
   "metadata": {
    "ExecuteTime": {
     "end_time": "2018-07-20T13:16:13.902581Z",
     "start_time": "2018-07-20T13:16:13.772568Z"
    }
   },
   "outputs": [],
   "source": [
    "keys = ('Nome/Razão Social', 'Logradouro', 'Número', 'Complemento', 'Bairro', 'Cep', 'Município', 'UF', 'Número Fistel')"
   ]
  },
  {
   "cell_type": "code",
   "execution_count": null,
   "metadata": {
    "ExecuteTime": {
     "end_time": "2018-07-20T13:16:14.045595Z",
     "start_time": "2018-07-20T13:16:13.904581Z"
    }
   },
   "outputs": [],
   "source": [
    "def string_endereço(dados):\n",
    "    \n",
    "    d = {}\n",
    "    \n",
    "    s = 'A(o)<br><br>' \n",
    "    \n",
    "    s += dados[\"Nome/Razão Social\"].title()\n",
    "    \n",
    "    s += '<br>' + dados[\"Logradouro\"].title() + \", \" + dados[\"Número\"] + \" \" \n",
    "    \n",
    "    s += dados[\"Complemento\"].title() + \" \" \n",
    "    \n",
    "    s += dados[\"Bairro\"].title() + '<br>' \n",
    "    \n",
    "    s += \"CEP: \" + dados[\"Cep\"] + \" - \" + dados[\"Município\"].title() + \" - \" + dados[\"UF\"] \n",
    "            \n",
    "    s += \"<br><br>\" + \"<b>FISTEL: \" + dados[\"Número Fistel\"] + \"</b>\"\n",
    "    \n",
    "    d[\"A\"] = s\n",
    "    \n",
    "    return d"
   ]
  },
  {
   "cell_type": "code",
   "execution_count": null,
   "metadata": {
    "ExecuteTime": {
     "end_time": "2018-07-20T16:44:27.664372Z",
     "start_time": "2018-07-20T16:44:27.503772Z"
    }
   },
   "outputs": [],
   "source": [
    "cpf = '351.987.128-92'\n",
    "proc = r'53504.006105/2018-03'"
   ]
  },
  {
   "cell_type": "markdown",
   "metadata": {
    "heading_collapsed": true
   },
   "source": [
    "# Scpx - Manipulação de Cadastro"
   ]
  },
  {
   "cell_type": "code",
   "execution_count": null,
   "metadata": {
    "ExecuteTime": {
     "end_time": "2018-07-25T19:53:58.746201Z",
     "start_time": "2018-07-25T19:53:54.546450Z"
    },
    "hidden": true
   },
   "outputs": [],
   "source": [
    "driver = webdriver.Ie()\n",
    "scpx = sistemas.Scpx()"
   ]
  },
  {
   "cell_type": "markdown",
   "metadata": {
    "hidden": true
   },
   "source": [
    "### Consulta"
   ]
  },
  {
   "cell_type": "code",
   "execution_count": null,
   "metadata": {
    "ExecuteTime": {
     "end_time": "2018-07-19T14:43:51.996975Z",
     "start_time": "2018-07-19T14:43:28.741005Z"
    },
    "hidden": true
   },
   "outputs": [],
   "source": [
    "scpx.consulta(cpf)"
   ]
  },
  {
   "cell_type": "markdown",
   "metadata": {
    "hidden": true
   },
   "source": [
    "### Serviço"
   ]
  },
  {
   "cell_type": "code",
   "execution_count": null,
   "metadata": {
    "ExecuteTime": {
     "end_time": "2018-07-19T14:01:26.918329Z",
     "start_time": "2018-07-19T14:00:40.680306Z"
    },
    "hidden": true
   },
   "outputs": [],
   "source": [
    "scpx.servico_incluir(cpf, num_processo=proc, silent=True)"
   ]
  },
  {
   "cell_type": "code",
   "execution_count": null,
   "metadata": {
    "hidden": true
   },
   "outputs": [],
   "source": [
    "#scpx.servico_excluir(cpf, num_processo=proc)"
   ]
  },
  {
   "cell_type": "markdown",
   "metadata": {
    "hidden": true
   },
   "source": [
    "## Estação"
   ]
  },
  {
   "cell_type": "code",
   "execution_count": null,
   "metadata": {
    "ExecuteTime": {
     "end_time": "2018-07-18T14:34:06.219612Z",
     "start_time": "2018-07-18T14:33:36.161612Z"
    },
    "hidden": true
   },
   "outputs": [],
   "source": [
    "scpx.prorrogar_rf(cpf)"
   ]
  },
  {
   "cell_type": "code",
   "execution_count": null,
   "metadata": {
    "ExecuteTime": {
     "end_time": "2018-07-18T14:38:46.486865Z",
     "start_time": "2018-07-18T14:38:22.976468Z"
    },
    "hidden": true,
    "scrolled": true
   },
   "outputs": [],
   "source": [
    "scpx.prorrogar_estacao(cpf)"
   ]
  },
  {
   "cell_type": "code",
   "execution_count": null,
   "metadata": {
    "ExecuteTime": {
     "end_time": "2018-07-19T14:09:30.271744Z",
     "start_time": "2018-07-19T14:08:50.721082Z"
    },
    "hidden": true
   },
   "outputs": [],
   "source": [
    "scpx.incluir_estacao(cpf, 'Fixa', 'PX2J1609', sequencial='002')"
   ]
  },
  {
   "cell_type": "code",
   "execution_count": null,
   "metadata": {
    "ExecuteTime": {
     "end_time": "2018-07-19T14:22:48.718986Z",
     "start_time": "2018-07-19T14:21:55.259039Z"
    },
    "hidden": true
   },
   "outputs": [],
   "source": [
    "scpx.incluir_estacao(cpf, 'Móvel', 'PX2R1986', sequencial='001')"
   ]
  },
  {
   "cell_type": "code",
   "execution_count": null,
   "metadata": {
    "ExecuteTime": {
     "end_time": "2018-07-19T14:34:31.289031Z",
     "start_time": "2018-07-19T14:34:05.276909Z"
    },
    "hidden": true
   },
   "outputs": [],
   "source": [
    "scpx.movimento_transferir(cpf, 'B', 'E', proc=proc)"
   ]
  },
  {
   "cell_type": "code",
   "execution_count": null,
   "metadata": {
    "ExecuteTime": {
     "end_time": "2018-07-19T14:21:25.615217Z",
     "start_time": "2018-07-19T14:21:02.133029Z"
    },
    "hidden": true
   },
   "outputs": [],
   "source": [
    "scpx.movimento_transferir(cpf, 'A', 'G', proc=proc)"
   ]
  },
  {
   "cell_type": "code",
   "execution_count": null,
   "metadata": {
    "ExecuteTime": {
     "end_time": "2018-07-19T14:21:55.256539Z",
     "start_time": "2018-07-19T14:21:25.615217Z"
    },
    "hidden": true
   },
   "outputs": [],
   "source": [
    "scpx.movimento_cancelar(cpf)"
   ]
  },
  {
   "cell_type": "code",
   "execution_count": null,
   "metadata": {
    "ExecuteTime": {
     "end_time": "2018-07-19T14:44:44.708105Z",
     "start_time": "2018-07-19T14:44:23.000142Z"
    },
    "hidden": true
   },
   "outputs": [],
   "source": [
    "scpx.licenciar_estacao(cpf, silent=True)"
   ]
  },
  {
   "cell_type": "code",
   "execution_count": null,
   "metadata": {
    "ExecuteTime": {
     "end_time": "2018-07-19T14:45:15.341228Z",
     "start_time": "2018-07-19T14:44:44.708105Z"
    },
    "hidden": true
   },
   "outputs": [],
   "source": [
    "scpx.licenciar_estacao(cpf, ppdess=False, silent=True)"
   ]
  },
  {
   "cell_type": "code",
   "execution_count": null,
   "metadata": {
    "ExecuteTime": {
     "end_time": "2018-07-19T14:49:12.797506Z",
     "start_time": "2018-07-19T14:48:57.239206Z"
    },
    "hidden": true
   },
   "outputs": [],
   "source": [
    "dados = scpx.extrai_cadastro(cpf)"
   ]
  },
  {
   "cell_type": "markdown",
   "metadata": {
    "hidden": true
   },
   "source": [
    "## Licença"
   ]
  },
  {
   "cell_type": "code",
   "execution_count": null,
   "metadata": {
    "ExecuteTime": {
     "end_time": "2018-07-18T18:37:24.412843Z",
     "start_time": "2018-07-18T18:36:58.120679Z"
    },
    "hidden": true
   },
   "outputs": [],
   "source": [
    "scpx.imprimir_licenca(cpf)"
   ]
  },
  {
   "cell_type": "markdown",
   "metadata": {},
   "source": [
    "# SEI - Manipulação de Processo"
   ]
  },
  {
   "cell_type": "markdown",
   "metadata": {
    "ExecuteTime": {
     "end_time": "2018-07-20T17:23:01.149621Z",
     "start_time": "2018-07-20T17:23:00.884814Z"
    }
   },
   "source": [
    "## Autenticação"
   ]
  },
  {
   "cell_type": "code",
   "execution_count": null,
   "metadata": {
    "ExecuteTime": {
     "end_time": "2018-07-20T17:20:42.479478Z",
     "start_time": "2018-07-20T17:20:35.824412Z"
    }
   },
   "outputs": [],
   "source": [
    "usr = \"rsilva\"\n",
    "pwd = \"Savorthemom3nts\"\n",
    "browser = webdriver.Firefox()"
   ]
  },
  {
   "cell_type": "code",
   "execution_count": null,
   "metadata": {
    "ExecuteTime": {
     "end_time": "2018-07-20T17:20:44.490023Z",
     "start_time": "2018-07-20T17:20:42.479478Z"
    }
   },
   "outputs": [],
   "source": [
    "sei_ = sei.login_sei(browser, usr, pwd)"
   ]
  },
  {
   "cell_type": "code",
   "execution_count": null,
   "metadata": {
    "ExecuteTime": {
     "end_time": "2018-07-20T17:20:44.804054Z",
     "start_time": "2018-07-20T17:20:44.492023Z"
    }
   },
   "outputs": [],
   "source": [
    "sei_ = sei.Sei(sei_)"
   ]
  },
  {
   "cell_type": "code",
   "execution_count": null,
   "metadata": {
    "ExecuteTime": {
     "end_time": "2018-07-20T20:11:22.738203Z",
     "start_time": "2018-07-20T20:10:58.039203Z"
    }
   },
   "outputs": [],
   "source": [
    "sei_.itera_processos()"
   ]
  },
  {
   "cell_type": "code",
   "execution_count": null,
   "metadata": {
    "ExecuteTime": {
     "end_time": "2018-07-20T19:39:27.335403Z",
     "start_time": "2018-07-20T19:39:27.027403Z"
    }
   },
   "outputs": [],
   "source": [
    "p = sei_.go_to_processo('53504.011700/2017-71')"
   ]
  },
  {
   "cell_type": "markdown",
   "metadata": {},
   "source": [
    "## Doc Externo"
   ]
  },
  {
   "cell_type": "code",
   "execution_count": null,
   "metadata": {
    "ExecuteTime": {
     "end_time": "2018-07-20T18:31:15.990856Z",
     "start_time": "2018-07-20T18:31:15.732648Z"
    }
   },
   "outputs": [],
   "source": [
    "files = sorted(os.listdir(PATH), reverse=True)\n",
    "file = os.path.join(PATH, files[0])"
   ]
  },
  {
   "cell_type": "code",
   "execution_count": null,
   "metadata": {
    "ExecuteTime": {
     "end_time": "2018-07-20T18:31:27.867664Z",
     "start_time": "2018-07-20T18:31:16.653513Z"
    },
    "scrolled": true
   },
   "outputs": [],
   "source": [
    "p.incluir_doc_externo('Relação', file, arvore=\"de Entidades Não Prorrogadas\")"
   ]
  },
  {
   "cell_type": "code",
   "execution_count": null,
   "metadata": {
    "ExecuteTime": {
     "end_time": "2018-07-19T14:49:35.854576Z",
     "start_time": "2018-07-19T14:49:29.684236Z"
    }
   },
   "outputs": [],
   "source": [
    "p.incluir_oficio('RC_OF_Sem_Contexto_PPDESS', string_endereço(dados))"
   ]
  },
  {
   "cell_type": "markdown",
   "metadata": {},
   "source": [
    "## Controles"
   ]
  },
  {
   "cell_type": "code",
   "execution_count": null,
   "metadata": {
    "ExecuteTime": {
     "end_time": "2018-07-20T17:40:06.290358Z",
     "start_time": "2018-07-20T17:40:00.474015Z"
    }
   },
   "outputs": [],
   "source": [
    "p.edita_marcador(tipo=\"RC - Aguardando AR/Resposta\", content='Até 30/08/2018')"
   ]
  },
  {
   "cell_type": "code",
   "execution_count": null,
   "metadata": {
    "ExecuteTime": {
     "end_time": "2018-07-20T19:39:44.661803Z",
     "start_time": "2018-07-20T19:39:36.718803Z"
    }
   },
   "outputs": [],
   "source": [
    "p.edita_marcador()"
   ]
  },
  {
   "cell_type": "code",
   "execution_count": null,
   "metadata": {
    "ExecuteTime": {
     "end_time": "2018-07-20T19:39:47.434603Z",
     "start_time": "2018-07-20T19:39:44.661803Z"
    }
   },
   "outputs": [],
   "source": [
    "p.edita_postit()"
   ]
  },
  {
   "cell_type": "code",
   "execution_count": null,
   "metadata": {
    "ExecuteTime": {
     "end_time": "2018-07-20T19:39:53.131803Z",
     "start_time": "2018-07-20T19:39:47.434603Z"
    }
   },
   "outputs": [],
   "source": [
    "p.excluir_acomp_especial()"
   ]
  },
  {
   "cell_type": "code",
   "execution_count": null,
   "metadata": {
    "ExecuteTime": {
     "end_time": "2018-07-20T19:39:58.416403Z",
     "start_time": "2018-07-20T19:39:53.131803Z"
    }
   },
   "outputs": [],
   "source": [
    "p.concluir_processo()"
   ]
  },
  {
   "cell_type": "markdown",
   "metadata": {
    "ExecuteTime": {
     "end_time": "2018-07-20T17:24:00.770532Z",
     "start_time": "2018-07-20T17:24:00.479722Z"
    }
   },
   "source": [
    "## Testes"
   ]
  },
  {
   "cell_type": "code",
   "execution_count": null,
   "metadata": {
    "ExecuteTime": {
     "end_time": "2018-07-20T19:42:48.973003Z",
     "start_time": "2018-07-20T19:42:48.773403Z"
    }
   },
   "outputs": [],
   "source": [
    "tipo = \"Outorga: Rádio do Cidadão\"\n",
    "atribuicao = 'rodrigoca'"
   ]
  },
  {
   "cell_type": "code",
   "execution_count": null,
   "metadata": {
    "ExecuteTime": {
     "end_time": "2018-07-20T20:12:00.345003Z",
     "start_time": "2018-07-20T20:12:00.175803Z"
    }
   },
   "outputs": [],
   "source": [
    "processos = [p for p in sei_.get_processos().values() if p['atribuicao'] == 'rodrigoca']"
   ]
  },
  {
   "cell_type": "code",
   "execution_count": null,
   "metadata": {
    "ExecuteTime": {
     "end_time": "2018-07-20T19:42:52.514003Z",
     "start_time": "2018-07-20T19:42:52.322603Z"
    }
   },
   "outputs": [],
   "source": [
    "mm = [p for p in processos if p['tipo'] == tipo]"
   ]
  },
  {
   "cell_type": "code",
   "execution_count": null,
   "metadata": {
    "ExecuteTime": {
     "end_time": "2018-07-20T19:44:45.188003Z",
     "start_time": "2018-07-20T19:44:45.024403Z"
    }
   },
   "outputs": [],
   "source": [
    "for p in mm:\n",
    "    print(p.get('marcador'))"
   ]
  },
  {
   "cell_type": "code",
   "execution_count": null,
   "metadata": {
    "ExecuteTime": {
     "end_time": "2018-07-20T20:12:05.974203Z",
     "start_time": "2018-07-20T20:12:05.797403Z"
    }
   },
   "outputs": [],
   "source": [
    "concluir = list()"
   ]
  },
  {
   "cell_type": "code",
   "execution_count": null,
   "metadata": {
    "ExecuteTime": {
     "end_time": "2018-07-20T20:12:43.262603Z",
     "start_time": "2018-07-20T20:12:12.140803Z"
    }
   },
   "outputs": [],
   "source": [
    "for processo in processos:\n",
    "    \n",
    "    if 'Licença' in str(processo.get('marcador')):\n",
    "        \n",
    "        p = sei_.go_to_processo(processo['numero'])\n",
    "        \n",
    "        i = input()\n",
    "        \n",
    "        if i == '1': \n",
    "            \n",
    "            concluir.append(processo)\n",
    "            \n",
    "            \n",
    "        gc.collect()"
   ]
  },
  {
   "cell_type": "code",
   "execution_count": null,
   "metadata": {
    "ExecuteTime": {
     "end_time": "2018-07-20T20:19:25.918003Z",
     "start_time": "2018-07-20T20:12:48.496203Z"
    }
   },
   "outputs": [],
   "source": [
    "for processo in concluir:\n",
    "    \n",
    "    p = sei_.go_to_processo(processo['numero'])\n",
    "    \n",
    "    \n",
    "    sleep(2)\n",
    "    \n",
    "    try:    \n",
    "        p.edita_marcador()    \n",
    "    \n",
    "        p.edita_postit()\n",
    "    \n",
    "        p.excluir_acomp_especial()\n",
    "        \n",
    "        p.concluir_processo() \n",
    "            \n",
    "    except:\n",
    "            \n",
    "            next"
   ]
  },
  {
   "cell_type": "code",
   "execution_count": null,
   "metadata": {
    "ExecuteTime": {
     "end_time": "2018-07-19T21:19:05.187340Z",
     "start_time": "2018-07-19T20:31:22.660Z"
    }
   },
   "outputs": [],
   "source": [
    "#dados = scpx.extrai_cadastro(dado['interessado'], tipo_id='id_nome', timeout=5)\n"
   ]
  },
  {
   "cell_type": "code",
   "execution_count": null,
   "metadata": {
    "ExecuteTime": {
     "end_time": "2018-07-19T20:11:44.192568Z",
     "start_time": "2018-07-19T20:08:48.569682Z"
    }
   },
   "outputs": [],
   "source": [
    "for num, dado in tupla[30:]:\n",
    "        \n",
    "    p = sei_.go_to_processo(num)\n",
    "    \n",
    "    i = input()\n",
    "    \n",
    "    if i =='y':\n",
    "        \n",
    "        try:\n",
    "            \n",
    "            dados = scpx.extrai_cadastro(dado['interessado'], tipo_id='id_nome', timeout=5)\n",
    "                               \n",
    "            p.incluir_oficio('RC_OF_Sem_Contexto_Licença', string_endereço(dados))\n",
    "            \n",
    "            p.edita_marcador(tipo='RC - Aguardando AR/Resposta', content='Até 31/07/2018')        \n",
    "\n",
    "            \n",
    "        except:\n",
    "            \n",
    "            next            \n",
    "            \n",
    "    if i == 'c':\n",
    "        \n",
    "        p.edita_marcador()\n",
    "        p.edita_postit()\n",
    "        p.excluir_acomp_especial()\n",
    "        p.concluir_processo() "
   ]
  },
  {
   "cell_type": "markdown",
   "metadata": {},
   "source": [
    "## Outros"
   ]
  },
  {
   "cell_type": "code",
   "execution_count": null,
   "metadata": {},
   "outputs": [],
   "source": [
    "from bs4 import BeautifulSoup as soup\n",
    "html = soup(scpx.driver.page_source, 'lxml')"
   ]
  },
  {
   "cell_type": "code",
   "execution_count": null,
   "metadata": {},
   "outputs": [],
   "source": [
    "dict_ = {}\n",
    "for tr in html.find_all('tr'):\n",
    "    for td in tr.find_all('td', string=True):\n",
    "        key = td.text.strip(\" :\")\n",
    "        value = td.find_next_sibling('td')            \n",
    "        if value and key not in dict_ and value.text.strip() != \"\":\n",
    "            dict_[key] = value.text.strip()\n",
    "            print(\"{0} {1}\".format(key, value.text.strip())) \n"
   ]
  },
  {
   "cell_type": "code",
   "execution_count": null,
   "metadata": {},
   "outputs": [],
   "source": [
    "dict_ = {}\n",
    "for tr in html.find_all('tr'):\n",
    "    for label in tr.find_all('label', string=True):\n",
    "        print(\"{0} {1}\".format(label.attrs.get('id'), label.text.strip()))                           "
   ]
  },
  {
   "cell_type": "code",
   "execution_count": null,
   "metadata": {},
   "outputs": [],
   "source": [
    "from bs4 import NavigableString\n",
    "def next_is_string(tag):\n",
    "    return isinstance(tag.next_element, NavigableString)             "
   ]
  },
  {
   "cell_type": "markdown",
   "metadata": {
    "ExecuteTime": {
     "end_time": "2018-07-25T19:54:36.509214Z",
     "start_time": "2018-07-25T19:54:36.259198Z"
    }
   },
   "source": [
    "# Boleto"
   ]
  },
  {
   "cell_type": "code",
   "execution_count": 7,
   "metadata": {
    "ExecuteTime": {
     "end_time": "2018-07-25T19:55:01.998255Z",
     "start_time": "2018-07-25T19:54:57.869538Z"
    }
   },
   "outputs": [],
   "source": [
    "boleto = sistemas.Boleto(driver)"
   ]
  },
  {
   "cell_type": "code",
   "execution_count": 8,
   "metadata": {
    "ExecuteTime": {
     "end_time": "2018-07-25T20:05:49.005922Z",
     "start_time": "2018-07-25T20:05:48.773908Z"
    }
   },
   "outputs": [],
   "source": [
    "fistel = '80113639805'\n",
    "cpf = \"31250732867\""
   ]
  },
  {
   "cell_type": "code",
   "execution_count": 19,
   "metadata": {
    "ExecuteTime": {
     "end_time": "2018-07-25T20:24:27.144380Z",
     "start_time": "2018-07-25T20:23:56.275072Z"
    }
   },
   "outputs": [
    {
     "name": "stdout",
     "output_type": "stream",
     "text": [
      "A espera pela nova janela não funcionou!\n"
     ]
    }
   ],
   "source": [
    "boleto.imprime_boleto(fistel, tipo_id='id_fistel')"
   ]
  },
  {
   "cell_type": "code",
   "execution_count": null,
   "metadata": {},
   "outputs": [],
   "source": []
  }
 ],
 "metadata": {
  "kernelspec": {
   "display_name": "Python 3",
   "language": "python",
   "name": "python3"
  },
  "language_info": {
   "codemirror_mode": {
    "name": "ipython",
    "version": 3
   },
   "file_extension": ".py",
   "mimetype": "text/x-python",
   "name": "python",
   "nbconvert_exporter": "python",
   "pygments_lexer": "ipython3",
   "version": "3.5.4"
  },
  "notify_time": "0",
  "toc": {
   "base_numbering": 1,
   "nav_menu": {},
   "number_sections": true,
   "sideBar": true,
   "skip_h1_title": false,
   "title_cell": "Table of Contents",
   "title_sidebar": "Contents",
   "toc_cell": false,
   "toc_position": {},
   "toc_section_display": true,
   "toc_window_display": false
  }
 },
 "nbformat": 4,
 "nbformat_minor": 2
}
