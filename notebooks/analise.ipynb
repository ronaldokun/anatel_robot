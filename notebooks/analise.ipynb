{
 "cells": [
  {
   "cell_type": "code",
   "execution_count": 67,
   "metadata": {
    "ExecuteTime": {
     "end_time": "2018-08-10T17:43:08.527063Z",
     "start_time": "2018-08-10T17:43:08.188063Z"
    }
   },
   "outputs": [],
   "source": [
    "import os\n",
    "import gc\n",
    "import pyperclip as clip\n",
    "# Change the directory to reflect the main repository\n",
    "os.chdir(\"C:/Users/rsilva/gdrive/projects/programming/automation\")\n",
    "from time import sleep\n",
    "import sistemas\n",
    "import sei\n",
    "import functions\n",
    "from page import *\n",
    "import selenium.webdriver as webdriver\n",
    "\n",
    "% reload_ext autoreload\n",
    "% autoreload 2"
   ]
  },
  {
   "cell_type": "code",
   "execution_count": 68,
   "metadata": {
    "ExecuteTime": {
     "end_time": "2018-08-10T17:43:10.219063Z",
     "start_time": "2018-08-10T17:43:09.891563Z"
    }
   },
   "outputs": [
    {
     "name": "stdout",
     "output_type": "stream",
     "text": [
      "C:\\Users\\rsilva\\Desktop\\SEI\n"
     ]
    }
   ],
   "source": [
    "#PATH = os.path.abspath(r\"S:\\PUBLICO\\Outorga 3º Andar\\Provas de Radioamador\\2018.07.25\\Corrigidos\")\n",
    "PATH = os.path.abspath(r\"C:\\Users\\rsilva\\Desktop\\SEI\")\n",
    "print(PATH)\n",
    "#SCAN = os.path.abspath(r\"S:\\PUBLICO\\Outorga 3º Andar\\Provas de Radioamador\\2018.07.25\\scaneados\")"
   ]
  },
  {
   "cell_type": "code",
   "execution_count": null,
   "metadata": {
    "ExecuteTime": {
     "end_time": "2018-07-30T18:08:36.551010Z",
     "start_time": "2018-07-30T18:08:36.389010Z"
    }
   },
   "outputs": [],
   "source": [
    "keys = ('Nome/Razão Social', 'Logradouro', 'Número', 'Complemento', 'Bairro', 'Cep', 'Município', 'UF', 'Número Fistel')"
   ]
  },
  {
   "cell_type": "code",
   "execution_count": null,
   "metadata": {
    "ExecuteTime": {
     "end_time": "2018-08-09T13:09:42.127858Z",
     "start_time": "2018-08-09T13:09:41.818858Z"
    }
   },
   "outputs": [],
   "source": [
    "def string_endereço(dados):\n",
    "    \n",
    "    d = {}\n",
    "    \n",
    "    s = 'A(o)<br><br>' \n",
    "    \n",
    "    s += dados[\"Nome/Razão Social\"].title()\n",
    "    \n",
    "    s += '<br>' + dados[\"Logradouro\"].title() + \", \" + dados[\"Número\"] + \" \" \n",
    "    \n",
    "    s += dados[\"Complemento\"].title() + \" \" \n",
    "    \n",
    "    s += dados[\"Bairro\"].title() + '<br>' \n",
    "    \n",
    "    s += \"CEP: \" + dados[\"Cep\"] + \" - \" + dados[\"Município\"].title() + \" - \" + dados[\"UF\"] \n",
    "            \n",
    "    s += \"<br><br>\" + \"<b>FISTEL: \" + dados[\"Número Fistel\"] + \"</b>\"\n",
    "    \n",
    "    d[\"A\"] = s\n",
    "    \n",
    "    return d"
   ]
  },
  {
   "cell_type": "code",
   "execution_count": 56,
   "metadata": {
    "ExecuteTime": {
     "end_time": "2018-08-10T16:28:55.400163Z",
     "start_time": "2018-08-10T16:28:55.209963Z"
    }
   },
   "outputs": [],
   "source": [
    "cpf = '25578881840'\n",
    "proc = r'53504.009518/2018-31'"
   ]
  },
  {
   "cell_type": "code",
   "execution_count": 3,
   "metadata": {
    "ExecuteTime": {
     "end_time": "2018-08-09T18:14:55.687911Z",
     "start_time": "2018-08-09T18:14:50.750311Z"
    }
   },
   "outputs": [],
   "source": [
    "driver = webdriver.Ie()\n",
    "#scpx = sistemas.Scpx(driver)"
   ]
  },
  {
   "cell_type": "markdown",
   "metadata": {},
   "source": [
    "\n",
    "# Scpx - Manipulação de Cadastro"
   ]
  },
  {
   "cell_type": "markdown",
   "metadata": {
    "heading_collapsed": true
   },
   "source": [
    "## Consulta"
   ]
  },
  {
   "cell_type": "code",
   "execution_count": null,
   "metadata": {
    "ExecuteTime": {
     "end_time": "2018-08-09T13:29:04.528658Z",
     "start_time": "2018-08-09T13:28:46.982658Z"
    },
    "hidden": true
   },
   "outputs": [],
   "source": [
    "scpx.consulta(cpf)"
   ]
  },
  {
   "cell_type": "markdown",
   "metadata": {
    "heading_collapsed": true
   },
   "source": [
    "## Serviço"
   ]
  },
  {
   "cell_type": "code",
   "execution_count": null,
   "metadata": {
    "ExecuteTime": {
     "end_time": "2018-08-07T18:20:45.466996Z",
     "start_time": "2018-08-07T18:20:23.994920Z"
    },
    "hidden": true
   },
   "outputs": [],
   "source": [
    "scpx.servico_incluir(cpf, num_processo=proc, silent=True)"
   ]
  },
  {
   "cell_type": "code",
   "execution_count": null,
   "metadata": {
    "ExecuteTime": {
     "end_time": "2018-07-27T19:15:40.660596Z",
     "start_time": "2018-07-27T19:15:07.988950Z"
    },
    "hidden": true
   },
   "outputs": [],
   "source": [
    "#scpx.servico_excluir(cpf, documento=\"2724547\")\n",
    "scpx.imprime_consulta(cpf)"
   ]
  },
  {
   "cell_type": "markdown",
   "metadata": {
    "heading_collapsed": true
   },
   "source": [
    "## Estação"
   ]
  },
  {
   "cell_type": "code",
   "execution_count": null,
   "metadata": {
    "ExecuteTime": {
     "end_time": "2018-07-18T14:34:06.219612Z",
     "start_time": "2018-07-18T14:33:36.161612Z"
    },
    "hidden": true
   },
   "outputs": [],
   "source": [
    "scpx.prorrogar_rf(cpf)"
   ]
  },
  {
   "cell_type": "code",
   "execution_count": null,
   "metadata": {
    "ExecuteTime": {
     "end_time": "2018-07-18T14:38:46.486865Z",
     "start_time": "2018-07-18T14:38:22.976468Z"
    },
    "hidden": true,
    "scrolled": true
   },
   "outputs": [],
   "source": [
    "scpx.prorrogar_estacao(cpf)"
   ]
  },
  {
   "cell_type": "code",
   "execution_count": null,
   "metadata": {
    "ExecuteTime": {
     "end_time": "2018-08-07T18:22:03.923841Z",
     "start_time": "2018-08-07T18:21:22.900739Z"
    },
    "hidden": true
   },
   "outputs": [],
   "source": [
    "scpx.incluir_estacao(cpf, 'Móvel', 'PX2A1957', sequencial='001')"
   ]
  },
  {
   "cell_type": "code",
   "execution_count": null,
   "metadata": {
    "ExecuteTime": {
     "end_time": "2018-08-07T15:15:10.256517Z",
     "start_time": "2018-08-07T15:14:27.309017Z"
    },
    "hidden": true
   },
   "outputs": [],
   "source": [
    "scpx.incluir_estacao(cpf, 'Fixa', 'PX2Y3769', sequencial='002')"
   ]
  },
  {
   "cell_type": "code",
   "execution_count": null,
   "metadata": {
    "ExecuteTime": {
     "end_time": "2018-08-07T18:23:24.077855Z",
     "start_time": "2018-08-07T18:23:01.168565Z"
    },
    "hidden": true
   },
   "outputs": [],
   "source": [
    "scpx.movimento_transferir(cpf, 'B', 'E', proc=proc)"
   ]
  },
  {
   "cell_type": "code",
   "execution_count": null,
   "metadata": {
    "ExecuteTime": {
     "end_time": "2018-08-03T10:13:06.165426Z",
     "start_time": "2018-08-03T10:12:41.383979Z"
    },
    "hidden": true
   },
   "outputs": [],
   "source": [
    "scpx.movimento_transferir(cpf, 'A', 'G', proc=proc)"
   ]
  },
  {
   "cell_type": "code",
   "execution_count": null,
   "metadata": {
    "ExecuteTime": {
     "end_time": "2018-08-07T18:04:09.191788Z",
     "start_time": "2018-08-07T18:03:41.510788Z"
    },
    "hidden": true
   },
   "outputs": [],
   "source": [
    "scpx.movimento_cancelar(cpf)"
   ]
  },
  {
   "cell_type": "code",
   "execution_count": null,
   "metadata": {
    "ExecuteTime": {
     "end_time": "2018-08-07T18:24:08.419289Z",
     "start_time": "2018-08-07T18:23:46.529100Z"
    },
    "hidden": true
   },
   "outputs": [],
   "source": [
    "scpx.licenciar_estacao(cpf, silent=True)"
   ]
  },
  {
   "cell_type": "code",
   "execution_count": null,
   "metadata": {
    "ExecuteTime": {
     "end_time": "2018-08-07T18:24:41.078555Z",
     "start_time": "2018-08-07T18:24:10.125460Z"
    },
    "hidden": true
   },
   "outputs": [],
   "source": [
    "scpx.licenciar_estacao(cpf, ppdess=False, silent=True)"
   ]
  },
  {
   "cell_type": "markdown",
   "metadata": {},
   "source": [
    "## Licença"
   ]
  },
  {
   "cell_type": "code",
   "execution_count": null,
   "metadata": {
    "ExecuteTime": {
     "end_time": "2018-08-09T13:27:21.215658Z",
     "start_time": "2018-08-09T13:27:04.508658Z"
    }
   },
   "outputs": [],
   "source": [
    "scpx.imprimir_licenca(cpf)"
   ]
  },
  {
   "cell_type": "markdown",
   "metadata": {},
   "source": [
    "# Sigec"
   ]
  },
  {
   "cell_type": "code",
   "execution_count": 87,
   "metadata": {
    "ExecuteTime": {
     "end_time": "2018-08-09T16:53:00.552311Z",
     "start_time": "2018-08-09T16:52:56.979511Z"
    }
   },
   "outputs": [],
   "source": [
    "sigec = sistemas.Sigec(driver)"
   ]
  },
  {
   "cell_type": "code",
   "execution_count": null,
   "metadata": {
    "ExecuteTime": {
     "end_time": "2018-08-09T13:38:05.433658Z",
     "start_time": "2018-08-09T13:38:03.153658Z"
    }
   },
   "outputs": [],
   "source": [
    "sigec.consulta_geral(cpf)"
   ]
  },
  {
   "cell_type": "code",
   "execution_count": null,
   "metadata": {
    "ExecuteTime": {
     "end_time": "2018-08-09T13:44:39.928658Z",
     "start_time": "2018-08-09T13:44:39.649658Z"
    }
   },
   "outputs": [],
   "source": [
    "dados.values()"
   ]
  },
  {
   "cell_type": "markdown",
   "metadata": {},
   "source": [
    "# Sec"
   ]
  },
  {
   "cell_type": "code",
   "execution_count": 106,
   "metadata": {
    "ExecuteTime": {
     "end_time": "2018-08-10T18:16:10.940763Z",
     "start_time": "2018-08-10T18:16:07.591963Z"
    }
   },
   "outputs": [],
   "source": [
    "import pandas as pd\n",
    "\n",
    "df = pd.read_excel(\"files/registros_atualizados.xlsx\", dtype=str, na_values='nan').fillna(\"\")"
   ]
  },
  {
   "cell_type": "code",
   "execution_count": 107,
   "metadata": {
    "ExecuteTime": {
     "end_time": "2018-08-10T18:16:12.495163Z",
     "start_time": "2018-08-10T18:16:12.027563Z"
    }
   },
   "outputs": [],
   "source": [
    "df['Ano do Óbito'] = df[\"Ano do Óbito\"].str.replace('nan', \"\")\n",
    "\n",
    "df['Complemento'] = df[\"Complemento\"].str.replace('nan', \"\")\n",
    "\n",
    "df[\"Data de Nascimento\"] = df[\"Data de Nascimento\"].str.replace(\"-\", '')\n",
    "\n",
    "df[\"Complemento\"] = df[\"Complemento\"].str.replace('nan', \"\")\n",
    "\n",
    "df['Cidade'] = df[\"Cidade\"].apply(lambda x: str(x).split(\"/\")[0])"
   ]
  },
  {
   "cell_type": "code",
   "execution_count": 109,
   "metadata": {
    "ExecuteTime": {
     "end_time": "2018-08-10T18:16:28.986563Z",
     "start_time": "2018-08-10T18:16:28.613563Z"
    }
   },
   "outputs": [],
   "source": [
    "df = df.iloc[:8335]\n",
    "df[\"Erros\"] = \"\""
   ]
  },
  {
   "cell_type": "code",
   "execution_count": 111,
   "metadata": {
    "ExecuteTime": {
     "end_time": "2018-08-10T18:17:20.917163Z",
     "start_time": "2018-08-10T18:17:20.523563Z"
    }
   },
   "outputs": [],
   "source": [
    "total = df.shape[0]"
   ]
  },
  {
   "cell_type": "code",
   "execution_count": 112,
   "metadata": {
    "ExecuteTime": {
     "end_time": "2018-08-10T18:17:28.712963Z",
     "start_time": "2018-08-10T18:17:22.043563Z"
    }
   },
   "outputs": [],
   "source": [
    "driver = webdriver.Firefox()\n",
    "sec = sistemas.Sec(driver, 'rsilva', \"Savorthemom3nts\")"
   ]
  },
  {
   "cell_type": "code",
   "execution_count": 115,
   "metadata": {
    "ExecuteTime": {
     "end_time": "2018-08-10T18:31:03.969963Z",
     "start_time": "2018-08-10T18:29:05.020763Z"
    }
   },
   "outputs": [],
   "source": [
    "for i in range(10,100):\n",
    "    \n",
    "    try:\n",
    "        sec.atualiza_cadastro(df.iloc[i])\n",
    "        \n",
    "    except:\n",
    "        \n",
    "        df.loc[i, \"Erros\"] = True\n",
    "        \n",
    "        next\n",
    "        \n",
    "        gc.collect()   \n",
    "    "
   ]
  },
  {
   "cell_type": "markdown",
   "metadata": {
    "heading_collapsed": true
   },
   "source": [
    "# SEI - Manipulação de Processo"
   ]
  },
  {
   "cell_type": "markdown",
   "metadata": {
    "ExecuteTime": {
     "end_time": "2018-07-20T17:23:01.149621Z",
     "start_time": "2018-07-20T17:23:00.884814Z"
    },
    "hidden": true
   },
   "source": [
    "## Autenticação"
   ]
  },
  {
   "cell_type": "code",
   "execution_count": 47,
   "metadata": {
    "ExecuteTime": {
     "end_time": "2018-08-10T16:22:05.138363Z",
     "start_time": "2018-08-10T16:21:58.333363Z"
    },
    "hidden": true
   },
   "outputs": [],
   "source": [
    "usr = \"rsilva\"\n",
    "pwd = \"Savorthemom3nts\"\n",
    "browser = webdriver.Firefox()"
   ]
  },
  {
   "cell_type": "code",
   "execution_count": 48,
   "metadata": {
    "ExecuteTime": {
     "end_time": "2018-08-10T16:22:07.987163Z",
     "start_time": "2018-08-10T16:22:05.138363Z"
    },
    "hidden": true
   },
   "outputs": [],
   "source": [
    "sei_ = sei.login_sei(browser, usr, pwd)"
   ]
  },
  {
   "cell_type": "code",
   "execution_count": 49,
   "metadata": {
    "ExecuteTime": {
     "end_time": "2018-08-10T16:22:08.193163Z",
     "start_time": "2018-08-10T16:22:07.989163Z"
    },
    "hidden": true
   },
   "outputs": [],
   "source": [
    "sei_ = sei.Sei(sei_)"
   ]
  },
  {
   "cell_type": "code",
   "execution_count": 50,
   "metadata": {
    "ExecuteTime": {
     "end_time": "2018-08-10T16:26:02.643963Z",
     "start_time": "2018-08-10T16:25:45.825163Z"
    },
    "hidden": true
   },
   "outputs": [],
   "source": [
    "sei_.itera_processos()"
   ]
  },
  {
   "cell_type": "code",
   "execution_count": 57,
   "metadata": {
    "ExecuteTime": {
     "end_time": "2018-08-10T16:29:01.009963Z",
     "start_time": "2018-08-10T16:28:59.556763Z"
    },
    "hidden": true
   },
   "outputs": [],
   "source": [
    "p = sei_.go_to_processo(proc)"
   ]
  },
  {
   "cell_type": "markdown",
   "metadata": {
    "hidden": true
   },
   "source": [
    "## Doc Externo"
   ]
  },
  {
   "cell_type": "code",
   "execution_count": 58,
   "metadata": {
    "ExecuteTime": {
     "end_time": "2018-08-10T16:29:01.902363Z",
     "start_time": "2018-08-10T16:29:01.690963Z"
    },
    "hidden": true
   },
   "outputs": [],
   "source": [
    "files = sorted(os.listdir(PATH))"
   ]
  },
  {
   "cell_type": "code",
   "execution_count": 59,
   "metadata": {
    "ExecuteTime": {
     "end_time": "2018-08-10T16:29:02.233363Z",
     "start_time": "2018-08-10T16:29:02.014363Z"
    },
    "hidden": true
   },
   "outputs": [],
   "source": [
    "file = os.path.join(PATH, files[-1])"
   ]
  },
  {
   "cell_type": "code",
   "execution_count": 60,
   "metadata": {
    "ExecuteTime": {
     "end_time": "2018-08-10T16:29:11.811763Z",
     "start_time": "2018-08-10T16:29:02.343363Z"
    },
    "hidden": true,
    "scrolled": true
   },
   "outputs": [],
   "source": [
    "p.incluir_doc_externo('AR', file, arvore=\"por E-mail\")"
   ]
  },
  {
   "cell_type": "code",
   "execution_count": null,
   "metadata": {
    "ExecuteTime": {
     "end_time": "2018-08-08T17:13:25.397711Z",
     "start_time": "2018-08-08T17:13:02.825508Z"
    },
    "hidden": true
   },
   "outputs": [],
   "source": [
    "dados = scpx.extrai_cadastro(cpf)"
   ]
  },
  {
   "cell_type": "code",
   "execution_count": 31,
   "metadata": {
    "ExecuteTime": {
     "end_time": "2018-08-10T15:33:02.194350Z",
     "start_time": "2018-08-10T15:33:01.992140Z"
    },
    "hidden": true
   },
   "outputs": [],
   "source": [
    "p = sei_.go_to_processo(proc)"
   ]
  },
  {
   "cell_type": "code",
   "execution_count": null,
   "metadata": {
    "ExecuteTime": {
     "end_time": "2018-08-08T17:13:53.132159Z",
     "start_time": "2018-08-08T17:13:25.748746Z"
    },
    "hidden": true
   },
   "outputs": [],
   "source": [
    "p.incluir_oficio('RC_OF_Sem_Contexto_Licença', string_endereço(dados))"
   ]
  },
  {
   "cell_type": "code",
   "execution_count": 42,
   "metadata": {
    "ExecuteTime": {
     "end_time": "2018-08-10T15:35:22.202597Z",
     "start_time": "2018-08-10T15:35:22.008191Z"
    },
    "hidden": true
   },
   "outputs": [],
   "source": [
    "p = sei_.go_to_processo(proc)"
   ]
  },
  {
   "cell_type": "code",
   "execution_count": null,
   "metadata": {
    "hidden": true
   },
   "outputs": [],
   "source": [
    "p.incluir_informe()"
   ]
  },
  {
   "cell_type": "code",
   "execution_count": null,
   "metadata": {
    "ExecuteTime": {
     "end_time": "2018-08-01T22:14:24.905954Z",
     "start_time": "2018-08-01T22:06:55.521969Z"
    },
    "hidden": true
   },
   "outputs": [],
   "source": [
    "for prova, gabarito in zip(files, scaneados):\n",
    "\n",
    "    nome = prova.split(\".\")[0]\n",
    "    \n",
    "    p.incluir_doc_externo(\"Prova\", os.path.join(SCAN, gabarito), arvore=nome)\n",
    "    \n",
    "    sleep(5)\n",
    "    "
   ]
  },
  {
   "cell_type": "markdown",
   "metadata": {
    "hidden": true
   },
   "source": [
    "## Controles"
   ]
  },
  {
   "cell_type": "code",
   "execution_count": null,
   "metadata": {
    "ExecuteTime": {
     "end_time": "2018-08-08T17:00:13.950375Z",
     "start_time": "2018-08-08T16:59:17.009275Z"
    },
    "hidden": true
   },
   "outputs": [],
   "source": [
    "p.edita_marcador(tipo=\"RC - Aguardando AR/Resposta\", content='Até 20/08/2018')"
   ]
  },
  {
   "cell_type": "code",
   "execution_count": null,
   "metadata": {
    "ExecuteTime": {
     "end_time": "2018-07-27T19:43:04.202791Z",
     "start_time": "2018-07-27T19:43:01.288291Z"
    },
    "hidden": true
   },
   "outputs": [],
   "source": [
    "p.edita_postit(\"Analisado - Controlar pagamento e Emitir Licença\", True)"
   ]
  },
  {
   "cell_type": "code",
   "execution_count": 61,
   "metadata": {
    "ExecuteTime": {
     "end_time": "2018-08-10T16:30:20.660763Z",
     "start_time": "2018-08-10T16:30:13.261163Z"
    },
    "hidden": true
   },
   "outputs": [],
   "source": [
    "p.edita_marcador()"
   ]
  },
  {
   "cell_type": "code",
   "execution_count": 44,
   "metadata": {
    "ExecuteTime": {
     "end_time": "2018-08-10T15:35:38.988392Z",
     "start_time": "2018-08-10T15:35:36.350545Z"
    },
    "hidden": true
   },
   "outputs": [],
   "source": [
    "p.edita_postit()"
   ]
  },
  {
   "cell_type": "code",
   "execution_count": 62,
   "metadata": {
    "ExecuteTime": {
     "end_time": "2018-08-10T16:30:26.252563Z",
     "start_time": "2018-08-10T16:30:20.660763Z"
    },
    "hidden": true
   },
   "outputs": [],
   "source": [
    "p.excluir_acomp_especial()"
   ]
  },
  {
   "cell_type": "code",
   "execution_count": 63,
   "metadata": {
    "ExecuteTime": {
     "end_time": "2018-08-10T16:30:31.497563Z",
     "start_time": "2018-08-10T16:30:26.254563Z"
    },
    "hidden": true
   },
   "outputs": [],
   "source": [
    "p.concluir_processo()"
   ]
  },
  {
   "cell_type": "markdown",
   "metadata": {
    "ExecuteTime": {
     "end_time": "2018-07-20T17:24:00.770532Z",
     "start_time": "2018-07-20T17:24:00.479722Z"
    },
    "heading_collapsed": true
   },
   "source": [
    "# Testes"
   ]
  },
  {
   "cell_type": "code",
   "execution_count": null,
   "metadata": {
    "ExecuteTime": {
     "end_time": "2018-07-20T19:42:48.973003Z",
     "start_time": "2018-07-20T19:42:48.773403Z"
    },
    "hidden": true
   },
   "outputs": [],
   "source": [
    "tipo = \"Outorga: Rádio do Cidadão\"\n",
    "atribuicao = 'rodrigoca'"
   ]
  },
  {
   "cell_type": "code",
   "execution_count": null,
   "metadata": {
    "ExecuteTime": {
     "end_time": "2018-07-20T20:12:00.345003Z",
     "start_time": "2018-07-20T20:12:00.175803Z"
    },
    "hidden": true
   },
   "outputs": [],
   "source": [
    "processos = [p for p in sei_.get_processos().values() if p['atribuicao'] == 'rodrigoca']"
   ]
  },
  {
   "cell_type": "code",
   "execution_count": null,
   "metadata": {
    "ExecuteTime": {
     "end_time": "2018-07-20T19:42:52.514003Z",
     "start_time": "2018-07-20T19:42:52.322603Z"
    },
    "hidden": true
   },
   "outputs": [],
   "source": [
    "mm = [p for p in processos if p['tipo'] == tipo]"
   ]
  },
  {
   "cell_type": "code",
   "execution_count": null,
   "metadata": {
    "ExecuteTime": {
     "end_time": "2018-07-20T19:44:45.188003Z",
     "start_time": "2018-07-20T19:44:45.024403Z"
    },
    "hidden": true
   },
   "outputs": [],
   "source": [
    "for p in mm:\n",
    "    print(p.get('marcador'))"
   ]
  },
  {
   "cell_type": "code",
   "execution_count": null,
   "metadata": {
    "ExecuteTime": {
     "end_time": "2018-07-20T20:12:05.974203Z",
     "start_time": "2018-07-20T20:12:05.797403Z"
    },
    "hidden": true
   },
   "outputs": [],
   "source": [
    "concluir = list()"
   ]
  },
  {
   "cell_type": "code",
   "execution_count": null,
   "metadata": {
    "ExecuteTime": {
     "end_time": "2018-07-20T20:12:43.262603Z",
     "start_time": "2018-07-20T20:12:12.140803Z"
    },
    "hidden": true
   },
   "outputs": [],
   "source": [
    "for processo in processos:\n",
    "    \n",
    "    if 'Licença' in str(processo.get('marcador')):\n",
    "        \n",
    "        p = sei_.go_to_processo(processo['numero'])\n",
    "        \n",
    "        i = input()\n",
    "        \n",
    "        if i == '1': \n",
    "            \n",
    "            concluir.append(processo)\n",
    "            \n",
    "            \n",
    "        gc.collect()"
   ]
  },
  {
   "cell_type": "code",
   "execution_count": null,
   "metadata": {
    "ExecuteTime": {
     "end_time": "2018-07-20T20:19:25.918003Z",
     "start_time": "2018-07-20T20:12:48.496203Z"
    },
    "hidden": true
   },
   "outputs": [],
   "source": [
    "for processo in concluir:\n",
    "    \n",
    "    p = sei_.go_to_processo(processo['numero'])\n",
    "    \n",
    "    \n",
    "    sleep(2)\n",
    "    \n",
    "    try:    \n",
    "        p.edita_marcador()    \n",
    "    \n",
    "        p.edita_postit()\n",
    "    \n",
    "        p.excluir_acomp_especial()\n",
    "        \n",
    "        p.concluir_processo() \n",
    "            \n",
    "    except:\n",
    "            \n",
    "            next"
   ]
  },
  {
   "cell_type": "code",
   "execution_count": null,
   "metadata": {
    "ExecuteTime": {
     "end_time": "2018-07-19T21:19:05.187340Z",
     "start_time": "2018-07-19T20:31:22.660Z"
    },
    "hidden": true
   },
   "outputs": [],
   "source": [
    "#dados = scpx.extrai_cadastro(dado['interessado'], tipo_id='id_nome', timeout=5)\n"
   ]
  },
  {
   "cell_type": "code",
   "execution_count": null,
   "metadata": {
    "ExecuteTime": {
     "end_time": "2018-07-19T20:11:44.192568Z",
     "start_time": "2018-07-19T20:08:48.569682Z"
    },
    "hidden": true
   },
   "outputs": [],
   "source": [
    "for num, dado in tupla[30:]:\n",
    "        \n",
    "    p = sei_.go_to_processo(num)\n",
    "    \n",
    "    i = input()\n",
    "    \n",
    "    if i =='y':\n",
    "        \n",
    "        try:\n",
    "            \n",
    "            dados = scpx.extrai_cadastro(dado['interessado'], tipo_id='id_nome', timeout=5)\n",
    "                               \n",
    "            p.incluir_oficio('RC_OF_Sem_Contexto_Licença', string_endereço(dados))\n",
    "            \n",
    "            p.edita_marcador(tipo='RC - Aguardando AR/Resposta', content='Até 31/07/2018')        \n",
    "\n",
    "            \n",
    "        except:\n",
    "            \n",
    "            next            \n",
    "            \n",
    "    if i == 'c':\n",
    "        \n",
    "        p.edita_marcador()\n",
    "        p.edita_postit()\n",
    "        p.excluir_acomp_especial()\n",
    "        p.concluir_processo() "
   ]
  },
  {
   "cell_type": "markdown",
   "metadata": {
    "hidden": true
   },
   "source": [
    "## Outros"
   ]
  },
  {
   "cell_type": "code",
   "execution_count": null,
   "metadata": {
    "hidden": true
   },
   "outputs": [],
   "source": [
    "from bs4 import BeautifulSoup as soup\n",
    "html = soup(scpx.driver.page_source, 'lxml')"
   ]
  },
  {
   "cell_type": "code",
   "execution_count": null,
   "metadata": {
    "hidden": true
   },
   "outputs": [],
   "source": [
    "dict_ = {}\n",
    "for tr in html.find_all('tr'):\n",
    "    for td in tr.find_all('td', string=True):\n",
    "        key = td.text.strip(\" :\")\n",
    "        value = td.find_next_sibling('td')            \n",
    "        if value and key not in dict_ and value.text.strip() != \"\":\n",
    "            dict_[key] = value.text.strip()\n",
    "            print(\"{0} {1}\".format(key, value.text.strip())) \n"
   ]
  },
  {
   "cell_type": "code",
   "execution_count": null,
   "metadata": {
    "hidden": true
   },
   "outputs": [],
   "source": [
    "dict_ = {}\n",
    "for tr in html.find_all('tr'):\n",
    "    for label in tr.find_all('label', string=True):\n",
    "        print(\"{0} {1}\".format(label.attrs.get('id'), label.text.strip()))                           "
   ]
  },
  {
   "cell_type": "code",
   "execution_count": null,
   "metadata": {
    "hidden": true
   },
   "outputs": [],
   "source": [
    "from bs4 import NavigableString\n",
    "def next_is_string(tag):\n",
    "    return isinstance(tag.next_element, NavigableString)             "
   ]
  },
  {
   "cell_type": "markdown",
   "metadata": {
    "ExecuteTime": {
     "end_time": "2018-07-25T19:54:36.509214Z",
     "start_time": "2018-07-25T19:54:36.259198Z"
    }
   },
   "source": [
    "# Boleto"
   ]
  },
  {
   "cell_type": "code",
   "execution_count": null,
   "metadata": {
    "ExecuteTime": {
     "end_time": "2018-07-25T19:55:01.998255Z",
     "start_time": "2018-07-25T19:54:57.869538Z"
    }
   },
   "outputs": [],
   "source": [
    "boleto = sistemas.Boleto(driver)"
   ]
  },
  {
   "cell_type": "code",
   "execution_count": null,
   "metadata": {
    "ExecuteTime": {
     "end_time": "2018-07-25T20:05:49.005922Z",
     "start_time": "2018-07-25T20:05:48.773908Z"
    }
   },
   "outputs": [],
   "source": [
    "fistel = '80113639805'\n",
    "cpf = \"31250732867\""
   ]
  },
  {
   "cell_type": "code",
   "execution_count": null,
   "metadata": {
    "ExecuteTime": {
     "end_time": "2018-07-25T20:24:27.144380Z",
     "start_time": "2018-07-25T20:23:56.275072Z"
    }
   },
   "outputs": [],
   "source": [
    "boleto.imprime_boleto(fistel, tipo_id='id_fistel')"
   ]
  },
  {
   "cell_type": "code",
   "execution_count": null,
   "metadata": {
    "ExecuteTime": {
     "end_time": "2018-07-27T19:44:38.953291Z",
     "start_time": "2018-07-27T19:44:35.532791Z"
    }
   },
   "outputs": [],
   "source": [
    "gc.collect()"
   ]
  }
 ],
 "metadata": {
  "kernelspec": {
   "display_name": "Python 3",
   "language": "python",
   "name": "python3"
  },
  "language_info": {
   "codemirror_mode": {
    "name": "ipython",
    "version": 3
   },
   "file_extension": ".py",
   "mimetype": "text/x-python",
   "name": "python",
   "nbconvert_exporter": "python",
   "pygments_lexer": "ipython3",
   "version": "3.5.4"
  },
  "toc": {
   "base_numbering": 1,
   "nav_menu": {},
   "number_sections": true,
   "sideBar": true,
   "skip_h1_title": false,
   "title_cell": "Table of Contents",
   "title_sidebar": "Contents",
   "toc_cell": false,
   "toc_position": {},
   "toc_section_display": true,
   "toc_window_display": false
  }
 },
 "nbformat": 4,
 "nbformat_minor": 2
}
