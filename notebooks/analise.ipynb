{
 "cells": [
  {
   "cell_type": "code",
   "execution_count": 2,
   "metadata": {
    "ExecuteTime": {
     "end_time": "2018-08-10T14:16:15.449570Z",
     "start_time": "2018-08-10T14:16:09.271570Z"
    }
   },
   "outputs": [],
   "source": [
    "import os\n",
    "import gc\n",
    "import pyperclip as clip\n",
    "# Change the directory to reflect the main repository\n",
    "os.chdir(\"C:/Users/rsilva/gdrive/projects/programming/automation\")\n",
    "from time import sleep\n",
    "import sistemas\n",
    "import sei\n",
    "import functions\n",
    "from page import *\n",
    "import selenium.webdriver as webdriver\n",
    "\n",
    "% reload_ext autoreload\n",
    "% autoreload 2"
   ]
  },
  {
   "cell_type": "code",
   "execution_count": 3,
   "metadata": {
    "ExecuteTime": {
     "end_time": "2018-08-10T14:16:15.689970Z",
     "start_time": "2018-08-10T14:16:15.451570Z"
    }
   },
   "outputs": [
    {
     "name": "stdout",
     "output_type": "stream",
     "text": [
      "C:\\Users\\rsilva\\Desktop\\SEI\n"
     ]
    }
   ],
   "source": [
    "#PATH = os.path.abspath(r\"S:\\PUBLICO\\Outorga 3º Andar\\Provas de Radioamador\\2018.07.25\\Corrigidos\")\n",
    "PATH = os.path.abspath(r\"C:\\Users\\rsilva\\Desktop\\SEI\")\n",
    "print(PATH)\n",
    "#SCAN = os.path.abspath(r\"S:\\PUBLICO\\Outorga 3º Andar\\Provas de Radioamador\\2018.07.25\\scaneados\")"
   ]
  },
  {
   "cell_type": "code",
   "execution_count": null,
   "metadata": {
    "ExecuteTime": {
     "end_time": "2018-07-30T18:08:36.551010Z",
     "start_time": "2018-07-30T18:08:36.389010Z"
    }
   },
   "outputs": [],
   "source": [
    "keys = ('Nome/Razão Social', 'Logradouro', 'Número', 'Complemento', 'Bairro', 'Cep', 'Município', 'UF', 'Número Fistel')"
   ]
  },
  {
   "cell_type": "code",
   "execution_count": null,
   "metadata": {
    "ExecuteTime": {
     "end_time": "2018-08-09T13:09:42.127858Z",
     "start_time": "2018-08-09T13:09:41.818858Z"
    }
   },
   "outputs": [],
   "source": [
    "def string_endereço(dados):\n",
    "    \n",
    "    d = {}\n",
    "    \n",
    "    s = 'A(o)<br><br>' \n",
    "    \n",
    "    s += dados[\"Nome/Razão Social\"].title()\n",
    "    \n",
    "    s += '<br>' + dados[\"Logradouro\"].title() + \", \" + dados[\"Número\"] + \" \" \n",
    "    \n",
    "    s += dados[\"Complemento\"].title() + \" \" \n",
    "    \n",
    "    s += dados[\"Bairro\"].title() + '<br>' \n",
    "    \n",
    "    s += \"CEP: \" + dados[\"Cep\"] + \" - \" + dados[\"Município\"].title() + \" - \" + dados[\"UF\"] \n",
    "            \n",
    "    s += \"<br><br>\" + \"<b>FISTEL: \" + dados[\"Número Fistel\"] + \"</b>\"\n",
    "    \n",
    "    d[\"A\"] = s\n",
    "    \n",
    "    return d"
   ]
  },
  {
   "cell_type": "code",
   "execution_count": 56,
   "metadata": {
    "ExecuteTime": {
     "end_time": "2018-08-10T16:28:55.400163Z",
     "start_time": "2018-08-10T16:28:55.209963Z"
    }
   },
   "outputs": [],
   "source": [
    "cpf = '25578881840'\n",
    "proc = r'53504.009518/2018-31'"
   ]
  },
  {
   "cell_type": "code",
   "execution_count": 3,
   "metadata": {
    "ExecuteTime": {
     "end_time": "2018-08-09T18:14:55.687911Z",
     "start_time": "2018-08-09T18:14:50.750311Z"
    }
   },
   "outputs": [],
   "source": [
    "driver = webdriver.Ie()\n",
    "#scpx = sistemas.Scpx(driver)"
   ]
  },
  {
   "cell_type": "markdown",
   "metadata": {},
   "source": [
    "\n",
    "# Scpx - Manipulação de Cadastro"
   ]
  },
  {
   "cell_type": "markdown",
   "metadata": {
    "heading_collapsed": true
   },
   "source": [
    "## Consulta"
   ]
  },
  {
   "cell_type": "code",
   "execution_count": null,
   "metadata": {
    "ExecuteTime": {
     "end_time": "2018-08-09T13:29:04.528658Z",
     "start_time": "2018-08-09T13:28:46.982658Z"
    },
    "hidden": true
   },
   "outputs": [],
   "source": [
    "scpx.consulta(cpf)"
   ]
  },
  {
   "cell_type": "markdown",
   "metadata": {
    "heading_collapsed": true
   },
   "source": [
    "## Serviço"
   ]
  },
  {
   "cell_type": "code",
   "execution_count": null,
   "metadata": {
    "ExecuteTime": {
     "end_time": "2018-08-07T18:20:45.466996Z",
     "start_time": "2018-08-07T18:20:23.994920Z"
    },
    "hidden": true
   },
   "outputs": [],
   "source": [
    "scpx.servico_incluir(cpf, num_processo=proc, silent=True)"
   ]
  },
  {
   "cell_type": "code",
   "execution_count": null,
   "metadata": {
    "ExecuteTime": {
     "end_time": "2018-07-27T19:15:40.660596Z",
     "start_time": "2018-07-27T19:15:07.988950Z"
    },
    "hidden": true
   },
   "outputs": [],
   "source": [
    "#scpx.servico_excluir(cpf, documento=\"2724547\")\n",
    "scpx.imprime_consulta(cpf)"
   ]
  },
  {
   "cell_type": "markdown",
   "metadata": {
    "heading_collapsed": true
   },
   "source": [
    "## Estação"
   ]
  },
  {
   "cell_type": "code",
   "execution_count": null,
   "metadata": {
    "ExecuteTime": {
     "end_time": "2018-07-18T14:34:06.219612Z",
     "start_time": "2018-07-18T14:33:36.161612Z"
    },
    "hidden": true
   },
   "outputs": [],
   "source": [
    "scpx.prorrogar_rf(cpf)"
   ]
  },
  {
   "cell_type": "code",
   "execution_count": null,
   "metadata": {
    "ExecuteTime": {
     "end_time": "2018-07-18T14:38:46.486865Z",
     "start_time": "2018-07-18T14:38:22.976468Z"
    },
    "hidden": true,
    "scrolled": true
   },
   "outputs": [],
   "source": [
    "scpx.prorrogar_estacao(cpf)"
   ]
  },
  {
   "cell_type": "code",
   "execution_count": null,
   "metadata": {
    "ExecuteTime": {
     "end_time": "2018-08-07T18:22:03.923841Z",
     "start_time": "2018-08-07T18:21:22.900739Z"
    },
    "hidden": true
   },
   "outputs": [],
   "source": [
    "scpx.incluir_estacao(cpf, 'Móvel', 'PX2A1957', sequencial='001')"
   ]
  },
  {
   "cell_type": "code",
   "execution_count": null,
   "metadata": {
    "ExecuteTime": {
     "end_time": "2018-08-07T15:15:10.256517Z",
     "start_time": "2018-08-07T15:14:27.309017Z"
    },
    "hidden": true
   },
   "outputs": [],
   "source": [
    "scpx.incluir_estacao(cpf, 'Fixa', 'PX2Y3769', sequencial='002')"
   ]
  },
  {
   "cell_type": "code",
   "execution_count": null,
   "metadata": {
    "ExecuteTime": {
     "end_time": "2018-08-07T18:23:24.077855Z",
     "start_time": "2018-08-07T18:23:01.168565Z"
    },
    "hidden": true
   },
   "outputs": [],
   "source": [
    "scpx.movimento_transferir(cpf, 'B', 'E', proc=proc)"
   ]
  },
  {
   "cell_type": "code",
   "execution_count": null,
   "metadata": {
    "ExecuteTime": {
     "end_time": "2018-08-03T10:13:06.165426Z",
     "start_time": "2018-08-03T10:12:41.383979Z"
    },
    "hidden": true
   },
   "outputs": [],
   "source": [
    "scpx.movimento_transferir(cpf, 'A', 'G', proc=proc)"
   ]
  },
  {
   "cell_type": "code",
   "execution_count": null,
   "metadata": {
    "ExecuteTime": {
     "end_time": "2018-08-07T18:04:09.191788Z",
     "start_time": "2018-08-07T18:03:41.510788Z"
    },
    "hidden": true
   },
   "outputs": [],
   "source": [
    "scpx.movimento_cancelar(cpf)"
   ]
  },
  {
   "cell_type": "code",
   "execution_count": null,
   "metadata": {
    "ExecuteTime": {
     "end_time": "2018-08-07T18:24:08.419289Z",
     "start_time": "2018-08-07T18:23:46.529100Z"
    },
    "hidden": true
   },
   "outputs": [],
   "source": [
    "scpx.licenciar_estacao(cpf, silent=True)"
   ]
  },
  {
   "cell_type": "code",
   "execution_count": null,
   "metadata": {
    "ExecuteTime": {
     "end_time": "2018-08-07T18:24:41.078555Z",
     "start_time": "2018-08-07T18:24:10.125460Z"
    },
    "hidden": true
   },
   "outputs": [],
   "source": [
    "scpx.licenciar_estacao(cpf, ppdess=False, silent=True)"
   ]
  },
  {
   "cell_type": "markdown",
   "metadata": {},
   "source": [
    "## Licença"
   ]
  },
  {
   "cell_type": "code",
   "execution_count": null,
   "metadata": {
    "ExecuteTime": {
     "end_time": "2018-08-09T13:27:21.215658Z",
     "start_time": "2018-08-09T13:27:04.508658Z"
    }
   },
   "outputs": [],
   "source": [
    "scpx.imprimir_licenca(cpf)"
   ]
  },
  {
   "cell_type": "markdown",
   "metadata": {
    "heading_collapsed": true
   },
   "source": [
    "# Sigec"
   ]
  },
  {
   "cell_type": "code",
   "execution_count": 87,
   "metadata": {
    "ExecuteTime": {
     "end_time": "2018-08-09T16:53:00.552311Z",
     "start_time": "2018-08-09T16:52:56.979511Z"
    },
    "hidden": true
   },
   "outputs": [],
   "source": [
    "sigec = sistemas.Sigec(driver)"
   ]
  },
  {
   "cell_type": "code",
   "execution_count": null,
   "metadata": {
    "ExecuteTime": {
     "end_time": "2018-08-09T13:38:05.433658Z",
     "start_time": "2018-08-09T13:38:03.153658Z"
    },
    "hidden": true
   },
   "outputs": [],
   "source": [
    "sigec.consulta_geral(cpf)"
   ]
  },
  {
   "cell_type": "code",
   "execution_count": null,
   "metadata": {
    "ExecuteTime": {
     "end_time": "2018-08-09T13:44:39.928658Z",
     "start_time": "2018-08-09T13:44:39.649658Z"
    },
    "hidden": true
   },
   "outputs": [],
   "source": [
    "dados.values()"
   ]
  },
  {
   "cell_type": "markdown",
   "metadata": {
    "heading_collapsed": true
   },
   "source": [
    "# Sec"
   ]
  },
  {
   "cell_type": "code",
   "execution_count": 4,
   "metadata": {
    "ExecuteTime": {
     "end_time": "2018-08-09T18:14:58.432711Z",
     "start_time": "2018-08-09T18:14:55.916911Z"
    },
    "hidden": true
   },
   "outputs": [],
   "source": [
    "import pandas as pd\n",
    "\n",
    "df = pd.read_excel(\"registros_atualizados.xlsx\", dtype=str, na_values='nan').fillna(\"\")"
   ]
  },
  {
   "cell_type": "code",
   "execution_count": 5,
   "metadata": {
    "ExecuteTime": {
     "end_time": "2018-08-09T18:14:58.645711Z",
     "start_time": "2018-08-09T18:14:58.432711Z"
    },
    "hidden": true
   },
   "outputs": [],
   "source": [
    "df = df.iloc[:9058]"
   ]
  },
  {
   "cell_type": "code",
   "execution_count": 6,
   "metadata": {
    "ExecuteTime": {
     "end_time": "2018-08-09T18:14:58.902911Z",
     "start_time": "2018-08-09T18:14:58.647711Z"
    },
    "hidden": true
   },
   "outputs": [],
   "source": [
    "total = df.shape[0]"
   ]
  },
  {
   "cell_type": "code",
   "execution_count": 7,
   "metadata": {
    "ExecuteTime": {
     "end_time": "2018-08-09T18:14:59.242911Z",
     "start_time": "2018-08-09T18:14:58.904911Z"
    },
    "hidden": true
   },
   "outputs": [],
   "source": [
    "df[\"Data de Nascimento\"] = df[\"Data de Nascimento\"].str.replace(\"-\", '')"
   ]
  },
  {
   "cell_type": "code",
   "execution_count": 8,
   "metadata": {
    "ExecuteTime": {
     "end_time": "2018-08-09T18:14:59.523911Z",
     "start_time": "2018-08-09T18:14:59.244911Z"
    },
    "hidden": true
   },
   "outputs": [],
   "source": [
    "df[\"Complemento\"] = df[\"Complemento\"].str.replace('nan', \"\")"
   ]
  },
  {
   "cell_type": "code",
   "execution_count": 9,
   "metadata": {
    "ExecuteTime": {
     "end_time": "2018-08-09T18:14:59.809911Z",
     "start_time": "2018-08-09T18:14:59.525911Z"
    },
    "hidden": true
   },
   "outputs": [
    {
     "data": {
      "text/html": [
       "<div>\n",
       "<style scoped>\n",
       "    .dataframe tbody tr th:only-of-type {\n",
       "        vertical-align: middle;\n",
       "    }\n",
       "\n",
       "    .dataframe tbody tr th {\n",
       "        vertical-align: top;\n",
       "    }\n",
       "\n",
       "    .dataframe thead th {\n",
       "        text-align: right;\n",
       "    }\n",
       "</style>\n",
       "<table border=\"1\" class=\"dataframe\">\n",
       "  <thead>\n",
       "    <tr style=\"text-align: right;\">\n",
       "      <th></th>\n",
       "      <th>CPF</th>\n",
       "      <th>Nome</th>\n",
       "      <th>Mãe</th>\n",
       "      <th>Data de Nascimento</th>\n",
       "      <th>Sexo</th>\n",
       "      <th>Ano do Óbito</th>\n",
       "      <th>Nacionalidade</th>\n",
       "      <th>Título de Eleitor</th>\n",
       "      <th>Situação Cadastral</th>\n",
       "      <th>Fone</th>\n",
       "      <th>Logradouro</th>\n",
       "      <th>Número</th>\n",
       "      <th>Complemento</th>\n",
       "      <th>Bairro</th>\n",
       "      <th>Cidade</th>\n",
       "      <th>Cep</th>\n",
       "    </tr>\n",
       "  </thead>\n",
       "  <tbody>\n",
       "    <tr>\n",
       "      <th>0</th>\n",
       "      <td>304.983.608-30</td>\n",
       "      <td>AARON ALVES SOARES</td>\n",
       "      <td>IRANI APARECIDA ALVES SOARES</td>\n",
       "      <td>24041982</td>\n",
       "      <td>MASCULINO</td>\n",
       "      <td>nan</td>\n",
       "      <td>BRASILEIRO</td>\n",
       "      <td>0197535290116</td>\n",
       "      <td>REGULAR</td>\n",
       "      <td>35461213</td>\n",
       "      <td>RUA ELOY CHAVES</td>\n",
       "      <td>414</td>\n",
       "      <td></td>\n",
       "      <td>N SENHORA APARECIDA</td>\n",
       "      <td>CORDEIROPOLIS/SP</td>\n",
       "      <td>13490-000</td>\n",
       "    </tr>\n",
       "    <tr>\n",
       "      <th>1</th>\n",
       "      <td>074.152.258-64</td>\n",
       "      <td>ABEL DA SILVA</td>\n",
       "      <td>MATILDE BREDA DA SILVA</td>\n",
       "      <td>27011966</td>\n",
       "      <td>MASCULINO</td>\n",
       "      <td>nan</td>\n",
       "      <td>BRASILEIRO</td>\n",
       "      <td>0077314170141</td>\n",
       "      <td>REGULAR</td>\n",
       "      <td>34932960</td>\n",
       "      <td>RUA GUIOMAR SCHIAVONE</td>\n",
       "      <td>147</td>\n",
       "      <td>CASA</td>\n",
       "      <td>SANTA MARIA</td>\n",
       "      <td>RIO DAS PEDRAS/SP</td>\n",
       "      <td>13390-000</td>\n",
       "    </tr>\n",
       "    <tr>\n",
       "      <th>2</th>\n",
       "      <td>018.854.728-20</td>\n",
       "      <td>ABEL ESPINOSA</td>\n",
       "      <td>CARMEM FIGUEIRAS</td>\n",
       "      <td>21021930</td>\n",
       "      <td>MASCULINO</td>\n",
       "      <td>2017</td>\n",
       "      <td>BRASILEIRO</td>\n",
       "      <td>0000000000000</td>\n",
       "      <td>CANCELADA POR ÓBITO SEM ESPÓLIO</td>\n",
       "      <td>38333086</td>\n",
       "      <td>RUA PRIMAVERAS</td>\n",
       "      <td>106</td>\n",
       "      <td></td>\n",
       "      <td>CAROLINA</td>\n",
       "      <td>UBATUBA/SP</td>\n",
       "      <td>11680-000</td>\n",
       "    </tr>\n",
       "    <tr>\n",
       "      <th>3</th>\n",
       "      <td>018.996.248-80</td>\n",
       "      <td>ABEL JOSE DE CASTRO</td>\n",
       "      <td>FRANCELINA MARIA CASTRO</td>\n",
       "      <td>11031960</td>\n",
       "      <td>MASCULINO</td>\n",
       "      <td>nan</td>\n",
       "      <td>BRASILEIRO</td>\n",
       "      <td>0052752260175</td>\n",
       "      <td>REGULAR</td>\n",
       "      <td>38055949</td>\n",
       "      <td>ALAMEDA DOS PIRATININS</td>\n",
       "      <td>567</td>\n",
       "      <td>CASA</td>\n",
       "      <td>PLANALTO PAULISTA</td>\n",
       "      <td>SAO PAULO/SP</td>\n",
       "      <td>04065-051</td>\n",
       "    </tr>\n",
       "    <tr>\n",
       "      <th>4</th>\n",
       "      <td>050.804.278-09</td>\n",
       "      <td>ABEL MOACIR STAHL</td>\n",
       "      <td>MARGARIDA DORIGAN STAHL</td>\n",
       "      <td>10071964</td>\n",
       "      <td>MASCULINO</td>\n",
       "      <td>nan</td>\n",
       "      <td>BRASILEIRO</td>\n",
       "      <td>0031359360116</td>\n",
       "      <td>REGULAR</td>\n",
       "      <td>38579757</td>\n",
       "      <td>AVENIDA LUIS FAVERO</td>\n",
       "      <td>111</td>\n",
       "      <td></td>\n",
       "      <td>VILA SAO PEDRO</td>\n",
       "      <td>ENGENHEIRO COELHO/SP</td>\n",
       "      <td>13165-000</td>\n",
       "    </tr>\n",
       "  </tbody>\n",
       "</table>\n",
       "</div>"
      ],
      "text/plain": [
       "              CPF                 Nome                           Mãe  \\\n",
       "0  304.983.608-30   AARON ALVES SOARES  IRANI APARECIDA ALVES SOARES   \n",
       "1  074.152.258-64        ABEL DA SILVA        MATILDE BREDA DA SILVA   \n",
       "2  018.854.728-20        ABEL ESPINOSA              CARMEM FIGUEIRAS   \n",
       "3  018.996.248-80  ABEL JOSE DE CASTRO       FRANCELINA MARIA CASTRO   \n",
       "4  050.804.278-09    ABEL MOACIR STAHL       MARGARIDA DORIGAN STAHL   \n",
       "\n",
       "  Data de Nascimento       Sexo Ano do Óbito Nacionalidade Título de Eleitor  \\\n",
       "0           24041982  MASCULINO          nan    BRASILEIRO     0197535290116   \n",
       "1           27011966  MASCULINO          nan    BRASILEIRO     0077314170141   \n",
       "2           21021930  MASCULINO         2017    BRASILEIRO     0000000000000   \n",
       "3           11031960  MASCULINO          nan    BRASILEIRO     0052752260175   \n",
       "4           10071964  MASCULINO          nan    BRASILEIRO     0031359360116   \n",
       "\n",
       "                Situação Cadastral      Fone              Logradouro Número  \\\n",
       "0                          REGULAR  35461213         RUA ELOY CHAVES    414   \n",
       "1                          REGULAR  34932960   RUA GUIOMAR SCHIAVONE    147   \n",
       "2  CANCELADA POR ÓBITO SEM ESPÓLIO  38333086          RUA PRIMAVERAS    106   \n",
       "3                          REGULAR  38055949  ALAMEDA DOS PIRATININS    567   \n",
       "4                          REGULAR  38579757     AVENIDA LUIS FAVERO    111   \n",
       "\n",
       "  Complemento               Bairro                Cidade        Cep  \n",
       "0              N SENHORA APARECIDA      CORDEIROPOLIS/SP  13490-000  \n",
       "1        CASA          SANTA MARIA     RIO DAS PEDRAS/SP  13390-000  \n",
       "2                         CAROLINA            UBATUBA/SP  11680-000  \n",
       "3        CASA    PLANALTO PAULISTA          SAO PAULO/SP  04065-051  \n",
       "4                   VILA SAO PEDRO  ENGENHEIRO COELHO/SP  13165-000  "
      ]
     },
     "execution_count": 9,
     "metadata": {},
     "output_type": "execute_result"
    }
   ],
   "source": [
    "df.head()"
   ]
  },
  {
   "cell_type": "code",
   "execution_count": 10,
   "metadata": {
    "ExecuteTime": {
     "end_time": "2018-08-09T18:15:04.459711Z",
     "start_time": "2018-08-09T18:14:59.811911Z"
    },
    "hidden": true
   },
   "outputs": [],
   "source": [
    "sec = sistemas.Sec(driver)"
   ]
  },
  {
   "cell_type": "code",
   "execution_count": null,
   "metadata": {
    "ExecuteTime": {
     "start_time": "2018-08-09T18:15:05.172Z"
    },
    "hidden": true
   },
   "outputs": [],
   "source": [
    "df[\"Erros\"] = \"\"\n",
    "\n",
    "for i in range(total):\n",
    "    \n",
    "    try:\n",
    "        sec.atualiza_cadastro(df.iloc[i])\n",
    "        \n",
    "    except:\n",
    "        \n",
    "        df.loc[i, \"Erros\"] = True\n",
    "        \n",
    "    finally:\n",
    "        \n",
    "        next"
   ]
  },
  {
   "cell_type": "markdown",
   "metadata": {},
   "source": [
    "# SEI - Manipulação de Processo"
   ]
  },
  {
   "cell_type": "markdown",
   "metadata": {
    "ExecuteTime": {
     "end_time": "2018-07-20T17:23:01.149621Z",
     "start_time": "2018-07-20T17:23:00.884814Z"
    }
   },
   "source": [
    "## Autenticação"
   ]
  },
  {
   "cell_type": "code",
   "execution_count": 47,
   "metadata": {
    "ExecuteTime": {
     "end_time": "2018-08-10T16:22:05.138363Z",
     "start_time": "2018-08-10T16:21:58.333363Z"
    }
   },
   "outputs": [],
   "source": [
    "usr = \"rsilva\"\n",
    "pwd = \"Savorthemom3nts\"\n",
    "browser = webdriver.Firefox()"
   ]
  },
  {
   "cell_type": "code",
   "execution_count": 48,
   "metadata": {
    "ExecuteTime": {
     "end_time": "2018-08-10T16:22:07.987163Z",
     "start_time": "2018-08-10T16:22:05.138363Z"
    }
   },
   "outputs": [],
   "source": [
    "sei_ = sei.login_sei(browser, usr, pwd)"
   ]
  },
  {
   "cell_type": "code",
   "execution_count": 49,
   "metadata": {
    "ExecuteTime": {
     "end_time": "2018-08-10T16:22:08.193163Z",
     "start_time": "2018-08-10T16:22:07.989163Z"
    }
   },
   "outputs": [],
   "source": [
    "sei_ = sei.Sei(sei_)"
   ]
  },
  {
   "cell_type": "code",
   "execution_count": 50,
   "metadata": {
    "ExecuteTime": {
     "end_time": "2018-08-10T16:26:02.643963Z",
     "start_time": "2018-08-10T16:25:45.825163Z"
    }
   },
   "outputs": [],
   "source": [
    "sei_.itera_processos()"
   ]
  },
  {
   "cell_type": "code",
   "execution_count": 57,
   "metadata": {
    "ExecuteTime": {
     "end_time": "2018-08-10T16:29:01.009963Z",
     "start_time": "2018-08-10T16:28:59.556763Z"
    }
   },
   "outputs": [],
   "source": [
    "p = sei_.go_to_processo(proc)"
   ]
  },
  {
   "cell_type": "markdown",
   "metadata": {},
   "source": [
    "## Doc Externo"
   ]
  },
  {
   "cell_type": "code",
   "execution_count": 58,
   "metadata": {
    "ExecuteTime": {
     "end_time": "2018-08-10T16:29:01.902363Z",
     "start_time": "2018-08-10T16:29:01.690963Z"
    }
   },
   "outputs": [],
   "source": [
    "files = sorted(os.listdir(PATH))"
   ]
  },
  {
   "cell_type": "code",
   "execution_count": 59,
   "metadata": {
    "ExecuteTime": {
     "end_time": "2018-08-10T16:29:02.233363Z",
     "start_time": "2018-08-10T16:29:02.014363Z"
    }
   },
   "outputs": [],
   "source": [
    "file = os.path.join(PATH, files[-1])"
   ]
  },
  {
   "cell_type": "code",
   "execution_count": 60,
   "metadata": {
    "ExecuteTime": {
     "end_time": "2018-08-10T16:29:11.811763Z",
     "start_time": "2018-08-10T16:29:02.343363Z"
    },
    "scrolled": true
   },
   "outputs": [],
   "source": [
    "p.incluir_doc_externo('AR', file, arvore=\"por E-mail\")"
   ]
  },
  {
   "cell_type": "code",
   "execution_count": null,
   "metadata": {
    "ExecuteTime": {
     "end_time": "2018-08-08T17:13:25.397711Z",
     "start_time": "2018-08-08T17:13:02.825508Z"
    }
   },
   "outputs": [],
   "source": [
    "dados = scpx.extrai_cadastro(cpf)"
   ]
  },
  {
   "cell_type": "code",
   "execution_count": 31,
   "metadata": {
    "ExecuteTime": {
     "end_time": "2018-08-10T15:33:02.194350Z",
     "start_time": "2018-08-10T15:33:01.992140Z"
    }
   },
   "outputs": [],
   "source": [
    "p = sei_.go_to_processo(proc)"
   ]
  },
  {
   "cell_type": "code",
   "execution_count": null,
   "metadata": {
    "ExecuteTime": {
     "end_time": "2018-08-08T17:13:53.132159Z",
     "start_time": "2018-08-08T17:13:25.748746Z"
    }
   },
   "outputs": [],
   "source": [
    "p.incluir_oficio('RC_OF_Sem_Contexto_Licença', string_endereço(dados))"
   ]
  },
  {
   "cell_type": "code",
   "execution_count": 42,
   "metadata": {
    "ExecuteTime": {
     "end_time": "2018-08-10T15:35:22.202597Z",
     "start_time": "2018-08-10T15:35:22.008191Z"
    }
   },
   "outputs": [],
   "source": [
    "p = sei_.go_to_processo(proc)"
   ]
  },
  {
   "cell_type": "code",
   "execution_count": null,
   "metadata": {},
   "outputs": [],
   "source": [
    "p.incluir_informe()"
   ]
  },
  {
   "cell_type": "code",
   "execution_count": null,
   "metadata": {
    "ExecuteTime": {
     "end_time": "2018-08-01T22:14:24.905954Z",
     "start_time": "2018-08-01T22:06:55.521969Z"
    }
   },
   "outputs": [],
   "source": [
    "for prova, gabarito in zip(files, scaneados):\n",
    "\n",
    "    nome = prova.split(\".\")[0]\n",
    "    \n",
    "    p.incluir_doc_externo(\"Prova\", os.path.join(SCAN, gabarito), arvore=nome)\n",
    "    \n",
    "    sleep(5)\n",
    "    "
   ]
  },
  {
   "cell_type": "markdown",
   "metadata": {},
   "source": [
    "## Controles"
   ]
  },
  {
   "cell_type": "code",
   "execution_count": null,
   "metadata": {
    "ExecuteTime": {
     "end_time": "2018-08-08T17:00:13.950375Z",
     "start_time": "2018-08-08T16:59:17.009275Z"
    }
   },
   "outputs": [],
   "source": [
    "p.edita_marcador(tipo=\"RC - Aguardando AR/Resposta\", content='Até 20/08/2018')"
   ]
  },
  {
   "cell_type": "code",
   "execution_count": null,
   "metadata": {
    "ExecuteTime": {
     "end_time": "2018-07-27T19:43:04.202791Z",
     "start_time": "2018-07-27T19:43:01.288291Z"
    }
   },
   "outputs": [],
   "source": [
    "p.edita_postit(\"Analisado - Controlar pagamento e Emitir Licença\", True)"
   ]
  },
  {
   "cell_type": "code",
   "execution_count": 61,
   "metadata": {
    "ExecuteTime": {
     "end_time": "2018-08-10T16:30:20.660763Z",
     "start_time": "2018-08-10T16:30:13.261163Z"
    }
   },
   "outputs": [],
   "source": [
    "p.edita_marcador()"
   ]
  },
  {
   "cell_type": "code",
   "execution_count": 44,
   "metadata": {
    "ExecuteTime": {
     "end_time": "2018-08-10T15:35:38.988392Z",
     "start_time": "2018-08-10T15:35:36.350545Z"
    }
   },
   "outputs": [],
   "source": [
    "p.edita_postit()"
   ]
  },
  {
   "cell_type": "code",
   "execution_count": 62,
   "metadata": {
    "ExecuteTime": {
     "end_time": "2018-08-10T16:30:26.252563Z",
     "start_time": "2018-08-10T16:30:20.660763Z"
    }
   },
   "outputs": [],
   "source": [
    "p.excluir_acomp_especial()"
   ]
  },
  {
   "cell_type": "code",
   "execution_count": 63,
   "metadata": {
    "ExecuteTime": {
     "end_time": "2018-08-10T16:30:31.497563Z",
     "start_time": "2018-08-10T16:30:26.254563Z"
    }
   },
   "outputs": [],
   "source": [
    "p.concluir_processo()"
   ]
  },
  {
   "cell_type": "markdown",
   "metadata": {
    "ExecuteTime": {
     "end_time": "2018-07-20T17:24:00.770532Z",
     "start_time": "2018-07-20T17:24:00.479722Z"
    },
    "heading_collapsed": true
   },
   "source": [
    "# Testes"
   ]
  },
  {
   "cell_type": "code",
   "execution_count": null,
   "metadata": {
    "ExecuteTime": {
     "end_time": "2018-07-20T19:42:48.973003Z",
     "start_time": "2018-07-20T19:42:48.773403Z"
    },
    "hidden": true
   },
   "outputs": [],
   "source": [
    "tipo = \"Outorga: Rádio do Cidadão\"\n",
    "atribuicao = 'rodrigoca'"
   ]
  },
  {
   "cell_type": "code",
   "execution_count": null,
   "metadata": {
    "ExecuteTime": {
     "end_time": "2018-07-20T20:12:00.345003Z",
     "start_time": "2018-07-20T20:12:00.175803Z"
    },
    "hidden": true
   },
   "outputs": [],
   "source": [
    "processos = [p for p in sei_.get_processos().values() if p['atribuicao'] == 'rodrigoca']"
   ]
  },
  {
   "cell_type": "code",
   "execution_count": null,
   "metadata": {
    "ExecuteTime": {
     "end_time": "2018-07-20T19:42:52.514003Z",
     "start_time": "2018-07-20T19:42:52.322603Z"
    },
    "hidden": true
   },
   "outputs": [],
   "source": [
    "mm = [p for p in processos if p['tipo'] == tipo]"
   ]
  },
  {
   "cell_type": "code",
   "execution_count": null,
   "metadata": {
    "ExecuteTime": {
     "end_time": "2018-07-20T19:44:45.188003Z",
     "start_time": "2018-07-20T19:44:45.024403Z"
    },
    "hidden": true
   },
   "outputs": [],
   "source": [
    "for p in mm:\n",
    "    print(p.get('marcador'))"
   ]
  },
  {
   "cell_type": "code",
   "execution_count": null,
   "metadata": {
    "ExecuteTime": {
     "end_time": "2018-07-20T20:12:05.974203Z",
     "start_time": "2018-07-20T20:12:05.797403Z"
    },
    "hidden": true
   },
   "outputs": [],
   "source": [
    "concluir = list()"
   ]
  },
  {
   "cell_type": "code",
   "execution_count": null,
   "metadata": {
    "ExecuteTime": {
     "end_time": "2018-07-20T20:12:43.262603Z",
     "start_time": "2018-07-20T20:12:12.140803Z"
    },
    "hidden": true
   },
   "outputs": [],
   "source": [
    "for processo in processos:\n",
    "    \n",
    "    if 'Licença' in str(processo.get('marcador')):\n",
    "        \n",
    "        p = sei_.go_to_processo(processo['numero'])\n",
    "        \n",
    "        i = input()\n",
    "        \n",
    "        if i == '1': \n",
    "            \n",
    "            concluir.append(processo)\n",
    "            \n",
    "            \n",
    "        gc.collect()"
   ]
  },
  {
   "cell_type": "code",
   "execution_count": null,
   "metadata": {
    "ExecuteTime": {
     "end_time": "2018-07-20T20:19:25.918003Z",
     "start_time": "2018-07-20T20:12:48.496203Z"
    },
    "hidden": true
   },
   "outputs": [],
   "source": [
    "for processo in concluir:\n",
    "    \n",
    "    p = sei_.go_to_processo(processo['numero'])\n",
    "    \n",
    "    \n",
    "    sleep(2)\n",
    "    \n",
    "    try:    \n",
    "        p.edita_marcador()    \n",
    "    \n",
    "        p.edita_postit()\n",
    "    \n",
    "        p.excluir_acomp_especial()\n",
    "        \n",
    "        p.concluir_processo() \n",
    "            \n",
    "    except:\n",
    "            \n",
    "            next"
   ]
  },
  {
   "cell_type": "code",
   "execution_count": null,
   "metadata": {
    "ExecuteTime": {
     "end_time": "2018-07-19T21:19:05.187340Z",
     "start_time": "2018-07-19T20:31:22.660Z"
    },
    "hidden": true
   },
   "outputs": [],
   "source": [
    "#dados = scpx.extrai_cadastro(dado['interessado'], tipo_id='id_nome', timeout=5)\n"
   ]
  },
  {
   "cell_type": "code",
   "execution_count": null,
   "metadata": {
    "ExecuteTime": {
     "end_time": "2018-07-19T20:11:44.192568Z",
     "start_time": "2018-07-19T20:08:48.569682Z"
    },
    "hidden": true
   },
   "outputs": [],
   "source": [
    "for num, dado in tupla[30:]:\n",
    "        \n",
    "    p = sei_.go_to_processo(num)\n",
    "    \n",
    "    i = input()\n",
    "    \n",
    "    if i =='y':\n",
    "        \n",
    "        try:\n",
    "            \n",
    "            dados = scpx.extrai_cadastro(dado['interessado'], tipo_id='id_nome', timeout=5)\n",
    "                               \n",
    "            p.incluir_oficio('RC_OF_Sem_Contexto_Licença', string_endereço(dados))\n",
    "            \n",
    "            p.edita_marcador(tipo='RC - Aguardando AR/Resposta', content='Até 31/07/2018')        \n",
    "\n",
    "            \n",
    "        except:\n",
    "            \n",
    "            next            \n",
    "            \n",
    "    if i == 'c':\n",
    "        \n",
    "        p.edita_marcador()\n",
    "        p.edita_postit()\n",
    "        p.excluir_acomp_especial()\n",
    "        p.concluir_processo() "
   ]
  },
  {
   "cell_type": "markdown",
   "metadata": {
    "hidden": true
   },
   "source": [
    "## Outros"
   ]
  },
  {
   "cell_type": "code",
   "execution_count": null,
   "metadata": {
    "hidden": true
   },
   "outputs": [],
   "source": [
    "from bs4 import BeautifulSoup as soup\n",
    "html = soup(scpx.driver.page_source, 'lxml')"
   ]
  },
  {
   "cell_type": "code",
   "execution_count": null,
   "metadata": {
    "hidden": true
   },
   "outputs": [],
   "source": [
    "dict_ = {}\n",
    "for tr in html.find_all('tr'):\n",
    "    for td in tr.find_all('td', string=True):\n",
    "        key = td.text.strip(\" :\")\n",
    "        value = td.find_next_sibling('td')            \n",
    "        if value and key not in dict_ and value.text.strip() != \"\":\n",
    "            dict_[key] = value.text.strip()\n",
    "            print(\"{0} {1}\".format(key, value.text.strip())) \n"
   ]
  },
  {
   "cell_type": "code",
   "execution_count": null,
   "metadata": {
    "hidden": true
   },
   "outputs": [],
   "source": [
    "dict_ = {}\n",
    "for tr in html.find_all('tr'):\n",
    "    for label in tr.find_all('label', string=True):\n",
    "        print(\"{0} {1}\".format(label.attrs.get('id'), label.text.strip()))                           "
   ]
  },
  {
   "cell_type": "code",
   "execution_count": null,
   "metadata": {
    "hidden": true
   },
   "outputs": [],
   "source": [
    "from bs4 import NavigableString\n",
    "def next_is_string(tag):\n",
    "    return isinstance(tag.next_element, NavigableString)             "
   ]
  },
  {
   "cell_type": "markdown",
   "metadata": {
    "ExecuteTime": {
     "end_time": "2018-07-25T19:54:36.509214Z",
     "start_time": "2018-07-25T19:54:36.259198Z"
    }
   },
   "source": [
    "# Boleto"
   ]
  },
  {
   "cell_type": "code",
   "execution_count": null,
   "metadata": {
    "ExecuteTime": {
     "end_time": "2018-07-25T19:55:01.998255Z",
     "start_time": "2018-07-25T19:54:57.869538Z"
    }
   },
   "outputs": [],
   "source": [
    "boleto = sistemas.Boleto(driver)"
   ]
  },
  {
   "cell_type": "code",
   "execution_count": null,
   "metadata": {
    "ExecuteTime": {
     "end_time": "2018-07-25T20:05:49.005922Z",
     "start_time": "2018-07-25T20:05:48.773908Z"
    }
   },
   "outputs": [],
   "source": [
    "fistel = '80113639805'\n",
    "cpf = \"31250732867\""
   ]
  },
  {
   "cell_type": "code",
   "execution_count": null,
   "metadata": {
    "ExecuteTime": {
     "end_time": "2018-07-25T20:24:27.144380Z",
     "start_time": "2018-07-25T20:23:56.275072Z"
    }
   },
   "outputs": [],
   "source": [
    "boleto.imprime_boleto(fistel, tipo_id='id_fistel')"
   ]
  },
  {
   "cell_type": "code",
   "execution_count": null,
   "metadata": {
    "ExecuteTime": {
     "end_time": "2018-07-27T19:44:38.953291Z",
     "start_time": "2018-07-27T19:44:35.532791Z"
    }
   },
   "outputs": [],
   "source": [
    "gc.collect()"
   ]
  }
 ],
 "metadata": {
  "kernelspec": {
   "display_name": "Python 3",
   "language": "python",
   "name": "python3"
  },
  "language_info": {
   "codemirror_mode": {
    "name": "ipython",
    "version": 3
   },
   "file_extension": ".py",
   "mimetype": "text/x-python",
   "name": "python",
   "nbconvert_exporter": "python",
   "pygments_lexer": "ipython3",
   "version": "3.5.4"
  },
  "toc": {
   "base_numbering": 1,
   "nav_menu": {},
   "number_sections": true,
   "sideBar": true,
   "skip_h1_title": false,
   "title_cell": "Table of Contents",
   "title_sidebar": "Contents",
   "toc_cell": false,
   "toc_position": {},
   "toc_section_display": true,
   "toc_window_display": false
  }
 },
 "nbformat": 4,
 "nbformat_minor": 2
}
