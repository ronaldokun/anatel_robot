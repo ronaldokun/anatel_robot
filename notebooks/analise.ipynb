{
 "cells": [
  {
   "cell_type": "code",
   "execution_count": 1,
   "metadata": {
    "ExecuteTime": {
     "end_time": "2018-08-08T13:07:00.723856Z",
     "start_time": "2018-08-08T13:06:56.995769Z"
    }
   },
   "outputs": [],
   "source": [
    "import os\n",
    "import gc\n",
    "import pyperclip as clip\n",
    "# Change the directory to reflect the main repository\n",
    "os.chdir(\"C:/Users/rsilva/gdrive/projects/programming/automation\")\n",
    "from time import sleep\n",
    "import sistemas\n",
    "import sei\n",
    "import functions\n",
    "from page import *\n",
    "import selenium.webdriver as webdriver\n",
    "\n",
    "% reload_ext autoreload\n",
    "% autoreload 2"
   ]
  },
  {
   "cell_type": "code",
   "execution_count": 2,
   "metadata": {
    "ExecuteTime": {
     "end_time": "2018-08-08T13:07:00.850060Z",
     "start_time": "2018-08-08T13:07:00.723856Z"
    }
   },
   "outputs": [
    {
     "name": "stdout",
     "output_type": "stream",
     "text": [
      "C:\\Users\\rsilva\\Desktop\\SEI\n"
     ]
    }
   ],
   "source": [
    "#PATH = os.path.abspath(r\"S:\\PUBLICO\\Outorga 3º Andar\\Provas de Radioamador\\2018.07.25\\Corrigidos\")\n",
    "PATH = os.path.abspath(r\"C:\\Users\\rsilva\\Desktop\\SEI\")\n",
    "print(PATH)\n",
    "#SCAN = os.path.abspath(r\"S:\\PUBLICO\\Outorga 3º Andar\\Provas de Radioamador\\2018.07.25\\scaneados\")"
   ]
  },
  {
   "cell_type": "code",
   "execution_count": 4,
   "metadata": {
    "ExecuteTime": {
     "end_time": "2018-07-30T18:08:36.551010Z",
     "start_time": "2018-07-30T18:08:36.389010Z"
    }
   },
   "outputs": [],
   "source": [
    "keys = ('Nome/Razão Social', 'Logradouro', 'Número', 'Complemento', 'Bairro', 'Cep', 'Município', 'UF', 'Número Fistel')"
   ]
  },
  {
   "cell_type": "code",
   "execution_count": 3,
   "metadata": {
    "ExecuteTime": {
     "end_time": "2018-08-08T13:07:01.001075Z",
     "start_time": "2018-08-08T13:07:00.850060Z"
    }
   },
   "outputs": [],
   "source": [
    "def string_endereço(dados):\n",
    "    \n",
    "    d = {}\n",
    "    \n",
    "    s = 'A(o)<br><br>' \n",
    "    \n",
    "    s += dados[\"Nome/Razão Social\"].title()\n",
    "    \n",
    "    s += '<br>' + dados[\"Logradouro\"].title() + \", \" + dados[\"Número\"] + \" \" \n",
    "    \n",
    "    s += dados[\"Complemento\"].title() + \" \" \n",
    "    \n",
    "    s += dados[\"Bairro\"].title() + '<br>' \n",
    "    \n",
    "    s += \"CEP: \" + dados[\"Cep\"] + \" - \" + dados[\"Município\"].title() + \" - \" + dados[\"UF\"] \n",
    "            \n",
    "    s += \"<br><br>\" + \"<b>FISTEL: \" + dados[\"Número Fistel\"] + \"</b>\"\n",
    "    \n",
    "    d[\"A\"] = s\n",
    "    \n",
    "    return d"
   ]
  },
  {
   "cell_type": "code",
   "execution_count": 214,
   "metadata": {
    "ExecuteTime": {
     "end_time": "2018-08-08T17:10:16.634913Z",
     "start_time": "2018-08-08T17:10:16.351356Z"
    }
   },
   "outputs": [],
   "source": [
    "cpf = '25578881840'\n",
    "proc = r'53504.009518/2018-31'"
   ]
  },
  {
   "cell_type": "markdown",
   "metadata": {},
   "source": [
    "\n",
    "# Scpx - Manipulação de Cadastro"
   ]
  },
  {
   "cell_type": "code",
   "execution_count": 59,
   "metadata": {
    "ExecuteTime": {
     "end_time": "2018-08-08T14:40:36.600030Z",
     "start_time": "2018-08-08T14:40:24.872379Z"
    }
   },
   "outputs": [],
   "source": [
    "driver = webdriver.Ie()\n",
    "scpx = sistemas.Scpx(driver)"
   ]
  },
  {
   "cell_type": "markdown",
   "metadata": {},
   "source": [
    "### Consulta"
   ]
  },
  {
   "cell_type": "code",
   "execution_count": 196,
   "metadata": {
    "ExecuteTime": {
     "end_time": "2018-08-08T17:01:21.712475Z",
     "start_time": "2018-08-08T17:00:57.351575Z"
    }
   },
   "outputs": [],
   "source": [
    "scpx.consulta(cpf)"
   ]
  },
  {
   "cell_type": "markdown",
   "metadata": {
    "heading_collapsed": true
   },
   "source": [
    "### Serviço"
   ]
  },
  {
   "cell_type": "code",
   "execution_count": 163,
   "metadata": {
    "ExecuteTime": {
     "end_time": "2018-08-07T18:20:45.466996Z",
     "start_time": "2018-08-07T18:20:23.994920Z"
    },
    "hidden": true
   },
   "outputs": [],
   "source": [
    "scpx.servico_incluir(cpf, num_processo=proc, silent=True)"
   ]
  },
  {
   "cell_type": "code",
   "execution_count": null,
   "metadata": {
    "ExecuteTime": {
     "end_time": "2018-07-27T19:15:40.660596Z",
     "start_time": "2018-07-27T19:15:07.988950Z"
    },
    "hidden": true
   },
   "outputs": [],
   "source": [
    "#scpx.servico_excluir(cpf, documento=\"2724547\")\n",
    "scpx.imprime_consulta(cpf)"
   ]
  },
  {
   "cell_type": "markdown",
   "metadata": {
    "heading_collapsed": true
   },
   "source": [
    "## Estação"
   ]
  },
  {
   "cell_type": "code",
   "execution_count": null,
   "metadata": {
    "ExecuteTime": {
     "end_time": "2018-07-18T14:34:06.219612Z",
     "start_time": "2018-07-18T14:33:36.161612Z"
    },
    "hidden": true
   },
   "outputs": [],
   "source": [
    "scpx.prorrogar_rf(cpf)"
   ]
  },
  {
   "cell_type": "code",
   "execution_count": null,
   "metadata": {
    "ExecuteTime": {
     "end_time": "2018-07-18T14:38:46.486865Z",
     "start_time": "2018-07-18T14:38:22.976468Z"
    },
    "hidden": true,
    "scrolled": true
   },
   "outputs": [],
   "source": [
    "scpx.prorrogar_estacao(cpf)"
   ]
  },
  {
   "cell_type": "code",
   "execution_count": 164,
   "metadata": {
    "ExecuteTime": {
     "end_time": "2018-08-07T18:22:03.923841Z",
     "start_time": "2018-08-07T18:21:22.900739Z"
    },
    "hidden": true
   },
   "outputs": [],
   "source": [
    "scpx.incluir_estacao(cpf, 'Móvel', 'PX2A1957', sequencial='001')"
   ]
  },
  {
   "cell_type": "code",
   "execution_count": 57,
   "metadata": {
    "ExecuteTime": {
     "end_time": "2018-08-07T15:15:10.256517Z",
     "start_time": "2018-08-07T15:14:27.309017Z"
    },
    "hidden": true
   },
   "outputs": [
    {
     "ename": "TimeoutException",
     "evalue": "Message: \n",
     "output_type": "error",
     "traceback": [
      "\u001b[1;31m---------------------------------------------------------------------------\u001b[0m",
      "\u001b[1;31mTimeoutException\u001b[0m                          Traceback (most recent call last)",
      "\u001b[1;32m<ipython-input-57-e5cf1ffa1f51>\u001b[0m in \u001b[0;36m<module>\u001b[1;34m()\u001b[0m\n\u001b[1;32m----> 1\u001b[1;33m \u001b[0mscpx\u001b[0m\u001b[1;33m.\u001b[0m\u001b[0mincluir_estacao\u001b[0m\u001b[1;33m(\u001b[0m\u001b[0mcpf\u001b[0m\u001b[1;33m,\u001b[0m \u001b[1;34m'Fixa'\u001b[0m\u001b[1;33m,\u001b[0m \u001b[1;34m'PX2Y3769'\u001b[0m\u001b[1;33m,\u001b[0m \u001b[0msequencial\u001b[0m\u001b[1;33m=\u001b[0m\u001b[1;34m'002'\u001b[0m\u001b[1;33m)\u001b[0m\u001b[1;33m\u001b[0m\u001b[0m\n\u001b[0m",
      "\u001b[1;32m~\\gdrive\\projects\\programming\\automation\\sistemas.py\u001b[0m in \u001b[0;36mincluir_estacao\u001b[1;34m(self, identificador, tipo_estacao, indicativo, tipo_id, sede, sequencial, uf)\u001b[0m\n\u001b[0;32m    282\u001b[0m             \u001b[0mself\u001b[0m\u001b[1;33m.\u001b[0m\u001b[0m_click_button\u001b[0m\u001b[1;33m(\u001b[0m\u001b[0mhelper\u001b[0m\u001b[1;33m.\u001b[0m\u001b[0mget\u001b[0m\u001b[1;33m(\u001b[0m\u001b[1;34m'copiar_sede'\u001b[0m\u001b[1;33m)\u001b[0m\u001b[1;33m)\u001b[0m\u001b[1;33m\u001b[0m\u001b[0m\n\u001b[0;32m    283\u001b[0m \u001b[1;33m\u001b[0m\u001b[0m\n\u001b[1;32m--> 284\u001b[1;33m         \u001b[0mself\u001b[0m\u001b[1;33m.\u001b[0m\u001b[0m_click_button\u001b[0m\u001b[1;33m(\u001b[0m\u001b[0mhelper\u001b[0m\u001b[1;33m.\u001b[0m\u001b[0mget\u001b[0m\u001b[1;33m(\u001b[0m\u001b[1;34m'submit'\u001b[0m\u001b[1;33m)\u001b[0m\u001b[1;33m,\u001b[0m \u001b[0mtimeout\u001b[0m\u001b[1;33m=\u001b[0m\u001b[1;36m10\u001b[0m\u001b[1;33m)\u001b[0m\u001b[1;33m\u001b[0m\u001b[0m\n\u001b[0m\u001b[0;32m    285\u001b[0m \u001b[1;33m\u001b[0m\u001b[0m\n\u001b[0;32m    286\u001b[0m         \u001b[0malert\u001b[0m \u001b[1;33m=\u001b[0m \u001b[0mself\u001b[0m\u001b[1;33m.\u001b[0m\u001b[0malert_is_present\u001b[0m\u001b[1;33m(\u001b[0m\u001b[1;36m2\u001b[0m\u001b[1;33m)\u001b[0m\u001b[1;33m\u001b[0m\u001b[0m\n",
      "\u001b[1;32m~\\gdrive\\projects\\programming\\automation\\sistemas.py\u001b[0m in \u001b[0;36m_click_button\u001b[1;34m(self, btn_id, timeout)\u001b[0m\n\u001b[0;32m     80\u001b[0m         \u001b[1;32mtry\u001b[0m\u001b[1;33m:\u001b[0m\u001b[1;33m\u001b[0m\u001b[0m\n\u001b[0;32m     81\u001b[0m \u001b[1;33m\u001b[0m\u001b[0m\n\u001b[1;32m---> 82\u001b[1;33m             \u001b[0mbutton\u001b[0m \u001b[1;33m=\u001b[0m \u001b[0mself\u001b[0m\u001b[1;33m.\u001b[0m\u001b[0mwait_for_element_to_click\u001b[0m\u001b[1;33m(\u001b[0m\u001b[0mbtn_id\u001b[0m\u001b[1;33m,\u001b[0m \u001b[0mtimeout\u001b[0m\u001b[1;33m=\u001b[0m\u001b[0mtimeout\u001b[0m\u001b[1;33m)\u001b[0m\u001b[1;33m\u001b[0m\u001b[0m\n\u001b[0m\u001b[0;32m     83\u001b[0m \u001b[1;33m\u001b[0m\u001b[0m\n\u001b[0;32m     84\u001b[0m             \u001b[0mbutton\u001b[0m\u001b[1;33m.\u001b[0m\u001b[0mclick\u001b[0m\u001b[1;33m(\u001b[0m\u001b[1;33m)\u001b[0m\u001b[1;33m\u001b[0m\u001b[0m\n",
      "\u001b[1;32m~\\gdrive\\projects\\programming\\automation\\page.py\u001b[0m in \u001b[0;36mwait_for_element_to_click\u001b[1;34m(self, timeout, *locator)\u001b[0m\n\u001b[0;32m    122\u001b[0m     \u001b[1;32mdef\u001b[0m \u001b[0mwait_for_element_to_click\u001b[0m\u001b[1;33m(\u001b[0m\u001b[0mself\u001b[0m\u001b[1;33m,\u001b[0m \u001b[1;33m*\u001b[0m\u001b[0mlocator\u001b[0m\u001b[1;33m,\u001b[0m \u001b[0mtimeout\u001b[0m\u001b[1;33m=\u001b[0m\u001b[0mtimeout\u001b[0m\u001b[1;33m)\u001b[0m\u001b[1;33m:\u001b[0m\u001b[1;33m\u001b[0m\u001b[0m\n\u001b[0;32m    123\u001b[0m         return WebDriverWait(self.driver, timeout).until(\n\u001b[1;32m--> 124\u001b[1;33m             ec.element_to_be_clickable(*locator))\n\u001b[0m\u001b[0;32m    125\u001b[0m \u001b[1;33m\u001b[0m\u001b[0m\n\u001b[0;32m    126\u001b[0m     \u001b[1;32mdef\u001b[0m \u001b[0mwait_for_new_window\u001b[0m\u001b[1;33m(\u001b[0m\u001b[0mself\u001b[0m\u001b[1;33m,\u001b[0m \u001b[0mwindows\u001b[0m\u001b[1;33m,\u001b[0m \u001b[0mtimeout\u001b[0m\u001b[1;33m=\u001b[0m\u001b[0mtimeout\u001b[0m\u001b[1;33m)\u001b[0m\u001b[1;33m:\u001b[0m\u001b[1;33m\u001b[0m\u001b[0m\n",
      "\u001b[1;32m~\\miniconda3\\envs\\automation\\lib\\site-packages\\selenium\\webdriver\\support\\wait.py\u001b[0m in \u001b[0;36muntil\u001b[1;34m(self, method, message)\u001b[0m\n\u001b[0;32m     78\u001b[0m             \u001b[1;32mif\u001b[0m \u001b[0mtime\u001b[0m\u001b[1;33m.\u001b[0m\u001b[0mtime\u001b[0m\u001b[1;33m(\u001b[0m\u001b[1;33m)\u001b[0m \u001b[1;33m>\u001b[0m \u001b[0mend_time\u001b[0m\u001b[1;33m:\u001b[0m\u001b[1;33m\u001b[0m\u001b[0m\n\u001b[0;32m     79\u001b[0m                 \u001b[1;32mbreak\u001b[0m\u001b[1;33m\u001b[0m\u001b[0m\n\u001b[1;32m---> 80\u001b[1;33m         \u001b[1;32mraise\u001b[0m \u001b[0mTimeoutException\u001b[0m\u001b[1;33m(\u001b[0m\u001b[0mmessage\u001b[0m\u001b[1;33m,\u001b[0m \u001b[0mscreen\u001b[0m\u001b[1;33m,\u001b[0m \u001b[0mstacktrace\u001b[0m\u001b[1;33m)\u001b[0m\u001b[1;33m\u001b[0m\u001b[0m\n\u001b[0m\u001b[0;32m     81\u001b[0m \u001b[1;33m\u001b[0m\u001b[0m\n\u001b[0;32m     82\u001b[0m     \u001b[1;32mdef\u001b[0m \u001b[0muntil_not\u001b[0m\u001b[1;33m(\u001b[0m\u001b[0mself\u001b[0m\u001b[1;33m,\u001b[0m \u001b[0mmethod\u001b[0m\u001b[1;33m,\u001b[0m \u001b[0mmessage\u001b[0m\u001b[1;33m=\u001b[0m\u001b[1;34m''\u001b[0m\u001b[1;33m)\u001b[0m\u001b[1;33m:\u001b[0m\u001b[1;33m\u001b[0m\u001b[0m\n",
      "\u001b[1;31mTimeoutException\u001b[0m: Message: \n"
     ]
    }
   ],
   "source": [
    "scpx.incluir_estacao(cpf, 'Fixa', 'PX2Y3769', sequencial='002')"
   ]
  },
  {
   "cell_type": "code",
   "execution_count": 166,
   "metadata": {
    "ExecuteTime": {
     "end_time": "2018-08-07T18:23:24.077855Z",
     "start_time": "2018-08-07T18:23:01.168565Z"
    },
    "hidden": true
   },
   "outputs": [],
   "source": [
    "scpx.movimento_transferir(cpf, 'B', 'E', proc=proc)"
   ]
  },
  {
   "cell_type": "code",
   "execution_count": 7,
   "metadata": {
    "ExecuteTime": {
     "end_time": "2018-08-03T10:13:06.165426Z",
     "start_time": "2018-08-03T10:12:41.383979Z"
    },
    "hidden": true
   },
   "outputs": [],
   "source": [
    "scpx.movimento_transferir(cpf, 'A', 'G', proc=proc)"
   ]
  },
  {
   "cell_type": "code",
   "execution_count": 137,
   "metadata": {
    "ExecuteTime": {
     "end_time": "2018-08-07T18:04:09.191788Z",
     "start_time": "2018-08-07T18:03:41.510788Z"
    },
    "hidden": true
   },
   "outputs": [],
   "source": [
    "scpx.movimento_cancelar(cpf)"
   ]
  },
  {
   "cell_type": "code",
   "execution_count": 168,
   "metadata": {
    "ExecuteTime": {
     "end_time": "2018-08-07T18:24:08.419289Z",
     "start_time": "2018-08-07T18:23:46.529100Z"
    },
    "hidden": true
   },
   "outputs": [],
   "source": [
    "scpx.licenciar_estacao(cpf, silent=True)"
   ]
  },
  {
   "cell_type": "code",
   "execution_count": 169,
   "metadata": {
    "ExecuteTime": {
     "end_time": "2018-08-07T18:24:41.078555Z",
     "start_time": "2018-08-07T18:24:10.125460Z"
    },
    "hidden": true
   },
   "outputs": [],
   "source": [
    "scpx.licenciar_estacao(cpf, ppdess=False, silent=True)"
   ]
  },
  {
   "cell_type": "markdown",
   "metadata": {},
   "source": [
    "## Licença"
   ]
  },
  {
   "cell_type": "code",
   "execution_count": 215,
   "metadata": {
    "ExecuteTime": {
     "end_time": "2018-08-08T17:10:43.444774Z",
     "start_time": "2018-08-08T17:10:25.312648Z"
    }
   },
   "outputs": [],
   "source": [
    "scpx.imprimir_licenca(cpf)"
   ]
  },
  {
   "cell_type": "markdown",
   "metadata": {},
   "source": [
    "# SEI - Manipulação de Processo"
   ]
  },
  {
   "cell_type": "markdown",
   "metadata": {
    "ExecuteTime": {
     "end_time": "2018-07-20T17:23:01.149621Z",
     "start_time": "2018-07-20T17:23:00.884814Z"
    }
   },
   "source": [
    "## Autenticação"
   ]
  },
  {
   "cell_type": "code",
   "execution_count": 217,
   "metadata": {
    "ExecuteTime": {
     "end_time": "2018-08-08T17:12:26.501217Z",
     "start_time": "2018-08-08T17:12:21.935770Z"
    }
   },
   "outputs": [],
   "source": [
    "usr = \"rsilva\"\n",
    "pwd = \"Savorthemom3nts\"\n",
    "browser = webdriver.Firefox()"
   ]
  },
  {
   "cell_type": "code",
   "execution_count": 218,
   "metadata": {
    "ExecuteTime": {
     "end_time": "2018-08-08T17:12:28.698615Z",
     "start_time": "2018-08-08T17:12:26.501217Z"
    }
   },
   "outputs": [],
   "source": [
    "sei_ = sei.login_sei(browser, usr, pwd)"
   ]
  },
  {
   "cell_type": "code",
   "execution_count": 219,
   "metadata": {
    "ExecuteTime": {
     "end_time": "2018-08-08T17:12:28.987644Z",
     "start_time": "2018-08-08T17:12:28.700616Z"
    }
   },
   "outputs": [],
   "source": [
    "sei_ = sei.Sei(sei_)"
   ]
  },
  {
   "cell_type": "code",
   "execution_count": 23,
   "metadata": {
    "ExecuteTime": {
     "end_time": "2018-07-31T19:25:06.467921Z",
     "start_time": "2018-07-31T19:24:23.313794Z"
    }
   },
   "outputs": [
    {
     "name": "stdout",
     "output_type": "stream",
     "text": [
      "A página demorou muito tempo para carregar ou há somente 1 página de Processos\n"
     ]
    }
   ],
   "source": [
    "sei_.itera_processos()"
   ]
  },
  {
   "cell_type": "code",
   "execution_count": 220,
   "metadata": {
    "ExecuteTime": {
     "end_time": "2018-08-08T17:12:41.680408Z",
     "start_time": "2018-08-08T17:12:28.989644Z"
    }
   },
   "outputs": [],
   "source": [
    "p = sei_.go_to_processo(proc)"
   ]
  },
  {
   "cell_type": "markdown",
   "metadata": {},
   "source": [
    "## Doc Externo"
   ]
  },
  {
   "cell_type": "code",
   "execution_count": 221,
   "metadata": {
    "ExecuteTime": {
     "end_time": "2018-08-08T17:12:42.024442Z",
     "start_time": "2018-08-08T17:12:41.682408Z"
    }
   },
   "outputs": [],
   "source": [
    "files = sorted(os.listdir(PATH))"
   ]
  },
  {
   "cell_type": "code",
   "execution_count": 222,
   "metadata": {
    "ExecuteTime": {
     "end_time": "2018-08-08T17:12:42.355475Z",
     "start_time": "2018-08-08T17:12:42.026442Z"
    }
   },
   "outputs": [],
   "source": [
    "file = os.path.join(PATH, files[-1])"
   ]
  },
  {
   "cell_type": "code",
   "execution_count": 223,
   "metadata": {
    "ExecuteTime": {
     "end_time": "2018-08-08T17:13:02.825508Z",
     "start_time": "2018-08-08T17:12:42.358476Z"
    },
    "scrolled": true
   },
   "outputs": [],
   "source": [
    "p.incluir_doc_externo('Licença', file, arvore=\"Estação Móvel\")"
   ]
  },
  {
   "cell_type": "code",
   "execution_count": 224,
   "metadata": {
    "ExecuteTime": {
     "end_time": "2018-08-08T17:13:25.397711Z",
     "start_time": "2018-08-08T17:13:02.825508Z"
    }
   },
   "outputs": [],
   "source": [
    "dados = scpx.extrai_cadastro(cpf)"
   ]
  },
  {
   "cell_type": "code",
   "execution_count": 225,
   "metadata": {
    "ExecuteTime": {
     "end_time": "2018-08-08T17:13:25.746746Z",
     "start_time": "2018-08-08T17:13:25.400211Z"
    }
   },
   "outputs": [],
   "source": [
    "p = sei_.go_to_processo(proc)"
   ]
  },
  {
   "cell_type": "code",
   "execution_count": 226,
   "metadata": {
    "ExecuteTime": {
     "end_time": "2018-08-08T17:13:53.132159Z",
     "start_time": "2018-08-08T17:13:25.748746Z"
    }
   },
   "outputs": [],
   "source": [
    "p.incluir_oficio('RC_OF_Sem_Contexto_Licença', string_endereço(dados))"
   ]
  },
  {
   "cell_type": "code",
   "execution_count": 227,
   "metadata": {
    "ExecuteTime": {
     "end_time": "2018-08-08T17:13:53.483694Z",
     "start_time": "2018-08-08T17:13:53.134659Z"
    }
   },
   "outputs": [],
   "source": [
    "p = sei_.go_to_processo(proc)"
   ]
  },
  {
   "cell_type": "code",
   "execution_count": null,
   "metadata": {},
   "outputs": [],
   "source": [
    "p.incluir_informe()"
   ]
  },
  {
   "cell_type": "code",
   "execution_count": 36,
   "metadata": {
    "ExecuteTime": {
     "end_time": "2018-08-01T22:14:24.905954Z",
     "start_time": "2018-08-01T22:06:55.521969Z"
    }
   },
   "outputs": [],
   "source": [
    "for prova, gabarito in zip(files, scaneados):\n",
    "\n",
    "    nome = prova.split(\".\")[0]\n",
    "    \n",
    "    p.incluir_doc_externo(\"Prova\", os.path.join(SCAN, gabarito), arvore=nome)\n",
    "    \n",
    "    sleep(5)\n",
    "    "
   ]
  },
  {
   "cell_type": "markdown",
   "metadata": {},
   "source": [
    "## Controles"
   ]
  },
  {
   "cell_type": "code",
   "execution_count": 192,
   "metadata": {
    "ExecuteTime": {
     "end_time": "2018-08-08T17:00:13.950375Z",
     "start_time": "2018-08-08T16:59:17.009275Z"
    }
   },
   "outputs": [
    {
     "ename": "KeyboardInterrupt",
     "evalue": "",
     "output_type": "error",
     "traceback": [
      "\u001b[1;31m---------------------------------------------------------------------------\u001b[0m",
      "\u001b[1;31mKeyboardInterrupt\u001b[0m                         Traceback (most recent call last)",
      "\u001b[1;32m<ipython-input-192-5d006a45107d>\u001b[0m in \u001b[0;36m<module>\u001b[1;34m()\u001b[0m\n\u001b[1;32m----> 1\u001b[1;33m \u001b[0mp\u001b[0m\u001b[1;33m.\u001b[0m\u001b[0medita_marcador\u001b[0m\u001b[1;33m(\u001b[0m\u001b[0mtipo\u001b[0m\u001b[1;33m=\u001b[0m\u001b[1;34m\"RC - Aguardando AR/Resposta\"\u001b[0m\u001b[1;33m,\u001b[0m \u001b[0mcontent\u001b[0m\u001b[1;33m=\u001b[0m\u001b[1;34m'Até 20/08/2018'\u001b[0m\u001b[1;33m)\u001b[0m\u001b[1;33m\u001b[0m\u001b[0m\n\u001b[0m",
      "\u001b[1;32m~\\gdrive\\projects\\programming\\automation\\sei.py\u001b[0m in \u001b[0;36medita_marcador\u001b[1;34m(self, tipo, content)\u001b[0m\n\u001b[0;32m    856\u001b[0m     \u001b[1;32mdef\u001b[0m \u001b[0medita_marcador\u001b[0m\u001b[1;33m(\u001b[0m\u001b[0mself\u001b[0m\u001b[1;33m,\u001b[0m \u001b[0mtipo\u001b[0m\u001b[1;33m=\u001b[0m\u001b[1;34m\"\"\u001b[0m\u001b[1;33m,\u001b[0m \u001b[0mcontent\u001b[0m\u001b[1;33m=\u001b[0m\u001b[1;34m''\u001b[0m\u001b[1;33m)\u001b[0m\u001b[1;33m:\u001b[0m\u001b[1;33m\u001b[0m\u001b[0m\n\u001b[0;32m    857\u001b[0m \u001b[1;33m\u001b[0m\u001b[0m\n\u001b[1;32m--> 858\u001b[1;33m         \u001b[1;33m(\u001b[0m\u001b[0mmain\u001b[0m\u001b[1;33m,\u001b[0m \u001b[0mnew\u001b[0m\u001b[1;33m)\u001b[0m \u001b[1;33m=\u001b[0m \u001b[0mself\u001b[0m\u001b[1;33m.\u001b[0m\u001b[0mgo_to_marcador\u001b[0m\u001b[1;33m(\u001b[0m\u001b[1;33m)\u001b[0m\u001b[1;33m\u001b[0m\u001b[0m\n\u001b[0m\u001b[0;32m    859\u001b[0m \u001b[1;33m\u001b[0m\u001b[0m\n\u001b[0;32m    860\u001b[0m         \u001b[1;32mif\u001b[0m \u001b[0mnew\u001b[0m \u001b[1;32mis\u001b[0m \u001b[1;32mnot\u001b[0m \u001b[1;32mNone\u001b[0m\u001b[1;33m:\u001b[0m\u001b[1;33m\u001b[0m\u001b[0m\n",
      "\u001b[1;32m~\\gdrive\\projects\\programming\\automation\\sei.py\u001b[0m in \u001b[0;36mgo_to_marcador\u001b[1;34m(self)\u001b[0m\n\u001b[0;32m    794\u001b[0m     \u001b[1;32mdef\u001b[0m \u001b[0mgo_to_marcador\u001b[0m\u001b[1;33m(\u001b[0m\u001b[0mself\u001b[0m\u001b[1;33m)\u001b[0m\u001b[1;33m:\u001b[0m\u001b[1;33m\u001b[0m\u001b[0m\n\u001b[0;32m    795\u001b[0m \u001b[1;33m\u001b[0m\u001b[0m\n\u001b[1;32m--> 796\u001b[1;33m         \u001b[0mlink\u001b[0m \u001b[1;33m=\u001b[0m \u001b[0mself\u001b[0m\u001b[1;33m.\u001b[0m\u001b[0mget_acoes\u001b[0m\u001b[1;33m(\u001b[0m\u001b[1;33m)\u001b[0m\u001b[1;33m.\u001b[0m\u001b[0mget\u001b[0m\u001b[1;33m(\u001b[0m\u001b[1;34m\"Gerenciar Marcador\"\u001b[0m\u001b[1;33m)\u001b[0m\u001b[1;33m\u001b[0m\u001b[0m\n\u001b[0m\u001b[0;32m    797\u001b[0m \u001b[1;33m\u001b[0m\u001b[0m\n\u001b[0;32m    798\u001b[0m         \u001b[1;32mif\u001b[0m \u001b[0mlink\u001b[0m \u001b[1;32mis\u001b[0m \u001b[1;32mnot\u001b[0m \u001b[1;32mNone\u001b[0m\u001b[1;33m:\u001b[0m\u001b[1;33m\u001b[0m\u001b[0m\n",
      "\u001b[1;32m~\\gdrive\\projects\\programming\\automation\\sei.py\u001b[0m in \u001b[0;36mget_acoes\u001b[1;34m(self)\u001b[0m\n\u001b[0;32m    596\u001b[0m \u001b[1;33m\u001b[0m\u001b[0m\n\u001b[0;32m    597\u001b[0m         \u001b[1;32mif\u001b[0m \u001b[0mself\u001b[0m\u001b[1;33m.\u001b[0m\u001b[0macoes\u001b[0m \u001b[1;33m==\u001b[0m \u001b[1;33m{\u001b[0m\u001b[1;33m}\u001b[0m\u001b[1;33m:\u001b[0m\u001b[1;33m\u001b[0m\u001b[0m\n\u001b[1;32m--> 598\u001b[1;33m             \u001b[0mself\u001b[0m\u001b[1;33m.\u001b[0m\u001b[0m_acoes_processo\u001b[0m\u001b[1;33m(\u001b[0m\u001b[1;33m)\u001b[0m\u001b[1;33m\u001b[0m\u001b[0m\n\u001b[0m\u001b[0;32m    599\u001b[0m \u001b[1;33m\u001b[0m\u001b[0m\n\u001b[0;32m    600\u001b[0m         \u001b[1;32mreturn\u001b[0m \u001b[0mself\u001b[0m\u001b[1;33m.\u001b[0m\u001b[0macoes\u001b[0m\u001b[1;33m\u001b[0m\u001b[0m\n",
      "\u001b[1;32m~\\gdrive\\projects\\programming\\automation\\sei.py\u001b[0m in \u001b[0;36m_acoes_processo\u001b[1;34m(self)\u001b[0m\n\u001b[0;32m    583\u001b[0m         \u001b[0mself\u001b[0m\u001b[1;33m.\u001b[0m\u001b[0mdriver\u001b[0m\u001b[1;33m.\u001b[0m\u001b[0mswitch_to_frame\u001b[0m\u001b[1;33m(\u001b[0m\u001b[1;34m\"ifrVisualizacao\"\u001b[0m\u001b[1;33m)\u001b[0m\u001b[1;33m\u001b[0m\u001b[0m\n\u001b[0;32m    584\u001b[0m \u001b[1;33m\u001b[0m\u001b[0m\n\u001b[1;32m--> 585\u001b[1;33m         \u001b[0mself\u001b[0m\u001b[1;33m.\u001b[0m\u001b[0mwait_for_element\u001b[0m\u001b[1;33m(\u001b[0m\u001b[0mhelpers\u001b[0m\u001b[1;33m.\u001b[0m\u001b[0mProc_central\u001b[0m\u001b[1;33m.\u001b[0m\u001b[0mACOES\u001b[0m\u001b[1;33m)\u001b[0m\u001b[1;33m\u001b[0m\u001b[0m\n\u001b[0m\u001b[0;32m    586\u001b[0m \u001b[1;33m\u001b[0m\u001b[0m\n\u001b[0;32m    587\u001b[0m         \u001b[0mhtml_frame\u001b[0m \u001b[1;33m=\u001b[0m \u001b[0mSoup\u001b[0m\u001b[1;33m(\u001b[0m\u001b[0mself\u001b[0m\u001b[1;33m.\u001b[0m\u001b[0mdriver\u001b[0m\u001b[1;33m.\u001b[0m\u001b[0mpage_source\u001b[0m\u001b[1;33m,\u001b[0m \u001b[1;34m\"lxml\"\u001b[0m\u001b[1;33m)\u001b[0m\u001b[1;33m\u001b[0m\u001b[0m\n",
      "\u001b[1;32m~\\gdrive\\projects\\programming\\automation\\page.py\u001b[0m in \u001b[0;36mwait_for_element\u001b[1;34m(self, timeout, *locator)\u001b[0m\n\u001b[0;32m    118\u001b[0m     \u001b[1;32mdef\u001b[0m \u001b[0mwait_for_element\u001b[0m\u001b[1;33m(\u001b[0m\u001b[0mself\u001b[0m\u001b[1;33m,\u001b[0m \u001b[1;33m*\u001b[0m\u001b[0mlocator\u001b[0m\u001b[1;33m,\u001b[0m \u001b[0mtimeout\u001b[0m\u001b[1;33m=\u001b[0m\u001b[0mtimeout\u001b[0m\u001b[1;33m)\u001b[0m\u001b[1;33m:\u001b[0m\u001b[1;33m\u001b[0m\u001b[0m\n\u001b[0;32m    119\u001b[0m         return WebDriverWait(self.driver, timeout).until(\n\u001b[1;32m--> 120\u001b[1;33m             ec.presence_of_element_located(*locator))\n\u001b[0m\u001b[0;32m    121\u001b[0m \u001b[1;33m\u001b[0m\u001b[0m\n\u001b[0;32m    122\u001b[0m     \u001b[1;32mdef\u001b[0m \u001b[0mwait_for_element_to_click\u001b[0m\u001b[1;33m(\u001b[0m\u001b[0mself\u001b[0m\u001b[1;33m,\u001b[0m \u001b[1;33m*\u001b[0m\u001b[0mlocator\u001b[0m\u001b[1;33m,\u001b[0m \u001b[0mtimeout\u001b[0m\u001b[1;33m=\u001b[0m\u001b[0mtimeout\u001b[0m\u001b[1;33m)\u001b[0m\u001b[1;33m:\u001b[0m\u001b[1;33m\u001b[0m\u001b[0m\n",
      "\u001b[1;32m~\\miniconda3\\envs\\automation\\lib\\site-packages\\selenium\\webdriver\\support\\wait.py\u001b[0m in \u001b[0;36muntil\u001b[1;34m(self, method, message)\u001b[0m\n\u001b[0;32m     75\u001b[0m                 \u001b[0mscreen\u001b[0m \u001b[1;33m=\u001b[0m \u001b[0mgetattr\u001b[0m\u001b[1;33m(\u001b[0m\u001b[0mexc\u001b[0m\u001b[1;33m,\u001b[0m \u001b[1;34m'screen'\u001b[0m\u001b[1;33m,\u001b[0m \u001b[1;32mNone\u001b[0m\u001b[1;33m)\u001b[0m\u001b[1;33m\u001b[0m\u001b[0m\n\u001b[0;32m     76\u001b[0m                 \u001b[0mstacktrace\u001b[0m \u001b[1;33m=\u001b[0m \u001b[0mgetattr\u001b[0m\u001b[1;33m(\u001b[0m\u001b[0mexc\u001b[0m\u001b[1;33m,\u001b[0m \u001b[1;34m'stacktrace'\u001b[0m\u001b[1;33m,\u001b[0m \u001b[1;32mNone\u001b[0m\u001b[1;33m)\u001b[0m\u001b[1;33m\u001b[0m\u001b[0m\n\u001b[1;32m---> 77\u001b[1;33m             \u001b[0mtime\u001b[0m\u001b[1;33m.\u001b[0m\u001b[0msleep\u001b[0m\u001b[1;33m(\u001b[0m\u001b[0mself\u001b[0m\u001b[1;33m.\u001b[0m\u001b[0m_poll\u001b[0m\u001b[1;33m)\u001b[0m\u001b[1;33m\u001b[0m\u001b[0m\n\u001b[0m\u001b[0;32m     78\u001b[0m             \u001b[1;32mif\u001b[0m \u001b[0mtime\u001b[0m\u001b[1;33m.\u001b[0m\u001b[0mtime\u001b[0m\u001b[1;33m(\u001b[0m\u001b[1;33m)\u001b[0m \u001b[1;33m>\u001b[0m \u001b[0mend_time\u001b[0m\u001b[1;33m:\u001b[0m\u001b[1;33m\u001b[0m\u001b[0m\n\u001b[0;32m     79\u001b[0m                 \u001b[1;32mbreak\u001b[0m\u001b[1;33m\u001b[0m\u001b[0m\n",
      "\u001b[1;31mKeyboardInterrupt\u001b[0m: "
     ]
    }
   ],
   "source": [
    "p.edita_marcador(tipo=\"RC - Aguardando AR/Resposta\", content='Até 20/08/2018')"
   ]
  },
  {
   "cell_type": "code",
   "execution_count": 238,
   "metadata": {
    "ExecuteTime": {
     "end_time": "2018-07-27T19:43:04.202791Z",
     "start_time": "2018-07-27T19:43:01.288291Z"
    }
   },
   "outputs": [],
   "source": [
    "p.edita_postit(\"Analisado - Controlar pagamento e Emitir Licença\", True)"
   ]
  },
  {
   "cell_type": "code",
   "execution_count": 79,
   "metadata": {
    "ExecuteTime": {
     "end_time": "2018-08-08T14:58:19.689874Z",
     "start_time": "2018-08-08T14:58:12.142975Z"
    }
   },
   "outputs": [],
   "source": [
    "p.edita_marcador()"
   ]
  },
  {
   "cell_type": "code",
   "execution_count": 80,
   "metadata": {
    "ExecuteTime": {
     "end_time": "2018-08-08T14:58:24.101589Z",
     "start_time": "2018-08-08T14:58:19.694874Z"
    }
   },
   "outputs": [],
   "source": [
    "p.edita_postit()"
   ]
  },
  {
   "cell_type": "code",
   "execution_count": 47,
   "metadata": {
    "ExecuteTime": {
     "end_time": "2018-08-08T13:51:28.678385Z",
     "start_time": "2018-08-08T13:51:21.777490Z"
    }
   },
   "outputs": [],
   "source": [
    "p.excluir_acomp_especial()"
   ]
  },
  {
   "cell_type": "code",
   "execution_count": 81,
   "metadata": {
    "ExecuteTime": {
     "end_time": "2018-08-08T14:58:24.944150Z",
     "start_time": "2018-08-08T14:58:24.104089Z"
    }
   },
   "outputs": [],
   "source": [
    "p.concluir_processo()"
   ]
  },
  {
   "cell_type": "markdown",
   "metadata": {
    "ExecuteTime": {
     "end_time": "2018-07-20T17:24:00.770532Z",
     "start_time": "2018-07-20T17:24:00.479722Z"
    }
   },
   "source": [
    "## Testes"
   ]
  },
  {
   "cell_type": "code",
   "execution_count": null,
   "metadata": {
    "ExecuteTime": {
     "end_time": "2018-07-20T19:42:48.973003Z",
     "start_time": "2018-07-20T19:42:48.773403Z"
    }
   },
   "outputs": [],
   "source": [
    "tipo = \"Outorga: Rádio do Cidadão\"\n",
    "atribuicao = 'rodrigoca'"
   ]
  },
  {
   "cell_type": "code",
   "execution_count": null,
   "metadata": {
    "ExecuteTime": {
     "end_time": "2018-07-20T20:12:00.345003Z",
     "start_time": "2018-07-20T20:12:00.175803Z"
    }
   },
   "outputs": [],
   "source": [
    "processos = [p for p in sei_.get_processos().values() if p['atribuicao'] == 'rodrigoca']"
   ]
  },
  {
   "cell_type": "code",
   "execution_count": null,
   "metadata": {
    "ExecuteTime": {
     "end_time": "2018-07-20T19:42:52.514003Z",
     "start_time": "2018-07-20T19:42:52.322603Z"
    }
   },
   "outputs": [],
   "source": [
    "mm = [p for p in processos if p['tipo'] == tipo]"
   ]
  },
  {
   "cell_type": "code",
   "execution_count": null,
   "metadata": {
    "ExecuteTime": {
     "end_time": "2018-07-20T19:44:45.188003Z",
     "start_time": "2018-07-20T19:44:45.024403Z"
    }
   },
   "outputs": [],
   "source": [
    "for p in mm:\n",
    "    print(p.get('marcador'))"
   ]
  },
  {
   "cell_type": "code",
   "execution_count": null,
   "metadata": {
    "ExecuteTime": {
     "end_time": "2018-07-20T20:12:05.974203Z",
     "start_time": "2018-07-20T20:12:05.797403Z"
    }
   },
   "outputs": [],
   "source": [
    "concluir = list()"
   ]
  },
  {
   "cell_type": "code",
   "execution_count": null,
   "metadata": {
    "ExecuteTime": {
     "end_time": "2018-07-20T20:12:43.262603Z",
     "start_time": "2018-07-20T20:12:12.140803Z"
    }
   },
   "outputs": [],
   "source": [
    "for processo in processos:\n",
    "    \n",
    "    if 'Licença' in str(processo.get('marcador')):\n",
    "        \n",
    "        p = sei_.go_to_processo(processo['numero'])\n",
    "        \n",
    "        i = input()\n",
    "        \n",
    "        if i == '1': \n",
    "            \n",
    "            concluir.append(processo)\n",
    "            \n",
    "            \n",
    "        gc.collect()"
   ]
  },
  {
   "cell_type": "code",
   "execution_count": null,
   "metadata": {
    "ExecuteTime": {
     "end_time": "2018-07-20T20:19:25.918003Z",
     "start_time": "2018-07-20T20:12:48.496203Z"
    }
   },
   "outputs": [],
   "source": [
    "for processo in concluir:\n",
    "    \n",
    "    p = sei_.go_to_processo(processo['numero'])\n",
    "    \n",
    "    \n",
    "    sleep(2)\n",
    "    \n",
    "    try:    \n",
    "        p.edita_marcador()    \n",
    "    \n",
    "        p.edita_postit()\n",
    "    \n",
    "        p.excluir_acomp_especial()\n",
    "        \n",
    "        p.concluir_processo() \n",
    "            \n",
    "    except:\n",
    "            \n",
    "            next"
   ]
  },
  {
   "cell_type": "code",
   "execution_count": null,
   "metadata": {
    "ExecuteTime": {
     "end_time": "2018-07-19T21:19:05.187340Z",
     "start_time": "2018-07-19T20:31:22.660Z"
    }
   },
   "outputs": [],
   "source": [
    "#dados = scpx.extrai_cadastro(dado['interessado'], tipo_id='id_nome', timeout=5)\n"
   ]
  },
  {
   "cell_type": "code",
   "execution_count": null,
   "metadata": {
    "ExecuteTime": {
     "end_time": "2018-07-19T20:11:44.192568Z",
     "start_time": "2018-07-19T20:08:48.569682Z"
    }
   },
   "outputs": [],
   "source": [
    "for num, dado in tupla[30:]:\n",
    "        \n",
    "    p = sei_.go_to_processo(num)\n",
    "    \n",
    "    i = input()\n",
    "    \n",
    "    if i =='y':\n",
    "        \n",
    "        try:\n",
    "            \n",
    "            dados = scpx.extrai_cadastro(dado['interessado'], tipo_id='id_nome', timeout=5)\n",
    "                               \n",
    "            p.incluir_oficio('RC_OF_Sem_Contexto_Licença', string_endereço(dados))\n",
    "            \n",
    "            p.edita_marcador(tipo='RC - Aguardando AR/Resposta', content='Até 31/07/2018')        \n",
    "\n",
    "            \n",
    "        except:\n",
    "            \n",
    "            next            \n",
    "            \n",
    "    if i == 'c':\n",
    "        \n",
    "        p.edita_marcador()\n",
    "        p.edita_postit()\n",
    "        p.excluir_acomp_especial()\n",
    "        p.concluir_processo() "
   ]
  },
  {
   "cell_type": "markdown",
   "metadata": {},
   "source": [
    "## Outros"
   ]
  },
  {
   "cell_type": "code",
   "execution_count": null,
   "metadata": {},
   "outputs": [],
   "source": [
    "from bs4 import BeautifulSoup as soup\n",
    "html = soup(scpx.driver.page_source, 'lxml')"
   ]
  },
  {
   "cell_type": "code",
   "execution_count": null,
   "metadata": {},
   "outputs": [],
   "source": [
    "dict_ = {}\n",
    "for tr in html.find_all('tr'):\n",
    "    for td in tr.find_all('td', string=True):\n",
    "        key = td.text.strip(\" :\")\n",
    "        value = td.find_next_sibling('td')            \n",
    "        if value and key not in dict_ and value.text.strip() != \"\":\n",
    "            dict_[key] = value.text.strip()\n",
    "            print(\"{0} {1}\".format(key, value.text.strip())) \n"
   ]
  },
  {
   "cell_type": "code",
   "execution_count": null,
   "metadata": {},
   "outputs": [],
   "source": [
    "dict_ = {}\n",
    "for tr in html.find_all('tr'):\n",
    "    for label in tr.find_all('label', string=True):\n",
    "        print(\"{0} {1}\".format(label.attrs.get('id'), label.text.strip()))                           "
   ]
  },
  {
   "cell_type": "code",
   "execution_count": null,
   "metadata": {},
   "outputs": [],
   "source": [
    "from bs4 import NavigableString\n",
    "def next_is_string(tag):\n",
    "    return isinstance(tag.next_element, NavigableString)             "
   ]
  },
  {
   "cell_type": "markdown",
   "metadata": {
    "ExecuteTime": {
     "end_time": "2018-07-25T19:54:36.509214Z",
     "start_time": "2018-07-25T19:54:36.259198Z"
    }
   },
   "source": [
    "# Boleto"
   ]
  },
  {
   "cell_type": "code",
   "execution_count": null,
   "metadata": {
    "ExecuteTime": {
     "end_time": "2018-07-25T19:55:01.998255Z",
     "start_time": "2018-07-25T19:54:57.869538Z"
    }
   },
   "outputs": [],
   "source": [
    "boleto = sistemas.Boleto(driver)"
   ]
  },
  {
   "cell_type": "code",
   "execution_count": null,
   "metadata": {
    "ExecuteTime": {
     "end_time": "2018-07-25T20:05:49.005922Z",
     "start_time": "2018-07-25T20:05:48.773908Z"
    }
   },
   "outputs": [],
   "source": [
    "fistel = '80113639805'\n",
    "cpf = \"31250732867\""
   ]
  },
  {
   "cell_type": "code",
   "execution_count": null,
   "metadata": {
    "ExecuteTime": {
     "end_time": "2018-07-25T20:24:27.144380Z",
     "start_time": "2018-07-25T20:23:56.275072Z"
    }
   },
   "outputs": [],
   "source": [
    "boleto.imprime_boleto(fistel, tipo_id='id_fistel')"
   ]
  },
  {
   "cell_type": "code",
   "execution_count": 239,
   "metadata": {
    "ExecuteTime": {
     "end_time": "2018-07-27T19:44:38.953291Z",
     "start_time": "2018-07-27T19:44:35.532791Z"
    }
   },
   "outputs": [
    {
     "data": {
      "text/plain": [
       "186006"
      ]
     },
     "execution_count": 239,
     "metadata": {},
     "output_type": "execute_result"
    }
   ],
   "source": [
    "gc.collect()"
   ]
  }
 ],
 "metadata": {
  "kernelspec": {
   "display_name": "Python 3",
   "language": "python",
   "name": "python3"
  },
  "language_info": {
   "codemirror_mode": {
    "name": "ipython",
    "version": 3
   },
   "file_extension": ".py",
   "mimetype": "text/x-python",
   "name": "python",
   "nbconvert_exporter": "python",
   "pygments_lexer": "ipython3",
   "version": "3.5.4"
  },
  "toc": {
   "base_numbering": 1,
   "nav_menu": {},
   "number_sections": true,
   "sideBar": true,
   "skip_h1_title": false,
   "title_cell": "Table of Contents",
   "title_sidebar": "Contents",
   "toc_cell": false,
   "toc_position": {},
   "toc_section_display": true,
   "toc_window_display": false
  }
 },
 "nbformat": 4,
 "nbformat_minor": 2
}
