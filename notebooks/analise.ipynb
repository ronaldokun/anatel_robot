{
 "cells": [
  {
   "cell_type": "code",
   "execution_count": null,
   "metadata": {
    "ExecuteTime": {
     "end_time": "2018-08-20T16:28:46.859332Z",
     "start_time": "2018-08-20T16:28:42.336832Z"
    }
   },
   "outputs": [],
   "source": [
    "import os\n",
    "import gc\n",
    "import pyperclip as clip\n",
    "# Change the directory to reflect the main repository\n",
    "os.chdir(\"C:/Users/rsilva/gdrive/projects/programming/automation\")\n",
    "from time import sleep\n",
    "import sistemas\n",
    "import sei\n",
    "import functions\n",
    "from page import *\n",
    "import selenium.webdriver as webdriver\n",
    "\n",
    "% reload_ext autoreload\n",
    "% autoreload 2"
   ]
  },
  {
   "cell_type": "code",
   "execution_count": null,
   "metadata": {
    "ExecuteTime": {
     "end_time": "2018-08-20T16:28:47.139832Z",
     "start_time": "2018-08-20T16:28:46.867832Z"
    }
   },
   "outputs": [],
   "source": [
    "#PATH = os.path.abspath(r\"S:\\PUBLICO\\Outorga 3º Andar\\Provas de Radioamador\\2018.07.25\\Corrigidos\")\n",
    "PATH = os.path.abspath(r\"C:\\Users\\rsilva\\Desktop\\SEI\")\n",
    "HOME = os.path.abspath(\"C:/Users/rsilva/gdrive/projects/programming/automation/\")\n",
    "#SCAN = os.path.abspath(r\"S:\\PUBLICO\\Outorga 3º Andar\\Provas de Radioamador\\2018.07.25\\scaneados\")"
   ]
  },
  {
   "cell_type": "code",
   "execution_count": null,
   "metadata": {
    "ExecuteTime": {
     "end_time": "2018-08-17T14:23:24.786386Z",
     "start_time": "2018-08-17T14:23:24.641386Z"
    }
   },
   "outputs": [],
   "source": [
    "keys = ('Nome/Razão Social', 'Logradouro', 'Número', 'Complemento', 'Bairro', 'Cep', 'Município', 'UF', 'Número Fistel')"
   ]
  },
  {
   "cell_type": "code",
   "execution_count": null,
   "metadata": {
    "ExecuteTime": {
     "end_time": "2018-08-17T14:23:24.958386Z",
     "start_time": "2018-08-17T14:23:24.788386Z"
    }
   },
   "outputs": [],
   "source": [
    "def string_endereço(dados):\n",
    "    \n",
    "    d = {}\n",
    "    \n",
    "    s = 'A(o)<br><br>' \n",
    "    \n",
    "    s += dados[\"Nome/Razão Social\"].title()\n",
    "    \n",
    "    s += '<br>' + dados[\"Logradouro\"].title() + \", \" + dados[\"Número\"] + \" \" \n",
    "    \n",
    "    s += dados[\"Complemento\"].title() + \" \" \n",
    "    \n",
    "    s += dados[\"Bairro\"].title() + '<br>' \n",
    "    \n",
    "    s += \"CEP: \" + dados[\"Cep\"] + \" - \" + dados[\"Município\"].title() + \" - \" + dados[\"UF\"] \n",
    "            \n",
    "    s += \"<br><br>\" + \"<b>FISTEL: \" + dados[\"Número Fistel\"] + \"</b>\"\n",
    "    \n",
    "    d[\"A\"] = s\n",
    "    \n",
    "    return d"
   ]
  },
  {
   "cell_type": "code",
   "execution_count": null,
   "metadata": {
    "ExecuteTime": {
     "end_time": "2018-08-15T19:52:23.945683Z",
     "start_time": "2018-08-15T19:52:23.659683Z"
    }
   },
   "outputs": [],
   "source": [
    "cpf = '31166027864'"
   ]
  },
  {
   "cell_type": "code",
   "execution_count": null,
   "metadata": {
    "ExecuteTime": {
     "end_time": "2018-08-20T17:33:23.381709Z",
     "start_time": "2018-08-20T17:33:23.150241Z"
    }
   },
   "outputs": [],
   "source": [
    "proc = r'53542.001731/2018-49'"
   ]
  },
  {
   "cell_type": "markdown",
   "metadata": {},
   "source": [
    "# SEI - Manipulação de Processo"
   ]
  },
  {
   "cell_type": "markdown",
   "metadata": {
    "ExecuteTime": {
     "end_time": "2018-07-20T17:23:01.149621Z",
     "start_time": "2018-07-20T17:23:00.884814Z"
    }
   },
   "source": [
    "## Autenticação"
   ]
  },
  {
   "cell_type": "code",
   "execution_count": null,
   "metadata": {
    "ExecuteTime": {
     "end_time": "2018-08-20T17:33:44.858712Z",
     "start_time": "2018-08-20T17:33:40.155419Z"
    }
   },
   "outputs": [],
   "source": [
    "usr = \"rsilva\"\n",
    "pwd = \"Savorthemom3nts\"\n",
    "browser = webdriver.Firefox()"
   ]
  },
  {
   "cell_type": "code",
   "execution_count": null,
   "metadata": {
    "ExecuteTime": {
     "end_time": "2018-08-20T17:33:47.288937Z",
     "start_time": "2018-08-20T17:33:44.861211Z"
    }
   },
   "outputs": [],
   "source": [
    "sei_ = sei.login_sei(browser, usr, pwd)"
   ]
  },
  {
   "cell_type": "code",
   "execution_count": null,
   "metadata": {
    "ExecuteTime": {
     "end_time": "2018-08-20T17:33:47.592906Z",
     "start_time": "2018-08-20T17:33:47.290936Z"
    }
   },
   "outputs": [],
   "source": [
    "sei_ = sei.Sei(sei_)"
   ]
  },
  {
   "cell_type": "code",
   "execution_count": null,
   "metadata": {
    "ExecuteTime": {
     "end_time": "2018-08-17T14:24:41.414667Z",
     "start_time": "2018-08-17T14:24:24.610401Z"
    }
   },
   "outputs": [],
   "source": [
    "sei_.itera_processos()"
   ]
  },
  {
   "cell_type": "markdown",
   "metadata": {},
   "source": [
    "## Doc Externo"
   ]
  },
  {
   "cell_type": "code",
   "execution_count": 137,
   "metadata": {
    "ExecuteTime": {
     "end_time": "2018-08-20T18:00:57.649415Z",
     "start_time": "2018-08-20T18:00:57.403915Z"
    }
   },
   "outputs": [],
   "source": [
    "proc = '53504.009474/2018-40'"
   ]
  },
  {
   "cell_type": "code",
   "execution_count": 142,
   "metadata": {
    "ExecuteTime": {
     "end_time": "2018-08-20T18:01:19.026415Z",
     "start_time": "2018-08-20T18:01:18.715415Z"
    }
   },
   "outputs": [],
   "source": [
    "p = sei_.go_to_processo(proc)"
   ]
  },
  {
   "cell_type": "code",
   "execution_count": 139,
   "metadata": {
    "ExecuteTime": {
     "end_time": "2018-08-20T18:00:58.370915Z",
     "start_time": "2018-08-20T18:00:58.043915Z"
    }
   },
   "outputs": [],
   "source": [
    "files = sorted(os.listdir(PATH))"
   ]
  },
  {
   "cell_type": "code",
   "execution_count": 140,
   "metadata": {
    "ExecuteTime": {
     "end_time": "2018-08-20T18:01:00.019415Z",
     "start_time": "2018-08-20T18:00:59.756915Z"
    }
   },
   "outputs": [],
   "source": [
    "file = os.path.join(PATH, files[-1])"
   ]
  },
  {
   "cell_type": "code",
   "execution_count": 141,
   "metadata": {
    "ExecuteTime": {
     "end_time": "2018-08-20T18:01:13.156915Z",
     "start_time": "2018-08-20T18:01:00.643415Z"
    },
    "scrolled": true
   },
   "outputs": [],
   "source": [
    "p.incluir_doc_externo('E-mail', file, arvore=\"com confirmação de Recebimento\")"
   ]
  },
  {
   "cell_type": "markdown",
   "metadata": {
    "heading_collapsed": true
   },
   "source": [
    "## Enviar Ofício"
   ]
  },
  {
   "cell_type": "code",
   "execution_count": null,
   "metadata": {
    "ExecuteTime": {
     "end_time": "2018-08-15T13:23:53.483324Z",
     "start_time": "2018-08-15T13:23:53.096524Z"
    },
    "hidden": true
   },
   "outputs": [],
   "source": [
    "p = sei_.go_to_processo(proc)"
   ]
  },
  {
   "cell_type": "code",
   "execution_count": null,
   "metadata": {
    "ExecuteTime": {
     "end_time": "2018-08-14T20:48:04.144367Z",
     "start_time": "2018-08-14T20:47:45.796758Z"
    },
    "hidden": true
   },
   "outputs": [],
   "source": [
    "p.incluir_oficio('RC_OF_Sem_Contexto_Licença', string_endereço(dados))"
   ]
  },
  {
   "cell_type": "markdown",
   "metadata": {
    "heading_collapsed": true
   },
   "source": [
    "## Enviar Email"
   ]
  },
  {
   "cell_type": "code",
   "execution_count": null,
   "metadata": {
    "ExecuteTime": {
     "end_time": "2018-08-20T17:31:31.425194Z",
     "start_time": "2018-08-20T17:31:31.136165Z"
    },
    "hidden": true
   },
   "outputs": [],
   "source": [
    "p = sei_.go_to_processo(proc)"
   ]
  },
  {
   "cell_type": "code",
   "execution_count": null,
   "metadata": {
    "ExecuteTime": {
     "end_time": "2018-08-20T17:31:40.623476Z",
     "start_time": "2018-08-20T17:31:34.231474Z"
    },
    "hidden": true
   },
   "outputs": [],
   "source": [
    "email = 'efservicos.adm@gmail.com'\n",
    "\n",
    "assunto = 'Serviço Limitado Móvel Aeronáutico - Boletos - Processo: {0} - ANATEL/RSAB'.format(proc)\n",
    "\n",
    "msg = 'E-mail_(TFI, PPDUR, etc)'\n",
    "\n",
    "p.send_doc_por_email('3110894', (email, assunto, msg))"
   ]
  },
  {
   "cell_type": "markdown",
   "metadata": {},
   "source": [
    "## Controles"
   ]
  },
  {
   "cell_type": "code",
   "execution_count": null,
   "metadata": {
    "ExecuteTime": {
     "end_time": "2018-08-17T14:36:03.980653Z",
     "start_time": "2018-08-17T14:35:00.669590Z"
    }
   },
   "outputs": [],
   "source": [
    "for proc, dados in sei_._processos.items():\n",
    "    if dados['atribuicao'] == 'deleicfaria':\n",
    "        p = sei_.go_to_processo(proc)\n",
    "        y = input()\n",
    "        if y == 'y':\n",
    "            p.edita_marcador()\n",
    "            #p.edita_postit()\n",
    "            #p.excluir_acomp_especial()\n",
    "            p.concluir_processo()             "
   ]
  },
  {
   "cell_type": "code",
   "execution_count": 89,
   "metadata": {
    "ExecuteTime": {
     "end_time": "2018-08-20T17:40:27.693069Z",
     "start_time": "2018-08-20T17:40:27.274079Z"
    }
   },
   "outputs": [],
   "source": [
    "p = sei_.go_to_processo(proc)"
   ]
  },
  {
   "cell_type": "code",
   "execution_count": null,
   "metadata": {
    "ExecuteTime": {
     "end_time": "2018-08-16T19:48:41.051309Z",
     "start_time": "2018-08-16T19:48:30.398322Z"
    }
   },
   "outputs": [],
   "source": [
    "p.edita_marcador(tipo=\"RC - Aguardando AR/Resposta\", content='Até 20/08/2018')"
   ]
  },
  {
   "cell_type": "code",
   "execution_count": null,
   "metadata": {
    "ExecuteTime": {
     "end_time": "2018-07-27T19:43:04.202791Z",
     "start_time": "2018-07-27T19:43:01.288291Z"
    }
   },
   "outputs": [],
   "source": [
    "p.edita_postit(\"Analisado - Controlar pagamento e Emitir Licença\", True)"
   ]
  },
  {
   "cell_type": "code",
   "execution_count": 90,
   "metadata": {
    "ExecuteTime": {
     "end_time": "2018-08-20T17:40:39.610153Z",
     "start_time": "2018-08-20T17:40:27.695569Z"
    }
   },
   "outputs": [],
   "source": [
    "p.edita_marcador()"
   ]
  },
  {
   "cell_type": "code",
   "execution_count": null,
   "metadata": {
    "ExecuteTime": {
     "end_time": "2018-08-20T17:35:56.148280Z",
     "start_time": "2018-08-20T17:35:50.460174Z"
    }
   },
   "outputs": [],
   "source": [
    "p.edita_postit()"
   ]
  },
  {
   "cell_type": "code",
   "execution_count": 91,
   "metadata": {
    "ExecuteTime": {
     "end_time": "2018-08-20T17:40:48.007844Z",
     "start_time": "2018-08-20T17:40:39.612652Z"
    }
   },
   "outputs": [],
   "source": [
    "p.excluir_acomp_especial()"
   ]
  },
  {
   "cell_type": "code",
   "execution_count": 136,
   "metadata": {
    "ExecuteTime": {
     "end_time": "2018-08-20T18:00:41.414415Z",
     "start_time": "2018-08-20T18:00:32.836415Z"
    }
   },
   "outputs": [],
   "source": [
    "p.concluir_processo()"
   ]
  },
  {
   "cell_type": "markdown",
   "metadata": {},
   "source": [
    "# Scpx - Manipulação de Cadastro"
   ]
  },
  {
   "cell_type": "code",
   "execution_count": null,
   "metadata": {
    "ExecuteTime": {
     "end_time": "2018-08-16T19:06:22.300223Z",
     "start_time": "2018-08-16T19:06:17.931723Z"
    }
   },
   "outputs": [],
   "source": [
    "driver = webdriver.Ie()\n",
    "scpx = sistemas.Scpx(driver)"
   ]
  },
  {
   "cell_type": "markdown",
   "metadata": {},
   "source": [
    "## Consulta"
   ]
  },
  {
   "cell_type": "code",
   "execution_count": null,
   "metadata": {
    "ExecuteTime": {
     "end_time": "2018-08-16T19:45:49.482886Z",
     "start_time": "2018-08-16T19:45:34.818051Z"
    }
   },
   "outputs": [],
   "source": [
    "scpx.consulta(cpf)"
   ]
  },
  {
   "cell_type": "markdown",
   "metadata": {
    "heading_collapsed": true
   },
   "source": [
    "## Serviço"
   ]
  },
  {
   "cell_type": "code",
   "execution_count": null,
   "metadata": {
    "ExecuteTime": {
     "end_time": "2018-08-15T19:53:13.046683Z",
     "start_time": "2018-08-15T19:52:51.793683Z"
    },
    "hidden": true
   },
   "outputs": [],
   "source": [
    "scpx.servico_incluir(cpf, num_processo=proc, silent=True)"
   ]
  },
  {
   "cell_type": "code",
   "execution_count": null,
   "metadata": {
    "ExecuteTime": {
     "end_time": "2018-08-16T19:12:43.109086Z",
     "start_time": "2018-08-16T19:12:24.303Z"
    },
    "hidden": true
   },
   "outputs": [],
   "source": [
    "#scpx.servico_excluir(cpf, documento=\"2724547\")\n",
    "scpx.imprime_consulta(cpf)"
   ]
  },
  {
   "cell_type": "markdown",
   "metadata": {
    "heading_collapsed": true
   },
   "source": [
    "## Estação"
   ]
  },
  {
   "cell_type": "code",
   "execution_count": null,
   "metadata": {
    "ExecuteTime": {
     "end_time": "2018-07-18T14:34:06.219612Z",
     "start_time": "2018-07-18T14:33:36.161612Z"
    },
    "hidden": true
   },
   "outputs": [],
   "source": [
    "scpx.prorrogar_rf(cpf)"
   ]
  },
  {
   "cell_type": "code",
   "execution_count": null,
   "metadata": {
    "ExecuteTime": {
     "end_time": "2018-07-18T14:38:46.486865Z",
     "start_time": "2018-07-18T14:38:22.976468Z"
    },
    "hidden": true,
    "scrolled": true
   },
   "outputs": [],
   "source": [
    "scpx.prorrogar_estacao(cpf)"
   ]
  },
  {
   "cell_type": "code",
   "execution_count": null,
   "metadata": {
    "ExecuteTime": {
     "end_time": "2018-08-15T20:14:20.218654Z",
     "start_time": "2018-08-15T20:13:42.271007Z"
    },
    "hidden": true
   },
   "outputs": [],
   "source": [
    "scpx.incluir_estacao(cpf, 'Móvel', 'PX2C3116', sequencial='003')"
   ]
  },
  {
   "cell_type": "code",
   "execution_count": null,
   "metadata": {
    "ExecuteTime": {
     "end_time": "2018-08-15T19:58:16.172683Z",
     "start_time": "2018-08-15T19:57:32.882683Z"
    },
    "hidden": true
   },
   "outputs": [],
   "source": [
    "scpx.incluir_estacao(cpf, 'Fixa', 'PX2C3116', sequencial='001')"
   ]
  },
  {
   "cell_type": "code",
   "execution_count": null,
   "metadata": {
    "ExecuteTime": {
     "end_time": "2018-08-15T20:16:47.085446Z",
     "start_time": "2018-08-15T20:16:24.553731Z"
    },
    "hidden": true
   },
   "outputs": [],
   "source": [
    "scpx.movimento_transferir(cpf, 'B', 'E', proc=proc)"
   ]
  },
  {
   "cell_type": "code",
   "execution_count": null,
   "metadata": {
    "ExecuteTime": {
     "end_time": "2018-08-03T10:13:06.165426Z",
     "start_time": "2018-08-03T10:12:41.383979Z"
    },
    "hidden": true
   },
   "outputs": [],
   "source": [
    "scpx.movimento_transferir(cpf, 'A', 'G', proc=proc)"
   ]
  },
  {
   "cell_type": "code",
   "execution_count": null,
   "metadata": {
    "ExecuteTime": {
     "end_time": "2018-08-07T18:04:09.191788Z",
     "start_time": "2018-08-07T18:03:41.510788Z"
    },
    "hidden": true
   },
   "outputs": [],
   "source": [
    "scpx.movimento_cancelar(cpf)"
   ]
  },
  {
   "cell_type": "code",
   "execution_count": null,
   "metadata": {
    "ExecuteTime": {
     "end_time": "2018-08-15T20:17:01.245479Z",
     "start_time": "2018-08-15T20:16:52.543840Z"
    },
    "hidden": true
   },
   "outputs": [],
   "source": [
    "scpx.licenciar_estacao(cpf, silent=True)"
   ]
  },
  {
   "cell_type": "code",
   "execution_count": null,
   "metadata": {
    "ExecuteTime": {
     "end_time": "2018-08-15T20:17:34.823970Z",
     "start_time": "2018-08-15T20:17:04.433063Z"
    },
    "hidden": true
   },
   "outputs": [],
   "source": [
    "scpx.licenciar_estacao(cpf, ppdess=False, silent=True)"
   ]
  },
  {
   "cell_type": "code",
   "execution_count": null,
   "metadata": {
    "ExecuteTime": {
     "end_time": "2018-08-15T20:20:12.871261Z",
     "start_time": "2018-08-15T20:19:59.314589Z"
    },
    "hidden": true
   },
   "outputs": [],
   "source": [
    "dados = scpx.extrai_cadastro(cpf)"
   ]
  },
  {
   "cell_type": "markdown",
   "metadata": {},
   "source": [
    "## Licença"
   ]
  },
  {
   "cell_type": "code",
   "execution_count": null,
   "metadata": {
    "ExecuteTime": {
     "end_time": "2018-08-16T19:46:17.908762Z",
     "start_time": "2018-08-16T19:45:49.483886Z"
    }
   },
   "outputs": [],
   "source": [
    "scpx.imprimir_licenca(cpf)"
   ]
  },
  {
   "cell_type": "markdown",
   "metadata": {
    "heading_collapsed": true
   },
   "source": [
    "# Sigec"
   ]
  },
  {
   "cell_type": "code",
   "execution_count": null,
   "metadata": {
    "ExecuteTime": {
     "end_time": "2018-08-09T16:53:00.552311Z",
     "start_time": "2018-08-09T16:52:56.979511Z"
    },
    "hidden": true
   },
   "outputs": [],
   "source": [
    "sigec = sistemas.Sigec(driver)"
   ]
  },
  {
   "cell_type": "code",
   "execution_count": null,
   "metadata": {
    "ExecuteTime": {
     "end_time": "2018-08-09T13:38:05.433658Z",
     "start_time": "2018-08-09T13:38:03.153658Z"
    },
    "hidden": true
   },
   "outputs": [],
   "source": [
    "sigec.consulta_geral(cpf)"
   ]
  },
  {
   "cell_type": "code",
   "execution_count": null,
   "metadata": {
    "ExecuteTime": {
     "end_time": "2018-08-09T13:44:39.928658Z",
     "start_time": "2018-08-09T13:44:39.649658Z"
    },
    "hidden": true
   },
   "outputs": [],
   "source": [
    "dados.values()"
   ]
  },
  {
   "cell_type": "markdown",
   "metadata": {
    "heading_collapsed": true
   },
   "source": [
    "# Sec"
   ]
  },
  {
   "cell_type": "code",
   "execution_count": null,
   "metadata": {
    "ExecuteTime": {
     "end_time": "2018-08-10T18:16:10.940763Z",
     "start_time": "2018-08-10T18:16:07.591963Z"
    },
    "hidden": true
   },
   "outputs": [],
   "source": [
    "import pandas as pd\n",
    "\n",
    "df = pd.read_excel(\"files/registros_atualizados.xlsx\", dtype=str, na_values='nan').fillna(\"\")"
   ]
  },
  {
   "cell_type": "code",
   "execution_count": null,
   "metadata": {
    "ExecuteTime": {
     "end_time": "2018-08-10T18:16:12.495163Z",
     "start_time": "2018-08-10T18:16:12.027563Z"
    },
    "hidden": true
   },
   "outputs": [],
   "source": [
    "df['Ano do Óbito'] = df[\"Ano do Óbito\"].str.replace('nan', \"\")\n",
    "\n",
    "df['Complemento'] = df[\"Complemento\"].str.replace('nan', \"\")\n",
    "\n",
    "df[\"Data de Nascimento\"] = df[\"Data de Nascimento\"].str.replace(\"-\", '')\n",
    "\n",
    "df[\"Complemento\"] = df[\"Complemento\"].str.replace('nan', \"\")\n",
    "\n",
    "df['Cidade'] = df[\"Cidade\"].apply(lambda x: str(x).split(\"/\")[0])"
   ]
  },
  {
   "cell_type": "code",
   "execution_count": null,
   "metadata": {
    "ExecuteTime": {
     "end_time": "2018-08-10T18:16:28.986563Z",
     "start_time": "2018-08-10T18:16:28.613563Z"
    },
    "hidden": true
   },
   "outputs": [],
   "source": [
    "df = df.iloc[:8335]\n",
    "df[\"Erros\"] = \"\""
   ]
  },
  {
   "cell_type": "code",
   "execution_count": null,
   "metadata": {
    "ExecuteTime": {
     "end_time": "2018-08-10T18:17:20.917163Z",
     "start_time": "2018-08-10T18:17:20.523563Z"
    },
    "hidden": true
   },
   "outputs": [],
   "source": [
    "total = df.shape[0]"
   ]
  },
  {
   "cell_type": "code",
   "execution_count": null,
   "metadata": {
    "ExecuteTime": {
     "end_time": "2018-08-10T18:17:28.712963Z",
     "start_time": "2018-08-10T18:17:22.043563Z"
    },
    "hidden": true
   },
   "outputs": [],
   "source": [
    "driver = webdriver.Firefox()\n",
    "sec = sistemas.Sec(driver, 'rsilva', \"Savorthemom3nts\")"
   ]
  },
  {
   "cell_type": "code",
   "execution_count": null,
   "metadata": {
    "ExecuteTime": {
     "end_time": "2018-08-10T18:31:03.969963Z",
     "start_time": "2018-08-10T18:29:05.020763Z"
    },
    "hidden": true
   },
   "outputs": [],
   "source": [
    "for i in range(10,100):\n",
    "    \n",
    "    try:\n",
    "        sec.atualiza_cadastro(df.iloc[i])\n",
    "        \n",
    "    except:\n",
    "        \n",
    "        df.loc[i, \"Erros\"] = True\n",
    "        \n",
    "        next\n",
    "        \n",
    "        gc.collect()   \n",
    "    "
   ]
  },
  {
   "cell_type": "markdown",
   "metadata": {
    "heading_collapsed": true
   },
   "source": [
    "# SCRA"
   ]
  },
  {
   "cell_type": "code",
   "execution_count": null,
   "metadata": {
    "ExecuteTime": {
     "end_time": "2018-08-13T18:18:33.225895Z",
     "start_time": "2018-08-13T18:18:28.679440Z"
    },
    "hidden": true
   },
   "outputs": [],
   "source": [
    "scra = sistemas.Scra(scra.driver)"
   ]
  },
  {
   "cell_type": "code",
   "execution_count": null,
   "metadata": {
    "ExecuteTime": {
     "end_time": "2018-08-13T18:58:12.423002Z",
     "start_time": "2018-08-13T18:57:57.977557Z"
    },
    "hidden": true
   },
   "outputs": [],
   "source": [
    "scra.consulta(cpf)"
   ]
  },
  {
   "cell_type": "code",
   "execution_count": null,
   "metadata": {
    "ExecuteTime": {
     "end_time": "2018-08-13T19:07:07.424952Z",
     "start_time": "2018-08-13T19:06:39.851710Z"
    },
    "hidden": true
   },
   "outputs": [],
   "source": [
    "scra.imprimir_licenca(cpf)"
   ]
  },
  {
   "cell_type": "code",
   "execution_count": null,
   "metadata": {
    "ExecuteTime": {
     "end_time": "2018-08-13T19:12:32.814228Z",
     "start_time": "2018-08-13T19:12:18.605228Z"
    },
    "hidden": true
   },
   "outputs": [],
   "source": [
    "dados = scra.extrai_cadastro(cpf)"
   ]
  },
  {
   "cell_type": "markdown",
   "metadata": {
    "ExecuteTime": {
     "end_time": "2018-07-20T17:24:00.770532Z",
     "start_time": "2018-07-20T17:24:00.479722Z"
    },
    "heading_collapsed": true
   },
   "source": [
    "# Testes"
   ]
  },
  {
   "cell_type": "code",
   "execution_count": null,
   "metadata": {
    "ExecuteTime": {
     "end_time": "2018-07-20T19:42:48.973003Z",
     "start_time": "2018-07-20T19:42:48.773403Z"
    },
    "hidden": true
   },
   "outputs": [],
   "source": [
    "tipo = \"Outorga: Rádio do Cidadão\"\n",
    "atribuicao = 'rodrigoca'"
   ]
  },
  {
   "cell_type": "code",
   "execution_count": null,
   "metadata": {
    "ExecuteTime": {
     "end_time": "2018-07-20T20:12:00.345003Z",
     "start_time": "2018-07-20T20:12:00.175803Z"
    },
    "hidden": true
   },
   "outputs": [],
   "source": [
    "processos = [p for p in sei_.get_processos().values() if p['atribuicao'] == 'rodrigoca']"
   ]
  },
  {
   "cell_type": "code",
   "execution_count": null,
   "metadata": {
    "ExecuteTime": {
     "end_time": "2018-07-20T19:42:52.514003Z",
     "start_time": "2018-07-20T19:42:52.322603Z"
    },
    "hidden": true
   },
   "outputs": [],
   "source": [
    "mm = [p for p in processos if p['tipo'] == tipo]"
   ]
  },
  {
   "cell_type": "code",
   "execution_count": null,
   "metadata": {
    "ExecuteTime": {
     "end_time": "2018-07-20T19:44:45.188003Z",
     "start_time": "2018-07-20T19:44:45.024403Z"
    },
    "hidden": true
   },
   "outputs": [],
   "source": [
    "for p in mm:\n",
    "    print(p.get('marcador'))"
   ]
  },
  {
   "cell_type": "code",
   "execution_count": null,
   "metadata": {
    "ExecuteTime": {
     "end_time": "2018-07-20T20:12:05.974203Z",
     "start_time": "2018-07-20T20:12:05.797403Z"
    },
    "hidden": true
   },
   "outputs": [],
   "source": [
    "concluir = list()"
   ]
  },
  {
   "cell_type": "code",
   "execution_count": null,
   "metadata": {
    "ExecuteTime": {
     "end_time": "2018-07-20T20:12:43.262603Z",
     "start_time": "2018-07-20T20:12:12.140803Z"
    },
    "hidden": true
   },
   "outputs": [],
   "source": [
    "for processo in processos:\n",
    "    \n",
    "    if 'Licença' in str(processo.get('marcador')):\n",
    "        \n",
    "        p = sei_.go_to_processo(processo['numero'])\n",
    "        \n",
    "        i = input()\n",
    "        \n",
    "        if i == '1': \n",
    "            \n",
    "            concluir.append(processo)\n",
    "            \n",
    "            \n",
    "        gc.collect()"
   ]
  },
  {
   "cell_type": "code",
   "execution_count": null,
   "metadata": {
    "ExecuteTime": {
     "end_time": "2018-07-20T20:19:25.918003Z",
     "start_time": "2018-07-20T20:12:48.496203Z"
    },
    "hidden": true
   },
   "outputs": [],
   "source": [
    "for processo in concluir:\n",
    "    \n",
    "    p = sei_.go_to_processo(processo['numero'])\n",
    "    \n",
    "    \n",
    "    sleep(2)\n",
    "    \n",
    "    try:    \n",
    "        p.edita_marcador()    \n",
    "    \n",
    "        p.edita_postit()\n",
    "    \n",
    "        p.excluir_acomp_especial()\n",
    "        \n",
    "        p.concluir_processo() \n",
    "            \n",
    "    except:\n",
    "            \n",
    "            next"
   ]
  },
  {
   "cell_type": "code",
   "execution_count": null,
   "metadata": {
    "ExecuteTime": {
     "end_time": "2018-07-19T21:19:05.187340Z",
     "start_time": "2018-07-19T20:31:22.660Z"
    },
    "hidden": true
   },
   "outputs": [],
   "source": [
    "#dados = scpx.extrai_cadastro(dado['interessado'], tipo_id='id_nome', timeout=5)\n"
   ]
  },
  {
   "cell_type": "code",
   "execution_count": null,
   "metadata": {
    "ExecuteTime": {
     "end_time": "2018-07-19T20:11:44.192568Z",
     "start_time": "2018-07-19T20:08:48.569682Z"
    },
    "hidden": true
   },
   "outputs": [],
   "source": [
    "for num, dado in tupla[30:]:\n",
    "        \n",
    "    p = sei_.go_to_processo(num)\n",
    "    \n",
    "    i = input()\n",
    "    \n",
    "    if i =='y':\n",
    "        \n",
    "        try:\n",
    "            \n",
    "            dados = scpx.extrai_cadastro(dado['interessado'], tipo_id='id_nome', timeout=5)\n",
    "                               \n",
    "            p.incluir_oficio('RC_OF_Sem_Contexto_Licença', string_endereço(dados))\n",
    "            \n",
    "            p.edita_marcador(tipo='RC - Aguardando AR/Resposta', content='Até 31/07/2018')        \n",
    "\n",
    "            \n",
    "        except:\n",
    "            \n",
    "            next            \n",
    "            \n",
    "    if i == 'c':\n",
    "        \n",
    "        p.edita_marcador()\n",
    "        p.edita_postit()\n",
    "        p.excluir_acomp_especial()\n",
    "        p.concluir_processo() "
   ]
  },
  {
   "cell_type": "markdown",
   "metadata": {
    "hidden": true
   },
   "source": [
    "## Outros"
   ]
  },
  {
   "cell_type": "code",
   "execution_count": null,
   "metadata": {
    "ExecuteTime": {
     "end_time": "2018-08-01T22:14:24.905954Z",
     "start_time": "2018-08-01T22:06:55.521969Z"
    },
    "hidden": true
   },
   "outputs": [],
   "source": [
    "for prova, gabarito in zip(files, scaneados):\n",
    "\n",
    "    nome = prova.split(\".\")[0]\n",
    "    \n",
    "    p.incluir_doc_externo(\"Prova\", os.path.join(SCAN, gabarito), arvore=nome)\n",
    "    \n",
    "    sleep(5)\n",
    "    "
   ]
  },
  {
   "cell_type": "code",
   "execution_count": null,
   "metadata": {
    "hidden": true
   },
   "outputs": [],
   "source": [
    "from bs4 import BeautifulSoup as soup\n",
    "html = soup(scpx.driver.page_source, 'lxml')"
   ]
  },
  {
   "cell_type": "code",
   "execution_count": null,
   "metadata": {
    "hidden": true
   },
   "outputs": [],
   "source": [
    "dict_ = {}\n",
    "for tr in html.find_all('tr'):\n",
    "    for td in tr.find_all('td', string=True):\n",
    "        key = td.text.strip(\" :\")\n",
    "        value = td.find_next_sibling('td')            \n",
    "        if value and key not in dict_ and value.text.strip() != \"\":\n",
    "            dict_[key] = value.text.strip()\n",
    "            print(\"{0} {1}\".format(key, value.text.strip())) \n"
   ]
  },
  {
   "cell_type": "code",
   "execution_count": null,
   "metadata": {
    "hidden": true
   },
   "outputs": [],
   "source": [
    "dict_ = {}\n",
    "for tr in html.find_all('tr'):\n",
    "    for label in tr.find_all('label', string=True):\n",
    "        print(\"{0} {1}\".format(label.attrs.get('id'), label.text.strip()))                           "
   ]
  },
  {
   "cell_type": "code",
   "execution_count": null,
   "metadata": {
    "hidden": true
   },
   "outputs": [],
   "source": [
    "from bs4 import NavigableString\n",
    "def next_is_string(tag):\n",
    "    return isinstance(tag.next_element, NavigableString)             "
   ]
  },
  {
   "cell_type": "markdown",
   "metadata": {
    "ExecuteTime": {
     "end_time": "2018-07-25T19:54:36.509214Z",
     "start_time": "2018-07-25T19:54:36.259198Z"
    }
   },
   "source": [
    "# Boleto"
   ]
  },
  {
   "cell_type": "code",
   "execution_count": null,
   "metadata": {
    "ExecuteTime": {
     "end_time": "2018-08-16T19:31:55.808770Z",
     "start_time": "2018-08-16T19:31:55.281739Z"
    }
   },
   "outputs": [],
   "source": [
    "import xlwings as xw\n",
    "\n",
    "sht = xw.Book(os.path.join(HOME,'files\\pagamentos.xlsm')).sheets(\"Consulta\")"
   ]
  },
  {
   "cell_type": "code",
   "execution_count": null,
   "metadata": {
    "ExecuteTime": {
     "end_time": "2018-08-16T19:45:31.564314Z",
     "start_time": "2018-08-16T19:45:31.032786Z"
    }
   },
   "outputs": [],
   "source": [
    "row = 38\n",
    "cpf = str(sht.cells(row, 6).value)[:11]\n",
    "proc = sht.cells(row, 4).value"
   ]
  },
  {
   "cell_type": "code",
   "execution_count": null,
   "metadata": {
    "ExecuteTime": {
     "end_time": "2018-08-15T20:20:49.987556Z",
     "start_time": "2018-08-15T20:20:49.613023Z"
    }
   },
   "outputs": [],
   "source": [
    "for i in range(3):\n",
    "\n",
    "    sht.cells(last+i, 2).value = dados['Boleto PPDESS'][:11]\n",
    "    sht.cells(last+i, 3).value = i+1\n",
    "    sht.cells(last+i, 4).value = proc    "
   ]
  },
  {
   "cell_type": "code",
   "execution_count": null,
   "metadata": {
    "ExecuteTime": {
     "end_time": "2018-08-17T00:22:46.268599Z",
     "start_time": "2018-08-17T00:22:45.820555Z"
    }
   },
   "outputs": [],
   "source": [
    "sht."
   ]
  }
 ],
 "metadata": {
  "kernelspec": {
   "display_name": "Python 3",
   "language": "python",
   "name": "python3"
  },
  "language_info": {
   "codemirror_mode": {
    "name": "ipython",
    "version": 3
   },
   "file_extension": ".py",
   "mimetype": "text/x-python",
   "name": "python",
   "nbconvert_exporter": "python",
   "pygments_lexer": "ipython3",
   "version": "3.5.4"
  },
  "toc": {
   "base_numbering": 1,
   "nav_menu": {},
   "number_sections": true,
   "sideBar": true,
   "skip_h1_title": false,
   "title_cell": "Table of Contents",
   "title_sidebar": "Contents",
   "toc_cell": false,
   "toc_position": {},
   "toc_section_display": true,
   "toc_window_display": false
  }
 },
 "nbformat": 4,
 "nbformat_minor": 2
}
