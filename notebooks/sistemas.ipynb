{
 "cells": [
  {
   "cell_type": "code",
   "execution_count": 10,
   "metadata": {},
   "outputs": [],
   "source": [
    "import os\n",
    "# Change the directory to reflect the main repository\n",
    "os.chdir(\"C:/Users/rsilva/Google Drive/projects/programming/automation\")\n",
    "\n",
    "from time import sleep\n",
    "\n",
    "import sistemas\n",
    "import sei\n",
    "import functions\n",
    "import page\n",
    "from page import *\n",
    "from selenium.webdriver.common.desired_capabilities import DesiredCapabilities\n",
    "\n",
    "% reload_ext autoreload\n",
    "% autoreload 2"
   ]
  },
  {
   "cell_type": "code",
   "execution_count": 34,
   "metadata": {},
   "outputs": [],
   "source": [
    "usr = \"rsilva\"\n",
    "pwd = \"Savorthemom3nts\"\n",
    "\n",
    "caps = DesiredCapabilities.INTERNETEXPLORER\n",
    "\n",
    "caps['version'] = '11.0'\n",
    "caps['requireWindowsFocus'] = True\n",
    "caps['ignoreProtectedModeSettings'] = True\n",
    "\n",
    "driver = webdriver.Ie(capabilities=caps)"
   ]
  },
  {
   "cell_type": "code",
   "execution_count": 6,
   "metadata": {},
   "outputs": [],
   "source": [
    "CPF = [\"21979841870\", \"20048329835\", \"04396876670\", \"32252462809\", \"32149146851\", \"28482712802\", \n",
    "       \"02900107563\", \"02900107563\", \"17349224869\", \"21688805818\", \"13305102837\", \"8205179840\",\n",
    "       \"95243178187\", \"10209990805\", \"41473019834\", \"03615339851\", \"11439066833\"]"
   ]
  },
  {
   "cell_type": "code",
   "execution_count": 35,
   "metadata": {},
   "outputs": [],
   "source": [
    "scpx = sistemas.Scpx(driver)"
   ]
  },
  {
   "cell_type": "code",
   "execution_count": null,
   "metadata": {},
   "outputs": [],
   "source": [
    "scpx = sistemas.Scpx(scpx.driver)"
   ]
  },
  {
   "cell_type": "code",
   "execution_count": 21,
   "metadata": {},
   "outputs": [],
   "source": [
    "ids = [(\"03185757874\", 'id_cpf'), (\"80108302164\", 'id_fistel'), (\"px2z1000\", 'id_indicativo')]"
   ]
  },
  {
   "cell_type": "code",
   "execution_count": 46,
   "metadata": {},
   "outputs": [
    {
     "name": "stderr",
     "output_type": "stream",
     "text": [
      "[autoreload of sistemas failed: Traceback (most recent call last):\n",
      "  File \"C:\\Users\\rsilva\\miniconda3\\envs\\automation\\lib\\site-packages\\IPython\\extensions\\autoreload.py\", line 246, in check\n",
      "    superreload(m, reload, self.old_objects)\n",
      "  File \"C:\\Users\\rsilva\\miniconda3\\envs\\automation\\lib\\site-packages\\IPython\\extensions\\autoreload.py\", line 369, in superreload\n",
      "    module = reload(module)\n",
      "  File \"C:\\Users\\rsilva\\miniconda3\\envs\\automation\\lib\\imp.py\", line 315, in reload\n",
      "    return importlib.reload(module)\n",
      "  File \"C:\\Users\\rsilva\\miniconda3\\envs\\automation\\lib\\importlib\\__init__.py\", line 166, in reload\n",
      "    _bootstrap._exec(spec, module)\n",
      "  File \"<frozen importlib._bootstrap>\", line 626, in _exec\n",
      "  File \"<frozen importlib._bootstrap_external>\", line 693, in exec_module\n",
      "  File \"<frozen importlib._bootstrap_external>\", line 799, in get_code\n",
      "  File \"<frozen importlib._bootstrap_external>\", line 759, in source_to_code\n",
      "  File \"<frozen importlib._bootstrap>\", line 222, in _call_with_frames_removed\n",
      "  File \"C:\\Users\\rsilva\\Google Drive\\projects\\programming\\automation\\sistemas.py\", line 192\n",
      "    link = self.\n",
      "               ^\n",
      "SyntaxError: invalid syntax\n",
      "]\n",
      "[autoreload of sistemas failed: Traceback (most recent call last):\n",
      "  File \"C:\\Users\\rsilva\\miniconda3\\envs\\automation\\lib\\site-packages\\IPython\\extensions\\autoreload.py\", line 246, in check\n",
      "    superreload(m, reload, self.old_objects)\n",
      "  File \"C:\\Users\\rsilva\\miniconda3\\envs\\automation\\lib\\site-packages\\IPython\\extensions\\autoreload.py\", line 369, in superreload\n",
      "    module = reload(module)\n",
      "  File \"C:\\Users\\rsilva\\miniconda3\\envs\\automation\\lib\\imp.py\", line 315, in reload\n",
      "    return importlib.reload(module)\n",
      "  File \"C:\\Users\\rsilva\\miniconda3\\envs\\automation\\lib\\importlib\\__init__.py\", line 166, in reload\n",
      "    _bootstrap._exec(spec, module)\n",
      "  File \"<frozen importlib._bootstrap>\", line 626, in _exec\n",
      "  File \"<frozen importlib._bootstrap_external>\", line 693, in exec_module\n",
      "  File \"<frozen importlib._bootstrap_external>\", line 799, in get_code\n",
      "  File \"<frozen importlib._bootstrap_external>\", line 759, in source_to_code\n",
      "  File \"<frozen importlib._bootstrap>\", line 222, in _call_with_frames_removed\n",
      "  File \"C:\\Users\\rsilva\\Google Drive\\projects\\programming\\automation\\sistemas.py\", line 192\n",
      "    link = self.\n",
      "               ^\n",
      "SyntaxError: invalid syntax\n",
      "]\n",
      "[autoreload of sistemas failed: Traceback (most recent call last):\n",
      "  File \"C:\\Users\\rsilva\\miniconda3\\envs\\automation\\lib\\site-packages\\IPython\\extensions\\autoreload.py\", line 246, in check\n",
      "    superreload(m, reload, self.old_objects)\n",
      "  File \"C:\\Users\\rsilva\\miniconda3\\envs\\automation\\lib\\site-packages\\IPython\\extensions\\autoreload.py\", line 369, in superreload\n",
      "    module = reload(module)\n",
      "  File \"C:\\Users\\rsilva\\miniconda3\\envs\\automation\\lib\\imp.py\", line 315, in reload\n",
      "    return importlib.reload(module)\n",
      "  File \"C:\\Users\\rsilva\\miniconda3\\envs\\automation\\lib\\importlib\\__init__.py\", line 166, in reload\n",
      "    _bootstrap._exec(spec, module)\n",
      "  File \"<frozen importlib._bootstrap>\", line 626, in _exec\n",
      "  File \"<frozen importlib._bootstrap_external>\", line 693, in exec_module\n",
      "  File \"<frozen importlib._bootstrap_external>\", line 799, in get_code\n",
      "  File \"<frozen importlib._bootstrap_external>\", line 759, in source_to_code\n",
      "  File \"<frozen importlib._bootstrap>\", line 222, in _call_with_frames_removed\n",
      "  File \"C:\\Users\\rsilva\\Google Drive\\projects\\programming\\automation\\sistemas.py\", line 192\n",
      "    link = self.\n",
      "               ^\n",
      "SyntaxError: invalid syntax\n",
      "]\n"
     ]
    },
    {
     "name": "stdout",
     "output_type": "stream",
     "text": [
      "Testando Função por id_cpf\n"
     ]
    }
   ],
   "source": [
    "for i in ids:\n",
    "    \n",
    "    print(\"Testando Função por {}\".format(i[1]))\n",
    "    \n",
    "    scpx.consulta(i[0], i[1])\n",
    "    \n",
    "    break\n",
    "    \n",
    "    "
   ]
  },
  {
   "cell_type": "code",
   "execution_count": null,
   "metadata": {},
   "outputs": [],
   "source": []
  },
  {
   "cell_type": "code",
   "execution_count": 5,
   "metadata": {},
   "outputs": [],
   "source": [
    "scpx.incluir_serviço(CPF)"
   ]
  },
  {
   "cell_type": "code",
   "execution_count": 6,
   "metadata": {},
   "outputs": [],
   "source": [
    "scpx.aprovar_movimento(CPF, \"B\")"
   ]
  },
  {
   "cell_type": "code",
   "execution_count": 8,
   "metadata": {},
   "outputs": [],
   "source": [
    "scpx.licenciar_estacao(CPF)"
   ]
  },
  {
   "cell_type": "code",
   "execution_count": 9,
   "metadata": {},
   "outputs": [],
   "source": [
    "scpx.consulta(CPF)"
   ]
  },
  {
   "cell_type": "code",
   "execution_count": 17,
   "metadata": {},
   "outputs": [],
   "source": [
    "for cpf in CPF[8:]:\n",
    "    try:\n",
    "        \n",
    "        scpx.imprimir_licenca(cpf)\n",
    "    except UnexpectedAlertPresentException as e:\n",
    "        pass\n",
    "    \n",
    "    input()"
   ]
  },
  {
   "cell_type": "code",
   "execution_count": 17,
   "metadata": {},
   "outputs": [
    {
     "name": "stdout",
     "output_type": "stream",
     "text": [
      "[('24052018', '1300'), ('24052018', '1400')]\n"
     ]
    }
   ],
   "source": [
    "datas = [\"23052018\", \"24052018\"]\n",
    "horas = [\"1300\", \"1400\"]\n",
    "\n",
    "horarios = [(dia,hora) for dia in datas for hora in horas][2:]\n",
    "\n",
    "print(horarios)\n",
    "\n",
    "sistemas.abrir_agenda_prova(browser, horarios)"
   ]
  }
 ],
 "metadata": {
  "kernelspec": {
   "display_name": "Python 3",
   "language": "python",
   "name": "python3"
  },
  "language_info": {
   "codemirror_mode": {
    "name": "ipython",
    "version": 3
   },
   "file_extension": ".py",
   "mimetype": "text/x-python",
   "name": "python",
   "nbconvert_exporter": "python",
   "pygments_lexer": "ipython3",
   "version": "3.5.4"
  }
 },
 "nbformat": 4,
 "nbformat_minor": 2
}
