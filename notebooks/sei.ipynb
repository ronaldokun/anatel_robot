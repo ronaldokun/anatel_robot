{
 "cells": [
  {
   "cell_type": "code",
   "execution_count": 2,
   "metadata": {},
   "outputs": [],
   "source": [
    "import os\n",
    "\n",
    "import pandas as pd\n",
    "import gspread_dataframe as gs\n",
    "import pyperclip as clip # copiar o texto clipboard\n",
    "from time import sleep\n",
    "from selenium.webdriver.support.ui import Select\n",
    "from selenium.webdriver.common.by import By\n",
    "from bs4 import BeautifulSoup as soup\n",
    "\n",
    "import random\n",
    "\n",
    "\n",
    "\n",
    "\n",
    "# Change the directory to reflect the main repository\n",
    "os.chdir(\"C:/Users/rsilva/Google Drive/projects/programming/automation\")\n",
    "\n",
    "#import sistemas\n",
    "import sei\n",
    "import functions\n",
    "import page\n",
    "from page import *\n",
    "import helpers\n",
    "\n",
    "% reload_ext autoreload\n",
    "% autoreload 2"
   ]
  },
  {
   "cell_type": "code",
   "execution_count": null,
   "metadata": {},
   "outputs": [],
   "source": [
    "TAGS = [\"@nome_interessado_maiusculas@\", \"@endereco_destinatario@\", \"@bairro_destinatario@\", \"@cep_destinatario@\", \"@cidade_destinatario@\", \"@validade@\"]\n",
    "VALUES = [\"Nome\", \"Logradouro\", [\"Número\", \"Complemento\", \"Bairro\"], \"Cep\", \"Cidade\", \"Validade\"]"
   ]
  },
  {
   "cell_type": "code",
   "execution_count": 3,
   "metadata": {},
   "outputs": [],
   "source": [
    "numero = \"53504.006463/2018-16\""
   ]
  },
  {
   "cell_type": "code",
   "execution_count": 4,
   "metadata": {},
   "outputs": [],
   "source": [
    "gc = functions.authenticate_google(\"files/anatel.json\")\n",
    "wb = gc.open(title=numero)"
   ]
  },
  {
   "cell_type": "code",
   "execution_count": 5,
   "metadata": {},
   "outputs": [],
   "source": [
    "sht = wb.get_worksheet(0)"
   ]
  },
  {
   "cell_type": "code",
   "execution_count": 6,
   "metadata": {},
   "outputs": [],
   "source": [
    "df = gs.get_as_dataframe(sht, dtype=str)[:18]"
   ]
  },
  {
   "cell_type": "code",
   "execution_count": 7,
   "metadata": {},
   "outputs": [
    {
     "data": {
      "text/html": [
       "<div>\n",
       "<style scoped>\n",
       "    .dataframe tbody tr th:only-of-type {\n",
       "        vertical-align: middle;\n",
       "    }\n",
       "\n",
       "    .dataframe tbody tr th {\n",
       "        vertical-align: top;\n",
       "    }\n",
       "\n",
       "    .dataframe thead th {\n",
       "        text-align: right;\n",
       "    }\n",
       "</style>\n",
       "<table border=\"1\" class=\"dataframe\">\n",
       "  <thead>\n",
       "    <tr style=\"text-align: right;\">\n",
       "      <th></th>\n",
       "      <th>Cpf</th>\n",
       "      <th>Nome</th>\n",
       "      <th>Fistel</th>\n",
       "      <th>Validade</th>\n",
       "      <th>Filtro</th>\n",
       "      <th>End_Sede</th>\n",
       "      <th>End_Corresp</th>\n",
       "      <th>Situação</th>\n",
       "      <th>Devedor</th>\n",
       "      <th>Cpf_RF</th>\n",
       "      <th>...</th>\n",
       "      <th>Fone</th>\n",
       "      <th>Logradouro</th>\n",
       "      <th>Num</th>\n",
       "      <th>Complemento</th>\n",
       "      <th>Bairro</th>\n",
       "      <th>Cidade</th>\n",
       "      <th>UF</th>\n",
       "      <th>Cep</th>\n",
       "      <th>Endereco_Completo</th>\n",
       "      <th>Endereço_Completo</th>\n",
       "    </tr>\n",
       "  </thead>\n",
       "  <tbody>\n",
       "    <tr>\n",
       "      <th>0</th>\n",
       "      <td>56380437720</td>\n",
       "      <td>ANTONIO ALVES DA MOTTA FILHO</td>\n",
       "      <td>80106277553</td>\n",
       "      <td>05/09/2017</td>\n",
       "      <td>=B2=K2</td>\n",
       "      <td>Rua João Moreira Borges, 18, casa\\n- Jardim Sa...</td>\n",
       "      <td>PRACA DA MATRIZ 12 CASA CENTRO \\n CEP:  18590-...</td>\n",
       "      <td>Entidade não possui débitos</td>\n",
       "      <td>Não</td>\n",
       "      <td>563.804.377-20</td>\n",
       "      <td>...</td>\n",
       "      <td>39666687</td>\n",
       "      <td>RUA JOAO M BORGES</td>\n",
       "      <td>18</td>\n",
       "      <td></td>\n",
       "      <td>JD STA INES I</td>\n",
       "      <td>SAO JOSE DOS CAMPOS</td>\n",
       "      <td>SP</td>\n",
       "      <td>12248-430</td>\n",
       "      <td>RUA JOAO M BORGES 18  JD STA INES I \\n CEP: 12...</td>\n",
       "      <td>nan</td>\n",
       "    </tr>\n",
       "    <tr>\n",
       "      <th>1</th>\n",
       "      <td>33892850836</td>\n",
       "      <td>BRUNO AUGUSTO MENCK</td>\n",
       "      <td>80106228269</td>\n",
       "      <td>08/09/2017</td>\n",
       "      <td>=B3=K3</td>\n",
       "      <td>RUA JACOB ALVES,, 40\\n- CENTRO\\nCEP: 18195000\\...</td>\n",
       "      <td>OUTROS DO PINHEIRINHO 439  NUCLEO RES SATELITE...</td>\n",
       "      <td>Entidade devedora (Bloqueada)</td>\n",
       "      <td>Sim</td>\n",
       "      <td>338.928.508-36</td>\n",
       "      <td>...</td>\n",
       "      <td>02671243</td>\n",
       "      <td>RUA JACOB ALVES</td>\n",
       "      <td>40</td>\n",
       "      <td>CASA</td>\n",
       "      <td>CENTRO</td>\n",
       "      <td>CAPELA DO ALTO</td>\n",
       "      <td>SP</td>\n",
       "      <td>18195-000</td>\n",
       "      <td>RUA JACOB ALVES 40 CASA CENTRO \\n CEP: 18195-0...</td>\n",
       "      <td>nan</td>\n",
       "    </tr>\n",
       "    <tr>\n",
       "      <th>2</th>\n",
       "      <td>24654189807</td>\n",
       "      <td>CARLOS EDUARDO MOREIRA DE BARROS</td>\n",
       "      <td>80106091379</td>\n",
       "      <td>05/09/2017</td>\n",
       "      <td>=B4=K4</td>\n",
       "      <td>AV RIO GRANDE, 1335\\n- CENTRO\\nCEP: 16370000\\n...</td>\n",
       "      <td>RUA GELSUMINO LIZARDI 418  JD SAN DIEGO \\n CEP...</td>\n",
       "      <td>Entidade devedora (Bloqueada)</td>\n",
       "      <td>Sim</td>\n",
       "      <td>246.541.898-07</td>\n",
       "      <td>...</td>\n",
       "      <td>35410842</td>\n",
       "      <td>AVENIDA RIO GRANDE</td>\n",
       "      <td>1335</td>\n",
       "      <td></td>\n",
       "      <td>CENTRO</td>\n",
       "      <td>PROMISSAO</td>\n",
       "      <td>SP</td>\n",
       "      <td>16370-000</td>\n",
       "      <td>AVENIDA RIO GRANDE 1335  CENTRO \\n CEP: 16370-...</td>\n",
       "      <td>nan</td>\n",
       "    </tr>\n",
       "    <tr>\n",
       "      <th>3</th>\n",
       "      <td>18078911866</td>\n",
       "      <td>CARLOS MISTURINI JUNIOR</td>\n",
       "      <td>80106283103</td>\n",
       "      <td>06/09/2017</td>\n",
       "      <td>=B5=K5</td>\n",
       "      <td>RUA UCHOA, 500, CASA 75\\n- LOTEAMENTO SAO FRAN...</td>\n",
       "      <td>RUA OCTACILIO NOGUEIRA 41  CHAVANTES NOVO \\n C...</td>\n",
       "      <td>Entidade devedora (Bloqueada)</td>\n",
       "      <td>Sim</td>\n",
       "      <td>180.789.118-66</td>\n",
       "      <td>...</td>\n",
       "      <td>30161695</td>\n",
       "      <td>RODOVIA LIX DA CUNHA</td>\n",
       "      <td>7371</td>\n",
       "      <td></td>\n",
       "      <td>JARDIM IMPERIAL</td>\n",
       "      <td>INDAIATUBA</td>\n",
       "      <td>SP</td>\n",
       "      <td>13340-200</td>\n",
       "      <td>RODOVIA LIX DA CUNHA 7371  JARDIM IMPERIAL \\n ...</td>\n",
       "      <td>nan</td>\n",
       "    </tr>\n",
       "    <tr>\n",
       "      <th>4</th>\n",
       "      <td>9362551888</td>\n",
       "      <td>FABIO PIO DOS SANTOS</td>\n",
       "      <td>24000458108</td>\n",
       "      <td>09/09/2017</td>\n",
       "      <td>=B6=K6</td>\n",
       "      <td>RUA WADIA JAFET ASSAD, 555, BLOCO 02 APTO 74\\n...</td>\n",
       "      <td>AVENIDA 27 931  CENTRO \\n CEP:  14780-340 BARR...</td>\n",
       "      <td>Atenção: Entidade devedora (Não bloqueada)</td>\n",
       "      <td>Sim</td>\n",
       "      <td>093.625.518-88</td>\n",
       "      <td>...</td>\n",
       "      <td>43566193</td>\n",
       "      <td>RUA CARLOS GOMES</td>\n",
       "      <td>263</td>\n",
       "      <td>APTO 102</td>\n",
       "      <td>CENTRO</td>\n",
       "      <td>SAO BERNARDO DO CAMPO</td>\n",
       "      <td>SP</td>\n",
       "      <td>09715-130</td>\n",
       "      <td>RUA CARLOS GOMES 263 APTO 102 CENTRO \\n CEP: 0...</td>\n",
       "      <td>nan</td>\n",
       "    </tr>\n",
       "  </tbody>\n",
       "</table>\n",
       "<p>5 rows × 28 columns</p>\n",
       "</div>"
      ],
      "text/plain": [
       "           Cpf                              Nome       Fistel    Validade  \\\n",
       "0  56380437720      ANTONIO ALVES DA MOTTA FILHO  80106277553  05/09/2017   \n",
       "1  33892850836               BRUNO AUGUSTO MENCK  80106228269  08/09/2017   \n",
       "2  24654189807  CARLOS EDUARDO MOREIRA DE BARROS  80106091379  05/09/2017   \n",
       "3  18078911866           CARLOS MISTURINI JUNIOR  80106283103  06/09/2017   \n",
       "4   9362551888              FABIO PIO DOS SANTOS  24000458108  09/09/2017   \n",
       "\n",
       "   Filtro                                           End_Sede  \\\n",
       "0  =B2=K2  Rua João Moreira Borges, 18, casa\\n- Jardim Sa...   \n",
       "1  =B3=K3  RUA JACOB ALVES,, 40\\n- CENTRO\\nCEP: 18195000\\...   \n",
       "2  =B4=K4  AV RIO GRANDE, 1335\\n- CENTRO\\nCEP: 16370000\\n...   \n",
       "3  =B5=K5  RUA UCHOA, 500, CASA 75\\n- LOTEAMENTO SAO FRAN...   \n",
       "4  =B6=K6  RUA WADIA JAFET ASSAD, 555, BLOCO 02 APTO 74\\n...   \n",
       "\n",
       "                                         End_Corresp  \\\n",
       "0  PRACA DA MATRIZ 12 CASA CENTRO \\n CEP:  18590-...   \n",
       "1  OUTROS DO PINHEIRINHO 439  NUCLEO RES SATELITE...   \n",
       "2  RUA GELSUMINO LIZARDI 418  JD SAN DIEGO \\n CEP...   \n",
       "3  RUA OCTACILIO NOGUEIRA 41  CHAVANTES NOVO \\n C...   \n",
       "4  AVENIDA 27 931  CENTRO \\n CEP:  14780-340 BARR...   \n",
       "\n",
       "                                     Situação Devedor          Cpf_RF  \\\n",
       "0                 Entidade não possui débitos     Não  563.804.377-20   \n",
       "1               Entidade devedora (Bloqueada)     Sim  338.928.508-36   \n",
       "2               Entidade devedora (Bloqueada)     Sim  246.541.898-07   \n",
       "3               Entidade devedora (Bloqueada)     Sim  180.789.118-66   \n",
       "4  Atenção: Entidade devedora (Não bloqueada)     Sim  093.625.518-88   \n",
       "\n",
       "         ...             Fone            Logradouro   Num Complemento  \\\n",
       "0        ...         39666687     RUA JOAO M BORGES    18               \n",
       "1        ...         02671243       RUA JACOB ALVES    40        CASA   \n",
       "2        ...         35410842    AVENIDA RIO GRANDE  1335               \n",
       "3        ...         30161695  RODOVIA LIX DA CUNHA  7371               \n",
       "4        ...         43566193      RUA CARLOS GOMES   263    APTO 102   \n",
       "\n",
       "            Bairro                 Cidade  UF        Cep  \\\n",
       "0    JD STA INES I    SAO JOSE DOS CAMPOS  SP  12248-430   \n",
       "1           CENTRO         CAPELA DO ALTO  SP  18195-000   \n",
       "2           CENTRO              PROMISSAO  SP  16370-000   \n",
       "3  JARDIM IMPERIAL             INDAIATUBA  SP  13340-200   \n",
       "4           CENTRO  SAO BERNARDO DO CAMPO  SP  09715-130   \n",
       "\n",
       "                                   Endereco_Completo Endereço_Completo  \n",
       "0  RUA JOAO M BORGES 18  JD STA INES I \\n CEP: 12...               nan  \n",
       "1  RUA JACOB ALVES 40 CASA CENTRO \\n CEP: 18195-0...               nan  \n",
       "2  AVENIDA RIO GRANDE 1335  CENTRO \\n CEP: 16370-...               nan  \n",
       "3  RODOVIA LIX DA CUNHA 7371  JARDIM IMPERIAL \\n ...               nan  \n",
       "4  RUA CARLOS GOMES 263 APTO 102 CENTRO \\n CEP: 0...               nan  \n",
       "\n",
       "[5 rows x 28 columns]"
      ]
     },
     "execution_count": 7,
     "metadata": {},
     "output_type": "execute_result"
    }
   ],
   "source": [
    "df[\"Complemento\"] = df[\"Complemento\"].str.replace(\"nan\", \"\")\n",
    "\n",
    "df.drop_duplicates(inplace=True)\n",
    "\n",
    "df.head()"
   ]
  },
  {
   "cell_type": "code",
   "execution_count": 18,
   "metadata": {},
   "outputs": [],
   "source": [
    "usr = \"rsilva\"\n",
    "pwd = \"Savorthemom3nts\"\n",
    "browser = webdriver.Firefox()"
   ]
  },
  {
   "cell_type": "code",
   "execution_count": 19,
   "metadata": {},
   "outputs": [],
   "source": [
    "browser = sei.login_sei(browser, usr, pwd)"
   ]
  },
  {
   "cell_type": "code",
   "execution_count": 20,
   "metadata": {},
   "outputs": [],
   "source": [
    "sei_ = sei.Sei(browser)\n",
    "\n",
    "sei_.itera_processos()"
   ]
  },
  {
   "cell_type": "code",
   "execution_count": 30,
   "metadata": {},
   "outputs": [],
   "source": [
    "for i in df.iterrows():\n",
    "    \n",
    "    dados = i[1].to_dict()    \n",
    "    \n",
    "    tag = sei_.atualizar_contato(dados['Nome'], dados)"
   ]
  },
  {
   "cell_type": "code",
   "execution_count": 14,
   "metadata": {},
   "outputs": [],
   "source": [
    "tipo = \"RC_Oficio de Cassação\""
   ]
  },
  {
   "cell_type": "code",
   "execution_count": 15,
   "metadata": {},
   "outputs": [],
   "source": [
    "def string_endereço(row):\n",
    "    \n",
    "    s = 'À<br>' + str(row[1][\"Nome\"]) + '<br>' + str(row[1][\"Logradouro\"]) + \", \" + str(row[1][\"Número\"]) \\\n",
    "         + \" \" + str(row[1][\"Complemento\"]) + \" \" + str(row[1][\"Bairro\"]) + \"<br>\" +  \"CEP: \" \\\n",
    "         + str(row[1][\"Cep\"]) +\" - \" + str(row[1][\"Cidade\"]) + \"<br><br>\" + \"<b>FISTEL: \" \\\n",
    "         + str(row[1][\"FISTEL\"]) + \"</b>\"\n",
    "            \n",
    "    return s"
   ]
  },
  {
   "cell_type": "code",
   "execution_count": 28,
   "metadata": {},
   "outputs": [],
   "source": [
    "for row in df.iloc[1:,].iterrows():    \n",
    "    \n",
    "    dados = {'À': string_endereço(row)}    \n",
    "    \n",
    "    clip.copy(dados[\"À\"])\n",
    "    \n",
    "    p.incluir_oficio(tipo, dados)\n",
    "        \n",
    "    sleep(random.randint(60,120))"
   ]
  },
  {
   "cell_type": "code",
   "execution_count": null,
   "metadata": {},
   "outputs": [],
   "source": [
    "for p in sei_.get_processos().values():\n",
    "    \n",
    "    if p[\"aviso\"] and p[\"tipo\"] == \"Outorga: Rádio do Cidadão\":\n",
    "        \n",
    "        p = sei_.go_to_processo(p[\"numero\"])\n",
    "        \n",
    "        teste = input()\n",
    "        \n",
    "        if teste == 'y':\n",
    "            \n",
    "            p.edita_marcador()\n",
    "            p.edita_postit()\n",
    "            \n",
    "            p.get_acoes()['conc']"
   ]
  },
  {
   "cell_type": "code",
   "execution_count": null,
   "metadata": {},
   "outputs": [],
   "source": [
    "p = sei_.go_to_processo(\"53504.005936/2018-50\")"
   ]
  },
  {
   "cell_type": "code",
   "execution_count": null,
   "metadata": {},
   "outputs": [],
   "source": [
    "p.edita_marcador(\"RC\")"
   ]
  },
  {
   "cell_type": "code",
   "execution_count": null,
   "metadata": {},
   "outputs": [],
   "source": [
    "select = Select(p.wait_for_element(helpers.Marcador.LISTA_MARCADORES))"
   ]
  },
  {
   "cell_type": "code",
   "execution_count": 34,
   "metadata": {},
   "outputs": [],
   "source": [
    "windows = sei_.driver.window_handles\n",
    "\n",
    "sei_.driver.switch_to_window(windows[0])\n",
    "\n",
    "sei_.driver.switch_to.default_content()"
   ]
  },
  {
   "cell_type": "code",
   "execution_count": null,
   "metadata": {},
   "outputs": [],
   "source": []
  }
 ],
 "metadata": {
  "kernelspec": {
   "display_name": "Python 3",
   "language": "python",
   "name": "python3"
  },
  "language_info": {
   "codemirror_mode": {
    "name": "ipython",
    "version": 3
   },
   "file_extension": ".py",
   "mimetype": "text/x-python",
   "name": "python",
   "nbconvert_exporter": "python",
   "pygments_lexer": "ipython3",
   "version": "3.5.4"
  }
 },
 "nbformat": 4,
 "nbformat_minor": 2
}
