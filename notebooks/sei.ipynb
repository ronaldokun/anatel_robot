{
 "cells": [
  {
   "cell_type": "code",
   "execution_count": 35,
   "metadata": {
    "ExecuteTime": {
     "end_time": "2019-12-13T18:58:06.181150Z",
     "start_time": "2019-12-13T18:58:01.139904Z"
    }
   },
   "outputs": [
    {
     "name": "stdout",
     "output_type": "stream",
     "text": [
      "Olá rsilva\n",
      "Digite sua Senha: ········\n",
      "The autoreload extension is already loaded. To reload it, use:\n",
      "  %reload_ext autoreload\n"
     ]
    }
   ],
   "source": [
    "#Standard Lib imports\n",
    "import sys, os\n",
    "from pathlib import Path\n",
    "#from functools import partial\n",
    "import getpass\n",
    "\n",
    "# Insert in Path Project Directory\n",
    "sys.path.insert(0, str(Path().cwd().parent))\n",
    "\n",
    "\n",
    "# Third party imports\n",
    "\n",
    "# Local application imports\n",
    "from sei import sei\n",
    "\n",
    "#USR = getpass.getuser()\n",
    "USR = 'rsilva'\n",
    "print(f'Olá {USR}')\n",
    "PWD = getpass.getpass(\"Digite sua Senha: \")\n",
    "\n",
    "%load_ext autoreload\n",
    "%autoreload 2"
   ]
  },
  {
   "cell_type": "code",
   "execution_count": 36,
   "metadata": {
    "ExecuteTime": {
     "end_time": "2019-12-13T18:58:32.679892Z",
     "start_time": "2019-12-13T18:58:14.414598Z"
    }
   },
   "outputs": [],
   "source": [
    "s = sei.login_sei(USR, PWD, browser='Firefox', timeout=5, teste=False)"
   ]
  },
  {
   "cell_type": "code",
   "execution_count": 37,
   "metadata": {
    "ExecuteTime": {
     "end_time": "2019-12-13T18:59:18.596880Z",
     "start_time": "2019-12-13T18:59:10.094657Z"
    }
   },
   "outputs": [],
   "source": [
    "s.mudar_lotação(\"GR01\")"
   ]
  },
  {
   "cell_type": "code",
   "execution_count": 38,
   "metadata": {
    "ExecuteTime": {
     "end_time": "2019-12-13T18:59:29.868604Z",
     "start_time": "2019-12-13T18:59:18.955143Z"
    }
   },
   "outputs": [],
   "source": [
    "s.mudar_lotação(\"GR01FI3\")"
   ]
  },
  {
   "cell_type": "code",
   "execution_count": 39,
   "metadata": {
    "ExecuteTime": {
     "end_time": "2019-12-13T18:59:35.329559Z",
     "start_time": "2019-12-13T18:59:30.222399Z"
    },
    "scrolled": true
   },
   "outputs": [
    {
     "name": "stdout",
     "output_type": "stream",
     "text": [
      "Não existe a opção GR01AF no Menu mencionado\n"
     ]
    }
   ],
   "source": [
    "s.mudar_lotação(\"GR01AF\")"
   ]
  },
  {
   "cell_type": "code",
   "execution_count": null,
   "metadata": {},
   "outputs": [],
   "source": [
    "s.mudar_lotação(\"GR01OR\")"
   ]
  },
  {
   "cell_type": "code",
   "execution_count": 8,
   "metadata": {
    "ExecuteTime": {
     "end_time": "2019-12-13T18:45:09.238651Z",
     "start_time": "2019-12-13T18:45:03.508299Z"
    }
   },
   "outputs": [],
   "source": [
    "s.ver_detalhado()"
   ]
  },
  {
   "cell_type": "code",
   "execution_count": 9,
   "metadata": {
    "ExecuteTime": {
     "end_time": "2019-12-13T18:45:11.326959Z",
     "start_time": "2019-12-13T18:45:11.242434Z"
    }
   },
   "outputs": [
    {
     "data": {
      "text/plain": [
       "True"
      ]
     },
     "execution_count": 9,
     "metadata": {},
     "output_type": "execute_result"
    }
   ],
   "source": [
    "s.is_init_page()"
   ]
  },
  {
   "cell_type": "code",
   "execution_count": 10,
   "metadata": {
    "ExecuteTime": {
     "end_time": "2019-12-13T18:45:15.567295Z",
     "start_time": "2019-12-13T18:45:15.504784Z"
    }
   },
   "outputs": [],
   "source": [
    "s.go_to_init_page()"
   ]
  },
  {
   "cell_type": "code",
   "execution_count": 12,
   "metadata": {
    "ExecuteTime": {
     "end_time": "2019-12-13T18:45:29.003019Z",
     "start_time": "2019-12-13T18:45:28.686918Z"
    }
   },
   "outputs": [],
   "source": [
    "s.show_lat_menu()"
   ]
  },
  {
   "cell_type": "code",
   "execution_count": 13,
   "metadata": {
    "ExecuteTime": {
     "end_time": "2019-12-13T18:45:37.224865Z",
     "start_time": "2019-12-13T18:45:37.162364Z"
    }
   },
   "outputs": [],
   "source": [
    "s.page.timeout = 2"
   ]
  },
  {
   "cell_type": "code",
   "execution_count": 14,
   "metadata": {
    "ExecuteTime": {
     "end_time": "2019-12-13T18:45:37.832426Z",
     "start_time": "2019-12-13T18:45:37.747285Z"
    }
   },
   "outputs": [],
   "source": [
    "s.ver_detalhado()"
   ]
  },
  {
   "cell_type": "code",
   "execution_count": 15,
   "metadata": {
    "ExecuteTime": {
     "end_time": "2019-12-13T18:45:38.363965Z",
     "start_time": "2019-12-13T18:45:38.264161Z"
    }
   },
   "outputs": [],
   "source": [
    "s.ver_todos()"
   ]
  },
  {
   "cell_type": "code",
   "execution_count": 17,
   "metadata": {
    "ExecuteTime": {
     "end_time": "2019-12-13T18:45:56.039741Z",
     "start_time": "2019-12-13T18:45:51.858164Z"
    }
   },
   "outputs": [],
   "source": [
    "s.itera_processos()"
   ]
  },
  {
   "cell_type": "code",
   "execution_count": 18,
   "metadata": {
    "ExecuteTime": {
     "end_time": "2019-12-13T18:45:56.971661Z",
     "start_time": "2019-12-13T18:45:56.909323Z"
    }
   },
   "outputs": [
    {
     "data": {
      "text/plain": [
       "OrderedDict([('53500.201054/2014-20',\n",
       "              {'checkbox': <input class=\"infraCheckbox\" id=\"chkDetalhadoItem0\" name=\"chkDetalhadoItem0\" onclick=\"infraSelecionarItens(this,'Detalhado');\" title=\"53500.201054/2014-20\" type=\"checkbox\" value=\"6830\"/>,\n",
       "               'aviso': '',\n",
       "               'link': 'https://sei.anatel.gov.br/sei/controlador.php?acao=procedimento_trabalhar&acao_origem=procedimento_controlar&acao_retorno=procedimento_controlar&id_procedimento=6830&infra_sistema=100000100&infra_unidade_atual=110001002&infra_hash=c351be0bee702bfc8887fc8fa2143a77c7854e466af760edf1f8c83a30293134',\n",
       "               'numero': '53500.201054/2014-20',\n",
       "               'visualizado': False,\n",
       "               'atribuicao': 'amorim',\n",
       "               'tipo': 'Fiscalização: Certificação de Produtos (desativado)',\n",
       "               'interessado': 'Ministério Público Estadual de Pernambuco'}),\n",
       "             ('53504.000031/2019-74',\n",
       "              {'checkbox': <input class=\"infraCheckbox\" id=\"chkDetalhadoItem1\" name=\"chkDetalhadoItem1\" onclick=\"infraSelecionarItens(this,'Detalhado');\" title=\"53504.000031/2019-74\" type=\"checkbox\" value=\"1131092\"/>,\n",
       "               'aviso': '',\n",
       "               'link': 'https://sei.anatel.gov.br/sei/controlador.php?acao=procedimento_trabalhar&acao_origem=procedimento_controlar&acao_retorno=procedimento_controlar&id_procedimento=1131092&infra_sistema=100000100&infra_unidade_atual=110001002&infra_hash=020dc76af88f4cafde02cd6d0ef9eb6193665b509906d5b6f2c234415c64976f',\n",
       "               'numero': '53504.000031/2019-74',\n",
       "               'visualizado': False,\n",
       "               'atribuicao': 'rsilva',\n",
       "               'tipo': 'Fiscalização: Radiomonitoração de Satélites',\n",
       "               'interessado': ''}),\n",
       "             ('53504.000004/2019-00',\n",
       "              {'checkbox': <input class=\"infraCheckbox\" id=\"chkDetalhadoItem2\" name=\"chkDetalhadoItem2\" onclick=\"infraSelecionarItens(this,'Detalhado');\" title=\"53504.000004/2019-00\" type=\"checkbox\" value=\"1038996\"/>,\n",
       "               'aviso': '',\n",
       "               'link': 'https://sei.anatel.gov.br/sei/controlador.php?acao=procedimento_trabalhar&acao_origem=procedimento_controlar&acao_retorno=procedimento_controlar&id_procedimento=1038996&infra_sistema=100000100&infra_unidade_atual=110001002&infra_hash=dd893e9d552d074cf317b44584b2c656f18b43d93d86e859e151b726fc37fcf5',\n",
       "               'numero': '53504.000004/2019-00',\n",
       "               'visualizado': False,\n",
       "               'atribuicao': 'arthur',\n",
       "               'tipo': 'Fiscalização: Uso do Espectro e Órbita e Recursos de Numeração',\n",
       "               'interessado': ''}),\n",
       "             ('53504.000002/2019-11',\n",
       "              {'checkbox': <input class=\"infraCheckbox\" id=\"chkDetalhadoItem3\" name=\"chkDetalhadoItem3\" onclick=\"infraSelecionarItens(this,'Detalhado');\" title=\"53504.000002/2019-11\" type=\"checkbox\" value=\"1036105\"/>,\n",
       "               'aviso': '',\n",
       "               'link': 'https://sei.anatel.gov.br/sei/controlador.php?acao=procedimento_trabalhar&acao_origem=procedimento_controlar&acao_retorno=procedimento_controlar&id_procedimento=1036105&infra_sistema=100000100&infra_unidade_atual=110001002&infra_hash=531e826907246b7569388dca60dc900b48a6e08b78ba2d82f6357b45b3ce0ad1',\n",
       "               'numero': '53504.000002/2019-11',\n",
       "               'visualizado': False,\n",
       "               'atribuicao': '',\n",
       "               'tipo': 'Gestão de Contrato: Processo de Pagamento',\n",
       "               'interessado': ''}),\n",
       "             ('53504.200145/2014-16',\n",
       "              {'checkbox': <input class=\"infraCheckbox\" id=\"chkDetalhadoItem4\" name=\"chkDetalhadoItem4\" onclick=\"infraSelecionarItens(this,'Detalhado');\" title=\"53504.200145/2014-16\" type=\"checkbox\" value=\"630\"/>,\n",
       "               'aviso': '',\n",
       "               'link': 'https://sei.anatel.gov.br/sei/controlador.php?acao=procedimento_trabalhar&acao_origem=procedimento_controlar&acao_retorno=procedimento_controlar&id_procedimento=630&infra_sistema=100000100&infra_unidade_atual=110001002&infra_hash=cbc03447560662dbbc4591c55257330838d2338da31e273f16db94b9a9f50fef',\n",
       "               'numero': '53504.200145/2014-16',\n",
       "               'visualizado': False,\n",
       "               'atribuicao': '',\n",
       "               'tipo': 'Fiscalização: Compromisso de Abrangência - SMP',\n",
       "               'interessado': ''}),\n",
       "             ('53504.000006/2018-18',\n",
       "              {'checkbox': <input class=\"infraCheckbox\" id=\"chkDetalhadoItem5\" name=\"chkDetalhadoItem5\" onclick=\"infraSelecionarItens(this,'Detalhado');\" title=\"53504.000006/2018-18\" type=\"checkbox\" value=\"938587\"/>,\n",
       "               'aviso': '',\n",
       "               'link': 'https://sei.anatel.gov.br/sei/controlador.php?acao=procedimento_trabalhar&acao_origem=procedimento_controlar&acao_retorno=procedimento_controlar&id_procedimento=938587&infra_sistema=100000100&infra_unidade_atual=110001002&infra_hash=8d354922fbe7fe56a524d5121a4ce8e9838f420f04b7ea355823e46fcdfb391b',\n",
       "               'numero': '53504.000006/2018-18',\n",
       "               'visualizado': False,\n",
       "               'atribuicao': '',\n",
       "               'tipo': 'Institucional: Relatório Anual da Anatel',\n",
       "               'interessado': ''}),\n",
       "             ('53504.000018/2017-53',\n",
       "              {'checkbox': <input class=\"infraCheckbox\" id=\"chkDetalhadoItem6\" name=\"chkDetalhadoItem6\" onclick=\"infraSelecionarItens(this,'Detalhado');\" title=\"53504.000018/2017-53\" type=\"checkbox\" value=\"933640\"/>,\n",
       "               'aviso': '',\n",
       "               'anotacao': 'Modelos Ofícios conforme Portaria 1290/2017 narkevicius',\n",
       "               'anotacao_link': 'https://sei.anatel.gov.br/sei/controlador.php?acao=anotacao_registrar&acao_origem=procedimento_controlar&acao_retorno=procedimento_controlar&id_protocolo=933640&infra_sistema=100000100&infra_unidade_atual=110001002&infra_hash=14a8a08fb874e1c2a271c1024e82658e37821a27629b3ee79e915f37ff60e52f',\n",
       "               'peticionamento': '',\n",
       "               'link': 'https://sei.anatel.gov.br/sei/controlador.php?acao=procedimento_trabalhar&acao_origem=procedimento_controlar&acao_retorno=procedimento_controlar&id_procedimento=933640&infra_sistema=100000100&infra_unidade_atual=110001002&infra_hash=7e0b7f8ed8e14171d5289059cbaf0affed71673e9a6f1546a39acb3d312dbb4a',\n",
       "               'numero': '53504.000018/2017-53',\n",
       "               'visualizado': False,\n",
       "               'atribuicao': 'narkevicius',\n",
       "               'tipo': 'Fiscalização: Clandestinidade',\n",
       "               'interessado': ''}),\n",
       "             ('53504.000070/2016-29',\n",
       "              {'checkbox': <input class=\"infraCheckbox\" id=\"chkDetalhadoItem7\" name=\"chkDetalhadoItem7\" onclick=\"infraSelecionarItens(this,'Detalhado');\" title=\"53504.000070/2016-29\" type=\"checkbox\" value=\"54997\"/>,\n",
       "               'aviso': '',\n",
       "               'link': 'https://sei.anatel.gov.br/sei/controlador.php?acao=procedimento_trabalhar&acao_origem=procedimento_controlar&acao_retorno=procedimento_controlar&id_procedimento=54997&infra_sistema=100000100&infra_unidade_atual=110001002&infra_hash=83fd4cc642f24d204a85d0efb443797ebd858c0cf0511405fb477b3ff4c37908',\n",
       "               'numero': '53504.000070/2016-29',\n",
       "               'visualizado': False,\n",
       "               'atribuicao': '',\n",
       "               'tipo': 'Fiscalização: Conteúdo de Serviços de Radiodifusão',\n",
       "               'interessado': ''}),\n",
       "             ('53504.000009/2016-81',\n",
       "              {'checkbox': <input class=\"infraCheckbox\" id=\"chkDetalhadoItem8\" name=\"chkDetalhadoItem8\" onclick=\"infraSelecionarItens(this,'Detalhado');\" title=\"53504.000009/2016-81\" type=\"checkbox\" value=\"26427\"/>,\n",
       "               'aviso': '',\n",
       "               'link': 'https://sei.anatel.gov.br/sei/controlador.php?acao=procedimento_trabalhar&acao_origem=procedimento_controlar&acao_retorno=procedimento_controlar&id_procedimento=26427&infra_sistema=100000100&infra_unidade_atual=110001002&infra_hash=0f3f4409c97db0540fd3fa339a068c67c306e86744f5ffcc3dd57d81040ae90f',\n",
       "               'numero': '53504.000009/2016-81',\n",
       "               'visualizado': False,\n",
       "               'atribuicao': '',\n",
       "               'tipo': 'Fiscalização: Clandestinidade',\n",
       "               'interessado': 'Processo de Fiscalização 1'}),\n",
       "             ('53504.000002/2016-60',\n",
       "              {'checkbox': <input class=\"infraCheckbox\" id=\"chkDetalhadoItem9\" name=\"chkDetalhadoItem9\" onclick=\"infraSelecionarItens(this,'Detalhado');\" title=\"53504.000002/2016-60\" type=\"checkbox\" value=\"26114\"/>,\n",
       "               'aviso': '',\n",
       "               'link': 'https://sei.anatel.gov.br/sei/controlador.php?acao=procedimento_trabalhar&acao_origem=procedimento_controlar&acao_retorno=procedimento_controlar&id_procedimento=26114&infra_sistema=100000100&infra_unidade_atual=110001002&infra_hash=24fb654cfcf1e27f77193b0560829de4736de8e0123d796cf41c132700bc4f14',\n",
       "               'numero': '53504.000002/2016-60',\n",
       "               'visualizado': False,\n",
       "               'atribuicao': '',\n",
       "               'tipo': 'Fiscalização: Clandestinidade',\n",
       "               'interessado': ''}),\n",
       "             ('53504.200203/2015-84',\n",
       "              {'checkbox': <input class=\"infraCheckbox\" id=\"chkDetalhadoItem10\" name=\"chkDetalhadoItem10\" onclick=\"infraSelecionarItens(this,'Detalhado');\" title=\"53504.200203/2015-84\" type=\"checkbox\" value=\"25400\"/>,\n",
       "               'aviso': '',\n",
       "               'link': 'https://sei.anatel.gov.br/sei/controlador.php?acao=procedimento_trabalhar&acao_origem=procedimento_controlar&acao_retorno=procedimento_controlar&id_procedimento=25400&infra_sistema=100000100&infra_unidade_atual=110001002&infra_hash=f20f0f761590f6015c66ed98d47baf57a83195247387901578a90ee0b8928d07',\n",
       "               'numero': '53504.200203/2015-84',\n",
       "               'visualizado': False,\n",
       "               'atribuicao': '',\n",
       "               'tipo': 'Pessoal: Saúde - Pagamento de Auxílio-Saúde',\n",
       "               'interessado': 'Eduardo Narkevicius'}),\n",
       "             ('53504.200114/2015-38',\n",
       "              {'checkbox': <input class=\"infraCheckbox\" id=\"chkDetalhadoItem11\" name=\"chkDetalhadoItem11\" onclick=\"infraSelecionarItens(this,'Detalhado');\" title=\"53504.200114/2015-38\" type=\"checkbox\" value=\"14187\"/>,\n",
       "               'aviso': '',\n",
       "               'peticionamento': '',\n",
       "               'link': 'https://sei.anatel.gov.br/sei/controlador.php?acao=procedimento_trabalhar&acao_origem=procedimento_controlar&acao_retorno=procedimento_controlar&id_procedimento=14187&infra_sistema=100000100&infra_unidade_atual=110001002&infra_hash=44f8d2a26087ebd4b3151f26158b5d402fad8478dbebd3caa721513a35fdfec8',\n",
       "               'numero': '53504.200114/2015-38',\n",
       "               'visualizado': False,\n",
       "               'atribuicao': '',\n",
       "               'tipo': 'Acesso à Informação: Demanda do e-SIC',\n",
       "               'interessado': ''}),\n",
       "             ('53504.200155/2015-24',\n",
       "              {'checkbox': <input class=\"infraCheckbox\" id=\"chkDetalhadoItem12\" name=\"chkDetalhadoItem12\" onclick=\"infraSelecionarItens(this,'Detalhado');\" title=\"53504.200155/2015-24\" type=\"checkbox\" value=\"21754\"/>,\n",
       "               'aviso': True,\n",
       "               'peticionamento': '',\n",
       "               'link': 'https://sei.anatel.gov.br/sei/controlador.php?acao=procedimento_trabalhar&acao_origem=procedimento_controlar&acao_retorno=procedimento_controlar&id_procedimento=21754&infra_sistema=100000100&infra_unidade_atual=110001002&infra_hash=2070414d1810d702ef2645a6991cb1052853425a3527d907444cf26e557f26f9',\n",
       "               'numero': '53504.200155/2015-24',\n",
       "               'visualizado': False,\n",
       "               'atribuicao': '',\n",
       "               'tipo': 'Pessoal: Auxílio-Transporte',\n",
       "               'interessado': ''}),\n",
       "             ('53504.200194/2015-21',\n",
       "              {'checkbox': <input class=\"infraCheckbox\" id=\"chkDetalhadoItem13\" name=\"chkDetalhadoItem13\" onclick=\"infraSelecionarItens(this,'Detalhado');\" title=\"53504.200194/2015-21\" type=\"checkbox\" value=\"25031\"/>,\n",
       "               'aviso': '',\n",
       "               'link': 'https://sei.anatel.gov.br/sei/controlador.php?acao=procedimento_trabalhar&acao_origem=procedimento_controlar&acao_retorno=procedimento_controlar&id_procedimento=25031&infra_sistema=100000100&infra_unidade_atual=110001002&infra_hash=7d8cebcc3f515760351bcc3a2b95aa46dc4996b078dff0a793bc636c4e50333b',\n",
       "               'numero': '53504.200194/2015-21',\n",
       "               'visualizado': False,\n",
       "               'atribuicao': '',\n",
       "               'tipo': 'Fiscalização: Certificação de Produtos (desativado)',\n",
       "               'interessado': ''}),\n",
       "             ('53504.200163/2015-71',\n",
       "              {'checkbox': <input class=\"infraCheckbox\" id=\"chkDetalhadoItem14\" name=\"chkDetalhadoItem14\" onclick=\"infraSelecionarItens(this,'Detalhado');\" title=\"53504.200163/2015-71\" type=\"checkbox\" value=\"22327\"/>,\n",
       "               'aviso': '',\n",
       "               'anotacao': 'Teste de anotação arthur',\n",
       "               'anotacao_link': 'https://sei.anatel.gov.br/sei/controlador.php?acao=anotacao_registrar&acao_origem=procedimento_controlar&acao_retorno=procedimento_controlar&id_protocolo=22327&infra_sistema=100000100&infra_unidade_atual=110001002&infra_hash=bf6eb1ce95ac7cbb58070dc37d46a0e00cd80b9a6696babd84db106450f4785a',\n",
       "               'peticionamento': '',\n",
       "               'link': 'https://sei.anatel.gov.br/sei/controlador.php?acao=procedimento_trabalhar&acao_origem=procedimento_controlar&acao_retorno=procedimento_controlar&id_procedimento=22327&infra_sistema=100000100&infra_unidade_atual=110001002&infra_hash=fc489b6f1efded2acdafdb38a74f1db4012bc59631231219787b40edb6b7f9e0',\n",
       "               'numero': '53504.200163/2015-71',\n",
       "               'visualizado': False,\n",
       "               'atribuicao': '',\n",
       "               'tipo': 'Fiscalização: Clandestinidade',\n",
       "               'interessado': 'AEROTECH TELECOMUNICACOES LTDA'}),\n",
       "             ('53504.200181/2015-52',\n",
       "              {'checkbox': <input class=\"infraCheckbox\" id=\"chkDetalhadoItem15\" name=\"chkDetalhadoItem15\" onclick=\"infraSelecionarItens(this,'Detalhado');\" title=\"53504.200181/2015-52\" type=\"checkbox\" value=\"24486\"/>,\n",
       "               'aviso': '',\n",
       "               'link': 'https://sei.anatel.gov.br/sei/controlador.php?acao=procedimento_trabalhar&acao_origem=procedimento_controlar&acao_retorno=procedimento_controlar&id_procedimento=24486&infra_sistema=100000100&infra_unidade_atual=110001002&infra_hash=61a873f0aebcf4b5517e5f98a9bcb295e54dacbf08a6be4d88b461811ba57f74',\n",
       "               'numero': '53504.200181/2015-52',\n",
       "               'visualizado': False,\n",
       "               'atribuicao': '',\n",
       "               'tipo': 'Gestão de Contrato: Acompanhamento da Execução',\n",
       "               'interessado': 'Gerência Regional no Estado de São Paulo'}),\n",
       "             ('53504.200078/2014-21',\n",
       "              {'checkbox': <input class=\"infraCheckbox\" id=\"chkDetalhadoItem16\" name=\"chkDetalhadoItem16\" onclick=\"infraSelecionarItens(this,'Detalhado');\" title=\"53504.200078/2014-21\" type=\"checkbox\" value=\"272\"/>,\n",
       "               'aviso': '',\n",
       "               'anotacao': 'Processo urgente anacs',\n",
       "               'anotacao_link': 'https://sei.anatel.gov.br/sei/controlador.php?acao=anotacao_registrar&acao_origem=procedimento_controlar&acao_retorno=procedimento_controlar&id_protocolo=272&infra_sistema=100000100&infra_unidade_atual=110001002&infra_hash=4890e832fe69869c0d636c7012567963e570fa70fe43d356d81083fdc3512ffe',\n",
       "               'peticionamento': '',\n",
       "               'link': 'https://sei.anatel.gov.br/sei/controlador.php?acao=procedimento_trabalhar&acao_origem=procedimento_controlar&acao_retorno=procedimento_controlar&id_procedimento=272&infra_sistema=100000100&infra_unidade_atual=110001002&infra_hash=eff3707a2c09c2a9c54d9a6197eadce9d57bd080772e57398dc532d09c3d16d8',\n",
       "               'numero': '53504.200078/2014-21',\n",
       "               'visualizado': False,\n",
       "               'atribuicao': '',\n",
       "               'tipo': 'Fiscalização: Áreas Locais - STFC',\n",
       "               'interessado': ''}),\n",
       "             ('53504.200189/2014-38',\n",
       "              {'checkbox': <input class=\"infraCheckbox\" id=\"chkDetalhadoItem17\" name=\"chkDetalhadoItem17\" onclick=\"infraSelecionarItens(this,'Detalhado');\" title=\"53504.200189/2014-38\" type=\"checkbox\" value=\"1011\"/>,\n",
       "               'aviso': True,\n",
       "               'peticionamento': '',\n",
       "               'link': 'https://sei.anatel.gov.br/sei/controlador.php?acao=procedimento_trabalhar&acao_origem=procedimento_controlar&acao_retorno=procedimento_controlar&id_procedimento=1011&infra_sistema=100000100&infra_unidade_atual=110001002&infra_hash=fcf9ca5e776edee87756e1adfd83f3c8932180204a601fc1820d1dce45841d57',\n",
       "               'numero': '53504.200189/2014-38',\n",
       "               'visualizado': False,\n",
       "               'atribuicao': '',\n",
       "               'tipo': 'Institucional: Relatório Anual da Anatel',\n",
       "               'interessado': 'Everaldo Gomes Ferreira'}),\n",
       "             ('53504.200134/2014-28',\n",
       "              {'checkbox': <input class=\"infraCheckbox\" id=\"chkDetalhadoItem18\" name=\"chkDetalhadoItem18\" onclick=\"infraSelecionarItens(this,'Detalhado');\" title=\"53504.200134/2014-28\" type=\"checkbox\" value=\"608\"/>,\n",
       "               'aviso': '',\n",
       "               'peticionamento': '',\n",
       "               'link': 'https://sei.anatel.gov.br/sei/controlador.php?acao=procedimento_trabalhar&acao_origem=procedimento_controlar&acao_retorno=procedimento_controlar&id_procedimento=608&infra_sistema=100000100&infra_unidade_atual=110001002&infra_hash=457fadfa7cc001d56a29b6f7e90ead577c928853af728439222cad0d1d486f12',\n",
       "               'numero': '53504.200134/2014-28',\n",
       "               'visualizado': False,\n",
       "               'atribuicao': '',\n",
       "               'tipo': 'Fiscalização: Compromisso de Abrangência - SMP',\n",
       "               'interessado': ''}),\n",
       "             ('53504.200180/2014-27',\n",
       "              {'checkbox': <input class=\"infraCheckbox\" id=\"chkDetalhadoItem19\" name=\"chkDetalhadoItem19\" onclick=\"infraSelecionarItens(this,'Detalhado');\" title=\"53504.200180/2014-27\" type=\"checkbox\" value=\"990\"/>,\n",
       "               'aviso': '',\n",
       "               'link': 'https://sei.anatel.gov.br/sei/controlador.php?acao=procedimento_trabalhar&acao_origem=procedimento_controlar&acao_retorno=procedimento_controlar&id_procedimento=990&infra_sistema=100000100&infra_unidade_atual=110001002&infra_hash=4e8e47fcc7b1f9def7f7969943da21f7da17a305f71800a9f7e23a61d209b957',\n",
       "               'numero': '53504.200180/2014-27',\n",
       "               'visualizado': False,\n",
       "               'atribuicao': '',\n",
       "               'tipo': 'Fiscalização: Compromisso de Abrangência - SMP',\n",
       "               'interessado': ''})])"
      ]
     },
     "execution_count": 18,
     "metadata": {},
     "output_type": "execute_result"
    }
   ],
   "source": [
    "s.get_processos()"
   ]
  },
  {
   "cell_type": "code",
   "execution_count": 19,
   "metadata": {
    "ExecuteTime": {
     "end_time": "2019-12-13T18:46:08.129248Z",
     "start_time": "2019-12-13T18:46:07.481737Z"
    }
   },
   "outputs": [],
   "source": [
    "s.go_to_blocos()"
   ]
  },
  {
   "cell_type": "code",
   "execution_count": 64,
   "metadata": {
    "ExecuteTime": {
     "end_time": "2019-12-13T20:08:04.682722Z",
     "start_time": "2019-12-13T20:08:04.582630Z"
    }
   },
   "outputs": [],
   "source": [
    "num = \"53504.005855/2019-31\"\n",
    "p = s.go_to_processo(num)"
   ]
  },
  {
   "cell_type": "code",
   "execution_count": 61,
   "metadata": {
    "ExecuteTime": {
     "end_time": "2019-12-13T20:02:56.964613Z",
     "start_time": "2019-12-13T20:02:56.856472Z"
    }
   },
   "outputs": [
    {
     "data": {
      "text/plain": [
       "True"
      ]
     },
     "execution_count": 61,
     "metadata": {},
     "output_type": "execute_result"
    }
   ],
   "source": [
    "p.is_open(\"GR01FI3\")"
   ]
  },
  {
   "cell_type": "code",
   "execution_count": 65,
   "metadata": {
    "ExecuteTime": {
     "end_time": "2019-12-13T20:31:33.438957Z",
     "start_time": "2019-12-13T20:31:33.263342Z"
    }
   },
   "outputs": [
    {
     "data": {
      "text/plain": [
       "True"
      ]
     },
     "execution_count": 65,
     "metadata": {},
     "output_type": "execute_result"
    }
   ],
   "source": [
    "p.is_open(\"GR01OR\")"
   ]
  },
  {
   "cell_type": "code",
   "execution_count": 73,
   "metadata": {
    "ExecuteTime": {
     "end_time": "2019-12-13T20:41:39.057056Z",
     "start_time": "2019-12-13T20:41:38.748537Z"
    }
   },
   "outputs": [],
   "source": [
    "p.concluir_processo()"
   ]
  },
  {
   "cell_type": "code",
   "execution_count": 75,
   "metadata": {
    "ExecuteTime": {
     "end_time": "2019-12-13T20:42:03.245774Z",
     "start_time": "2019-12-13T20:41:58.111030Z"
    }
   },
   "outputs": [],
   "source": [
    "p.abrir_processo()"
   ]
  },
  {
   "cell_type": "code",
   "execution_count": 66,
   "metadata": {
    "ExecuteTime": {
     "end_time": "2019-12-13T20:31:54.019109Z",
     "start_time": "2019-12-13T20:31:48.637643Z"
    }
   },
   "outputs": [],
   "source": [
    "p._click_na_arvore('5023038')"
   ]
  },
  {
   "cell_type": "code",
   "execution_count": null,
   "metadata": {},
   "outputs": [],
   "source": [
    "p.incluir_documento('Externo')"
   ]
  },
  {
   "cell_type": "code",
   "execution_count": null,
   "metadata": {},
   "outputs": [],
   "source": [
    "p.page.timeout = 2"
   ]
  },
  {
   "cell_type": "code",
   "execution_count": 70,
   "metadata": {
    "ExecuteTime": {
     "end_time": "2019-12-13T20:36:19.679810Z",
     "start_time": "2019-12-13T20:36:03.849411Z"
    }
   },
   "outputs": [
    {
     "ename": "TimeoutException",
     "evalue": "Message: \n",
     "output_type": "error",
     "traceback": [
      "\u001b[1;31m---------------------------------------------------------------------------\u001b[0m",
      "\u001b[1;31mTimeoutException\u001b[0m                          Traceback (most recent call last)",
      "\u001b[1;32m<ipython-input-70-62aa8d28c4de>\u001b[0m in \u001b[0;36m<module>\u001b[1;34m\u001b[0m\n\u001b[1;32m----> 1\u001b[1;33m \u001b[0mp\u001b[0m\u001b[1;33m.\u001b[0m\u001b[0msend_doc_por_email\u001b[0m\u001b[1;33m(\u001b[0m\u001b[1;34m'5023038'\u001b[0m\u001b[1;33m,\u001b[0m \u001b[1;33m(\u001b[0m\u001b[1;34m''\u001b[0m\u001b[1;33m,\u001b[0m \u001b[1;34m\"Teste\"\u001b[0m\u001b[1;33m,\u001b[0m \u001b[1;34m\"Medição RFeye\"\u001b[0m\u001b[1;33m)\u001b[0m\u001b[1;33m)\u001b[0m\u001b[1;33m\u001b[0m\u001b[1;33m\u001b[0m\u001b[0m\n\u001b[0m",
      "\u001b[1;32m~\\Code\\anatelbot\\sei\\sei.py\u001b[0m in \u001b[0;36msend_doc_por_email\u001b[1;34m(self, label, dados)\u001b[0m\n\u001b[0;32m    645\u001b[0m \u001b[1;33m\u001b[0m\u001b[0m\n\u001b[0;32m    646\u001b[0m                 self.page._atualizar_elemento(\n\u001b[1;32m--> 647\u001b[1;33m                     \u001b[0mhelper\u001b[0m\u001b[1;33m.\u001b[0m\u001b[0mget\u001b[0m\u001b[1;33m(\u001b[0m\u001b[1;34m\"destinatario\"\u001b[0m\u001b[1;33m)\u001b[0m\u001b[1;33m,\u001b[0m \u001b[0mdestinatario\u001b[0m\u001b[1;33m\u001b[0m\u001b[1;33m\u001b[0m\u001b[0m\n\u001b[0m\u001b[0;32m    648\u001b[0m                 )\n\u001b[0;32m    649\u001b[0m \u001b[1;33m\u001b[0m\u001b[0m\n",
      "\u001b[1;32m~\\Code\\anatelbot\\tool\\page.py\u001b[0m in \u001b[0;36m_atualizar_elemento\u001b[1;34m(self, elem_id, dado)\u001b[0m\n\u001b[0;32m    113\u001b[0m         \u001b[1;32mtry\u001b[0m\u001b[1;33m:\u001b[0m\u001b[1;33m\u001b[0m\u001b[1;33m\u001b[0m\u001b[0m\n\u001b[0;32m    114\u001b[0m \u001b[1;33m\u001b[0m\u001b[0m\n\u001b[1;32m--> 115\u001b[1;33m             \u001b[0melem\u001b[0m \u001b[1;33m=\u001b[0m \u001b[0mself\u001b[0m\u001b[1;33m.\u001b[0m\u001b[0mwait_for_element\u001b[0m\u001b[1;33m(\u001b[0m\u001b[0melem_id\u001b[0m\u001b[1;33m)\u001b[0m\u001b[1;33m\u001b[0m\u001b[1;33m\u001b[0m\u001b[0m\n\u001b[0m\u001b[0;32m    116\u001b[0m \u001b[1;33m\u001b[0m\u001b[0m\n\u001b[0;32m    117\u001b[0m             \u001b[0melem\u001b[0m\u001b[1;33m.\u001b[0m\u001b[0mclear\u001b[0m\u001b[1;33m(\u001b[0m\u001b[1;33m)\u001b[0m\u001b[1;33m\u001b[0m\u001b[1;33m\u001b[0m\u001b[0m\n",
      "\u001b[1;32m~\\Code\\anatelbot\\tool\\page.py\u001b[0m in \u001b[0;36mwait_for_element\u001b[1;34m(self, *locator)\u001b[0m\n\u001b[0;32m    239\u001b[0m     \u001b[1;32mdef\u001b[0m \u001b[0mwait_for_element\u001b[0m\u001b[1;33m(\u001b[0m\u001b[0mself\u001b[0m\u001b[1;33m,\u001b[0m \u001b[1;33m*\u001b[0m\u001b[0mlocator\u001b[0m\u001b[1;33m:\u001b[0m \u001b[0mElem\u001b[0m\u001b[1;33m)\u001b[0m\u001b[1;33m:\u001b[0m\u001b[1;33m\u001b[0m\u001b[1;33m\u001b[0m\u001b[0m\n\u001b[0;32m    240\u001b[0m         return WebDriverWait(self.driver, self.timeout).until(\n\u001b[1;32m--> 241\u001b[1;33m             \u001b[0mEC\u001b[0m\u001b[1;33m.\u001b[0m\u001b[0mpresence_of_element_located\u001b[0m\u001b[1;33m(\u001b[0m\u001b[1;33m*\u001b[0m\u001b[0mlocator\u001b[0m\u001b[1;33m)\u001b[0m\u001b[1;33m\u001b[0m\u001b[1;33m\u001b[0m\u001b[0m\n\u001b[0m\u001b[0;32m    242\u001b[0m         )\n\u001b[0;32m    243\u001b[0m \u001b[1;33m\u001b[0m\u001b[0m\n",
      "\u001b[1;32mc:\\users\\rsilva\\code\\anatelbot\\.venv\\lib\\site-packages\\selenium\\webdriver\\support\\wait.py\u001b[0m in \u001b[0;36muntil\u001b[1;34m(self, method, message)\u001b[0m\n\u001b[0;32m     78\u001b[0m             \u001b[1;32mif\u001b[0m \u001b[0mtime\u001b[0m\u001b[1;33m.\u001b[0m\u001b[0mtime\u001b[0m\u001b[1;33m(\u001b[0m\u001b[1;33m)\u001b[0m \u001b[1;33m>\u001b[0m \u001b[0mend_time\u001b[0m\u001b[1;33m:\u001b[0m\u001b[1;33m\u001b[0m\u001b[1;33m\u001b[0m\u001b[0m\n\u001b[0;32m     79\u001b[0m                 \u001b[1;32mbreak\u001b[0m\u001b[1;33m\u001b[0m\u001b[1;33m\u001b[0m\u001b[0m\n\u001b[1;32m---> 80\u001b[1;33m         \u001b[1;32mraise\u001b[0m \u001b[0mTimeoutException\u001b[0m\u001b[1;33m(\u001b[0m\u001b[0mmessage\u001b[0m\u001b[1;33m,\u001b[0m \u001b[0mscreen\u001b[0m\u001b[1;33m,\u001b[0m \u001b[0mstacktrace\u001b[0m\u001b[1;33m)\u001b[0m\u001b[1;33m\u001b[0m\u001b[1;33m\u001b[0m\u001b[0m\n\u001b[0m\u001b[0;32m     81\u001b[0m \u001b[1;33m\u001b[0m\u001b[0m\n\u001b[0;32m     82\u001b[0m     \u001b[1;32mdef\u001b[0m \u001b[0muntil_not\u001b[0m\u001b[1;33m(\u001b[0m\u001b[0mself\u001b[0m\u001b[1;33m,\u001b[0m \u001b[0mmethod\u001b[0m\u001b[1;33m,\u001b[0m \u001b[0mmessage\u001b[0m\u001b[1;33m=\u001b[0m\u001b[1;34m''\u001b[0m\u001b[1;33m)\u001b[0m\u001b[1;33m:\u001b[0m\u001b[1;33m\u001b[0m\u001b[1;33m\u001b[0m\u001b[0m\n",
      "\u001b[1;31mTimeoutException\u001b[0m: Message: \n"
     ]
    }
   ],
   "source": [
    "p.send_doc_por_email('5023038', ('', \"Teste\", \"Medição RFeye\"))"
   ]
  },
  {
   "cell_type": "code",
   "execution_count": null,
   "metadata": {
    "ExecuteTime": {
     "end_time": "2019-09-19T18:15:21.596784Z",
     "start_time": "2019-09-19T18:15:16.171056Z"
    }
   },
   "outputs": [],
   "source": [
    "p.abrir_pastas()"
   ]
  },
  {
   "cell_type": "code",
   "execution_count": null,
   "metadata": {
    "ExecuteTime": {
     "end_time": "2019-09-19T20:53:13.569874Z",
     "start_time": "2019-09-19T20:53:08.130360Z"
    }
   },
   "outputs": [],
   "source": [
    "p._get_acoes('0177509')"
   ]
  },
  {
   "cell_type": "code",
   "execution_count": null,
   "metadata": {
    "ExecuteTime": {
     "end_time": "2019-09-19T18:04:27.715158Z",
     "start_time": "2019-09-19T18:04:07.140573Z"
    },
    "lines_to_next_cell": 2
   },
   "outputs": [],
   "source": [
    "p.is_open()"
   ]
  }
 ],
 "metadata": {
  "jupytext": {
   "encoding": "# -*- coding: utf-8 -*-"
  },
  "kernelspec": {
   "display_name": "anatelbot",
   "language": "python",
   "name": "anatelbot"
  },
  "language_info": {
   "codemirror_mode": {
    "name": "ipython",
    "version": 3
   },
   "file_extension": ".py",
   "mimetype": "text/x-python",
   "name": "python",
   "nbconvert_exporter": "python",
   "pygments_lexer": "ipython3",
   "version": "3.7.1"
  },
  "nbTranslate": {
   "displayLangs": [
    "*"
   ],
   "hotkey": "alt-t",
   "langInMainMenu": true,
   "sourceLang": "en",
   "targetLang": "pt",
   "useGoogleTranslate": true
  },
  "pycharm": {
   "stem_cell": {
    "cell_type": "raw",
    "metadata": {
     "collapsed": false
    },
    "source": []
   }
  },
  "toc": {
   "base_numbering": 1,
   "nav_menu": {},
   "number_sections": true,
   "sideBar": true,
   "skip_h1_title": false,
   "title_cell": "Table of Contents",
   "title_sidebar": "Contents",
   "toc_cell": false,
   "toc_position": {},
   "toc_section_display": true,
   "toc_window_display": false
  },
  "varInspector": {
   "cols": {
    "lenName": 16,
    "lenType": 16,
    "lenVar": 40
   },
   "kernels_config": {
    "python": {
     "delete_cmd_postfix": "",
     "delete_cmd_prefix": "del ",
     "library": "var_list.py",
     "varRefreshCmd": "print(var_dic_list())"
    },
    "r": {
     "delete_cmd_postfix": ") ",
     "delete_cmd_prefix": "rm(",
     "library": "var_list.r",
     "varRefreshCmd": "cat(var_dic_list()) "
    }
   },
   "types_to_exclude": [
    "module",
    "function",
    "builtin_function_or_method",
    "instance",
    "_Feature"
   ],
   "window_display": false
  }
 },
 "nbformat": 4,
 "nbformat_minor": 2
}
