{
 "cells": [
  {
   "cell_type": "code",
   "execution_count": null,
   "metadata": {
    "ExecuteTime": {
     "end_time": "2019-09-19T17:48:52.375560Z",
     "start_time": "2019-09-19T17:48:47.042706Z"
    }
   },
   "outputs": [],
   "source": [
    "#Standard Lib imports\n",
    "import os\n",
    "#from pathlib import Path\n",
    "#from functools import partial\n",
    "import getpass\n",
    "\n",
    "os.chdir(r\"C:\\\\Users\\\\rsilva\\\\automation\")\n",
    "\n",
    "# Third party imports\n",
    "\n",
    "# Local application imports\n",
    "from sei import sei\n",
    "\n",
    "USR = getpass.getuser()\n",
    "PWD = getpass.getpass(\"Digite sua Senha: \")\n",
    "\n",
    "%load_ext autoreload\n",
    "%autoreload 2"
   ]
  },
  {
   "cell_type": "code",
   "execution_count": null,
   "metadata": {
    "ExecuteTime": {
     "end_time": "2019-09-19T20:45:21.336181Z",
     "start_time": "2019-09-19T20:45:08.852801Z"
    }
   },
   "outputs": [],
   "source": [
    "s = sei.login_sei(USR, PWD, browser='Firefox', timeout=5, teste=True)"
   ]
  },
  {
   "cell_type": "code",
   "execution_count": null,
   "metadata": {
    "ExecuteTime": {
     "end_time": "2019-09-19T18:52:48.541562Z",
     "start_time": "2019-09-19T18:52:39.162261Z"
    }
   },
   "outputs": [],
   "source": [
    "s.mudar_lotação(\"GR01\")"
   ]
  },
  {
   "cell_type": "code",
   "execution_count": null,
   "metadata": {
    "ExecuteTime": {
     "end_time": "2019-09-19T18:53:07.791285Z",
     "start_time": "2019-09-19T18:53:01.956880Z"
    }
   },
   "outputs": [],
   "source": [
    "s.mudar_lotação(\"GR01FI3\")"
   ]
  },
  {
   "cell_type": "code",
   "execution_count": null,
   "metadata": {
    "ExecuteTime": {
     "end_time": "2019-09-19T18:53:08.026983Z",
     "start_time": "2019-09-19T18:53:07.890924Z"
    }
   },
   "outputs": [],
   "source": [
    "s.mudar_lotação(\"GR01AF\")"
   ]
  },
  {
   "cell_type": "code",
   "execution_count": 69,
   "metadata": {
    "ExecuteTime": {
     "end_time": "2019-09-19T22:26:22.403940Z",
     "start_time": "2019-09-19T22:26:11.517891Z"
    }
   },
   "outputs": [],
   "source": [
    "s.ver_detalhado()"
   ]
  },
  {
   "cell_type": "code",
   "execution_count": 70,
   "metadata": {
    "ExecuteTime": {
     "end_time": "2019-09-19T22:27:15.406963Z",
     "start_time": "2019-09-19T22:27:15.316179Z"
    }
   },
   "outputs": [
    {
     "data": {
      "text/plain": [
       "True"
      ]
     },
     "execution_count": 70,
     "metadata": {},
     "output_type": "execute_result"
    }
   ],
   "source": [
    "s.is_init_page()"
   ]
  },
  {
   "cell_type": "code",
   "execution_count": 71,
   "metadata": {
    "ExecuteTime": {
     "end_time": "2019-09-19T22:27:31.963711Z",
     "start_time": "2019-09-19T22:27:31.876473Z"
    }
   },
   "outputs": [],
   "source": [
    "s.go_to_init_page()"
   ]
  },
  {
   "cell_type": "code",
   "execution_count": 73,
   "metadata": {
    "ExecuteTime": {
     "end_time": "2019-09-19T22:28:15.399262Z",
     "start_time": "2019-09-19T22:28:15.091668Z"
    }
   },
   "outputs": [],
   "source": [
    "s.show_lat_menu()"
   ]
  },
  {
   "cell_type": "code",
   "execution_count": 108,
   "metadata": {
    "ExecuteTime": {
     "end_time": "2019-09-19T23:59:57.413357Z",
     "start_time": "2019-09-19T23:59:57.329971Z"
    }
   },
   "outputs": [],
   "source": [
    "s.page.timeout = 2"
   ]
  },
  {
   "cell_type": "code",
   "execution_count": 91,
   "metadata": {
    "ExecuteTime": {
     "end_time": "2019-09-19T23:39:01.184703Z",
     "start_time": "2019-09-19T23:38:40.425622Z"
    }
   },
   "outputs": [],
   "source": [
    "s.ver_detalhado()"
   ]
  },
  {
   "cell_type": "code",
   "execution_count": 110,
   "metadata": {
    "ExecuteTime": {
     "end_time": "2019-09-20T00:00:05.019009Z",
     "start_time": "2019-09-20T00:00:02.450241Z"
    }
   },
   "outputs": [],
   "source": [
    "s.ver_todos()"
   ]
  },
  {
   "cell_type": "code",
   "execution_count": 111,
   "metadata": {
    "ExecuteTime": {
     "end_time": "2019-09-20T00:03:42.677943Z",
     "start_time": "2019-09-20T00:03:35.827205Z"
    }
   },
   "outputs": [],
   "source": [
    "s.itera_processos()"
   ]
  },
  {
   "cell_type": "code",
   "execution_count": 112,
   "metadata": {
    "ExecuteTime": {
     "end_time": "2019-09-20T00:03:52.144383Z",
     "start_time": "2019-09-20T00:03:52.048087Z"
    }
   },
   "outputs": [
    {
     "data": {
      "text/plain": [
       "OrderedDict([('53504.000031/2019-74',\n",
       "              {'checkbox': <input class=\"infraCheckbox\" id=\"chkDetalhadoItem0\" name=\"chkDetalhadoItem0\" onclick=\"infraSelecionarItens(this,'Detalhado');\" title=\"53504.000031/2019-74\" type=\"checkbox\" value=\"1131092\"/>,\n",
       "               'aviso': '',\n",
       "               'link': 'https://sei.anatel.gov.br/sei/controlador.php?acao=procedimento_trabalhar&acao_origem=procedimento_controlar&acao_retorno=procedimento_controlar&id_procedimento=1131092&infra_sistema=100000100&infra_unidade_atual=110001002&infra_hash=e3dc0e170774c8c6137634bfc76bdef2c971f59d9b316add7324508d8d9aab31',\n",
       "               'numero': '53504.000031/2019-74',\n",
       "               'visualizado': False,\n",
       "               'atribuicao': 'rsilva',\n",
       "               'tipo': 'Fiscalização: Radiomonitoração de Satélites',\n",
       "               'interessado': ''}),\n",
       "             ('53504.000004/2019-00',\n",
       "              {'checkbox': <input class=\"infraCheckbox\" id=\"chkDetalhadoItem1\" name=\"chkDetalhadoItem1\" onclick=\"infraSelecionarItens(this,'Detalhado');\" title=\"53504.000004/2019-00\" type=\"checkbox\" value=\"1038996\"/>,\n",
       "               'aviso': '',\n",
       "               'link': 'https://sei.anatel.gov.br/sei/controlador.php?acao=procedimento_trabalhar&acao_origem=procedimento_controlar&acao_retorno=procedimento_controlar&id_procedimento=1038996&infra_sistema=100000100&infra_unidade_atual=110001002&infra_hash=c8ad8682984cb1b082210c1f2070df456f1b2b750b1b56a21c3a705447ee5162',\n",
       "               'numero': '53504.000004/2019-00',\n",
       "               'visualizado': False,\n",
       "               'atribuicao': 'arthur',\n",
       "               'tipo': 'Fiscalização: Uso do Espectro e Órbita e Recursos de Numeração',\n",
       "               'interessado': ''}),\n",
       "             ('53504.000002/2019-11',\n",
       "              {'checkbox': <input class=\"infraCheckbox\" id=\"chkDetalhadoItem2\" name=\"chkDetalhadoItem2\" onclick=\"infraSelecionarItens(this,'Detalhado');\" title=\"53504.000002/2019-11\" type=\"checkbox\" value=\"1036105\"/>,\n",
       "               'aviso': '',\n",
       "               'link': 'https://sei.anatel.gov.br/sei/controlador.php?acao=procedimento_trabalhar&acao_origem=procedimento_controlar&acao_retorno=procedimento_controlar&id_procedimento=1036105&infra_sistema=100000100&infra_unidade_atual=110001002&infra_hash=e84fde99378890c3071175021fb1e3532144f8e003630f298d541ef83175f822',\n",
       "               'numero': '53504.000002/2019-11',\n",
       "               'visualizado': False,\n",
       "               'atribuicao': '',\n",
       "               'tipo': 'Gestão de Contrato: Processo de Pagamento',\n",
       "               'interessado': ''}),\n",
       "             ('53500.201054/2014-20',\n",
       "              {'checkbox': <input class=\"infraCheckbox\" id=\"chkDetalhadoItem3\" name=\"chkDetalhadoItem3\" onclick=\"infraSelecionarItens(this,'Detalhado');\" title=\"53500.201054/2014-20\" type=\"checkbox\" value=\"6830\"/>,\n",
       "               'aviso': '',\n",
       "               'link': 'https://sei.anatel.gov.br/sei/controlador.php?acao=procedimento_trabalhar&acao_origem=procedimento_controlar&acao_retorno=procedimento_controlar&id_procedimento=6830&infra_sistema=100000100&infra_unidade_atual=110001002&infra_hash=ded944cba7f42839c3a958312c88bb25a3e947e856fb35c6c60f2b24998f1f45',\n",
       "               'numero': '53500.201054/2014-20',\n",
       "               'visualizado': False,\n",
       "               'atribuicao': 'amorim',\n",
       "               'tipo': 'Fiscalização: Certificação de Produtos (desativado)',\n",
       "               'interessado': 'Ministério Público Estadual de Pernambuco'}),\n",
       "             ('53504.200145/2014-16',\n",
       "              {'checkbox': <input class=\"infraCheckbox\" id=\"chkDetalhadoItem4\" name=\"chkDetalhadoItem4\" onclick=\"infraSelecionarItens(this,'Detalhado');\" title=\"53504.200145/2014-16\" type=\"checkbox\" value=\"630\"/>,\n",
       "               'aviso': '',\n",
       "               'link': 'https://sei.anatel.gov.br/sei/controlador.php?acao=procedimento_trabalhar&acao_origem=procedimento_controlar&acao_retorno=procedimento_controlar&id_procedimento=630&infra_sistema=100000100&infra_unidade_atual=110001002&infra_hash=8bff8c7ba01e786993ea2fe66f56fac07c62331176d49971f238a09a536bab3d',\n",
       "               'numero': '53504.200145/2014-16',\n",
       "               'visualizado': False,\n",
       "               'atribuicao': '',\n",
       "               'tipo': 'Fiscalização: Compromisso de Abrangência - SMP',\n",
       "               'interessado': ''}),\n",
       "             ('53504.000006/2018-18',\n",
       "              {'checkbox': <input class=\"infraCheckbox\" id=\"chkDetalhadoItem5\" name=\"chkDetalhadoItem5\" onclick=\"infraSelecionarItens(this,'Detalhado');\" title=\"53504.000006/2018-18\" type=\"checkbox\" value=\"938587\"/>,\n",
       "               'aviso': '',\n",
       "               'link': 'https://sei.anatel.gov.br/sei/controlador.php?acao=procedimento_trabalhar&acao_origem=procedimento_controlar&acao_retorno=procedimento_controlar&id_procedimento=938587&infra_sistema=100000100&infra_unidade_atual=110001002&infra_hash=297ffa1d4c1072c7270fe9b307354dd466d427a88a54f43f0c8e4ee87085b765',\n",
       "               'numero': '53504.000006/2018-18',\n",
       "               'visualizado': False,\n",
       "               'atribuicao': '',\n",
       "               'tipo': 'Institucional: Relatório Anual da Anatel',\n",
       "               'interessado': ''}),\n",
       "             ('53504.000018/2017-53',\n",
       "              {'checkbox': <input class=\"infraCheckbox\" id=\"chkDetalhadoItem6\" name=\"chkDetalhadoItem6\" onclick=\"infraSelecionarItens(this,'Detalhado');\" title=\"53504.000018/2017-53\" type=\"checkbox\" value=\"933640\"/>,\n",
       "               'aviso': '',\n",
       "               'anotacao': 'Modelos Ofícios conforme Portaria 1290/2017 narkevicius',\n",
       "               'anotacao_link': 'https://sei.anatel.gov.br/sei/controlador.php?acao=anotacao_registrar&acao_origem=procedimento_controlar&acao_retorno=procedimento_controlar&id_protocolo=933640&infra_sistema=100000100&infra_unidade_atual=110001002&infra_hash=0c1429b7bf757a2a3cd1c82ee80d9ddcd37977c746273891f74d4bf69fb9fc25',\n",
       "               'peticionamento': '',\n",
       "               'link': 'https://sei.anatel.gov.br/sei/controlador.php?acao=procedimento_trabalhar&acao_origem=procedimento_controlar&acao_retorno=procedimento_controlar&id_procedimento=933640&infra_sistema=100000100&infra_unidade_atual=110001002&infra_hash=42298937d0d574ec6ba0abff882a783c2fb6d2e0df3f8e8a870b9cbfcb3bca8e',\n",
       "               'numero': '53504.000018/2017-53',\n",
       "               'visualizado': False,\n",
       "               'atribuicao': 'narkevicius',\n",
       "               'tipo': 'Fiscalização: Clandestinidade',\n",
       "               'interessado': ''}),\n",
       "             ('53504.000070/2016-29',\n",
       "              {'checkbox': <input class=\"infraCheckbox\" id=\"chkDetalhadoItem7\" name=\"chkDetalhadoItem7\" onclick=\"infraSelecionarItens(this,'Detalhado');\" title=\"53504.000070/2016-29\" type=\"checkbox\" value=\"54997\"/>,\n",
       "               'aviso': '',\n",
       "               'link': 'https://sei.anatel.gov.br/sei/controlador.php?acao=procedimento_trabalhar&acao_origem=procedimento_controlar&acao_retorno=procedimento_controlar&id_procedimento=54997&infra_sistema=100000100&infra_unidade_atual=110001002&infra_hash=b6b51dc19826c0f7845d6df25fa8bada423049738522e136d75cc806aee62781',\n",
       "               'numero': '53504.000070/2016-29',\n",
       "               'visualizado': False,\n",
       "               'atribuicao': '',\n",
       "               'tipo': 'Fiscalização: Conteúdo de Serviços de Radiodifusão',\n",
       "               'interessado': ''}),\n",
       "             ('53504.000009/2016-81',\n",
       "              {'checkbox': <input class=\"infraCheckbox\" id=\"chkDetalhadoItem8\" name=\"chkDetalhadoItem8\" onclick=\"infraSelecionarItens(this,'Detalhado');\" title=\"53504.000009/2016-81\" type=\"checkbox\" value=\"26427\"/>,\n",
       "               'aviso': '',\n",
       "               'link': 'https://sei.anatel.gov.br/sei/controlador.php?acao=procedimento_trabalhar&acao_origem=procedimento_controlar&acao_retorno=procedimento_controlar&id_procedimento=26427&infra_sistema=100000100&infra_unidade_atual=110001002&infra_hash=a825fd2f5bfd599c08ce575366f1efc101b73d7fcad9171d717f0f7bfb2ecb1c',\n",
       "               'numero': '53504.000009/2016-81',\n",
       "               'visualizado': False,\n",
       "               'atribuicao': '',\n",
       "               'tipo': 'Fiscalização: Clandestinidade',\n",
       "               'interessado': 'Processo de Fiscalização 1'}),\n",
       "             ('53504.000002/2016-60',\n",
       "              {'checkbox': <input class=\"infraCheckbox\" id=\"chkDetalhadoItem9\" name=\"chkDetalhadoItem9\" onclick=\"infraSelecionarItens(this,'Detalhado');\" title=\"53504.000002/2016-60\" type=\"checkbox\" value=\"26114\"/>,\n",
       "               'aviso': '',\n",
       "               'link': 'https://sei.anatel.gov.br/sei/controlador.php?acao=procedimento_trabalhar&acao_origem=procedimento_controlar&acao_retorno=procedimento_controlar&id_procedimento=26114&infra_sistema=100000100&infra_unidade_atual=110001002&infra_hash=b9581677ee778f7e200e598e59324a8aa057a98e729c79edbef540153e51a0ab',\n",
       "               'numero': '53504.000002/2016-60',\n",
       "               'visualizado': False,\n",
       "               'atribuicao': '',\n",
       "               'tipo': 'Fiscalização: Clandestinidade',\n",
       "               'interessado': ''}),\n",
       "             ('53504.200203/2015-84',\n",
       "              {'checkbox': <input class=\"infraCheckbox\" id=\"chkDetalhadoItem10\" name=\"chkDetalhadoItem10\" onclick=\"infraSelecionarItens(this,'Detalhado');\" title=\"53504.200203/2015-84\" type=\"checkbox\" value=\"25400\"/>,\n",
       "               'aviso': '',\n",
       "               'link': 'https://sei.anatel.gov.br/sei/controlador.php?acao=procedimento_trabalhar&acao_origem=procedimento_controlar&acao_retorno=procedimento_controlar&id_procedimento=25400&infra_sistema=100000100&infra_unidade_atual=110001002&infra_hash=f4f12f29705a56de2522abb2ffab19355b1a6776f01c53916f544a6f3b734ab6',\n",
       "               'numero': '53504.200203/2015-84',\n",
       "               'visualizado': False,\n",
       "               'atribuicao': '',\n",
       "               'tipo': 'Pessoal: Saúde - Pagamento de Auxílio-Saúde',\n",
       "               'interessado': 'Eduardo Narkevicius'}),\n",
       "             ('53504.200114/2015-38',\n",
       "              {'checkbox': <input class=\"infraCheckbox\" id=\"chkDetalhadoItem11\" name=\"chkDetalhadoItem11\" onclick=\"infraSelecionarItens(this,'Detalhado');\" title=\"53504.200114/2015-38\" type=\"checkbox\" value=\"14187\"/>,\n",
       "               'aviso': '',\n",
       "               'peticionamento': '',\n",
       "               'link': 'https://sei.anatel.gov.br/sei/controlador.php?acao=procedimento_trabalhar&acao_origem=procedimento_controlar&acao_retorno=procedimento_controlar&id_procedimento=14187&infra_sistema=100000100&infra_unidade_atual=110001002&infra_hash=020c59c227f5e468ce5190f4effc8006a441518a5ce4326f025743de38b2de66',\n",
       "               'numero': '53504.200114/2015-38',\n",
       "               'visualizado': False,\n",
       "               'atribuicao': '',\n",
       "               'tipo': 'Acesso à Informação: Demanda do e-SIC',\n",
       "               'interessado': ''}),\n",
       "             ('53504.200155/2015-24',\n",
       "              {'checkbox': <input class=\"infraCheckbox\" id=\"chkDetalhadoItem12\" name=\"chkDetalhadoItem12\" onclick=\"infraSelecionarItens(this,'Detalhado');\" title=\"53504.200155/2015-24\" type=\"checkbox\" value=\"21754\"/>,\n",
       "               'aviso': True,\n",
       "               'peticionamento': '',\n",
       "               'link': 'https://sei.anatel.gov.br/sei/controlador.php?acao=procedimento_trabalhar&acao_origem=procedimento_controlar&acao_retorno=procedimento_controlar&id_procedimento=21754&infra_sistema=100000100&infra_unidade_atual=110001002&infra_hash=700719cac5fadce787920b4af19e50fb0aee20b776edc284cc4acfcabdf6da04',\n",
       "               'numero': '53504.200155/2015-24',\n",
       "               'visualizado': False,\n",
       "               'atribuicao': '',\n",
       "               'tipo': 'Pessoal: Auxílio-Transporte',\n",
       "               'interessado': ''}),\n",
       "             ('53504.200194/2015-21',\n",
       "              {'checkbox': <input class=\"infraCheckbox\" id=\"chkDetalhadoItem13\" name=\"chkDetalhadoItem13\" onclick=\"infraSelecionarItens(this,'Detalhado');\" title=\"53504.200194/2015-21\" type=\"checkbox\" value=\"25031\"/>,\n",
       "               'aviso': '',\n",
       "               'link': 'https://sei.anatel.gov.br/sei/controlador.php?acao=procedimento_trabalhar&acao_origem=procedimento_controlar&acao_retorno=procedimento_controlar&id_procedimento=25031&infra_sistema=100000100&infra_unidade_atual=110001002&infra_hash=d59d0e2fa90e692bdf2290b8085439320398b79dbab44b248bbb5c6f5af7dff3',\n",
       "               'numero': '53504.200194/2015-21',\n",
       "               'visualizado': False,\n",
       "               'atribuicao': '',\n",
       "               'tipo': 'Fiscalização: Certificação de Produtos (desativado)',\n",
       "               'interessado': ''}),\n",
       "             ('53504.200163/2015-71',\n",
       "              {'checkbox': <input class=\"infraCheckbox\" id=\"chkDetalhadoItem14\" name=\"chkDetalhadoItem14\" onclick=\"infraSelecionarItens(this,'Detalhado');\" title=\"53504.200163/2015-71\" type=\"checkbox\" value=\"22327\"/>,\n",
       "               'aviso': '',\n",
       "               'anotacao': 'Teste de anotação arthur',\n",
       "               'anotacao_link': 'https://sei.anatel.gov.br/sei/controlador.php?acao=anotacao_registrar&acao_origem=procedimento_controlar&acao_retorno=procedimento_controlar&id_protocolo=22327&infra_sistema=100000100&infra_unidade_atual=110001002&infra_hash=a10edf2b1bfbfc2a91dd0d6771f3219117e78cba9443310d25bd7b278165327e',\n",
       "               'peticionamento': '',\n",
       "               'link': 'https://sei.anatel.gov.br/sei/controlador.php?acao=procedimento_trabalhar&acao_origem=procedimento_controlar&acao_retorno=procedimento_controlar&id_procedimento=22327&infra_sistema=100000100&infra_unidade_atual=110001002&infra_hash=71934f62089714e3ab998dee8511d11ef43ae0c2aadbf069dc427490352dd7a4',\n",
       "               'numero': '53504.200163/2015-71',\n",
       "               'visualizado': False,\n",
       "               'atribuicao': '',\n",
       "               'tipo': 'Fiscalização: Clandestinidade',\n",
       "               'interessado': 'AEROTECH TELECOMUNICACOES LTDA'}),\n",
       "             ('53504.200181/2015-52',\n",
       "              {'checkbox': <input class=\"infraCheckbox\" id=\"chkDetalhadoItem15\" name=\"chkDetalhadoItem15\" onclick=\"infraSelecionarItens(this,'Detalhado');\" title=\"53504.200181/2015-52\" type=\"checkbox\" value=\"24486\"/>,\n",
       "               'aviso': '',\n",
       "               'link': 'https://sei.anatel.gov.br/sei/controlador.php?acao=procedimento_trabalhar&acao_origem=procedimento_controlar&acao_retorno=procedimento_controlar&id_procedimento=24486&infra_sistema=100000100&infra_unidade_atual=110001002&infra_hash=afe7af5faede98fc639be891adaa6e98c992a7a0ad843bd063b00344e1efd18f',\n",
       "               'numero': '53504.200181/2015-52',\n",
       "               'visualizado': False,\n",
       "               'atribuicao': '',\n",
       "               'tipo': 'Gestão de Contrato: Acompanhamento da Execução',\n",
       "               'interessado': 'Gerência Regional no Estado de São Paulo'}),\n",
       "             ('53504.200078/2014-21',\n",
       "              {'checkbox': <input class=\"infraCheckbox\" id=\"chkDetalhadoItem16\" name=\"chkDetalhadoItem16\" onclick=\"infraSelecionarItens(this,'Detalhado');\" title=\"53504.200078/2014-21\" type=\"checkbox\" value=\"272\"/>,\n",
       "               'aviso': '',\n",
       "               'anotacao': 'Processo urgente anacs',\n",
       "               'anotacao_link': 'https://sei.anatel.gov.br/sei/controlador.php?acao=anotacao_registrar&acao_origem=procedimento_controlar&acao_retorno=procedimento_controlar&id_protocolo=272&infra_sistema=100000100&infra_unidade_atual=110001002&infra_hash=3350b9403a2edd95d7a6b4982876c67ee5620ba519de68b4afebccdb2cfa2616',\n",
       "               'peticionamento': '',\n",
       "               'link': 'https://sei.anatel.gov.br/sei/controlador.php?acao=procedimento_trabalhar&acao_origem=procedimento_controlar&acao_retorno=procedimento_controlar&id_procedimento=272&infra_sistema=100000100&infra_unidade_atual=110001002&infra_hash=0c5a3580618df17b6dcfaa3066d87c1621fd5d5d12ae5630d52130ade34f7280',\n",
       "               'numero': '53504.200078/2014-21',\n",
       "               'visualizado': False,\n",
       "               'atribuicao': '',\n",
       "               'tipo': 'Fiscalização: Áreas Locais - STFC',\n",
       "               'interessado': ''}),\n",
       "             ('53504.200189/2014-38',\n",
       "              {'checkbox': <input class=\"infraCheckbox\" id=\"chkDetalhadoItem17\" name=\"chkDetalhadoItem17\" onclick=\"infraSelecionarItens(this,'Detalhado');\" title=\"53504.200189/2014-38\" type=\"checkbox\" value=\"1011\"/>,\n",
       "               'aviso': True,\n",
       "               'peticionamento': '',\n",
       "               'link': 'https://sei.anatel.gov.br/sei/controlador.php?acao=procedimento_trabalhar&acao_origem=procedimento_controlar&acao_retorno=procedimento_controlar&id_procedimento=1011&infra_sistema=100000100&infra_unidade_atual=110001002&infra_hash=499b204bb0c6bee725d88b81e3ee8b9c2b9eb1c44f71f6bf6c2fc05659533678',\n",
       "               'numero': '53504.200189/2014-38',\n",
       "               'visualizado': False,\n",
       "               'atribuicao': '',\n",
       "               'tipo': 'Institucional: Relatório Anual da Anatel',\n",
       "               'interessado': 'Everaldo Gomes Ferreira'}),\n",
       "             ('53504.200134/2014-28',\n",
       "              {'checkbox': <input class=\"infraCheckbox\" id=\"chkDetalhadoItem18\" name=\"chkDetalhadoItem18\" onclick=\"infraSelecionarItens(this,'Detalhado');\" title=\"53504.200134/2014-28\" type=\"checkbox\" value=\"608\"/>,\n",
       "               'aviso': '',\n",
       "               'peticionamento': '',\n",
       "               'link': 'https://sei.anatel.gov.br/sei/controlador.php?acao=procedimento_trabalhar&acao_origem=procedimento_controlar&acao_retorno=procedimento_controlar&id_procedimento=608&infra_sistema=100000100&infra_unidade_atual=110001002&infra_hash=df208dd77a44d169a40410adff17b8c6d9f2c3cb36b87b9c5a377e678227419e',\n",
       "               'numero': '53504.200134/2014-28',\n",
       "               'visualizado': False,\n",
       "               'atribuicao': '',\n",
       "               'tipo': 'Fiscalização: Compromisso de Abrangência - SMP',\n",
       "               'interessado': ''}),\n",
       "             ('53504.200180/2014-27',\n",
       "              {'checkbox': <input class=\"infraCheckbox\" id=\"chkDetalhadoItem19\" name=\"chkDetalhadoItem19\" onclick=\"infraSelecionarItens(this,'Detalhado');\" title=\"53504.200180/2014-27\" type=\"checkbox\" value=\"990\"/>,\n",
       "               'aviso': '',\n",
       "               'link': 'https://sei.anatel.gov.br/sei/controlador.php?acao=procedimento_trabalhar&acao_origem=procedimento_controlar&acao_retorno=procedimento_controlar&id_procedimento=990&infra_sistema=100000100&infra_unidade_atual=110001002&infra_hash=97572ec9205291a3458c5e8f360368c6f05b4dc34f2efb9d35c4a5e08344ac86',\n",
       "               'numero': '53504.200180/2014-27',\n",
       "               'visualizado': False,\n",
       "               'atribuicao': '',\n",
       "               'tipo': 'Fiscalização: Compromisso de Abrangência - SMP',\n",
       "               'interessado': ''})])"
      ]
     },
     "execution_count": 112,
     "metadata": {},
     "output_type": "execute_result"
    }
   ],
   "source": [
    "s.get_processos()"
   ]
  },
  {
   "cell_type": "code",
   "execution_count": 113,
   "metadata": {
    "ExecuteTime": {
     "end_time": "2019-09-20T00:04:29.992276Z",
     "start_time": "2019-09-20T00:04:29.472982Z"
    }
   },
   "outputs": [],
   "source": [
    "s.go_to_blocos()"
   ]
  },
  {
   "cell_type": "code",
   "execution_count": 115,
   "metadata": {
    "ExecuteTime": {
     "end_time": "2019-09-20T00:05:28.489396Z",
     "start_time": "2019-09-20T00:05:28.240803Z"
    }
   },
   "outputs": [],
   "source": [
    "num = \"53504.000031/2019-74\"\n",
    "p = s.go_to_processo(num)"
   ]
  },
  {
   "cell_type": "code",
   "execution_count": 67,
   "metadata": {
    "ExecuteTime": {
     "end_time": "2019-09-19T21:14:23.959467Z",
     "start_time": "2019-09-19T21:13:51.515244Z"
    }
   },
   "outputs": [],
   "source": [
    "p.send_doc_por_email('0177520', ('ronaldokun@gmail.com', \"Teste\", \"Medição RFeye\"))"
   ]
  },
  {
   "cell_type": "code",
   "execution_count": null,
   "metadata": {
    "ExecuteTime": {
     "end_time": "2019-09-19T18:15:21.596784Z",
     "start_time": "2019-09-19T18:15:16.171056Z"
    }
   },
   "outputs": [],
   "source": [
    "p.abrir_pastas()"
   ]
  },
  {
   "cell_type": "code",
   "execution_count": 62,
   "metadata": {
    "ExecuteTime": {
     "end_time": "2019-09-19T20:53:13.569874Z",
     "start_time": "2019-09-19T20:53:08.130360Z"
    }
   },
   "outputs": [
    {
     "data": {
      "text/plain": [
       "{'Consultar/Alterar Documento': ('xpath',\n",
       "  '/html/body/div[1]/div/div/div[2]/a[1]'),\n",
       " 'Acompanhamento Especial': ('xpath', '/html/body/div[1]/div/div/div[2]/a[2]'),\n",
       " 'Enviar Processo': ('xpath', '/html/body/div[1]/div/div/div[2]/a[3]'),\n",
       " 'Atualizar Andamento': ('xpath', '/html/body/div[1]/div/div/div[2]/a[4]'),\n",
       " 'Editar Conteúdo': ('xpath', '/html/body/div[1]/div/div/div[2]/a[5]'),\n",
       " 'Assinar Documento': ('xpath', '/html/body/div[1]/div/div/div[2]/a[6]'),\n",
       " 'Gerenciar Liberações para Assinatura Externa': ('xpath',\n",
       "  '/html/body/div[1]/div/div/div[2]/a[7]'),\n",
       " 'Incluir em Bloco de Assinatura': ('xpath',\n",
       "  '/html/body/div[1]/div/div/div[2]/a[8]'),\n",
       " 'Adicionar aos Modelos Favoritos': ('xpath',\n",
       "  '/html/body/div[1]/div/div/div[2]/a[9]'),\n",
       " 'Versões do Documento': ('xpath', '/html/body/div[1]/div/div/div[2]/a[10]'),\n",
       " 'Imprimir Web': ('xpath', '/html/body/div[1]/div/div/div[2]/a[11]'),\n",
       " 'Excluir': ('xpath', '/html/body/div[1]/div/div/div[2]/a[12]'),\n",
       " 'Concluir Processo': ('xpath', '/html/body/div[1]/div/div/div[2]/a[13]')}"
      ]
     },
     "execution_count": 62,
     "metadata": {},
     "output_type": "execute_result"
    }
   ],
   "source": [
    "p._get_acoes('0177509')"
   ]
  },
  {
   "cell_type": "code",
   "execution_count": null,
   "metadata": {
    "ExecuteTime": {
     "end_time": "2019-09-19T18:04:27.715158Z",
     "start_time": "2019-09-19T18:04:07.140573Z"
    }
   },
   "outputs": [],
   "source": [
    "p.is_open()"
   ]
  },
  {
   "cell_type": "code",
   "execution_count": null,
   "metadata": {
    "ExecuteTime": {
     "end_time": "2019-09-18T20:42:01.516241Z",
     "start_time": "2019-09-18T20:41:46.754975Z"
    }
   },
   "outputs": [],
   "source": [
    "/html/body/div[1]/div[3]/div[1]/form/div[4]/table/tbody/tr[3]/td[2]"
   ]
  },
  {
   "cell_type": "code",
   "execution_count": null,
   "metadata": {},
   "outputs": [],
   "source": [
    "/html/body/div[1]/div[3]/div[1]/form/div[4]/table/tbody/tr[2]/td[2]"
   ]
  }
 ],
 "metadata": {
  "kernelspec": {
   "display_name": "Python [conda env:automation]",
   "language": "python",
   "name": "conda-env-automation-py"
  },
  "language_info": {
   "codemirror_mode": {
    "name": "ipython",
    "version": 3
   },
   "file_extension": ".py",
   "mimetype": "text/x-python",
   "name": "python",
   "nbconvert_exporter": "python",
   "pygments_lexer": "ipython3",
   "version": "3.7.3"
  },
  "toc": {
   "base_numbering": 1,
   "nav_menu": {},
   "number_sections": true,
   "sideBar": true,
   "skip_h1_title": false,
   "title_cell": "Table of Contents",
   "title_sidebar": "Contents",
   "toc_cell": false,
   "toc_position": {},
   "toc_section_display": true,
   "toc_window_display": false
  },
  "varInspector": {
   "cols": {
    "lenName": 16,
    "lenType": 16,
    "lenVar": 40
   },
   "kernels_config": {
    "python": {
     "delete_cmd_postfix": "",
     "delete_cmd_prefix": "del ",
     "library": "var_list.py",
     "varRefreshCmd": "print(var_dic_list())"
    },
    "r": {
     "delete_cmd_postfix": ") ",
     "delete_cmd_prefix": "rm(",
     "library": "var_list.r",
     "varRefreshCmd": "cat(var_dic_list()) "
    }
   },
   "types_to_exclude": [
    "module",
    "function",
    "builtin_function_or_method",
    "instance",
    "_Feature"
   ],
   "window_display": false
  }
 },
 "nbformat": 4,
 "nbformat_minor": 4
}
