{
 "cells": [
  {
   "cell_type": "code",
   "execution_count": 8,
   "metadata": {},
   "outputs": [],
   "source": [
    "import os\n",
    "\n",
    "import pandas as pd\n",
    "import gspread_dataframe as gs\n",
    "\n",
    "# Change the directory to reflect the main repository\n",
    "os.chdir(\"C:/Users/rsilva/Google Drive/projects/programming/automation\")\n",
    "\n",
    "import sistemas\n",
    "import sei\n",
    "import functions\n",
    "import page\n",
    "from page import *\n",
    "\n",
    "% reload_ext autoreload\n",
    "% autoreload 2"
   ]
  },
  {
   "cell_type": "code",
   "execution_count": null,
   "metadata": {},
   "outputs": [],
   "source": [
    "gc = functions.authenticate_google(\"files/anatel.json\")\n",
    "wb = gc.open(title='RC')"
   ]
  },
  {
   "cell_type": "code",
   "execution_count": 61,
   "metadata": {},
   "outputs": [],
   "source": [
    "usr = \"rsilva\"\n",
    "pwd = \"Savorthemom3nts\"\n",
    "browser = webdriver.Firefox()"
   ]
  },
  {
   "cell_type": "code",
   "execution_count": 62,
   "metadata": {},
   "outputs": [],
   "source": [
    "browser = sei.login_sei(browser, usr, pwd)"
   ]
  },
  {
   "cell_type": "code",
   "execution_count": 64,
   "metadata": {},
   "outputs": [],
   "source": [
    "sei_ = sei.Sei(browser, sei_.get_processos())\n",
    "\n",
    "sei_.itera_processos()"
   ]
  },
  {
   "cell_type": "code",
   "execution_count": 59,
   "metadata": {},
   "outputs": [],
   "source": [
    "numero = \"53504.005634/2018-81\""
   ]
  },
  {
   "cell_type": "code",
   "execution_count": null,
   "metadata": {},
   "outputs": [],
   "source": [
    "sht = wb.worksheet(numero)"
   ]
  },
  {
   "cell_type": "code",
   "execution_count": null,
   "metadata": {},
   "outputs": [],
   "source": [
    "df = gs.get_as_dataframe(sht, dtype=str)"
   ]
  },
  {
   "cell_type": "code",
   "execution_count": null,
   "metadata": {},
   "outputs": [],
   "source": [
    "p = sei_.go_to_processo(numero)"
   ]
  },
  {
   "cell_type": "code",
   "execution_count": 41,
   "metadata": {},
   "outputs": [],
   "source": [
    "tipo = \"RC_Oficio de Cassação\""
   ]
  },
  {
   "cell_type": "code",
   "execution_count": 42,
   "metadata": {},
   "outputs": [],
   "source": [
    "p.incluir_oficio(tipo)"
   ]
  },
  {
   "cell_type": "code",
   "execution_count": 21,
   "metadata": {},
   "outputs": [],
   "source": [
    "from bs4 import BeautifulSoup as soup\n",
    "\n",
    "html = soup(\"\"\"          \n",
    "<option value=\"null\"> </option><option value=\"40\">Controle Interno (Art. 26, § 3º, da Lei nº 10.180/2001)</option><option value=\"45\">Direito Autoral (Art. 24, III, da Lei nº 9.610/1998)</option><option value=\"33\">Documento Preparatório (Art. 7º, § 3º, da Lei nº 12.527/2011)</option><option value=\"35\">Fiscalização / Investigação da Anatel (Art. 174 da Lei nº 9.472/1997)</option><option value=\"34\">Informação Pessoal (Art. 31 da Lei nº 12.527/2011)</option><option value=\"39\">Informações Contábeis de Empresa (Art. 39, parágrafo único, da Lei nº 9.472/1997)</option><option value=\"38\">Informações Econômico-Financeiras de Empresa (Art. 39, parágrafo único, da Lei nº 9.472/1997)</option><option value=\"37\">Informações Operacionais de Empresa (Art. 39, parágrafo único, da Lei nº 9.472/1997)</option><option value=\"46\">Informações Privilegiadas de Sociedades Anônimas (Art. 155, § 2º, da Lei nº 6.404/1976)</option><option value=\"36\">Informações Técnicas de Empresa (Art. 39, parágrafo único, da Lei nº 9.472/1997)</option><option value=\"41\">Interceptação de Comunicações Telefônicas (Art. 8º, caput, da Lei nº 9.296/1996)</option><option value=\"31\">Investigação de Responsabilidade de Servidor (Art. 150 da Lei nº 8.112/1990)</option><option value=\"47\">Livros e Registros Contábeis Empresariais (Art. 1.190 do Código Civil)</option><option value=\"48\">Operações Bancárias (Art. 1º da Lei Complementar nº 105/2001)</option><option value=\"49\">Proteção da Propriedade Intelectual de Software (Art. 2º da Lei nº 9.609/1998)</option><option value=\"43\">Protocolo -Pendente Análise de Restrição de Acesso (Art. 6º, III, da Lei nº 12.527/2011)</option><option value=\"50\">Segredo de Justiça no Processo Civil (Art. 189 do Código de Processo Civil)</option><option value=\"51\">Segredo de Justiça no Processo Penal (Art. 201, § 6º, do Código de Processo Penal)</option><option value=\"52\">Segredo Industrial (Art. 195, XIV, Lei nº 9.279/1996)</option><option value=\"53\">Sigilo das Comunicações (Art. 3º, V, da Lei nº 9.472/1997)</option><option value=\"54\">Sigilo de Empresa em Situação Falimentar (Art. 169 da Lei nº 11.101/2005)</option><option value=\"55\">Sigilo do Inquérito Policial (Art. 20 do Código de Processo Penal)</option><option value=\"42\">Situação Econômico-Financeira de Sujeito Passivo (Art. 198, caput, da Lei nº 5.172/1966 - CTN)</option>\n",
    "        \"\"\", \"lxml\")"
   ]
  },
  {
   "cell_type": "code",
   "execution_count": 22,
   "metadata": {},
   "outputs": [
    {
     "data": {
      "text/plain": [
       "[' ',\n",
       " ' ',\n",
       " 'Controle Interno (Art. 26, § 3º, da Lei nº 10.180/2001)',\n",
       " 'Controle Interno (Art. 26, § 3º, da Lei nº 10.180/2001)',\n",
       " 'Direito Autoral (Art. 24, III, da Lei nº 9.610/1998)',\n",
       " 'Direito Autoral (Art. 24, III, da Lei nº 9.610/1998)',\n",
       " 'Documento Preparatório (Art. 7º, § 3º, da Lei nº 12.527/2011)',\n",
       " 'Documento Preparatório (Art. 7º, § 3º, da Lei nº 12.527/2011)',\n",
       " 'Fiscalização / Investigação da Anatel (Art. 174 da Lei nº 9.472/1997)',\n",
       " 'Fiscalização / Investigação da Anatel (Art. 174 da Lei nº 9.472/1997)',\n",
       " 'Informação Pessoal (Art. 31 da Lei nº 12.527/2011)',\n",
       " 'Informação Pessoal (Art. 31 da Lei nº 12.527/2011)',\n",
       " 'Informações Contábeis de Empresa (Art. 39, parágrafo único, da Lei nº 9.472/1997)',\n",
       " 'Informações Contábeis de Empresa (Art. 39, parágrafo único, da Lei nº 9.472/1997)',\n",
       " 'Informações Econômico-Financeiras de Empresa (Art. 39, parágrafo único, da Lei nº 9.472/1997)',\n",
       " 'Informações Econômico-Financeiras de Empresa (Art. 39, parágrafo único, da Lei nº 9.472/1997)',\n",
       " 'Informações Operacionais de Empresa (Art. 39, parágrafo único, da Lei nº 9.472/1997)',\n",
       " 'Informações Operacionais de Empresa (Art. 39, parágrafo único, da Lei nº 9.472/1997)',\n",
       " 'Informações Privilegiadas de Sociedades Anônimas (Art. 155, § 2º, da Lei nº 6.404/1976)',\n",
       " 'Informações Privilegiadas de Sociedades Anônimas (Art. 155, § 2º, da Lei nº 6.404/1976)',\n",
       " 'Informações Técnicas de Empresa (Art. 39, parágrafo único, da Lei nº 9.472/1997)',\n",
       " 'Informações Técnicas de Empresa (Art. 39, parágrafo único, da Lei nº 9.472/1997)',\n",
       " 'Interceptação de Comunicações Telefônicas (Art. 8º, caput, da Lei nº 9.296/1996)',\n",
       " 'Interceptação de Comunicações Telefônicas (Art. 8º, caput, da Lei nº 9.296/1996)',\n",
       " 'Investigação de Responsabilidade de Servidor (Art. 150 da Lei nº 8.112/1990)',\n",
       " 'Investigação de Responsabilidade de Servidor (Art. 150 da Lei nº 8.112/1990)',\n",
       " 'Livros e Registros Contábeis Empresariais (Art. 1.190 do Código Civil)',\n",
       " 'Livros e Registros Contábeis Empresariais (Art. 1.190 do Código Civil)',\n",
       " 'Operações Bancárias (Art. 1º da Lei Complementar nº 105/2001)',\n",
       " 'Operações Bancárias (Art. 1º da Lei Complementar nº 105/2001)',\n",
       " 'Proteção da Propriedade Intelectual de Software (Art. 2º da Lei nº 9.609/1998)',\n",
       " 'Proteção da Propriedade Intelectual de Software (Art. 2º da Lei nº 9.609/1998)',\n",
       " 'Protocolo -Pendente Análise de Restrição de Acesso (Art. 6º, III, da Lei nº 12.527/2011)',\n",
       " 'Protocolo -Pendente Análise de Restrição de Acesso (Art. 6º, III, da Lei nº 12.527/2011)',\n",
       " 'Segredo de Justiça no Processo Civil (Art. 189 do Código de Processo Civil)',\n",
       " 'Segredo de Justiça no Processo Civil (Art. 189 do Código de Processo Civil)',\n",
       " 'Segredo de Justiça no Processo Penal (Art. 201, § 6º, do Código de Processo Penal)',\n",
       " 'Segredo de Justiça no Processo Penal (Art. 201, § 6º, do Código de Processo Penal)',\n",
       " 'Segredo Industrial (Art. 195, XIV, Lei nº 9.279/1996)',\n",
       " 'Segredo Industrial (Art. 195, XIV, Lei nº 9.279/1996)',\n",
       " 'Sigilo das Comunicações (Art. 3º, V, da Lei nº 9.472/1997)',\n",
       " 'Sigilo das Comunicações (Art. 3º, V, da Lei nº 9.472/1997)',\n",
       " 'Sigilo de Empresa em Situação Falimentar (Art. 169 da Lei nº 11.101/2005)',\n",
       " 'Sigilo de Empresa em Situação Falimentar (Art. 169 da Lei nº 11.101/2005)',\n",
       " 'Sigilo do Inquérito Policial (Art. 20 do Código de Processo Penal)',\n",
       " 'Sigilo do Inquérito Policial (Art. 20 do Código de Processo Penal)',\n",
       " 'Situação Econômico-Financeira de Sujeito Passivo (Art. 198, caput, da Lei nº 5.172/1966 - CTN)',\n",
       " 'Situação Econômico-Financeira de Sujeito Passivo (Art. 198, caput, da Lei nº 5.172/1966 - CTN)']"
      ]
     },
     "execution_count": 22,
     "metadata": {},
     "output_type": "execute_result"
    }
   ],
   "source": [
    "tipos = [t.string for t in html.descendants if t.string not in (None, '\\xa0', '\\n')]\n",
    "tipos"
   ]
  },
  {
   "cell_type": "code",
   "execution_count": 45,
   "metadata": {},
   "outputs": [
    {
     "ename": "SyntaxError",
     "evalue": "can't use starred expression here (<ipython-input-45-a16d64335f12>, line 1)",
     "output_type": "error",
     "traceback": [
      "\u001b[1;36m  File \u001b[1;32m\"<ipython-input-45-a16d64335f12>\"\u001b[1;36m, line \u001b[1;32m1\u001b[0m\n\u001b[1;33m    x, y = *[\"1\", \"2\"]\u001b[0m\n\u001b[1;37m          ^\u001b[0m\n\u001b[1;31mSyntaxError\u001b[0m\u001b[1;31m:\u001b[0m can't use starred expression here\n"
     ]
    }
   ],
   "source": []
  },
  {
   "cell_type": "code",
   "execution_count": null,
   "metadata": {},
   "outputs": [],
   "source": []
  }
 ],
 "metadata": {
  "kernelspec": {
   "display_name": "Python 3",
   "language": "python",
   "name": "python3"
  },
  "language_info": {
   "codemirror_mode": {
    "name": "ipython",
    "version": 3
   },
   "file_extension": ".py",
   "mimetype": "text/x-python",
   "name": "python",
   "nbconvert_exporter": "python",
   "pygments_lexer": "ipython3",
   "version": "3.5.4"
  }
 },
 "nbformat": 4,
 "nbformat_minor": 2
}
