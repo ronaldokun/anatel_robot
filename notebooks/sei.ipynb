{
 "cells": [
  {
   "cell_type": "code",
   "execution_count": null,
   "metadata": {
    "ExecuteTime": {
     "end_time": "2019-09-19T17:48:52.375560Z",
     "start_time": "2019-09-19T17:48:47.042706Z"
    }
   },
   "outputs": [],
   "source": [
    "#Standard Lib imports\n",
    "import sys, os\n",
    "from pathlib import Path\n",
    "#from functools import partial\n",
    "import getpass\n",
    "\n",
    "# Insert in Path Project Directory\n",
    "sys.path.insert(0, str(Path().cwd().parent))\n",
    "\n",
    "\n",
    "# Third party imports\n",
    "\n",
    "# Local application imports\n",
    "from sei import sei\n",
    "\n",
    "#USR = getpass.getuser()\n",
    "USR = 'rsilva'\n",
    "print(f'Olá {USR}')\n",
    "PWD = getpass.getpass(\"Digite sua Senha: \")\n",
    "\n",
    "%load_ext autoreload\n",
    "%autoreload 2"
   ]
  },
  {
   "cell_type": "code",
   "execution_count": null,
   "metadata": {
    "ExecuteTime": {
     "end_time": "2019-09-19T20:45:21.336181Z",
     "start_time": "2019-09-19T20:45:08.852801Z"
    }
   },
   "outputs": [],
   "source": [
    "s = sei.login_sei(USR, PWD, browser='Firefox', timeout=5, teste=False)"
   ]
  },
  {
   "cell_type": "code",
   "execution_count": null,
   "metadata": {
    "ExecuteTime": {
     "end_time": "2019-09-19T18:52:48.541562Z",
     "start_time": "2019-09-19T18:52:39.162261Z"
    }
   },
   "outputs": [],
   "source": [
    "s.mudar_lotação(\"GR01\")"
   ]
  },
  {
   "cell_type": "code",
   "execution_count": null,
   "metadata": {
    "ExecuteTime": {
     "end_time": "2019-09-19T18:53:07.791285Z",
     "start_time": "2019-09-19T18:53:01.956880Z"
    }
   },
   "outputs": [],
   "source": [
    "s.mudar_lotação(\"GR01FI3\")"
   ]
  },
  {
   "cell_type": "code",
   "execution_count": null,
   "metadata": {
    "ExecuteTime": {
     "end_time": "2019-09-19T18:53:08.026983Z",
     "start_time": "2019-09-19T18:53:07.890924Z"
    },
    "scrolled": true
   },
   "outputs": [],
   "source": [
    "s.mudar_lotação(\"GR01AF\")"
   ]
  },
  {
   "cell_type": "code",
   "execution_count": null,
   "metadata": {
    "ExecuteTime": {
     "end_time": "2019-09-19T22:26:22.403940Z",
     "start_time": "2019-09-19T22:26:11.517891Z"
    }
   },
   "outputs": [],
   "source": [
    "s.ver_detalhado()"
   ]
  },
  {
   "cell_type": "code",
   "execution_count": null,
   "metadata": {
    "ExecuteTime": {
     "end_time": "2019-09-19T22:27:15.406963Z",
     "start_time": "2019-09-19T22:27:15.316179Z"
    }
   },
   "outputs": [],
   "source": [
    "s.is_init_page()"
   ]
  },
  {
   "cell_type": "code",
   "execution_count": null,
   "metadata": {
    "ExecuteTime": {
     "end_time": "2019-09-19T22:27:31.963711Z",
     "start_time": "2019-09-19T22:27:31.876473Z"
    }
   },
   "outputs": [],
   "source": [
    "s.go_to_init_page()"
   ]
  },
  {
   "cell_type": "code",
   "execution_count": null,
   "metadata": {
    "ExecuteTime": {
     "end_time": "2019-09-19T22:28:15.399262Z",
     "start_time": "2019-09-19T22:28:15.091668Z"
    }
   },
   "outputs": [],
   "source": [
    "s.show_lat_menu()"
   ]
  },
  {
   "cell_type": "code",
   "execution_count": null,
   "metadata": {
    "ExecuteTime": {
     "end_time": "2019-09-19T23:59:57.413357Z",
     "start_time": "2019-09-19T23:59:57.329971Z"
    }
   },
   "outputs": [],
   "source": [
    "s.page.timeout = 2"
   ]
  },
  {
   "cell_type": "code",
   "execution_count": null,
   "metadata": {
    "ExecuteTime": {
     "end_time": "2019-09-19T23:39:01.184703Z",
     "start_time": "2019-09-19T23:38:40.425622Z"
    }
   },
   "outputs": [],
   "source": [
    "s.ver_detalhado()"
   ]
  },
  {
   "cell_type": "code",
   "execution_count": null,
   "metadata": {
    "ExecuteTime": {
     "end_time": "2019-09-20T00:00:05.019009Z",
     "start_time": "2019-09-20T00:00:02.450241Z"
    }
   },
   "outputs": [],
   "source": [
    "s.ver_todos()"
   ]
  },
  {
   "cell_type": "code",
   "execution_count": null,
   "metadata": {
    "ExecuteTime": {
     "end_time": "2019-09-20T00:03:42.677943Z",
     "start_time": "2019-09-20T00:03:35.827205Z"
    }
   },
   "outputs": [],
   "source": [
    "s.itera_processos()"
   ]
  },
  {
   "cell_type": "code",
   "execution_count": null,
   "metadata": {
    "ExecuteTime": {
     "end_time": "2019-09-20T00:03:52.144383Z",
     "start_time": "2019-09-20T00:03:52.048087Z"
    }
   },
   "outputs": [],
   "source": [
    "s.get_processos()"
   ]
  },
  {
   "cell_type": "code",
   "execution_count": null,
   "metadata": {
    "ExecuteTime": {
     "end_time": "2019-09-20T00:04:29.992276Z",
     "start_time": "2019-09-20T00:04:29.472982Z"
    }
   },
   "outputs": [],
   "source": [
    "s.go_to_blocos()"
   ]
  },
  {
   "cell_type": "code",
   "execution_count": null,
   "metadata": {
    "ExecuteTime": {
     "end_time": "2019-09-20T00:05:28.489396Z",
     "start_time": "2019-09-20T00:05:28.240803Z"
    }
   },
   "outputs": [],
   "source": [
    "num = \"53504.009880/2019-93\"\n",
    "p = s.go_to_processo(num)"
   ]
  },
  {
   "cell_type": "code",
   "execution_count": null,
   "metadata": {},
   "outputs": [],
   "source": [
    "p.is_open()"
   ]
  },
  {
   "cell_type": "code",
   "execution_count": null,
   "metadata": {},
   "outputs": [],
   "source": [
    "p.incluir_documento('Externo')"
   ]
  },
  {
   "cell_type": "code",
   "execution_count": null,
   "metadata": {},
   "outputs": [],
   "source": [
    "p.page.timeout = 2"
   ]
  },
  {
   "cell_type": "code",
   "execution_count": null,
   "metadata": {
    "ExecuteTime": {
     "end_time": "2019-09-19T21:14:23.959467Z",
     "start_time": "2019-09-19T21:13:51.515244Z"
    }
   },
   "outputs": [],
   "source": [
    "p.send_doc_por_email('0177520', ('ronaldokun@gmail.com', \"Teste\", \"Medição RFeye\"))"
   ]
  },
  {
   "cell_type": "code",
   "execution_count": null,
   "metadata": {
    "ExecuteTime": {
     "end_time": "2019-09-19T18:15:21.596784Z",
     "start_time": "2019-09-19T18:15:16.171056Z"
    }
   },
   "outputs": [],
   "source": [
    "p.abrir_pastas()"
   ]
  },
  {
   "cell_type": "code",
   "execution_count": null,
   "metadata": {
    "ExecuteTime": {
     "end_time": "2019-09-19T20:53:13.569874Z",
     "start_time": "2019-09-19T20:53:08.130360Z"
    }
   },
   "outputs": [],
   "source": [
    "p._get_acoes('0177509')"
   ]
  },
  {
   "cell_type": "code",
   "execution_count": null,
   "metadata": {
    "ExecuteTime": {
     "end_time": "2019-09-19T18:04:27.715158Z",
     "start_time": "2019-09-19T18:04:07.140573Z"
    },
    "lines_to_next_cell": 2
   },
   "outputs": [],
   "source": [
    "p.is_open()"
   ]
  }
 ],
 "metadata": {
  "jupytext": {
   "encoding": "# -*- coding: utf-8 -*-"
  },
  "kernelspec": {
   "display_name": "Python 3",
   "language": "python",
   "name": "python3"
  },
  "language_info": {
   "codemirror_mode": {
    "name": "ipython",
    "version": 3
   },
   "file_extension": ".py",
   "mimetype": "text/x-python",
   "name": "python",
   "nbconvert_exporter": "python",
   "pygments_lexer": "ipython3",
   "version": "3.7.1"
  },
  "nbTranslate": {
   "displayLangs": [
    "*"
   ],
   "hotkey": "alt-t",
   "langInMainMenu": true,
   "sourceLang": "en",
   "targetLang": "pt",
   "useGoogleTranslate": true
  },
  "pycharm": {
   "stem_cell": {
    "cell_type": "raw",
    "metadata": {
     "collapsed": false
    },
    "source": []
   }
  },
  "toc": {
   "base_numbering": 1,
   "nav_menu": {},
   "number_sections": true,
   "sideBar": true,
   "skip_h1_title": false,
   "title_cell": "Table of Contents",
   "title_sidebar": "Contents",
   "toc_cell": false,
   "toc_position": {},
   "toc_section_display": true,
   "toc_window_display": false
  },
  "varInspector": {
   "cols": {
    "lenName": 16,
    "lenType": 16,
    "lenVar": 40
   },
   "kernels_config": {
    "python": {
     "delete_cmd_postfix": "",
     "delete_cmd_prefix": "del ",
     "library": "var_list.py",
     "varRefreshCmd": "print(var_dic_list())"
    },
    "r": {
     "delete_cmd_postfix": ") ",
     "delete_cmd_prefix": "rm(",
     "library": "var_list.r",
     "varRefreshCmd": "cat(var_dic_list()) "
    }
   },
   "types_to_exclude": [
    "module",
    "function",
    "builtin_function_or_method",
    "instance",
    "_Feature"
   ],
   "window_display": true
  }
 },
 "nbformat": 4,
 "nbformat_minor": 2
}
