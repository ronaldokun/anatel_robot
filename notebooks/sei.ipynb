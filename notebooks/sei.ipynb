{
 "cells": [
  {
   "cell_type": "code",
   "execution_count": 3,
   "metadata": {},
   "outputs": [],
   "source": [
    "import os\n",
    "\n",
    "import pandas as pd\n",
    "import gspread_dataframe as gs\n",
    "import pyperclip as clip # copiar o texto clipboard\n",
    "from time import sleep\n",
    "from selenium.webdriver.support.ui import Select\n",
    "from selenium.webdriver.common.by import By\n",
    "from bs4 import BeautifulSoup as soup\n",
    "\n",
    "import random\n",
    "\n",
    "\n",
    "\n",
    "\n",
    "# Change the directory to reflect the main repository\n",
    "os.chdir(\"C:/Users/rsilva/Google Drive/projects/programming/automation\")\n",
    "\n",
    "#import sistemas\n",
    "import sei\n",
    "import functions\n",
    "import page\n",
    "from page import *\n",
    "import helpers\n",
    "\n",
    "% reload_ext autoreload\n",
    "% autoreload 2"
   ]
  },
  {
   "cell_type": "code",
   "execution_count": null,
   "metadata": {},
   "outputs": [],
   "source": [
    "TAGS = [\"@nome_interessado_maiusculas@\", \"@endereco_destinatario@\", \"@bairro_destinatario@\", \"@cep_destinatario@\", \"@cidade_destinatario@\", \"@validade@\"]\n",
    "VALUES = [\"Nome\", \"Logradouro\", [\"Número\", \"Complemento\", \"Bairro\"], \"Cep\", \"Cidade\", \"Validade\"]"
   ]
  },
  {
   "cell_type": "code",
   "execution_count": 4,
   "metadata": {},
   "outputs": [],
   "source": [
    "numero = \"53504.006801/2018-10\""
   ]
  },
  {
   "cell_type": "code",
   "execution_count": 5,
   "metadata": {},
   "outputs": [],
   "source": [
    "gc = functions.authenticate_google(\"files/anatel.json\")\n",
    "wb = gc.open(title=numero)"
   ]
  },
  {
   "cell_type": "code",
   "execution_count": 6,
   "metadata": {},
   "outputs": [],
   "source": [
    "sht = wb.get_worksheet(0)"
   ]
  },
  {
   "cell_type": "code",
   "execution_count": 7,
   "metadata": {},
   "outputs": [],
   "source": [
    "df = gs.get_as_dataframe(sht, dtype=str)[:18]"
   ]
  },
  {
   "cell_type": "code",
   "execution_count": 8,
   "metadata": {},
   "outputs": [
    {
     "data": {
      "text/html": [
       "<div>\n",
       "<style scoped>\n",
       "    .dataframe tbody tr th:only-of-type {\n",
       "        vertical-align: middle;\n",
       "    }\n",
       "\n",
       "    .dataframe tbody tr th {\n",
       "        vertical-align: top;\n",
       "    }\n",
       "\n",
       "    .dataframe thead th {\n",
       "        text-align: right;\n",
       "    }\n",
       "</style>\n",
       "<table border=\"1\" class=\"dataframe\">\n",
       "  <thead>\n",
       "    <tr style=\"text-align: right;\">\n",
       "      <th></th>\n",
       "      <th>Cpf</th>\n",
       "      <th>Nome</th>\n",
       "      <th>Fistel</th>\n",
       "      <th>Validade</th>\n",
       "      <th>Filtro</th>\n",
       "      <th>End_Sede</th>\n",
       "      <th>End_Corresp</th>\n",
       "      <th>Situação</th>\n",
       "      <th>Devedor</th>\n",
       "      <th>Cpf_RF</th>\n",
       "      <th>...</th>\n",
       "      <th>Situação_Cadastral</th>\n",
       "      <th>Fone</th>\n",
       "      <th>Logradouro</th>\n",
       "      <th>Num</th>\n",
       "      <th>Complemento</th>\n",
       "      <th>Bairro</th>\n",
       "      <th>Cidade</th>\n",
       "      <th>UF</th>\n",
       "      <th>Cep</th>\n",
       "      <th>Endereço_Completo</th>\n",
       "    </tr>\n",
       "  </thead>\n",
       "  <tbody>\n",
       "    <tr>\n",
       "      <th>0</th>\n",
       "      <td>63655110510</td>\n",
       "      <td>AILTON ALMEIDA CORREIA</td>\n",
       "      <td>80106323504</td>\n",
       "      <td>21/09/2017</td>\n",
       "      <td>=B2=K2</td>\n",
       "      <td>RUA SEDAN, 230\\n- UTINGA\\nCEP: 09230180\\nAdama...</td>\n",
       "      <td>RUA TENENTE SILVIO FLEMING 11 APT 33 VILA BONI...</td>\n",
       "      <td>Entidade devedora (Bloqueada)</td>\n",
       "      <td>Sim</td>\n",
       "      <td>636.551.105-10</td>\n",
       "      <td>...</td>\n",
       "      <td>REGULAR</td>\n",
       "      <td>99395905</td>\n",
       "      <td>RUA IRMAOS GRIFFO</td>\n",
       "      <td>116</td>\n",
       "      <td>ACACIA</td>\n",
       "      <td>POSTO DA MATA</td>\n",
       "      <td>NOVA VICOSA</td>\n",
       "      <td>BA</td>\n",
       "      <td>45928-000</td>\n",
       "      <td>RUA IRMAOS GRIFFO 116 ACACIA POSTO DA MATA \\n ...</td>\n",
       "    </tr>\n",
       "    <tr>\n",
       "      <th>1</th>\n",
       "      <td>6449219866</td>\n",
       "      <td>CARLOS CESAR DOS SANTOS</td>\n",
       "      <td>80106205560</td>\n",
       "      <td>27/09/2017</td>\n",
       "      <td>=B3=K3</td>\n",
       "      <td>Rua Miguel Ticotostes, 98, Casa\\n- Dom Romeu\\n...</td>\n",
       "      <td>RUA MADEIRA 76 APTO 3 CANINDE \\n CEP:  03033-0...</td>\n",
       "      <td>Entidade devedora (Bloqueada)</td>\n",
       "      <td>Sim</td>\n",
       "      <td>064.492.198-66</td>\n",
       "      <td>...</td>\n",
       "      <td>REGULAR</td>\n",
       "      <td>36626674</td>\n",
       "      <td>OUTROS MIGUEL TICOTOSTI</td>\n",
       "      <td>98</td>\n",
       "      <td></td>\n",
       "      <td>DOM ROMEU ALBERTO</td>\n",
       "      <td>BATATAIS</td>\n",
       "      <td>SP</td>\n",
       "      <td>14300-000</td>\n",
       "      <td>OUTROS MIGUEL TICOTOSTI 98  DOM ROMEU ALBERTO ...</td>\n",
       "    </tr>\n",
       "    <tr>\n",
       "      <th>2</th>\n",
       "      <td>16523980820</td>\n",
       "      <td>CARLOS EDUARDO GONCALVES DA SILVA</td>\n",
       "      <td>80106333720</td>\n",
       "      <td>28/09/2017</td>\n",
       "      <td>=B4=K4</td>\n",
       "      <td>RUA DAS PALMAS, 223\\n- VILA SAO JOSE\\nCEP: 099...</td>\n",
       "      <td>RUA MANOEL DOS SANTOS 321  PONTILHAO \\n CEP:  ...</td>\n",
       "      <td>Entidade não possui débitos</td>\n",
       "      <td>Não</td>\n",
       "      <td>165.239.808-20</td>\n",
       "      <td>...</td>\n",
       "      <td>REGULAR</td>\n",
       "      <td>40775213</td>\n",
       "      <td>RUA DAS PALMAS</td>\n",
       "      <td>223</td>\n",
       "      <td></td>\n",
       "      <td>VILA SAO JOSE</td>\n",
       "      <td>DIADEMA</td>\n",
       "      <td>SP</td>\n",
       "      <td>09950-510</td>\n",
       "      <td>RUA DAS PALMAS 223  VILA SAO JOSE \\n CEP: 0995...</td>\n",
       "    </tr>\n",
       "    <tr>\n",
       "      <th>3</th>\n",
       "      <td>01270574809</td>\n",
       "      <td>CLAUDINEI CANDIDO DA SILVA</td>\n",
       "      <td>02035683971</td>\n",
       "      <td>23/09/2017</td>\n",
       "      <td>=B5=K5</td>\n",
       "      <td>RUA.JOAO VELHO DO REGO N.1222, .\\n- SAO MATHEU...</td>\n",
       "      <td>RUA DOZE 4  PQ MA DOMITILA \\n CEP:  04856-000 ...</td>\n",
       "      <td>Entidade devedora (Bloqueada)</td>\n",
       "      <td>Sim</td>\n",
       "      <td>012.705.748-09</td>\n",
       "      <td>...</td>\n",
       "      <td>REGULAR</td>\n",
       "      <td>61123149</td>\n",
       "      <td>RUA JOAO VELHO DO REGO</td>\n",
       "      <td>1222</td>\n",
       "      <td></td>\n",
       "      <td>SAO MATEUS</td>\n",
       "      <td>SAO PAULO</td>\n",
       "      <td>SP</td>\n",
       "      <td>03967-000</td>\n",
       "      <td>RUA JOAO VELHO DO REGO 1222  SAO MATEUS \\n CEP...</td>\n",
       "    </tr>\n",
       "    <tr>\n",
       "      <th>4</th>\n",
       "      <td>02795241889</td>\n",
       "      <td>CLAUDIO DOMINGOS VENANCIO</td>\n",
       "      <td>80106237330</td>\n",
       "      <td>27/09/2017</td>\n",
       "      <td>=B6=K6</td>\n",
       "      <td>RUA WALMOR URBAN, 1621, casa\\n- VILA REDENCAO\\...</td>\n",
       "      <td>RUA ADMAR LEOPOLDO GHELARDI 2-135  NOBUJE NAGA...</td>\n",
       "      <td>Entidade devedora (Bloqueada)</td>\n",
       "      <td>Sim</td>\n",
       "      <td>027.952.418-89</td>\n",
       "      <td>...</td>\n",
       "      <td>REGULAR</td>\n",
       "      <td>35625128</td>\n",
       "      <td>RUA JOSE PERES</td>\n",
       "      <td>913</td>\n",
       "      <td></td>\n",
       "      <td>JD BRASILIA</td>\n",
       "      <td>PIRASSUNUNGA</td>\n",
       "      <td>SP</td>\n",
       "      <td>13631-656</td>\n",
       "      <td>RUA JOSE PERES 913  JD BRASILIA \\n CEP: 13631-...</td>\n",
       "    </tr>\n",
       "  </tbody>\n",
       "</table>\n",
       "<p>5 rows × 27 columns</p>\n",
       "</div>"
      ],
      "text/plain": [
       "           Cpf                               Nome       Fistel    Validade  \\\n",
       "0  63655110510             AILTON ALMEIDA CORREIA  80106323504  21/09/2017   \n",
       "1   6449219866            CARLOS CESAR DOS SANTOS  80106205560  27/09/2017   \n",
       "2  16523980820  CARLOS EDUARDO GONCALVES DA SILVA  80106333720  28/09/2017   \n",
       "3  01270574809         CLAUDINEI CANDIDO DA SILVA  02035683971  23/09/2017   \n",
       "4  02795241889          CLAUDIO DOMINGOS VENANCIO  80106237330  27/09/2017   \n",
       "\n",
       "   Filtro                                           End_Sede  \\\n",
       "0  =B2=K2  RUA SEDAN, 230\\n- UTINGA\\nCEP: 09230180\\nAdama...   \n",
       "1  =B3=K3  Rua Miguel Ticotostes, 98, Casa\\n- Dom Romeu\\n...   \n",
       "2  =B4=K4  RUA DAS PALMAS, 223\\n- VILA SAO JOSE\\nCEP: 099...   \n",
       "3  =B5=K5  RUA.JOAO VELHO DO REGO N.1222, .\\n- SAO MATHEU...   \n",
       "4  =B6=K6  RUA WALMOR URBAN, 1621, casa\\n- VILA REDENCAO\\...   \n",
       "\n",
       "                                         End_Corresp  \\\n",
       "0  RUA TENENTE SILVIO FLEMING 11 APT 33 VILA BONI...   \n",
       "1  RUA MADEIRA 76 APTO 3 CANINDE \\n CEP:  03033-0...   \n",
       "2  RUA MANOEL DOS SANTOS 321  PONTILHAO \\n CEP:  ...   \n",
       "3  RUA DOZE 4  PQ MA DOMITILA \\n CEP:  04856-000 ...   \n",
       "4  RUA ADMAR LEOPOLDO GHELARDI 2-135  NOBUJE NAGA...   \n",
       "\n",
       "                        Situação Devedor          Cpf_RF  \\\n",
       "0  Entidade devedora (Bloqueada)     Sim  636.551.105-10   \n",
       "1  Entidade devedora (Bloqueada)     Sim  064.492.198-66   \n",
       "2    Entidade não possui débitos     Não  165.239.808-20   \n",
       "3  Entidade devedora (Bloqueada)     Sim  012.705.748-09   \n",
       "4  Entidade devedora (Bloqueada)     Sim  027.952.418-89   \n",
       "\n",
       "                         ...                         Situação_Cadastral  \\\n",
       "0                        ...                                    REGULAR   \n",
       "1                        ...                                    REGULAR   \n",
       "2                        ...                                    REGULAR   \n",
       "3                        ...                                    REGULAR   \n",
       "4                        ...                                    REGULAR   \n",
       "\n",
       "       Fone               Logradouro   Num Complemento             Bairro  \\\n",
       "0  99395905        RUA IRMAOS GRIFFO   116      ACACIA      POSTO DA MATA   \n",
       "1  36626674  OUTROS MIGUEL TICOTOSTI    98              DOM ROMEU ALBERTO   \n",
       "2  40775213           RUA DAS PALMAS   223                  VILA SAO JOSE   \n",
       "3  61123149   RUA JOAO VELHO DO REGO  1222                     SAO MATEUS   \n",
       "4  35625128           RUA JOSE PERES   913                    JD BRASILIA   \n",
       "\n",
       "         Cidade  UF        Cep  \\\n",
       "0   NOVA VICOSA  BA  45928-000   \n",
       "1      BATATAIS  SP  14300-000   \n",
       "2       DIADEMA  SP  09950-510   \n",
       "3     SAO PAULO  SP  03967-000   \n",
       "4  PIRASSUNUNGA  SP  13631-656   \n",
       "\n",
       "                                   Endereço_Completo  \n",
       "0  RUA IRMAOS GRIFFO 116 ACACIA POSTO DA MATA \\n ...  \n",
       "1  OUTROS MIGUEL TICOTOSTI 98  DOM ROMEU ALBERTO ...  \n",
       "2  RUA DAS PALMAS 223  VILA SAO JOSE \\n CEP: 0995...  \n",
       "3  RUA JOAO VELHO DO REGO 1222  SAO MATEUS \\n CEP...  \n",
       "4  RUA JOSE PERES 913  JD BRASILIA \\n CEP: 13631-...  \n",
       "\n",
       "[5 rows x 27 columns]"
      ]
     },
     "execution_count": 8,
     "metadata": {},
     "output_type": "execute_result"
    }
   ],
   "source": [
    "df[\"Complemento\"] = df[\"Complemento\"].str.replace(\"nan\", \"\")\n",
    "\n",
    "df.drop_duplicates(inplace=True)\n",
    "\n",
    "df.head()"
   ]
  },
  {
   "cell_type": "code",
   "execution_count": 30,
   "metadata": {},
   "outputs": [],
   "source": [
    "usr = \"rsilva\"\n",
    "pwd = \"Savorthemom3nts\"\n",
    "browser = webdriver.Firefox()"
   ]
  },
  {
   "cell_type": "code",
   "execution_count": 31,
   "metadata": {},
   "outputs": [],
   "source": [
    "browser = sei.login_sei(browser, usr, pwd)"
   ]
  },
  {
   "cell_type": "code",
   "execution_count": 32,
   "metadata": {},
   "outputs": [],
   "source": [
    "sei_ = sei.Sei(browser)\n",
    "\n",
    "sei_.itera_processos()"
   ]
  },
  {
   "cell_type": "code",
   "execution_count": 33,
   "metadata": {},
   "outputs": [],
   "source": [
    "p = sei_.go_to_processo(numero)"
   ]
  },
  {
   "cell_type": "code",
   "execution_count": 21,
   "metadata": {},
   "outputs": [],
   "source": [
    "for i in df.iterrows():\n",
    "    \n",
    "    dados = i[1].to_dict()    \n",
    "    \n",
    "    tag = sei_.atualizar_contato(dados['Nome'], dados)"
   ]
  },
  {
   "cell_type": "code",
   "execution_count": 34,
   "metadata": {},
   "outputs": [],
   "source": [
    "tipo = \"RC_Oficio de Cassação\""
   ]
  },
  {
   "cell_type": "code",
   "execution_count": 35,
   "metadata": {},
   "outputs": [],
   "source": [
    "def string_endereço(row):\n",
    "    \n",
    "    s = 'À<br>' + str(row[1][\"Nome\"]).title() + '<br>' + str(row[1][\"Logradouro\"]).title() + \", \" + str(row[1][\"Num\"]) \\\n",
    "         + \" \" + str(row[1][\"Complemento\"]).title() + \" \" + str(row[1][\"Bairro\"]).title() + \"<br>\" +  \"CEP: \" \\\n",
    "         + str(row[1][\"Cep\"]) +\" - \" + str(row[1][\"Cidade\"]).title() + \" - \" + str(row[1][\"UF\"]) + \"<br><br>\" + \"<b>FISTEL: \" \\\n",
    "         + str(row[1][\"Fistel\"]) + \"</b>\"\n",
    "            \n",
    "    return s"
   ]
  },
  {
   "cell_type": "code",
   "execution_count": 36,
   "metadata": {},
   "outputs": [],
   "source": [
    "for row in df.iterrows():    \n",
    "    \n",
    "    dados = {'À': string_endereço(row)}    \n",
    "    \n",
    "    clip.copy(dados[\"À\"])\n",
    "    \n",
    "    p.incluir_oficio(tipo, dados)\n",
    "        \n",
    "    sleep(random.randint(60,120))"
   ]
  },
  {
   "cell_type": "code",
   "execution_count": null,
   "metadata": {},
   "outputs": [],
   "source": [
    "for p in sei_.get_processos().values():\n",
    "    \n",
    "    if p[\"aviso\"] and p[\"tipo\"] == \"Outorga: Rádio do Cidadão\":\n",
    "        \n",
    "        p = sei_.go_to_processo(p[\"numero\"])\n",
    "        \n",
    "        teste = input()\n",
    "        \n",
    "        if teste == 'y':\n",
    "            \n",
    "            p.edita_marcador()\n",
    "            p.edita_postit()\n",
    "            \n",
    "            p.get_acoes()['conc']"
   ]
  },
  {
   "cell_type": "code",
   "execution_count": null,
   "metadata": {},
   "outputs": [],
   "source": [
    "p.edita_marcador(\"RC\")"
   ]
  },
  {
   "cell_type": "code",
   "execution_count": null,
   "metadata": {},
   "outputs": [],
   "source": [
    "select = Select(p.wait_for_element(helpers.Marcador.LISTA_MARCADORES))"
   ]
  },
  {
   "cell_type": "code",
   "execution_count": 27,
   "metadata": {},
   "outputs": [
    {
     "ename": "NoAlertPresentException",
     "evalue": "Message: No modal dialog is currently open\n",
     "output_type": "error",
     "traceback": [
      "\u001b[1;31m---------------------------------------------------------------------------\u001b[0m",
      "\u001b[1;31mNoAlertPresentException\u001b[0m                   Traceback (most recent call last)",
      "\u001b[1;32m<ipython-input-27-48406f71cbb3>\u001b[0m in \u001b[0;36m<module>\u001b[1;34m()\u001b[0m\n\u001b[0;32m      3\u001b[0m \u001b[0msei_\u001b[0m\u001b[1;33m.\u001b[0m\u001b[0mdriver\u001b[0m\u001b[1;33m.\u001b[0m\u001b[0mswitch_to_window\u001b[0m\u001b[1;33m(\u001b[0m\u001b[0mwindows\u001b[0m\u001b[1;33m[\u001b[0m\u001b[1;36m0\u001b[0m\u001b[1;33m]\u001b[0m\u001b[1;33m)\u001b[0m\u001b[1;33m\u001b[0m\u001b[0m\n\u001b[0;32m      4\u001b[0m \u001b[1;33m\u001b[0m\u001b[0m\n\u001b[1;32m----> 5\u001b[1;33m \u001b[0msei_\u001b[0m\u001b[1;33m.\u001b[0m\u001b[0mdriver\u001b[0m\u001b[1;33m.\u001b[0m\u001b[0mswitch_to\u001b[0m\u001b[1;33m.\u001b[0m\u001b[0mdefault_content\u001b[0m\u001b[1;33m(\u001b[0m\u001b[1;33m)\u001b[0m\u001b[1;33m\u001b[0m\u001b[0m\n\u001b[0m",
      "\u001b[1;32mC:\\Users\\rsilva\\miniconda3\\envs\\automation\\lib\\site-packages\\selenium\\webdriver\\remote\\switch_to.py\u001b[0m in \u001b[0;36mdefault_content\u001b[1;34m(self)\u001b[0m\n\u001b[0;32m     63\u001b[0m             \u001b[0mdriver\u001b[0m\u001b[1;33m.\u001b[0m\u001b[0mswitch_to\u001b[0m\u001b[1;33m.\u001b[0m\u001b[0mdefault_content\u001b[0m\u001b[1;33m(\u001b[0m\u001b[1;33m)\u001b[0m\u001b[1;33m\u001b[0m\u001b[0m\n\u001b[0;32m     64\u001b[0m         \"\"\"\n\u001b[1;32m---> 65\u001b[1;33m         \u001b[0mself\u001b[0m\u001b[1;33m.\u001b[0m\u001b[0m_driver\u001b[0m\u001b[1;33m.\u001b[0m\u001b[0mexecute\u001b[0m\u001b[1;33m(\u001b[0m\u001b[0mCommand\u001b[0m\u001b[1;33m.\u001b[0m\u001b[0mSWITCH_TO_FRAME\u001b[0m\u001b[1;33m,\u001b[0m \u001b[1;33m{\u001b[0m\u001b[1;34m'id'\u001b[0m\u001b[1;33m:\u001b[0m \u001b[1;32mNone\u001b[0m\u001b[1;33m}\u001b[0m\u001b[1;33m)\u001b[0m\u001b[1;33m\u001b[0m\u001b[0m\n\u001b[0m\u001b[0;32m     66\u001b[0m \u001b[1;33m\u001b[0m\u001b[0m\n\u001b[0;32m     67\u001b[0m     \u001b[1;32mdef\u001b[0m \u001b[0mframe\u001b[0m\u001b[1;33m(\u001b[0m\u001b[0mself\u001b[0m\u001b[1;33m,\u001b[0m \u001b[0mframe_reference\u001b[0m\u001b[1;33m)\u001b[0m\u001b[1;33m:\u001b[0m\u001b[1;33m\u001b[0m\u001b[0m\n",
      "\u001b[1;32mC:\\Users\\rsilva\\miniconda3\\envs\\automation\\lib\\site-packages\\selenium\\webdriver\\remote\\webdriver.py\u001b[0m in \u001b[0;36mexecute\u001b[1;34m(self, driver_command, params)\u001b[0m\n\u001b[0;32m    310\u001b[0m         \u001b[0mresponse\u001b[0m \u001b[1;33m=\u001b[0m \u001b[0mself\u001b[0m\u001b[1;33m.\u001b[0m\u001b[0mcommand_executor\u001b[0m\u001b[1;33m.\u001b[0m\u001b[0mexecute\u001b[0m\u001b[1;33m(\u001b[0m\u001b[0mdriver_command\u001b[0m\u001b[1;33m,\u001b[0m \u001b[0mparams\u001b[0m\u001b[1;33m)\u001b[0m\u001b[1;33m\u001b[0m\u001b[0m\n\u001b[0;32m    311\u001b[0m         \u001b[1;32mif\u001b[0m \u001b[0mresponse\u001b[0m\u001b[1;33m:\u001b[0m\u001b[1;33m\u001b[0m\u001b[0m\n\u001b[1;32m--> 312\u001b[1;33m             \u001b[0mself\u001b[0m\u001b[1;33m.\u001b[0m\u001b[0merror_handler\u001b[0m\u001b[1;33m.\u001b[0m\u001b[0mcheck_response\u001b[0m\u001b[1;33m(\u001b[0m\u001b[0mresponse\u001b[0m\u001b[1;33m)\u001b[0m\u001b[1;33m\u001b[0m\u001b[0m\n\u001b[0m\u001b[0;32m    313\u001b[0m             response['value'] = self._unwrap_value(\n\u001b[0;32m    314\u001b[0m                 response.get('value', None))\n",
      "\u001b[1;32mC:\\Users\\rsilva\\miniconda3\\envs\\automation\\lib\\site-packages\\selenium\\webdriver\\remote\\errorhandler.py\u001b[0m in \u001b[0;36mcheck_response\u001b[1;34m(self, response)\u001b[0m\n\u001b[0;32m    235\u001b[0m         \u001b[1;32melif\u001b[0m \u001b[0mexception_class\u001b[0m \u001b[1;33m==\u001b[0m \u001b[0mUnexpectedAlertPresentException\u001b[0m \u001b[1;32mand\u001b[0m \u001b[1;34m'alert'\u001b[0m \u001b[1;32min\u001b[0m \u001b[0mvalue\u001b[0m\u001b[1;33m:\u001b[0m\u001b[1;33m\u001b[0m\u001b[0m\n\u001b[0;32m    236\u001b[0m             \u001b[1;32mraise\u001b[0m \u001b[0mexception_class\u001b[0m\u001b[1;33m(\u001b[0m\u001b[0mmessage\u001b[0m\u001b[1;33m,\u001b[0m \u001b[0mscreen\u001b[0m\u001b[1;33m,\u001b[0m \u001b[0mstacktrace\u001b[0m\u001b[1;33m,\u001b[0m \u001b[0mvalue\u001b[0m\u001b[1;33m[\u001b[0m\u001b[1;34m'alert'\u001b[0m\u001b[1;33m]\u001b[0m\u001b[1;33m.\u001b[0m\u001b[0mget\u001b[0m\u001b[1;33m(\u001b[0m\u001b[1;34m'text'\u001b[0m\u001b[1;33m)\u001b[0m\u001b[1;33m)\u001b[0m\u001b[1;33m\u001b[0m\u001b[0m\n\u001b[1;32m--> 237\u001b[1;33m         \u001b[1;32mraise\u001b[0m \u001b[0mexception_class\u001b[0m\u001b[1;33m(\u001b[0m\u001b[0mmessage\u001b[0m\u001b[1;33m,\u001b[0m \u001b[0mscreen\u001b[0m\u001b[1;33m,\u001b[0m \u001b[0mstacktrace\u001b[0m\u001b[1;33m)\u001b[0m\u001b[1;33m\u001b[0m\u001b[0m\n\u001b[0m\u001b[0;32m    238\u001b[0m \u001b[1;33m\u001b[0m\u001b[0m\n\u001b[0;32m    239\u001b[0m     \u001b[1;32mdef\u001b[0m \u001b[0m_value_or_default\u001b[0m\u001b[1;33m(\u001b[0m\u001b[0mself\u001b[0m\u001b[1;33m,\u001b[0m \u001b[0mobj\u001b[0m\u001b[1;33m,\u001b[0m \u001b[0mkey\u001b[0m\u001b[1;33m,\u001b[0m \u001b[0mdefault\u001b[0m\u001b[1;33m)\u001b[0m\u001b[1;33m:\u001b[0m\u001b[1;33m\u001b[0m\u001b[0m\n",
      "\u001b[1;31mNoAlertPresentException\u001b[0m: Message: No modal dialog is currently open\n"
     ]
    }
   ],
   "source": [
    "windows = sei_.driver.window_handles\n",
    "\n",
    "sei_.driver.switch_to_window(windows[0])\n",
    "\n",
    "sei_.driver.switch_to.default_content()"
   ]
  },
  {
   "cell_type": "code",
   "execution_count": null,
   "metadata": {},
   "outputs": [],
   "source": []
  }
 ],
 "metadata": {
  "kernelspec": {
   "display_name": "Python 3",
   "language": "python",
   "name": "python3"
  },
  "language_info": {
   "codemirror_mode": {
    "name": "ipython",
    "version": 3
   },
   "file_extension": ".py",
   "mimetype": "text/x-python",
   "name": "python",
   "nbconvert_exporter": "python",
   "pygments_lexer": "ipython3",
   "version": "3.5.4"
  }
 },
 "nbformat": 4,
 "nbformat_minor": 2
}
