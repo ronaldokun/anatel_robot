{
 "cells": [
  {
   "cell_type": "code",
   "execution_count": 1,
   "metadata": {},
   "outputs": [],
   "source": [
    "import os\n",
    "import gc\n",
    "\n",
    "import pandas as pd\n",
    "import gspread_dataframe as gs\n",
    "import pyperclip as clip # copiar o texto clipboard\n",
    "from time import sleep\n",
    "from selenium.webdriver.support.ui import Select\n",
    "from selenium.webdriver.common.by import By\n",
    "from bs4 import BeautifulSoup as soup\n",
    "\n",
    "import random\n",
    "\n",
    "# Change the directory to reflect the main repository\n",
    "os.chdir(\"C:/Users/rsilva/gdrive/projects/programming/automation\")\n",
    "\n",
    "#import sistemas\n",
    "import sei\n",
    "import functions\n",
    "import page\n",
    "from page import *\n",
    "import helpers\n",
    "\n",
    "% reload_ext autoreload\n",
    "% autoreload 2"
   ]
  },
  {
   "cell_type": "code",
   "execution_count": null,
   "metadata": {},
   "outputs": [],
   "source": [
    "gc = functions.authenticate_google(\"files/anatel.json\")"
   ]
  },
  {
   "cell_type": "code",
   "execution_count": null,
   "metadata": {},
   "outputs": [],
   "source": [
    "PATH = os.path.abspath(r\"C:\\Users\\rsilva\\Desktop\\SEI\")\n",
    "HOME = os.path.abspath(\"C:/Users/rsilva/gdrive/projects/programming/automation/\")\n",
    "\n",
    "keys = ('Nome/Razão Social', 'Logradouro', 'Número', 'Complemento', 'Bairro', 'Cep', 'Município', 'UF', 'Número Fistel')\n",
    "\n",
    "def string_endereço(dados):\n",
    "    \n",
    "    d = {}\n",
    "    \n",
    "    s = 'A(o)<br>' \n",
    "    \n",
    "    s += dados[\"Nome/Razão Social\"].title()\n",
    "    \n",
    "    s += '<br>' + dados[\"Logradouro\"].title() + \", \" + dados[\"Número\"] + \" \" \n",
    "    \n",
    "    s += dados[\"Complemento\"].title() + \" \" \n",
    "    \n",
    "    s += dados[\"Bairro\"].title() + '<br>' \n",
    "    \n",
    "    s += \"CEP: \" + dados[\"Cep\"] + \" - \" + dados[\"Município\"].title() + \" - \" + dados[\"UF\"] \n",
    "            \n",
    "    s += \"<br><br>\" + \"<b>FISTEL: \" + dados[\"Número Fistel\"] + \"</b>\"\n",
    "    \n",
    "    d[\"A\"] = s\n",
    "    \n",
    "    return d\n",
    "\n",
    "def lastRow(ws, col=2):\n",
    "    \"\"\" Find the last row in the worksheet that contains data.\n",
    "\n",
    "    idx: Specifies the worksheet to select. Starts counting from zero.\n",
    "\n",
    "    workbook: Specifies the workbook\n",
    "\n",
    "    col: The column in which to look for the last cell containing data.\n",
    "    \"\"\"\n",
    "\n",
    "    #ws = workbook.sheets[idx]\n",
    "\n",
    "    lwr_r_cell = ws.cells.last_cell      # lower right cell\n",
    "    lwr_row = lwr_r_cell.row             # row of the lower right cell\n",
    "    lwr_cell = ws.range((lwr_row, col))  # change to your specified column\n",
    "\n",
    "    if lwr_cell.value is None:\n",
    "        lwr_cell = lwr_cell.end('up')    # go up untill you hit a non-empty cell\n",
    "\n",
    "    return lwr_cell.row"
   ]
  },
  {
   "cell_type": "code",
   "execution_count": 2,
   "metadata": {},
   "outputs": [],
   "source": [
    "usr = \"rsilva\"\n",
    "pwd = \"Savorthemom3nts\"\n",
    "browser = sei.login_sei(webdriver.Firefox(), usr, pwd)"
   ]
  },
  {
   "cell_type": "code",
   "execution_count": 3,
   "metadata": {},
   "outputs": [],
   "source": []
  },
  {
   "cell_type": "code",
   "execution_count": 4,
   "metadata": {},
   "outputs": [],
   "source": [
    "sei_ = sei.Sei(browser)\n",
    "\n",
    "sei_.itera_processos()"
   ]
  },
  {
   "cell_type": "code",
   "execution_count": null,
   "metadata": {},
   "outputs": [],
   "source": [
    "for row in df[df[\"Processo\"] == numero].iterrows():    \n",
    "    \n",
    "    dados = {'A(o)': string_endereço(row)}    \n",
    "    \n",
    "    clip.copy(dados[\"À\"])\n",
    "    \n",
    "    p.incluir_oficio(tipo, dados)\n",
    "    \n",
    "p = sei_.go_to_processo(numero)"
   ]
  },
  {
   "cell_type": "code",
   "execution_count": null,
   "metadata": {},
   "outputs": [],
   "source": [
    "windows = sei_.driver.window_handles\n",
    "\n",
    "sei_.driver.switch_to_window(windows[0])\n",
    "\n",
    "sei_.driver.switch_to.default_content()"
   ]
  }
 ],
 "metadata": {
  "kernelspec": {
   "display_name": "Python 3",
   "language": "python",
   "name": "python3"
  },
  "language_info": {
   "codemirror_mode": {
    "name": "ipython",
    "version": 3
   },
   "file_extension": ".py",
   "mimetype": "text/x-python",
   "name": "python",
   "nbconvert_exporter": "python",
   "pygments_lexer": "ipython3",
   "version": "3.5.4"
  },
  "toc": {
   "base_numbering": 1,
   "nav_menu": {},
   "number_sections": true,
   "sideBar": true,
   "skip_h1_title": false,
   "title_cell": "Table of Contents",
   "title_sidebar": "Contents",
   "toc_cell": false,
   "toc_position": {},
   "toc_section_display": true,
   "toc_window_display": false
  }
 },
 "nbformat": 4,
 "nbformat_minor": 2
}
