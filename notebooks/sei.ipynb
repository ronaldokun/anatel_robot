{
 "cells": [
  {
   "cell_type": "code",
   "execution_count": 1,
   "metadata": {
    "ExecuteTime": {
     "end_time": "2019-12-13T18:58:06.181150Z",
     "start_time": "2019-12-13T18:58:01.139904Z"
    }
   },
   "outputs": [
    {
     "name": "stdout",
     "output_type": "stream",
     "text": [
      "Olá rsilva\n",
      "Digite sua Senha: ········\n"
     ]
    }
   ],
   "source": [
    "#Standard Lib imports\n",
    "import sys, os\n",
    "from pathlib import Path\n",
    "#from functools import partial\n",
    "import getpass\n",
    "\n",
    "# Insert in Path Project Directory\n",
    "sys.path.insert(0, str(Path().cwd().parent))\n",
    "\n",
    "\n",
    "# Third party imports\n",
    "\n",
    "# Local application imports\n",
    "from sei import sei\n",
    "\n",
    "#USR = getpass.getuser()\n",
    "USR = 'rsilva'\n",
    "print(f'Olá {USR}')\n",
    "PWD = getpass.getpass(\"Digite sua Senha: \")\n",
    "\n",
    "%load_ext autoreload\n",
    "%autoreload 2"
   ]
  },
  {
   "cell_type": "code",
   "execution_count": 2,
   "metadata": {
    "ExecuteTime": {
     "end_time": "2019-12-13T18:58:32.679892Z",
     "start_time": "2019-12-13T18:58:14.414598Z"
    }
   },
   "outputs": [],
   "source": [
    "s = sei.login_sei(USR, PWD, browser='Chrome', timeout=5, teste=False)"
   ]
  },
  {
   "cell_type": "code",
   "execution_count": 4,
   "metadata": {
    "ExecuteTime": {
     "end_time": "2019-12-13T18:59:18.596880Z",
     "start_time": "2019-12-13T18:59:10.094657Z"
    }
   },
   "outputs": [],
   "source": [
    "s.mudar_lotação(\"GR01\")"
   ]
  },
  {
   "cell_type": "code",
   "execution_count": 3,
   "metadata": {
    "ExecuteTime": {
     "end_time": "2019-12-13T18:59:29.868604Z",
     "start_time": "2019-12-13T18:59:18.955143Z"
    }
   },
   "outputs": [],
   "source": [
    "s.mudar_lotação(\"GR01FI3\")"
   ]
  },
  {
   "cell_type": "code",
   "execution_count": 6,
   "metadata": {
    "ExecuteTime": {
     "end_time": "2019-12-13T18:59:35.329559Z",
     "start_time": "2019-12-13T18:59:30.222399Z"
    },
    "scrolled": true
   },
   "outputs": [
    {
     "name": "stdout",
     "output_type": "stream",
     "text": [
      "Não existe a opção GR01AF no Menu mencionado\n"
     ]
    }
   ],
   "source": [
    "s.mudar_lotação(\"GR01AF\")"
   ]
  },
  {
   "cell_type": "code",
   "execution_count": null,
   "metadata": {},
   "outputs": [],
   "source": [
    "s.mudar_lotação(\"GR01OR\")"
   ]
  },
  {
   "cell_type": "code",
   "execution_count": 7,
   "metadata": {
    "ExecuteTime": {
     "end_time": "2019-12-13T18:45:09.238651Z",
     "start_time": "2019-12-13T18:45:03.508299Z"
    }
   },
   "outputs": [],
   "source": [
    "s.ver_detalhado()"
   ]
  },
  {
   "cell_type": "code",
   "execution_count": null,
   "metadata": {
    "ExecuteTime": {
     "end_time": "2019-12-13T18:45:11.326959Z",
     "start_time": "2019-12-13T18:45:11.242434Z"
    }
   },
   "outputs": [],
   "source": [
    "s.is_init_page()"
   ]
  },
  {
   "cell_type": "code",
   "execution_count": null,
   "metadata": {
    "ExecuteTime": {
     "end_time": "2019-12-13T18:45:15.567295Z",
     "start_time": "2019-12-13T18:45:15.504784Z"
    }
   },
   "outputs": [],
   "source": [
    "s.go_to_init_page()"
   ]
  },
  {
   "cell_type": "code",
   "execution_count": null,
   "metadata": {
    "ExecuteTime": {
     "end_time": "2019-12-13T18:45:29.003019Z",
     "start_time": "2019-12-13T18:45:28.686918Z"
    }
   },
   "outputs": [],
   "source": [
    "s.show_lat_menu()"
   ]
  },
  {
   "cell_type": "code",
   "execution_count": null,
   "metadata": {
    "ExecuteTime": {
     "end_time": "2019-12-13T18:45:37.224865Z",
     "start_time": "2019-12-13T18:45:37.162364Z"
    }
   },
   "outputs": [],
   "source": [
    "s.page.timeout = 2"
   ]
  },
  {
   "cell_type": "code",
   "execution_count": null,
   "metadata": {
    "ExecuteTime": {
     "end_time": "2019-12-13T18:45:37.832426Z",
     "start_time": "2019-12-13T18:45:37.747285Z"
    }
   },
   "outputs": [],
   "source": [
    "s.ver_detalhado()"
   ]
  },
  {
   "cell_type": "code",
   "execution_count": null,
   "metadata": {
    "ExecuteTime": {
     "end_time": "2019-12-13T18:45:38.363965Z",
     "start_time": "2019-12-13T18:45:38.264161Z"
    }
   },
   "outputs": [],
   "source": [
    "s.ver_todos()"
   ]
  },
  {
   "cell_type": "code",
   "execution_count": 4,
   "metadata": {
    "ExecuteTime": {
     "end_time": "2019-12-13T18:45:56.039741Z",
     "start_time": "2019-12-13T18:45:51.858164Z"
    }
   },
   "outputs": [],
   "source": [
    "s.itera_processos()"
   ]
  },
  {
   "cell_type": "code",
   "execution_count": 14,
   "metadata": {
    "ExecuteTime": {
     "end_time": "2019-12-13T18:45:56.971661Z",
     "start_time": "2019-12-13T18:45:56.909323Z"
    }
   },
   "outputs": [],
   "source": [
    "n = [v['numero'] for v in s.get_processos().values() if v['atribuicao'] == 'rsilva']"
   ]
  },
  {
   "cell_type": "code",
   "execution_count": 15,
   "metadata": {
    "ExecuteTime": {
     "end_time": "2019-12-13T18:45:56.971661Z",
     "start_time": "2019-12-13T18:45:56.909323Z"
    }
   },
   "outputs": [],
   "source": [
    "l = [v['link'] for v in s.get_processos().values() if v['atribuicao'] == 'rsilva']"
   ]
  },
  {
   "cell_type": "code",
   "execution_count": 20,
   "metadata": {},
   "outputs": [
    {
     "name": "stdout",
     "output_type": "stream",
     "text": [
      "53504.000876/2020-01\n",
      "53504.000877/2020-48\n",
      "53504.000879/2020-37\n",
      "53504.000880/2020-61\n",
      "53504.000881/2020-14\n",
      "53504.000882/2020-51\n",
      "53504.000884/2020-40\n",
      "53504.000885/2020-94\n",
      "53504.000886/2020-39\n",
      "53504.000887/2020-83\n",
      "53504.000888/2020-28\n",
      "53504.000889/2020-72\n",
      "53504.000890/2020-05\n",
      "53504.000891/2020-41\n",
      "53504.000893/2020-31\n",
      "53504.000894/2020-85\n",
      "53504.000896/2020-74\n",
      "53504.000895/2020-20\n",
      "53504.000892/2020-96\n",
      "53504.000875/2020-59\n",
      "53504.000874/2020-12\n",
      "53504.000873/2020-60\n",
      "53504.000872/2020-15\n",
      "53504.000871/2020-71\n",
      "53504.000870/2020-26\n",
      "53504.000759/2020-30\n",
      "53504.002594/2020-31\n",
      "53504.002255/2020-54\n"
     ]
    }
   ],
   "source": [
    "for i, j in zip(n, l):\n",
    "    print(i)    "
   ]
  },
  {
   "cell_type": "code",
   "execution_count": 13,
   "metadata": {},
   "outputs": [
    {
     "ename": "TypeError",
     "evalue": "string indices must be integers",
     "output_type": "error",
     "traceback": [
      "\u001b[1;31m---------------------------------------------------------------------------\u001b[0m",
      "\u001b[1;31mTypeError\u001b[0m                                 Traceback (most recent call last)",
      "\u001b[1;32m<ipython-input-13-cd2bec911fe5>\u001b[0m in \u001b[0;36m<module>\u001b[1;34m\u001b[0m\n\u001b[0;32m      1\u001b[0m \u001b[1;32mfor\u001b[0m \u001b[0mi\u001b[0m \u001b[1;32min\u001b[0m \u001b[0mp\u001b[0m\u001b[1;33m:\u001b[0m\u001b[1;33m\u001b[0m\u001b[1;33m\u001b[0m\u001b[0m\n\u001b[1;32m----> 2\u001b[1;33m     \u001b[0mprint\u001b[0m\u001b[1;33m(\u001b[0m\u001b[0mi\u001b[0m\u001b[1;33m[\u001b[0m\u001b[1;34m'numero'\u001b[0m\u001b[1;33m]\u001b[0m\u001b[1;33m)\u001b[0m\u001b[1;33m\u001b[0m\u001b[1;33m\u001b[0m\u001b[0m\n\u001b[0m\u001b[0;32m      3\u001b[0m \u001b[1;33m\u001b[0m\u001b[0m\n\u001b[0;32m      4\u001b[0m \u001b[1;31m#, p['link'])\u001b[0m\u001b[1;33m\u001b[0m\u001b[1;33m\u001b[0m\u001b[1;33m\u001b[0m\u001b[0m\n",
      "\u001b[1;31mTypeError\u001b[0m: string indices must be integers"
     ]
    }
   ],
   "source": [
    "    \n",
    "\n"
   ]
  },
  {
   "cell_type": "code",
   "execution_count": null,
   "metadata": {
    "ExecuteTime": {
     "end_time": "2019-12-13T18:46:08.129248Z",
     "start_time": "2019-12-13T18:46:07.481737Z"
    }
   },
   "outputs": [],
   "source": [
    "s.go_to_blocos()"
   ]
  },
  {
   "cell_type": "code",
   "execution_count": null,
   "metadata": {
    "ExecuteTime": {
     "end_time": "2019-12-13T20:08:04.682722Z",
     "start_time": "2019-12-13T20:08:04.582630Z"
    }
   },
   "outputs": [],
   "source": [
    "num = \"53504.005855/2019-31\"\n",
    "p = s.go_to_processo(num)"
   ]
  },
  {
   "cell_type": "code",
   "execution_count": null,
   "metadata": {
    "ExecuteTime": {
     "end_time": "2019-12-13T20:02:56.964613Z",
     "start_time": "2019-12-13T20:02:56.856472Z"
    }
   },
   "outputs": [],
   "source": [
    "p.is_open(\"GR01FI3\")"
   ]
  },
  {
   "cell_type": "code",
   "execution_count": null,
   "metadata": {
    "ExecuteTime": {
     "end_time": "2019-12-13T20:31:33.438957Z",
     "start_time": "2019-12-13T20:31:33.263342Z"
    }
   },
   "outputs": [],
   "source": [
    "p.is_open(\"GR01OR\")"
   ]
  },
  {
   "cell_type": "code",
   "execution_count": null,
   "metadata": {
    "ExecuteTime": {
     "end_time": "2019-12-13T20:41:39.057056Z",
     "start_time": "2019-12-13T20:41:38.748537Z"
    }
   },
   "outputs": [],
   "source": [
    "p.concluir_processo()"
   ]
  },
  {
   "cell_type": "code",
   "execution_count": null,
   "metadata": {
    "ExecuteTime": {
     "end_time": "2019-12-13T20:42:03.245774Z",
     "start_time": "2019-12-13T20:41:58.111030Z"
    }
   },
   "outputs": [],
   "source": [
    "p.abrir_processo()"
   ]
  },
  {
   "cell_type": "code",
   "execution_count": null,
   "metadata": {
    "ExecuteTime": {
     "end_time": "2019-12-13T20:31:54.019109Z",
     "start_time": "2019-12-13T20:31:48.637643Z"
    }
   },
   "outputs": [],
   "source": [
    "p._click_na_arvore('5023038')"
   ]
  },
  {
   "cell_type": "code",
   "execution_count": null,
   "metadata": {},
   "outputs": [],
   "source": [
    "p.incluir_documento('Externo')"
   ]
  },
  {
   "cell_type": "code",
   "execution_count": null,
   "metadata": {},
   "outputs": [],
   "source": [
    "p.page.timeout = 2"
   ]
  },
  {
   "cell_type": "code",
   "execution_count": null,
   "metadata": {
    "ExecuteTime": {
     "end_time": "2019-12-13T20:36:19.679810Z",
     "start_time": "2019-12-13T20:36:03.849411Z"
    }
   },
   "outputs": [],
   "source": [
    "p.send_doc_por_email('5023038', ('', \"Teste\", \"Medição RFeye\"))"
   ]
  },
  {
   "cell_type": "code",
   "execution_count": null,
   "metadata": {
    "ExecuteTime": {
     "end_time": "2019-09-19T18:15:21.596784Z",
     "start_time": "2019-09-19T18:15:16.171056Z"
    }
   },
   "outputs": [],
   "source": [
    "p.abrir_pastas()"
   ]
  },
  {
   "cell_type": "code",
   "execution_count": null,
   "metadata": {
    "ExecuteTime": {
     "end_time": "2019-09-19T20:53:13.569874Z",
     "start_time": "2019-09-19T20:53:08.130360Z"
    }
   },
   "outputs": [],
   "source": [
    "p._get_acoes('0177509')"
   ]
  },
  {
   "cell_type": "code",
   "execution_count": null,
   "metadata": {
    "ExecuteTime": {
     "end_time": "2019-09-19T18:04:27.715158Z",
     "start_time": "2019-09-19T18:04:07.140573Z"
    },
    "lines_to_next_cell": 2
   },
   "outputs": [],
   "source": [
    "p.is_open()"
   ]
  }
 ],
 "metadata": {
  "jupytext": {
   "encoding": "# -*- coding: utf-8 -*-"
  },
  "kernelspec": {
   "display_name": "anatelbot",
   "language": "python",
   "name": "anatelbot"
  },
  "language_info": {
   "codemirror_mode": {
    "name": "ipython",
    "version": 3
   },
   "file_extension": ".py",
   "mimetype": "text/x-python",
   "name": "python",
   "nbconvert_exporter": "python",
   "pygments_lexer": "ipython3",
   "version": "3.7.5"
  },
  "nbTranslate": {
   "displayLangs": [
    "*"
   ],
   "hotkey": "alt-t",
   "langInMainMenu": true,
   "sourceLang": "en",
   "targetLang": "pt",
   "useGoogleTranslate": true
  },
  "pycharm": {
   "stem_cell": {
    "cell_type": "raw",
    "metadata": {
     "collapsed": false
    },
    "source": []
   }
  },
  "toc": {
   "base_numbering": 1,
   "nav_menu": {},
   "number_sections": true,
   "sideBar": true,
   "skip_h1_title": false,
   "title_cell": "Table of Contents",
   "title_sidebar": "Contents",
   "toc_cell": false,
   "toc_position": {},
   "toc_section_display": true,
   "toc_window_display": false
  },
  "varInspector": {
   "cols": {
    "lenName": 16,
    "lenType": 16,
    "lenVar": 40
   },
   "kernels_config": {
    "python": {
     "delete_cmd_postfix": "",
     "delete_cmd_prefix": "del ",
     "library": "var_list.py",
     "varRefreshCmd": "print(var_dic_list())"
    },
    "r": {
     "delete_cmd_postfix": ") ",
     "delete_cmd_prefix": "rm(",
     "library": "var_list.r",
     "varRefreshCmd": "cat(var_dic_list()) "
    }
   },
   "types_to_exclude": [
    "module",
    "function",
    "builtin_function_or_method",
    "instance",
    "_Feature"
   ],
   "window_display": false
  }
 },
 "nbformat": 4,
 "nbformat_minor": 2
}
