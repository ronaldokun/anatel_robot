{
 "cells": [
  {
   "cell_type": "code",
   "execution_count": 1,
   "metadata": {
    "ExecuteTime": {
     "end_time": "2018-09-03T18:13:02.091481Z",
     "start_time": "2018-09-03T18:12:58.706543Z"
    }
   },
   "outputs": [],
   "source": [
    "import os\n",
    "import gc\n",
    "\n",
    "import pandas as pd\n",
    "import gspread_dataframe as gs\n",
    "import pyperclip as clip # copiar o texto clipboard\n",
    "from time import sleep\n",
    "from selenium.webdriver.support.ui import Select\n",
    "from selenium.webdriver.common.by import By\n",
    "from bs4 import BeautifulSoup as soup\n",
    "\n",
    "import random\n",
    "\n",
    "# Change the directory to reflect the main repository\n",
    "os.chdir(\"C:/Users/rsilva/gdrive/projects/programming/automation\")\n",
    "\n",
    "#import sistemas\n",
    "import sei.sei as sei \n",
    "import functions\n",
    "import page\n",
    "from page import *\n",
    "import sei.sei_helpers as helpers\n",
    "\n",
    "% reload_ext autoreload\n",
    "% autoreload 2"
   ]
  },
  {
   "cell_type": "code",
   "execution_count": 2,
   "metadata": {
    "ExecuteTime": {
     "end_time": "2018-09-03T18:13:03.761859Z",
     "start_time": "2018-09-03T18:13:02.091481Z"
    }
   },
   "outputs": [],
   "source": [
    "gc = functions.authenticate_google(\"files/anatel.json\")"
   ]
  },
  {
   "cell_type": "code",
   "execution_count": 8,
   "metadata": {
    "ExecuteTime": {
     "end_time": "2018-09-03T18:14:19.400737Z",
     "start_time": "2018-09-03T18:14:19.113742Z"
    }
   },
   "outputs": [],
   "source": [
    "PATH = os.path.abspath(r'S:\\PUBLICO\\Outorga 3º Andar\\Provas de Radioamador\\01.09\\Classe B')"
   ]
  },
  {
   "cell_type": "code",
   "execution_count": 3,
   "metadata": {
    "ExecuteTime": {
     "end_time": "2018-09-03T18:13:03.966859Z",
     "start_time": "2018-09-03T18:13:03.763859Z"
    }
   },
   "outputs": [],
   "source": [
    "#PATH = os.path.abspath(r\"C:\\Users\\rsilva\\Desktop\\SEI\")\n",
    "#HOME = os.path.abspath(\"C:/Users/rsilva/gdrive/projects/programming/automation/\")\n",
    "\n",
    "keys = ('Nome/Razão Social', 'Logradouro', 'Número', 'Complemento', 'Bairro', 'Cep', 'Município', 'UF', 'Número Fistel')\n",
    "\n",
    "def string_endereço(dados):\n",
    "    \n",
    "    d = {}\n",
    "    \n",
    "    s = 'A(o)<br>' \n",
    "    \n",
    "    s += dados[\"Nome/Razão Social\"].title()\n",
    "    \n",
    "    s += '<br>' + dados[\"Logradouro\"].title() + \", \" + dados[\"Número\"] + \" \" \n",
    "    \n",
    "    s += dados[\"Complemento\"].title() + \" \" \n",
    "    \n",
    "    s += dados[\"Bairro\"].title() + '<br>' \n",
    "    \n",
    "    s += \"CEP: \" + dados[\"Cep\"] + \" - \" + dados[\"Município\"].title() + \" - \" + dados[\"UF\"] \n",
    "            \n",
    "    s += \"<br><br>\" + \"<b>FISTEL: \" + dados[\"Número Fistel\"] + \"</b>\"\n",
    "    \n",
    "    d[\"A\"] = s\n",
    "    \n",
    "    return d\n",
    "\n",
    "def lastRow(ws, col=2):\n",
    "    \"\"\" Find the last row in the worksheet that contains data.\n",
    "\n",
    "    idx: Specifies the worksheet to select. Starts counting from zero.\n",
    "\n",
    "    workbook: Specifies the workbook\n",
    "\n",
    "    col: The column in which to look for the last cell containing data.\n",
    "    \"\"\"\n",
    "\n",
    "    #ws = workbook.sheets[idx]\n",
    "\n",
    "    lwr_r_cell = ws.cells.last_cell      # lower right cell\n",
    "    lwr_row = lwr_r_cell.row             # row of the lower right cell\n",
    "    lwr_cell = ws.range((lwr_row, col))  # change to your specified column\n",
    "\n",
    "    if lwr_cell.value is None:\n",
    "        lwr_cell = lwr_cell.end('up')    # go up untill you hit a non-empty cell\n",
    "\n",
    "    return lwr_cell.row"
   ]
  },
  {
   "cell_type": "code",
   "execution_count": 4,
   "metadata": {
    "ExecuteTime": {
     "end_time": "2018-09-03T18:13:12.448213Z",
     "start_time": "2018-09-03T18:13:03.968859Z"
    }
   },
   "outputs": [],
   "source": [
    "usr = \"rsilva\"\n",
    "pwd = \"Savorthemom3nts\"\n",
    "sei_ = sei.login_sei(webdriver.Firefox(), usr, pwd)"
   ]
  },
  {
   "cell_type": "code",
   "execution_count": 34,
   "metadata": {
    "ExecuteTime": {
     "end_time": "2018-08-28T16:30:19.656123Z",
     "start_time": "2018-08-28T16:30:00.352123Z"
    }
   },
   "outputs": [],
   "source": [
    "sei_.itera_processos()"
   ]
  },
  {
   "cell_type": "code",
   "execution_count": 5,
   "metadata": {
    "ExecuteTime": {
     "end_time": "2018-09-03T18:13:15.646213Z",
     "start_time": "2018-09-03T18:13:15.371213Z"
    }
   },
   "outputs": [],
   "source": [
    "proc = \"53504.006252/2018-75\""
   ]
  },
  {
   "cell_type": "code",
   "execution_count": 18,
   "metadata": {
    "ExecuteTime": {
     "end_time": "2018-09-03T18:43:06.715265Z",
     "start_time": "2018-09-03T18:43:06.402265Z"
    }
   },
   "outputs": [],
   "source": [
    "p = sei_.go_to_processo(proc)"
   ]
  },
  {
   "cell_type": "code",
   "execution_count": 13,
   "metadata": {
    "ExecuteTime": {
     "end_time": "2018-09-03T18:36:26.159765Z",
     "start_time": "2018-09-03T18:36:25.908765Z"
    }
   },
   "outputs": [
    {
     "data": {
      "text/plain": [
       "['AGUITON NEVES.pdf',\n",
       " 'ALEXANDRE MANTOANELLI.pdf',\n",
       " 'ALEXANDRE TADEU MOLINA.pdf',\n",
       " 'ALEXANDRE TURATI.pdf',\n",
       " 'ALEXSANDRO CARVALHO DOS REIS.pdf',\n",
       " 'AMAURI GERALDO GOMES DE ABREU.pdf',\n",
       " 'ANDERSON ANDRADE ALENCAR.pdf',\n",
       " 'ANDRE LUIZ MAFRA DE BEM.pdf',\n",
       " 'ANTONIO CARLOS MARCOLA JUNIOR.pdf',\n",
       " 'ANTONIO CORSI FERREIRA.pdf',\n",
       " 'ARMANDO NERY SIGNORINI.pdf',\n",
       " 'ARTHUR DE ARRUDA LEME DE VASCONCELLOS.pdf',\n",
       " 'BENEDITO TEODORO.pdf',\n",
       " 'BRUNO AZEREDO DE OLIVEIRA.pdf',\n",
       " 'CARLOS ALBERTO DIAS FONTANA.pdf',\n",
       " 'CARLOS APARECIDO GIOVANINI.pdf',\n",
       " 'CARLOS ROBERTO GALHARDO.pdf',\n",
       " 'CLAUDIO DE SOUZA FILHO.pdf',\n",
       " 'DACIO FIGUEIREDO FILHO.pdf',\n",
       " 'DAVID TREVISAN.pdf',\n",
       " 'DAVILSON SALES.pdf',\n",
       " 'DIEGO PADOVANI.pdf',\n",
       " 'EDGARD PEREIRA TORRIANI.pdf',\n",
       " 'EDSON BERTOLDO ALVES.pdf',\n",
       " 'EGIDIO DRAUZIO DE MELO.pdf',\n",
       " 'FABIO PASOTTI COLOZZA.pdf',\n",
       " 'GABRIEL SPINDOLA RIBEIRO.pdf',\n",
       " 'GLAYTON VINICIUS DAMASO.pdf',\n",
       " 'GUILLERMO CREMERIUS.pdf',\n",
       " 'HALEY MARCOS DE ALMEIDA.pdf',\n",
       " 'HELDER VITOR TERRA.pdf',\n",
       " 'HUGO BENEDITO MARCAL FERREIRA.pdf',\n",
       " 'JONAS FRANCISCO ROCHA.pdf',\n",
       " 'JOSE ARAUJO NETO.pdf',\n",
       " 'JOSE ROBERTO SILVA.pdf',\n",
       " 'LUCIANO GERALDO VITOR DA SILVA.pdf',\n",
       " 'MARCELO MINELLI RUIZ.pdf',\n",
       " 'MARIA SILVIA GIANOTTI DELANGELICA.pdf',\n",
       " 'MATHEUS EVARISTO FOGAROLLI.pdf',\n",
       " 'NELSON TADEU ALMEIDA.pdf',\n",
       " 'PEDRO MAURICIO CORDEIRO PIOLI.pdf',\n",
       " 'RAFAEL MALAGUTTI SILVA.pdf',\n",
       " 'ROBERTO BUENO DA SILVA.pdf',\n",
       " 'SERGIO DA SILVA SOARES.pdf',\n",
       " 'SIDNEY BARBOSA.pdf',\n",
       " 'THERESA CRISTTINA DAMASO.pdf',\n",
       " 'Thumbs.db',\n",
       " 'VALDECIR RIBEIRO.pdf',\n",
       " 'WALDECY FERREIRA SENHORINHA.pdf',\n",
       " 'WILLIAM FRUTUOSO.pdf']"
      ]
     },
     "execution_count": 13,
     "metadata": {},
     "output_type": "execute_result"
    }
   ],
   "source": [
    "files = sorted(os.listdir(PATH))\n",
    "#file = os.path.join(PATH, files[-1])\n",
    "files"
   ]
  },
  {
   "cell_type": "code",
   "execution_count": 14,
   "metadata": {
    "ExecuteTime": {
     "end_time": "2018-09-03T18:36:49.636265Z",
     "start_time": "2018-09-03T18:36:49.387765Z"
    }
   },
   "outputs": [
    {
     "data": {
      "text/plain": [
       "['AGUITON NEVES.pdf',\n",
       " 'ALEXANDRE MANTOANELLI.pdf',\n",
       " 'ALEXANDRE TADEU MOLINA.pdf',\n",
       " 'ALEXANDRE TURATI.pdf',\n",
       " 'ALEXSANDRO CARVALHO DOS REIS.pdf',\n",
       " 'AMAURI GERALDO GOMES DE ABREU.pdf',\n",
       " 'ANDERSON ANDRADE ALENCAR.pdf',\n",
       " 'ANDRE LUIZ MAFRA DE BEM.pdf',\n",
       " 'ANTONIO CARLOS MARCOLA JUNIOR.pdf',\n",
       " 'ANTONIO CORSI FERREIRA.pdf',\n",
       " 'ARMANDO NERY SIGNORINI.pdf',\n",
       " 'ARTHUR DE ARRUDA LEME DE VASCONCELLOS.pdf',\n",
       " 'BENEDITO TEODORO.pdf',\n",
       " 'BRUNO AZEREDO DE OLIVEIRA.pdf',\n",
       " 'CARLOS ALBERTO DIAS FONTANA.pdf',\n",
       " 'CARLOS APARECIDO GIOVANINI.pdf',\n",
       " 'CARLOS ROBERTO GALHARDO.pdf',\n",
       " 'CLAUDIO DE SOUZA FILHO.pdf',\n",
       " 'DACIO FIGUEIREDO FILHO.pdf',\n",
       " 'DAVID TREVISAN.pdf',\n",
       " 'DAVILSON SALES.pdf',\n",
       " 'DIEGO PADOVANI.pdf',\n",
       " 'EDGARD PEREIRA TORRIANI.pdf',\n",
       " 'EDSON BERTOLDO ALVES.pdf',\n",
       " 'EGIDIO DRAUZIO DE MELO.pdf',\n",
       " 'FABIO PASOTTI COLOZZA.pdf',\n",
       " 'GABRIEL SPINDOLA RIBEIRO.pdf',\n",
       " 'GLAYTON VINICIUS DAMASO.pdf',\n",
       " 'GUILLERMO CREMERIUS.pdf',\n",
       " 'HALEY MARCOS DE ALMEIDA.pdf',\n",
       " 'HELDER VITOR TERRA.pdf',\n",
       " 'HUGO BENEDITO MARCAL FERREIRA.pdf',\n",
       " 'JONAS FRANCISCO ROCHA.pdf',\n",
       " 'JOSE ARAUJO NETO.pdf',\n",
       " 'JOSE ROBERTO SILVA.pdf',\n",
       " 'LUCIANO GERALDO VITOR DA SILVA.pdf',\n",
       " 'MARCELO MINELLI RUIZ.pdf',\n",
       " 'MARIA SILVIA GIANOTTI DELANGELICA.pdf',\n",
       " 'MATHEUS EVARISTO FOGAROLLI.pdf',\n",
       " 'NELSON TADEU ALMEIDA.pdf',\n",
       " 'PEDRO MAURICIO CORDEIRO PIOLI.pdf',\n",
       " 'RAFAEL MALAGUTTI SILVA.pdf',\n",
       " 'ROBERTO BUENO DA SILVA.pdf',\n",
       " 'SERGIO DA SILVA SOARES.pdf',\n",
       " 'SIDNEY BARBOSA.pdf',\n",
       " 'THERESA CRISTTINA DAMASO.pdf',\n",
       " 'VALDECIR RIBEIRO.pdf',\n",
       " 'WALDECY FERREIRA SENHORINHA.pdf',\n",
       " 'WILLIAM FRUTUOSO.pdf']"
      ]
     },
     "execution_count": 14,
     "metadata": {},
     "output_type": "execute_result"
    }
   ],
   "source": [
    "files.remove(\"Thumbs.db\")"
   ]
  },
  {
   "cell_type": "code",
   "execution_count": 25,
   "metadata": {
    "ExecuteTime": {
     "end_time": "2018-09-03T19:02:08.041261Z",
     "start_time": "2018-09-03T18:59:32.481261Z"
    }
   },
   "outputs": [],
   "source": [
    "for file in files[1:2]:\n",
    "    p.incluir_doc_externo(\"Prova\", os.path.join(PATH, file), arvore=file.split('.pdf')[0])\n",
    "    p = sei_.go_to_processo(proc)"
   ]
  },
  {
   "cell_type": "code",
   "execution_count": 38,
   "metadata": {
    "ExecuteTime": {
     "end_time": "2018-08-28T16:48:17.952123Z",
     "start_time": "2018-08-28T16:48:16.915123Z"
    }
   },
   "outputs": [
    {
     "ename": "AttributeError",
     "evalue": "'NavigableString' object has no attribute 'text'",
     "output_type": "error",
     "traceback": [
      "\u001b[1;31m---------------------------------------------------------------------------\u001b[0m",
      "\u001b[1;31mAttributeError\u001b[0m                            Traceback (most recent call last)",
      "\u001b[1;32m<ipython-input-38-f07325dc612f>\u001b[0m in \u001b[0;36m<module>\u001b[1;34m()\u001b[0m\n\u001b[1;32m----> 1\u001b[1;33m \u001b[0mp\u001b[0m\u001b[1;33m.\u001b[0m\u001b[0mincluir_doc_externo\u001b[0m\u001b[1;33m(\u001b[0m\u001b[1;34m\"Solicitação\"\u001b[0m\u001b[1;33m,\u001b[0m \u001b[0mfile\u001b[0m\u001b[1;33m,\u001b[0m \u001b[0marvore\u001b[0m\u001b[1;33m=\u001b[0m\u001b[1;34m\"de Inscrição de Menor\"\u001b[0m\u001b[1;33m)\u001b[0m\u001b[1;33m\u001b[0m\u001b[0m\n\u001b[0m",
      "\u001b[1;32m~\\gdrive\\projects\\programming\\automation\\sei\\sei.py\u001b[0m in \u001b[0;36mincluir_doc_externo\u001b[1;34m(self, tipo, path, arvore, formato, acesso, hipotese)\u001b[0m\n\u001b[0;32m   1048\u001b[0m         \u001b[1;31m#    raise ValueError(\"Tipo de Documento Externo Inválido: {}\".format(tipo))\u001b[0m\u001b[1;33m\u001b[0m\u001b[1;33m\u001b[0m\u001b[0m\n\u001b[0;32m   1049\u001b[0m \u001b[1;33m\u001b[0m\u001b[0m\n\u001b[1;32m-> 1050\u001b[1;33m         \u001b[0mself\u001b[0m\u001b[1;33m.\u001b[0m\u001b[0m_incluir_documento\u001b[0m\u001b[1;33m(\u001b[0m\u001b[1;34m\"Externo\"\u001b[0m\u001b[1;33m)\u001b[0m\u001b[1;33m\u001b[0m\u001b[0m\n\u001b[0m\u001b[0;32m   1051\u001b[0m \u001b[1;33m\u001b[0m\u001b[0m\n\u001b[0;32m   1052\u001b[0m         \u001b[0mself\u001b[0m\u001b[1;33m.\u001b[0m\u001b[0m_select_by_text\u001b[0m\u001b[1;33m(\u001b[0m\u001b[0mhelper\u001b[0m\u001b[1;33m.\u001b[0m\u001b[0mget\u001b[0m\u001b[1;33m(\u001b[0m\u001b[1;34m'id_tipo'\u001b[0m\u001b[1;33m)\u001b[0m\u001b[1;33m,\u001b[0m \u001b[0mtipo\u001b[0m\u001b[1;33m)\u001b[0m\u001b[1;33m\u001b[0m\u001b[0m\n",
      "\u001b[1;32m~\\gdrive\\projects\\programming\\automation\\sei\\sei.py\u001b[0m in \u001b[0;36m_incluir_documento\u001b[1;34m(self, tipo)\u001b[0m\n\u001b[0;32m    965\u001b[0m             \u001b[1;32mraise\u001b[0m \u001b[0mValueError\u001b[0m\u001b[1;33m(\u001b[0m\u001b[1;34m\"Tipo de Documento inválido: {}\"\u001b[0m\u001b[1;33m.\u001b[0m\u001b[0mformat\u001b[0m\u001b[1;33m(\u001b[0m\u001b[0mtipo\u001b[0m\u001b[1;33m)\u001b[0m\u001b[1;33m)\u001b[0m\u001b[1;33m\u001b[0m\u001b[0m\n\u001b[0;32m    966\u001b[0m \u001b[1;33m\u001b[0m\u001b[0m\n\u001b[1;32m--> 967\u001b[1;33m         \u001b[0mlink\u001b[0m \u001b[1;33m=\u001b[0m \u001b[0mself\u001b[0m\u001b[1;33m.\u001b[0m\u001b[0m_get_acoes\u001b[0m\u001b[1;33m(\u001b[0m\u001b[1;33m)\u001b[0m\u001b[1;33m.\u001b[0m\u001b[0mget\u001b[0m\u001b[1;33m(\u001b[0m\u001b[1;34m'Incluir Documento'\u001b[0m\u001b[1;33m)\u001b[0m\u001b[1;33m\u001b[0m\u001b[0m\n\u001b[0m\u001b[0;32m    968\u001b[0m \u001b[1;33m\u001b[0m\u001b[0m\n\u001b[0;32m    969\u001b[0m         \u001b[1;32mif\u001b[0m \u001b[0mlink\u001b[0m \u001b[1;32mis\u001b[0m \u001b[1;32mnot\u001b[0m \u001b[1;32mNone\u001b[0m\u001b[1;33m:\u001b[0m\u001b[1;33m\u001b[0m\u001b[0m\n",
      "\u001b[1;32m~\\gdrive\\projects\\programming\\automation\\sei\\sei.py\u001b[0m in \u001b[0;36m_get_acoes\u001b[1;34m(self, doc)\u001b[0m\n\u001b[0;32m    567\u001b[0m         \u001b[1;32mif\u001b[0m \u001b[0mdoc\u001b[0m \u001b[1;32mis\u001b[0m \u001b[1;32mNone\u001b[0m\u001b[1;33m:\u001b[0m\u001b[1;33m\u001b[0m\u001b[0m\n\u001b[0;32m    568\u001b[0m \u001b[1;33m\u001b[0m\u001b[0m\n\u001b[1;32m--> 569\u001b[1;33m             \u001b[0mself\u001b[0m\u001b[1;33m.\u001b[0m\u001b[0m_click_na_arvore\u001b[0m\u001b[1;33m(\u001b[0m\u001b[0mself\u001b[0m\u001b[1;33m.\u001b[0m\u001b[0mnumero\u001b[0m\u001b[1;33m)\u001b[0m\u001b[1;33m\u001b[0m\u001b[0m\n\u001b[0m\u001b[0;32m    570\u001b[0m \u001b[1;33m\u001b[0m\u001b[0m\n\u001b[0;32m    571\u001b[0m         \u001b[1;32melse\u001b[0m\u001b[1;33m:\u001b[0m\u001b[1;33m\u001b[0m\u001b[0m\n",
      "\u001b[1;32m~\\gdrive\\projects\\programming\\automation\\sei\\sei.py\u001b[0m in \u001b[0;36m_click_na_arvore\u001b[1;34m(self, label)\u001b[0m\n\u001b[0;32m    632\u001b[0m     \u001b[1;32mdef\u001b[0m \u001b[0m_click_na_arvore\u001b[0m\u001b[1;33m(\u001b[0m\u001b[0mself\u001b[0m\u001b[1;33m,\u001b[0m \u001b[0mlabel\u001b[0m\u001b[1;33m)\u001b[0m\u001b[1;33m:\u001b[0m\u001b[1;33m\u001b[0m\u001b[0m\n\u001b[0;32m    633\u001b[0m \u001b[1;33m\u001b[0m\u001b[0m\n\u001b[1;32m--> 634\u001b[1;33m         \u001b[0mtree\u001b[0m \u001b[1;33m=\u001b[0m \u001b[0mself\u001b[0m\u001b[1;33m.\u001b[0m\u001b[0marmazena_arvore\u001b[0m\u001b[1;33m(\u001b[0m\u001b[1;33m)\u001b[0m\u001b[1;33m\u001b[0m\u001b[0m\n\u001b[0m\u001b[0;32m    635\u001b[0m \u001b[1;33m\u001b[0m\u001b[0m\n\u001b[0;32m    636\u001b[0m         \u001b[1;31m# self.armazena_arvore updates self.arvore dict and return it\u001b[0m\u001b[1;33m\u001b[0m\u001b[1;33m\u001b[0m\u001b[0m\n",
      "\u001b[1;32m~\\gdrive\\projects\\programming\\automation\\sei\\sei.py\u001b[0m in \u001b[0;36marmazena_arvore\u001b[1;34m(self)\u001b[0m\n\u001b[0;32m    622\u001b[0m             \u001b[1;32mfor\u001b[0m \u001b[0mtag\u001b[0m \u001b[1;32min\u001b[0m \u001b[0mtree\u001b[0m\u001b[1;33m.\u001b[0m\u001b[0mfind_all\u001b[0m\u001b[1;33m(\u001b[0m\u001b[1;34m'a'\u001b[0m\u001b[1;33m,\u001b[0m \u001b[0mtarget\u001b[0m\u001b[1;33m=\u001b[0m\u001b[1;32mTrue\u001b[0m\u001b[1;33m)\u001b[0m\u001b[1;33m:\u001b[0m\u001b[1;33m\u001b[0m\u001b[0m\n\u001b[0;32m    623\u001b[0m \u001b[1;33m\u001b[0m\u001b[0m\n\u001b[1;32m--> 624\u001b[1;33m                 \u001b[0mlabel\u001b[0m \u001b[1;33m=\u001b[0m \u001b[0mtag\u001b[0m\u001b[1;33m.\u001b[0m\u001b[0mcontents\u001b[0m\u001b[1;33m[\u001b[0m\u001b[1;36m0\u001b[0m\u001b[1;33m]\u001b[0m\u001b[1;33m.\u001b[0m\u001b[0mtext\u001b[0m\u001b[1;33m.\u001b[0m\u001b[0mstrip\u001b[0m\u001b[1;33m(\u001b[0m\u001b[1;33m)\u001b[0m\u001b[1;33m\u001b[0m\u001b[0m\n\u001b[0m\u001b[0;32m    625\u001b[0m \u001b[1;33m\u001b[0m\u001b[0m\n\u001b[0;32m    626\u001b[0m                 \u001b[1;32mif\u001b[0m \u001b[0mlabel\u001b[0m \u001b[1;33m!=\u001b[0m \u001b[1;34m\"\"\u001b[0m\u001b[1;33m:\u001b[0m\u001b[1;33m\u001b[0m\u001b[0m\n",
      "\u001b[1;32m~\\miniconda3\\envs\\automation\\lib\\site-packages\\bs4\\element.py\u001b[0m in \u001b[0;36m__getattr__\u001b[1;34m(self, attr)\u001b[0m\n\u001b[0;32m    735\u001b[0m             raise AttributeError(\n\u001b[0;32m    736\u001b[0m                 \"'%s' object has no attribute '%s'\" % (\n\u001b[1;32m--> 737\u001b[1;33m                     self.__class__.__name__, attr))\n\u001b[0m\u001b[0;32m    738\u001b[0m \u001b[1;33m\u001b[0m\u001b[0m\n\u001b[0;32m    739\u001b[0m     \u001b[1;32mdef\u001b[0m \u001b[0moutput_ready\u001b[0m\u001b[1;33m(\u001b[0m\u001b[0mself\u001b[0m\u001b[1;33m,\u001b[0m \u001b[0mformatter\u001b[0m\u001b[1;33m=\u001b[0m\u001b[1;34m\"minimal\"\u001b[0m\u001b[1;33m)\u001b[0m\u001b[1;33m:\u001b[0m\u001b[1;33m\u001b[0m\u001b[0m\n",
      "\u001b[1;31mAttributeError\u001b[0m: 'NavigableString' object has no attribute 'text'"
     ]
    }
   ],
   "source": [
    "p.incluir_doc_externo(\"Solicitação\", file, arvore=\"de Inscrição de Menor\")"
   ]
  },
  {
   "cell_type": "code",
   "execution_count": null,
   "metadata": {},
   "outputs": [],
   "source": [
    "windows = sei_.driver.window_handles\n",
    "\n",
    "sei_.driver.switch_to_window(windows[0])\n",
    "\n",
    "sei_.driver.switch_to.default_content()"
   ]
  }
 ],
 "metadata": {
  "kernelspec": {
   "display_name": "Python 3",
   "language": "python",
   "name": "python3"
  },
  "language_info": {
   "codemirror_mode": {
    "name": "ipython",
    "version": 3
   },
   "file_extension": ".py",
   "mimetype": "text/x-python",
   "name": "python",
   "nbconvert_exporter": "python",
   "pygments_lexer": "ipython3",
   "version": "3.5.4"
  },
  "toc": {
   "base_numbering": 1,
   "nav_menu": {},
   "number_sections": true,
   "sideBar": true,
   "skip_h1_title": false,
   "title_cell": "Table of Contents",
   "title_sidebar": "Contents",
   "toc_cell": false,
   "toc_position": {},
   "toc_section_display": true,
   "toc_window_display": false
  }
 },
 "nbformat": 4,
 "nbformat_minor": 2
}
