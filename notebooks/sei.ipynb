{
 "cells": [
  {
   "cell_type": "code",
   "execution_count": 1,
   "metadata": {},
   "outputs": [],
   "source": [
    "import os\n",
    "\n",
    "import pandas as pd\n",
    "import gspread_dataframe as gs\n",
    "import pyperclip as clip # copiar o texto clipboard\n",
    "from time import sleep\n",
    "from selenium.webdriver.support.ui import Select\n",
    "from selenium.webdriver.common.by import By\n",
    "\n",
    "import random\n",
    "\n",
    "\n",
    "\n",
    "\n",
    "# Change the directory to reflect the main repository\n",
    "os.chdir(\"C:/Users/rsilva/Google Drive/projects/programming/automation\")\n",
    "\n",
    "#import sistemas\n",
    "import sei\n",
    "import functions\n",
    "import page\n",
    "from page import *\n",
    "import helpers\n",
    "\n",
    "% reload_ext autoreload\n",
    "% autoreload 2"
   ]
  },
  {
   "cell_type": "code",
   "execution_count": 4,
   "metadata": {},
   "outputs": [],
   "source": [
    "TAGS = [\"@nome_interessado_maiusculas@\", \"@endereco_destinatario@\", \"@bairro_destinatario@\", \"@cep_destinatario@\", \"@cidade_destinatario@\", \"@validade@\"]\n",
    "VALUES = [\"Nome\", \"Logradouro\", [\"Número\", \"Complemento\", \"Bairro\"], \"Cep\", \"Cidade\", \"Validade\"]"
   ]
  },
  {
   "cell_type": "code",
   "execution_count": 18,
   "metadata": {},
   "outputs": [],
   "source": [
    "numero = \"53504.006243/2018-84\""
   ]
  },
  {
   "cell_type": "code",
   "execution_count": 19,
   "metadata": {},
   "outputs": [],
   "source": [
    "gc = functions.authenticate_google(\"files/anatel.json\")\n",
    "wb = gc.open(title=numero)"
   ]
  },
  {
   "cell_type": "code",
   "execution_count": 20,
   "metadata": {},
   "outputs": [],
   "source": [
    "sht = wb.get_worksheet(0)"
   ]
  },
  {
   "cell_type": "code",
   "execution_count": 21,
   "metadata": {},
   "outputs": [],
   "source": [
    "df = gs.get_as_dataframe(sht, dtype=str)[:18]"
   ]
  },
  {
   "cell_type": "code",
   "execution_count": 22,
   "metadata": {},
   "outputs": [
    {
     "data": {
      "text/html": [
       "<div>\n",
       "<style scoped>\n",
       "    .dataframe tbody tr th:only-of-type {\n",
       "        vertical-align: middle;\n",
       "    }\n",
       "\n",
       "    .dataframe tbody tr th {\n",
       "        vertical-align: top;\n",
       "    }\n",
       "\n",
       "    .dataframe thead th {\n",
       "        text-align: right;\n",
       "    }\n",
       "</style>\n",
       "<table border=\"1\" class=\"dataframe\">\n",
       "  <thead>\n",
       "    <tr style=\"text-align: right;\">\n",
       "      <th></th>\n",
       "      <th>CPF</th>\n",
       "      <th>NOME</th>\n",
       "      <th>FISTEL</th>\n",
       "      <th>Validade</th>\n",
       "      <th>FILTRO</th>\n",
       "      <th>End_Sede</th>\n",
       "      <th>End_Correspond.</th>\n",
       "      <th>Situação</th>\n",
       "      <th>Devedor</th>\n",
       "      <th>CPF.1</th>\n",
       "      <th>...</th>\n",
       "      <th>Título de Eleitor</th>\n",
       "      <th>Situação Cadastral</th>\n",
       "      <th>Fone</th>\n",
       "      <th>Logradouro</th>\n",
       "      <th>Número</th>\n",
       "      <th>Complemento</th>\n",
       "      <th>Bairro</th>\n",
       "      <th>Cidade</th>\n",
       "      <th>Cep</th>\n",
       "      <th>Endereço_Completo</th>\n",
       "    </tr>\n",
       "  </thead>\n",
       "  <tbody>\n",
       "    <tr>\n",
       "      <th>0</th>\n",
       "      <td>05234775895</td>\n",
       "      <td>ABILIO GONCALVES PRETO</td>\n",
       "      <td>02035661307</td>\n",
       "      <td>28/08/2017</td>\n",
       "      <td>=B2=K2</td>\n",
       "      <td>RUA HUMBERTO GOZZO 120, .\\n- PQ GLORIA\\nCEP: 1...</td>\n",
       "      <td>RUA URUGUAI 62  VILA JUCA PEDRO \\n CEP:  15800...</td>\n",
       "      <td>Atenção: Entidade devedora (Não bloqueada)</td>\n",
       "      <td>Sim</td>\n",
       "      <td>052.347.758-95</td>\n",
       "      <td>...</td>\n",
       "      <td>0019319610141</td>\n",
       "      <td>REGULAR</td>\n",
       "      <td>35248858</td>\n",
       "      <td>RUA URUGUAI</td>\n",
       "      <td>62</td>\n",
       "      <td></td>\n",
       "      <td>VILA JUCA PEDRO</td>\n",
       "      <td>CATANDUVA/SP</td>\n",
       "      <td>15800-420</td>\n",
       "      <td>RUA URUGUAI 62  VILA JUCA PEDRO \\n CEP: 15800-...</td>\n",
       "    </tr>\n",
       "    <tr>\n",
       "      <th>1</th>\n",
       "      <td>27573375808</td>\n",
       "      <td>ALAN TEIXEIRAO HECKERT</td>\n",
       "      <td>80106161687</td>\n",
       "      <td>04/09/2017</td>\n",
       "      <td>=B3=K3</td>\n",
       "      <td>AVENIDA INDEPENDENCIA, 75\\n- CIDADE NOVA\\nCEP:...</td>\n",
       "      <td>AVENIDA BRIGIDO MARCASSA 945  JARDIM PACAEMBU ...</td>\n",
       "      <td>Entidade não possui débitos</td>\n",
       "      <td>Não</td>\n",
       "      <td>275.733.758-08</td>\n",
       "      <td>...</td>\n",
       "      <td>278549690116</td>\n",
       "      <td>REGULAR</td>\n",
       "      <td>60678500</td>\n",
       "      <td>AVENIDA INDEPENDENCIA</td>\n",
       "      <td>75</td>\n",
       "      <td></td>\n",
       "      <td>CIDADE NOVA</td>\n",
       "      <td>PINDAMONHANGABA/SP</td>\n",
       "      <td>12414-240</td>\n",
       "      <td>AVENIDA INDEPENDENCIA 75  CIDADE NOVA \\n CEP: ...</td>\n",
       "    </tr>\n",
       "    <tr>\n",
       "      <th>2</th>\n",
       "      <td>26792767875</td>\n",
       "      <td>ALEXANDRE APARECIDO PEREIRA CANTANHEDE</td>\n",
       "      <td>80106242253</td>\n",
       "      <td>04/09/2017</td>\n",
       "      <td>=B4=K4</td>\n",
       "      <td>RUA ROBERTO SCARPP, 428\\n- JARDIM CAIEIRA\\nCEP...</td>\n",
       "      <td>RUA JOAO SPANHOL 132  JD DAS ORQUIDEAS \\n CEP:...</td>\n",
       "      <td>Entidade devedora (Bloqueada)</td>\n",
       "      <td>Sim</td>\n",
       "      <td>267.927.678-75</td>\n",
       "      <td>...</td>\n",
       "      <td>234992960141</td>\n",
       "      <td>REGULAR</td>\n",
       "      <td>34444403</td>\n",
       "      <td>RUA ROBERTO SCARPA</td>\n",
       "      <td>284</td>\n",
       "      <td></td>\n",
       "      <td>JD CAIEIRA</td>\n",
       "      <td>LIMEIRA/SP</td>\n",
       "      <td>13483-214</td>\n",
       "      <td>RUA ROBERTO SCARPA 284  JD CAIEIRA \\n CEP: 134...</td>\n",
       "    </tr>\n",
       "    <tr>\n",
       "      <th>3</th>\n",
       "      <td>26052762870</td>\n",
       "      <td>ALEXANDRE UBIRAJARA ROGANTTI VERAS</td>\n",
       "      <td>80106294482</td>\n",
       "      <td>04/09/2017</td>\n",
       "      <td>=B5=K5</td>\n",
       "      <td>RUA SANTO ANTONIO , 1822\\n- VILA GALVAO \\nCEP:...</td>\n",
       "      <td>RUA FRANCISCO ANTONIO MIRANDA 88  EMERLINO MAT...</td>\n",
       "      <td>Atenção: Entidade devedora (Não bloqueada)</td>\n",
       "      <td>Sim</td>\n",
       "      <td>260.527.628-70</td>\n",
       "      <td>...</td>\n",
       "      <td>0177282160191</td>\n",
       "      <td>REGULAR</td>\n",
       "      <td>20860910</td>\n",
       "      <td>RUA SANTO ANTONIO</td>\n",
       "      <td>1822</td>\n",
       "      <td></td>\n",
       "      <td>VILA GALVAO</td>\n",
       "      <td>GUARULHOS/SP</td>\n",
       "      <td>07071-000</td>\n",
       "      <td>RUA SANTO ANTONIO 1822  VILA GALVAO \\n CEP: 07...</td>\n",
       "    </tr>\n",
       "    <tr>\n",
       "      <th>4</th>\n",
       "      <td>03636918800</td>\n",
       "      <td>ALFREDO LUIS LONGO</td>\n",
       "      <td>80106281402</td>\n",
       "      <td>28/08/2017</td>\n",
       "      <td>=B6=K6</td>\n",
       "      <td>RUA JIM CLARK, 13\\n- PARQUE DOS BANCARIOS\\nCEP...</td>\n",
       "      <td>AVENIDA JAGUARE 344  JAGUARE \\n CEP:  05346-00...</td>\n",
       "      <td>Entidade devedora (Bloqueada)</td>\n",
       "      <td>Sim</td>\n",
       "      <td>036.369.188-00</td>\n",
       "      <td>...</td>\n",
       "      <td>0145148880124</td>\n",
       "      <td>REGULAR</td>\n",
       "      <td>22531128</td>\n",
       "      <td>RUA JIM CLARK</td>\n",
       "      <td>95</td>\n",
       "      <td></td>\n",
       "      <td>PARQUE BANCARIO</td>\n",
       "      <td>SAO PAULO/SP</td>\n",
       "      <td>03923-165</td>\n",
       "      <td>RUA JIM CLARK 95  PARQUE BANCARIO \\n CEP: 0392...</td>\n",
       "    </tr>\n",
       "  </tbody>\n",
       "</table>\n",
       "<p>5 rows × 26 columns</p>\n",
       "</div>"
      ],
      "text/plain": [
       "           CPF                                    NOME       FISTEL  \\\n",
       "0  05234775895                  ABILIO GONCALVES PRETO  02035661307   \n",
       "1  27573375808                  ALAN TEIXEIRAO HECKERT  80106161687   \n",
       "2  26792767875  ALEXANDRE APARECIDO PEREIRA CANTANHEDE  80106242253   \n",
       "3  26052762870      ALEXANDRE UBIRAJARA ROGANTTI VERAS  80106294482   \n",
       "4  03636918800                      ALFREDO LUIS LONGO  80106281402   \n",
       "\n",
       "     Validade  FILTRO                                           End_Sede  \\\n",
       "0  28/08/2017  =B2=K2  RUA HUMBERTO GOZZO 120, .\\n- PQ GLORIA\\nCEP: 1...   \n",
       "1  04/09/2017  =B3=K3  AVENIDA INDEPENDENCIA, 75\\n- CIDADE NOVA\\nCEP:...   \n",
       "2  04/09/2017  =B4=K4  RUA ROBERTO SCARPP, 428\\n- JARDIM CAIEIRA\\nCEP...   \n",
       "3  04/09/2017  =B5=K5  RUA SANTO ANTONIO , 1822\\n- VILA GALVAO \\nCEP:...   \n",
       "4  28/08/2017  =B6=K6  RUA JIM CLARK, 13\\n- PARQUE DOS BANCARIOS\\nCEP...   \n",
       "\n",
       "                                     End_Correspond.  \\\n",
       "0  RUA URUGUAI 62  VILA JUCA PEDRO \\n CEP:  15800...   \n",
       "1  AVENIDA BRIGIDO MARCASSA 945  JARDIM PACAEMBU ...   \n",
       "2  RUA JOAO SPANHOL 132  JD DAS ORQUIDEAS \\n CEP:...   \n",
       "3  RUA FRANCISCO ANTONIO MIRANDA 88  EMERLINO MAT...   \n",
       "4  AVENIDA JAGUARE 344  JAGUARE \\n CEP:  05346-00...   \n",
       "\n",
       "                                     Situação Devedor           CPF.1  \\\n",
       "0  Atenção: Entidade devedora (Não bloqueada)     Sim  052.347.758-95   \n",
       "1                 Entidade não possui débitos     Não  275.733.758-08   \n",
       "2               Entidade devedora (Bloqueada)     Sim  267.927.678-75   \n",
       "3  Atenção: Entidade devedora (Não bloqueada)     Sim  260.527.628-70   \n",
       "4               Entidade devedora (Bloqueada)     Sim  036.369.188-00   \n",
       "\n",
       "                         ...                         Título de Eleitor  \\\n",
       "0                        ...                             0019319610141   \n",
       "1                        ...                              278549690116   \n",
       "2                        ...                              234992960141   \n",
       "3                        ...                             0177282160191   \n",
       "4                        ...                             0145148880124   \n",
       "\n",
       "  Situação Cadastral      Fone             Logradouro Número Complemento  \\\n",
       "0            REGULAR  35248858            RUA URUGUAI     62               \n",
       "1            REGULAR  60678500  AVENIDA INDEPENDENCIA     75               \n",
       "2            REGULAR  34444403     RUA ROBERTO SCARPA    284               \n",
       "3            REGULAR  20860910      RUA SANTO ANTONIO   1822               \n",
       "4            REGULAR  22531128          RUA JIM CLARK     95               \n",
       "\n",
       "            Bairro              Cidade        Cep  \\\n",
       "0  VILA JUCA PEDRO        CATANDUVA/SP  15800-420   \n",
       "1      CIDADE NOVA  PINDAMONHANGABA/SP  12414-240   \n",
       "2       JD CAIEIRA          LIMEIRA/SP  13483-214   \n",
       "3      VILA GALVAO        GUARULHOS/SP  07071-000   \n",
       "4  PARQUE BANCARIO        SAO PAULO/SP  03923-165   \n",
       "\n",
       "                                   Endereço_Completo  \n",
       "0  RUA URUGUAI 62  VILA JUCA PEDRO \\n CEP: 15800-...  \n",
       "1  AVENIDA INDEPENDENCIA 75  CIDADE NOVA \\n CEP: ...  \n",
       "2  RUA ROBERTO SCARPA 284  JD CAIEIRA \\n CEP: 134...  \n",
       "3  RUA SANTO ANTONIO 1822  VILA GALVAO \\n CEP: 07...  \n",
       "4  RUA JIM CLARK 95  PARQUE BANCARIO \\n CEP: 0392...  \n",
       "\n",
       "[5 rows x 26 columns]"
      ]
     },
     "execution_count": 22,
     "metadata": {},
     "output_type": "execute_result"
    }
   ],
   "source": [
    "df[\"Complemento\"] = df[\"Complemento\"].str.replace(\"nan\", \"\")\n",
    "\n",
    "df.drop_duplicates(inplace=True)\n",
    "\n",
    "df.dropna(subset=[\"CPF\"], inplace=True)\n",
    "\n",
    "df.head()"
   ]
  },
  {
   "cell_type": "code",
   "execution_count": 23,
   "metadata": {},
   "outputs": [
    {
     "data": {
      "text/plain": [
       "(18, 26)"
      ]
     },
     "execution_count": 23,
     "metadata": {},
     "output_type": "execute_result"
    }
   ],
   "source": [
    "df.shape"
   ]
  },
  {
   "cell_type": "code",
   "execution_count": 8,
   "metadata": {},
   "outputs": [],
   "source": [
    "usr = \"rsilva\"\n",
    "pwd = \"Savorthemom3nts\"\n",
    "browser = webdriver.Firefox()"
   ]
  },
  {
   "cell_type": "code",
   "execution_count": 9,
   "metadata": {},
   "outputs": [],
   "source": [
    "browser = sei.login_sei(browser, usr, pwd)"
   ]
  },
  {
   "cell_type": "code",
   "execution_count": 25,
   "metadata": {},
   "outputs": [],
   "source": [
    "sei_ = sei.Sei(browser)\n",
    "\n",
    "sei_.itera_processos()"
   ]
  },
  {
   "cell_type": "code",
   "execution_count": 26,
   "metadata": {},
   "outputs": [],
   "source": [
    "p = sei_.go_to_processo(numero)"
   ]
  },
  {
   "cell_type": "code",
   "execution_count": 14,
   "metadata": {},
   "outputs": [],
   "source": [
    "tipo = \"RC_Oficio de Cassação\""
   ]
  },
  {
   "cell_type": "code",
   "execution_count": 15,
   "metadata": {},
   "outputs": [],
   "source": [
    "def string_endereço(row):\n",
    "    \n",
    "    s = 'À<br>' + str(row[1][\"Nome\"]) + '<br>' + str(row[1][\"Logradouro\"]) + \", \" + str(row[1][\"Número\"]) \\\n",
    "         + \" \" + str(row[1][\"Complemento\"]) + \" \" + str(row[1][\"Bairro\"]) + \"<br>\" +  \"CEP: \" \\\n",
    "         + str(row[1][\"Cep\"]) +\" - \" + str(row[1][\"Cidade\"]) + \"<br><br>\" + \"<b>FISTEL: \" \\\n",
    "         + str(row[1][\"FISTEL\"]) + \"</b>\"\n",
    "            \n",
    "    return s"
   ]
  },
  {
   "cell_type": "code",
   "execution_count": 28,
   "metadata": {},
   "outputs": [],
   "source": [
    "for row in df.iloc[1:,].iterrows():    \n",
    "    \n",
    "    dados = {'À': string_endereço(row)}    \n",
    "    \n",
    "    clip.copy(dados[\"À\"])\n",
    "    \n",
    "    p.incluir_oficio(tipo, dados)\n",
    "        \n",
    "    sleep(random.randint(60,120))"
   ]
  },
  {
   "cell_type": "code",
   "execution_count": null,
   "metadata": {},
   "outputs": [],
   "source": [
    "for p in sei_.get_processos().values():\n",
    "    \n",
    "    if p[\"aviso\"] and p[\"tipo\"] == \"Outorga: Rádio do Cidadão\":\n",
    "        \n",
    "        p = sei_.go_to_processo(p[\"numero\"])\n",
    "        \n",
    "        teste = input()\n",
    "        \n",
    "        if teste == 'y':\n",
    "            \n",
    "            p.edita_marcador()\n",
    "            p.edita_postit()\n",
    "            \n",
    "            p.get_acoes()['conc']"
   ]
  },
  {
   "cell_type": "code",
   "execution_count": null,
   "metadata": {},
   "outputs": [],
   "source": [
    "p = sei_.go_to_processo(\"53504.005936/2018-50\")"
   ]
  },
  {
   "cell_type": "code",
   "execution_count": null,
   "metadata": {},
   "outputs": [],
   "source": [
    "p.edita_marcador(\"RC\")"
   ]
  },
  {
   "cell_type": "code",
   "execution_count": null,
   "metadata": {},
   "outputs": [],
   "source": [
    "select = Select(p.wait_for_element(helpers.Marcador.LISTA_MARCADORES))"
   ]
  },
  {
   "cell_type": "code",
   "execution_count": 34,
   "metadata": {},
   "outputs": [],
   "source": [
    "windows = sei_.driver.window_handles\n",
    "\n",
    "sei_.driver.switch_to_window(windows[0])\n",
    "\n",
    "sei_.driver.switch_to.default_content()"
   ]
  },
  {
   "cell_type": "code",
   "execution_count": null,
   "metadata": {},
   "outputs": [],
   "source": []
  }
 ],
 "metadata": {
  "kernelspec": {
   "display_name": "Python 3",
   "language": "python",
   "name": "python3"
  },
  "language_info": {
   "codemirror_mode": {
    "name": "ipython",
    "version": 3
   },
   "file_extension": ".py",
   "mimetype": "text/x-python",
   "name": "python",
   "nbconvert_exporter": "python",
   "pygments_lexer": "ipython3",
   "version": "3.5.4"
  }
 },
 "nbformat": 4,
 "nbformat_minor": 2
}
