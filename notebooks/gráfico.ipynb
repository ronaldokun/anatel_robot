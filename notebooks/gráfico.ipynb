{
 "cells": [
  {
   "cell_type": "code",
   "execution_count": 1,
   "metadata": {},
   "outputs": [],
   "source": [
    "from pathlib import Path\n",
    "import pandas as pd\n",
    "import numpy as np\n",
    "import altair as alt\n",
    "\n",
    "%load_ext autoreload\n",
    "%autoreload 2"
   ]
  },
  {
   "cell_type": "code",
   "execution_count": 19,
   "metadata": {},
   "outputs": [],
   "source": [
    "PATH = Path(r'D:\\OneDrive - ANATEL\\Monitoramento\\VIC\\PRD2020\\Processamento')\n",
    "NIVEL = PATH / '50_63_processado_sao_vicente.csv'\n",
    "OC = PATH / '21_65_processado_rpo.csv'\n",
    "PISO = -75"
   ]
  },
  {
   "cell_type": "code",
   "execution_count": 5,
   "metadata": {},
   "outputs": [],
   "source": [
    "df = pd.read_csv(NIVEL, delimiter=';', decimal=',')\n",
    "df.columns = [\"Frequência\", 'Máxima', 'Média']"
   ]
  },
  {
   "cell_type": "code",
   "execution_count": 13,
   "metadata": {},
   "outputs": [],
   "source": [
    "nivel = pd.read_csv(NIVEL, delimiter=';', decimal=',', index_col=0)\n",
    "#oc = pd.read_csv(OC, delimiter=';', decimal=',', index_col=0)"
   ]
  },
  {
   "cell_type": "code",
   "execution_count": 14,
   "metadata": {},
   "outputs": [],
   "source": [
    "#oc.columns = \n",
    "nivel.columns = ['Máxima', 'Média']"
   ]
  },
  {
   "cell_type": "code",
   "execution_count": 15,
   "metadata": {},
   "outputs": [],
   "source": [
    "nivel.index.rename('Frequência', inplace=True)\n",
    "#oc.index = nivel.index"
   ]
  },
  {
   "cell_type": "code",
   "execution_count": 16,
   "metadata": {},
   "outputs": [],
   "source": [
    "nivel = nivel.reset_index().melt('Frequência', var_name='Tipo', value_name='Nível')"
   ]
  },
  {
   "cell_type": "code",
   "execution_count": 17,
   "metadata": {},
   "outputs": [
    {
     "data": {
      "text/html": [
       "<div>\n",
       "<style scoped>\n",
       "    .dataframe tbody tr th:only-of-type {\n",
       "        vertical-align: middle;\n",
       "    }\n",
       "\n",
       "    .dataframe tbody tr th {\n",
       "        vertical-align: top;\n",
       "    }\n",
       "\n",
       "    .dataframe thead th {\n",
       "        text-align: right;\n",
       "    }\n",
       "</style>\n",
       "<table border=\"1\" class=\"dataframe\">\n",
       "  <thead>\n",
       "    <tr style=\"text-align: right;\">\n",
       "      <th></th>\n",
       "      <th>Frequência</th>\n",
       "      <th>Tipo</th>\n",
       "      <th>Nível</th>\n",
       "    </tr>\n",
       "  </thead>\n",
       "  <tbody>\n",
       "    <tr>\n",
       "      <th>0</th>\n",
       "      <td>170.000000</td>\n",
       "      <td>Máxima</td>\n",
       "      <td>-82.5</td>\n",
       "    </tr>\n",
       "    <tr>\n",
       "      <th>1</th>\n",
       "      <td>170.019539</td>\n",
       "      <td>Máxima</td>\n",
       "      <td>-82.5</td>\n",
       "    </tr>\n",
       "    <tr>\n",
       "      <th>2</th>\n",
       "      <td>170.039078</td>\n",
       "      <td>Máxima</td>\n",
       "      <td>-82.5</td>\n",
       "    </tr>\n",
       "    <tr>\n",
       "      <th>3</th>\n",
       "      <td>170.058617</td>\n",
       "      <td>Máxima</td>\n",
       "      <td>-82.5</td>\n",
       "    </tr>\n",
       "    <tr>\n",
       "      <th>4</th>\n",
       "      <td>170.078155</td>\n",
       "      <td>Máxima</td>\n",
       "      <td>-83.0</td>\n",
       "    </tr>\n",
       "  </tbody>\n",
       "</table>\n",
       "</div>"
      ],
      "text/plain": [
       "   Frequência    Tipo  Nível\n",
       "0  170.000000  Máxima  -82.5\n",
       "1  170.019539  Máxima  -82.5\n",
       "2  170.039078  Máxima  -82.5\n",
       "3  170.058617  Máxima  -82.5\n",
       "4  170.078155  Máxima  -83.0"
      ]
     },
     "execution_count": 17,
     "metadata": {},
     "output_type": "execute_result"
    }
   ],
   "source": [
    "nivel.head()"
   ]
  },
  {
   "cell_type": "code",
   "execution_count": 28,
   "metadata": {},
   "outputs": [],
   "source": [
    "oc = oc.reset_index().melt('Frequência', var_name='Tipo', value_name='Ocupação')"
   ]
  },
  {
   "cell_type": "code",
   "execution_count": 29,
   "metadata": {},
   "outputs": [
    {
     "data": {
      "text/html": [
       "<div>\n",
       "<style scoped>\n",
       "    .dataframe tbody tr th:only-of-type {\n",
       "        vertical-align: middle;\n",
       "    }\n",
       "\n",
       "    .dataframe tbody tr th {\n",
       "        vertical-align: top;\n",
       "    }\n",
       "\n",
       "    .dataframe thead th {\n",
       "        text-align: right;\n",
       "    }\n",
       "</style>\n",
       "<table border=\"1\" class=\"dataframe\">\n",
       "  <thead>\n",
       "    <tr style=\"text-align: right;\">\n",
       "      <th></th>\n",
       "      <th>Frequência</th>\n",
       "      <th>Tipo</th>\n",
       "      <th>Ocupação</th>\n",
       "    </tr>\n",
       "  </thead>\n",
       "  <tbody>\n",
       "    <tr>\n",
       "      <th>0</th>\n",
       "      <td>108.000000</td>\n",
       "      <td>Máxima</td>\n",
       "      <td>1.0</td>\n",
       "    </tr>\n",
       "    <tr>\n",
       "      <th>1</th>\n",
       "      <td>108.001953</td>\n",
       "      <td>Máxima</td>\n",
       "      <td>0.0</td>\n",
       "    </tr>\n",
       "    <tr>\n",
       "      <th>2</th>\n",
       "      <td>108.003907</td>\n",
       "      <td>Máxima</td>\n",
       "      <td>0.5</td>\n",
       "    </tr>\n",
       "    <tr>\n",
       "      <th>3</th>\n",
       "      <td>108.005860</td>\n",
       "      <td>Máxima</td>\n",
       "      <td>0.5</td>\n",
       "    </tr>\n",
       "    <tr>\n",
       "      <th>4</th>\n",
       "      <td>108.007813</td>\n",
       "      <td>Máxima</td>\n",
       "      <td>0.0</td>\n",
       "    </tr>\n",
       "  </tbody>\n",
       "</table>\n",
       "</div>"
      ],
      "text/plain": [
       "   Frequência    Tipo  Ocupação\n",
       "0  108.000000  Máxima       1.0\n",
       "1  108.001953  Máxima       0.0\n",
       "2  108.003907  Máxima       0.5\n",
       "3  108.005860  Máxima       0.5\n",
       "4  108.007813  Máxima       0.0"
      ]
     },
     "execution_count": 29,
     "metadata": {},
     "output_type": "execute_result"
    }
   ],
   "source": [
    "oc.head()"
   ]
  },
  {
   "cell_type": "code",
   "execution_count": 96,
   "metadata": {},
   "outputs": [],
   "source": [
    "df = pd.merge(nivel, oc, on=['Frequência', \"Tipo\"]).sort_values('Frequência').reset_index(drop=True)"
   ]
  },
  {
   "cell_type": "code",
   "execution_count": 18,
   "metadata": {},
   "outputs": [],
   "source": [
    "df = nivel"
   ]
  },
  {
   "cell_type": "code",
   "execution_count": 111,
   "metadata": {},
   "outputs": [],
   "source": [
    "df.to_excel(PATH / 'dados.xlsx')"
   ]
  },
  {
   "cell_type": "code",
   "execution_count": 114,
   "metadata": {},
   "outputs": [
    {
     "data": {
      "text/html": [
       "<div>\n",
       "<style scoped>\n",
       "    .dataframe tbody tr th:only-of-type {\n",
       "        vertical-align: middle;\n",
       "    }\n",
       "\n",
       "    .dataframe tbody tr th {\n",
       "        vertical-align: top;\n",
       "    }\n",
       "\n",
       "    .dataframe thead th {\n",
       "        text-align: right;\n",
       "    }\n",
       "</style>\n",
       "<table border=\"1\" class=\"dataframe\">\n",
       "  <thead>\n",
       "    <tr style=\"text-align: right;\">\n",
       "      <th></th>\n",
       "      <th>Frequência</th>\n",
       "      <th>Tipo</th>\n",
       "      <th>Nível</th>\n",
       "      <th>Ocupação</th>\n",
       "    </tr>\n",
       "  </thead>\n",
       "  <tbody>\n",
       "    <tr>\n",
       "      <th>0</th>\n",
       "      <td>108.000000</td>\n",
       "      <td>Máxima</td>\n",
       "      <td>-57.0</td>\n",
       "      <td>1.0</td>\n",
       "    </tr>\n",
       "    <tr>\n",
       "      <th>10232</th>\n",
       "      <td>117.992861</td>\n",
       "      <td>Máxima</td>\n",
       "      <td>-56.0</td>\n",
       "      <td>1.0</td>\n",
       "    </tr>\n",
       "    <tr>\n",
       "      <th>10234</th>\n",
       "      <td>117.994814</td>\n",
       "      <td>Máxima</td>\n",
       "      <td>-43.5</td>\n",
       "      <td>2.5</td>\n",
       "    </tr>\n",
       "    <tr>\n",
       "      <th>10236</th>\n",
       "      <td>117.996767</td>\n",
       "      <td>Máxima</td>\n",
       "      <td>-32.0</td>\n",
       "      <td>5.0</td>\n",
       "    </tr>\n",
       "    <tr>\n",
       "      <th>10238</th>\n",
       "      <td>117.998720</td>\n",
       "      <td>Máxima</td>\n",
       "      <td>-28.5</td>\n",
       "      <td>5.0</td>\n",
       "    </tr>\n",
       "    <tr>\n",
       "      <th>10240</th>\n",
       "      <td>118.000674</td>\n",
       "      <td>Máxima</td>\n",
       "      <td>-32.0</td>\n",
       "      <td>4.5</td>\n",
       "    </tr>\n",
       "    <tr>\n",
       "      <th>10242</th>\n",
       "      <td>118.002627</td>\n",
       "      <td>Máxima</td>\n",
       "      <td>-42.5</td>\n",
       "      <td>2.0</td>\n",
       "    </tr>\n",
       "    <tr>\n",
       "      <th>11825</th>\n",
       "      <td>119.547653</td>\n",
       "      <td>Máxima</td>\n",
       "      <td>-51.0</td>\n",
       "      <td>3.0</td>\n",
       "    </tr>\n",
       "    <tr>\n",
       "      <th>11827</th>\n",
       "      <td>119.549606</td>\n",
       "      <td>Máxima</td>\n",
       "      <td>-50.5</td>\n",
       "      <td>1.5</td>\n",
       "    </tr>\n",
       "    <tr>\n",
       "      <th>11829</th>\n",
       "      <td>119.551559</td>\n",
       "      <td>Máxima</td>\n",
       "      <td>-56.0</td>\n",
       "      <td>1.5</td>\n",
       "    </tr>\n",
       "    <tr>\n",
       "      <th>12025</th>\n",
       "      <td>119.742978</td>\n",
       "      <td>Máxima</td>\n",
       "      <td>-48.5</td>\n",
       "      <td>1.5</td>\n",
       "    </tr>\n",
       "    <tr>\n",
       "      <th>12027</th>\n",
       "      <td>119.744932</td>\n",
       "      <td>Máxima</td>\n",
       "      <td>-41.0</td>\n",
       "      <td>6.0</td>\n",
       "    </tr>\n",
       "    <tr>\n",
       "      <th>12029</th>\n",
       "      <td>119.746885</td>\n",
       "      <td>Máxima</td>\n",
       "      <td>-33.0</td>\n",
       "      <td>5.5</td>\n",
       "    </tr>\n",
       "    <tr>\n",
       "      <th>12031</th>\n",
       "      <td>119.748838</td>\n",
       "      <td>Máxima</td>\n",
       "      <td>-29.0</td>\n",
       "      <td>11.0</td>\n",
       "    </tr>\n",
       "    <tr>\n",
       "      <th>12033</th>\n",
       "      <td>119.750791</td>\n",
       "      <td>Máxima</td>\n",
       "      <td>-32.0</td>\n",
       "      <td>5.0</td>\n",
       "    </tr>\n",
       "    <tr>\n",
       "      <th>12035</th>\n",
       "      <td>119.752745</td>\n",
       "      <td>Máxima</td>\n",
       "      <td>-39.0</td>\n",
       "      <td>3.5</td>\n",
       "    </tr>\n",
       "    <tr>\n",
       "      <th>12692</th>\n",
       "      <td>120.395366</td>\n",
       "      <td>Máxima</td>\n",
       "      <td>-53.0</td>\n",
       "      <td>2.0</td>\n",
       "    </tr>\n",
       "    <tr>\n",
       "      <th>12695</th>\n",
       "      <td>120.397319</td>\n",
       "      <td>Máxima</td>\n",
       "      <td>-51.0</td>\n",
       "      <td>2.5</td>\n",
       "    </tr>\n",
       "    <tr>\n",
       "      <th>14742</th>\n",
       "      <td>122.397454</td>\n",
       "      <td>Máxima</td>\n",
       "      <td>-53.5</td>\n",
       "      <td>1.0</td>\n",
       "    </tr>\n",
       "    <tr>\n",
       "      <th>15816</th>\n",
       "      <td>123.446353</td>\n",
       "      <td>Máxima</td>\n",
       "      <td>-41.5</td>\n",
       "      <td>1.5</td>\n",
       "    </tr>\n",
       "    <tr>\n",
       "      <th>15819</th>\n",
       "      <td>123.448306</td>\n",
       "      <td>Máxima</td>\n",
       "      <td>-37.0</td>\n",
       "      <td>2.0</td>\n",
       "    </tr>\n",
       "    <tr>\n",
       "      <th>15820</th>\n",
       "      <td>123.450259</td>\n",
       "      <td>Máxima</td>\n",
       "      <td>-38.5</td>\n",
       "      <td>2.0</td>\n",
       "    </tr>\n",
       "    <tr>\n",
       "      <th>15823</th>\n",
       "      <td>123.452213</td>\n",
       "      <td>Máxima</td>\n",
       "      <td>-47.5</td>\n",
       "      <td>1.0</td>\n",
       "    </tr>\n",
       "    <tr>\n",
       "      <th>23038</th>\n",
       "      <td>130.499562</td>\n",
       "      <td>Máxima</td>\n",
       "      <td>-53.0</td>\n",
       "      <td>2.0</td>\n",
       "    </tr>\n",
       "    <tr>\n",
       "      <th>24444</th>\n",
       "      <td>131.872702</td>\n",
       "      <td>Máxima</td>\n",
       "      <td>-47.5</td>\n",
       "      <td>2.0</td>\n",
       "    </tr>\n",
       "    <tr>\n",
       "      <th>24447</th>\n",
       "      <td>131.874655</td>\n",
       "      <td>Máxima</td>\n",
       "      <td>-45.0</td>\n",
       "      <td>2.0</td>\n",
       "    </tr>\n",
       "    <tr>\n",
       "      <th>24449</th>\n",
       "      <td>131.876608</td>\n",
       "      <td>Máxima</td>\n",
       "      <td>-49.5</td>\n",
       "      <td>1.5</td>\n",
       "    </tr>\n",
       "    <tr>\n",
       "      <th>24572</th>\n",
       "      <td>131.997710</td>\n",
       "      <td>Máxima</td>\n",
       "      <td>-54.5</td>\n",
       "      <td>1.0</td>\n",
       "    </tr>\n",
       "    <tr>\n",
       "      <th>24574</th>\n",
       "      <td>131.999663</td>\n",
       "      <td>Máxima</td>\n",
       "      <td>-51.5</td>\n",
       "      <td>3.5</td>\n",
       "    </tr>\n",
       "    <tr>\n",
       "      <th>28666</th>\n",
       "      <td>135.996026</td>\n",
       "      <td>Máxima</td>\n",
       "      <td>-46.0</td>\n",
       "      <td>1.5</td>\n",
       "    </tr>\n",
       "    <tr>\n",
       "      <th>28669</th>\n",
       "      <td>135.997979</td>\n",
       "      <td>Máxima</td>\n",
       "      <td>-38.5</td>\n",
       "      <td>5.0</td>\n",
       "    </tr>\n",
       "    <tr>\n",
       "      <th>28671</th>\n",
       "      <td>135.999933</td>\n",
       "      <td>Máxima</td>\n",
       "      <td>-36.5</td>\n",
       "      <td>5.5</td>\n",
       "    </tr>\n",
       "    <tr>\n",
       "      <th>28673</th>\n",
       "      <td>136.001886</td>\n",
       "      <td>Máxima</td>\n",
       "      <td>-38.0</td>\n",
       "      <td>3.0</td>\n",
       "    </tr>\n",
       "    <tr>\n",
       "      <th>28674</th>\n",
       "      <td>136.003839</td>\n",
       "      <td>Máxima</td>\n",
       "      <td>-39.0</td>\n",
       "      <td>1.0</td>\n",
       "    </tr>\n",
       "  </tbody>\n",
       "</table>\n",
       "</div>"
      ],
      "text/plain": [
       "       Frequência    Tipo  Nível  Ocupação\n",
       "0      108.000000  Máxima  -57.0       1.0\n",
       "10232  117.992861  Máxima  -56.0       1.0\n",
       "10234  117.994814  Máxima  -43.5       2.5\n",
       "10236  117.996767  Máxima  -32.0       5.0\n",
       "10238  117.998720  Máxima  -28.5       5.0\n",
       "10240  118.000674  Máxima  -32.0       4.5\n",
       "10242  118.002627  Máxima  -42.5       2.0\n",
       "11825  119.547653  Máxima  -51.0       3.0\n",
       "11827  119.549606  Máxima  -50.5       1.5\n",
       "11829  119.551559  Máxima  -56.0       1.5\n",
       "12025  119.742978  Máxima  -48.5       1.5\n",
       "12027  119.744932  Máxima  -41.0       6.0\n",
       "12029  119.746885  Máxima  -33.0       5.5\n",
       "12031  119.748838  Máxima  -29.0      11.0\n",
       "12033  119.750791  Máxima  -32.0       5.0\n",
       "12035  119.752745  Máxima  -39.0       3.5\n",
       "12692  120.395366  Máxima  -53.0       2.0\n",
       "12695  120.397319  Máxima  -51.0       2.5\n",
       "14742  122.397454  Máxima  -53.5       1.0\n",
       "15816  123.446353  Máxima  -41.5       1.5\n",
       "15819  123.448306  Máxima  -37.0       2.0\n",
       "15820  123.450259  Máxima  -38.5       2.0\n",
       "15823  123.452213  Máxima  -47.5       1.0\n",
       "23038  130.499562  Máxima  -53.0       2.0\n",
       "24444  131.872702  Máxima  -47.5       2.0\n",
       "24447  131.874655  Máxima  -45.0       2.0\n",
       "24449  131.876608  Máxima  -49.5       1.5\n",
       "24572  131.997710  Máxima  -54.5       1.0\n",
       "24574  131.999663  Máxima  -51.5       3.5\n",
       "28666  135.996026  Máxima  -46.0       1.5\n",
       "28669  135.997979  Máxima  -38.5       5.0\n",
       "28671  135.999933  Máxima  -36.5       5.5\n",
       "28673  136.001886  Máxima  -38.0       3.0\n",
       "28674  136.003839  Máxima  -39.0       1.0"
      ]
     },
     "execution_count": 114,
     "metadata": {},
     "output_type": "execute_result"
    }
   ],
   "source": [
    "df[(df.Nível >= PISO) & (df.Ocupação >= 1)]"
   ]
  },
  {
   "cell_type": "code",
   "execution_count": 23,
   "metadata": {},
   "outputs": [],
   "source": [
    "df = df[df.Nível > PISO]"
   ]
  },
  {
   "cell_type": "code",
   "execution_count": 24,
   "metadata": {},
   "outputs": [],
   "source": [
    "# Create a selection that chooses the nearest point & selects based on x-value\n",
    "nearest = alt.selection(type='single', nearest=True, on='mouseover', fields=['Frequência'], empty='none')"
   ]
  },
  {
   "cell_type": "code",
   "execution_count": 25,
   "metadata": {},
   "outputs": [],
   "source": [
    "# The basic line\n",
    "line_1 = alt.Chart(df).mark_line(interpolate='basis').encode(\n",
    "    x='Frequência:Q',\n",
    "    y='Nível:Q',\n",
    "    color='Tipo:N'\n",
    ")"
   ]
  },
  {
   "cell_type": "code",
   "execution_count": 22,
   "metadata": {},
   "outputs": [
    {
     "ename": "MaxRowsError",
     "evalue": "The number of rows in your dataset is greater than the maximum allowed (5000). For information on how to plot larger datasets in Altair, see the documentation",
     "output_type": "error",
     "traceback": [
      "\u001b[1;31m--------------------------------------------------------------------\u001b[0m",
      "\u001b[1;31mMaxRowsError\u001b[0m                       Traceback (most recent call last)",
      "\u001b[1;32mc:\\users\\rsilva\\.virtualenvs\\prd-goxa2m4f\\lib\\site-packages\\altair\\vegalite\\v4\\api.py\u001b[0m in \u001b[0;36mto_dict\u001b[1;34m(self, *args, **kwargs)\u001b[0m\n\u001b[0;32m    361\u001b[0m         \u001b[0mcopy\u001b[0m \u001b[1;33m=\u001b[0m \u001b[0mself\u001b[0m\u001b[1;33m.\u001b[0m\u001b[0mcopy\u001b[0m\u001b[1;33m(\u001b[0m\u001b[0mdeep\u001b[0m\u001b[1;33m=\u001b[0m\u001b[1;32mFalse\u001b[0m\u001b[1;33m)\u001b[0m\u001b[1;33m\u001b[0m\u001b[1;33m\u001b[0m\u001b[0m\n\u001b[0;32m    362\u001b[0m         \u001b[0moriginal_data\u001b[0m \u001b[1;33m=\u001b[0m \u001b[0mgetattr\u001b[0m\u001b[1;33m(\u001b[0m\u001b[0mcopy\u001b[0m\u001b[1;33m,\u001b[0m \u001b[1;34m\"data\"\u001b[0m\u001b[1;33m,\u001b[0m \u001b[0mUndefined\u001b[0m\u001b[1;33m)\u001b[0m\u001b[1;33m\u001b[0m\u001b[1;33m\u001b[0m\u001b[0m\n\u001b[1;32m--> 363\u001b[1;33m         \u001b[0mcopy\u001b[0m\u001b[1;33m.\u001b[0m\u001b[0mdata\u001b[0m \u001b[1;33m=\u001b[0m \u001b[0m_prepare_data\u001b[0m\u001b[1;33m(\u001b[0m\u001b[0moriginal_data\u001b[0m\u001b[1;33m,\u001b[0m \u001b[0mcontext\u001b[0m\u001b[1;33m)\u001b[0m\u001b[1;33m\u001b[0m\u001b[1;33m\u001b[0m\u001b[0m\n\u001b[0m\u001b[0;32m    364\u001b[0m \u001b[1;33m\u001b[0m\u001b[0m\n\u001b[0;32m    365\u001b[0m         \u001b[1;32mif\u001b[0m \u001b[0moriginal_data\u001b[0m \u001b[1;32mis\u001b[0m \u001b[1;32mnot\u001b[0m \u001b[0mUndefined\u001b[0m\u001b[1;33m:\u001b[0m\u001b[1;33m\u001b[0m\u001b[1;33m\u001b[0m\u001b[0m\n",
      "\u001b[1;32mc:\\users\\rsilva\\.virtualenvs\\prd-goxa2m4f\\lib\\site-packages\\altair\\vegalite\\v4\\api.py\u001b[0m in \u001b[0;36m_prepare_data\u001b[1;34m(data, context)\u001b[0m\n\u001b[0;32m     82\u001b[0m     \u001b[1;31m# convert dataframes  or objects with __geo_interface__ to dict\u001b[0m\u001b[1;33m\u001b[0m\u001b[1;33m\u001b[0m\u001b[1;33m\u001b[0m\u001b[0m\n\u001b[0;32m     83\u001b[0m     \u001b[1;32mif\u001b[0m \u001b[0misinstance\u001b[0m\u001b[1;33m(\u001b[0m\u001b[0mdata\u001b[0m\u001b[1;33m,\u001b[0m \u001b[0mpd\u001b[0m\u001b[1;33m.\u001b[0m\u001b[0mDataFrame\u001b[0m\u001b[1;33m)\u001b[0m \u001b[1;32mor\u001b[0m \u001b[0mhasattr\u001b[0m\u001b[1;33m(\u001b[0m\u001b[0mdata\u001b[0m\u001b[1;33m,\u001b[0m \u001b[1;34m\"__geo_interface__\"\u001b[0m\u001b[1;33m)\u001b[0m\u001b[1;33m:\u001b[0m\u001b[1;33m\u001b[0m\u001b[1;33m\u001b[0m\u001b[0m\n\u001b[1;32m---> 84\u001b[1;33m         \u001b[0mdata\u001b[0m \u001b[1;33m=\u001b[0m \u001b[0m_pipe\u001b[0m\u001b[1;33m(\u001b[0m\u001b[0mdata\u001b[0m\u001b[1;33m,\u001b[0m \u001b[0mdata_transformers\u001b[0m\u001b[1;33m.\u001b[0m\u001b[0mget\u001b[0m\u001b[1;33m(\u001b[0m\u001b[1;33m)\u001b[0m\u001b[1;33m)\u001b[0m\u001b[1;33m\u001b[0m\u001b[1;33m\u001b[0m\u001b[0m\n\u001b[0m\u001b[0;32m     85\u001b[0m \u001b[1;33m\u001b[0m\u001b[0m\n\u001b[0;32m     86\u001b[0m     \u001b[1;31m# convert string input to a URLData\u001b[0m\u001b[1;33m\u001b[0m\u001b[1;33m\u001b[0m\u001b[1;33m\u001b[0m\u001b[0m\n",
      "\u001b[1;32mc:\\users\\rsilva\\.virtualenvs\\prd-goxa2m4f\\lib\\site-packages\\toolz\\functoolz.py\u001b[0m in \u001b[0;36mpipe\u001b[1;34m(data, *funcs)\u001b[0m\n\u001b[0;32m    632\u001b[0m     \"\"\"\n\u001b[0;32m    633\u001b[0m     \u001b[1;32mfor\u001b[0m \u001b[0mfunc\u001b[0m \u001b[1;32min\u001b[0m \u001b[0mfuncs\u001b[0m\u001b[1;33m:\u001b[0m\u001b[1;33m\u001b[0m\u001b[1;33m\u001b[0m\u001b[0m\n\u001b[1;32m--> 634\u001b[1;33m         \u001b[0mdata\u001b[0m \u001b[1;33m=\u001b[0m \u001b[0mfunc\u001b[0m\u001b[1;33m(\u001b[0m\u001b[0mdata\u001b[0m\u001b[1;33m)\u001b[0m\u001b[1;33m\u001b[0m\u001b[1;33m\u001b[0m\u001b[0m\n\u001b[0m\u001b[0;32m    635\u001b[0m     \u001b[1;32mreturn\u001b[0m \u001b[0mdata\u001b[0m\u001b[1;33m\u001b[0m\u001b[1;33m\u001b[0m\u001b[0m\n\u001b[0;32m    636\u001b[0m \u001b[1;33m\u001b[0m\u001b[0m\n",
      "\u001b[1;32mc:\\users\\rsilva\\.virtualenvs\\prd-goxa2m4f\\lib\\site-packages\\toolz\\functoolz.py\u001b[0m in \u001b[0;36m__call__\u001b[1;34m(self, *args, **kwargs)\u001b[0m\n\u001b[0;32m    301\u001b[0m     \u001b[1;32mdef\u001b[0m \u001b[0m__call__\u001b[0m\u001b[1;33m(\u001b[0m\u001b[0mself\u001b[0m\u001b[1;33m,\u001b[0m \u001b[1;33m*\u001b[0m\u001b[0margs\u001b[0m\u001b[1;33m,\u001b[0m \u001b[1;33m**\u001b[0m\u001b[0mkwargs\u001b[0m\u001b[1;33m)\u001b[0m\u001b[1;33m:\u001b[0m\u001b[1;33m\u001b[0m\u001b[1;33m\u001b[0m\u001b[0m\n\u001b[0;32m    302\u001b[0m         \u001b[1;32mtry\u001b[0m\u001b[1;33m:\u001b[0m\u001b[1;33m\u001b[0m\u001b[1;33m\u001b[0m\u001b[0m\n\u001b[1;32m--> 303\u001b[1;33m             \u001b[1;32mreturn\u001b[0m \u001b[0mself\u001b[0m\u001b[1;33m.\u001b[0m\u001b[0m_partial\u001b[0m\u001b[1;33m(\u001b[0m\u001b[1;33m*\u001b[0m\u001b[0margs\u001b[0m\u001b[1;33m,\u001b[0m \u001b[1;33m**\u001b[0m\u001b[0mkwargs\u001b[0m\u001b[1;33m)\u001b[0m\u001b[1;33m\u001b[0m\u001b[1;33m\u001b[0m\u001b[0m\n\u001b[0m\u001b[0;32m    304\u001b[0m         \u001b[1;32mexcept\u001b[0m \u001b[0mTypeError\u001b[0m \u001b[1;32mas\u001b[0m \u001b[0mexc\u001b[0m\u001b[1;33m:\u001b[0m\u001b[1;33m\u001b[0m\u001b[1;33m\u001b[0m\u001b[0m\n\u001b[0;32m    305\u001b[0m             \u001b[1;32mif\u001b[0m \u001b[0mself\u001b[0m\u001b[1;33m.\u001b[0m\u001b[0m_should_curry\u001b[0m\u001b[1;33m(\u001b[0m\u001b[0margs\u001b[0m\u001b[1;33m,\u001b[0m \u001b[0mkwargs\u001b[0m\u001b[1;33m,\u001b[0m \u001b[0mexc\u001b[0m\u001b[1;33m)\u001b[0m\u001b[1;33m:\u001b[0m\u001b[1;33m\u001b[0m\u001b[1;33m\u001b[0m\u001b[0m\n",
      "\u001b[1;32mc:\\users\\rsilva\\.virtualenvs\\prd-goxa2m4f\\lib\\site-packages\\altair\\vegalite\\data.py\u001b[0m in \u001b[0;36mdefault_data_transformer\u001b[1;34m(data, max_rows)\u001b[0m\n\u001b[0;32m     17\u001b[0m \u001b[1;33m@\u001b[0m\u001b[0mcurried\u001b[0m\u001b[1;33m.\u001b[0m\u001b[0mcurry\u001b[0m\u001b[1;33m\u001b[0m\u001b[1;33m\u001b[0m\u001b[0m\n\u001b[0;32m     18\u001b[0m \u001b[1;32mdef\u001b[0m \u001b[0mdefault_data_transformer\u001b[0m\u001b[1;33m(\u001b[0m\u001b[0mdata\u001b[0m\u001b[1;33m,\u001b[0m \u001b[0mmax_rows\u001b[0m\u001b[1;33m=\u001b[0m\u001b[1;36m5000\u001b[0m\u001b[1;33m)\u001b[0m\u001b[1;33m:\u001b[0m\u001b[1;33m\u001b[0m\u001b[1;33m\u001b[0m\u001b[0m\n\u001b[1;32m---> 19\u001b[1;33m     \u001b[1;32mreturn\u001b[0m \u001b[0mcurried\u001b[0m\u001b[1;33m.\u001b[0m\u001b[0mpipe\u001b[0m\u001b[1;33m(\u001b[0m\u001b[0mdata\u001b[0m\u001b[1;33m,\u001b[0m \u001b[0mlimit_rows\u001b[0m\u001b[1;33m(\u001b[0m\u001b[0mmax_rows\u001b[0m\u001b[1;33m=\u001b[0m\u001b[0mmax_rows\u001b[0m\u001b[1;33m)\u001b[0m\u001b[1;33m,\u001b[0m \u001b[0mto_values\u001b[0m\u001b[1;33m)\u001b[0m\u001b[1;33m\u001b[0m\u001b[1;33m\u001b[0m\u001b[0m\n\u001b[0m\u001b[0;32m     20\u001b[0m \u001b[1;33m\u001b[0m\u001b[0m\n\u001b[0;32m     21\u001b[0m \u001b[1;33m\u001b[0m\u001b[0m\n",
      "\u001b[1;32mc:\\users\\rsilva\\.virtualenvs\\prd-goxa2m4f\\lib\\site-packages\\toolz\\functoolz.py\u001b[0m in \u001b[0;36mpipe\u001b[1;34m(data, *funcs)\u001b[0m\n\u001b[0;32m    632\u001b[0m     \"\"\"\n\u001b[0;32m    633\u001b[0m     \u001b[1;32mfor\u001b[0m \u001b[0mfunc\u001b[0m \u001b[1;32min\u001b[0m \u001b[0mfuncs\u001b[0m\u001b[1;33m:\u001b[0m\u001b[1;33m\u001b[0m\u001b[1;33m\u001b[0m\u001b[0m\n\u001b[1;32m--> 634\u001b[1;33m         \u001b[0mdata\u001b[0m \u001b[1;33m=\u001b[0m \u001b[0mfunc\u001b[0m\u001b[1;33m(\u001b[0m\u001b[0mdata\u001b[0m\u001b[1;33m)\u001b[0m\u001b[1;33m\u001b[0m\u001b[1;33m\u001b[0m\u001b[0m\n\u001b[0m\u001b[0;32m    635\u001b[0m     \u001b[1;32mreturn\u001b[0m \u001b[0mdata\u001b[0m\u001b[1;33m\u001b[0m\u001b[1;33m\u001b[0m\u001b[0m\n\u001b[0;32m    636\u001b[0m \u001b[1;33m\u001b[0m\u001b[0m\n",
      "\u001b[1;32mc:\\users\\rsilva\\.virtualenvs\\prd-goxa2m4f\\lib\\site-packages\\toolz\\functoolz.py\u001b[0m in \u001b[0;36m__call__\u001b[1;34m(self, *args, **kwargs)\u001b[0m\n\u001b[0;32m    301\u001b[0m     \u001b[1;32mdef\u001b[0m \u001b[0m__call__\u001b[0m\u001b[1;33m(\u001b[0m\u001b[0mself\u001b[0m\u001b[1;33m,\u001b[0m \u001b[1;33m*\u001b[0m\u001b[0margs\u001b[0m\u001b[1;33m,\u001b[0m \u001b[1;33m**\u001b[0m\u001b[0mkwargs\u001b[0m\u001b[1;33m)\u001b[0m\u001b[1;33m:\u001b[0m\u001b[1;33m\u001b[0m\u001b[1;33m\u001b[0m\u001b[0m\n\u001b[0;32m    302\u001b[0m         \u001b[1;32mtry\u001b[0m\u001b[1;33m:\u001b[0m\u001b[1;33m\u001b[0m\u001b[1;33m\u001b[0m\u001b[0m\n\u001b[1;32m--> 303\u001b[1;33m             \u001b[1;32mreturn\u001b[0m \u001b[0mself\u001b[0m\u001b[1;33m.\u001b[0m\u001b[0m_partial\u001b[0m\u001b[1;33m(\u001b[0m\u001b[1;33m*\u001b[0m\u001b[0margs\u001b[0m\u001b[1;33m,\u001b[0m \u001b[1;33m**\u001b[0m\u001b[0mkwargs\u001b[0m\u001b[1;33m)\u001b[0m\u001b[1;33m\u001b[0m\u001b[1;33m\u001b[0m\u001b[0m\n\u001b[0m\u001b[0;32m    304\u001b[0m         \u001b[1;32mexcept\u001b[0m \u001b[0mTypeError\u001b[0m \u001b[1;32mas\u001b[0m \u001b[0mexc\u001b[0m\u001b[1;33m:\u001b[0m\u001b[1;33m\u001b[0m\u001b[1;33m\u001b[0m\u001b[0m\n\u001b[0;32m    305\u001b[0m             \u001b[1;32mif\u001b[0m \u001b[0mself\u001b[0m\u001b[1;33m.\u001b[0m\u001b[0m_should_curry\u001b[0m\u001b[1;33m(\u001b[0m\u001b[0margs\u001b[0m\u001b[1;33m,\u001b[0m \u001b[0mkwargs\u001b[0m\u001b[1;33m,\u001b[0m \u001b[0mexc\u001b[0m\u001b[1;33m)\u001b[0m\u001b[1;33m:\u001b[0m\u001b[1;33m\u001b[0m\u001b[1;33m\u001b[0m\u001b[0m\n",
      "\u001b[1;32mc:\\users\\rsilva\\.virtualenvs\\prd-goxa2m4f\\lib\\site-packages\\altair\\utils\\data.py\u001b[0m in \u001b[0;36mlimit_rows\u001b[1;34m(data, max_rows)\u001b[0m\n\u001b[0;32m     82\u001b[0m             \u001b[1;34m\"than the maximum allowed ({}). \"\u001b[0m\u001b[1;33m\u001b[0m\u001b[1;33m\u001b[0m\u001b[0m\n\u001b[0;32m     83\u001b[0m             \u001b[1;34m\"For information on how to plot larger datasets \"\u001b[0m\u001b[1;33m\u001b[0m\u001b[1;33m\u001b[0m\u001b[0m\n\u001b[1;32m---> 84\u001b[1;33m             \u001b[1;34m\"in Altair, see the documentation\"\u001b[0m\u001b[1;33m.\u001b[0m\u001b[0mformat\u001b[0m\u001b[1;33m(\u001b[0m\u001b[0mmax_rows\u001b[0m\u001b[1;33m)\u001b[0m\u001b[1;33m\u001b[0m\u001b[1;33m\u001b[0m\u001b[0m\n\u001b[0m\u001b[0;32m     85\u001b[0m         )\n\u001b[0;32m     86\u001b[0m     \u001b[1;32mreturn\u001b[0m \u001b[0mdata\u001b[0m\u001b[1;33m\u001b[0m\u001b[1;33m\u001b[0m\u001b[0m\n",
      "\u001b[1;31mMaxRowsError\u001b[0m: The number of rows in your dataset is greater than the maximum allowed (5000). For information on how to plot larger datasets in Altair, see the documentation"
     ]
    },
    {
     "data": {
      "text/plain": [
       "alt.Chart(...)"
      ]
     },
     "execution_count": 22,
     "metadata": {},
     "output_type": "execute_result"
    }
   ],
   "source": [
    "line_1"
   ]
  },
  {
   "cell_type": "code",
   "execution_count": 81,
   "metadata": {},
   "outputs": [],
   "source": [
    "# The basic line\n",
    "line_2 = alt.Chart(df).mark_line(interpolate='basis').encode(\n",
    "    x='Frequência:Q',\n",
    "    y='Ocupação:Q',\n",
    "    color='Tipo:N'\n",
    ")"
   ]
  },
  {
   "cell_type": "code",
   "execution_count": 82,
   "metadata": {},
   "outputs": [
    {
     "data": {
      "text/html": [
       "\n",
       "<div id=\"altair-viz-8d245d86979f444bad57ae65e38a27e7\"></div>\n",
       "<script type=\"text/javascript\">\n",
       "  (function(spec, embedOpt){\n",
       "    let outputDiv = document.currentScript.previousElementSibling;\n",
       "    if (outputDiv.id !== \"altair-viz-8d245d86979f444bad57ae65e38a27e7\") {\n",
       "      outputDiv = document.getElementById(\"altair-viz-8d245d86979f444bad57ae65e38a27e7\");\n",
       "    }\n",
       "    const paths = {\n",
       "      \"vega\": \"https://cdn.jsdelivr.net/npm//vega@5?noext\",\n",
       "      \"vega-lib\": \"https://cdn.jsdelivr.net/npm//vega-lib?noext\",\n",
       "      \"vega-lite\": \"https://cdn.jsdelivr.net/npm//vega-lite@4.8.1?noext\",\n",
       "      \"vega-embed\": \"https://cdn.jsdelivr.net/npm//vega-embed@6?noext\",\n",
       "    };\n",
       "\n",
       "    function loadScript(lib) {\n",
       "      return new Promise(function(resolve, reject) {\n",
       "        var s = document.createElement('script');\n",
       "        s.src = paths[lib];\n",
       "        s.async = true;\n",
       "        s.onload = () => resolve(paths[lib]);\n",
       "        s.onerror = () => reject(`Error loading script: ${paths[lib]}`);\n",
       "        document.getElementsByTagName(\"head\")[0].appendChild(s);\n",
       "      });\n",
       "    }\n",
       "\n",
       "    function showError(err) {\n",
       "      outputDiv.innerHTML = `<div class=\"error\" style=\"color:red;\">${err}</div>`;\n",
       "      throw err;\n",
       "    }\n",
       "\n",
       "    function displayChart(vegaEmbed) {\n",
       "      vegaEmbed(outputDiv, spec, embedOpt)\n",
       "        .catch(err => showError(`Javascript Error: ${err.message}<br>This usually means there's a typo in your chart specification. See the javascript console for the full traceback.`));\n",
       "    }\n",
       "\n",
       "    if(typeof define === \"function\" && define.amd) {\n",
       "      requirejs.config({paths});\n",
       "      require([\"vega-embed\"], displayChart, err => showError(`Error loading script: ${err.message}`));\n",
       "    } else if (typeof vegaEmbed === \"function\") {\n",
       "      displayChart(vegaEmbed);\n",
       "    } else {\n",
       "      loadScript(\"vega\")\n",
       "        .then(() => loadScript(\"vega-lite\"))\n",
       "        .then(() => loadScript(\"vega-embed\"))\n",
       "        .catch(showError)\n",
       "        .then(() => displayChart(vegaEmbed));\n",
       "    }\n",
       "  })({\"config\": {\"view\": {\"continuousWidth\": 400, \"continuousHeight\": 300}}, \"data\": {\"name\": \"data-205516caa8260278af7f7e7bfe5f9450\"}, \"mark\": {\"type\": \"line\", \"interpolate\": \"basis\"}, \"encoding\": {\"color\": {\"type\": \"nominal\", \"field\": \"Tipo\"}, \"x\": {\"type\": \"quantitative\", \"field\": \"Frequ\\u00eancia\"}, \"y\": {\"type\": \"quantitative\", \"field\": \"Ocupa\\u00e7\\u00e3o\"}}, \"$schema\": \"https://vega.github.io/schema/vega-lite/v4.8.1.json\", \"datasets\": {\"data-205516caa8260278af7f7e7bfe5f9450\": [{\"Frequ\\u00eancia\": 108.0, \"Tipo\": \"M\\u00e1xima\", \"N\\u00edvel\": -57.0, \"Ocupa\\u00e7\\u00e3o\": 1.0}, {\"Frequ\\u00eancia\": 117.99286051054085, \"Tipo\": \"M\\u00e1xima\", \"N\\u00edvel\": -56.0, \"Ocupa\\u00e7\\u00e3o\": 1.0}, {\"Frequ\\u00eancia\": 117.994813767091, \"Tipo\": \"M\\u00e1xima\", \"N\\u00edvel\": -43.5, \"Ocupa\\u00e7\\u00e3o\": 2.5}, {\"Frequ\\u00eancia\": 117.99676702364114, \"Tipo\": \"M\\u00e1xima\", \"N\\u00edvel\": -32.0, \"Ocupa\\u00e7\\u00e3o\": 5.0}, {\"Frequ\\u00eancia\": 117.99872028019129, \"Tipo\": \"M\\u00e1xima\", \"N\\u00edvel\": -28.5, \"Ocupa\\u00e7\\u00e3o\": 5.0}, {\"Frequ\\u00eancia\": 118.00067353674143, \"Tipo\": \"M\\u00e1xima\", \"N\\u00edvel\": -32.0, \"Ocupa\\u00e7\\u00e3o\": 4.5}, {\"Frequ\\u00eancia\": 118.00262679329157, \"Tipo\": \"M\\u00e1xima\", \"N\\u00edvel\": -42.5, \"Ocupa\\u00e7\\u00e3o\": 2.0}, {\"Frequ\\u00eancia\": 119.54765272445611, \"Tipo\": \"M\\u00e1xima\", \"N\\u00edvel\": -51.0, \"Ocupa\\u00e7\\u00e3o\": 3.0}, {\"Frequ\\u00eancia\": 119.54960598100628, \"Tipo\": \"M\\u00e1xima\", \"N\\u00edvel\": -50.5, \"Ocupa\\u00e7\\u00e3o\": 1.5}, {\"Frequ\\u00eancia\": 119.5515592375564, \"Tipo\": \"M\\u00e1xima\", \"N\\u00edvel\": -56.0, \"Ocupa\\u00e7\\u00e3o\": 1.5}, {\"Frequ\\u00eancia\": 119.7429783794706, \"Tipo\": \"M\\u00e1xima\", \"N\\u00edvel\": -48.5, \"Ocupa\\u00e7\\u00e3o\": 1.5}, {\"Frequ\\u00eancia\": 119.74493163602074, \"Tipo\": \"M\\u00e1xima\", \"N\\u00edvel\": -41.0, \"Ocupa\\u00e7\\u00e3o\": 6.0}, {\"Frequ\\u00eancia\": 119.74688489257088, \"Tipo\": \"M\\u00e1xima\", \"N\\u00edvel\": -33.0, \"Ocupa\\u00e7\\u00e3o\": 5.5}, {\"Frequ\\u00eancia\": 119.74883814912106, \"Tipo\": \"M\\u00e1xima\", \"N\\u00edvel\": -29.0, \"Ocupa\\u00e7\\u00e3o\": 11.0}, {\"Frequ\\u00eancia\": 119.7507914056712, \"Tipo\": \"M\\u00e1xima\", \"N\\u00edvel\": -32.0, \"Ocupa\\u00e7\\u00e3o\": 5.0}, {\"Frequ\\u00eancia\": 119.75274466222132, \"Tipo\": \"M\\u00e1xima\", \"N\\u00edvel\": -39.0, \"Ocupa\\u00e7\\u00e3o\": 3.5}, {\"Frequ\\u00eancia\": 120.39536606721896, \"Tipo\": \"M\\u00e1xima\", \"N\\u00edvel\": -53.0, \"Ocupa\\u00e7\\u00e3o\": 2.0}, {\"Frequ\\u00eancia\": 120.39731932376912, \"Tipo\": \"M\\u00e1xima\", \"N\\u00edvel\": -51.0, \"Ocupa\\u00e7\\u00e3o\": 2.5}, {\"Frequ\\u00eancia\": 122.3974540311174, \"Tipo\": \"M\\u00e1xima\", \"N\\u00edvel\": -53.5, \"Ocupa\\u00e7\\u00e3o\": 1.0}, {\"Frequ\\u00eancia\": 123.44635279854515, \"Tipo\": \"M\\u00e1xima\", \"N\\u00edvel\": -41.5, \"Ocupa\\u00e7\\u00e3o\": 1.5}, {\"Frequ\\u00eancia\": 123.44830605509529, \"Tipo\": \"M\\u00e1xima\", \"N\\u00edvel\": -37.0, \"Ocupa\\u00e7\\u00e3o\": 2.0}, {\"Frequ\\u00eancia\": 123.45025931164542, \"Tipo\": \"M\\u00e1xima\", \"N\\u00edvel\": -38.5, \"Ocupa\\u00e7\\u00e3o\": 2.0}, {\"Frequ\\u00eancia\": 123.45221256819559, \"Tipo\": \"M\\u00e1xima\", \"N\\u00edvel\": -47.5, \"Ocupa\\u00e7\\u00e3o\": 1.0}, {\"Frequ\\u00eancia\": 130.49956220111807, \"Tipo\": \"M\\u00e1xima\", \"N\\u00edvel\": -53.0, \"Ocupa\\u00e7\\u00e3o\": 2.0}, {\"Frequ\\u00eancia\": 131.8727015558699, \"Tipo\": \"M\\u00e1xima\", \"N\\u00edvel\": -47.5, \"Ocupa\\u00e7\\u00e3o\": 2.0}, {\"Frequ\\u00eancia\": 131.87465481241998, \"Tipo\": \"M\\u00e1xima\", \"N\\u00edvel\": -45.0, \"Ocupa\\u00e7\\u00e3o\": 2.0}, {\"Frequ\\u00eancia\": 131.87660806897017, \"Tipo\": \"M\\u00e1xima\", \"N\\u00edvel\": -49.5, \"Ocupa\\u00e7\\u00e3o\": 1.5}, {\"Frequ\\u00eancia\": 131.99770997507915, \"Tipo\": \"M\\u00e1xima\", \"N\\u00edvel\": -54.5, \"Ocupa\\u00e7\\u00e3o\": 1.0}, {\"Frequ\\u00eancia\": 131.99966323162928, \"Tipo\": \"M\\u00e1xima\", \"N\\u00edvel\": -51.5, \"Ocupa\\u00e7\\u00e3o\": 3.5}, {\"Frequ\\u00eancia\": 135.99602613322554, \"Tipo\": \"M\\u00e1xima\", \"N\\u00edvel\": -46.0, \"Ocupa\\u00e7\\u00e3o\": 1.5}, {\"Frequ\\u00eancia\": 135.9979793897757, \"Tipo\": \"M\\u00e1xima\", \"N\\u00edvel\": -38.5, \"Ocupa\\u00e7\\u00e3o\": 5.0}, {\"Frequ\\u00eancia\": 135.99993264632585, \"Tipo\": \"M\\u00e1xima\", \"N\\u00edvel\": -36.5, \"Ocupa\\u00e7\\u00e3o\": 5.5}, {\"Frequ\\u00eancia\": 136.00188590287598, \"Tipo\": \"M\\u00e1xima\", \"N\\u00edvel\": -38.0, \"Ocupa\\u00e7\\u00e3o\": 3.0}, {\"Frequ\\u00eancia\": 136.00383915942615, \"Tipo\": \"M\\u00e1xima\", \"N\\u00edvel\": -39.0, \"Ocupa\\u00e7\\u00e3o\": 1.0}]}}, {\"mode\": \"vega-lite\"});\n",
       "</script>"
      ],
      "text/plain": [
       "alt.Chart(...)"
      ]
     },
     "execution_count": 82,
     "metadata": {},
     "output_type": "execute_result"
    }
   ],
   "source": [
    "line_2"
   ]
  },
  {
   "cell_type": "code",
   "execution_count": 83,
   "metadata": {},
   "outputs": [],
   "source": [
    "# Transparent selectors across the chart. This is what tells us\n",
    "# the x-value of the cursor\n",
    "selectors = alt.Chart(df).mark_point().encode(\n",
    "    x='Frequência:Q',\n",
    "    opacity=alt.value(0),\n",
    ").add_selection(\n",
    "    nearest\n",
    ")"
   ]
  },
  {
   "cell_type": "code",
   "execution_count": 84,
   "metadata": {},
   "outputs": [],
   "source": [
    "# Draw points on the line, and highlight based on selection\n",
    "points_1 = line_1.mark_point().encode(opacity=alt.condition(nearest, alt.value(1), alt.value(0)))"
   ]
  },
  {
   "cell_type": "code",
   "execution_count": 85,
   "metadata": {},
   "outputs": [],
   "source": [
    "# Draw points on the line, and highlight based on selection\n",
    "points_2 = line_2.mark_point().encode(opacity=alt.condition(nearest, alt.value(1), alt.value(0)))"
   ]
  },
  {
   "cell_type": "code",
   "execution_count": 86,
   "metadata": {},
   "outputs": [],
   "source": [
    "# Draw text labels near the points, and highlight based on selection\n",
    "text_1 = line_1.mark_text(align='left', dx=5, dy=-5).encode(\n",
    "                     text=alt.condition(nearest, 'Nível:Q', alt.value(' ')))"
   ]
  },
  {
   "cell_type": "code",
   "execution_count": 87,
   "metadata": {},
   "outputs": [],
   "source": [
    "# Draw text labels near the points, and highlight based on selection\n",
    "text_2 = line_2.mark_text(align='left', dx=5, dy=-15).encode(\n",
    "                     text=alt.condition(nearest, 'Ocupação:Q', alt.value(' ')))"
   ]
  },
  {
   "cell_type": "code",
   "execution_count": 88,
   "metadata": {},
   "outputs": [],
   "source": [
    "# Draw a rule at the location of the selection\n",
    "rules = alt.Chart(df).mark_rule(color='gray').encode(\n",
    "    x='Frequência:Q',\n",
    ").transform_filter(\n",
    "    nearest\n",
    ")"
   ]
  },
  {
   "cell_type": "code",
   "execution_count": 89,
   "metadata": {},
   "outputs": [],
   "source": [
    "# Draw text labels near the points, and highlight based on selection\n",
    "text_3 = rules.mark_text(align='left', dx=70, dy=15).encode(\n",
    "                     text=alt.condition(nearest, 'Frequência:Q', alt.value(' ')))"
   ]
  },
  {
   "cell_type": "code",
   "execution_count": 90,
   "metadata": {},
   "outputs": [],
   "source": [
    "# Put the five layers into a chart and bind the data\n",
    "chart = alt.layer(line_1, line_2, selectors, points_1, points_2, rules, text_1, text_2, text_3).properties(\n",
    "    width=1920, height=1080)"
   ]
  },
  {
   "cell_type": "code",
   "execution_count": 91,
   "metadata": {},
   "outputs": [],
   "source": [
    "chart.save(f'{PATH}/108-137.html', 'html')"
   ]
  },
  {
   "cell_type": "code",
   "execution_count": null,
   "metadata": {},
   "outputs": [],
   "source": []
  }
 ],
 "metadata": {
  "kernelspec": {
   "display_name": "prd",
   "language": "python",
   "name": "prd"
  },
  "language_info": {
   "codemirror_mode": {
    "name": "ipython",
    "version": 3
   },
   "file_extension": ".py",
   "mimetype": "text/x-python",
   "name": "python",
   "nbconvert_exporter": "python",
   "pygments_lexer": "ipython3",
   "version": "3.7.5"
  }
 },
 "nbformat": 4,
 "nbformat_minor": 4
}
