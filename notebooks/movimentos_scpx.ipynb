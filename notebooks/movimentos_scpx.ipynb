{
 "cells": [
  {
   "cell_type": "code",
   "execution_count": 21,
   "metadata": {
    "ExecuteTime": {
     "end_time": "2019-09-20T17:34:51.430685Z",
     "start_time": "2019-09-20T17:34:51.083215Z"
    }
   },
   "outputs": [],
   "source": [
    "import os\n",
    "\n",
    "os.chdir(\"C:/Users/rsilva/automation\")\n",
    "\n",
    "from sistemas.sistemas import Scpx\n",
    "import selenium.webdriver as webdriver\n",
    "import pandas as pd\n",
    "from tqdm import tqdm_notebook\n",
    "\n",
    "DF = r\"C:\\Users\\rsilva\\Google Drive\\anatel\\Cassacao\\Serviços.xlsm\"\n",
    "\n",
    "%reload_ext autoreload\n",
    "%autoreload 2"
   ]
  },
  {
   "cell_type": "code",
   "execution_count": 23,
   "metadata": {
    "ExecuteTime": {
     "end_time": "2019-09-20T17:37:21.255956Z",
     "start_time": "2019-09-20T17:37:19.515488Z"
    }
   },
   "outputs": [],
   "source": [
    "driver = webdriver.Ie()"
   ]
  },
  {
   "cell_type": "code",
   "execution_count": 24,
   "metadata": {
    "ExecuteTime": {
     "end_time": "2019-09-20T17:37:26.079208Z",
     "start_time": "2019-09-20T17:37:25.740544Z"
    }
   },
   "outputs": [],
   "source": [
    "scpx = Scpx(driver)"
   ]
  },
  {
   "cell_type": "code",
   "execution_count": 27,
   "metadata": {
    "ExecuteTime": {
     "end_time": "2019-09-20T22:05:29.146324Z",
     "start_time": "2019-09-20T22:04:00.693595Z"
    }
   },
   "outputs": [],
   "source": [
    "df = pd.read_excel(DF,\"SCPX\", dtype=str, low_memory=True)"
   ]
  },
  {
   "cell_type": "code",
   "execution_count": 16,
   "metadata": {
    "ExecuteTime": {
     "end_time": "2019-09-20T17:34:04.130727Z",
     "start_time": "2019-09-20T17:34:03.814493Z"
    }
   },
   "outputs": [],
   "source": [
    "df = df[df.TipoMovimento == \"G\"]"
   ]
  },
  {
   "cell_type": "code",
   "execution_count": 17,
   "metadata": {
    "ExecuteTime": {
     "end_time": "2019-09-20T17:34:05.246639Z",
     "start_time": "2019-09-20T17:34:04.961814Z"
    }
   },
   "outputs": [
    {
     "data": {
      "text/html": [
       "<div>\n",
       "<style scoped>\n",
       "    .dataframe tbody tr th:only-of-type {\n",
       "        vertical-align: middle;\n",
       "    }\n",
       "\n",
       "    .dataframe tbody tr th {\n",
       "        vertical-align: top;\n",
       "    }\n",
       "\n",
       "    .dataframe thead th {\n",
       "        text-align: right;\n",
       "    }\n",
       "</style>\n",
       "<table border=\"1\" class=\"dataframe\">\n",
       "  <thead>\n",
       "    <tr style=\"text-align: right;\">\n",
       "      <th></th>\n",
       "      <th>Fistel</th>\n",
       "      <th>Nome</th>\n",
       "      <th>NumCnpjCpf</th>\n",
       "      <th>Indicativo</th>\n",
       "      <th>TipoMovimento</th>\n",
       "      <th>ValEstação</th>\n",
       "      <th>ValRF</th>\n",
       "      <th>DataExclusãoServiço</th>\n",
       "      <th>DataExclusãoEstação</th>\n",
       "      <th>Logradouro</th>\n",
       "      <th>Número</th>\n",
       "      <th>Complemento</th>\n",
       "      <th>Bairro</th>\n",
       "      <th>Cidade</th>\n",
       "      <th>UF</th>\n",
       "      <th>CEP</th>\n",
       "      <th>Email</th>\n",
       "      <th>Coluna1</th>\n",
       "      <th>CNPJ/CPF</th>\n",
       "      <th>Fistel2</th>\n",
       "    </tr>\n",
       "  </thead>\n",
       "  <tbody>\n",
       "    <tr>\n",
       "      <th>48008</th>\n",
       "      <td>03021344682</td>\n",
       "      <td>JOSE ANTONIO MARTINS DA SILVA</td>\n",
       "      <td>57821763004</td>\n",
       "      <td>PX3C7945</td>\n",
       "      <td>G</td>\n",
       "      <td>2007-08-19 00:00:00</td>\n",
       "      <td>NaN</td>\n",
       "      <td>NaN</td>\n",
       "      <td>NaN</td>\n",
       "      <td>RUA OLIVIO PRADO, 52</td>\n",
       "      <td>.</td>\n",
       "      <td>NaN</td>\n",
       "      <td>CENTRO</td>\n",
       "      <td>Tupanciretã</td>\n",
       "      <td>RS</td>\n",
       "      <td>98170000</td>\n",
       "      <td>m.digital@terra.com.br</td>\n",
       "      <td>03021344682,</td>\n",
       "      <td>NaN</td>\n",
       "      <td>NaN</td>\n",
       "    </tr>\n",
       "    <tr>\n",
       "      <th>48637</th>\n",
       "      <td>15001087406</td>\n",
       "      <td>RENATO DE FREITAS GOMES</td>\n",
       "      <td>53325060900</td>\n",
       "      <td>PX9C8885</td>\n",
       "      <td>G</td>\n",
       "      <td>2007-11-25 00:00:00</td>\n",
       "      <td>NaN</td>\n",
       "      <td>NaN</td>\n",
       "      <td>2008-04-17 17:49:45.020000</td>\n",
       "      <td>BR DOS EMIGRANTES KM 08</td>\n",
       "      <td>.</td>\n",
       "      <td>NaN</td>\n",
       "      <td>SAO MATEUS</td>\n",
       "      <td>Várzea Grande</td>\n",
       "      <td>MT</td>\n",
       "      <td>78110000</td>\n",
       "      <td>radioscom@radioscom.com.br</td>\n",
       "      <td>15001087406,</td>\n",
       "      <td>NaN</td>\n",
       "      <td>NaN</td>\n",
       "    </tr>\n",
       "    <tr>\n",
       "      <th>54647</th>\n",
       "      <td>02035594790</td>\n",
       "      <td>PAULO APARECIDO PIRES</td>\n",
       "      <td>03635059897</td>\n",
       "      <td>PX2K0328</td>\n",
       "      <td>G</td>\n",
       "      <td>2008-03-31 00:00:00</td>\n",
       "      <td>NaN</td>\n",
       "      <td>NaN</td>\n",
       "      <td>2007-02-28 11:56:22</td>\n",
       "      <td>RUA DORIVAL BARBIERI 56</td>\n",
       "      <td>.</td>\n",
       "      <td>NaN</td>\n",
       "      <td>JARDIM PARAISO</td>\n",
       "      <td>Américo Brasiliense</td>\n",
       "      <td>SP</td>\n",
       "      <td>14820000</td>\n",
       "      <td>fabio.tav@zipmail.com.br</td>\n",
       "      <td>02035594790,</td>\n",
       "      <td>NaN</td>\n",
       "      <td>NaN</td>\n",
       "    </tr>\n",
       "    <tr>\n",
       "      <th>54648</th>\n",
       "      <td>02035594790</td>\n",
       "      <td>PAULO APARECIDO PIRES</td>\n",
       "      <td>03635059897</td>\n",
       "      <td>PX2K0328</td>\n",
       "      <td>G</td>\n",
       "      <td>2008-03-31 00:00:00</td>\n",
       "      <td>NaN</td>\n",
       "      <td>NaN</td>\n",
       "      <td>2007-02-28 11:56:24.780000</td>\n",
       "      <td>RUA DORIVAL BARBIERI 56</td>\n",
       "      <td>.</td>\n",
       "      <td>NaN</td>\n",
       "      <td>JARDIM PARAISO</td>\n",
       "      <td>Américo Brasiliense</td>\n",
       "      <td>SP</td>\n",
       "      <td>14820000</td>\n",
       "      <td>fabio.tav@zipmail.com.br</td>\n",
       "      <td>02035594790,</td>\n",
       "      <td>NaN</td>\n",
       "      <td>NaN</td>\n",
       "    </tr>\n",
       "    <tr>\n",
       "      <th>55583</th>\n",
       "      <td>03030368939</td>\n",
       "      <td>VALDIR CARLOS FENGLER</td>\n",
       "      <td>42962390072</td>\n",
       "      <td>PX3C1140</td>\n",
       "      <td>G</td>\n",
       "      <td>2008-03-31 00:00:00</td>\n",
       "      <td>NaN</td>\n",
       "      <td>NaN</td>\n",
       "      <td>2008-11-30 19:58:16.147000</td>\n",
       "      <td>LINHA DONA JOSEFA</td>\n",
       "      <td>.</td>\n",
       "      <td>NaN</td>\n",
       "      <td>RURAL</td>\n",
       "      <td>Vera Cruz</td>\n",
       "      <td>RS</td>\n",
       "      <td>96880000</td>\n",
       "      <td>vfengler@hotmail.com</td>\n",
       "      <td>03030368939,</td>\n",
       "      <td>NaN</td>\n",
       "      <td>NaN</td>\n",
       "    </tr>\n",
       "  </tbody>\n",
       "</table>\n",
       "</div>"
      ],
      "text/plain": [
       "            Fistel                           Nome   NumCnpjCpf Indicativo  \\\n",
       "48008  03021344682  JOSE ANTONIO MARTINS DA SILVA  57821763004   PX3C7945   \n",
       "48637  15001087406        RENATO DE FREITAS GOMES  53325060900   PX9C8885   \n",
       "54647  02035594790          PAULO APARECIDO PIRES  03635059897   PX2K0328   \n",
       "54648  02035594790          PAULO APARECIDO PIRES  03635059897   PX2K0328   \n",
       "55583  03030368939          VALDIR CARLOS FENGLER  42962390072   PX3C1140   \n",
       "\n",
       "      TipoMovimento           ValEstação ValRF DataExclusãoServiço  \\\n",
       "48008             G  2007-08-19 00:00:00   NaN                 NaN   \n",
       "48637             G  2007-11-25 00:00:00   NaN                 NaN   \n",
       "54647             G  2008-03-31 00:00:00   NaN                 NaN   \n",
       "54648             G  2008-03-31 00:00:00   NaN                 NaN   \n",
       "55583             G  2008-03-31 00:00:00   NaN                 NaN   \n",
       "\n",
       "              DataExclusãoEstação               Logradouro Número Complemento  \\\n",
       "48008                         NaN     RUA OLIVIO PRADO, 52      .         NaN   \n",
       "48637  2008-04-17 17:49:45.020000  BR DOS EMIGRANTES KM 08      .         NaN   \n",
       "54647         2007-02-28 11:56:22  RUA DORIVAL BARBIERI 56      .         NaN   \n",
       "54648  2007-02-28 11:56:24.780000  RUA DORIVAL BARBIERI 56      .         NaN   \n",
       "55583  2008-11-30 19:58:16.147000        LINHA DONA JOSEFA      .         NaN   \n",
       "\n",
       "               Bairro               Cidade  UF       CEP  \\\n",
       "48008          CENTRO          Tupanciretã  RS  98170000   \n",
       "48637      SAO MATEUS        Várzea Grande  MT  78110000   \n",
       "54647  JARDIM PARAISO  Américo Brasiliense  SP  14820000   \n",
       "54648  JARDIM PARAISO  Américo Brasiliense  SP  14820000   \n",
       "55583           RURAL            Vera Cruz  RS  96880000   \n",
       "\n",
       "                            Email       Coluna1 CNPJ/CPF Fistel2  \n",
       "48008      m.digital@terra.com.br  03021344682,      NaN     NaN  \n",
       "48637  radioscom@radioscom.com.br  15001087406,      NaN     NaN  \n",
       "54647    fabio.tav@zipmail.com.br  02035594790,      NaN     NaN  \n",
       "54648    fabio.tav@zipmail.com.br  02035594790,      NaN     NaN  \n",
       "55583        vfengler@hotmail.com  03030368939,      NaN     NaN  "
      ]
     },
     "execution_count": 17,
     "metadata": {},
     "output_type": "execute_result"
    }
   ],
   "source": [
    "df.head()"
   ]
  },
  {
   "cell_type": "code",
   "execution_count": 25,
   "metadata": {
    "ExecuteTime": {
     "end_time": "2019-09-20T18:27:30.833650Z",
     "start_time": "2019-09-20T17:37:31.823822Z"
    }
   },
   "outputs": [
    {
     "data": {
      "application/vnd.jupyter.widget-view+json": {
       "model_id": "cc6781e0e1bf43c880e7b0b2a2016979",
       "version_major": 2,
       "version_minor": 0
      },
      "text/plain": [
       "HBox(children=(IntProgress(value=0, max=2479), HTML(value='')))"
      ]
     },
     "metadata": {},
     "output_type": "display_data"
    },
    {
     "name": "stdout",
     "output_type": "stream",
     "text": [
      "\n"
     ]
    }
   ],
   "source": [
    "sucess = []\n",
    "\n",
    "for col in tqdm_notebook(df.itertuples(), total=df.shape[0]):\n",
    "    i, ind, mov = col[0], col[4], col[5]\n",
    "    \n",
    "    try:    \n",
    "        if mov in (\"A\", \"B\"):\n",
    "            scpx.movimento_transferir(ind, mov, \"G\", tipo_id=\"id_indicativo\", proc=\"53504.0000002019-01\", timeout=4)            \n",
    "            scpx.movimento_cancelar(ind, tipo_id=\"id_indicativo\", timeout=4)\n",
    "\n",
    "        elif mov == \"G\":\n",
    "            scpx.movimento_cancelar(ind, tipo_id=\"id_indicativo\", timeout=1)\n",
    "            \n",
    "        sucess.append(ind)\n",
    "    except:\n",
    "        continue"
   ]
  },
  {
   "cell_type": "code",
   "execution_count": 96,
   "metadata": {
    "ExecuteTime": {
     "end_time": "2019-09-11T16:08:07.150302Z",
     "start_time": "2019-09-11T16:08:06.878220Z"
    }
   },
   "outputs": [],
   "source": [
    "sucess = nums"
   ]
  },
  {
   "cell_type": "code",
   "execution_count": 97,
   "metadata": {
    "ExecuteTime": {
     "end_time": "2019-09-11T16:18:40.226190Z",
     "start_time": "2019-09-11T16:08:16.977066Z"
    }
   },
   "outputs": [
    {
     "data": {
      "application/vnd.jupyter.widget-view+json": {
       "model_id": "c313ab842acb441297c5bb2cdd12f850",
       "version_major": 2,
       "version_minor": 0
      },
      "text/plain": [
       "HBox(children=(IntProgress(value=0, max=56), HTML(value='')))"
      ]
     },
     "metadata": {},
     "output_type": "display_data"
    },
    {
     "name": "stdout",
     "output_type": "stream",
     "text": [
      "\n"
     ]
    }
   ],
   "source": [
    "for ind in tqdm_notebook(nums):\n",
    "    \n",
    "    try:          \n",
    "        scpx.movimento_transferir(ind, \"A\", \"G\", tipo_id=\"id_indicativo\", proc = \"53504.0000002019-01\", timeout=4)        \n",
    "        sleep(2)      \n",
    "        \n",
    "    except:\n",
    "        pass\n",
    "    \n",
    "    try:\n",
    "        scpx.movimento_cancelar(ind, tipo_id=\"id_indicativo\", timeout=4)\n",
    "    except:\n",
    "        pass\n",
    "\n",
    "        \n",
    "    sucess.remove(ind)"
   ]
  }
 ],
 "metadata": {
  "jupytext": {
   "formats": "ipynb,py:percent"
  },
  "kernelspec": {
   "display_name": "Python [conda env:automation]",
   "language": "python",
   "name": "conda-env-automation-py"
  },
  "language_info": {
   "codemirror_mode": {
    "name": "ipython",
    "version": 3
   },
   "file_extension": ".py",
   "mimetype": "text/x-python",
   "name": "python",
   "nbconvert_exporter": "python",
   "pygments_lexer": "ipython3",
   "version": "3.7.3"
  },
  "toc": {
   "base_numbering": 1,
   "nav_menu": {},
   "number_sections": true,
   "sideBar": true,
   "skip_h1_title": false,
   "title_cell": "Table of Contents",
   "title_sidebar": "Contents",
   "toc_cell": false,
   "toc_position": {},
   "toc_section_display": true,
   "toc_window_display": false
  },
  "varInspector": {
   "cols": {
    "lenName": 16,
    "lenType": 16,
    "lenVar": 40
   },
   "kernels_config": {
    "python": {
     "delete_cmd_postfix": "",
     "delete_cmd_prefix": "del ",
     "library": "var_list.py",
     "varRefreshCmd": "print(var_dic_list())"
    },
    "r": {
     "delete_cmd_postfix": ") ",
     "delete_cmd_prefix": "rm(",
     "library": "var_list.r",
     "varRefreshCmd": "cat(var_dic_list()) "
    }
   },
   "types_to_exclude": [
    "module",
    "function",
    "builtin_function_or_method",
    "instance",
    "_Feature"
   ],
   "window_display": false
  }
 },
 "nbformat": 4,
 "nbformat_minor": 2
}
