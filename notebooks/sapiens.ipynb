{
 "cells": [
  {
   "cell_type": "code",
   "execution_count": 1,
   "metadata": {},
   "outputs": [],
   "source": [
    "import pandas as pd\n",
    "import os\n",
    "import gc\n",
    "import pickle\n",
    "import numpy as np\n",
    "\n",
    "from time import sleep\n",
    "\n",
    "import gspread_dataframe as gs_df\n",
    "\n",
    "os.chdir(\"c:/Users/rsilva/Google Drive/projects/programming/automation\")\n",
    "\n",
    "# INITIALIZE DRIVER\n",
    "from selenium import webdriver\n",
    "from sapiens import LoginPage, KEYS, Page_sapiens\n",
    "import functions\n",
    "#import sistemas\n",
    "\n",
    "\n",
    "% reload_ext autoreload\n",
    "% autoreload 2\n",
    "\n",
    "CPF = '33831640807'\n",
    "PASS_1 = \"Fer465023@ur_\"\n",
    "PASS_2 = \"Fer465023\""
   ]
  },
  {
   "cell_type": "markdown",
   "metadata": {},
   "source": [
    "### Loga Driver no Sapiens"
   ]
  },
  {
   "cell_type": "code",
   "execution_count": 3,
   "metadata": {},
   "outputs": [],
   "source": [
    "def start_sapiens(cpf, senha, sapies=None):   \n",
    "   \n",
    "    page = functions.init_browser(webdriver.Firefox(), 'rsilva', 'Savorthemom3nts')\n",
    "    driver = LoginPage(page.driver).login(cpf, senha)\n",
    "    \n",
    "    if sapiens:\n",
    "        \n",
    "        sapiens.reset_driver(driver)\n",
    "        \n",
    "    else:\n",
    "        \n",
    "        sapiens = Page_sapiens(driver, {})\n",
    "        \n",
    "    return sapiens"
   ]
  },
  {
   "cell_type": "markdown",
   "metadata": {},
   "source": [
    "### Cria/Carrega o Data Frame para exportar os dados"
   ]
  },
  {
   "cell_type": "code",
   "execution_count": 2,
   "metadata": {},
   "outputs": [],
   "source": [
    "#database = pd.read_csv(\"registros_cadin.csv\")"
   ]
  },
  {
   "cell_type": "code",
   "execution_count": 3,
   "metadata": {},
   "outputs": [],
   "source": [
    "#database = database.dropna(subset=[\"CPF\"])"
   ]
  },
  {
   "cell_type": "code",
   "execution_count": 5,
   "metadata": {},
   "outputs": [],
   "source": [
    "#registros = {row[1][\"CPF\"]:{k:v for k,v in row[1].items()} for row in database.iterrows()}"
   ]
  },
  {
   "cell_type": "code",
   "execution_count": 5,
   "metadata": {},
   "outputs": [
    {
     "ename": "UnboundLocalError",
     "evalue": "local variable 'sapiens' referenced before assignment",
     "output_type": "error",
     "traceback": [
      "\u001b[1;31m---------------------------------------------------------------------------\u001b[0m",
      "\u001b[1;31mUnboundLocalError\u001b[0m                         Traceback (most recent call last)",
      "\u001b[1;32m<ipython-input-5-3685b591d220>\u001b[0m in \u001b[0;36m<module>\u001b[1;34m()\u001b[0m\n\u001b[1;32m----> 1\u001b[1;33m \u001b[0msapiens\u001b[0m \u001b[1;33m=\u001b[0m \u001b[0mstart_sapiens\u001b[0m\u001b[1;33m(\u001b[0m\u001b[0mCPF\u001b[0m\u001b[1;33m,\u001b[0m \u001b[0mPASS_2\u001b[0m\u001b[1;33m,\u001b[0m \u001b[1;32mNone\u001b[0m\u001b[1;33m)\u001b[0m\u001b[1;33m\u001b[0m\u001b[0m\n\u001b[0m",
      "\u001b[1;32m<ipython-input-3-b1ebcf192d5a>\u001b[0m in \u001b[0;36mstart_sapiens\u001b[1;34m(cpf, senha, sapies)\u001b[0m\n\u001b[0;32m      4\u001b[0m     \u001b[0mdriver\u001b[0m \u001b[1;33m=\u001b[0m \u001b[0mLoginPage\u001b[0m\u001b[1;33m(\u001b[0m\u001b[0mpage\u001b[0m\u001b[1;33m.\u001b[0m\u001b[0mdriver\u001b[0m\u001b[1;33m)\u001b[0m\u001b[1;33m.\u001b[0m\u001b[0mlogin\u001b[0m\u001b[1;33m(\u001b[0m\u001b[0mcpf\u001b[0m\u001b[1;33m,\u001b[0m \u001b[0msenha\u001b[0m\u001b[1;33m)\u001b[0m\u001b[1;33m\u001b[0m\u001b[0m\n\u001b[0;32m      5\u001b[0m \u001b[1;33m\u001b[0m\u001b[0m\n\u001b[1;32m----> 6\u001b[1;33m     \u001b[1;32mif\u001b[0m \u001b[0msapiens\u001b[0m\u001b[1;33m:\u001b[0m\u001b[1;33m\u001b[0m\u001b[0m\n\u001b[0m\u001b[0;32m      7\u001b[0m \u001b[1;33m\u001b[0m\u001b[0m\n\u001b[0;32m      8\u001b[0m         \u001b[0msapiens\u001b[0m\u001b[1;33m.\u001b[0m\u001b[0mreset_driver\u001b[0m\u001b[1;33m(\u001b[0m\u001b[0mdriver\u001b[0m\u001b[1;33m)\u001b[0m\u001b[1;33m\u001b[0m\u001b[0m\n",
      "\u001b[1;31mUnboundLocalError\u001b[0m: local variable 'sapiens' referenced before assignment"
     ]
    }
   ],
   "source": [
    "sapiens = start_sapiens(CPF, PASS_2, None)"
   ]
  },
  {
   "cell_type": "markdown",
   "metadata": {},
   "source": [
    "### Autenticar e Abrir planilhas Google"
   ]
  },
  {
   "cell_type": "code",
   "execution_count": 5,
   "metadata": {},
   "outputs": [],
   "source": [
    "#gc = functions.authenticate_google(\"files/anatel.json\")\n",
    "#sht = gc.open(title='RA')"
   ]
  },
  {
   "cell_type": "code",
   "execution_count": null,
   "metadata": {},
   "outputs": [],
   "source": [
    "#registros = sht.worksheet('Registros')\n",
    "#registros = sht.get_worksheet(0)\n",
    "#df_registros = gs_df.get_as_dataframe(registros, dtype=str)\n",
    "#registros_rf = sht.worksheet('Registros_RF')\n",
    "#df_registro_rf = gs_df.get_as_dataframe(registros_rf, dtype=str)\n",
    "df = pd.DataFrame(columns=KEYS)"
   ]
  },
  {
   "cell_type": "code",
   "execution_count": 7,
   "metadata": {},
   "outputs": [],
   "source": [
    "#processo = sht.worksheet(\"53504.005667/2018-21\")\n",
    "#df_processo = gs_df.get_as_dataframe(processo, dtype=str)\n",
    "\n",
    "path = \"files/\"\n",
    "devolvidos = pd.read_excel(path+\"devolvidos.xlsx\", dtype=str)"
   ]
  },
  {
   "cell_type": "code",
   "execution_count": 8,
   "metadata": {},
   "outputs": [
    {
     "data": {
      "text/html": [
       "<div>\n",
       "<style scoped>\n",
       "    .dataframe tbody tr th:only-of-type {\n",
       "        vertical-align: middle;\n",
       "    }\n",
       "\n",
       "    .dataframe tbody tr th {\n",
       "        vertical-align: top;\n",
       "    }\n",
       "\n",
       "    .dataframe thead th {\n",
       "        text-align: right;\n",
       "    }\n",
       "</style>\n",
       "<table border=\"1\" class=\"dataframe\">\n",
       "  <thead>\n",
       "    <tr style=\"text-align: right;\">\n",
       "      <th></th>\n",
       "      <th>Entidade</th>\n",
       "      <th>UF</th>\n",
       "      <th>Fistel</th>\n",
       "      <th>Seq.</th>\n",
       "      <th>Receita</th>\n",
       "      <th>Serviço</th>\n",
       "      <th>Data Vencimento</th>\n",
       "      <th>Nº Comunicado</th>\n",
       "      <th>Data Comunicado</th>\n",
       "      <th>Valor Comunicado</th>\n",
       "      <th>Gestor</th>\n",
       "      <th>Situação</th>\n",
       "    </tr>\n",
       "  </thead>\n",
       "  <tbody>\n",
       "    <tr>\n",
       "      <th>0</th>\n",
       "      <td>11500 EMPREENDIMENTOS LTDA - EPP</td>\n",
       "      <td>SP</td>\n",
       "      <td>50402126742</td>\n",
       "      <td>24</td>\n",
       "      <td>1329</td>\n",
       "      <td>28</td>\n",
       "      <td>2015-03-31 00:00:00</td>\n",
       "      <td>010-066406/2017</td>\n",
       "      <td>2017-11-09 07:29:01</td>\n",
       "      <td>296.5</td>\n",
       "      <td>sandroramos</td>\n",
       "      <td>Débito</td>\n",
       "    </tr>\n",
       "    <tr>\n",
       "      <th>1</th>\n",
       "      <td>24/7 INTELIGENCIA DIGITAL LTDA.</td>\n",
       "      <td>SP</td>\n",
       "      <td>50406459290</td>\n",
       "      <td>18</td>\n",
       "      <td>1329</td>\n",
       "      <td>19</td>\n",
       "      <td>2015-03-31 00:00:00</td>\n",
       "      <td>010-066408/2017</td>\n",
       "      <td>2017-11-09 07:29:10</td>\n",
       "      <td>80.85</td>\n",
       "      <td>sandroramos</td>\n",
       "      <td>Débito</td>\n",
       "    </tr>\n",
       "    <tr>\n",
       "      <th>2</th>\n",
       "      <td>A C A SANTOS-ME</td>\n",
       "      <td>SP</td>\n",
       "      <td>50406300933</td>\n",
       "      <td>18</td>\n",
       "      <td>1329</td>\n",
       "      <td>19</td>\n",
       "      <td>2017-03-31 00:00:00</td>\n",
       "      <td>010-066412/2017</td>\n",
       "      <td>2017-11-09 07:29:14</td>\n",
       "      <td>246.16</td>\n",
       "      <td>sandroramos</td>\n",
       "      <td>Débito</td>\n",
       "    </tr>\n",
       "    <tr>\n",
       "      <th>3</th>\n",
       "      <td>A. JARDIM COMPETIÇOES LTDA</td>\n",
       "      <td>SP</td>\n",
       "      <td>50402287401</td>\n",
       "      <td>22</td>\n",
       "      <td>1329</td>\n",
       "      <td>28</td>\n",
       "      <td>2015-03-31 00:00:00</td>\n",
       "      <td>010-066414/2017</td>\n",
       "      <td>2017-11-09 07:29:15</td>\n",
       "      <td>53.91</td>\n",
       "      <td>sandroramos</td>\n",
       "      <td>Débito</td>\n",
       "    </tr>\n",
       "    <tr>\n",
       "      <th>4</th>\n",
       "      <td>A. R. - SOUZA SERVICOS AGRICOLAS LTDA - ME</td>\n",
       "      <td>SP</td>\n",
       "      <td>50407984232</td>\n",
       "      <td>14</td>\n",
       "      <td>1329</td>\n",
       "      <td>19</td>\n",
       "      <td>2017-03-31 00:00:00</td>\n",
       "      <td>010-066418/2017</td>\n",
       "      <td>2017-11-09 07:29:19</td>\n",
       "      <td>279.73</td>\n",
       "      <td>sandroramos</td>\n",
       "      <td>Débito</td>\n",
       "    </tr>\n",
       "  </tbody>\n",
       "</table>\n",
       "</div>"
      ],
      "text/plain": [
       "                                     Entidade  UF       Fistel Seq. Receita  \\\n",
       "0            11500 EMPREENDIMENTOS LTDA - EPP  SP  50402126742   24    1329   \n",
       "1             24/7 INTELIGENCIA DIGITAL LTDA.  SP  50406459290   18    1329   \n",
       "2                             A C A SANTOS-ME  SP  50406300933   18    1329   \n",
       "3                  A. JARDIM COMPETIÇOES LTDA  SP  50402287401   22    1329   \n",
       "4  A. R. - SOUZA SERVICOS AGRICOLAS LTDA - ME  SP  50407984232   14    1329   \n",
       "\n",
       "  Serviço      Data Vencimento    Nº Comunicado      Data Comunicado  \\\n",
       "0      28  2015-03-31 00:00:00  010-066406/2017  2017-11-09 07:29:01   \n",
       "1      19  2015-03-31 00:00:00  010-066408/2017  2017-11-09 07:29:10   \n",
       "2      19  2017-03-31 00:00:00  010-066412/2017  2017-11-09 07:29:14   \n",
       "3      28  2015-03-31 00:00:00  010-066414/2017  2017-11-09 07:29:15   \n",
       "4      19  2017-03-31 00:00:00  010-066418/2017  2017-11-09 07:29:19   \n",
       "\n",
       "  Valor Comunicado       Gestor Situação  \n",
       "0            296.5  sandroramos   Débito  \n",
       "1            80.85  sandroramos   Débito  \n",
       "2           246.16  sandroramos   Débito  \n",
       "3            53.91  sandroramos   Débito  \n",
       "4           279.73  sandroramos   Débito  "
      ]
     },
     "execution_count": 8,
     "metadata": {},
     "output_type": "execute_result"
    }
   ],
   "source": [
    "devolvidos.head()\n"
   ]
  },
  {
   "cell_type": "code",
   "execution_count": 9,
   "metadata": {},
   "outputs": [
    {
     "data": {
      "text/plain": [
       "'24886230830'"
      ]
     },
     "execution_count": 9,
     "metadata": {},
     "output_type": "execute_result"
    }
   ],
   "source": [
    "lista_cpf[741]"
   ]
  },
  {
   "cell_type": "code",
   "execution_count": 14,
   "metadata": {},
   "outputs": [
    {
     "ename": "TimeoutException",
     "evalue": "Message: \n",
     "output_type": "error",
     "traceback": [
      "\u001b[1;31m---------------------------------------------------------------------------\u001b[0m",
      "\u001b[1;31mTimeoutException\u001b[0m                          Traceback (most recent call last)",
      "\u001b[1;32m<ipython-input-14-176d0d8d8e76>\u001b[0m in \u001b[0;36m<module>\u001b[1;34m()\u001b[0m\n\u001b[0;32m     25\u001b[0m     \u001b[1;32mif\u001b[0m \u001b[1;32mnot\u001b[0m \u001b[0mregistro\u001b[0m\u001b[1;33m:\u001b[0m\u001b[1;33m\u001b[0m\u001b[0m\n\u001b[0;32m     26\u001b[0m \u001b[1;33m\u001b[0m\u001b[0m\n\u001b[1;32m---> 27\u001b[1;33m         \u001b[0msapiens\u001b[0m\u001b[1;33m.\u001b[0m\u001b[0mpesquisa_dados\u001b[0m\u001b[1;33m(\u001b[0m\u001b[0mcpf\u001b[0m\u001b[1;33m)\u001b[0m\u001b[1;33m\u001b[0m\u001b[0m\n\u001b[0m\u001b[0;32m     28\u001b[0m \u001b[1;33m\u001b[0m\u001b[0m\n\u001b[0;32m     29\u001b[0m         \u001b[0mregistro\u001b[0m \u001b[1;33m=\u001b[0m \u001b[0msapiens\u001b[0m\u001b[1;33m.\u001b[0m\u001b[0mget_registro\u001b[0m\u001b[1;33m(\u001b[0m\u001b[0mcpf\u001b[0m\u001b[1;33m)\u001b[0m\u001b[1;33m\u001b[0m\u001b[0m\n",
      "\u001b[1;32mc:\\Users\\rsilva\\Google Drive\\projects\\programming\\automation\\sapiens.py\u001b[0m in \u001b[0;36mpesquisa_dados\u001b[1;34m(self, cpf)\u001b[0m\n\u001b[0;32m    168\u001b[0m \u001b[1;33m\u001b[0m\u001b[0m\n\u001b[0;32m    169\u001b[0m \u001b[1;33m\u001b[0m\u001b[0m\n\u001b[1;32m--> 170\u001b[1;33m         \u001b[0mentidade\u001b[0m \u001b[1;33m=\u001b[0m \u001b[0mself\u001b[0m\u001b[1;33m.\u001b[0m\u001b[0mwait_for_element\u001b[0m\u001b[1;33m(\u001b[0m\u001b[0mid_input\u001b[0m\u001b[1;33m)\u001b[0m\u001b[1;33m\u001b[0m\u001b[0m\n\u001b[0m\u001b[0;32m    171\u001b[0m         \u001b[0mentidade\u001b[0m\u001b[1;33m.\u001b[0m\u001b[0mclear\u001b[0m\u001b[1;33m(\u001b[0m\u001b[1;33m)\u001b[0m\u001b[1;33m\u001b[0m\u001b[0m\n\u001b[0;32m    172\u001b[0m \u001b[1;33m\u001b[0m\u001b[0m\n",
      "\u001b[1;32mc:\\Users\\rsilva\\Google Drive\\projects\\programming\\automation\\page.py\u001b[0m in \u001b[0;36mwait_for_element\u001b[1;34m(self, timeout, *locator)\u001b[0m\n\u001b[0;32m    125\u001b[0m     \u001b[1;32mdef\u001b[0m \u001b[0mwait_for_element\u001b[0m\u001b[1;33m(\u001b[0m\u001b[0mself\u001b[0m\u001b[1;33m,\u001b[0m \u001b[1;33m*\u001b[0m\u001b[0mlocator\u001b[0m\u001b[1;33m,\u001b[0m \u001b[0mtimeout\u001b[0m\u001b[1;33m=\u001b[0m\u001b[0mtimeout\u001b[0m\u001b[1;33m)\u001b[0m\u001b[1;33m:\u001b[0m\u001b[1;33m\u001b[0m\u001b[0m\n\u001b[0;32m    126\u001b[0m         return WebDriverWait(self.driver, timeout).until(\n\u001b[1;32m--> 127\u001b[1;33m             ec.presence_of_element_located(*locator))\n\u001b[0m\u001b[0;32m    128\u001b[0m \u001b[1;33m\u001b[0m\u001b[0m\n\u001b[0;32m    129\u001b[0m     \u001b[1;32mdef\u001b[0m \u001b[0mwait_for_element_to_click\u001b[0m\u001b[1;33m(\u001b[0m\u001b[0mself\u001b[0m\u001b[1;33m,\u001b[0m \u001b[1;33m*\u001b[0m\u001b[0mlocator\u001b[0m\u001b[1;33m,\u001b[0m \u001b[0mtimeout\u001b[0m\u001b[1;33m=\u001b[0m\u001b[0mtimeout\u001b[0m\u001b[1;33m)\u001b[0m\u001b[1;33m:\u001b[0m\u001b[1;33m\u001b[0m\u001b[0m\n",
      "\u001b[1;32mC:\\Users\\rsilva\\miniconda3\\envs\\automation\\lib\\site-packages\\selenium\\webdriver\\support\\wait.py\u001b[0m in \u001b[0;36muntil\u001b[1;34m(self, method, message)\u001b[0m\n\u001b[0;32m     78\u001b[0m             \u001b[1;32mif\u001b[0m \u001b[0mtime\u001b[0m\u001b[1;33m.\u001b[0m\u001b[0mtime\u001b[0m\u001b[1;33m(\u001b[0m\u001b[1;33m)\u001b[0m \u001b[1;33m>\u001b[0m \u001b[0mend_time\u001b[0m\u001b[1;33m:\u001b[0m\u001b[1;33m\u001b[0m\u001b[0m\n\u001b[0;32m     79\u001b[0m                 \u001b[1;32mbreak\u001b[0m\u001b[1;33m\u001b[0m\u001b[0m\n\u001b[1;32m---> 80\u001b[1;33m         \u001b[1;32mraise\u001b[0m \u001b[0mTimeoutException\u001b[0m\u001b[1;33m(\u001b[0m\u001b[0mmessage\u001b[0m\u001b[1;33m,\u001b[0m \u001b[0mscreen\u001b[0m\u001b[1;33m,\u001b[0m \u001b[0mstacktrace\u001b[0m\u001b[1;33m)\u001b[0m\u001b[1;33m\u001b[0m\u001b[0m\n\u001b[0m\u001b[0;32m     81\u001b[0m \u001b[1;33m\u001b[0m\u001b[0m\n\u001b[0;32m     82\u001b[0m     \u001b[1;32mdef\u001b[0m \u001b[0muntil_not\u001b[0m\u001b[1;33m(\u001b[0m\u001b[0mself\u001b[0m\u001b[1;33m,\u001b[0m \u001b[0mmethod\u001b[0m\u001b[1;33m,\u001b[0m \u001b[0mmessage\u001b[0m\u001b[1;33m=\u001b[0m\u001b[1;34m''\u001b[0m\u001b[1;33m)\u001b[0m\u001b[1;33m:\u001b[0m\u001b[1;33m\u001b[0m\u001b[0m\n",
      "\u001b[1;31mTimeoutException\u001b[0m: Message: \n"
     ]
    }
   ],
   "source": [
    "counter = 0\n",
    "\n",
    "for cpf in lista_cpf[741:]:\n",
    "    \n",
    "    cpf = str(cpf)    \n",
    "        \n",
    "    if len(cpf) in (12, 13, 14):\n",
    "        \n",
    "        next\n",
    "        \n",
    "        while len(cpf) < 14:\n",
    "            \n",
    "            cpf = '0' + str(cpf)\n",
    "            \n",
    "    elif len(cpf) <= 11:\n",
    "    \n",
    "        while len(cpf) < 11:\n",
    "\n",
    "            cpf = '0' + str(cpf)\n",
    "            \n",
    "    else:\n",
    "        \n",
    "        raise ValueError(\"CPF/CNPJ inválido {}\".format(cpf))\n",
    "\n",
    "    registro = sapiens.get_registro(cpf)    \n",
    "   \n",
    "    if not registro:\n",
    "    \n",
    "        sapiens.pesquisa_dados(cpf)\n",
    "            \n",
    "        registro = sapiens.get_registro(cpf)\n",
    "        \n",
    "        counter += 1\n",
    "        \n",
    "   \n",
    "    if not (df[\"CPF\"] == registro.get(cpf)).any():\n",
    "        \n",
    "        df = df.append(pd.Series(registro), ignore_index=True)\n",
    "        \n",
    "    if counter > 100:\n",
    "        \n",
    "        df.to_csv(\"registro_sapiens_devolvidos.csv\", index=False)\n",
    "        \n",
    "        page = functions.init_browser(webdriver.Firefox(), 'rsilva', 'Savorthemom3nts')\n",
    "        \n",
    "        driver = LoginPage(page.driver).login('33831640807', 'Fer465023@ur_')        \n",
    "               \n",
    "        sapiens.reset_driver(driver)\n",
    "        \n",
    "        sleep(10)        \n",
    "                \n",
    "        counter = 0          "
   ]
  },
  {
   "cell_type": "code",
   "execution_count": 45,
   "metadata": {},
   "outputs": [],
   "source": [
    "df = df.drop_duplicates()\n",
    "df = df.fillna(\"\")"
   ]
  },
  {
   "cell_type": "code",
   "execution_count": 46,
   "metadata": {},
   "outputs": [],
   "source": [
    "df[\"Endereço_Completo\"] = df.apply(lambda row: \" \".join([str(row[\"Logradouro\"]), \n",
    "                                                         str(row[\"Número\"]), \n",
    "                                                         str(row[\"Complemento\"]),\n",
    "                                                         str(row[\"Bairro\"]), \"\\n\", \"CEP:\", \n",
    "                                                         str(row[\"Cep\"]), \n",
    "                                                         str(row[\"Cidade\"])]\n",
    "                                                       ), axis=1\n",
    "                                  )"
   ]
  },
  {
   "cell_type": "code",
   "execution_count": 47,
   "metadata": {},
   "outputs": [
    {
     "data": {
      "text/plain": [
       "(24, 17)"
      ]
     },
     "execution_count": 47,
     "metadata": {},
     "output_type": "execute_result"
    }
   ],
   "source": [
    "#df = df.sort_values(by=\"Nome\")\n",
    "df.shape"
   ]
  },
  {
   "cell_type": "code",
   "execution_count": 65,
   "metadata": {},
   "outputs": [],
   "source": [
    "#writer = pd.ExcelWriter(\"files/planilha_obito.xlsx\")\n",
    "#df.to_excel(writer, \"consulta_RF\", index=False, encoding='utf-8')\n",
    "#writer.save()"
   ]
  },
  {
   "cell_type": "code",
   "execution_count": 129,
   "metadata": {},
   "outputs": [],
   "source": [
    "#gs_df.set_with_dataframe(registros_rf, df, row=1, include_column_header=True)\n",
    "#gs_df.set_with_dataframe(registros, pd.DataFrame(df[\"Nome\"]), row=1, col=9, include_column_header=False)\n",
    "#gs_df.set_with_dataframe(registros, pd.DataFrame(df[\"Endereço_Completo\"]), row=1, col=12, include_column_header=False)"
   ]
  },
  {
   "cell_type": "code",
   "execution_count": 48,
   "metadata": {},
   "outputs": [],
   "source": [
    "gs_df.set_with_dataframe(registros, df, row=743, col=14, include_column_header=False)\n",
    "#gs_df.set_with_dataframe(processo, df, row=1, col=15, include_column_header=True)"
   ]
  },
  {
   "cell_type": "code",
   "execution_count": 40,
   "metadata": {},
   "outputs": [
    {
     "data": {
      "text/html": [
       "<div>\n",
       "<style scoped>\n",
       "    .dataframe tbody tr th:only-of-type {\n",
       "        vertical-align: middle;\n",
       "    }\n",
       "\n",
       "    .dataframe tbody tr th {\n",
       "        vertical-align: top;\n",
       "    }\n",
       "\n",
       "    .dataframe thead th {\n",
       "        text-align: right;\n",
       "    }\n",
       "</style>\n",
       "<table border=\"1\" class=\"dataframe\">\n",
       "  <thead>\n",
       "    <tr style=\"text-align: right;\">\n",
       "      <th></th>\n",
       "      <th>CPF</th>\n",
       "      <th>Nome</th>\n",
       "      <th>Mãe</th>\n",
       "      <th>Data de Nascimento</th>\n",
       "      <th>Sexo</th>\n",
       "      <th>Ano do Óbito</th>\n",
       "      <th>Nacionalidade</th>\n",
       "      <th>Título de Eleitor</th>\n",
       "      <th>Situação Cadastral</th>\n",
       "      <th>Fone</th>\n",
       "      <th>Logradouro</th>\n",
       "      <th>Número</th>\n",
       "      <th>Complemento</th>\n",
       "      <th>Bairro</th>\n",
       "      <th>Cidade</th>\n",
       "      <th>Cep</th>\n",
       "      <th>Endereço_Completo</th>\n",
       "    </tr>\n",
       "  </thead>\n",
       "  <tbody>\n",
       "    <tr>\n",
       "      <th>0</th>\n",
       "      <td>280.866.158-47</td>\n",
       "      <td>ALEXANDRE RIBEIRO COUTINHO</td>\n",
       "      <td>OLINDA DA SILVA COUTINHO</td>\n",
       "      <td>06-05-1971</td>\n",
       "      <td>MASCULINO</td>\n",
       "      <td></td>\n",
       "      <td>BRASILEIRO</td>\n",
       "      <td>0171875770108</td>\n",
       "      <td>REGULAR</td>\n",
       "      <td>02033342</td>\n",
       "      <td>RUA FRANCISCO ANTONIO MIRANDA</td>\n",
       "      <td>88</td>\n",
       "      <td></td>\n",
       "      <td>EMERLINO MATARAZZO</td>\n",
       "      <td>SAO PAULO/SP</td>\n",
       "      <td>03809-130</td>\n",
       "      <td>RUA FRANCISCO ANTONIO MIRANDA 88  EMERLINO MAT...</td>\n",
       "    </tr>\n",
       "    <tr>\n",
       "      <th>1</th>\n",
       "      <td>976.282.398-20</td>\n",
       "      <td>CARLOS BARBOSA DOS SANTOS</td>\n",
       "      <td>MARIA DE PAULA BARBOSA</td>\n",
       "      <td>29-05-1959</td>\n",
       "      <td>MASCULINO</td>\n",
       "      <td></td>\n",
       "      <td>BRASILEIRO</td>\n",
       "      <td>0019969790116</td>\n",
       "      <td>REGULAR</td>\n",
       "      <td>81677191</td>\n",
       "      <td>RUA MANOEL DOS SANTOS</td>\n",
       "      <td>321</td>\n",
       "      <td></td>\n",
       "      <td>PONTILHAO</td>\n",
       "      <td>CRUZEIRO/SP</td>\n",
       "      <td>12704-200</td>\n",
       "      <td>RUA MANOEL DOS SANTOS 321  PONTILHAO \\n CEP: 1...</td>\n",
       "    </tr>\n",
       "    <tr>\n",
       "      <th>2</th>\n",
       "      <td>096.175.138-03</td>\n",
       "      <td>CELSO PEREIRA</td>\n",
       "      <td>MARIA ROSA PEREIRA</td>\n",
       "      <td>10-11-1968</td>\n",
       "      <td>MASCULINO</td>\n",
       "      <td></td>\n",
       "      <td>BRASILEIRO</td>\n",
       "      <td>0163050660108</td>\n",
       "      <td>REGULAR</td>\n",
       "      <td>00000000</td>\n",
       "      <td>RUA LUIZ MELGES</td>\n",
       "      <td>25</td>\n",
       "      <td></td>\n",
       "      <td>CENTRO</td>\n",
       "      <td>POMPEIA/SP</td>\n",
       "      <td>17580-000</td>\n",
       "      <td>RUA LUIZ MELGES 25  CENTRO \\n CEP: 17580-000 P...</td>\n",
       "    </tr>\n",
       "    <tr>\n",
       "      <th>3</th>\n",
       "      <td>270.032.178-21</td>\n",
       "      <td>FABIO RIBEIRO VAZ LOBO FILHO</td>\n",
       "      <td>MARIA APARECIDA DE OLIVEIRA VAZ LOBO</td>\n",
       "      <td>16-07-1973</td>\n",
       "      <td>MASCULINO</td>\n",
       "      <td></td>\n",
       "      <td>BRASILEIRO</td>\n",
       "      <td>0206397630116</td>\n",
       "      <td>REGULAR</td>\n",
       "      <td>92156103</td>\n",
       "      <td>RUA COSTA RICA</td>\n",
       "      <td>58</td>\n",
       "      <td>APARTAMENTO 2</td>\n",
       "      <td>JARDIM LAVINIA</td>\n",
       "      <td>MOCOCA/SP</td>\n",
       "      <td>13736-350</td>\n",
       "      <td>RUA COSTA RICA 58 APARTAMENTO 2 JARDIM LAVINIA...</td>\n",
       "    </tr>\n",
       "    <tr>\n",
       "      <th>4</th>\n",
       "      <td>317.494.448-10</td>\n",
       "      <td>FABIO ROBERTO DA MOTTA</td>\n",
       "      <td>LEONILDA DA MOTTA</td>\n",
       "      <td>02-07-1981</td>\n",
       "      <td>MASCULINO</td>\n",
       "      <td></td>\n",
       "      <td>BRASILEIRO</td>\n",
       "      <td>0248329210191</td>\n",
       "      <td>REGULAR</td>\n",
       "      <td>33415590</td>\n",
       "      <td>RUA PASCOAL MUSSOLINE</td>\n",
       "      <td>190</td>\n",
       "      <td></td>\n",
       "      <td>JARDIM AEROPORTO</td>\n",
       "      <td>CANDIDO MOTA/SP</td>\n",
       "      <td>19880-000</td>\n",
       "      <td>RUA PASCOAL MUSSOLINE 190  JARDIM AEROPORTO \\n...</td>\n",
       "    </tr>\n",
       "  </tbody>\n",
       "</table>\n",
       "</div>"
      ],
      "text/plain": [
       "              CPF                          Nome  \\\n",
       "0  280.866.158-47    ALEXANDRE RIBEIRO COUTINHO   \n",
       "1  976.282.398-20     CARLOS BARBOSA DOS SANTOS   \n",
       "2  096.175.138-03                 CELSO PEREIRA   \n",
       "3  270.032.178-21  FABIO RIBEIRO VAZ LOBO FILHO   \n",
       "4  317.494.448-10        FABIO ROBERTO DA MOTTA   \n",
       "\n",
       "                                    Mãe Data de Nascimento       Sexo  \\\n",
       "0              OLINDA DA SILVA COUTINHO         06-05-1971  MASCULINO   \n",
       "1                MARIA DE PAULA BARBOSA         29-05-1959  MASCULINO   \n",
       "2                    MARIA ROSA PEREIRA         10-11-1968  MASCULINO   \n",
       "3  MARIA APARECIDA DE OLIVEIRA VAZ LOBO         16-07-1973  MASCULINO   \n",
       "4                     LEONILDA DA MOTTA         02-07-1981  MASCULINO   \n",
       "\n",
       "  Ano do Óbito Nacionalidade Título de Eleitor Situação Cadastral      Fone  \\\n",
       "0                 BRASILEIRO     0171875770108            REGULAR  02033342   \n",
       "1                 BRASILEIRO     0019969790116            REGULAR  81677191   \n",
       "2                 BRASILEIRO     0163050660108            REGULAR  00000000   \n",
       "3                 BRASILEIRO     0206397630116            REGULAR  92156103   \n",
       "4                 BRASILEIRO     0248329210191            REGULAR  33415590   \n",
       "\n",
       "                      Logradouro Número    Complemento              Bairro  \\\n",
       "0  RUA FRANCISCO ANTONIO MIRANDA     88                 EMERLINO MATARAZZO   \n",
       "1          RUA MANOEL DOS SANTOS    321                          PONTILHAO   \n",
       "2                RUA LUIZ MELGES     25                             CENTRO   \n",
       "3                 RUA COSTA RICA     58  APARTAMENTO 2      JARDIM LAVINIA   \n",
       "4          RUA PASCOAL MUSSOLINE    190                   JARDIM AEROPORTO   \n",
       "\n",
       "            Cidade        Cep  \\\n",
       "0     SAO PAULO/SP  03809-130   \n",
       "1      CRUZEIRO/SP  12704-200   \n",
       "2       POMPEIA/SP  17580-000   \n",
       "3        MOCOCA/SP  13736-350   \n",
       "4  CANDIDO MOTA/SP  19880-000   \n",
       "\n",
       "                                   Endereço_Completo  \n",
       "0  RUA FRANCISCO ANTONIO MIRANDA 88  EMERLINO MAT...  \n",
       "1  RUA MANOEL DOS SANTOS 321  PONTILHAO \\n CEP: 1...  \n",
       "2  RUA LUIZ MELGES 25  CENTRO \\n CEP: 17580-000 P...  \n",
       "3  RUA COSTA RICA 58 APARTAMENTO 2 JARDIM LAVINIA...  \n",
       "4  RUA PASCOAL MUSSOLINE 190  JARDIM AEROPORTO \\n...  "
      ]
     },
     "execution_count": 40,
     "metadata": {},
     "output_type": "execute_result"
    }
   ],
   "source": [
    "lista_fistel = df_registros[\"FISTEL\"]"
   ]
  },
  {
   "cell_type": "code",
   "execution_count": 13,
   "metadata": {},
   "outputs": [
    {
     "data": {
      "text/plain": [
       "2114"
      ]
     },
     "execution_count": 13,
     "metadata": {},
     "output_type": "execute_result"
    }
   ],
   "source": [
    "import gc\n",
    "\n",
    "gc.collect()"
   ]
  }
 ],
 "metadata": {
  "kernelspec": {
   "display_name": "Python 3",
   "language": "python",
   "name": "python3"
  },
  "language_info": {
   "codemirror_mode": {
    "name": "ipython",
    "version": 3
   },
   "file_extension": ".py",
   "mimetype": "text/x-python",
   "name": "python",
   "nbconvert_exporter": "python",
   "pygments_lexer": "ipython3",
   "version": "3.6.3"
  }
 },
 "nbformat": 4,
 "nbformat_minor": 2
}
