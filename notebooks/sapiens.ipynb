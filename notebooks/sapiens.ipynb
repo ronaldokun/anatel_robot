{
 "cells": [
  {
   "cell_type": "code",
   "execution_count": 1,
   "metadata": {},
   "outputs": [],
   "source": [
    "import pandas as pd\n",
    "import os\n",
    "import gc\n",
    "import pickle\n",
    "\n",
    "from time import sleep\n",
    "\n",
    "import gspread_dataframe as gs_df\n",
    "\n",
    "os.chdir(\"c:/Users/rsilva/Google Drive/projects/programming/automation\")\n",
    "\n",
    "# INITIALIZE DRIVER\n",
    "from selenium import webdriver\n",
    "from sapiens import LoginPage, KEYS, Page_sapiens\n",
    "import functions\n",
    "\n",
    "\n",
    "% reload_ext autoreload\n",
    "% autoreload 2\n",
    "\n",
    "row = 2"
   ]
  },
  {
   "cell_type": "markdown",
   "metadata": {},
   "source": [
    "### Loga Driver no Sapiens"
   ]
  },
  {
   "cell_type": "code",
   "execution_count": 106,
   "metadata": {},
   "outputs": [],
   "source": [
    "page = functions.init_browser(webdriver.Firefox(), 'rsilva', 'Savorthemom3nts')\n",
    "driver = LoginPage(page.driver).login('33831640807', 'Fer465023@ur_')    "
   ]
  },
  {
   "cell_type": "markdown",
   "metadata": {},
   "source": [
    "### Criar o Data Frame para exportar os dados"
   ]
  },
  {
   "cell_type": "code",
   "execution_count": 180,
   "metadata": {},
   "outputs": [],
   "source": [
    "database = pd.read_csv(\"registros_cadin.csv\")"
   ]
  },
  {
   "cell_type": "code",
   "execution_count": 181,
   "metadata": {},
   "outputs": [],
   "source": [
    "database = database.dropna(subset=[\"CPF\"])"
   ]
  },
  {
   "cell_type": "code",
   "execution_count": 182,
   "metadata": {},
   "outputs": [],
   "source": [
    "registros = {row[1][\"CPF\"]:{k:v for k,v in row[1].items()} for row in df.iterrows()}"
   ]
  },
  {
   "cell_type": "code",
   "execution_count": 183,
   "metadata": {},
   "outputs": [
    {
     "data": {
      "text/plain": [
       "6217"
      ]
     },
     "execution_count": 183,
     "metadata": {},
     "output_type": "execute_result"
    }
   ],
   "source": [
    "len(registros)        "
   ]
  },
  {
   "cell_type": "code",
   "execution_count": 108,
   "metadata": {},
   "outputs": [],
   "source": [
    "#sapiens = Page_sapiens(driver, {})\n",
    "\n",
    "sapiens.reset_driver(driver)"
   ]
  },
  {
   "cell_type": "markdown",
   "metadata": {},
   "source": [
    "### Leitura dos Dados Brutos na Planilha"
   ]
  },
  {
   "cell_type": "code",
   "execution_count": 109,
   "metadata": {},
   "outputs": [],
   "source": [
    "gc = functions.authenticate_google(\"files/anatel.json\")\n",
    "sht = gc.open(title='RC')"
   ]
  },
  {
   "cell_type": "code",
   "execution_count": 110,
   "metadata": {},
   "outputs": [],
   "source": [
    "registros = sht.worksheet('Registros')\n",
    "registros_rf = sht.worksheet('Registros_RF')\n",
    "df = pd.DataFrame(columns=KEYS)"
   ]
  },
  {
   "cell_type": "code",
   "execution_count": 111,
   "metadata": {},
   "outputs": [
    {
     "data": {
      "text/html": [
       "<div>\n",
       "<style scoped>\n",
       "    .dataframe tbody tr th:only-of-type {\n",
       "        vertical-align: middle;\n",
       "    }\n",
       "\n",
       "    .dataframe tbody tr th {\n",
       "        vertical-align: top;\n",
       "    }\n",
       "\n",
       "    .dataframe thead th {\n",
       "        text-align: right;\n",
       "    }\n",
       "</style>\n",
       "<table border=\"1\" class=\"dataframe\">\n",
       "  <thead>\n",
       "    <tr style=\"text-align: right;\">\n",
       "      <th></th>\n",
       "      <th>CPF</th>\n",
       "      <th>Nome</th>\n",
       "      <th>Mãe</th>\n",
       "      <th>Data de Nascimento</th>\n",
       "      <th>Sexo</th>\n",
       "      <th>Ano do Óbito</th>\n",
       "      <th>Nacionalidade</th>\n",
       "      <th>Título de Eleitor</th>\n",
       "      <th>Situação Cadastral</th>\n",
       "      <th>Fone</th>\n",
       "      <th>Logradouro</th>\n",
       "      <th>Número</th>\n",
       "      <th>Complemento</th>\n",
       "      <th>Bairro</th>\n",
       "      <th>Cidade</th>\n",
       "      <th>Cep</th>\n",
       "    </tr>\n",
       "  </thead>\n",
       "  <tbody>\n",
       "  </tbody>\n",
       "</table>\n",
       "</div>"
      ],
      "text/plain": [
       "Empty DataFrame\n",
       "Columns: [CPF, Nome, Mãe, Data de Nascimento, Sexo, Ano do Óbito, Nacionalidade, Título de Eleitor, Situação Cadastral, Fone, Logradouro, Número, Complemento, Bairro, Cidade, Cep]\n",
       "Index: []"
      ]
     },
     "execution_count": 111,
     "metadata": {},
     "output_type": "execute_result"
    }
   ],
   "source": [
    "lista_cpf = registros.col_values(1)[1:]\n",
    "\n",
    "df.head()"
   ]
  },
  {
   "cell_type": "code",
   "execution_count": 121,
   "metadata": {},
   "outputs": [
    {
     "data": {
      "text/plain": [
       "(1778, 16)"
      ]
     },
     "execution_count": 121,
     "metadata": {},
     "output_type": "execute_result"
    }
   ],
   "source": [
    "df.shape"
   ]
  },
  {
   "cell_type": "code",
   "execution_count": 118,
   "metadata": {},
   "outputs": [],
   "source": [
    "counter = 0\n",
    "\n",
    "for cpf in lista_cpf:\n",
    "    \n",
    "    cpf = str(cpf)    \n",
    "        \n",
    "    if len(cpf) in (12, 13, 14):\n",
    "        \n",
    "        while len(cpf) < 14:\n",
    "            \n",
    "            cpf = '0' + str(cpf)\n",
    "            \n",
    "    elif len(cpf) <= 11:\n",
    "    \n",
    "        while len(cpf) < 11:\n",
    "\n",
    "            cpf = '0' + str(cpf)\n",
    "            \n",
    "    else:\n",
    "        \n",
    "        raise ValueError(\"CPF/CNPJ inválido {}\".format(cpf))\n",
    "\n",
    "    registro = sapiens.get_registro(cpf)    \n",
    "   \n",
    "    if not registro:\n",
    "    \n",
    "        sapiens.pesquisa_dados(cpf)\n",
    "            \n",
    "        registro = sapiens.get_registro(cpf)\n",
    "        \n",
    "        counter += 1\n",
    "        \n",
    "   \n",
    "    if not (df[\"CPF\"] == registro.get(cpf)).any():\n",
    "        \n",
    "        df = df.append(pd.Series(registro), ignore_index=True)\n",
    "        \n",
    "    if counter > 100:\n",
    "        \n",
    "        #df.to_csv(\"registros_cadin.csv\", index=False)\n",
    "        \n",
    "        page = functions.init_browser(webdriver.Firefox(), 'rsilva', 'Savorthemom3nts')\n",
    "        \n",
    "        driver = LoginPage(page.driver).login('33831640807', 'Fer465023@ur_')        \n",
    "               \n",
    "        sapiens.reset_driver(driver)\n",
    "        \n",
    "        sleep(10)        \n",
    "                \n",
    "        counter = 0  "
   ]
  },
  {
   "cell_type": "code",
   "execution_count": 122,
   "metadata": {},
   "outputs": [],
   "source": [
    "df = df.drop_duplicates()\n",
    "df = df.fillna(\"\")"
   ]
  },
  {
   "cell_type": "code",
   "execution_count": 123,
   "metadata": {},
   "outputs": [],
   "source": [
    "df[\"Endereço_Completo\"] = df.apply(lambda row: \" \".join([str(row[\"Logradouro\"]), \n",
    "                                                         str(row[\"Número\"]), \n",
    "                                                         str(row[\"Complemento\"]),\n",
    "                                                         str(row[\"Bairro\"]), \"\\n\", \"CEP:\", \n",
    "                                                         str(row[\"Cep\"]), \n",
    "                                                         str(row[\"Cidade\"])]\n",
    "                                                       ), axis=1\n",
    "                                  )"
   ]
  },
  {
   "cell_type": "code",
   "execution_count": 125,
   "metadata": {},
   "outputs": [],
   "source": [
    "df = df.sort_values(by=\"Nome\")"
   ]
  },
  {
   "cell_type": "code",
   "execution_count": 65,
   "metadata": {},
   "outputs": [],
   "source": [
    "#writer = pd.ExcelWriter(\"files/planilha_obito.xlsx\")\n",
    "#df.to_excel(writer, \"consulta_RF\", index=False, encoding='utf-8')\n",
    "#writer.save()"
   ]
  },
  {
   "cell_type": "code",
   "execution_count": 129,
   "metadata": {},
   "outputs": [],
   "source": [
    "#gs_df.set_with_dataframe(registros_rf, df, row=1, include_column_header=True)\n",
    "gs_df.set_with_dataframe(registros, pd.DataFrame(df[\"Nome\"]), row=1, col=9, include_column_header=False)\n",
    "gs_df.set_with_dataframe(registros, pd.DataFrame(df[\"Endereço_Completo\"]), row=1, col=12, include_column_header=False)\n",
    "\n"
   ]
  },
  {
   "cell_type": "code",
   "execution_count": 94,
   "metadata": {},
   "outputs": [
    {
     "data": {
      "text/plain": [
       "896"
      ]
     },
     "execution_count": 94,
     "metadata": {},
     "output_type": "execute_result"
    }
   ],
   "source": [
    "len(sapiens.registros)"
   ]
  },
  {
   "cell_type": "code",
   "execution_count": 127,
   "metadata": {},
   "outputs": [
    {
     "data": {
      "text/html": [
       "<div>\n",
       "<style scoped>\n",
       "    .dataframe tbody tr th:only-of-type {\n",
       "        vertical-align: middle;\n",
       "    }\n",
       "\n",
       "    .dataframe tbody tr th {\n",
       "        vertical-align: top;\n",
       "    }\n",
       "\n",
       "    .dataframe thead th {\n",
       "        text-align: right;\n",
       "    }\n",
       "</style>\n",
       "<table border=\"1\" class=\"dataframe\">\n",
       "  <thead>\n",
       "    <tr style=\"text-align: right;\">\n",
       "      <th></th>\n",
       "      <th>CPF</th>\n",
       "      <th>Nome</th>\n",
       "      <th>Mãe</th>\n",
       "      <th>Data de Nascimento</th>\n",
       "      <th>Sexo</th>\n",
       "      <th>Ano do Óbito</th>\n",
       "      <th>Nacionalidade</th>\n",
       "      <th>Título de Eleitor</th>\n",
       "      <th>Situação Cadastral</th>\n",
       "      <th>Fone</th>\n",
       "      <th>Logradouro</th>\n",
       "      <th>Número</th>\n",
       "      <th>Complemento</th>\n",
       "      <th>Bairro</th>\n",
       "      <th>Cidade</th>\n",
       "      <th>Cep</th>\n",
       "      <th>Endereço_Completo</th>\n",
       "    </tr>\n",
       "  </thead>\n",
       "  <tbody>\n",
       "    <tr>\n",
       "      <th>822</th>\n",
       "      <td></td>\n",
       "      <td></td>\n",
       "      <td></td>\n",
       "      <td></td>\n",
       "      <td></td>\n",
       "      <td></td>\n",
       "      <td></td>\n",
       "      <td></td>\n",
       "      <td>ATIVA</td>\n",
       "      <td></td>\n",
       "      <td></td>\n",
       "      <td></td>\n",
       "      <td></td>\n",
       "      <td></td>\n",
       "      <td></td>\n",
       "      <td></td>\n",
       "      <td>\\n CEP:</td>\n",
       "    </tr>\n",
       "    <tr>\n",
       "      <th>0</th>\n",
       "      <td>858.388.968-68</td>\n",
       "      <td>ABELARDO DOS SANTOS</td>\n",
       "      <td>JULIETA PEREIRA DOS SANTOS</td>\n",
       "      <td>29-07-1950</td>\n",
       "      <td>MASCULINO</td>\n",
       "      <td></td>\n",
       "      <td>BRASILEIRO</td>\n",
       "      <td>0071385460116</td>\n",
       "      <td>REGULAR</td>\n",
       "      <td>32251419</td>\n",
       "      <td>OUTROS GENESIO MARIA</td>\n",
       "      <td>41</td>\n",
       "      <td></td>\n",
       "      <td>BOA ESPERANCA</td>\n",
       "      <td>SOROCABA/SP</td>\n",
       "      <td>18103-185</td>\n",
       "      <td>OUTROS GENESIO MARIA 41  BOA ESPERANCA \\n CEP:...</td>\n",
       "    </tr>\n",
       "    <tr>\n",
       "      <th>1</th>\n",
       "      <td>052.347.758-95</td>\n",
       "      <td>ABILIO GONCALVES PRETO</td>\n",
       "      <td>ANA MARIA PRETO</td>\n",
       "      <td>08-05-1964</td>\n",
       "      <td>MASCULINO</td>\n",
       "      <td></td>\n",
       "      <td>BRASILEIRO</td>\n",
       "      <td>0019319610141</td>\n",
       "      <td>REGULAR</td>\n",
       "      <td>35248858</td>\n",
       "      <td>RUA URUGUAI</td>\n",
       "      <td>62</td>\n",
       "      <td></td>\n",
       "      <td>VILA JUCA PEDRO</td>\n",
       "      <td>CATANDUVA/SP</td>\n",
       "      <td>15800-420</td>\n",
       "      <td>RUA URUGUAI 62  VILA JUCA PEDRO \\n CEP: 15800-...</td>\n",
       "    </tr>\n",
       "    <tr>\n",
       "      <th>2</th>\n",
       "      <td>172.035.218-69</td>\n",
       "      <td>ACACIO SANTIAGO GALA</td>\n",
       "      <td></td>\n",
       "      <td>15-03-1972</td>\n",
       "      <td>MASCULINO</td>\n",
       "      <td></td>\n",
       "      <td>BRASILEIRO</td>\n",
       "      <td>0257145460108</td>\n",
       "      <td>REGULAR</td>\n",
       "      <td>32677461</td>\n",
       "      <td>RUA PEDREIRA</td>\n",
       "      <td>292</td>\n",
       "      <td>CASA</td>\n",
       "      <td>JD N CAMPOS ELISEOS</td>\n",
       "      <td>CAMPINAS/SP</td>\n",
       "      <td>13050-544</td>\n",
       "      <td>RUA PEDREIRA 292 CASA JD N CAMPOS ELISEOS \\n C...</td>\n",
       "    </tr>\n",
       "    <tr>\n",
       "      <th>3</th>\n",
       "      <td>081.843.968-80</td>\n",
       "      <td>ADALBERTO CARDOSO</td>\n",
       "      <td>PEDRINA BORELLI CARDOSO</td>\n",
       "      <td>17-02-1966</td>\n",
       "      <td>MASCULINO</td>\n",
       "      <td></td>\n",
       "      <td>BRASILEIRO</td>\n",
       "      <td>0104874860141</td>\n",
       "      <td>REGULAR</td>\n",
       "      <td>32211243</td>\n",
       "      <td>RUA ORSINI BERTANHA</td>\n",
       "      <td>36</td>\n",
       "      <td></td>\n",
       "      <td>JARDIM BERTANHA</td>\n",
       "      <td>SOROCABA/SP</td>\n",
       "      <td>18052-170</td>\n",
       "      <td>RUA ORSINI BERTANHA 36  JARDIM BERTANHA \\n CEP...</td>\n",
       "    </tr>\n",
       "  </tbody>\n",
       "</table>\n",
       "</div>"
      ],
      "text/plain": [
       "                CPF                    Nome                         Mãe  \\\n",
       "822                                                                       \n",
       "0    858.388.968-68     ABELARDO DOS SANTOS  JULIETA PEREIRA DOS SANTOS   \n",
       "1    052.347.758-95  ABILIO GONCALVES PRETO             ANA MARIA PRETO   \n",
       "2    172.035.218-69    ACACIO SANTIAGO GALA                               \n",
       "3    081.843.968-80       ADALBERTO CARDOSO     PEDRINA BORELLI CARDOSO   \n",
       "\n",
       "    Data de Nascimento       Sexo Ano do Óbito Nacionalidade  \\\n",
       "822                                                            \n",
       "0           29-07-1950  MASCULINO                 BRASILEIRO   \n",
       "1           08-05-1964  MASCULINO                 BRASILEIRO   \n",
       "2           15-03-1972  MASCULINO                 BRASILEIRO   \n",
       "3           17-02-1966  MASCULINO                 BRASILEIRO   \n",
       "\n",
       "    Título de Eleitor Situação Cadastral      Fone            Logradouro  \\\n",
       "822                                ATIVA                                   \n",
       "0       0071385460116            REGULAR  32251419  OUTROS GENESIO MARIA   \n",
       "1       0019319610141            REGULAR  35248858           RUA URUGUAI   \n",
       "2       0257145460108            REGULAR  32677461          RUA PEDREIRA   \n",
       "3       0104874860141            REGULAR  32211243   RUA ORSINI BERTANHA   \n",
       "\n",
       "    Número Complemento               Bairro        Cidade        Cep  \\\n",
       "822                                                                    \n",
       "0       41                    BOA ESPERANCA   SOROCABA/SP  18103-185   \n",
       "1       62                  VILA JUCA PEDRO  CATANDUVA/SP  15800-420   \n",
       "2      292        CASA  JD N CAMPOS ELISEOS   CAMPINAS/SP  13050-544   \n",
       "3       36                  JARDIM BERTANHA   SOROCABA/SP  18052-170   \n",
       "\n",
       "                                     Endereço_Completo  \n",
       "822                                          \\n CEP:    \n",
       "0    OUTROS GENESIO MARIA 41  BOA ESPERANCA \\n CEP:...  \n",
       "1    RUA URUGUAI 62  VILA JUCA PEDRO \\n CEP: 15800-...  \n",
       "2    RUA PEDREIRA 292 CASA JD N CAMPOS ELISEOS \\n C...  \n",
       "3    RUA ORSINI BERTANHA 36  JARDIM BERTANHA \\n CEP...  "
      ]
     },
     "execution_count": 127,
     "metadata": {},
     "output_type": "execute_result"
    }
   ],
   "source": [
    "df.head()"
   ]
  },
  {
   "cell_type": "code",
   "execution_count": null,
   "metadata": {},
   "outputs": [],
   "source": []
  }
 ],
 "metadata": {
  "kernelspec": {
   "display_name": "Python 3",
   "language": "python",
   "name": "python3"
  },
  "language_info": {
   "codemirror_mode": {
    "name": "ipython",
    "version": 3
   },
   "file_extension": ".py",
   "mimetype": "text/x-python",
   "name": "python",
   "nbconvert_exporter": "python",
   "pygments_lexer": "ipython3",
   "version": "3.5.4"
  }
 },
 "nbformat": 4,
 "nbformat_minor": 2
}
