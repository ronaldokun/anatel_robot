{
 "cells": [
  {
   "cell_type": "code",
   "execution_count": 1,
   "metadata": {
    "ExecuteTime": {
     "end_time": "2018-08-28T17:05:17.704123Z",
     "start_time": "2018-08-28T17:05:12.774123Z"
    }
   },
   "outputs": [],
   "source": [
    "import pandas as pd\n",
    "import os\n",
    "import gc\n",
    "import pickle\n",
    "import numpy as np\n",
    "\n",
    "from time import sleep\n",
    "\n",
    "import gspread_dataframe as gs_df\n",
    "\n",
    "os.chdir(\"c:/Users/rsilva/gdrive/projects/programming/automation/\")\n",
    "\n",
    "PATH = os.path.join(os.getcwd(), 'files/')\n",
    "\n",
    "# INITIALIZE DRIVER\n",
    "from selenium import webdriver\n",
    "import sapiens\n",
    "import functions\n",
    "import sistemas\n",
    "\n",
    "\n",
    "% reload_ext autoreload\n",
    "% autoreload 2\n",
    "\n",
    "CPF = '33831640807'\n",
    "PASS_1 = \"Fer465023@ur_\"\n",
    "PASS_2 = \"Fer465023\""
   ]
  },
  {
   "cell_type": "code",
   "execution_count": 2,
   "metadata": {
    "ExecuteTime": {
     "end_time": "2018-08-08T19:25:57.428040Z",
     "start_time": "2018-08-08T19:25:56.355840Z"
    }
   },
   "outputs": [
    {
     "name": "stdout",
     "output_type": "stream",
     "text": [
      "Banco_de_Dados_CassaÃ§Ã£o.xlsx\n",
      "anatel.json\n",
      "conda-env-file.sh\n",
      "correspondencias_devolvidas.xlsx\n",
      "csv\n",
      "planilha_auxiliar_CADIN.xlsm\n",
      "planilha_auxiliar_CADIN.xlsx\n"
     ]
    }
   ],
   "source": [
    "!ls {PATH}"
   ]
  },
  {
   "cell_type": "markdown",
   "metadata": {},
   "source": [
    "### Loga Driver no Sapiens"
   ]
  },
  {
   "cell_type": "code",
   "execution_count": 6,
   "metadata": {
    "ExecuteTime": {
     "end_time": "2018-08-28T17:07:19.216123Z",
     "start_time": "2018-08-28T17:07:18.930123Z"
    }
   },
   "outputs": [],
   "source": [
    "def start_sapiens(cpf, senha, db={}):   \n",
    "   \n",
    "    page = functions.init_browser(webdriver.Firefox(), 'rsilva', 'Savorthemom3nts')\n",
    "    \n",
    "    page = sapiens.LoginPage(page.driver).login(cpf, senha)\n",
    "    \n",
    "    page = sapiens.Sapiens(page.driver, db)\n",
    "        \n",
    "    return page"
   ]
  },
  {
   "cell_type": "code",
   "execution_count": 13,
   "metadata": {
    "ExecuteTime": {
     "end_time": "2018-08-08T19:43:08.876240Z",
     "start_time": "2018-08-08T19:43:08.517440Z"
    }
   },
   "outputs": [],
   "source": [
    "def fix_cpf_cnpj(_id):\n",
    "    \n",
    "    if len(_id) in (12, 13, 14):\n",
    "        \n",
    "        while len(_id) < 14:\n",
    "            \n",
    "            _id = '0' + str(_id)\n",
    "            \n",
    "        return _id\n",
    "            \n",
    "    elif len(_id) <= 11:\n",
    "    \n",
    "        while len(_id) < 11:\n",
    "\n",
    "            _id = '0' + str(_id)\n",
    "            \n",
    "        return _id\n",
    "    \n",
    "    return \"\""
   ]
  },
  {
   "cell_type": "markdown",
   "metadata": {},
   "source": [
    "### Cria/Carrega o Data Frame para exportar os dados"
   ]
  },
  {
   "cell_type": "code",
   "execution_count": 40,
   "metadata": {
    "ExecuteTime": {
     "end_time": "2018-08-08T20:46:06.105005Z",
     "start_time": "2018-08-08T20:46:04.496005Z"
    }
   },
   "outputs": [],
   "source": [
    "database = pd.read_excel(PATH+\"planilha_auxiliar_CADIN.xlsx\", dtype=str).replace(\"nan\", \"\")"
   ]
  },
  {
   "cell_type": "code",
   "execution_count": 41,
   "metadata": {
    "ExecuteTime": {
     "end_time": "2018-08-08T20:46:06.282005Z",
     "start_time": "2018-08-08T20:46:06.106005Z"
    }
   },
   "outputs": [
    {
     "data": {
      "text/html": [
       "<div>\n",
       "<style scoped>\n",
       "    .dataframe tbody tr th:only-of-type {\n",
       "        vertical-align: middle;\n",
       "    }\n",
       "\n",
       "    .dataframe tbody tr th {\n",
       "        vertical-align: top;\n",
       "    }\n",
       "\n",
       "    .dataframe thead th {\n",
       "        text-align: right;\n",
       "    }\n",
       "</style>\n",
       "<table border=\"1\" class=\"dataframe\">\n",
       "  <thead>\n",
       "    <tr style=\"text-align: right;\">\n",
       "      <th></th>\n",
       "      <th>Fistel</th>\n",
       "      <th>Seq</th>\n",
       "      <th>Processo</th>\n",
       "      <th>Nome</th>\n",
       "      <th>CPF/CNPJ</th>\n",
       "      <th>Serviço</th>\n",
       "      <th>Receita</th>\n",
       "      <th>Data Vencimento</th>\n",
       "      <th>Valor Original</th>\n",
       "      <th>Data Pagamento</th>\n",
       "      <th>Situação</th>\n",
       "    </tr>\n",
       "  </thead>\n",
       "  <tbody>\n",
       "    <tr>\n",
       "      <th>0</th>\n",
       "      <td>02000405029</td>\n",
       "      <td>1</td>\n",
       "      <td></td>\n",
       "      <td>ACACIO MAURICIO DE OLIVEIRA NETO</td>\n",
       "      <td>1332147887</td>\n",
       "      <td>302 - Radioamador</td>\n",
       "      <td>1329 - TFF</td>\n",
       "      <td>31/03/1988\\r</td>\n",
       "      <td>&amp;nbsp;Histórico do Lançamento&lt;/b</td>\n",
       "      <td></td>\n",
       "      <td>Quitado</td>\n",
       "    </tr>\n",
       "    <tr>\n",
       "      <th>1</th>\n",
       "      <td>01033388297</td>\n",
       "      <td>1</td>\n",
       "      <td></td>\n",
       "      <td>ACHILLES FERNANDO CATAPANI ABELAIRA</td>\n",
       "      <td>1173626891</td>\n",
       "      <td>507 - Móvel Aeronáutico</td>\n",
       "      <td>8766 - TFI</td>\n",
       "      <td>17/09/1997\\r</td>\n",
       "      <td>&amp;nbsp;Histórico do Lançamento&lt;/b</td>\n",
       "      <td>17/09/1997</td>\n",
       "      <td>Quitado</td>\n",
       "    </tr>\n",
       "    <tr>\n",
       "      <th>2</th>\n",
       "      <td>02035273560</td>\n",
       "      <td>1</td>\n",
       "      <td></td>\n",
       "      <td>ADAILTON JOSE ROSA</td>\n",
       "      <td>5343241859</td>\n",
       "      <td>302 - Radioamador</td>\n",
       "      <td>8766 - TFI</td>\n",
       "      <td>18/11/1996\\r</td>\n",
       "      <td>&amp;nbsp;Histórico do Lançamento&lt;/b</td>\n",
       "      <td>18/11/1996</td>\n",
       "      <td>Quitado</td>\n",
       "    </tr>\n",
       "    <tr>\n",
       "      <th>3</th>\n",
       "      <td>02015316230</td>\n",
       "      <td>1</td>\n",
       "      <td></td>\n",
       "      <td>ADALBERTO SANTOS OLIVEIRA</td>\n",
       "      <td>88513343820</td>\n",
       "      <td>400 - Rádio do Cidadão</td>\n",
       "      <td>1329 - TFF</td>\n",
       "      <td>31/03/1989\\r</td>\n",
       "      <td>&amp;nbsp;Histórico do Lançamento&lt;/b</td>\n",
       "      <td></td>\n",
       "      <td>Quitado</td>\n",
       "    </tr>\n",
       "    <tr>\n",
       "      <th>4</th>\n",
       "      <td>02000897576</td>\n",
       "      <td>1</td>\n",
       "      <td></td>\n",
       "      <td>ADANELSON CORREA</td>\n",
       "      <td>51917815891</td>\n",
       "      <td>302 - Radioamador</td>\n",
       "      <td>1329 - TFF</td>\n",
       "      <td>31/03/1988\\r</td>\n",
       "      <td>&amp;nbsp;Histórico do Lançamento&lt;/b</td>\n",
       "      <td></td>\n",
       "      <td>Quitado</td>\n",
       "    </tr>\n",
       "  </tbody>\n",
       "</table>\n",
       "</div>"
      ],
      "text/plain": [
       "        Fistel Seq Processo                                 Nome     CPF/CNPJ  \\\n",
       "0  02000405029   1              ACACIO MAURICIO DE OLIVEIRA NETO   1332147887   \n",
       "1  01033388297   1           ACHILLES FERNANDO CATAPANI ABELAIRA   1173626891   \n",
       "2  02035273560   1                            ADAILTON JOSE ROSA   5343241859   \n",
       "3  02015316230   1                     ADALBERTO SANTOS OLIVEIRA  88513343820   \n",
       "4  02000897576   1                              ADANELSON CORREA  51917815891   \n",
       "\n",
       "                   Serviço     Receita Data Vencimento  \\\n",
       "0        302 - Radioamador  1329 - TFF    31/03/1988\\r   \n",
       "1  507 - Móvel Aeronáutico  8766 - TFI    17/09/1997\\r   \n",
       "2        302 - Radioamador  8766 - TFI    18/11/1996\\r   \n",
       "3   400 - Rádio do Cidadão  1329 - TFF    31/03/1989\\r   \n",
       "4        302 - Radioamador  1329 - TFF    31/03/1988\\r   \n",
       "\n",
       "                     Valor Original Data Pagamento Situação  \n",
       "0  &nbsp;Histórico do Lançamento</b                 Quitado  \n",
       "1  &nbsp;Histórico do Lançamento</b     17/09/1997  Quitado  \n",
       "2  &nbsp;Histórico do Lançamento</b     18/11/1996  Quitado  \n",
       "3  &nbsp;Histórico do Lançamento</b                 Quitado  \n",
       "4  &nbsp;Histórico do Lançamento</b                 Quitado  "
      ]
     },
     "execution_count": 41,
     "metadata": {},
     "output_type": "execute_result"
    }
   ],
   "source": [
    "database.head()"
   ]
  },
  {
   "cell_type": "code",
   "execution_count": 45,
   "metadata": {
    "ExecuteTime": {
     "end_time": "2018-08-08T20:46:31.921405Z",
     "start_time": "2018-08-08T20:46:31.755205Z"
    }
   },
   "outputs": [
    {
     "data": {
      "text/plain": [
       "(10176, 11)"
      ]
     },
     "execution_count": 45,
     "metadata": {},
     "output_type": "execute_result"
    }
   ],
   "source": [
    "database.shape"
   ]
  },
  {
   "cell_type": "code",
   "execution_count": 44,
   "metadata": {
    "ExecuteTime": {
     "end_time": "2018-08-08T20:46:30.370805Z",
     "start_time": "2018-08-08T20:46:30.169405Z"
    }
   },
   "outputs": [],
   "source": [
    "database.dropna(inplace=True)"
   ]
  },
  {
   "cell_type": "code",
   "execution_count": 7,
   "metadata": {
    "ExecuteTime": {
     "end_time": "2018-08-28T17:07:28.659123Z",
     "start_time": "2018-08-28T17:07:22.558123Z"
    }
   },
   "outputs": [],
   "source": [
    "sapiens_page = start_sapiens(CPF, PASS_2)"
   ]
  },
  {
   "cell_type": "code",
   "execution_count": 59,
   "metadata": {
    "ExecuteTime": {
     "end_time": "2018-08-08T20:58:42.199705Z",
     "start_time": "2018-08-08T20:58:42.032905Z"
    }
   },
   "outputs": [],
   "source": [
    "df = pd.DataFrame(columns=sapiens.KEYS)"
   ]
  },
  {
   "cell_type": "code",
   "execution_count": 60,
   "metadata": {
    "ExecuteTime": {
     "end_time": "2018-08-09T02:03:36.197001Z",
     "start_time": "2018-08-08T20:58:56.607305Z"
    }
   },
   "outputs": [],
   "source": [
    "counter = 0\n",
    "\n",
    "for i, row in database.iterrows():\n",
    "    \n",
    "    cpf = row[\"CPF/CNPJ\"].replace(\".\", \"\").replace('-', \"\")\n",
    "    \n",
    "    cpf = fix_cpf_cnpj(cpf)\n",
    "    \n",
    "    if len(cpf) > 11: next\n",
    "    \n",
    "    registro = sapiens_page.get_registro(cpf)    \n",
    "   \n",
    "    if registro is None:\n",
    "            \n",
    "        sapiens_page.pesquisa_dados(cpf)\n",
    "        \n",
    "        registro = sapiens_page.get_registro(cpf)\n",
    "        \n",
    "        counter += 1\n",
    "        \n",
    "    df = df.append(pd.Series(registro), ignore_index=True)\n",
    "        \n",
    "    if counter > 100:\n",
    "        \n",
    "        df.to_csv(\"registros_atualizados.csv\", index=False)\n",
    "        \n",
    "        new = start_sapiens(CPF, PASS_2, sapiens_page.registros) \n",
    "        \n",
    "        sapiens_page.driver.close()\n",
    "        \n",
    "        sapiens_page = new\n",
    "        \n",
    "        sleep(10)        \n",
    "                \n",
    "        counter = 0 \n",
    "        \n",
    "        gc.collect()\n",
    "        \n",
    "        \n",
    "else:\n",
    "    \n",
    "    df.to_csv(\"registros_atualizados.csv\", index=False)\n"
   ]
  },
  {
   "cell_type": "code",
   "execution_count": 62,
   "metadata": {
    "ExecuteTime": {
     "end_time": "2018-08-09T10:27:42.692472Z",
     "start_time": "2018-08-09T10:27:37.148072Z"
    }
   },
   "outputs": [],
   "source": [
    "df.to_excel(\"registros_atualizados.xlsx\", index=False)"
   ]
  },
  {
   "cell_type": "code",
   "execution_count": 46,
   "metadata": {},
   "outputs": [],
   "source": [
    "df[\"Endereço_Completo\"] = df.apply(lambda row: \" \".join([str(row[\"Logradouro\"]), \n",
    "                                                         str(row[\"Número\"]), \n",
    "                                                         str(row[\"Complemento\"]),\n",
    "                                                         str(row[\"Bairro\"]), \"\\n\", \"CEP:\", \n",
    "                                                         str(row[\"Cep\"]), \n",
    "                                                         str(row[\"Cidade\"])]\n",
    "                                                       ), axis=1\n",
    "                                  )"
   ]
  },
  {
   "cell_type": "code",
   "execution_count": 65,
   "metadata": {},
   "outputs": [],
   "source": [
    "#writer = pd.ExcelWriter(\"files/planilha_obito.xlsx\")\n",
    "#df.to_excel(writer, \"consulta_RF\", index=False, encoding='utf-8')\n",
    "#writer.save()"
   ]
  },
  {
   "cell_type": "code",
   "execution_count": 129,
   "metadata": {},
   "outputs": [],
   "source": [
    "#gs_df.set_with_dataframe(registros_rf, df, row=1, include_column_header=True)\n",
    "#gs_df.set_with_dataframe(registros, pd.DataFrame(df[\"Nome\"]), row=1, col=9, include_column_header=False)\n",
    "#gs_df.set_with_dataframe(registros, pd.DataFrame(df[\"Endereço_Completo\"]), row=1, col=12, include_column_header=False)"
   ]
  },
  {
   "cell_type": "code",
   "execution_count": 48,
   "metadata": {},
   "outputs": [],
   "source": [
    "gs_df.set_with_dataframe(registros, df, row=743, col=14, include_column_header=False)"
   ]
  }
 ],
 "metadata": {
  "kernelspec": {
   "display_name": "Python 3",
   "language": "python",
   "name": "python3"
  },
  "language_info": {
   "codemirror_mode": {
    "name": "ipython",
    "version": 3
   },
   "file_extension": ".py",
   "mimetype": "text/x-python",
   "name": "python",
   "nbconvert_exporter": "python",
   "pygments_lexer": "ipython3",
   "version": "3.5.4"
  },
  "toc": {
   "base_numbering": 1,
   "nav_menu": {},
   "number_sections": true,
   "sideBar": true,
   "skip_h1_title": false,
   "title_cell": "Table of Contents",
   "title_sidebar": "Contents",
   "toc_cell": false,
   "toc_position": {},
   "toc_section_display": true,
   "toc_window_display": false
  }
 },
 "nbformat": 4,
 "nbformat_minor": 2
}
