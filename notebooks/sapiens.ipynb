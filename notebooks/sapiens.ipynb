{
 "cells": [
  {
   "cell_type": "code",
   "execution_count": 2,
   "metadata": {},
   "outputs": [],
   "source": [
    "import pandas as pd\n",
    "import os\n",
    "import gc\n",
    "\n",
    "from time import sleep\n",
    "\n",
    "import gspread_dataframe as gs_df\n",
    "\n",
    "os.chdir(\"../\")\n",
    "\n",
    "# INITIALIZE DRIVER\n",
    "from selenium import webdriver\n",
    "from sapiens import LoginPage, KEYS\n",
    "import functions\n",
    "\n",
    "\n",
    "% reload_ext autoreload\n",
    "% autoreload 2"
   ]
  },
  {
   "cell_type": "code",
   "execution_count": 25,
   "metadata": {},
   "outputs": [],
   "source": [
    "driver = webdriver.Firefox()\n",
    "sapiens = LoginPage(driver).login('33831640807', 'Fer465023@ur_')"
   ]
  },
  {
   "cell_type": "markdown",
   "metadata": {},
   "source": [
    "### Criar o Data Frame para exportar os dados"
   ]
  },
  {
   "cell_type": "code",
   "execution_count": 34,
   "metadata": {},
   "outputs": [],
   "source": [
    "df = pd.DataFrame(columns=KEYS)\n",
    "\n",
    "#planilha = pd.read_excel(\"files/planilha_obito.xlsx\", sheet_name=\"consulta_RF\", dtype=str)"
   ]
  },
  {
   "cell_type": "code",
   "execution_count": 27,
   "metadata": {},
   "outputs": [],
   "source": [
    "planilha.columns = [\"Nome\", \"cpf\", \"fistel\", \"situação\", \"estado\"]"
   ]
  },
  {
   "cell_type": "code",
   "execution_count": 28,
   "metadata": {},
   "outputs": [
    {
     "data": {
      "text/html": [
       "<div>\n",
       "<style scoped>\n",
       "    .dataframe tbody tr th:only-of-type {\n",
       "        vertical-align: middle;\n",
       "    }\n",
       "\n",
       "    .dataframe tbody tr th {\n",
       "        vertical-align: top;\n",
       "    }\n",
       "\n",
       "    .dataframe thead th {\n",
       "        text-align: right;\n",
       "    }\n",
       "</style>\n",
       "<table border=\"1\" class=\"dataframe\">\n",
       "  <thead>\n",
       "    <tr style=\"text-align: right;\">\n",
       "      <th></th>\n",
       "      <th>Nome</th>\n",
       "      <th>cpf</th>\n",
       "      <th>fistel</th>\n",
       "      <th>situação</th>\n",
       "      <th>estado</th>\n",
       "    </tr>\n",
       "  </thead>\n",
       "  <tbody>\n",
       "    <tr>\n",
       "      <th>6779</th>\n",
       "      <td>CARLOS AUGUSTO RODRIGUES</td>\n",
       "      <td>00096537752</td>\n",
       "      <td>80104719923</td>\n",
       "      <td>nan</td>\n",
       "      <td>nan</td>\n",
       "    </tr>\n",
       "    <tr>\n",
       "      <th>3308</th>\n",
       "      <td>IFC INTERNATIONAL FOOD COMPANY INDUSTRIA DE A...</td>\n",
       "      <td>02473696000107</td>\n",
       "      <td>50403232201</td>\n",
       "      <td>nan</td>\n",
       "      <td>nan</td>\n",
       "    </tr>\n",
       "    <tr>\n",
       "      <th>2970</th>\n",
       "      <td>.JOSE ANTONIO SOARES</td>\n",
       "      <td>07362475802</td>\n",
       "      <td>80100864449</td>\n",
       "      <td>nan</td>\n",
       "      <td>nan</td>\n",
       "    </tr>\n",
       "    <tr>\n",
       "      <th>3427</th>\n",
       "      <td>11500 EMPREENDIMENTOS LTDA - EPP</td>\n",
       "      <td>04720254000135</td>\n",
       "      <td>50402126742</td>\n",
       "      <td>nan</td>\n",
       "      <td>nan</td>\n",
       "    </tr>\n",
       "    <tr>\n",
       "      <th>7092</th>\n",
       "      <td>A C A SANTOS-ME</td>\n",
       "      <td>64159692000106</td>\n",
       "      <td>50406300933</td>\n",
       "      <td>nan</td>\n",
       "      <td>nan</td>\n",
       "    </tr>\n",
       "  </tbody>\n",
       "</table>\n",
       "</div>"
      ],
      "text/plain": [
       "                                                   Nome             cpf  \\\n",
       "6779                           CARLOS AUGUSTO RODRIGUES     00096537752   \n",
       "3308   IFC INTERNATIONAL FOOD COMPANY INDUSTRIA DE A...  02473696000107   \n",
       "2970                               .JOSE ANTONIO SOARES     07362475802   \n",
       "3427                   11500 EMPREENDIMENTOS LTDA - EPP  04720254000135   \n",
       "7092                                    A C A SANTOS-ME  64159692000106   \n",
       "\n",
       "           fistel situação estado  \n",
       "6779  80104719923      nan    nan  \n",
       "3308  50403232201      nan    nan  \n",
       "2970  80100864449      nan    nan  \n",
       "3427  50402126742      nan    nan  \n",
       "7092  50406300933      nan    nan  "
      ]
     },
     "execution_count": 28,
     "metadata": {},
     "output_type": "execute_result"
    }
   ],
   "source": [
    "planilha = planilha.sort_values(by=\"Nome\")\n",
    "planilha.head()"
   ]
  },
  {
   "cell_type": "markdown",
   "metadata": {},
   "source": [
    "### Leitura dos Dados Brutos na Planilha"
   ]
  },
  {
   "cell_type": "code",
   "execution_count": 5,
   "metadata": {},
   "outputs": [],
   "source": [
    "gc = functions.authenticate_google(\"files/anatel.json\")\n",
    "\n",
    "sht = gc.open(title='RC')"
   ]
  },
  {
   "cell_type": "code",
   "execution_count": 6,
   "metadata": {},
   "outputs": [],
   "source": [
    "registros = sht.worksheet('Registros')\n",
    "registros_rf = sht.worksheet('Registros_RF')"
   ]
  },
  {
   "cell_type": "code",
   "execution_count": 29,
   "metadata": {},
   "outputs": [],
   "source": [
    "#lista_CPF = registros.col_values(1)[1:]\n",
    "\n",
    "lista_cpf = planilha[\"cpf\"]"
   ]
  },
  {
   "cell_type": "code",
   "execution_count": 39,
   "metadata": {},
   "outputs": [
    {
     "data": {
      "text/plain": [
       "(1479, 16)"
      ]
     },
     "execution_count": 39,
     "metadata": {},
     "output_type": "execute_result"
    }
   ],
   "source": [
    "df.shape"
   ]
  },
  {
   "cell_type": "code",
   "execution_count": null,
   "metadata": {},
   "outputs": [
    {
     "name": "stdout",
     "output_type": "stream",
     "text": [
      "{'CPF': '085.337.848-72', 'Número': '228', 'Sexo': 'MASCULINO', 'Ano do Óbito': '2004', 'Nome': 'CELSO GIOVANELLI SOARES', 'Logradouro': 'RUA PROFESSOR ARAUJO COELHO', 'Situação Cadastral': 'CANCELADA POR ÓBITO SEM ESPÓLIO', 'Data de Nascimento': '08-09-1932', 'Cidade': 'SAO PAULO/SP', 'Cep': '05138-000', 'Bairro': 'PIRITUBA', 'Título de Eleitor': '0000000000000', 'Complemento': 'JARDIM LIBANO', 'Nacionalidade': 'BRASILEIRO', 'Mãe': 'ANGELINA GIOVANELLI CASTANHO', 'Fone': '39023141'}\n",
      "{'CPF': '045.751.638-05', 'Número': '201', 'Sexo': 'MASCULINO', 'Nome': 'CELSO JOSE TAVARES', 'Logradouro': 'RUA HERMINIA PASQUALETTI SERRA', 'Situação Cadastral': 'REGULAR', 'Data de Nascimento': '10-11-1957', 'Cidade': 'SANTO ANDRE/SP', 'Cep': '09133-190', 'Bairro': 'SAO BERNARDO NOVO', 'Título de Eleitor': '0100734470124', 'Nacionalidade': 'BRASILEIRO', 'Mãe': 'MARIA JOSE MONTEIRO TAVARES', 'Fone': '98157352'}\n",
      "{'CPF': '695.692.078-68', 'Número': '222', 'Sexo': 'MASCULINO', 'Nome': 'CELSO KUNIOSHI', 'Logradouro': 'RUA FRANCISCO MALDONADO', 'Situação Cadastral': 'REGULAR', 'Data de Nascimento': '28-02-1955', 'Cidade': 'SAO PAULO/SP', 'Cep': '04149-100', 'Bairro': 'JARDIM DA SAUDE', 'Título de Eleitor': '0131724720108', 'Complemento': 'APTO 41', 'Nacionalidade': 'BRASILEIRO', 'Mãe': 'AKI MISATO KUNIOSHI', 'Fone': '55890908'}\n",
      "{'CPF': '047.850.428-42', 'Número': '66', 'Sexo': 'MASCULINO', 'Nome': 'CELSO LUCAS DA ROCHA', 'Logradouro': 'RUA ENGENHEIRO ALBERTO KULLMAN', 'Situação Cadastral': 'SUSPENSA', 'Data de Nascimento': '28-12-1963', 'Cidade': 'SAO PAULO/SP', 'Cep': '04784-010', 'Bairro': 'VILA FRIBURGO', 'Título de Eleitor': '0000000000000', 'Nacionalidade': 'BRASILEIRO', 'Mãe': 'AURORA DA CUNHA ROCHA', 'Fone': '91104316'}\n",
      "{'CPF': '101.169.398-42', 'Número': '14', 'Sexo': 'MASCULINO', 'Nome': 'CELSO LUIS DE CARVALHO', 'Logradouro': 'TRAVESSA ARAGUAPAS', 'Situação Cadastral': 'SUSPENSA', 'Data de Nascimento': '30-08-1967', 'Cidade': 'SAO PAULO/SP', 'Cep': '08215-280', 'Bairro': 'ITAQUERA', 'Título de Eleitor': '0000000000000', 'Nacionalidade': 'BRASILEIRO', 'Mãe': 'MARIA ERNESTINA DE CARVALHO', 'Fone': '61741529'}\n",
      "{'CPF': '084.433.748-02', 'Número': '599', 'Sexo': 'MASCULINO', 'Nome': 'CELSO LUIS NOGUEIRA', 'Logradouro': 'AVENIDA BENTO MIGUEL DE MENDONCA', 'Situação Cadastral': 'REGULAR', 'Data de Nascimento': '01-09-1966', 'Cidade': 'FERNANDOPOLIS/SP', 'Cep': '15600-000', 'Bairro': 'COESTER', 'Título de Eleitor': '0124479480116', 'Complemento': 'CASA', 'Nacionalidade': 'BRASILEIRO', 'Mãe': 'CLEIRE MARIA MAZIERI NOGUEIRA', 'Fone': '34626947'}\n",
      "{'CPF': '043.855.228-80', 'Número': '25', 'Sexo': 'MASCULINO', 'Nome': 'CELSO LUIZ ANDRADE', 'Logradouro': 'RUA ALCIDES ANTONIO AGOSTINI', 'Situação Cadastral': 'REGULAR', 'Data de Nascimento': '13-01-1952', 'Cidade': 'ARARAS/SP', 'Cep': '13604-460', 'Bairro': 'JD ALTO DA COLINA', 'Título de Eleitor': '0011092880124', 'Complemento': 'CASA', 'Nacionalidade': 'BRASILEIRO', 'Mãe': 'ORIDIA SILVA ANDRADE', 'Fone': '00000000'}\n",
      "{'CPF': '040.540.728-95', 'Número': '139', 'Sexo': 'MASCULINO', 'Nome': 'CELSO LUIZ PEDRONI', 'Logradouro': 'RUA DR. FADLO HAIDAR', 'Situação Cadastral': 'REGULAR', 'Data de Nascimento': '22-03-1956', 'Cidade': 'SAO PAULO/SP', 'Cep': '04545-050', 'Bairro': 'VILA OLIMPIA', 'Título de Eleitor': '0001282110159', 'Complemento': 'AP. 94', 'Nacionalidade': 'BRASILEIRO', 'Mãe': 'LOURDES APARECIDA OLIVEIRA PEDRONI', 'Fone': '38464397'}\n",
      "{'CPF': '088.030.688-21', 'Número': '905', 'Sexo': 'MASCULINO', 'Nome': 'CELSO MANSANO', 'Logradouro': 'RUA RAUL POMPEIA', 'Situação Cadastral': 'REGULAR', 'Data de Nascimento': '28-11-1967', 'Cidade': 'SAO PAULO/SP', 'Cep': '05025-010', 'Bairro': 'POMPEIA', 'Título de Eleitor': '0099155600159', 'Complemento': 'APTO.83', 'Nacionalidade': 'BRASILEIRO', 'Mãe': 'ANA DA SILVA MANSANO', 'Fone': '38011327'}\n",
      "{'CPF': '837.372.198-34', 'Número': '416', 'Sexo': 'MASCULINO', 'Nome': 'CELSO MARTINS', 'Logradouro': 'RUA OSCAR FREIRE', 'Situação Cadastral': 'REGULAR', 'Data de Nascimento': '16-06-1955', 'Cidade': 'SAO PAULO/SP', 'Cep': '01426-000', 'Bairro': 'CERQUEIRA CESAR', 'Título de Eleitor': '0096500200141', 'Complemento': 'AP 95', 'Nacionalidade': 'BRASILEIRO', 'Mãe': 'DOLORES GARCIA MARTINS', 'Fone': '81876687'}\n",
      "{'CPF': '054.046.588-78', 'Número': '50', 'Sexo': 'MASCULINO', 'Nome': 'CELSO NOBUO KIMURA', 'Logradouro': 'RUA HELVECIA', 'Situação Cadastral': 'REGULAR', 'Data de Nascimento': '09-05-1962', 'Cidade': 'ROSANA/SP', 'Cep': '19274-000', 'Bairro': 'PRIMAVERA', 'Título de Eleitor': '0053741730116', 'Complemento': 'QUADRA 53 D SOBRADO', 'Nacionalidade': 'BRASILEIRO', 'Mãe': 'MARIA KIMURA', 'Fone': '96134154'}\n",
      "{'CPF': '117.746.628-76', 'Número': '312', 'Sexo': 'MASCULINO', 'Nome': 'CELSO PEDRO BARBOSA', 'Logradouro': 'RUA SILVANO CAVALARO', 'Situação Cadastral': 'REGULAR', 'Data de Nascimento': '30-10-1969', 'Cidade': 'SANTA CRUZ DO RIO PARDO/SP', 'Cep': '18900-000', 'Bairro': 'JARDIM ELEODORO', 'Título de Eleitor': '0162930350167', 'Nacionalidade': 'BRASILEIRO', 'Mãe': 'NADIR DE SOUZA BARBOSA', 'Fone': '96497857'}\n",
      "{'CPF': '096.175.138-03', 'Número': '25', 'Sexo': 'MASCULINO', 'Nome': 'CELSO PEREIRA', 'Logradouro': 'RUA LUIZ MELGES', 'Situação Cadastral': 'REGULAR', 'Data de Nascimento': '10-11-1968', 'Cidade': 'POMPEIA/SP', 'Cep': '17580-000', 'Bairro': 'CENTRO', 'Título de Eleitor': '0163050660108', 'Nacionalidade': 'BRASILEIRO', 'Mãe': 'MARIA ROSA PEREIRA', 'Fone': '00000000'}\n",
      "{'CPF': '246.085.058-15', 'Número': '177', 'Sexo': 'MASCULINO', 'Nome': 'CELSO PEREIRA DA CUNHA', 'Logradouro': 'RUA ANTONIO GONCALVES VALIM', 'Situação Cadastral': 'REGULAR', 'Data de Nascimento': '24-05-1948', 'Cidade': 'SAO PAULO/SP', 'Cep': '05162-000', 'Bairro': 'PIRITUBA', 'Título de Eleitor': '0134246550116', 'Nacionalidade': 'BRASILEIRO', 'Mãe': 'MARIE PALATINUS DA CUHNA', 'Fone': '39040026'}\n",
      "{'CPF': '214.602.498-44', 'Número': '820', 'Sexo': 'MASCULINO', 'Nome': 'CELSO PRATA', 'Logradouro': 'OUTROS ESTR DO M BOI MIRIM', 'Situação Cadastral': 'CANCELADA POR MULTIPLICIDADE', 'Data de Nascimento': '24-11-1956', 'Cidade': 'SAO PAULO/SP', 'Cep': '04905-000', 'Bairro': 'JD DAS FLORES', 'Título de Eleitor': '0000000000000', 'Complemento': 'AP 82 BL 04', 'Nacionalidade': 'BRASILEIRO', 'Mãe': 'MABEL DELMONTE', 'Fone': '96842050'}\n",
      "{'CPF': '121.514.988-32', 'Número': '540', 'Sexo': 'MASCULINO', 'Nome': 'CELSO RICARDO MOREIRA DA SILVA', 'Logradouro': 'RUA CONCHAL', 'Situação Cadastral': 'REGULAR', 'Data de Nascimento': '11-09-1970', 'Cidade': 'CATANDUVA/SP', 'Cep': '15810-195', 'Bairro': 'JARDIM SOTO', 'Título de Eleitor': '0200036330159', 'Nacionalidade': 'BRASILEIRO', 'Mãe': 'MARIA LUCIA DA SILVA', 'Fone': '35215698'}\n",
      "{'CPF': '017.614.668-79', 'Número': '453', 'Sexo': 'MASCULINO', 'Nome': 'CELSO SAWAYA NEVES', 'Logradouro': 'RUA PAULO RIPARI', 'Situação Cadastral': 'REGULAR', 'Data de Nascimento': '16-06-1957', 'Cidade': 'PRESIDENTE PRUDENTE/SP', 'Cep': '19061-536', 'Bairro': 'CENTRAL PARK', 'Título de Eleitor': '0037772040108', 'Complemento': 'CASA', 'Nacionalidade': 'BRASILEIRO', 'Mãe': 'OLGA SAWAYA NEVES', 'Fone': '39088814'}\n",
      "{'CPF': '071.890.848-19', 'Número': '153', 'Sexo': 'MASCULINO', 'Nome': 'CELSO VALENTIM CARDOSO DE OLIVEIRA', 'Logradouro': 'RUA SALVADOR', 'Situação Cadastral': 'REGULAR', 'Data de Nascimento': '02-05-1970', 'Cidade': 'ITAPOLIS/SP', 'Cep': '14900-000', 'Bairro': 'JD NOVA REDENCAO', 'Título de Eleitor': '0178760010132', 'Complemento': 'CASA', 'Nacionalidade': 'BRASILEIRO', 'Mãe': 'VITORIA JULIA C DE OLIVEIRA', 'Fone': '32631736'}\n",
      "{'CPF': '045.956.488-98', 'Número': '58', 'Sexo': 'MASCULINO', 'Nome': 'CELSO VILLARES MARTINS', 'Logradouro': 'RUA FLEMING', 'Situação Cadastral': 'REGULAR', 'Data de Nascimento': '19-11-1961', 'Cidade': 'LIMEIRA/SP', 'Cep': '13484-091', 'Bairro': 'JARDIM AQUARIUS', 'Título de Eleitor': '0027692040132', 'Nacionalidade': 'BRASILEIRO', 'Mãe': 'ABIGAIL VILARES MARTINS', 'Fone': '34445852'}\n",
      "{'CPF': '038.845.388-53', 'Número': '297', 'Sexo': 'MASCULINO', 'Nome': 'CELSO VILELA DE FIGUEIREDO', 'Logradouro': 'ALAMEDA DAS PITANGUEIRAS', 'Situação Cadastral': 'REGULAR', 'Data de Nascimento': '02-08-1939', 'Cidade': 'SAO CARLOS/SP', 'Cep': '13561-359', 'Bairro': 'PQ FABER I', 'Título de Eleitor': '0146768860183', 'Complemento': 'CASA', 'Nacionalidade': 'BRASILEIRO', 'Mãe': 'MARIA CAROLINA DE FIGUEIREDO', 'Fone': '33717927'}\n"
     ]
    },
    {
     "name": "stdout",
     "output_type": "stream",
     "text": [
      "{'CPF': '193.669.143-49', 'Número': '216', 'Sexo': 'MASCULINO', 'Nome': 'CELSON FERNANDES CAVALCANTE', 'Logradouro': 'AVENIDA SAO FRANCISCO', 'Situação Cadastral': 'REGULAR', 'Data de Nascimento': '11-02-1963', 'Cidade': 'NOVO ORIENTE/CE', 'Cep': '63740-000', 'Bairro': 'CENTRO', 'Título de Eleitor': '0287730670116', 'Nacionalidade': 'BRASILEIRO', 'Mãe': 'FRANCISCA TEREZINHA DE JESUS', 'Fone': '41815714'}\n",
      "None\n",
      "None\n",
      "None\n",
      "None\n",
      "None\n",
      "None\n",
      "None\n",
      "None\n",
      "None\n",
      "None\n",
      "None\n",
      "None\n",
      "{'CPF': '004.467.688-39', 'Número': '11', 'Sexo': 'MASCULINO', 'Nome': 'CESAR AUGUSTO GOUVEA BATISTA', 'Logradouro': 'RUA SAMUEL LIBORIO DE AVILA', 'Situação Cadastral': 'REGULAR', 'Data de Nascimento': '02-08-1963', 'Cidade': 'GUARULHOS/SP', 'Cep': '07135-250', 'Bairro': 'JD ADRIANA', 'Título de Eleitor': '0058998420108', 'Complemento': 'A', 'Nacionalidade': 'BRASILEIRO', 'Mãe': 'MARIA GOUVEIA', 'Fone': '74735805'}\n",
      "{'CPF': '248.858.288-30', 'Número': '46', 'Sexo': 'MASCULINO', 'Nome': 'CESAR AUGUSTO MODESTO', 'Logradouro': 'RUA NICANOR FRANCISCO FERRAZ', 'Situação Cadastral': 'REGULAR', 'Data de Nascimento': '21-09-1976', 'Cidade': 'CASA BRANCA/SP', 'Cep': '13700-000', 'Bairro': 'JARDIM EUROPA', 'Título de Eleitor': '0232314490175', 'Nacionalidade': 'BRASILEIRO', 'Mãe': 'NAIR ORFEI MODESTO', 'Fone': '36661326'}\n",
      "{'CPF': '431.812.608-00', 'Número': '79', 'Sexo': 'MASCULINO', 'Nome': 'CESAR AUGUSTO MOSER COELHO DA FONSECA', 'Logradouro': 'RUA MADRE RITA AMADA DE JESUS', 'Situação Cadastral': 'REGULAR', 'Data de Nascimento': '30-10-1945', 'Cidade': 'SAO PAULO/SP', 'Cep': '04721-050', 'Bairro': 'GRANJA JULIETA', 'Título de Eleitor': '0078270950124', 'Complemento': 'APTO 111', 'Nacionalidade': 'BRASILEIRO', 'Mãe': 'ERMELINA MOSER COELHO DA FONSECA', 'Fone': '55218951'}\n",
      "{'CPF': '275.230.038-77', 'Número': '1218', 'Sexo': 'MASCULINO', 'Nome': 'CESAR AUGUSTO RUIZ', 'Logradouro': 'RUA IPORANS', 'Situação Cadastral': 'REGULAR', 'Data de Nascimento': '15-10-1976', 'Cidade': 'TUPA/SP', 'Cep': '17600-420', 'Bairro': 'CENTRO', 'Título de Eleitor': '0241635110108', 'Nacionalidade': 'BRASILEIRO', 'Mãe': 'DALMA QUINELLO RUIZ', 'Fone': '00000000'}\n",
      "{'CPF': '094.453.058-33', 'Número': '1733', 'Sexo': 'MASCULINO', 'Nome': 'CESAR DE SOUZA BOTTINO', 'Logradouro': 'RUA LUTECIA', 'Situação Cadastral': 'REGULAR', 'Data de Nascimento': '18-12-1965', 'Cidade': 'SAO PAULO/SP', 'Cep': '03423-000', 'Bairro': 'VILA CARRAO', 'Título de Eleitor': '0151427210167', 'Nacionalidade': 'BRASILEIRO', 'Mãe': 'MARISA STELA DE SOUZA BOTTINO', 'Fone': '29142113'}\n",
      "{'CPF': '136.786.968-48', 'Número': '1306', 'Sexo': 'MASCULINO', 'Nome': 'CESAR LEVI MACARI', 'Logradouro': 'RUA RODOLFO GUIMARAES', 'Situação Cadastral': 'REGULAR', 'Data de Nascimento': '30-12-1970', 'Cidade': 'BROTAS/SP', 'Cep': '17380-000', 'Bairro': 'JARDIM SAO JOAO', 'Título de Eleitor': '0177995850183', 'Complemento': 'CASA', 'Nacionalidade': 'BRASILEIRO', 'Mãe': 'MARIA APARECIDA MACARI', 'Fone': '36538098'}\n",
      "{'CPF': '136.936.278-19', 'Número': '892', 'Sexo': 'MASCULINO', 'Nome': 'CESAR MARINHO MEIRA DOS SANTOS', 'Logradouro': 'RUA PEDRO AUGUSTO DE OLIVEIRA', 'Situação Cadastral': 'REGULAR', 'Data de Nascimento': '30-05-1978', 'Cidade': 'ARACATUBA/SP', 'Cep': '16058-189', 'Bairro': 'SAO RAFAEL', 'Título de Eleitor': '0261610540167', 'Nacionalidade': 'BRASILEIRO', 'Mãe': 'MARINALVA MEIRA DOS SANTOS', 'Fone': '81766831'}\n",
      "{'CPF': '077.623.328-98', 'Número': 'Q51L23', 'Sexo': 'MASCULINO', 'Nome': 'CESAR MARQUES DE FREITAS', 'Logradouro': 'RUA PRESIDENTE CAFE FILHO', 'Situação Cadastral': 'SUSPENSA', 'Data de Nascimento': '25-04-1966', 'Cidade': 'GOIANIA/GO', 'Cep': '74353-070', 'Bairro': 'JDR PRESIDENT', 'Título de Eleitor': '0000000000000', 'Nacionalidade': 'BRASILEIRO', 'Mãe': 'LEONTINA NUNES MARQUES', 'Fone': '02313087'}\n",
      "{'CPF': '123.736.968-19', 'Número': '632', 'Sexo': 'MASCULINO', 'Nome': 'CESAR RICARDO RODRIGUES', 'Logradouro': 'OUTROS CAETANO SARTORE', 'Situação Cadastral': 'REGULAR', 'Data de Nascimento': '11-04-1970', 'Cidade': \"SANTA BARBARA D'OESTE/SP\", 'Cep': '13456-575', 'Bairro': 'MOLLON IV', 'Título de Eleitor': '0164710200159', 'Nacionalidade': 'BRASILEIRO', 'Mãe': 'RICARDINA PAIVA RODRIGUES', 'Fone': '34586375'}\n",
      "{'CPF': '162.758.828-08', 'Número': '119', 'Sexo': 'MASCULINO', 'Nome': 'CESAR RIOS DE MACEDO', 'Logradouro': 'RUA MARIO GOMES DE CAMPOS', 'Situação Cadastral': 'REGULAR', 'Data de Nascimento': '09-06-1972', 'Cidade': 'JACAREI/SP', 'Cep': '12312-495', 'Bairro': 'JD SANTA MARINA', 'Título de Eleitor': '0196268840124', 'Complemento': 'CASA', 'Nacionalidade': 'BRASILEIRO', 'Mãe': 'MARIA HELENA JUNQUEIRA RIOS DE MACEDO', 'Fone': '82398047'}\n",
      "{'CPF': '016.416.298-43', 'Número': '1003', 'Sexo': 'MASCULINO', 'Nome': 'CEZAR AUGUSTO VERZENHASSI', 'Logradouro': 'RUA CONSTANTE OMETTO', 'Situação Cadastral': 'REGULAR', 'Data de Nascimento': '20-07-1959', 'Cidade': 'LIMEIRA/SP', 'Cep': '13484-442', 'Bairro': 'JD SAO PAULO', 'Título de Eleitor': '0027782680191', 'Nacionalidade': 'BRASILEIRO', 'Mãe': 'ROSA BOTIAO VERZENHASSI', 'Fone': '34420199'}\n",
      "{'CPF': '275.676.098-60', 'Número': '31', 'Sexo': 'MASCULINO', 'Nome': 'CHARLES JOSE DA SILVA', 'Logradouro': 'RUA IZOLINO MACIEL DA SILVA', 'Situação Cadastral': 'REGULAR', 'Data de Nascimento': '31-08-1978', 'Cidade': 'SAO PAULO/SP', 'Cep': '08440-530', 'Bairro': 'GUAIANAZES', 'Título de Eleitor': '0225868520116', 'Nacionalidade': 'BRASILEIRO', 'Mãe': 'CICERA MARIA DA SILVA', 'Fone': '25578273'}\n",
      "{'CPF': '078.897.518-85', 'Número': '272', 'Sexo': 'MASCULINO', 'Nome': 'CHARLINY RODRIGUES', 'Logradouro': 'RUA 24 DE MAIO', 'Situação Cadastral': 'REGULAR', 'Data de Nascimento': '28-03-1967', 'Cidade': 'SANTO ANTONIO DA PLATINA/PR', 'Cep': '86430-000', 'Bairro': 'CENTRO', 'Título de Eleitor': '0033226170124', 'Nacionalidade': 'BRASILEIRO', 'Mãe': 'ROSA FRNAISCA RODRIGUES', 'Fone': '00000000'}\n",
      "None\n",
      "{'CPF': '055.056.618-07', 'Número': '349', 'Sexo': 'MASCULINO', 'Nome': 'CHISO LUIZ SAKAKI', 'Logradouro': 'RUA BELEM DO PARA', 'Situação Cadastral': 'REGULAR', 'Data de Nascimento': '13-03-1964', 'Cidade': 'ATIBAIA/SP', 'Cep': '12944-120', 'Bairro': 'RECREIO ESTORIL', 'Título de Eleitor': '0011890720108', 'Nacionalidade': 'BRASILEIRO', 'Mãe': 'VILMA PIRES ANTONIO SAKAKI', 'Fone': '44128855'}\n",
      "None\n",
      "{'CPF': '256.972.148-47', 'Número': '2251', 'Sexo': 'MASCULINO', 'Nome': 'CHRISTIAN ANTHONY COCATTO', 'Logradouro': 'RUA RETIRO', 'Situação Cadastral': 'REGULAR', 'Data de Nascimento': '13-03-1974', 'Cidade': 'JUNDIAI/SP', 'Cep': '13209-355', 'Bairro': 'JD DAS HORTENCIAS', 'Título de Eleitor': '0257150660183', 'Complemento': 'APTO 44 T 6', 'Nacionalidade': 'BRASILEIRO', 'Mãe': 'SANDRA APARECIDA DE MELLO COCATTO', 'Fone': '45271427'}\n",
      "{'CPF': '114.921.458-90', 'Número': '125', 'Sexo': 'MASCULINO', 'Nome': 'CHRISTIAN BARTZ', 'Logradouro': 'RUA OSWALDO LEITE RIBEIRO', 'Situação Cadastral': 'REGULAR', 'Data de Nascimento': '31-08-1972', 'Cidade': 'SAO PAULO/SP', 'Cep': '05655-020', 'Bairro': 'JD MORUMBI', 'Título de Eleitor': '0228705390183', 'Complemento': 'CASA 4', 'Nacionalidade': 'BRASILEIRO', 'Mãe': 'SONIA TEREZA BARTZ', 'Fone': '37433330'}\n",
      "{'CPF': '218.666.658-80', 'Número': '20', 'Sexo': 'MASCULINO', 'Nome': 'CHRISTIAN FRANCIS DA SILVA', 'Logradouro': 'RUA FRANCISCO OLEGARIO DA SILVA', 'Situação Cadastral': 'REGULAR', 'Data de Nascimento': '30-01-1980', 'Cidade': 'PINDAMONHANGABA/SP', 'Cep': '12423-680', 'Bairro': 'CONJUNTO RESIDENCIA', 'Título de Eleitor': '0000000000000', 'Nacionalidade': 'BRASILEIRO', 'Mãe': 'IVETE FLORENTINO DA SILVA', 'Fone': '35228593'}\n",
      "{'CPF': '214.211.048-73', 'Número': '114', 'Sexo': 'MASCULINO', 'Nome': 'CHRISTIAN TAKAOKA', 'Logradouro': 'RUA PENSILVANIA', 'Situação Cadastral': 'REGULAR', 'Data de Nascimento': '08-02-1974', 'Cidade': 'SAO PAULO/SP', 'Cep': '04564-000', 'Bairro': 'CIDADE MONCOES', 'Título de Eleitor': '0228789700124', 'Complemento': 'AP 202 HORIZONTE', 'Nacionalidade': 'BRASILEIRO', 'Mãe': 'MARIANA YUKIE TAKAOKA', 'Fone': '35784748'}\n",
      "{'CPF': '330.286.628-33', 'Número': '836', 'Sexo': 'MASCULINO', 'Nome': 'CHRISTIANO DA SILVA SIMONETTI', 'Logradouro': 'OUTROS 33', 'Situação Cadastral': 'REGULAR', 'Data de Nascimento': '10-05-1986', 'Cidade': 'RIO CLARO/SP', 'Cep': '13501-150', 'Bairro': 'VILA SANTO ANTONIO', 'Título de Eleitor': '0337083640191', 'Nacionalidade': 'BRASILEIRO', 'Mãe': 'MAGNORIA DA SILVA SIMONETTI', 'Fone': '35246260'}\n"
     ]
    },
    {
     "name": "stdout",
     "output_type": "stream",
     "text": [
      "{'CPF': '276.555.778-03', 'Número': '1650', 'Sexo': 'MASCULINO', 'Nome': 'CHRYSTIANO GARCIA', 'Logradouro': 'RUA JOAO MEDUETA', 'Situação Cadastral': 'REGULAR', 'Data de Nascimento': '08-03-1978', 'Cidade': 'VINHEDO/SP', 'Cep': '13280-000', 'Bairro': 'CAPELA', 'Título de Eleitor': '0274201890159', 'Complemento': 'BLOCO C APTO 22', 'Nacionalidade': 'BRASILEIRO', 'Mãe': 'FRANCISCA JOANA DOS SANTOS GARCIA', 'Fone': '38862319'}\n",
      "None\n",
      "{'CPF': '178.509.008-98', 'Número': '51', 'Sexo': 'MASCULINO', 'Nome': 'CICERO ALVES DA SILVA', 'Logradouro': 'RUA DOS CRAVOS', 'Situação Cadastral': 'REGULAR', 'Data de Nascimento': '20-02-1975', 'Cidade': 'SAO BERNARDO DO CAMPO/SP', 'Cep': '09783-001', 'Bairro': 'VL ESPERANCA', 'Título de Eleitor': '0243642990175', 'Nacionalidade': 'BRASILEIRO', 'Mãe': 'FRANCISCA MARIA DA SILVA', 'Fone': '43358539'}\n",
      "{'CPF': '209.634.084-53', 'Número': '180', 'Sexo': 'MASCULINO', 'Nome': 'CICERO ARLINDO DUARTE', 'Logradouro': 'RUA MATO GROSSO', 'Situação Cadastral': 'REGULAR', 'Data de Nascimento': '17-01-1960', 'Cidade': 'NOVA LONDRINA/PR', 'Cep': '87970-000', 'Bairro': 'CJ STA MONICA', 'Título de Eleitor': '0044801060680', 'Complemento': 'CAA', 'Nacionalidade': 'BRASILEIRO', 'Mãe': 'IRACI MARIA CONCEICAO', 'Fone': '99085803'}\n",
      "{'CPF': '040.523.348-50', 'Número': '154', 'Sexo': 'MASCULINO', 'Nome': 'CICERO BARBOSA LINS', 'Logradouro': 'RUA XAPURI', 'Situação Cadastral': 'REGULAR', 'Data de Nascimento': '09-11-1961', 'Cidade': 'GUARULHOS/SP', 'Cep': '07240-030', 'Bairro': 'JARDIM CUMBICA', 'Título de Eleitor': '0113188690124', 'Nacionalidade': 'BRASILEIRO', 'Mãe': 'DAMIANA BARBOSA LINS', 'Fone': '65200110'}\n",
      "{'CPF': '085.731.188-30', 'Número': '1790', 'Sexo': 'MASCULINO', 'Nome': 'CICERO CAETANO DA SILVA', 'Logradouro': 'ALAMEDA DOS ANAPURUS', 'Situação Cadastral': 'REGULAR', 'Data de Nascimento': '24-02-1965', 'Cidade': 'SAO PAULO/SP', 'Cep': '04087-000', 'Bairro': 'MOEMA', 'Título de Eleitor': '0153240520116', 'Nacionalidade': 'BRASILEIRO', 'Mãe': 'MARIA ALVES DE FARIAS', 'Fone': '78697869'}\n",
      "{'CPF': '074.837.548-18', 'Número': '352', 'Sexo': 'MASCULINO', 'Nome': 'CICERO DIAS PAYAO', 'Logradouro': 'RUA CANDIDA BATTEL', 'Situação Cadastral': 'REGULAR', 'Data de Nascimento': '28-02-1966', 'Cidade': 'CONCHAL/SP', 'Cep': '13835-000', 'Bairro': 'JARDIM PERIS', 'Título de Eleitor': '0031428650175', 'Nacionalidade': 'BRASILEIRO', 'Mãe': 'CATHARINA HORACIO FERREIRA', 'Fone': '93034455'}\n",
      "{'CPF': '183.640.338-08', 'Número': '270', 'Sexo': 'MASCULINO', 'Nome': 'CICERO EVANGELISTA DE FRANCA BARROS', 'Logradouro': 'RUA SERGIPE', 'Situação Cadastral': 'REGULAR', 'Data de Nascimento': '05-09-1975', 'Cidade': 'RIO GRANDE DA SERRA/SP', 'Cep': '09450-000', 'Bairro': 'SAO JOAO', 'Título de Eleitor': '0215917820116', 'Complemento': 'B', 'Nacionalidade': 'BRASILEIRO', 'Mãe': 'MARIA LUZENITE DE FRANCA BARROS', 'Fone': '48201550'}\n",
      "{'CPF': '489.332.369-53', 'Número': '045', 'Sexo': 'MASCULINO', 'Nome': 'CICERO FERREIRA DA SILVA', 'Logradouro': 'RUA LUIZ R DE OLIVEIRA', 'Situação Cadastral': 'REGULAR', 'Data de Nascimento': '05-05-1961', 'Cidade': 'CAMPINAS/SP', 'Cep': '13069-088', 'Bairro': 'VILA SAN MARTIN', 'Título de Eleitor': '0016817061406', 'Complemento': 'QUA DA BLOCO G2 AP42', 'Nacionalidade': 'BRASILEIRO', 'Mãe': 'LAUDELINA TAVARES DE ARAUJO', 'Fone': '32825452'}\n",
      "{'CPF': '111.830.878-61', 'Número': '305', 'Sexo': 'MASCULINO', 'Nome': 'CICERO FORTUNATO VIANA', 'Logradouro': 'RUA JOAO ASSUNCAO', 'Situação Cadastral': 'REGULAR', 'Data de Nascimento': '20-07-1966', 'Cidade': 'GUARULHOS/SP', 'Cep': '07260-140', 'Bairro': 'PARQUE SAO MIGUEL', 'Título de Eleitor': '0113534360116', 'Nacionalidade': 'BRASILEIRO', 'Mãe': 'VALDEMIRA VIANA FORTUNATO', 'Fone': '20883829'}\n",
      "{'CPF': '649.270.164-04', 'Número': '514', 'Sexo': 'MASCULINO', 'Nome': 'CICERO GOMES DA SILVA', 'Logradouro': 'RUA APOLO', 'Situação Cadastral': 'REGULAR', 'Data de Nascimento': '23-03-1970', 'Cidade': 'FRANCO DA ROCHA/SP', 'Cep': '07841-000', 'Bairro': 'VILA JOSEFINA', 'Título de Eleitor': '0175671800108', 'Nacionalidade': 'BRASILEIRO', 'Mãe': 'TEONILA GOMES DA SILVA', 'Fone': '64054406'}\n",
      "{'CPF': '039.495.728-80', 'Número': '402', 'Sexo': 'MASCULINO', 'Nome': 'CICERO JOAQUIM DA SILVA', 'Logradouro': 'RUA TOPAZIO', 'Situação Cadastral': 'REGULAR', 'Data de Nascimento': '22-07-1954', 'Cidade': 'OSASCO/SP', 'Cep': '06286-240', 'Bairro': 'JARDIM MUTINGA', 'Título de Eleitor': '0085751580183', 'Complemento': 'CASA 1', 'Nacionalidade': 'BRASILEIRO', 'Mãe': 'MARIA ALEXANDRINA DA SILVA', 'Fone': '36010458'}\n",
      "{'CPF': '132.784.568-74', 'Número': '1', 'Sexo': 'MASCULINO', 'Nome': 'CICERO JOSE PEREIRA', 'Logradouro': 'AVENIDA ALFREDO AVILA', 'Situação Cadastral': 'REGULAR', 'Data de Nascimento': '28-11-1970', 'Cidade': 'SAO PAULO/SP', 'Cep': '02279-110', 'Bairro': 'CHACARA SAO JOAO', 'Título de Eleitor': '0185970100191', 'Nacionalidade': 'BRASILEIRO', 'Mãe': 'MARIA JOSE DA SILVA', 'Fone': '84310762'}\n",
      "{'CPF': '082.608.888-07', 'Número': '409', 'Sexo': 'MASCULINO', 'Nome': 'CICERO NUNES DE OLIVEIRA', 'Logradouro': 'RUA DOMINGOS GIGLIO', 'Situação Cadastral': 'REGULAR', 'Data de Nascimento': '19-09-1966', 'Cidade': 'SAO PAULO/SP', 'Cep': '02972-010', 'Bairro': 'VILA MIRIAM', 'Título de Eleitor': '0138116030124', 'Complemento': 'CASA', 'Nacionalidade': 'BRASILEIRO', 'Mãe': 'NEUZA CORREIA DOS SANTOS', 'Fone': '39758453'}\n",
      "{'CPF': '783.653.098-15', 'Número': '300', 'Sexo': 'MASCULINO', 'Nome': 'CICERO PEDRO DA SILVA', 'Logradouro': 'RUA 4', 'Situação Cadastral': 'REGULAR', 'Data de Nascimento': '19-09-1950', 'Cidade': 'MIRACATU/SP', 'Cep': '11850-000', 'Bairro': 'VLA KAMAITE', 'Título de Eleitor': '0070448530116', 'Nacionalidade': 'BRASILEIRO', 'Mãe': 'MARIA FRANCISCA', 'Fone': '38471733'}\n",
      "{'CPF': '464.264.508-04', 'Número': '397', 'Sexo': 'MASCULINO', 'Nome': 'CICERO RODRIGUES NUNES', 'Logradouro': 'RUA TIRADENTES', 'Situação Cadastral': 'REGULAR', 'Data de Nascimento': '20-05-1946', 'Cidade': 'OURO PRETO DO OESTE/RO', 'Cep': '76920-000', 'Bairro': 'LIBERDADE', 'Título de Eleitor': '0051512200132', 'Nacionalidade': 'BRASILEIRO', 'Mãe': 'MARIA SIMIAO FERREIRA', 'Fone': '04615939'}\n",
      "{'CPF': '024.425.648-90', 'Número': '74', 'Sexo': 'MASCULINO', 'Nome': 'CICERO SOARES', 'Logradouro': 'RUA IARA', 'Situação Cadastral': 'SUSPENSA', 'Data de Nascimento': '17-07-1960', 'Cidade': 'CAMPINAS/SP', 'Cep': '13056-416', 'Bairro': 'PQ DOM PEDRO II', 'Título de Eleitor': '0000000000000', 'Nacionalidade': 'BRASILEIRO', 'Mãe': 'ANITA V SOARES', 'Fone': '32661878'}\n",
      "{'CPF': '861.541.418-15', 'Número': '244', 'Sexo': 'MASCULINO', 'Nome': 'CICERO SOARES DE SOUZA', 'Logradouro': 'RUA MARTIN CARVALHO', 'Situação Cadastral': 'REGULAR', 'Data de Nascimento': '15-12-1955', 'Cidade': 'DIADEMA/SP', 'Cep': '09950-040', 'Bairro': 'VILA NOGUEIRA', 'Título de Eleitor': '0142464250124', 'Complemento': 'CASA', 'Nacionalidade': 'BRASILEIRO', 'Mãe': 'MARIA LUCIANA SOARES', 'Fone': '40713192'}\n",
      "{'CPF': '135.536.198-21', 'Número': '31', 'Sexo': 'MASCULINO', 'Nome': 'CICERO VIEIRA DE LIMA', 'Logradouro': 'RUA CHALE', 'Situação Cadastral': 'REGULAR', 'Data de Nascimento': '25-06-1972', 'Cidade': 'SAO PAULO/SP', 'Cep': '03935-050', 'Bairro': 'JD IMPERADOR', 'Título de Eleitor': '0199494640191', 'Nacionalidade': 'BRASILEIRO', 'Mãe': 'MARIA VIEIRA DE LIMA', 'Fone': '38045371'}\n",
      "None\n",
      "{'CPF': '047.872.658-90', 'Número': '124', 'Sexo': 'FEMININO', 'Nome': 'CINIRA LEMOS MUNIZ', 'Logradouro': 'RUA SAMBAIATUBA', 'Situação Cadastral': 'REGULAR', 'Data de Nascimento': '11-12-1951', 'Cidade': 'SAO VICENTE/SP', 'Cep': '11365-140', 'Bairro': 'JD NOSSO LAR', 'Título de Eleitor': '0145334190183', 'Complemento': 'CASA 3', 'Nacionalidade': 'BRASILEIRO', 'Mãe': 'DULCE MARIA ROSA', 'Fone': '35684257'}\n",
      "{'CPF': '797.601.638-53', 'Número': '37', 'Sexo': 'MASCULINO', 'Nome': 'CIRCO JOSE FERREIRA', 'Logradouro': 'RUA DAS CAMELIAS', 'Situação Cadastral': 'REGULAR', 'Data de Nascimento': '01-06-1954', 'Cidade': 'ROSANA/SP', 'Cep': '19273-000', 'Bairro': 'VILA PONTAL', 'Título de Eleitor': '0008457750116', 'Nacionalidade': 'BRASILEIRO', 'Mãe': 'AUGUSTA DE OLIVEIRA FERREIRA', 'Fone': '32882064'}\n",
      "{'CPF': '041.548.358-15', 'Número': '155', 'Sexo': 'MASCULINO', 'Nome': 'CIRO DE OLIVEIRA PEIXOTO', 'Logradouro': 'RUA MARINA PIZA SAMPAIO GOES', 'Situação Cadastral': 'REGULAR', 'Data de Nascimento': '25-09-1935', 'Cidade': 'MARILIA/SP', 'Cep': '17503-360', 'Bairro': 'SALGADO FILHO', 'Título de Eleitor': '0029255740116', 'Complemento': 'CASA', 'Nacionalidade': 'BRASILEIRO', 'Mãe': 'ERCILIA AMARAL PEIXOTO', 'Fone': '34333054'}\n"
     ]
    },
    {
     "name": "stdout",
     "output_type": "stream",
     "text": [
      "{'CPF': '142.173.798-11', 'Número': '115', 'Sexo': 'MASCULINO', 'Nome': 'CIRO GIRELLO RISKALLAH', 'Logradouro': 'OUTROS MIRO VETORAZZO', 'Situação Cadastral': 'REGULAR', 'Data de Nascimento': '13-02-1962', 'Cidade': 'SAO BERNARDO DO CAMPO/SP', 'Cep': '09820-135', 'Bairro': 'DEMARCHI', 'Título de Eleitor': '0118494220183', 'Complemento': 'CASA 83', 'Nacionalidade': 'BRASILEIRO', 'Mãe': 'NILDE GIRELLO RISKALLAH', 'Fone': '99873364'}\n",
      "{'CPF': '005.273.528-10', 'Número': '84', 'Sexo': 'MASCULINO', 'Nome': 'CIRO LUCIANO CARNEIRO FILHO', 'Logradouro': 'RUA JOSE S PONTO CARDOSO', 'Situação Cadastral': 'REGULAR', 'Data de Nascimento': '28-07-1958', 'Cidade': 'PINDAMONHANGABA/SP', 'Cep': '12440-250', 'Bairro': 'MOREIRA CESAR', 'Título de Eleitor': '0214069650167', 'Complemento': 'CASA', 'Nacionalidade': 'BRASILEIRO', 'Mãe': 'MARIA APARECIDA DE LIMA CARNEIRO', 'Fone': '36371998'}\n",
      "{'CPF': '095.760.628-10', 'Número': '1552', 'Sexo': 'MASCULINO', 'Ano do Óbito': '2005', 'Nome': 'CIRO MAURO DEGASPERI JUNIOR', 'Logradouro': 'AVENIDA 12', 'Situação Cadastral': 'CANCELADA POR ÓBITO SEM ESPÓLIO', 'Data de Nascimento': '19-03-1971', 'Cidade': 'RIO CLARO/SP', 'Cep': '13500-460', 'Bairro': 'SANTA CRUZ', 'Título de Eleitor': '0000000000000', 'Complemento': 'CASA', 'Nacionalidade': 'BRASILEIRO', 'Mãe': 'SIRLEI GERALDO DEGASPERI', 'Fone': '35244604'}\n",
      "None\n",
      "None\n",
      "None\n",
      "None\n",
      "None\n",
      "None\n",
      "None\n",
      "{'CPF': '087.002.308-04', 'Número': '55', 'Sexo': 'MASCULINO', 'Nome': 'CIVIS SILVERIO', 'Logradouro': 'RUA TONICO DE CASTRO', 'Situação Cadastral': 'SUSPENSA', 'Data de Nascimento': '17-09-1939', 'Cidade': 'AVARE/SP', 'Cep': '18708-420', 'Bairro': 'ALTO DA BOA VISTA', 'Título de Eleitor': '0000000000000', 'Nacionalidade': 'BRASILEIRO', 'Mãe': 'ROSA DOS SANTOS SILVERIO', 'Fone': '37324650'}\n",
      "None\n",
      "{'CPF': '055.360.188-17', 'Número': '000040', 'Sexo': 'FEMININO', 'Nome': 'CLAUDIREIS BITTENTE DOS SANTOS', 'Logradouro': 'RUA ANTONIO FIDA', 'Situação Cadastral': 'REGULAR', 'Data de Nascimento': '15-04-1961', 'Cidade': 'CARAGUATATUBA/SP', 'Cep': '11675-340', 'Bairro': 'JARAGUAZINHO', 'Título de Eleitor': '0067501460108', 'Nacionalidade': 'BRASILEIRO', 'Mãe': '', 'Fone': '00000000'}\n",
      "{'CPF': '190.401.208-62', 'Número': '585', 'Sexo': 'MASCULINO', 'Nome': 'CLAUDAIR SALVIANO DE ANDRADE', 'Logradouro': 'RUA EUCLIDES GUIDOLIM', 'Situação Cadastral': 'REGULAR', 'Data de Nascimento': '02-02-1974', 'Cidade': 'RIO DAS PEDRAS/SP', 'Cep': '13390-000', 'Bairro': 'RESID BOM JARDIM', 'Título de Eleitor': '0184452120116', 'Complemento': 'CASA', 'Nacionalidade': 'BRASILEIRO', 'Mãe': 'EVA NICOLAU DE ANDRADE', 'Fone': '34936135'}\n",
      "{'CPF': '592.921.809-91', 'Número': '257', 'Sexo': 'MASCULINO', 'Nome': 'CLAUDECIR DE CARVALHO', 'Logradouro': 'RUA ANITA SILVA SANTOS', 'Situação Cadastral': 'REGULAR', 'Data de Nascimento': '22-06-1967', 'Cidade': 'SUMARE/SP', 'Cep': '13181-461', 'Bairro': 'JD DENADAE', 'Título de Eleitor': '0024453580671', 'Complemento': 'CASA', 'Nacionalidade': 'BRASILEIRO', 'Mãe': 'JANDIRA MARCO PEREIRA', 'Fone': '39228519'}\n",
      "{'CPF': '258.220.238-00', 'Número': '152', 'Sexo': 'MASCULINO', 'Nome': 'CLAUDEMAR DOMINGUES DOS SANTOS', 'Logradouro': 'RUA FRANCISCO LISBOA', 'Situação Cadastral': 'REGULAR', 'Data de Nascimento': '26-02-1977', 'Cidade': 'ITAPETININGA/SP', 'Cep': '18217-000', 'Bairro': 'RECHA', 'Título de Eleitor': '0215509970183', 'Nacionalidade': 'BRASILEIRO', 'Mãe': 'DULCE FRANCISCA DE ALMEIDA SANTOS', 'Fone': '96298874'}\n",
      "{'CPF': '071.554.358-05', 'Número': '60', 'Sexo': 'MASCULINO', 'Nome': 'CLAUDEMAR RENATO ZIRONDI', 'Logradouro': 'RUA CARLOS GOMES', 'Situação Cadastral': 'REGULAR', 'Data de Nascimento': '12-11-1969', 'Cidade': 'SERTAOZINHO/SP', 'Cep': '14160-020', 'Bairro': 'CINCO DE DEZEMBRO', 'Título de Eleitor': '0175586800124', 'Nacionalidade': 'BRASILEIRO', 'Mãe': 'ELZA M ZIRONDI', 'Fone': '39456150'}\n",
      "{'CPF': '624.422.529-53', 'Número': '683', 'Sexo': 'MASCULINO', 'Nome': 'CLAUDEMIR ALBERTO MIKULSKI', 'Logradouro': 'RUA FRANCISCO FREDERICO DA CRUZ', 'Situação Cadastral': 'REGULAR', 'Data de Nascimento': '10-11-1967', 'Cidade': 'CONTENDA/PR', 'Cep': '83730-000', 'Bairro': 'LOTEAMENTO SAO JOAO', 'Título de Eleitor': '0006905730604', 'Complemento': 'CASA', 'Nacionalidade': 'BRASILEIRO', 'Mãe': 'GENI MAIA MIKULSKI', 'Fone': '99257568'}\n",
      "{'CPF': '318.445.098-85', 'Número': '121', 'Sexo': 'MASCULINO', 'Nome': 'CLAUDEMIR AURELIO', 'Logradouro': 'RUA IZAIRAI SALADINI CRIVELARI', 'Situação Cadastral': 'REGULAR', 'Data de Nascimento': '16-06-1981', 'Cidade': 'OURINHOS/SP', 'Cep': '19906-290', 'Bairro': 'JD ESPLENDOR', 'Título de Eleitor': '0308443800124', 'Complemento': 'CASA', 'Nacionalidade': 'BRASILEIRO', 'Mãe': 'EDNA SUELI ALVARAZ AURELIO', 'Fone': '33222657'}\n",
      "{'CPF': '318.445.098-85', 'Número': '121', 'Sexo': 'MASCULINO', 'Nome': 'CLAUDEMIR AURELIO', 'Logradouro': 'RUA IZAIRAI SALADINI CRIVELARI', 'Situação Cadastral': 'REGULAR', 'Data de Nascimento': '16-06-1981', 'Cidade': 'OURINHOS/SP', 'Cep': '19906-290', 'Bairro': 'JD ESPLENDOR', 'Título de Eleitor': '0308443800124', 'Complemento': 'CASA', 'Nacionalidade': 'BRASILEIRO', 'Mãe': 'EDNA SUELI ALVARAZ AURELIO', 'Fone': '33222657'}\n",
      "{'CPF': '864.172.238-68', 'Número': '972', 'Sexo': 'MASCULINO', 'Nome': 'CLAUDEMIR BUZELLI', 'Logradouro': 'RUA JOSE ROSSI', 'Situação Cadastral': 'REGULAR', 'Data de Nascimento': '06-08-1956', 'Cidade': 'ITAPOLIS/SP', 'Cep': '14900-000', 'Bairro': 'CENTRO', 'Título de Eleitor': '0023560110183', 'Nacionalidade': 'BRASILEIRO', 'Mãe': 'NAIR PLASTINA BUEZELLI', 'Fone': '00000000'}\n",
      "{'CPF': '176.267.268-55', 'Número': '38', 'Sexo': 'MASCULINO', 'Nome': 'CLAUDEMIR DE FREITAS', 'Logradouro': 'AVENIDA DR JORGE TIBIRICA', 'Situação Cadastral': 'REGULAR', 'Data de Nascimento': '03-09-1973', 'Cidade': 'PINDAMONHANGABA/SP', 'Cep': '12400-460', 'Bairro': 'CENTRO', 'Título de Eleitor': '0252138930175', 'Nacionalidade': 'BRASILEIRO', 'Mãe': 'LEONILDA MARIA CONCEICAO', 'Fone': '36459127'}\n",
      "{'CPF': '150.001.838-43', 'Número': '65', 'Sexo': 'MASCULINO', 'Nome': 'CLAUDEMIR DOS SANTOS', 'Logradouro': 'RUA SEBASTIAO MATEUS', 'Situação Cadastral': 'REGULAR', 'Data de Nascimento': '25-03-1974', 'Cidade': 'VINHEDO/SP', 'Cep': '13280-000', 'Bairro': 'CAPELA', 'Título de Eleitor': '0194939320141', 'Nacionalidade': 'BRASILEIRO', 'Mãe': 'MARGARIDA DOS SANTOS', 'Fone': '85392639'}\n",
      "{'CPF': '154.696.528-90', 'Número': '15', 'Sexo': 'MASCULINO', 'Nome': 'CLAUDEMIR FERRARETTO', 'Logradouro': 'RUA MANOEL LUCIANO', 'Situação Cadastral': 'REGULAR', 'Data de Nascimento': '11-07-1973', 'Cidade': 'SUMARE/SP', 'Cep': '13173-130', 'Bairro': 'JARDIM PRIMAVERA', 'Título de Eleitor': '0202798170183', 'Complemento': 'CASA', 'Nacionalidade': 'BRASILEIRO', 'Mãe': 'MARIA DA SILVA FERRARETTO', 'Fone': '91257438'}\n",
      "{'CPF': '057.299.178-99', 'Número': '639', 'Sexo': 'MASCULINO', 'Nome': 'CLAUDEMIR MATEUS BARBOSA', 'Logradouro': 'RUA DAS PAPOULAS', 'Situação Cadastral': 'REGULAR', 'Data de Nascimento': '23-03-1970', 'Cidade': 'DESCALVADO/SP', 'Cep': '13690-000', 'Bairro': 'M DO SOL', 'Título de Eleitor': '0176295920159', 'Nacionalidade': 'BRASILEIRO', 'Mãe': 'JOSEFINA PUCCI BARBOSA', 'Fone': '92596740'}\n",
      "{'CPF': '749.776.529-91', 'Número': '123', 'Sexo': 'MASCULINO', 'Nome': 'CLAUDEMIR PAZINI', 'Logradouro': 'AVENIDA TAPIRA', 'Situação Cadastral': 'REGULAR', 'Data de Nascimento': '04-01-1970', 'Cidade': 'VARZEA PAULISTA/SP', 'Cep': '13222-300', 'Bairro': 'JARDIM AMERICA III', 'Título de Eleitor': '0045090510639', 'Nacionalidade': 'BRASILEIRO', 'Mãe': 'DOLIRA GATTIS PAZINI', 'Fone': '00000000'}\n",
      "{'CPF': '191.704.958-74', 'Número': '47', 'Sexo': 'MASCULINO', 'Nome': 'CLAUDEMIR PLINA', 'Logradouro': 'RUA JOAO PERUCHI', 'Situação Cadastral': 'REGULAR', 'Data de Nascimento': '09-09-1977', 'Cidade': 'CORDEIROPOLIS/SP', 'Cep': '13490-000', 'Bairro': 'JD PROGRESSO', 'Título de Eleitor': '0184425320183', 'Nacionalidade': 'BRASILEIRO', 'Mãe': 'JORTA BENTO DA SILVA PLINA', 'Fone': '35463807'}\n",
      "{'CPF': '092.906.738-00', 'Número': '633', 'Sexo': 'MASCULINO', 'Nome': 'CLAUDEMIR RAMOS', 'Logradouro': 'AVENIDA MARECHAL RONDON', 'Situação Cadastral': 'REGULAR', 'Data de Nascimento': '06-11-1968', 'Cidade': 'NARANDIBA/SP', 'Cep': '19220-000', 'Bairro': 'CENTRO', 'Título de Eleitor': '0168013360132', 'Nacionalidade': 'BRASILEIRO', 'Mãe': 'ELSA RAMOS DOS SANTOS', 'Fone': '81319518'}\n"
     ]
    },
    {
     "name": "stdout",
     "output_type": "stream",
     "text": [
      "{'CPF': '053.401.788-62', 'Número': '269', 'Sexo': 'MASCULINO', 'Nome': 'CLAUDEMIR RODRIGUES', 'Logradouro': 'RUA CAPIBERIBE', 'Situação Cadastral': 'REGULAR', 'Data de Nascimento': '15-04-1962', 'Cidade': 'AMERICANA/SP', 'Cep': '13469-470', 'Bairro': 'VILA DAINESE', 'Título de Eleitor': '0054932430124', 'Complemento': 'APTO 612', 'Nacionalidade': 'BRASILEIRO', 'Mãe': 'RICARDINA PAIVA RODRIGUES', 'Fone': '30127123'}\n",
      "{'CPF': '499.053.921-49', 'Número': '1-06', 'Sexo': 'MASCULINO', 'Ano do Óbito': '2005', 'Nome': 'CLAUDEMIR SABINO DE OLIVEIRA', 'Logradouro': 'RUA FRANCISCO ELIAS MACIERINHO', 'Situação Cadastral': 'CANCELADA POR ÓBITO SEM ESPÓLIO', 'Data de Nascimento': '27-11-1970', 'Cidade': 'BAURU/SP', 'Cep': '17000-000', 'Bairro': 'JD CHAPADAO', 'Título de Eleitor': '0000000000000', 'Nacionalidade': 'BRASILEIRO', 'Mãe': 'MARIA DE LOURDES SILVA OLIVEIRA', 'Fone': '00000000'}\n",
      "{'CPF': '016.724.818-99', 'Número': '50', 'Sexo': 'MASCULINO', 'Nome': 'CLAUDEMIR VANDERLEI GONCALVES', 'Logradouro': 'RUA SEBASTIAO POLO', 'Situação Cadastral': 'REGULAR', 'Data de Nascimento': '06-11-1959', 'Cidade': 'CAMPINAS/SP', 'Cep': '13067-844', 'Bairro': 'PQUE MARIA HELENA', 'Título de Eleitor': '0108722250124', 'Complemento': 'CASA', 'Nacionalidade': 'BRASILEIRO', 'Mãe': 'MARIA APARECIDA MENDONCA GONCALVES', 'Fone': '32814023'}\n",
      "{'CPF': '304.680.368-06', 'Número': '150', 'Sexo': 'MASCULINO', 'Nome': 'CLAUDEMIR ZAFFALON VITULA', 'Logradouro': 'RUA JAYME WHITAKER PENTEADO', 'Situação Cadastral': 'REGULAR', 'Data de Nascimento': '12-01-1984', 'Cidade': 'DESCALVADO/SP', 'Cep': '13690-000', 'Bairro': 'SAO SEBASTIAO', 'Título de Eleitor': '0302576190132', 'Nacionalidade': 'BRASILEIRO', 'Mãe': 'FATIMA REGINA ZAFFALON VITULA', 'Fone': '35833015'}\n",
      "{'CPF': '092.699.378-01', 'Número': '3755', 'Sexo': 'MASCULINO', 'Nome': 'CLAUDENIR DA SILVA', 'Logradouro': 'OUTROS PANAMA', 'Situação Cadastral': 'REGULAR', 'Data de Nascimento': '20-07-1967', 'Cidade': 'VOTUPORANGA/SP', 'Cep': '15502-100', 'Bairro': 'VILA AMERICA', 'Título de Eleitor': '0052123090108', 'Complemento': 'CASA', 'Nacionalidade': 'BRASILEIRO', 'Mãe': 'ROSA ANA TREVISAN DA SILVA', 'Fone': '00000000'}\n",
      "{'CPF': '888.630.188-04', 'Número': '3', 'Sexo': 'MASCULINO', 'Nome': 'CLAUDENIR GUEDINE', 'Logradouro': 'RUA DAS ROSAS', 'Situação Cadastral': 'REGULAR', 'Data de Nascimento': '07-12-1955', 'Cidade': 'SAO JOSE DO RIO PRETO/SP', 'Cep': '15086-888', 'Bairro': 'JD NAVARETE', 'Título de Eleitor': '0128673390175', 'Complemento': 'CHACARA', 'Nacionalidade': 'BRASILEIRO', 'Mãe': 'GENOVEVA CAVASSANA GUEDINE', 'Fone': '81453015'}\n",
      "{'CPF': '283.761.788-14', 'Número': '166', 'Sexo': 'MASCULINO', 'Nome': 'CLAUDENIR HONORIO DE SOUZA', 'Logradouro': 'RUA LIRIOS', 'Situação Cadastral': 'REGULAR', 'Data de Nascimento': '27-09-1979', 'Cidade': 'HORTOLANDIA/SP', 'Cep': '13183-664', 'Bairro': 'PARQUE DO HORTO', 'Título de Eleitor': '0287501730167', 'Nacionalidade': 'BRASILEIRO', 'Mãe': 'TEREZA TENENTE DE OLIVEIRA', 'Fone': '96016472'}\n",
      "{'CPF': '874.498.548-72', 'Número': '1213', 'Sexo': 'FEMININO', 'Nome': 'CLAUDIA JACINTO CARRANCA', 'Logradouro': 'ALAMEDA MINISTRO ROCHA AZEVEDO', 'Situação Cadastral': 'REGULAR', 'Data de Nascimento': '19-07-1951', 'Cidade': 'SAO PAULO/SP', 'Cep': '01410-003', 'Bairro': 'CERQUEIRA CESAR', 'Título de Eleitor': '0012657800183', 'Complemento': 'APTO 81', 'Nacionalidade': 'BRASILEIRO', 'Mãe': 'MARIA APARECIDA DE PAULA JACINTO DA SILVA', 'Fone': '30816853'}\n",
      "{'CPF': '292.139.578-90', 'Número': '2-135', 'Sexo': 'MASCULINO', 'Nome': 'CLAUDIANO FERREIRA DA COSTA', 'Logradouro': 'RUA ADMAR LEOPOLDO GHELARDI', 'Situação Cadastral': 'REGULAR', 'Data de Nascimento': '03-09-1979', 'Cidade': 'BAURU/SP', 'Cep': '17026-833', 'Bairro': 'NOBUJE NAGASAWA', 'Título de Eleitor': '0012666551961', 'Nacionalidade': 'BRASILEIRO', 'Mãe': 'MARIA APARECIDA FERREIRA', 'Fone': '32395535'}\n",
      "{'CPF': '068.580.198-55', 'Número': '126', 'Sexo': 'MASCULINO', 'Nome': 'CLAUDIMIR DONIZETE DOS SANTOS', 'Logradouro': 'RUA MANOEL ALRCON HIDALGO', 'Situação Cadastral': 'REGULAR', 'Data de Nascimento': '26-02-1966', 'Cidade': 'ITU/SP', 'Cep': '13312-743', 'Bairro': 'JD RES POTIGUARA', 'Título de Eleitor': '0233977020132', 'Nacionalidade': 'BRASILEIRO', 'Mãe': 'NEUSA MARIA FIGUEIRA DOS SANTOS', 'Fone': '40134674'}\n",
      "{'CPF': '292.942.148-77', 'Número': '1', 'Sexo': 'MASCULINO', 'Ano do Óbito': '2017', 'Nome': 'CLAUDINEI ALEXANDRO BARBOSA', 'Logradouro': 'OUTROS ESTANCIA STA LUZIA', 'Situação Cadastral': 'CANCELADA POR ÓBITO SEM ESPÓLIO', 'Data de Nascimento': '21-01-1980', 'Cidade': 'BASTOS/SP', 'Cep': '17690-000', 'Bairro': 'SECCAO UNIAO I', 'Título de Eleitor': '0000000000000', 'Nacionalidade': 'BRASILEIRO', 'Mãe': 'MARIA APARECIDA DA SILVA BARBOSA', 'Fone': '34783754'}\n",
      "{'CPF': '131.810.288-00', 'Número': '770', 'Sexo': 'MASCULINO', 'Nome': 'CLAUDINEI ALVARENGA DE SOUZA', 'Logradouro': 'AVENIDA BRIG JOSE VICENTE FARIA LIMA', 'Situação Cadastral': 'REGULAR', 'Data de Nascimento': '29-11-1964', 'Cidade': 'ATIBAIA/SP', 'Cep': '12940-000', 'Bairro': 'ALVINOPOLIS', 'Título de Eleitor': '0172304130108', 'Nacionalidade': 'BRASILEIRO', 'Mãe': 'ANTONIA THEODORO DE SOUZA', 'Fone': '00000000'}\n",
      "{'CPF': '090.593.838-00', 'Número': '2797', 'Sexo': 'MASCULINO', 'Nome': 'CLAUDINEI APARECIDO BASTOS', 'Logradouro': 'RUA PROFESSOR MARIO ZOEGA', 'Situação Cadastral': 'SUSPENSA', 'Data de Nascimento': '30-09-1967', 'Cidade': 'PIRASSUNUNGA/SP', 'Cep': '13630-000', 'Bairro': 'VL BRAS', 'Título de Eleitor': '0000000000000', 'Nacionalidade': 'BRASILEIRO', 'Mãe': 'SEBASTIANA DA SILVA BASTOS', 'Fone': '35628463'}\n",
      "{'CPF': '275.471.718-85', 'Número': '154', 'Sexo': 'MASCULINO', 'Nome': 'CLAUDINEI AP CAVERSAN', 'Logradouro': 'RUA JOAO GARCIA ANDRADE', 'Situação Cadastral': 'REGULAR', 'Data de Nascimento': '15-06-1978', 'Cidade': 'ITU/SP', 'Cep': '13308-453', 'Bairro': 'JARDIM EUROPA', 'Título de Eleitor': '0226556570132', 'Nacionalidade': 'BRASILEIRO', 'Mãe': 'FATIMA AP CAVERSAN', 'Fone': '40192859'}\n",
      "{'CPF': '144.118.598-40', 'Número': '540', 'Sexo': 'MASCULINO', 'Nome': 'CLAUDINEI APARECIDO VALERIO CORREIA', 'Logradouro': 'RUA RUA SERGIO MICHICABA', 'Situação Cadastral': 'REGULAR', 'Data de Nascimento': '31-03-1971', 'Cidade': 'SANTA ADELIA/SP', 'Cep': '15950-000', 'Bairro': 'BOTELHO', 'Título de Eleitor': '0163324710191', 'Nacionalidade': 'BRASILEIRO', 'Mãe': 'NEUSA VIEIRA CORREIA', 'Fone': '05791119'}\n",
      "{'CPF': '085.638.418-66', 'Número': '2', 'Sexo': 'MASCULINO', 'Nome': 'CLAUDINEI ARCANJO TEIXEIRA', 'Logradouro': 'RUA ROSA DA VENEZUELA', 'Situação Cadastral': 'REGULAR', 'Data de Nascimento': '10-02-1965', 'Cidade': 'SAO PAULO/SP', 'Cep': '03812-010', 'Bairro': 'VILA SANTA INES', 'Título de Eleitor': '0135893550116', 'Nacionalidade': 'BRASILEIRO', 'Mãe': 'BENEDICTA BORGES TEIXEIRA', 'Fone': '25460105'}\n",
      "{'CPF': '163.182.158-08', 'Número': '96', 'Sexo': 'MASCULINO', 'Nome': 'CLAUDINEI BELLAO PEIXOTTO', 'Logradouro': 'RUA JOAO NETO DE OLIVEIRA', 'Situação Cadastral': 'REGULAR', 'Data de Nascimento': '21-10-1972', 'Cidade': 'LEME/SP', 'Cep': '13617-611', 'Bairro': 'JD. BONSUCESSO', 'Título de Eleitor': '0214195740116', 'Complemento': 'CASA', 'Nacionalidade': 'BRASILEIRO', 'Mãe': 'JOANA BELLAO PEIXOTTO', 'Fone': '35714698'}\n",
      "{'CPF': '214.423.218-06', 'Número': '143', 'Sexo': 'MASCULINO', 'Nome': 'CLAUDINEI BRUNDANI', 'Logradouro': 'RUA ANTONIO CORDEIRO', 'Situação Cadastral': 'REGULAR', 'Data de Nascimento': '18-03-1979', 'Cidade': 'MARTINOPOLIS/SP', 'Cep': '19500-000', 'Bairro': 'VILA ALEGRETE', 'Título de Eleitor': '0235437730159', 'Nacionalidade': 'BRASILEIRO', 'Mãe': 'EMILIA FERNANDES BRUNDANI', 'Fone': '81194741'}\n",
      "{'CPF': '012.705.748-09', 'Número': '1222', 'Sexo': 'MASCULINO', 'Nome': 'CLAUDINEI CANDIDO DA SILVA', 'Logradouro': 'RUA JOAO VELHO DO REGO', 'Situação Cadastral': 'REGULAR', 'Data de Nascimento': '21-07-1958', 'Cidade': 'SAO PAULO/SP', 'Cep': '03967-000', 'Bairro': 'SAO MATEUS', 'Título de Eleitor': '0081499250167', 'Nacionalidade': 'BRASILEIRO', 'Mãe': 'ROSA MARQUES FERNANDES DA SILVA', 'Fone': '61123149'}\n",
      "{'CPF': '047.121.838-37', 'Número': '284', 'Sexo': 'MASCULINO', 'Nome': 'CLAUDINEI CASSOLA SANCHES', 'Logradouro': 'RUA JOSE MURILO', 'Situação Cadastral': 'REGULAR', 'Data de Nascimento': '31-10-1963', 'Cidade': 'OURINHOS/SP', 'Cep': '19905-430', 'Bairro': 'VILA SAO JOAO', 'Título de Eleitor': '0033250130183', 'Nacionalidade': 'BRASILEIRO', 'Mãe': 'APARECIDA ROSA TARLOTO SANCHES', 'Fone': '33264364'}\n"
     ]
    },
    {
     "name": "stdout",
     "output_type": "stream",
     "text": [
      "{'CPF': '357.462.958-33', 'Número': '48', 'Sexo': 'MASCULINO', 'Nome': 'CLAUDINEI DA SILVA CARVALHO', 'Logradouro': 'RUA MANOEL ROCHA FILHO', 'Situação Cadastral': 'REGULAR', 'Data de Nascimento': '05-05-1986', 'Cidade': 'TAUBATE/SP', 'Cep': '12081-780', 'Bairro': 'TERRA NOVA', 'Título de Eleitor': '0325331260108', 'Complemento': 'B', 'Nacionalidade': 'BRASILEIRO', 'Mãe': 'CLAUDETE PINTO DA SILVA CARVALHO', 'Fone': '24260176'}\n",
      "{'CPF': '213.323.968-52', 'Número': '500', 'Sexo': 'MASCULINO', 'Nome': 'CLAUDINEI DIAS DE FREITAS', 'Logradouro': 'RUA SETE', 'Situação Cadastral': 'REGULAR', 'Data de Nascimento': '24-06-1976', 'Cidade': 'MOGI MIRIM/SP', 'Cep': '13803-730', 'Bairro': 'SOL NASCENTE', 'Título de Eleitor': '0235952570159', 'Nacionalidade': 'BRASILEIRO', 'Mãe': 'MARIA ANTONIA RIBEIRO DE FREITAS', 'Fone': '81659365'}\n",
      "{'CPF': '213.323.968-52', 'Número': '500', 'Sexo': 'MASCULINO', 'Nome': 'CLAUDINEI DIAS DE FREITAS', 'Logradouro': 'RUA SETE', 'Situação Cadastral': 'REGULAR', 'Data de Nascimento': '24-06-1976', 'Cidade': 'MOGI MIRIM/SP', 'Cep': '13803-730', 'Bairro': 'SOL NASCENTE', 'Título de Eleitor': '0235952570159', 'Nacionalidade': 'BRASILEIRO', 'Mãe': 'MARIA ANTONIA RIBEIRO DE FREITAS', 'Fone': '81659365'}\n",
      "{'CPF': '145.425.258-80', 'Número': '221', 'Sexo': 'MASCULINO', 'Nome': 'CLAUDINEI DOMINGOS DA SILVA', 'Logradouro': 'RUA JOSE GERONIMO DE MELLO', 'Situação Cadastral': 'REGULAR', 'Data de Nascimento': '10-09-1970', 'Cidade': 'RIBEIRAO PRETO/SP', 'Cep': '14062-039', 'Bairro': 'JD HEITOR RIGON', 'Título de Eleitor': '0168121140108', 'Nacionalidade': 'BRASILEIRO', 'Mãe': 'MARIA AUGUSTA SOUZA SILVA', 'Fone': '39134637'}\n",
      "{'CPF': '115.519.988-07', 'Número': '45', 'Sexo': 'MASCULINO', 'Nome': 'CLAUDINEI DONISETE FRANCISCO', 'Logradouro': 'OUTROS AGATA', 'Situação Cadastral': 'REGULAR', 'Data de Nascimento': '15-03-1972', 'Cidade': 'PRAIA GRANDE/SP', 'Cep': '11710-260', 'Bairro': 'SOLEMAR', 'Título de Eleitor': '0184465560175', 'Complemento': 'CASA', 'Nacionalidade': 'BRASILEIRO', 'Mãe': 'NILZA FERREIRA FRANCISCO', 'Fone': '33611162'}\n",
      "{'CPF': '155.720.908-16', 'Número': '072', 'Sexo': 'MASCULINO', 'Nome': 'CLAUDINEI GONCALVES DOS SANTOS', 'Logradouro': 'RUA CAMARGO FLEURY', 'Situação Cadastral': 'REGULAR', 'Data de Nascimento': '27-05-1975', 'Cidade': 'SOROCABA/SP', 'Cep': '18075-560', 'Bairro': 'VILA FIORI', 'Título de Eleitor': '0268207390191', 'Nacionalidade': 'BRASILEIRO', 'Mãe': 'TERESA GONCALVES DOS SANTOS', 'Fone': '33888721'}\n",
      "{'CPF': '089.220.858-94', 'Número': '3822', 'Sexo': 'MASCULINO', 'Nome': 'CLAUDINEI JOSE PASTRELO', 'Logradouro': 'RUA BAHIA', 'Situação Cadastral': 'REGULAR', 'Data de Nascimento': '13-04-1968', 'Cidade': 'VOTUPORANGA/SP', 'Cep': '15500-005', 'Bairro': 'PT VELHO', 'Título de Eleitor': '0124469180132', 'Complemento': 'APT 3', 'Nacionalidade': 'BRASILEIRO', 'Mãe': 'MARIA ELISA MORANDIM PASTRELLO', 'Fone': '34226698'}\n",
      "{'CPF': '298.745.028-19', 'Número': '50 C2', 'Sexo': 'MASCULINO', 'Nome': 'CLAUDINEI OZORIO', 'Logradouro': 'OUTROS ESTR MUN PINHEIRINHO', 'Situação Cadastral': 'REGULAR', 'Data de Nascimento': '11-02-1981', 'Cidade': 'ITAQUAQUECETUBA/SP', 'Cep': '08595-610', 'Bairro': 'PINHEIRINHO', 'Título de Eleitor': '0432524060116', 'Nacionalidade': 'BRASILEIRO', 'Mãe': 'LEONICE OZORIO DE OLIVEIRA', 'Fone': '00000000'}\n",
      "{'CPF': '047.721.328-64', 'Número': '231', 'Sexo': 'MASCULINO', 'Nome': 'CLAUDINEI SARTORI', 'Logradouro': 'AVENIDA JOAO BARONI', 'Situação Cadastral': 'SUSPENSA', 'Data de Nascimento': '10-10-1963', 'Cidade': 'BARRETOS/SP', 'Cep': '14783-230', 'Bairro': 'AEROPORTO', 'Título de Eleitor': '0000000000000', 'Nacionalidade': 'BRASILEIRO', 'Mãe': '', 'Fone': '33234083'}\n",
      "{'CPF': '072.524.488-78', 'Número': '996', 'Sexo': 'MASCULINO', 'Nome': 'CLAUDINEI VALENTIM NATULINO', 'Logradouro': 'AVENIDA MICO LEAO DOURADO', 'Situação Cadastral': 'REGULAR', 'Data de Nascimento': '22-09-1966', 'Cidade': 'SANTO ANDRE/SP', 'Cep': '09134-650', 'Bairro': 'CLUBE DE CAMPO', 'Título de Eleitor': '0100479090108', 'Nacionalidade': 'BRASILEIRO', 'Mãe': 'YOLANDA RAYMUNDO NATULINO', 'Fone': '44572136'}\n",
      "{'CPF': '150.610.338-33', 'Número': '898', 'Sexo': 'MASCULINO', 'Nome': 'CLAUDINEI VIEIRA MACHADO', 'Logradouro': 'RUA NOVE DE JULHO', 'Situação Cadastral': 'REGULAR', 'Data de Nascimento': '25-09-1974', 'Cidade': 'ITARARE/SP', 'Cep': '18460-000', 'Bairro': 'VILA OSORIO', 'Título de Eleitor': '0233711730124', 'Complemento': 'CASA', 'Nacionalidade': 'BRASILEIRO', 'Mãe': 'ALAIDE DOS STOS MACHADO', 'Fone': '00000000'}\n",
      "{'CPF': '032.773.318-73', 'Número': '308', 'Sexo': 'MASCULINO', 'Nome': 'CLAUDINEI EGEA', 'Logradouro': 'RUA ANTONIO ARTORI', 'Situação Cadastral': 'REGULAR', 'Data de Nascimento': '15-10-1960', 'Cidade': 'GUARULHOS/SP', 'Cep': '07130-100', 'Bairro': 'VILA FLORIDA', 'Título de Eleitor': '0112918090132', 'Nacionalidade': 'BRASILEIRO', 'Mãe': 'NAIR LUIZA SOARES EGEA', 'Fone': '49625607'}\n",
      "{'CPF': '607.607.026-91', 'Data de Nascimento': '13-01-1967', 'Situação Cadastral': 'REGULAR', 'Sexo': 'MASCULINO', 'Título de Eleitor': '0048333110256', 'Nacionalidade': 'BRASILEIRO', 'Mãe': 'MARIA VICENTINA SERAFIM', 'Nome': 'CLAUDINEY TEODORO SERAFIM', 'Fone': '99613874'}\n",
      "{'CPF': '084.699.178-03', 'Número': '24', 'Sexo': 'MASCULINO', 'Nome': 'CLAUDINIR MORILLI', 'Logradouro': 'RUA MANOEL BALIEIRO', 'Situação Cadastral': 'SUSPENSA', 'Data de Nascimento': '07-08-1947', 'Cidade': 'POMPEIA/SP', 'Cep': '17580-000', 'Bairro': 'OLMIRA', 'Título de Eleitor': '0000000000000', 'Nacionalidade': 'BRASILEIRO', 'Mãe': 'LURDES SOSSAI', 'Fone': '34523204'}\n",
      "{'CPF': '966.180.278-53', 'Número': '240', 'Sexo': 'MASCULINO', 'Ano do Óbito': '2013', 'Nome': 'CLAUDIO GIMENES', 'Logradouro': 'RUA ANDRE DE BOM FURLANES', 'Situação Cadastral': 'CANCELADA POR ÓBITO SEM ESPÓLIO', 'Data de Nascimento': '04-04-1959', 'Cidade': 'SOROCABA/SP', 'Cep': '18057-030', 'Bairro': 'WANELVILLE', 'Título de Eleitor': '0000000000000', 'Nacionalidade': 'BRASILEIRO', 'Mãe': 'LUIZA NORA GIMENES', 'Fone': '00000000'}\n",
      "{'CPF': '167.906.848-24', 'Número': '345', 'Sexo': 'MASCULINO', 'Nome': 'CLAUDIO ANTONIO PIRES DE OLIVEIRA', 'Logradouro': 'RUA DOS PINTADOS', 'Situação Cadastral': 'REGULAR', 'Data de Nascimento': '02-07-1972', 'Cidade': 'PIRACICABA/SP', 'Cep': '13403-323', 'Bairro': 'JUPIM', 'Título de Eleitor': '0310575460108', 'Nacionalidade': 'BRASILEIRO', 'Mãe': 'TEREZA GOUVEIA DE OLIVEIRA', 'Fone': '34271448'}\n",
      "{'CPF': '035.913.098-42', 'Número': '1441', 'Sexo': 'MASCULINO', 'Nome': 'CLAUDIO AUGUSTO DE GODOI', 'Logradouro': 'RUA ACHILES MALVEZZI', 'Situação Cadastral': 'REGULAR', 'Data de Nascimento': '25-07-1962', 'Cidade': 'POTIRENDABA/SP', 'Cep': '15105-000', 'Bairro': 'CENTRO', 'Título de Eleitor': '0044907920132', 'Nacionalidade': 'BRASILEIRO', 'Mãe': 'IVETE PERES PARRAS', 'Fone': '32491766'}\n",
      "{'CPF': '050.227.098-56', 'Número': '271', 'Sexo': 'MASCULINO', 'Nome': 'CLAUDIO BARBOSA', 'Logradouro': 'AVENIDA 12', 'Situação Cadastral': 'REGULAR', 'Data de Nascimento': '08-12-1964', 'Cidade': 'RIO CLARO/SP', 'Cep': '13502-705', 'Bairro': 'JARDIM NOVO II', 'Título de Eleitor': '0120024370132', 'Complemento': 'CASA', 'Nacionalidade': 'BRASILEIRO', 'Mãe': 'JOSEFA MARIA BARBOSA', 'Fone': '96597592'}\n",
      "{'CPF': '739.411.668-91', 'Número': '280', 'Sexo': 'MASCULINO', 'Nome': 'CLAUDIO BARROS', 'Logradouro': 'OUTROS BERTIOGA', 'Situação Cadastral': 'REGULAR', 'Data de Nascimento': '09-12-1954', 'Cidade': 'SAO JOSE DOS CAMPOS/SP', 'Cep': '12230-710', 'Bairro': 'J SATELITE', 'Título de Eleitor': '0046228530159', 'Nacionalidade': 'BRASILEIRO', 'Mãe': 'ODETE DALPRAT BARROS', 'Fone': '00000000'}\n",
      "{'CPF': '031.419.458-45', 'Número': '1000', 'Sexo': 'MASCULINO', 'Nome': 'CLAUDIO BATISTA DE CASTRO', 'Logradouro': 'RUA ALFREDO JOSE', 'Situação Cadastral': 'SUSPENSA', 'Data de Nascimento': '27-06-1962', 'Cidade': 'ALTINOPOLIS/SP', 'Cep': '14350-000', 'Bairro': 'CDHU', 'Título de Eleitor': '0000000000000', 'Complemento': 'CASA', 'Nacionalidade': 'BRASILEIRO', 'Mãe': 'AUGUSTA CANDIDA DE CASTRO', 'Fone': '36650873'}\n",
      "{'CPF': '119.630.948-59', 'Número': '24', 'Sexo': 'MASCULINO', 'Nome': 'CLAUDIO BENEDITO DE SOUZA', 'Logradouro': 'RUA SAO GERALDO', 'Situação Cadastral': 'REGULAR', 'Data de Nascimento': '15-08-1968', 'Cidade': 'SAO BERNARDO DO CAMPO/SP', 'Cep': '09771-280', 'Bairro': 'VILA SAO PEDRO', 'Título de Eleitor': '0166271470116', 'Nacionalidade': 'BRASILEIRO', 'Mãe': 'MARIA GOMES DE SOUZA', 'Fone': '40481235'}\n"
     ]
    },
    {
     "name": "stdout",
     "output_type": "stream",
     "text": [
      "{'CPF': '123.810.468-10', 'Número': '425', 'Sexo': 'MASCULINO', 'Nome': 'CLAUDIO BERCK', 'Logradouro': 'RUA GOIAS', 'Situação Cadastral': 'REGULAR', 'Data de Nascimento': '22-12-1972', 'Cidade': 'PIRASSUNUNGA/SP', 'Cep': '13632-390', 'Bairro': 'VILA BRASIL', 'Título de Eleitor': '0263057430175', 'Nacionalidade': 'BRASILEIRO', 'Mãe': 'TEREZINHA DE OLIVEIRA BERCK', 'Fone': '00000000'}\n",
      "{'CPF': '269.359.198-86', 'Número': '163', 'Sexo': 'MASCULINO', 'Nome': 'CLAUDIO CAMILO ABUMRAD JUNIOR', 'Logradouro': 'RUA ITALO PRIMO BELINI', 'Situação Cadastral': 'REGULAR', 'Data de Nascimento': '27-11-1979', 'Cidade': 'JUNDIAI/SP', 'Cep': '13215-660', 'Bairro': 'JD FLORESTAL', 'Título de Eleitor': '0234724920175', 'Nacionalidade': 'BRASILEIRO', 'Mãe': 'ANA RITA MARTINS SERRA ABUMRAD', 'Fone': '45860629'}\n",
      "{'CPF': '146.419.668-00', 'Número': '68', 'Sexo': 'MASCULINO', 'Nome': 'CLAUDIO DA SILVA ARAUJO', 'Logradouro': 'RESIDENCIAL RUA LONDRES', 'Situação Cadastral': 'REGULAR', 'Data de Nascimento': '09-04-1974', 'Cidade': 'DIADEMA/SP', 'Cep': '09930-220', 'Bairro': 'JARDIM DAS NACOES', 'Título de Eleitor': '0250178840124', 'Nacionalidade': 'BRASILEIRO', 'Mãe': 'ISABEL CRISTINA PEREIRA DA SILVA', 'Fone': '40444625'}\n",
      "{'CPF': '247.172.168-06', 'Número': '05', 'Sexo': 'MASCULINO', 'Nome': 'CLAUDIO DE MORAES', 'Logradouro': 'RUA SAO JOAQUIM', 'Situação Cadastral': 'REGULAR', 'Data de Nascimento': '03-01-1976', 'Cidade': 'JUQUITIBA/SP', 'Cep': '06950-000', 'Bairro': 'JD DAS PALMEIRAS', 'Título de Eleitor': '0246273400124', 'Nacionalidade': 'BRASILEIRO', 'Mãe': 'MARIA ISAURA DE BARROS MORAES', 'Fone': '46831836'}\n",
      "{'CPF': '027.952.418-89', 'Número': '913', 'Sexo': 'MASCULINO', 'Nome': 'CLAUDIO DOMINGOS VENANCIO', 'Logradouro': 'RUA JOSE PERES', 'Situação Cadastral': 'REGULAR', 'Data de Nascimento': '29-07-1967', 'Cidade': 'PIRASSUNUNGA/SP', 'Cep': '13631-656', 'Bairro': 'JD BRASILIA', 'Título de Eleitor': '0037047070183', 'Nacionalidade': 'BRASILEIRO', 'Mãe': 'NAIR COSTA VENANCIO', 'Fone': '35625128'}\n",
      "{'CPF': '135.020.998-80', 'Número': '241', 'Sexo': 'MASCULINO', 'Nome': 'CLAUDIO DONIZETI MARTINS', 'Logradouro': 'OUTROS VERA LUCIA BATISSOCO', 'Situação Cadastral': 'REGULAR', 'Data de Nascimento': '05-05-1971', 'Cidade': 'VARGEM GRANDE DO SUL/SP', 'Cep': '13880-000', 'Bairro': 'COHAB V', 'Título de Eleitor': '0166431830141', 'Nacionalidade': 'BRASILEIRO', 'Mãe': 'VANILDA DE OLIVEIRA MARTINS', 'Fone': '92711604'}\n",
      "{'CPF': '115.363.398-14', 'Número': '850', 'Sexo': 'MASCULINO', 'Nome': 'CLAUDIO DONIZETE PEREIRA', 'Logradouro': 'RUA MANOEL LORENCO JUNIOR', 'Situação Cadastral': 'REGULAR', 'Data de Nascimento': '03-01-1970', 'Cidade': 'PORTO FERREIRA/SP', 'Cep': '13660-000', 'Bairro': 'VILA DANIEL', 'Título de Eleitor': '0165551720116', 'Complemento': 'CASA', 'Nacionalidade': 'BRASILEIRO', 'Mãe': 'SEBASTIANA FERREIRA PEREIRA', 'Fone': '00812114'}\n",
      "{'CPF': '048.474.818-10', 'Número': '745', 'Sexo': 'MASCULINO', 'Nome': 'CLAUDIO DOS PRAZERES', 'Logradouro': 'RUA JOSE FRANCISCO BRANDAO', 'Situação Cadastral': 'SUSPENSA', 'Data de Nascimento': '23-11-1952', 'Cidade': 'SAO PAULO/SP', 'Cep': '08470-790', 'Bairro': 'CIDADE TIRADENTES', 'Título de Eleitor': '0000000000000', 'Complemento': '54 A', 'Nacionalidade': 'BRASILEIRO', 'Mãe': 'MARIA DE LURDES DOS PRAZERES', 'Fone': '07152334'}\n",
      "{'CPF': '311.142.299-20', 'Número': '10', 'Sexo': 'MASCULINO', 'Nome': 'CLAUDIO EUCLIDES DE OLIVEIRA', 'Logradouro': 'RUA PRIMEIRO DE JULHO', 'Situação Cadastral': 'REGULAR', 'Data de Nascimento': '21-07-1963', 'Cidade': 'LAURENTINO/SC', 'Cep': '89170-000', 'Bairro': 'CENTRO', 'Título de Eleitor': '0281624220141', 'Complemento': 'APTO 401', 'Nacionalidade': 'BRASILEIRO', 'Mãe': 'MAURILIA DE OLIVEIRA', 'Fone': '88256641'}\n",
      "{'CPF': '144.943.198-48', 'Número': '208', 'Sexo': 'MASCULINO', 'Nome': 'CLAUDIO GARCIA', 'Logradouro': 'RUA DINORA DE CARVALHO', 'Situação Cadastral': 'REGULAR', 'Data de Nascimento': '20-04-1972', 'Cidade': 'PIRACICABA/SP', 'Cep': '13420-085', 'Bairro': 'SANTA CECILIA', 'Título de Eleitor': '0202216000141', 'Nacionalidade': 'BRASILEIRO', 'Mãe': 'CLARINDA LOURENCO GARCIA', 'Fone': '97792768'}\n",
      "{'CPF': '041.061.058-53', 'Número': '1817', 'Sexo': 'MASCULINO', 'Nome': 'CLAUDIO GENNARI', 'Logradouro': 'RUA DUQUE DE CAXIAS', 'Situação Cadastral': 'SUSPENSA', 'Data de Nascimento': '23-03-1925', 'Cidade': 'PIRASSUNUNGA/SP', 'Cep': '13630-095', 'Bairro': 'CENTRO', 'Título de Eleitor': '0000000000000', 'Nacionalidade': 'BRASILEIRO', 'Mãe': 'BIANCA GENNARI', 'Fone': '00000000'}\n",
      "{'CPF': '628.701.578-00', 'Número': '54', 'Sexo': 'MASCULINO', 'Nome': 'CLAUDIO GOMES DOS REIS', 'Logradouro': 'OUTROS SEBASTIAO LUCAS DA SILVA', 'Situação Cadastral': 'REGULAR', 'Data de Nascimento': '05-12-1951', 'Cidade': 'JUNDIAI/SP', 'Cep': '13210-275', 'Bairro': 'JARDIM MARTINS', 'Título de Eleitor': '0027182550108', 'Complemento': 'CASA 31', 'Nacionalidade': 'BRASILEIRO', 'Mãe': 'ANTONIA HERNANDES DOS REIS', 'Fone': '48074806'}\n",
      "{'CPF': '088.839.768-27', 'Número': '189', 'Sexo': 'MASCULINO', 'Nome': 'CLAUDIO HALLWAS', 'Logradouro': 'RUA ANGELO ROJAS', 'Situação Cadastral': 'REGULAR', 'Data de Nascimento': '15-07-1969', 'Cidade': 'SAO PAULO/SP', 'Cep': '02992-040', 'Bairro': 'PARQUE PANAMERICANO', 'Título de Eleitor': '0170415630159', 'Complemento': 'CASA', 'Nacionalidade': 'BRASILEIRO', 'Mãe': 'VERA LUCIA RODRIGUES PONTES HALLWAS', 'Fone': '39497665'}\n",
      "{'CPF': '797.675.328-20', 'Número': '36', 'Sexo': 'MASCULINO', 'Nome': 'CLAUDIO HERNANDES', 'Logradouro': 'RUA JOSE HERNANDES PORTA', 'Situação Cadastral': 'REGULAR', 'Data de Nascimento': '06-02-1956', 'Cidade': 'AGUDOS/SP', 'Cep': '17120-000', 'Bairro': 'JD BELA VISTA', 'Título de Eleitor': '0008458340116', 'Nacionalidade': 'BRASILEIRO', 'Mãe': 'CONCEICAO SANCHES PORTA', 'Fone': '32614731'}\n",
      "{'CPF': '131.482.978-57', 'Número': 'S/N', 'Sexo': 'MASCULINO', 'Nome': 'CLAUDIO JOSE ARAUJO DOURADO', 'Logradouro': 'ESTRADA MONTE NEGRO', 'Situação Cadastral': 'REGULAR', 'Data de Nascimento': '03-10-1969', 'Cidade': 'SANTA ISABEL/SP', 'Cep': '07500-000', 'Bairro': 'VARADOURO', 'Título de Eleitor': '0164873830108', 'Complemento': 'KM 6 CX POSTAL 56', 'Nacionalidade': 'BRASILEIRO', 'Mãe': 'NEUSA APARECIDA CARNEVALLI DOURADO', 'Fone': '46566032'}\n",
      "{'CPF': '253.871.128-25', 'Número': '689', 'Sexo': 'MASCULINO', 'Nome': 'CLAUDIO JOSE BUENO', 'Logradouro': 'RUA CEL JOSE LEOPOLDINO', 'Situação Cadastral': 'REGULAR', 'Data de Nascimento': '10-03-1977', 'Cidade': 'DIVINOLANDIA/SP', 'Cep': '13780-000', 'Bairro': 'CENTRO', 'Título de Eleitor': '0239657810116', 'Complemento': 'CASA', 'Nacionalidade': 'BRASILEIRO', 'Mãe': 'CLARINDA NOGUEIRA BUENO', 'Fone': '00000000'}\n",
      "{'CPF': '047.031.568-73', 'Número': '419', 'Sexo': 'MASCULINO', 'Nome': 'CLAUDIO LUIS GARCIA DA SILVEIRA', 'Logradouro': 'AVENIDA OSWALDO VON ZUBEN', 'Situação Cadastral': 'REGULAR', 'Data de Nascimento': '17-09-1964', 'Cidade': 'CAMPINAS/SP', 'Cep': '13092-616', 'Bairro': 'PQ. DA HIPICA', 'Título de Eleitor': '0111243980108', 'Nacionalidade': 'BRASILEIRO', 'Mãe': 'ELZIRA BERNARDES GARCIA DA SILVEIRA', 'Fone': '32949337'}\n",
      "{'CPF': '104.935.438-99', 'Número': '3292', 'Sexo': 'MASCULINO', 'Nome': 'CLAUDIO LUIZ BARBIERI', 'Logradouro': 'RUA DARIO BOCCINO', 'Situação Cadastral': 'REGULAR', 'Data de Nascimento': '24-05-1967', 'Cidade': 'JUNDIAI/SP', 'Cep': '13212-555', 'Bairro': 'ALMERINDA CHAVES', 'Título de Eleitor': '0067917930132', 'Nacionalidade': 'BRASILEIRO', 'Mãe': 'LINDA CAMPANERUTTI BARBIERI', 'Fone': '53142490'}\n",
      "{'CPF': '191.660.688-19', 'Número': '1015', 'Sexo': 'MASCULINO', 'Nome': 'CLAUDIO MARCIO TEIXEIRA', 'Logradouro': 'RUA SAO MARCOS', 'Situação Cadastral': 'SUSPENSA', 'Data de Nascimento': '09-05-1978', 'Cidade': 'SANTA GERTRUDES/SP', 'Cep': '13510-000', 'Bairro': 'JD. IPORANGA', 'Título de Eleitor': '0000000000000', 'Complemento': 'CASA', 'Nacionalidade': 'BRASILEIRO', 'Mãe': 'MARIA JOSE BENEDICTA TEIXEIRA', 'Fone': '35454112'}\n",
      "{'CPF': '111.320.408-76', 'Número': '481', 'Sexo': 'MASCULINO', 'Nome': 'CLAUDIO MAZON', 'Logradouro': 'AVENIDA SILVIO BOLCATO', 'Situação Cadastral': 'REGULAR', 'Data de Nascimento': '24-08-1967', 'Cidade': 'TUPA/SP', 'Cep': '17602-140', 'Bairro': 'PQ ALIANCA', 'Título de Eleitor': '0051297610124', 'Nacionalidade': 'BRASILEIRO', 'Mãe': 'ANIZIA DE ALMEIDA MAZON', 'Fone': '34411725'}\n"
     ]
    },
    {
     "name": "stdout",
     "output_type": "stream",
     "text": [
      "{'CPF': '404.857.731-04', 'Número': '99', 'Sexo': 'MASCULINO', 'Nome': 'CLAUDIO MENDES', 'Logradouro': 'RUA CARLOS DOS SANTOS', 'Situação Cadastral': 'REGULAR', 'Data de Nascimento': '22-04-1967', 'Cidade': 'SAO PAULO/SP', 'Cep': '02234-000', 'Bairro': 'JARDIM BRASIL', 'Título de Eleitor': '0186592330175', 'Nacionalidade': 'BRASILEIRO', 'Mãe': 'CATARINA FRANCISCO ALVES MENDES', 'Fone': '43274632'}\n",
      "{'CPF': '120.239.788-31', 'Número': '131', 'Sexo': 'MASCULINO', 'Nome': 'CLAUDIO OSMAR MORENO PARPINELLI', 'Logradouro': 'RUA JOAO CAMPATO', 'Situação Cadastral': 'REGULAR', 'Data de Nascimento': '27-07-1967', 'Cidade': 'TUPA/SP', 'Cep': '17607-050', 'Bairro': 'VILA ABARCA', 'Título de Eleitor': '0051297640175', 'Complemento': 'CASA', 'Nacionalidade': 'BRASILEIRO', 'Mãe': 'EDITHI PARPINELLI MORENO', 'Fone': '34417311'}\n",
      "{'CPF': '610.926.908-59', 'Número': '281', 'Sexo': 'MASCULINO', 'Nome': 'CLAUDIO RIBEIRO', 'Logradouro': 'RUA ASCALON', 'Situação Cadastral': 'REGULAR', 'Data de Nascimento': '15-12-1953', 'Cidade': 'SANTO ANDRE/SP', 'Cep': '09185-080', 'Bairro': 'JD. ORIENTAL', 'Título de Eleitor': '0132432560116', 'Nacionalidade': 'BRASILEIRO', 'Mãe': 'BENI BENATTI RIBEIRO', 'Fone': '44253485'}\n",
      "{'CPF': '266.478.308-47', 'Número': '181', 'Sexo': 'MASCULINO', 'Nome': 'CLAUDIO ROBERTO DE CAMARGO', 'Logradouro': 'RUA ALDINA PIVA DRESDI ILVA', 'Situação Cadastral': 'REGULAR', 'Data de Nascimento': '27-04-1974', 'Cidade': 'PAULINIA/SP', 'Cep': '13140-000', 'Bairro': 'JD MONTE ALEGRE I', 'Título de Eleitor': '0264438550183', 'Nacionalidade': 'BRASILEIRO', 'Mãe': 'ANTONIA APARECIDA CAMARGO', 'Fone': '92848440'}\n",
      "{'CPF': '325.124.388-80', 'Número': '137', 'Sexo': 'MASCULINO', 'Nome': 'CLAUDIO ROBERTO DOS SANTOS ANJOS', 'Logradouro': 'RUA LUIZ PEDRINI', 'Situação Cadastral': 'REGULAR', 'Data de Nascimento': '03-09-1982', 'Cidade': 'PRESIDENTE PRUDENTE/SP', 'Cep': '19065-650', 'Bairro': 'JD SAO GABRIEL', 'Título de Eleitor': '0303695840167', 'Nacionalidade': 'BRASILEIRO', 'Mãe': 'MARCIA APARECIDA DOS SANTOS ANJOS', 'Fone': '39063201'}\n",
      "{'CPF': '137.777.988-27', 'Número': '60', 'Sexo': 'MASCULINO', 'Nome': 'CLAUDIO ROGERIO AULFES', 'Logradouro': 'RUA MOACIR STOKER DE LIMA', 'Situação Cadastral': 'REGULAR', 'Data de Nascimento': '22-06-1967', 'Cidade': 'COSMOPOLIS/SP', 'Cep': '13150-000', 'Bairro': 'BETO SPANA', 'Título de Eleitor': '0133216970175', 'Complemento': 'CASA', 'Nacionalidade': 'BRASILEIRO', 'Mãe': 'ALICE APARECIDA AULFES', 'Fone': '38123505'}\n",
      "{'CPF': '107.559.578-90', 'Número': '1159', 'Sexo': 'MASCULINO', 'Nome': 'CLAUDIO ROGERIO BONANI', 'Logradouro': 'RUA DO SACRAMENTO', 'Situação Cadastral': 'REGULAR', 'Data de Nascimento': '06-09-1971', 'Cidade': 'SAO BERNARDO DO CAMPO/SP', 'Cep': '09640-000', 'Bairro': 'RUDGE RAMOS', 'Título de Eleitor': '0204563510183', 'Complemento': '21', 'Nacionalidade': 'BRASILEIRO', 'Mãe': 'MARIA APARECIDA LONGO BONANI', 'Fone': '43477882'}\n",
      "{'CPF': '179.104.998-25', 'Número': '558', 'Sexo': 'MASCULINO', 'Nome': 'CLAUDIO SOARES', 'Logradouro': 'RUA SETE DE SETEMBRO', 'Situação Cadastral': 'REGULAR', 'Data de Nascimento': '28-04-1971', 'Cidade': 'SANTA ISABEL/SP', 'Cep': '07500-000', 'Bairro': 'BROTAS', 'Título de Eleitor': '0180494980183', 'Nacionalidade': 'BRASILEIRO', 'Mãe': 'CLEUZA MARIA QUEIROZ SOARES', 'Fone': '46568376'}\n",
      "{'CPF': '060.200.468-34', 'Número': '259', 'Sexo': 'MASCULINO', 'Nome': 'CLAUDIO UCEDA PERES', 'Logradouro': 'RUA OSVALDO CARNEIRO', 'Situação Cadastral': 'REGULAR', 'Data de Nascimento': '16-11-1944', 'Cidade': 'SOROCABA/SP', 'Cep': '18071-805', 'Bairro': 'NOVO HORIZONTE', 'Título de Eleitor': '0147437000183', 'Nacionalidade': 'BRASILEIRO', 'Mãe': 'MARIA PERES BENITES', 'Fone': '33132724'}\n",
      "{'CPF': '140.758.878-80', 'Número': '321', 'Sexo': 'MASCULINO', 'Nome': 'CLAUDIO XIMENES RODRIGUES', 'Logradouro': 'OUTROS BARTOLOMEU FERRARI', 'Situação Cadastral': 'REGULAR', 'Data de Nascimento': '09-08-1971', 'Cidade': 'SAO PAULO/SP', 'Cep': '08253-610', 'Bairro': 'CONJUNTO RESIDENCIA', 'Título de Eleitor': '0203059280108', 'Complemento': 'AP 31C', 'Nacionalidade': 'BRASILEIRO', 'Mãe': 'NAIR ROCHA DIAS RODRIGUES', 'Fone': '25213941'}\n",
      "{'CPF': '072.715.758-20', 'Número': 'BL A 11 AP 42', 'Sexo': 'MASCULINO', 'Nome': 'CLAUDIO CREPALDI', 'Logradouro': 'RUA JAIME COSTA', 'Situação Cadastral': 'REGULAR', 'Data de Nascimento': '26-07-1965', 'Cidade': 'SANTO ANDRE/SP', 'Cep': '09230-290', 'Bairro': 'CAMILOPOLIS', 'Título de Eleitor': '0127132700183', 'Nacionalidade': 'BRASILEIRO', 'Mãe': 'JUNES SOUZA PINTO CREPALDI', 'Fone': '25980021'}\n",
      "{'CPF': '039.603.708-90', 'Número': '197', 'Sexo': 'MASCULINO', 'Nome': 'CLAUDIOMAR GOMES', 'Logradouro': 'RUA DEZESSEIS', 'Situação Cadastral': 'REGULAR', 'Data de Nascimento': '30-06-1964', 'Cidade': 'CRUZEIRO/SP', 'Cep': '12721-190', 'Bairro': 'JARDIM PARAISO', 'Título de Eleitor': '0019763210124', 'Complemento': 'CASA', 'Nacionalidade': 'BRASILEIRO', 'Mãe': 'MARIA NEIDE GOMES', 'Fone': '31436406'}\n",
      "{'CPF': '143.253.758-05', 'Número': '235', 'Sexo': 'MASCULINO', 'Nome': 'CLAUDIONOR SILVEIRA DOS SANTOS', 'Logradouro': 'RUA HILARIO LAGOS', 'Situação Cadastral': 'SUSPENSA', 'Data de Nascimento': '06-01-1975', 'Cidade': 'SAO PAULO/SP', 'Cep': '02879-100', 'Bairro': 'JARDIM DAMASCENO', 'Título de Eleitor': '0000000000000', 'Complemento': 'FUNDOS', 'Nacionalidade': 'BRASILEIRO', 'Mãe': 'NOEMIA SILVEIRA DOS SANTOS', 'Fone': '83469764'}\n",
      "{'CPF': '052.785.868-42', 'Número': '313', 'Sexo': 'MASCULINO', 'Nome': 'CLAUDIONOR TELEX RAMOS', 'Logradouro': 'OUTROS SAO GABRIEL', 'Situação Cadastral': 'REGULAR', 'Data de Nascimento': '23-10-1960', 'Cidade': 'SANTO ANDRE/SP', 'Cep': '09061-360', 'Bairro': 'VILA PALMARES', 'Título de Eleitor': '0132334720116', 'Complemento': 'C 4', 'Nacionalidade': 'BRASILEIRO', 'Mãe': 'CARMELITA FERREIRA ROCHA', 'Fone': '04181144'}\n",
      "{'CPF': '030.529.658-24', 'Número': '', 'Sexo': 'MASCULINO', 'Nome': 'CLAUDIR APARECIDO PEREIRA DIAS', 'Logradouro': 'AVENIDA MARCONI', 'Situação Cadastral': 'REGULAR', 'Data de Nascimento': '26-11-1963', 'Cidade': 'JUNQUEIROPOLIS/SP', 'Cep': '17890-000', 'Bairro': 'ALTO DA ESTACAO', 'Título de Eleitor': '0052494960191', 'Complemento': '360', 'Nacionalidade': 'BRASILEIRO', 'Mãe': 'MARIA DE LOURDES O DIAS', 'Fone': '38412959'}\n",
      "{'CPF': '002.011.138-05', 'Número': '144', 'Sexo': 'MASCULINO', 'Nome': 'CLAUDUVINO CANGUSSU ROCHA', 'Logradouro': 'RUA HAMILTON LUIS COSTA', 'Situação Cadastral': 'REGULAR', 'Data de Nascimento': '16-08-1957', 'Cidade': 'MARILIA/SP', 'Cep': '17511-833', 'Bairro': 'CESAR ALMEIDA', 'Título de Eleitor': '0029601950191', 'Nacionalidade': 'BRASILEIRO', 'Mãe': 'BELANISIA CANGUSSU ROCHA', 'Fone': '33167463'}\n",
      "{'CPF': '288.002.558-33', 'Número': '90', 'Sexo': 'MASCULINO', 'Nome': 'CLAYTON APOLINARIO DIONIZIO', 'Logradouro': 'RUA ARVIDO PLEPIS', 'Situação Cadastral': 'REGULAR', 'Data de Nascimento': '07-03-1980', 'Cidade': 'MONTE MOR/SP', 'Cep': '13190-000', 'Bairro': 'JD PANORAMA', 'Título de Eleitor': '0273195310108', 'Nacionalidade': 'BRASILEIRO', 'Mãe': 'EGERCINEIA AMARAL DIONIZIO', 'Fone': '33740362'}\n",
      "{'CPF': '221.846.458-69', 'Número': '2121', 'Sexo': 'MASCULINO', 'Nome': 'CLAYTON BORBA BONFIM', 'Logradouro': 'RUA RUBENS ROVERI', 'Situação Cadastral': 'REGULAR', 'Data de Nascimento': '01-03-1982', 'Cidade': 'VOTUPORANGA/SP', 'Cep': '15503-290', 'Bairro': 'RESIDENCIAL MORINI', 'Título de Eleitor': '0292540940191', 'Complemento': 'CASA', 'Nacionalidade': 'BRASILEIRO', 'Mãe': 'NELZIRA FURNIELES BORBA BONFIM', 'Fone': '97246065'}\n",
      "{'CPF': '828.284.158-72', 'Número': '280', 'Sexo': 'MASCULINO', 'Nome': 'CLAYTON KOSCHITZ', 'Logradouro': 'AVENIDA BARAO DE ITAPURA', 'Situação Cadastral': 'REGULAR', 'Data de Nascimento': '03-09-1956', 'Cidade': 'CAMPINAS/SP', 'Cep': '13020-430', 'Bairro': 'BOTAFOGO', 'Título de Eleitor': '0232027480108', 'Complemento': 'FUNDOS', 'Nacionalidade': 'BRASILEIRO', 'Mãe': 'IRENE KOSCHITZ', 'Fone': '81763367'}\n",
      "{'CPF': '311.449.818-32', 'Número': '345', 'Sexo': 'MASCULINO', 'Nome': 'CLAYTON RODRIGUES', 'Logradouro': 'RUA OLAVO BILAC', 'Situação Cadastral': 'REGULAR', 'Data de Nascimento': '02-12-1983', 'Cidade': 'BIRITIBA-MIRIM/SP', 'Cep': '08940-000', 'Bairro': 'CRUZ DAS ALMAS', 'Título de Eleitor': '0309144140116', 'Nacionalidade': 'BRASILEIRO', 'Mãe': 'MARIA DE FATIMA CAMARGO RODRIGUES', 'Fone': '46922439'}\n"
     ]
    },
    {
     "name": "stdout",
     "output_type": "stream",
     "text": [
      "{'CPF': '878.240.197-72', 'Número': '32', 'Sexo': 'MASCULINO', 'Nome': 'CLAZINALDO SODRE SANTOS', 'Logradouro': 'RUA MOVIMENTO DE MORADIA', 'Situação Cadastral': 'REGULAR', 'Data de Nascimento': '06-08-1966', 'Cidade': 'SAO PAULO/SP', 'Cep': '08131-290', 'Bairro': 'ITAIM PAULISTA', 'Título de Eleitor': '0036753020353', 'Nacionalidade': 'BRASILEIRO', 'Mãe': 'ZILDA ARAUJO SODRE', 'Fone': '65691622'}\n",
      "{'CPF': '328.338.008-27', 'Número': '217', 'Sexo': 'MASCULINO', 'Nome': 'CLEBER ALVES DE SENA', 'Logradouro': 'RUA PERUIBE', 'Situação Cadastral': 'REGULAR', 'Data de Nascimento': '25-10-1983', 'Cidade': 'ITAQUAQUECETUBA/SP', 'Cep': '08592-330', 'Bairro': 'RECANTO MONICA', 'Título de Eleitor': '0303671280191', 'Complemento': 'CASA', 'Nacionalidade': 'BRASILEIRO', 'Mãe': 'MARIA DE FATIMA ALVES DE SENA', 'Fone': '46458672'}\n",
      "{'CPF': '291.540.748-78', 'Número': '2 53', 'Sexo': 'MASCULINO', 'Nome': 'CLEBER ANTONIO FRANCISCO', 'Logradouro': 'RUA FRANCISCO MAIOLO', 'Situação Cadastral': 'REGULAR', 'Data de Nascimento': '20-08-1980', 'Cidade': 'BAURU/SP', 'Cep': '17024-651', 'Bairro': 'JARDIM FLORIDA', 'Título de Eleitor': '0316604570175', 'Nacionalidade': 'BRASILEIRO', 'Mãe': 'MARIA APARECIDA PIRES DE ARAUJO FRANCISCO', 'Fone': '32393689'}\n",
      "{'CPF': '304.215.028-35', 'Data de Nascimento': '23-12-1980', 'Situação Cadastral': 'REGULAR', 'Sexo': 'MASCULINO', 'Título de Eleitor': '0288833790116', 'Nacionalidade': 'BRASILEIRO', 'Mãe': 'ELEUDE DE ARAUJO PINTO', 'Nome': 'CLEBER DE ARAUJO PINTO', 'Fone': '00000000'}\n",
      "{'CPF': '267.943.508-74', 'Número': '395', 'Sexo': 'MASCULINO', 'Nome': 'CLEBER DE CASTRO', 'Logradouro': 'RUA OCTAVIO SCNIAVINATO', 'Situação Cadastral': 'REGULAR', 'Data de Nascimento': '04-10-1976', 'Cidade': 'OSASCO/SP', 'Cep': '06040-460', 'Bairro': 'CITY BUSSOCABA', 'Título de Eleitor': '0268639480159', 'Nacionalidade': 'BRASILEIRO', 'Mãe': 'MARIA DE LOURDES CONCEICAO DE CASTRO', 'Fone': '94098564'}\n",
      "{'CPF': '223.207.548-65', 'Número': '21', 'Sexo': 'MASCULINO', 'Nome': 'CLEBER HENRIQUE GUISELLI', 'Logradouro': 'RUA DONA ALEXANDRINA AC LUCIO', 'Situação Cadastral': 'REGULAR', 'Data de Nascimento': '09-10-1980', 'Cidade': 'PEDREIRA/SP', 'Cep': '13920-000', 'Bairro': 'RAINHA DA PAZ', 'Título de Eleitor': '0289906860159', 'Nacionalidade': 'BRASILEIRO', 'Mãe': 'CLEUSA DE GODOI GUISELLI', 'Fone': '38523388'}\n",
      "{'CPF': '036.878.547-52', 'Número': '119', 'Sexo': 'MASCULINO', 'Nome': 'CLEBER MARTINS', 'Logradouro': 'RUA ROCHA', 'Situação Cadastral': 'REGULAR', 'Data de Nascimento': '12-05-1973', 'Cidade': 'SAO PAULO/SP', 'Cep': '01330-000', 'Bairro': 'BELA VISTA', 'Título de Eleitor': '0079319730345', 'Complemento': 'AP702', 'Nacionalidade': 'BRASILEIRO', 'Mãe': 'REGINA MAURA MARTINS', 'Fone': '52179595'}\n",
      "{'CPF': '113.102.588-13', 'Número': '274', 'Sexo': 'MASCULINO', 'Nome': 'CLEBER PINHEIRO', 'Logradouro': 'OUTROS ENEAS DINIZ JUNQUEIRA', 'Situação Cadastral': 'REGULAR', 'Data de Nascimento': '31-01-1975', 'Cidade': 'PRESIDENTE BERNARDES/SP', 'Cep': '19300-000', 'Bairro': 'CENTRO', 'Título de Eleitor': '0430142420116', 'Nacionalidade': 'BRASILEIRO', 'Mãe': 'EDMIR SASSI PINHEIRO', 'Fone': '32627222'}\n",
      "{'CPF': '104.034.558-12', 'Número': '197', 'Sexo': 'MASCULINO', 'Nome': 'CLEBER ROCHA', 'Logradouro': 'RUA DONA MARIA CUSTODIA', 'Situação Cadastral': 'SUSPENSA', 'Data de Nascimento': '08-03-1970', 'Cidade': 'SAO PAULO/SP', 'Cep': '02460-070', 'Bairro': 'SANTA TEREZINHA', 'Título de Eleitor': '0000000000000', 'Complemento': 'APTO 173', 'Nacionalidade': 'BRASILEIRO', 'Mãe': 'DELMA LOURENCO ROCHA', 'Fone': '22556394'}\n",
      "{'CPF': '295.854.968-28', 'Número': '205', 'Sexo': 'MASCULINO', 'Nome': 'CLEBER RODRIGUES DE FREITAS', 'Logradouro': 'RUA OTACILIO MAGALHAES', 'Situação Cadastral': 'REGULAR', 'Data de Nascimento': '27-03-1981', 'Cidade': 'JUQUIA/SP', 'Cep': '11800-000', 'Bairro': 'VILA INDUSTRIAL', 'Título de Eleitor': '0247451460116', 'Nacionalidade': 'BRASILEIRO', 'Mãe': 'MARIA JOSE DE FREITAS', 'Fone': '00000000'}\n",
      "{'CPF': '879.244.638-87', 'Número': '221', 'Sexo': 'MASCULINO', 'Nome': 'CLEDI VICENTE DA SILVA', 'Logradouro': 'OUTROS JERONIMO MONTEIRO', 'Situação Cadastral': 'REGULAR', 'Data de Nascimento': '12-09-1957', 'Cidade': 'SAO PAULO/SP', 'Cep': '02951-190', 'Bairro': 'VILA NOSSA SENHORA', 'Título de Eleitor': '0134974020167', 'Nacionalidade': 'BRASILEIRO', 'Mãe': 'WANDA LOPES DA SILVA', 'Fone': '39713258'}\n",
      "{'CPF': '156.984.618-99', 'Número': '24', 'Sexo': 'MASCULINO', 'Nome': 'CLEDILSON TIMOTEO NUNES DA SILVA', 'Logradouro': 'RUA SANTA RITA', 'Situação Cadastral': 'REGULAR', 'Data de Nascimento': '25-12-1974', 'Cidade': 'SAO PAULO/SP', 'Cep': '02952-120', 'Bairro': 'PIRITUBA', 'Título de Eleitor': '0283613020159', 'Complemento': 'CSA', 'Nacionalidade': 'BRASILEIRO', 'Mãe': 'JURACI TIMOTEO DA SILVA', 'Fone': '39715910'}\n",
      "{'CPF': '249.414.228-80', 'Número': '72', 'Sexo': 'FEMININO', 'Nome': 'CLEIDE BORSOS COSTA', 'Logradouro': 'RUA SAO GABRIEL', 'Situação Cadastral': 'REGULAR', 'Data de Nascimento': '20-06-1947', 'Cidade': 'MOGI DAS CRUZES/SP', 'Cep': '08763-330', 'Bairro': 'CONJ SANTO ANGELO', 'Título de Eleitor': '0040956200124', 'Nacionalidade': 'BRASILEIRO', 'Mãe': 'OLGA BORSOS', 'Fone': '46574093'}\n",
      "{'CPF': '387.246.938-04', 'Número': '03', 'Sexo': 'FEMININO', 'Nome': 'CLEIDEMAR REZENDE ISIDORO', 'Logradouro': 'RUA PIRACUAMA', 'Situação Cadastral': 'REGULAR', 'Data de Nascimento': '19-10-1951', 'Cidade': 'SAO PAULO/SP', 'Cep': '05017-040', 'Bairro': 'PERDIZES', 'Título de Eleitor': '0097936050175', 'Complemento': 'APTO 82', 'Nacionalidade': 'BRASILEIRO', 'Mãe': 'AURELIA FERRANI DE REZENDE', 'Fone': '38625184'}\n",
      "{'CPF': '200.078.638-37', 'Número': '410', 'Sexo': 'MASCULINO', 'Nome': 'CLEIDSON AUGUSTO CRUZ', 'Logradouro': 'RUA MEN DE SA', 'Situação Cadastral': 'REGULAR', 'Data de Nascimento': '08-08-1975', 'Cidade': 'ARACATUBA/SP', 'Cep': '16015-971', 'Bairro': 'JARDIM NOVA YORK', 'Título de Eleitor': '0231621320191', 'Complemento': 'CASA', 'Nacionalidade': 'BRASILEIRO', 'Mãe': 'CAROLINA MOREIRA LIMA CRUZ', 'Fone': '00000000'}\n",
      "{'CPF': '131.908.488-58', 'Número': '170', 'Sexo': 'MASCULINO', 'Nome': 'CLEITON CARLOS BONJORNI DA FONSECA REIS', 'Logradouro': 'RUA JOSE URBANO', 'Situação Cadastral': 'REGULAR', 'Data de Nascimento': '03-05-1971', 'Cidade': 'RIBEIRAO PRETO/SP', 'Cep': '14091-190', 'Bairro': 'JARDIM PAULISTA', 'Título de Eleitor': '0118764300264', 'Complemento': 'BLOCO A4 APTO 105', 'Nacionalidade': 'BRASILEIRO', 'Mãe': 'MARIA CELIA BONJORNI DA FONSECA REIS', 'Fone': '81693468'}\n",
      "{'CPF': '326.394.988-86', 'Número': '944', 'Sexo': 'MASCULINO', 'Nome': 'CLEITON SANTOS DA SILVA', 'Logradouro': 'RUA JORGE OGUSHI', 'Situação Cadastral': 'REGULAR', 'Data de Nascimento': '30-07-1984', 'Cidade': 'SAO PAULO/SP', 'Cep': '03471-000', 'Bairro': 'JARDIM VILA FORMOSA', 'Título de Eleitor': '0310004210175', 'Nacionalidade': 'BRASILEIRO', 'Mãe': 'REGINA SANTOS DA SILVA', 'Fone': '91359611'}\n",
      "{'CPF': '065.293.848-55', 'Número': '448', 'Sexo': 'MASCULINO', 'Nome': 'CLEMENTE AVELINO NETO', 'Logradouro': 'RUA SAO CARLOS', 'Situação Cadastral': 'REGULAR', 'Data de Nascimento': '20-06-1964', 'Cidade': 'EMBU DAS ARTES/SP', 'Cep': '06814-120', 'Bairro': 'JD SAO CARLOS', 'Título de Eleitor': '0146280460167', 'Complemento': 'CASA', 'Nacionalidade': 'BRASILEIRO', 'Mãe': 'AUREA ROSA DA CONCEICAO', 'Fone': '47831151'}\n",
      "{'CPF': '065.293.848-55', 'Número': '448', 'Sexo': 'MASCULINO', 'Nome': 'CLEMENTE AVELINO NETO', 'Logradouro': 'RUA SAO CARLOS', 'Situação Cadastral': 'REGULAR', 'Data de Nascimento': '20-06-1964', 'Cidade': 'EMBU DAS ARTES/SP', 'Cep': '06814-120', 'Bairro': 'JD SAO CARLOS', 'Título de Eleitor': '0146280460167', 'Complemento': 'CASA', 'Nacionalidade': 'BRASILEIRO', 'Mãe': 'AUREA ROSA DA CONCEICAO', 'Fone': '47831151'}\n",
      "{'CPF': '256.978.048-06', 'Número': '3033', 'Sexo': 'MASCULINO', 'Nome': 'CLERISVALDO GOMES DA SILVA FILHO', 'Logradouro': 'OUTROS JOAO PAULO DOS SANTOS', 'Situação Cadastral': 'REGULAR', 'Data de Nascimento': '22-02-1962', 'Cidade': 'UMUARAMA/PR', 'Cep': '87508-000', 'Bairro': 'DOM PEDRO I', 'Título de Eleitor': '0000000000000', 'Nacionalidade': 'BRASILEIRO', 'Mãe': 'ZELITA LOURENCA DE SOUZA', 'Fone': '96682188'}\n",
      "{'CPF': '282.617.388-09', 'Número': '160', 'Sexo': 'MASCULINO', 'Nome': 'CLEVER HENRIQUE DA COSTA GUTIERREZ', 'Logradouro': 'RUA ALCIDES VIEIRA', 'Situação Cadastral': 'REGULAR', 'Data de Nascimento': '24-01-1981', 'Cidade': 'SAO ROQUE/SP', 'Cep': '18130-000', 'Bairro': 'JD QUINTA DO TEIXEI', 'Título de Eleitor': '0240529100132', 'Complemento': 'CASA', 'Nacionalidade': 'BRASILEIRO', 'Mãe': 'TEREZA FRANCISCA DA COSTA', 'Fone': '00000000'}\n"
     ]
    },
    {
     "name": "stdout",
     "output_type": "stream",
     "text": [
      "{'CPF': '593.716.171-87', 'Número': '491', 'Sexo': 'MASCULINO', 'Nome': 'CLEVERSON LUIZ VERONESE', 'Logradouro': 'RUA PRIMEIRO DE MAIO', 'Situação Cadastral': 'REGULAR', 'Data de Nascimento': '11-03-1975', 'Cidade': 'ARIPUANA/MT', 'Cep': '78325-000', 'Bairro': 'CENTRO', 'Título de Eleitor': '0014717931805', 'Nacionalidade': 'BRASILEIRO', 'Mãe': 'ANTONIA FARIAS VERONESE', 'Fone': '05651343'}\n",
      "{'CPF': '304.529.548-78', 'Número': '245', 'Sexo': 'MASCULINO', 'Nome': 'CLEYTON APARECIDO STIVAM', 'Logradouro': 'RUA PREFEITO OSWALDO CASONATO', 'Situação Cadastral': 'REGULAR', 'Data de Nascimento': '26-06-1982', 'Cidade': 'DOIS CORREGOS/SP', 'Cep': '17300-000', 'Bairro': 'RESIDENCIAL COIMBRA', 'Título de Eleitor': '0294929210159', 'Nacionalidade': 'BRASILEIRO', 'Mãe': 'TEREZA APARECIDA DA SILVA STIVAM', 'Fone': '98298201'}\n",
      "{'CPF': '234.731.698-20', 'Número': '30', 'Sexo': 'MASCULINO', 'Ano do Óbito': '2003', 'Nome': 'CLINEU DE JESUS ESPERNEGA', 'Logradouro': 'RUA PROF DIRCE BARBIM', 'Situação Cadastral': 'CANCELADA POR ÓBITO SEM ESPÓLIO', 'Data de Nascimento': '15-08-1946', 'Cidade': 'BOTUCATU/SP', 'Cep': '18601-490', 'Bairro': 'SAO VICENTE', 'Título de Eleitor': '0000000000000', 'Nacionalidade': 'BRASILEIRO', 'Mãe': 'ODETE XAVIER ESPERNEGA', 'Fone': '38132409'}\n",
      "{'CPF': '138.658.828-89', 'Número': 'QD 15 LT 9', 'Sexo': 'MASCULINO', 'Nome': 'CLODOALDO APARECIDO DOS SANTOS', 'Logradouro': 'RUA CLOVES ANTONIO CAMPOS', 'Situação Cadastral': 'REGULAR', 'Data de Nascimento': '25-04-1970', 'Cidade': 'TURVELANDIA/GO', 'Cep': '75970-000', 'Bairro': 'JERONIMO P NEVES', 'Título de Eleitor': '0182058560159', 'Nacionalidade': 'BRASILEIRO', 'Mãe': 'HELENA PEREIRA DOS SANTOS', 'Fone': '33314547'}\n",
      "{'CPF': '064.939.428-37', 'Número': '000032', 'Sexo': 'MASCULINO', 'Nome': 'CLOVIS JOSE BRUNETTI', 'Logradouro': 'AVENIDA ALZIRA SANTANA LEBRAO', 'Situação Cadastral': 'REGULAR', 'Data de Nascimento': '31-08-1964', 'Cidade': 'INDIANA/SP', 'Cep': '19560-000', 'Bairro': 'CENTRO', 'Título de Eleitor': '0030005880141', 'Nacionalidade': 'BRASILEIRO', 'Mãe': 'ALAVINIA DA ROSA', 'Fone': '00000000'}\n",
      "{'CPF': '070.668.798-13', 'Número': '234', 'Sexo': 'MASCULINO', 'Nome': 'CLOVIS APARECIDO CARDOZO', 'Logradouro': 'RUA PACAEMBU', 'Situação Cadastral': 'REGULAR', 'Data de Nascimento': '15-08-1967', 'Cidade': 'SAO JOSE DO RIO PRETO/SP', 'Cep': '15075-000', 'Bairro': 'JD. ROSEIRAL', 'Título de Eleitor': '0128716200175', 'Nacionalidade': 'BRASILEIRO', 'Mãe': '', 'Fone': '00000000'}\n",
      "{'CPF': '139.115.148-83', 'Número': '71', 'Sexo': 'MASCULINO', 'Nome': 'CLOVIS DA SILVA', 'Logradouro': 'PRACA CAPITAO ALBERTO MENDES JUNIOR', 'Situação Cadastral': 'REGULAR', 'Data de Nascimento': '06-03-1971', 'Cidade': 'GUARULHOS/SP', 'Cep': '07012-031', 'Bairro': 'CENTRO', 'Título de Eleitor': '0185988100159', 'Complemento': 'TOR 1 APT 93', 'Nacionalidade': 'BRASILEIRO', 'Mãe': 'LINDAURA PEREIRA DA SILVA', 'Fone': '24584232'}\n",
      "{'CPF': '080.010.768-30', 'Número': '90', 'Sexo': 'MASCULINO', 'Nome': 'CLOVIS DE MESQUITA', 'Logradouro': 'RUA ARTHUR MOREIRA DE ALMEIDA NETO', 'Situação Cadastral': 'REGULAR', 'Data de Nascimento': '01-05-1963', 'Cidade': 'PEDREIRA/SP', 'Cep': '13920-000', 'Bairro': 'VALE VERDE I', 'Título de Eleitor': '0118724890141', 'Nacionalidade': 'BRASILEIRO', 'Mãe': 'MARIA APARECIDA FERREIRA DE MESQUITA', 'Fone': '38521473'}\n",
      "{'CPF': '264.074.588-38', 'Número': '153', 'Sexo': 'MASCULINO', 'Nome': 'CLOVIS LOPES MARTINS', 'Logradouro': 'RUA GENGO SAKANE', 'Situação Cadastral': 'REGULAR', 'Data de Nascimento': '01-06-1976', 'Cidade': 'CAMPOS DO JORDAO/SP', 'Cep': '12460-000', 'Bairro': 'BRANCAS NUVENS', 'Título de Eleitor': '0232078620191', 'Nacionalidade': 'BRASILEIRO', 'Mãe': 'MARIA APARECIDA LOPES MARTINS', 'Fone': '00000000'}\n",
      "{'CPF': '020.463.018-54', 'Número': '803', 'Sexo': 'MASCULINO', 'Nome': 'CLOVIS PINTO FILHO', 'Logradouro': 'RUA HUMBERTO ORTOLAN', 'Situação Cadastral': 'REGULAR', 'Data de Nascimento': '19-02-1961', 'Cidade': 'SERTAOZINHO/SP', 'Cep': '14160-660', 'Bairro': 'CENTRO', 'Título de Eleitor': '0048447680141', 'Nacionalidade': 'BRASILEIRO', 'Mãe': 'MARIA DOMENICI PINTO', 'Fone': '39425520'}\n",
      "None\n",
      "None\n",
      "{'CPF': '282.193.238-33', 'Número': '245', 'Sexo': 'MASCULINO', 'Nome': 'CLAUDIO ROBERTO NOBREGA', 'Logradouro': 'RUA MINAS GERAIS', 'Situação Cadastral': 'REGULAR', 'Data de Nascimento': '02-04-1975', 'Cidade': 'MIRACATU/SP', 'Cep': '11850-000', 'Bairro': 'CENTRO', 'Título de Eleitor': '0166097790191', 'Nacionalidade': 'BRASILEIRO', 'Mãe': 'NOEMIA DE MORAES NOBREGA', 'Fone': '38466319'}\n",
      "None\n",
      "None\n",
      "None\n",
      "None\n",
      "None\n",
      "None\n",
      "None\n",
      "None\n",
      "None\n",
      "None\n",
      "None\n",
      "None\n",
      "None\n",
      "None\n",
      "None\n",
      "None\n",
      "{'CPF': '006.398.818-66', 'Número': '777 A', 'Sexo': 'FEMININO', 'Nome': 'CONCEICAO SOUZA ALMEIDA', 'Logradouro': 'OUTROS ETR DAS ROSAS', 'Situação Cadastral': 'SUSPENSA', 'Data de Nascimento': '09-05-1951', 'Cidade': 'OSASCO/SP', 'Cep': '06150-350', 'Bairro': 'RECANTO DAS ROSAS', 'Título de Eleitor': '0000000000000', 'Nacionalidade': 'BRASILEIRO', 'Mãe': 'SEBASTIANA ALVES SOUZA', 'Fone': '00000000'}\n",
      "None\n",
      "None\n",
      "None\n",
      "None\n",
      "None\n",
      "None\n",
      "None\n",
      "None\n",
      "None\n",
      "None\n",
      "None\n",
      "None\n",
      "None\n",
      "None\n",
      "27978\n",
      "None\n",
      "None\n",
      "None\n",
      "None\n",
      "None\n",
      "None\n",
      "None\n",
      "None\n",
      "None\n",
      "None\n",
      "None\n",
      "None\n",
      "None\n",
      "None\n",
      "None\n",
      "None\n",
      "None\n",
      "None\n",
      "None\n",
      "None\n",
      "None\n",
      "None\n",
      "None\n",
      "None\n",
      "{'CPF': '272.972.798-11', 'Número': '351', 'Sexo': 'MASCULINO', 'Nome': 'CORACI FLORENZANO NETO', 'Logradouro': 'RUA RODRIGUES DE MELO', 'Situação Cadastral': 'REGULAR', 'Data de Nascimento': '18-07-1978', 'Cidade': 'SOROCABA/SP', 'Cep': '18015-161', 'Bairro': 'VILA HARO', 'Título de Eleitor': '0213695480116', 'Nacionalidade': 'BRASILEIRO', 'Mãe': 'SUELI PEDRINA DE CASTRO FLORENZANO', 'Fone': '32811118'}\n",
      "{'CPF': '062.089.528-40', 'Número': '231', 'Sexo': 'MASCULINO', 'Nome': 'COSMO PEREIRA DOS SANTOS', 'Logradouro': 'RUA ARQUIAS GOMES DE MIRANDA', 'Situação Cadastral': 'REGULAR', 'Data de Nascimento': '11-12-1969', 'Cidade': 'PRESIDENTE PRUDENTE/SP', 'Cep': '19110-017', 'Bairro': 'MONTALVAO', 'Título de Eleitor': '0163157590167', 'Nacionalidade': 'BRASILEIRO', 'Mãe': 'GERALDA PEREIRA DOS SANTOS', 'Fone': '97354873'}\n",
      "None\n",
      "None\n",
      "None\n",
      "{'CPF': '055.949.258-80', 'Número': '225', 'Sexo': 'MASCULINO', 'Nome': 'CRISPIM JESUINO DE CARVALHO', 'Logradouro': 'RUA VINTE E QUATRO', 'Situação Cadastral': 'REGULAR', 'Data de Nascimento': '01-08-1963', 'Cidade': 'GUARULHOS/SP', 'Cep': '07263-720', 'Bairro': 'CIN MARCOS FREIRE', 'Título de Eleitor': '0112635300108', 'Nacionalidade': 'BRASILEIRO', 'Mãe': 'AMELIA JESUINA CARVALHO', 'Fone': '64865492'}\n",
      "{'CPF': '251.100.818-16', 'Número': '140', 'Sexo': 'MASCULINO', 'Nome': 'CRISTIAM SEIKO NAKAHODO', 'Logradouro': 'RUA CUSTODIO MESQUITA', 'Situação Cadastral': 'REGULAR', 'Data de Nascimento': '15-12-1975', 'Cidade': 'AMERICANA/SP', 'Cep': '13473-685', 'Bairro': 'PQ RES JAGUARI', 'Título de Eleitor': '0381552170191', 'Complemento': 'PQ RES JAGUARI', 'Nacionalidade': 'BRASILEIRO', 'Mãe': 'MARIA INES NAKAHODO', 'Fone': '34684393'}\n",
      "{'CPF': '146.660.118-38', 'Número': '38', 'Sexo': 'MASCULINO', 'Nome': 'CRISTIAN ALEXANDER SCHNEIDER', 'Logradouro': 'RUA MIGUEL FERNANDES TRINDADE', 'Situação Cadastral': 'REGULAR', 'Data de Nascimento': '19-01-1974', 'Cidade': 'SAO PAULO/SP', 'Cep': '05386-030', 'Bairro': 'VILA ADALGIZA', 'Título de Eleitor': '0268870760141', 'Nacionalidade': 'BRASILEIRO', 'Mãe': 'CLEUSA MARGARIDA M SCHNEIDER', 'Fone': '64250163'}\n",
      "{'CPF': '215.025.068-31', 'Número': '305', 'Sexo': 'MASCULINO', 'Nome': 'CRISTIANO APARECIDO DA ROSA', 'Logradouro': 'OUTROS COSTA AZUL', 'Situação Cadastral': 'REGULAR', 'Data de Nascimento': '02-05-1980', 'Cidade': 'JUNDIAI/SP', 'Cep': '13213-076', 'Bairro': 'DISTRITO INDUSTRIAL', 'Título de Eleitor': '0207542090116', 'Complemento': 'CASA', 'Nacionalidade': 'BRASILEIRO', 'Mãe': 'SUELI SILVERIO DA ROSA', 'Fone': '45823323'}\n",
      "{'CPF': '142.369.688-35', 'Número': '678', 'Sexo': 'MASCULINO', 'Nome': 'CRISTIANO CICERO DA SILVA', 'Logradouro': 'RUA FLOR DA REISSUREICAO', 'Situação Cadastral': 'REGULAR', 'Data de Nascimento': '16-12-1972', 'Cidade': 'SAO PAULO/SP', 'Cep': '08010-000', 'Bairro': 'SAO MIGUEL PAULISTA', 'Título de Eleitor': '0201348690116', 'Nacionalidade': 'BRASILEIRO', 'Mãe': 'ADELEI JOSE DA SILVA', 'Fone': '61556133'}\n",
      "{'CPF': '255.246.428-98', 'Número': '51', 'Sexo': 'MASCULINO', 'Nome': 'CRISTIANO COELHO CAMARGO', 'Logradouro': 'RUA JAIME DE CASTRO', 'Situação Cadastral': 'REGULAR', 'Data de Nascimento': '24-10-1975', 'Cidade': 'TAUBATE/SP', 'Cep': '12091-090', 'Bairro': 'JARDIM BARONESE', 'Título de Eleitor': '0241505440159', 'Complemento': 'CASA', 'Nacionalidade': 'BRASILEIRO', 'Mãe': 'ANA LUCIA COELHO CAMARGO', 'Fone': '36354301'}\n"
     ]
    },
    {
     "name": "stdout",
     "output_type": "stream",
     "text": [
      "{'CPF': '276.326.418-23', 'Número': '266', 'Sexo': 'MASCULINO', 'Nome': 'CRISTIANO CORREA DO NASCIMENTO', 'Logradouro': 'RUA JOAO BATISTA DE LIMA', 'Situação Cadastral': 'REGULAR', 'Data de Nascimento': '26-02-1980', 'Cidade': 'SARAPUI/SP', 'Cep': '18227-000', 'Bairro': 'COCAIS', 'Título de Eleitor': '0215529510116', 'Nacionalidade': 'BRASILEIRO', 'Mãe': 'JUDITE APARECIDA DO NASCIMENTO', 'Fone': '00000000'}\n",
      "{'CPF': '252.279.138-97', 'Número': '60', 'Sexo': 'MASCULINO', 'Nome': 'CRISTIANO DE JESUS CLEMENTE', 'Logradouro': 'RUA SANTO CEOLIN', 'Situação Cadastral': 'REGULAR', 'Data de Nascimento': '24-11-1976', 'Cidade': 'JUNDIAI/SP', 'Cep': '13200-000', 'Bairro': 'CORRUPIRA', 'Título de Eleitor': '0271929740108', 'Complemento': 'ZONA RURAL', 'Nacionalidade': 'BRASILEIRO', 'Mãe': 'DAGMAR DE ARAUJO CLEMENTE', 'Fone': '00000000'}\n",
      "{'CPF': '263.502.858-32', 'Número': '151', 'Sexo': 'MASCULINO', 'Nome': 'CRISTIANO DE JORGE', 'Logradouro': 'RUA IRINEU MACHADO', 'Situação Cadastral': 'REGULAR', 'Data de Nascimento': '16-05-1977', 'Cidade': 'GUARULHOS/SP', 'Cep': '07040-020', 'Bairro': 'VILA AUGUSTA', 'Título de Eleitor': '0278708010132', 'Nacionalidade': 'BRASILEIRO', 'Mãe': 'LEONILDA DO CARMO DE JORGE', 'Fone': '64863044'}\n",
      "{'CPF': '148.959.648-84', 'Número': '790', 'Sexo': 'MASCULINO', 'Nome': 'CRISTIANO DE SOUSA MERIDA', 'Logradouro': 'OUTROS OTAVIO DE AZEVEDO', 'Situação Cadastral': 'REGULAR', 'Data de Nascimento': '03-10-1975', 'Cidade': 'TATUI/SP', 'Cep': '18279-350', 'Bairro': 'JD SANTA ADELIA', 'Título de Eleitor': '0241217970116', 'Nacionalidade': 'BRASILEIRO', 'Mãe': 'MARIA LUCIA DE SOUSA MERIDA', 'Fone': '32513890'}\n",
      "{'CPF': '302.715.858-97', 'Número': '27', 'Sexo': 'MASCULINO', 'Nome': 'CRISTIANO EDER DE MORAES', 'Logradouro': 'RUA JOAO PEREIRA NETO', 'Situação Cadastral': 'REGULAR', 'Data de Nascimento': '05-06-1980', 'Cidade': 'PIEDADE/SP', 'Cep': '18170-000', 'Bairro': 'BOM PASTOR', 'Título de Eleitor': '0288846280116', 'Nacionalidade': 'BRASILEIRO', 'Mãe': 'SEBASTIANA DA COSTA MORAES', 'Fone': '02444479'}\n",
      "{'CPF': '782.205.134-20', 'Número': '206', 'Sexo': 'MASCULINO', 'Nome': 'CRISTIANO FERREIRA GUERRA', 'Logradouro': 'RUA PEDRO BELARMINO', 'Situação Cadastral': 'REGULAR', 'Data de Nascimento': '10-06-1971', 'Cidade': 'SAO JOSE DOS CAMPOS/SP', 'Cep': '12228-175', 'Bairro': 'RES JATOBA', 'Título de Eleitor': '0214352750175', 'Nacionalidade': 'BRASILEIRO', 'Mãe': 'IZABEL FERREIRA GUERRA', 'Fone': '39441771'}\n",
      "{'CPF': '161.969.258-90', 'Data de Nascimento': '04-02-1974', 'Situação Cadastral': 'REGULAR', 'Sexo': 'MASCULINO', 'Título de Eleitor': '0201783790175', 'Nacionalidade': 'BRASILEIRO', 'Mãe': 'CLEUZA MARIA MARQUES DE OLIVEIRA', 'Nome': 'CRISTIANO FORTUNATO DE OLIVEIRA', 'Fone': '32648952'}\n",
      "{'CPF': '271.985.038-10', 'Número': '251', 'Sexo': 'MASCULINO', 'Nome': 'CRISTIANO LANGRAFF COVALO', 'Logradouro': 'RUA ANTONIO CERQUEIRA', 'Situação Cadastral': 'REGULAR', 'Data de Nascimento': '22-12-1977', 'Cidade': 'FRANCA/SP', 'Cep': '14409-329', 'Bairro': 'PRQ DO HORTO', 'Título de Eleitor': '0272992810108', 'Nacionalidade': 'BRASILEIRO', 'Mãe': 'IRACY PAMPOLIN', 'Fone': '00000000'}\n",
      "{'CPF': '252.736.138-25', 'Número': '1109', 'Sexo': 'MASCULINO', 'Nome': 'CRISTIANO LOPES LOURENCO', 'Logradouro': 'AVENIDA DR GUILHERME DUMONT VILLARES', 'Situação Cadastral': 'REGULAR', 'Data de Nascimento': '08-03-1971', 'Cidade': 'SAO PAULO/SP', 'Cep': '05640-000', 'Bairro': 'MORUMBI', 'Título de Eleitor': '0205847300175', 'Complemento': 'AP. 41', 'Nacionalidade': 'BRASILEIRO', 'Mãe': 'MARIA CRISTINA RAMOS LOPES LOURENCO', 'Fone': '37723354'}\n",
      "{'CPF': '284.724.438-76', 'Número': '98', 'Sexo': 'MASCULINO', 'Nome': 'CRISTIANO MARTINS DOS SANTOS', 'Logradouro': 'RUA JOSE DE SOUZA NETO', 'Situação Cadastral': 'REGULAR', 'Data de Nascimento': '24-08-1978', 'Cidade': 'POMPEIA/SP', 'Cep': '17580-000', 'Bairro': 'JOSE JANUARIO', 'Título de Eleitor': '0180066530167', 'Nacionalidade': 'BRASILEIRO', 'Mãe': 'TEREZINHA JESUS DE ALMEIDA SANTOS', 'Fone': '97244614'}\n",
      "{'CPF': '153.745.868-07', 'Número': '82', 'Sexo': 'MASCULINO', 'Nome': 'CRISTIANO MARTINS SAGAE', 'Logradouro': 'RUA BENJAMIM KNOBEL', 'Situação Cadastral': 'REGULAR', 'Data de Nascimento': '23-10-1976', 'Cidade': 'MARILIA/SP', 'Cep': '17500-000', 'Bairro': 'NOVA MARILIA', 'Título de Eleitor': '0235307170132', 'Nacionalidade': 'BRASILEIRO', 'Mãe': 'DULCILEI APARECIDA MARTINS SAGAE', 'Fone': '00000000'}\n",
      "{'CPF': '177.256.508-30', 'Número': '198', 'Sexo': 'MASCULINO', 'Nome': 'CRISTIANO NAPOLE DA SILVEIRA', 'Logradouro': 'RUA MOZORIO FLORENCIO DE ALBOUX', 'Situação Cadastral': 'REGULAR', 'Data de Nascimento': '25-12-1977', 'Cidade': 'ITU/SP', 'Cep': '13304-740', 'Bairro': 'JD AEROPORTO', 'Título de Eleitor': '0226568340124', 'Nacionalidade': 'BRASILEIRO', 'Mãe': 'MARIA JOSE NAPOLE FERRAZ DA SILVEIRA', 'Fone': '40240512'}\n",
      "{'CPF': '297.977.318-20', 'Número': '175', 'Sexo': 'MASCULINO', 'Nome': 'CRISTIANO PINHA GUEDES', 'Logradouro': 'RUA CASA BRANCA', 'Situação Cadastral': 'REGULAR', 'Data de Nascimento': '26-06-1980', 'Cidade': 'ATIBAIA/SP', 'Cep': '12947-420', 'Bairro': 'JD PAULISTA', 'Título de Eleitor': '0285043850141', 'Nacionalidade': 'BRASILEIRO', 'Mãe': 'LUZIA APARECIDA GORDON PINHA', 'Fone': '44115765'}\n",
      "{'CPF': '297.977.318-20', 'Número': '175', 'Sexo': 'MASCULINO', 'Nome': 'CRISTIANO PINHA GUEDES', 'Logradouro': 'RUA CASA BRANCA', 'Situação Cadastral': 'REGULAR', 'Data de Nascimento': '26-06-1980', 'Cidade': 'ATIBAIA/SP', 'Cep': '12947-420', 'Bairro': 'JD PAULISTA', 'Título de Eleitor': '0285043850141', 'Nacionalidade': 'BRASILEIRO', 'Mãe': 'LUZIA APARECIDA GORDON PINHA', 'Fone': '44115765'}\n",
      "{'CPF': '270.427.698-64', 'Número': '136', 'Sexo': 'MASCULINO', 'Nome': 'CRISTIANO RODRIGUES LUCIO', 'Logradouro': 'RUA ICARAI', 'Situação Cadastral': 'REGULAR', 'Data de Nascimento': '03-03-1978', 'Cidade': 'SANTO ANDRE/SP', 'Cep': '09121-470', 'Bairro': 'VILA PIRES', 'Título de Eleitor': '0262635870191', 'Nacionalidade': 'BRASILEIRO', 'Mãe': 'IZELINA ANTONIA RODRIGUES LUCIO', 'Fone': '91887311'}\n",
      "{'CPF': '270.599.308-84', 'Número': '2528', 'Sexo': 'MASCULINO', 'Nome': 'CRISTIANO ZAKABI', 'Logradouro': 'RUA 04', 'Situação Cadastral': 'REGULAR', 'Data de Nascimento': '04-11-1977', 'Cidade': 'RIO CLARO/SP', 'Cep': '13500-171', 'Bairro': 'CENTRO', 'Título de Eleitor': '0238421230167', 'Nacionalidade': 'BRASILEIRO', 'Mãe': 'IVANI FRANCISCA MORENO ZAKABI', 'Fone': '35573166'}\n",
      "{'CPF': '047.666.718-64', 'Número': '100', 'Sexo': 'FEMININO', 'Nome': 'CRISTINA APARECIDA DE MELO CARBO MARTINS', 'Logradouro': 'RUA ANTONIO OSVALDO FERRAZ', 'Situação Cadastral': 'REGULAR', 'Data de Nascimento': '28-07-1963', 'Cidade': 'PIRACICABA/SP', 'Cep': '13405-036', 'Bairro': 'NOVA PIRACICABA', 'Título de Eleitor': '0036459250191', 'Nacionalidade': 'BRASILEIRO', 'Mãe': 'JANDIRA MARQUES DE MELO', 'Fone': '00000000'}\n",
      "{'CPF': '143.364.328-64', 'Número': '130', 'Sexo': 'FEMININO', 'Nome': 'CRISTINA MARIA OLIVEIRA BRAZ', 'Logradouro': 'RUA DOS TAMANDUAS', 'Situação Cadastral': 'REGULAR', 'Data de Nascimento': '16-04-1970', 'Cidade': 'COTIA/SP', 'Cep': '06711-450', 'Bairro': 'JD DO ENGENHO', 'Título de Eleitor': '0212808600159', 'Complemento': 'CASA 1', 'Nacionalidade': 'BRASILEIRO', 'Mãe': 'JAMILE FERREIRA BRAZ', 'Fone': '47025171'}\n",
      "None\n",
      "None\n",
      "None\n",
      "None\n",
      "None\n",
      "{'CPF': '113.562.728-27', 'Número': '735', 'Sexo': 'MASCULINO', 'Nome': 'CYRO EDUARDO DE CARVALHO OTTONI', 'Logradouro': 'RUA JARACATIA', 'Situação Cadastral': 'REGULAR', 'Data de Nascimento': '20-01-1966', 'Cidade': 'SAO PAULO/SP', 'Cep': '05754-071', 'Bairro': 'JARDIM UMARIZAL', 'Título de Eleitor': '0148378740191', 'Complemento': 'APTO 82 BLOCO 8', 'Nacionalidade': 'BRASILEIRO', 'Mãe': 'NADIR CARVALHO OTTONI', 'Fone': '99677500'}\n",
      "None\n",
      "{'CPF': '035.787.838-89', 'Número': '125', 'Sexo': 'MASCULINO', 'Nome': 'CARLOS ALBERTO ALBUQUERQUE DE MOURA', 'Logradouro': 'RUA HELADE', 'Situação Cadastral': 'REGULAR', 'Data de Nascimento': '18-07-1959', 'Cidade': 'SAO PAULO/SP', 'Cep': '04634-000', 'Bairro': 'JARDIM BRASIL', 'Título de Eleitor': '0148154980116', 'Complemento': 'CJ 02', 'Nacionalidade': 'BRASILEIRO', 'Mãe': 'HEB ALBUQUERQUE DE MOURA', 'Fone': '41451691'}\n",
      "{'CPF': '119.739.928-33', 'Número': '000111', 'Sexo': 'MASCULINO', 'Nome': 'CARLOS EDUARDO CLER', 'Logradouro': 'AVENIDA AMARO CAVALCANTI DE ALBUQUERQUE', 'Situação Cadastral': 'REGULAR', 'Data de Nascimento': '25-10-1971', 'Cidade': 'DIADEMA/SP', 'Cep': '09930-260', 'Bairro': 'TABOAO', 'Título de Eleitor': '0204562240141', 'Complemento': 'BLOCO 2 APTO 73', 'Nacionalidade': 'BRASILEIRO', 'Mãe': 'MARIA LUCIA MENDONCA CLER', 'Fone': '92671574'}\n"
     ]
    },
    {
     "name": "stdout",
     "output_type": "stream",
     "text": [
      "{'CPF': '213.902.088-00', 'Número': '118', 'Sexo': 'MASCULINO', 'Nome': 'CARLOS EDUARDO MAZZOCATO', 'Logradouro': 'AVENIDA DOM PEDRO I', 'Situação Cadastral': 'REGULAR', 'Data de Nascimento': '24-05-1978', 'Cidade': 'DOIS CORREGOS/SP', 'Cep': '17300-000', 'Bairro': 'CENTRO', 'Título de Eleitor': '0232695490116', 'Nacionalidade': 'BRASILEIRO', 'Mãe': 'ALICE DE LOURDES MENDONCA MAZZOCATO', 'Fone': '36264666'}\n",
      "{'CPF': '060.511.988-06', 'Número': '160', 'Sexo': 'MASCULINO', 'Nome': 'CARLOS EDUARDO DA SILVA', 'Logradouro': 'RUA FELISBERTO FREIRE', 'Situação Cadastral': 'REGULAR', 'Data de Nascimento': '06-08-1966', 'Cidade': 'SAO PAULO/SP', 'Cep': '02616-090', 'Bairro': 'VN CACHOEIRINHA', 'Título de Eleitor': '0092378760159', 'Nacionalidade': 'BRASILEIRO', 'Mãe': 'DIRCE MARCAL SILVA', 'Fone': '98576718'}\n",
      "{'CPF': '485.959.009-06', 'Número': '330', 'Sexo': 'MASCULINO', 'Nome': 'CICERO JOSE DA SILVA', 'Logradouro': 'ESTRADA CATA PRETA', 'Situação Cadastral': 'REGULAR', 'Data de Nascimento': '06-01-1964', 'Cidade': 'SANTO ANDRE/SP', 'Cep': '09170-000', 'Bairro': 'VILA JOAO RAMALHO', 'Título de Eleitor': '0081748600141', 'Nacionalidade': 'BRASILEIRO', 'Mãe': 'MARIA SOLIDADE', 'Fone': '20123343'}\n",
      "None\n",
      "{'CPF': '448.563.008-06', 'Número': '44', 'Sexo': 'MASCULINO', 'Nome': 'DAGOBERTO SCHMIDT DE CAMARGO', 'Logradouro': 'RUA FREI GASPAR', 'Situação Cadastral': 'REGULAR', 'Data de Nascimento': '06-04-1945', 'Cidade': 'SAO VICENTE/SP', 'Cep': '11310-060', 'Bairro': 'GONZAGUINHA', 'Título de Eleitor': '0202012720175', 'Complemento': '5A', 'Nacionalidade': 'BRASILEIRO', 'Mãe': 'VERA SCHMIDT CAMARGO', 'Fone': '00683240'}\n",
      "{'CPF': '215.067.688-57', 'Número': '219', 'Sexo': 'MASCULINO', 'Nome': 'DAGUENIR TEIXEIRA DA COSTA', 'Logradouro': 'RUA BRAZ JANINI', 'Situação Cadastral': 'REGULAR', 'Data de Nascimento': '19-07-1983', 'Cidade': 'ARACATUBA/SP', 'Cep': '16022-210', 'Bairro': 'MORADA DOS NOBRES', 'Título de Eleitor': '0304277950191', 'Nacionalidade': 'BRASILEIRO', 'Mãe': 'MARIA JOSE SARTORE DA COSTA', 'Fone': '21031333'}\n",
      "{'CPF': '008.453.628-44', 'Número': '138', 'Sexo': 'MASCULINO', 'Ano do Óbito': '2017', 'Nome': 'DALVAUYR SOUZA ROCHA', 'Logradouro': 'RUA UBIRATAN', 'Situação Cadastral': 'CANCELADA POR ÓBITO SEM ESPÓLIO', 'Data de Nascimento': '02-11-1960', 'Cidade': 'DIADEMA/SP', 'Cep': '09911-520', 'Bairro': 'JARDIM OLGA', 'Título de Eleitor': '0000000000000', 'Complemento': 'CASA', 'Nacionalidade': 'BRASILEIRO', 'Mãe': 'DALVA SOUZA ROCHA', 'Fone': '40544821'}\n",
      "{'CPF': '477.691.658-49', 'Número': '21', 'Sexo': 'MASCULINO', 'Ano do Óbito': '2012', 'Nome': 'DALVO DE SANT ANA REGIS', 'Logradouro': 'OUTROS RUBI', 'Situação Cadastral': 'CANCELADA POR ÓBITO SEM ESPÓLIO', 'Data de Nascimento': '10-04-1935', 'Cidade': 'SAO PAULO/SP', 'Cep': '04323-215', 'Bairro': 'VILA DO ENCONTRO', 'Título de Eleitor': '0000000000000', 'Nacionalidade': 'BRASILEIRO', 'Mãe': 'ALEXANDRINA SATURNINA BORGES', 'Fone': '55885401'}\n",
      "None\n",
      "{'CPF': '264.078.118-99', 'Número': '625', 'Sexo': 'MASCULINO', 'Nome': 'DAMIAO MARTINS DE SOUSA', 'Logradouro': 'RUA SEBASTIAO ELIAS BARBOSA', 'Situação Cadastral': 'REGULAR', 'Data de Nascimento': '27-12-1974', 'Cidade': 'RIO DAS PEDRAS/SP', 'Cep': '13390-000', 'Bairro': 'RES. B. JARDIM', 'Título de Eleitor': '0347654350159', 'Nacionalidade': 'BRASILEIRO', 'Mãe': 'NOEME DA CONCEICAO DE SOUSA', 'Fone': '34936677'}\n",
      "{'CPF': '070.684.868-35', 'Número': '71', 'Sexo': 'MASCULINO', 'Nome': 'DANIEL ALEXANDRE RIBEIRO', 'Logradouro': 'RUA FRANCISCO ORTIN RAMOS', 'Situação Cadastral': 'REGULAR', 'Data de Nascimento': '28-04-1972', 'Cidade': 'FERNANDOPOLIS/SP', 'Cep': '15600-000', 'Bairro': 'RES BENEZ', 'Título de Eleitor': '0242062930183', 'Nacionalidade': 'BRASILEIRO', 'Mãe': 'LEILA ALEXANDRE RIBEIRO', 'Fone': '00000000'}\n",
      "{'CPF': '070.684.868-35', 'Número': '71', 'Sexo': 'MASCULINO', 'Nome': 'DANIEL ALEXANDRE RIBEIRO', 'Logradouro': 'RUA FRANCISCO ORTIN RAMOS', 'Situação Cadastral': 'REGULAR', 'Data de Nascimento': '28-04-1972', 'Cidade': 'FERNANDOPOLIS/SP', 'Cep': '15600-000', 'Bairro': 'RES BENEZ', 'Título de Eleitor': '0242062930183', 'Nacionalidade': 'BRASILEIRO', 'Mãe': 'LEILA ALEXANDRE RIBEIRO', 'Fone': '00000000'}\n",
      "{'CPF': '220.461.598-61', 'Número': '1280', 'Sexo': 'MASCULINO', 'Nome': 'DANIEL ALVES DOS SANTOS', 'Logradouro': 'RUA DEPUTADO TARCILIO BERNARNO', 'Situação Cadastral': 'REGULAR', 'Data de Nascimento': '29-05-1983', 'Cidade': 'TAUBATE/SP', 'Cep': '12093-686', 'Bairro': 'JD CONTINENTAL', 'Título de Eleitor': '0254902950124', 'Complemento': 'CASA', 'Nacionalidade': 'BRASILEIRO', 'Mãe': 'MARIA CRISTINA BASSO DOS SANTOS', 'Fone': '91895019'}\n",
      "{'CPF': '259.488.848-64', 'Número': '270', 'Sexo': 'MASCULINO', 'Nome': 'DANIEL AUGUSTO JANUARIO', 'Logradouro': 'RUA JOAO VAGNOTTI', 'Situação Cadastral': 'REGULAR', 'Data de Nascimento': '06-12-1976', 'Cidade': 'ITAQUAQUECETUBA/SP', 'Cep': '08570-220', 'Bairro': 'CENTRO', 'Título de Eleitor': '0197163110141', 'Nacionalidade': 'BRASILEIRO', 'Mãe': 'MARIA JARDIM BUZANI JANUARIO', 'Fone': '46486922'}\n",
      "{'CPF': '304.104.738-12', 'Número': '6161', 'Sexo': 'MASCULINO', 'Nome': 'DANIEL BARBOSA EPISCOPO', 'Logradouro': 'AVENIDA AUGUSTO ANTUNES', 'Situação Cadastral': 'REGULAR', 'Data de Nascimento': '29-10-1983', 'Cidade': 'SAO PAULO/SP', 'Cep': '08235-630', 'Bairro': 'PARQUE GUARANI', 'Título de Eleitor': '0309195720116', 'Nacionalidade': 'BRASILEIRO', 'Mãe': 'MARIA APARECIDA BARBOSA EPISCOPO', 'Fone': '20516039'}\n",
      "{'CPF': '040.261.758-47', 'Número': '1064', 'Sexo': 'MASCULINO', 'Nome': 'DANIEL BUENO DE LIMA', 'Logradouro': 'RUA JOSE JERONIMO DA SILVA', 'Situação Cadastral': 'REGULAR', 'Data de Nascimento': '02-05-1959', 'Cidade': 'SANTA ISABEL/SP', 'Cep': '07500-000', 'Bairro': 'TREZE DE MAIO', 'Título de Eleitor': '0135895520191', 'Nacionalidade': 'BRASILEIRO', 'Mãe': 'OLGA DE MAURECE LIMA', 'Fone': '58533595'}\n",
      "{'CPF': '138.294.518-30', 'Número': '215', 'Sexo': 'MASCULINO', 'Nome': 'DANIEL CARNEIRO FERNANDES DA SILVA', 'Logradouro': 'RUA ORMESINA FERREIRA MIRANDA', 'Situação Cadastral': 'REGULAR', 'Data de Nascimento': '09-09-1974', 'Cidade': 'SUMARE/SP', 'Cep': '13178-423', 'Bairro': 'PQ DAS INDUSTRIAS', 'Título de Eleitor': '0181742240116', 'Nacionalidade': 'BRASILEIRO', 'Mãe': 'DALGIZA CUSTODIO CARNEIRO DA SILVA', 'Fone': '38649816'}\n",
      "{'CPF': '260.019.998-56', 'Número': 'SN', 'Sexo': 'MASCULINO', 'Nome': 'DANIEL CHISTIAN BIAGGI PAULISTA', 'Logradouro': 'FAZENDA SANT ANA', 'Situação Cadastral': 'CANCELADA POR MULTIPLICIDADE', 'Data de Nascimento': '15-12-1977', 'Cidade': 'SANTA RITA DO PASSA QUATRO/SP', 'Cep': '13670-000', 'Bairro': 'ZONA RURAL', 'Título de Eleitor': '0000000000000', 'Complemento': 'CASA', 'Nacionalidade': 'BRASILEIRO', 'Mãe': 'ADELINA DE BIAGGI', 'Fone': '00000000'}\n",
      "{'CPF': '145.353.378-88', 'Número': '280', 'Sexo': 'MASCULINO', 'Nome': 'DANIEL CIFU', 'Logradouro': 'RUA FRANCA PINTO', 'Situação Cadastral': 'REGULAR', 'Data de Nascimento': '09-01-1975', 'Cidade': 'SAO PAULO/SP', 'Cep': '04016-001', 'Bairro': 'VILA MARIANA', 'Título de Eleitor': '0251923680116', 'Complemento': 'APTO 112', 'Nacionalidade': 'BRASILEIRO', 'Mãe': 'SUELY HELOISA DE SOUZA TEIXEIRA CIFU', 'Fone': '50847119'}\n",
      "{'CPF': '113.802.588-71', 'Número': '46', 'Sexo': 'MASCULINO', 'Nome': 'DANIEL CLERO DOS SANTOS', 'Logradouro': 'RUA ROBALO', 'Situação Cadastral': 'REGULAR', 'Data de Nascimento': '05-07-1967', 'Cidade': 'ITAPEVI/SP', 'Cep': '06694-340', 'Bairro': 'JARDIM SAO CARLOS', 'Título de Eleitor': '0073848710191', 'Complemento': 'CASA', 'Nacionalidade': 'BRASILEIRO', 'Mãe': 'SONIA DA FRANCA COSTA', 'Fone': '84506501'}\n",
      "{'CPF': '173.955.238-57', 'Número': '100', 'Sexo': 'MASCULINO', 'Nome': 'DANIEL CORTEZ', 'Logradouro': 'RUA GUARARA', 'Situação Cadastral': 'REGULAR', 'Data de Nascimento': '05-02-1974', 'Cidade': 'SAO PAULO/SP', 'Cep': '01425-000', 'Bairro': 'JARDIM PAULISTA', 'Título de Eleitor': '0231240370167', 'Complemento': '44', 'Nacionalidade': 'BRASILEIRO', 'Mãe': 'NEYDE ZUKAUSKAS CORTEZ', 'Fone': '88914000'}\n",
      "{'CPF': '111.271.588-64', 'Número': '187', 'Sexo': 'MASCULINO', 'Nome': 'DANIEL CRUZ', 'Logradouro': 'RUA CHAFARIZ DE PEDRA', 'Situação Cadastral': 'REGULAR', 'Data de Nascimento': '10-03-1971', 'Cidade': 'SAO PAULO/SP', 'Cep': '08341-120', 'Bairro': 'PARQUE BOA ESPERANC', 'Título de Eleitor': '0206053680116', 'Complemento': 'CASA', 'Nacionalidade': 'BRASILEIRO', 'Mãe': 'MARIA ROSA DIAS CRUZ', 'Fone': '74119923'}\n"
     ]
    },
    {
     "name": "stdout",
     "output_type": "stream",
     "text": [
      "{'CPF': '050.360.899-87', 'Número': '4452', 'Sexo': 'MASCULINO', 'Nome': 'DANIEL DA SILVEIRA', 'Logradouro': 'OUTROS MONSENHOR GERCINO', 'Situação Cadastral': 'REGULAR', 'Data de Nascimento': '19-12-1948', 'Cidade': 'JOINVILLE/SC', 'Cep': '89230-290', 'Bairro': 'JARIVATUBA', 'Título de Eleitor': '0012638260990', 'Complemento': 'CASA', 'Nacionalidade': 'BRASILEIRO', 'Mãe': 'HILDA SANT ANNA DA SILVEIRA', 'Fone': '33249800'}\n",
      "{'CPF': '086.007.148-00', 'Número': '826', 'Sexo': 'MASCULINO', 'Nome': 'DANIEL DE JESUS FELINTO', 'Logradouro': 'RUA CELESTE ZENI CANTADOR', 'Situação Cadastral': 'REGULAR', 'Data de Nascimento': '10-08-1966', 'Cidade': 'ARAUCARIA/PR', 'Cep': '83704-550', 'Bairro': 'FAZENDA VELHA', 'Título de Eleitor': '0122092240141', 'Nacionalidade': 'BRASILEIRO', 'Mãe': 'TERESINHA DE JESUS FELINTO', 'Fone': '36435570'}\n",
      "{'CPF': '338.030.268-65', 'Número': '417', 'Sexo': 'MASCULINO', 'Nome': 'DANIEL DIAS', 'Logradouro': 'AVENIDA ARMANDO MITALO SETTI', 'Situação Cadastral': 'REGULAR', 'Data de Nascimento': '18-12-1986', 'Cidade': 'SAO BERNARDO DO CAMPO/SP', 'Cep': '09760-280', 'Bairro': 'BAETA NEVES', 'Título de Eleitor': '0345068180116', 'Complemento': 'APTO 23 BL 01', 'Nacionalidade': 'BRASILEIRO', 'Mãe': 'INARA LAMONICA DIAS', 'Fone': '22722624'}\n",
      "{'CPF': '087.985.828-10', 'Número': '16', 'Sexo': 'MASCULINO', 'Nome': 'DANIEL DIEGO MILSTEIN GONCALVES', 'Logradouro': 'RUA JOAQUIM DE MEIRA BOTELHO', 'Situação Cadastral': 'REGULAR', 'Data de Nascimento': '18-12-1966', 'Cidade': 'SAO CARLOS/SP', 'Cep': '13565-580', 'Bairro': 'RESIDENCIAL SAMAMBA', 'Título de Eleitor': '0018063490175', 'Nacionalidade': 'BRASILEIRO', 'Mãe': 'ALLA MILSTEIN GONCALVES', 'Fone': '33615623'}\n",
      "{'CPF': '072.404.608-94', 'Número': '370', 'Sexo': 'MASCULINO', 'Nome': 'DANIEL DOS SANTOS ANDRADE', 'Logradouro': 'RUA SALVADOR DE SI', 'Situação Cadastral': 'REGULAR', 'Data de Nascimento': '16-09-1967', 'Cidade': 'TAUBATE/SP', 'Cep': '12081-410', 'Bairro': 'JD SONIA MARIA', 'Título de Eleitor': '0050351860191', 'Nacionalidade': 'BRASILEIRO', 'Mãe': 'ALICE DOS SANTOS ANDRADE', 'Fone': '36222065'}\n",
      "{'CPF': '287.375.628-43', 'Número': '156', 'Sexo': 'MASCULINO', 'Nome': 'DANIEL ESPOSITO BARBOSA', 'Logradouro': 'RUA POCOS DE CALDA', 'Situação Cadastral': 'REGULAR', 'Data de Nascimento': '21-02-1981', 'Cidade': 'MOGI-GUACU/SP', 'Cep': '13843-340', 'Bairro': 'JD BRASILIA', 'Título de Eleitor': '0269904830124', 'Nacionalidade': 'BRASILEIRO', 'Mãe': 'APARECIDA ESPOSITO BARBOSA', 'Fone': '35691075'}\n",
      "{'CPF': '296.589.308-32', 'Número': '299', 'Sexo': 'MASCULINO', 'Nome': 'DANIEL EVELTON GRANAI', 'Logradouro': 'RUA HERACLITO LACERDA', 'Situação Cadastral': 'REGULAR', 'Data de Nascimento': '20-10-1981', 'Cidade': 'BOCAINA/SP', 'Cep': '17240-000', 'Bairro': 'JD. NOVA BOCAINA', 'Título de Eleitor': '0290184360132', 'Complemento': 'ALTOS DA CIDADE', 'Nacionalidade': 'BRASILEIRO', 'Mãe': 'ANTONIA MARIA DE LURDES FERRARE GRANAI', 'Fone': '06661073'}\n",
      "{'CPF': '258.654.178-27', 'Número': '225', 'Sexo': 'MASCULINO', 'Nome': 'DANIEL FERNANDO ERCOLIM', 'Logradouro': 'OUTROS MAESTRO OLIVEIRA GUERZONI', 'Situação Cadastral': 'REGULAR', 'Data de Nascimento': '28-10-1978', 'Cidade': 'SANTA ADELIA/SP', 'Cep': '15950-000', 'Bairro': 'JD TANGARA', 'Título de Eleitor': '0238461010175', 'Nacionalidade': 'BRASILEIRO', 'Mãe': 'ZILDA APARECIDA PEDRETI ERCOLIM', 'Fone': '35714619'}\n",
      "{'CPF': '493.298.128-72', 'Número': '990', 'Sexo': 'MASCULINO', 'Nome': 'DANIEL GARCIA CARVALHO', 'Logradouro': 'RUA MIRO VETORAZZO', 'Situação Cadastral': 'SUSPENSA', 'Data de Nascimento': '14-11-1949', 'Cidade': 'SAO BERNARDO DO CAMPO/SP', 'Cep': '09820-135', 'Bairro': 'JD OLIVIVEIRAS', 'Título de Eleitor': '0000000000000', 'Complemento': 'BLOC 6B APTO 1', 'Nacionalidade': 'BRASILEIRO', 'Mãe': 'ALMERINDA DE CARVALHO GARCIA', 'Fone': '43962828'}\n",
      "{'CPF': '888.851.358-20', 'Número': '858', 'Sexo': 'MASCULINO', 'Nome': 'DANIEL GONCALVES CAETANO', 'Logradouro': 'RUA DOS TUINS', 'Situação Cadastral': 'PENDENTE DE REGULARIZAÇÃO', 'Data de Nascimento': '15-03-1956', 'Cidade': 'FERNANDOPOLIS/SP', 'Cep': '15600-000', 'Bairro': 'JD ARAGUAIA', 'Título de Eleitor': '0000000000000', 'Nacionalidade': 'BRASILEIRO', 'Mãe': 'ILIDIA DIAS GONCALVES CAETANO', 'Fone': '00000000'}\n",
      "{'CPF': '313.186.388-95', 'Número': '595', 'Sexo': 'MASCULINO', 'Nome': 'DANIEL GUEDES BELLINI', 'Logradouro': 'RUA PEDRO VIEIRA DA SILVA', 'Situação Cadastral': 'REGULAR', 'Data de Nascimento': '19-04-1983', 'Cidade': 'CAMPINAS/SP', 'Cep': '13080-570', 'Bairro': 'JD SANTA GENEBRA', 'Título de Eleitor': '0303280570132', 'Complemento': 'APTO 63', 'Nacionalidade': 'BRASILEIRO', 'Mãe': 'CARMEN LUCIA GUEDES PINTO BELLINI', 'Fone': '33255652'}\n",
      "{'CPF': '219.786.418-18', 'Número': '77', 'Sexo': 'MASCULINO', 'Nome': 'DANIEL HENRIQUE BATISTA', 'Logradouro': 'CHACARA CAMPO LIMPO PAULISTA', 'Situação Cadastral': 'REGULAR', 'Data de Nascimento': '08-04-1981', 'Cidade': 'CAMPO LIMPO PAULISTA/SP', 'Cep': '13233-451', 'Bairro': 'CHACARAS CAMPO LIMP', 'Título de Eleitor': '0290844300141', 'Complemento': 'RUA TOPAZIO', 'Nacionalidade': 'BRASILEIRO', 'Mãe': 'JANETE APARECIDA DE OLIVEIRA BATISTA', 'Fone': '95715094'}\n",
      "{'CPF': '032.193.888-76', 'Número': '180', 'Sexo': 'MASCULINO', 'Ano do Óbito': '2011', 'Nome': 'DANIEL ILARIO', 'Logradouro': 'RUA CONSTANTINA CORAZZA MILANI', 'Situação Cadastral': 'CANCELADA POR ÓBITO SEM ESPÓLIO', 'Data de Nascimento': '21-10-1962', 'Cidade': 'PRESIDENTE PRUDENTE/SP', 'Cep': '19063-810', 'Bairro': 'JD. SANTA FE', 'Título de Eleitor': '0000000000000', 'Nacionalidade': 'BRASILEIRO', 'Mãe': 'APARECIDA MARTINS ILARIO', 'Fone': '02362471'}\n",
      "{'CPF': '279.634.578-50', 'Número': '58', 'Sexo': 'MASCULINO', 'Nome': 'DANIEL MANTOVANI', 'Logradouro': 'RUA FELIPE CAMARAO', 'Situação Cadastral': 'REGULAR', 'Data de Nascimento': '20-10-1978', 'Cidade': 'AMERICANA/SP', 'Cep': '13474-543', 'Bairro': 'ANTONIO ZANAGA II', 'Título de Eleitor': '0242694880183', 'Nacionalidade': 'BRASILEIRO', 'Mãe': 'CELIA APARECIDA VELOSO MANTOVANI', 'Fone': '34694469'}\n",
      "{'CPF': '279.634.578-50', 'Número': '58', 'Sexo': 'MASCULINO', 'Nome': 'DANIEL MANTOVANI', 'Logradouro': 'RUA FELIPE CAMARAO', 'Situação Cadastral': 'REGULAR', 'Data de Nascimento': '20-10-1978', 'Cidade': 'AMERICANA/SP', 'Cep': '13474-543', 'Bairro': 'ANTONIO ZANAGA II', 'Título de Eleitor': '0242694880183', 'Nacionalidade': 'BRASILEIRO', 'Mãe': 'CELIA APARECIDA VELOSO MANTOVANI', 'Fone': '34694469'}\n",
      "{'CPF': '925.743.608-00', 'Número': '57', 'Sexo': 'MASCULINO', 'Nome': 'DANIEL MARANHA', 'Logradouro': 'RUA ANGELA MARIA', 'Situação Cadastral': 'REGULAR', 'Data de Nascimento': '19-01-1956', 'Cidade': 'AMERICANA/SP', 'Cep': '13473-701', 'Bairro': 'PQ RES JAGUARI', 'Título de Eleitor': '0054818080175', 'Nacionalidade': 'BRASILEIRO', 'Mãe': 'NAZARE ELISA DE SOUZA', 'Fone': '34627194'}\n",
      "{'CPF': '280.896.158-80', 'Número': '20', 'Sexo': 'MASCULINO', 'Nome': 'DANIEL MORAES FACHINELLI', 'Logradouro': 'RUA LAZARO DE CAMPOS CAMARGO SOBRINHO', 'Situação Cadastral': 'REGULAR', 'Data de Nascimento': '08-06-1979', 'Cidade': 'IRACEMAPOLIS/SP', 'Cep': '13495-000', 'Bairro': 'PQ. JOSE MODENEZ', 'Título de Eleitor': '0249537540116', 'Nacionalidade': 'BRASILEIRO', 'Mãe': 'MARIA DE FATIMA MORAES FACHINELLI', 'Fone': '91053518'}\n",
      "{'CPF': '295.744.858-03', 'Número': '390', 'Sexo': 'MASCULINO', 'Nome': 'DANIEL PARMEGIANE', 'Logradouro': 'RUA RIO PEDRINHAS', 'Situação Cadastral': 'REGULAR', 'Data de Nascimento': '18-03-1982', 'Cidade': 'PEDRINHAS PAULISTA/SP', 'Cep': '19865-000', 'Bairro': 'CENTRO', 'Título de Eleitor': '0274424640191', 'Complemento': 'ESCRITORIO', 'Nacionalidade': 'BRASILEIRO', 'Mãe': 'LEONICE DORTA PARMEGIANE', 'Fone': '33751178'}\n",
      "{'CPF': '023.721.158-04', 'Número': '55', 'Sexo': 'MASCULINO', 'Nome': 'DANIEL PEREIRA DOS SANTOS', 'Logradouro': 'OUTROS JOAO SOARES GOMES', 'Situação Cadastral': 'REGULAR', 'Data de Nascimento': '27-01-1962', 'Cidade': 'ARACATUBA/SP', 'Cep': '16031-140', 'Bairro': 'SAO JOSE', 'Título de Eleitor': '0261569190183', 'Nacionalidade': 'BRASILEIRO', 'Mãe': 'APARECIDA CARAVANTE DOS SANTOS', 'Fone': '06223440'}\n",
      "{'CPF': '318.572.048-24', 'Número': '162', 'Sexo': 'MASCULINO', 'Nome': 'DANIEL PRANDI', 'Logradouro': 'RUA CELSO CARDIA', 'Situação Cadastral': 'REGULAR', 'Data de Nascimento': '03-06-1981', 'Cidade': 'DUARTINA/SP', 'Cep': '17470-000', 'Bairro': 'VILA MARSIGLIO', 'Título de Eleitor': '0296736830108', 'Nacionalidade': 'BRASILEIRO', 'Mãe': 'MARIA APARECIDA PRANDI', 'Fone': '32824020'}\n"
     ]
    },
    {
     "name": "stdout",
     "output_type": "stream",
     "text": [
      "{'CPF': '053.684.068-78', 'Número': '120', 'Sexo': 'MASCULINO', 'Nome': 'DANIEL RAIMUNDO DO ESPIRITO SANTO', 'Logradouro': 'RUA RESPLENDOR', 'Situação Cadastral': 'REGULAR', 'Data de Nascimento': '12-11-1963', 'Cidade': 'GUARULHOS/SP', 'Cep': '07155-080', 'Bairro': 'CUMBICA', 'Título de Eleitor': '0113345860116', 'Nacionalidade': 'BRASILEIRO', 'Mãe': 'JOVINA RAIMUNDO', 'Fone': '64698615'}\n",
      "{'CPF': '144.441.108-05', 'Número': '495', 'Sexo': 'MASCULINO', 'Nome': 'DANIEL RICARDO POLACHINI', 'Logradouro': 'RUA MARIA ADAME PATTARO', 'Situação Cadastral': 'REGULAR', 'Data de Nascimento': '23-09-1972', 'Cidade': 'CAMPINAS/SP', 'Cep': '13084-280', 'Bairro': 'MODESTO FERNANDES', 'Título de Eleitor': '0200337490116', 'Complemento': 'CASA 32', 'Nacionalidade': 'BRASILEIRO', 'Mãe': 'MARIA ZELIA FULACHI POLACHINI', 'Fone': '33252944'}\n",
      "{'CPF': '283.092.158-51', 'Número': '16', 'Sexo': 'MASCULINO', 'Nome': 'DANIEL SECCO ZANOTTO', 'Logradouro': 'RUA ARACATUBA', 'Situação Cadastral': 'REGULAR', 'Data de Nascimento': '03-08-1977', 'Cidade': 'CAMPINAS/SP', 'Cep': '13076-850', 'Bairro': 'TAQUARAL', 'Título de Eleitor': '0231796060141', 'Nacionalidade': 'BRASILEIRO', 'Mãe': 'ADELIA DE LOURDES SECCO ZANOTTO', 'Fone': '32550136'}\n",
      "{'CPF': '289.119.028-96', 'Número': 'S N', 'Sexo': 'MASCULINO', 'Nome': 'DANIEL SOARES DA SILVA', 'Logradouro': 'ESTRADA DO BARREIRO', 'Situação Cadastral': 'REGULAR', 'Data de Nascimento': '28-10-1980', 'Cidade': 'CABREUVA/SP', 'Cep': '13318-000', 'Bairro': 'BARREIRO', 'Título de Eleitor': '0231468690159', 'Nacionalidade': 'BRASILEIRO', 'Mãe': 'SALETE SOARES DA SILVA', 'Fone': '00000000'}\n",
      "{'CPF': '318.436.348-13', 'Número': '675', 'Sexo': 'MASCULINO', 'Nome': 'DANIEL SOARES HERCULANO', 'Logradouro': 'RUA HENRIQUE CARRARA AMARAL ROGICK', 'Situação Cadastral': 'REGULAR', 'Data de Nascimento': '15-09-1983', 'Cidade': 'SOROCABA/SP', 'Cep': '18071-307', 'Bairro': 'LOPES DE OLIVEIRA', 'Título de Eleitor': '0321062850108', 'Complemento': 'APTO 5', 'Nacionalidade': 'BRASILEIRO', 'Mãe': 'MARIA DO SOCORRO SOARES HERCULANO', 'Fone': '81282787'}\n",
      "{'CPF': '106.435.498-03', 'Número': '287', 'Sexo': 'MASCULINO', 'Nome': 'DANIEL TRAJANO DE BRITO', 'Logradouro': 'OUTROS JOSE NIGRO', 'Situação Cadastral': 'REGULAR', 'Data de Nascimento': '12-06-1969', 'Cidade': 'AMERICO BRASILIENSE/SP', 'Cep': '14820-000', 'Bairro': 'VILA CERQUEIRA', 'Título de Eleitor': '0166673580175', 'Nacionalidade': 'BRASILEIRO', 'Mãe': 'HELENA MARTINS CORDEIRO DE BRITO', 'Fone': '97843646'}\n",
      "{'CPF': '152.889.848-67', 'Número': '51', 'Sexo': 'MASCULINO', 'Nome': 'DANIEL VICENTE FERREIRA', 'Logradouro': 'RUA LUIZA POLLI DE OLIVEIRA', 'Situação Cadastral': 'REGULAR', 'Data de Nascimento': '15-04-1975', 'Cidade': 'ITUPEVA/SP', 'Cep': '13295-000', 'Bairro': 'PORTAL DE SANTA FE', 'Título de Eleitor': '0226590820183', 'Nacionalidade': 'BRASILEIRO', 'Mãe': 'CATARINA LOPES FERREIRA', 'Fone': '45913583'}\n",
      "{'CPF': '253.450.988-83', 'Número': '261', 'Sexo': 'MASCULINO', 'Nome': 'DANIEL WILIAN PEREIRA DA SILVA', 'Logradouro': 'RUA CATARINO CARVALHO', 'Situação Cadastral': 'REGULAR', 'Data de Nascimento': '29-03-1978', 'Cidade': 'ITUVERAVA/SP', 'Cep': '14500-000', 'Bairro': 'GUANABARA 3', 'Título de Eleitor': '0234015590141', 'Nacionalidade': 'BRASILEIRO', 'Mãe': 'ROSALINA ROSA PEREIRA DA SILVA', 'Fone': '38394814'}\n",
      "{'CPF': '122.489.978-41', 'Número': '81', 'Sexo': 'MASCULINO', 'Nome': 'DANIEL XAVIER DE SOUZA', 'Logradouro': 'RUA TEREZINHA DE OLIVEIRA FRANCO', 'Situação Cadastral': 'REGULAR', 'Data de Nascimento': '25-07-1970', 'Cidade': 'SOROCABA/SP', 'Cep': '18078-648', 'Bairro': 'SANTA MARINA I', 'Título de Eleitor': '0173655510132', 'Complemento': 'CASA', 'Nacionalidade': 'BRASILEIRO', 'Mãe': 'CLARINDA CONCEICAO DE SOUZA', 'Fone': '32393569'}\n",
      "{'CPF': '336.187.928-08', 'Número': '1547', 'Sexo': 'FEMININO', 'Nome': 'DANIELA DE SOUZA PAVANI', 'Logradouro': 'AVENIDA DOM PEDRO II', 'Situação Cadastral': 'REGULAR', 'Data de Nascimento': '04-10-1984', 'Cidade': 'ARARAQUARA/SP', 'Cep': '14801-040', 'Bairro': 'CARMO', 'Título de Eleitor': '0322209720124', 'Nacionalidade': 'BRASILEIRO', 'Mãe': 'MARLECI DE SOUZA PAVANI', 'Fone': '33335956'}\n",
      "{'CPF': '245.969.048-71', 'Número': '1070', 'Sexo': 'FEMININO', 'Nome': 'DANIELA MARTINEZ RUIZ PERES', 'Logradouro': 'RUA COROADOS', 'Situação Cadastral': 'REGULAR', 'Data de Nascimento': '18-02-1975', 'Cidade': 'TUPA/SP', 'Cep': '17600-010', 'Bairro': 'CENTRO', 'Título de Eleitor': '0194514770132', 'Nacionalidade': 'BRASILEIRO', 'Mãe': 'ELENA MARIA MARTINEZ RUIZ', 'Fone': '34417482'}\n",
      "{'CPF': '341.625.128-84', 'Número': '80', 'Sexo': 'FEMININO', 'Nome': 'DANIELA SALVADOR CASTRO SANTOS DE QUEIROZ', 'Logradouro': 'OUTROS SILVIO ERNESTO DE OLIVEIRA SANTOS', 'Situação Cadastral': 'REGULAR', 'Data de Nascimento': '01-06-1984', 'Cidade': 'GUARATINGUETA/SP', 'Cep': '12518-120', 'Bairro': 'PQ DO SOL', 'Título de Eleitor': '0323915640175', 'Nacionalidade': 'BRASILEIRO', 'Mãe': 'BEATRIS MARIA VIEIRA SALVADOR SANTOS', 'Fone': '00000000'}\n",
      "{'CPF': '301.659.948-19', 'Data de Nascimento': '16-07-1981', 'Situação Cadastral': 'REGULAR', 'Sexo': 'MASCULINO', 'Título de Eleitor': '0237864520159', 'Nacionalidade': 'BRASILEIRO', 'Mãe': 'MARIA EUNICE DE SOUZA SILVA', 'Nome': 'DANILLO ROBERTO DE SOUZA SILVA', 'Fone': '39075939'}\n",
      "{'CPF': '328.116.768-30', 'Número': '71', 'Sexo': 'MASCULINO', 'Nome': 'DANILO ALVES DE OLIVEIRA', 'Logradouro': 'RESIDENCIAL RUA ALCIDES DE OLIVEIRA GERMANO', 'Situação Cadastral': 'REGULAR', 'Data de Nascimento': '11-07-1985', 'Cidade': 'JAGUARIUNA/SP', 'Cep': '13820-000', 'Bairro': 'JD MAUA II', 'Título de Eleitor': '0287180070175', 'Complemento': 'B CASA', 'Nacionalidade': 'BRASILEIRO', 'Mãe': 'IRANI MARIM ALVES DE OLIVEIRA', 'Fone': '97761070'}\n",
      "{'CPF': '263.253.518-27', 'Número': '132', 'Sexo': 'MASCULINO', 'Nome': 'DANILO DENELCI DE OLIVEIRA', 'Logradouro': 'RUA PZOCOPIO FERREIRA', 'Situação Cadastral': 'REGULAR', 'Data de Nascimento': '11-05-1977', 'Cidade': 'JACAREI/SP', 'Cep': '12324-630', 'Bairro': 'J NOVA ESPERANA', 'Título de Eleitor': '0234213890124', 'Complemento': 'RESIDENICA', 'Nacionalidade': 'BRASILEIRO', 'Mãe': 'MARIA APARECIDA DE OLIVEIRA', 'Fone': '39563067'}\n",
      "{'CPF': '266.484.708-28', 'Número': '71', 'Sexo': 'MASCULINO', 'Nome': 'DANILO MULOTTO', 'Logradouro': 'RUA LOURENCO MICHELOCCI', 'Situação Cadastral': 'REGULAR', 'Data de Nascimento': '13-11-1977', 'Cidade': 'BOTUCATU/SP', 'Cep': '18608-160', 'Bairro': 'VILA NS FATIMA', 'Título de Eleitor': '0231283850175', 'Nacionalidade': 'BRASILEIRO', 'Mãe': 'CARMEM MULOTTO', 'Fone': '38824563'}\n",
      "{'CPF': '276.215.348-42', 'Número': '56', 'Sexo': 'MASCULINO', 'Nome': 'DANILO OLZON DIONYSIO DE SOUZA', 'Logradouro': 'RUA DAS COPAIBAS', 'Situação Cadastral': 'REGULAR', 'Data de Nascimento': '29-09-1980', 'Cidade': 'DIAMANTINA/MG', 'Cep': '39100-000', 'Bairro': 'VILA ARRAIOLOS', 'Título de Eleitor': '0277143820191', 'Nacionalidade': 'BRASILEIRO', 'Mãe': 'MARISTELA OLZON MONTEIRO DIONYSIO DE SOUZA', 'Fone': '88413092'}\n",
      "{'CPF': '367.201.328-57', 'Número': '538', 'Sexo': 'MASCULINO', 'Nome': 'DANILO PEREIRA TEODORO', 'Logradouro': 'RUA DOMINGOS PONTEL', 'Situação Cadastral': 'REGULAR', 'Data de Nascimento': '23-09-1988', 'Cidade': 'PARISI/SP', 'Cep': '15525-000', 'Bairro': 'CDHU', 'Título de Eleitor': '0328681900132', 'Nacionalidade': 'BRASILEIRO', 'Mãe': 'TEREZA PEREIRA DA SILVA', 'Fone': '00000000'}\n",
      "{'CPF': '313.284.438-17', 'Número': '292', 'Sexo': 'MASCULINO', 'Nome': 'DANILO RENATO DAMIAO', 'Logradouro': 'RUA ARI LEME BRISOLA', 'Situação Cadastral': 'REGULAR', 'Data de Nascimento': '20-01-1985', 'Cidade': 'LIMEIRA/SP', 'Cep': '13481-380', 'Bairro': 'PARQUE NOVO MUNDO', 'Título de Eleitor': '0308125740167', 'Nacionalidade': 'BRASILEIRO', 'Mãe': 'MARIA INES STEINLE DAMIAO', 'Fone': '34527230'}\n",
      "{'CPF': '177.194.388-25', 'Número': '543', 'Sexo': 'MASCULINO', 'Nome': 'DANILO RIBEIRO ROSA', 'Logradouro': 'RUA PEDRO CADENA', 'Situação Cadastral': 'REGULAR', 'Data de Nascimento': '20-12-1979', 'Cidade': 'ITAPEVA/SP', 'Cep': '18410-430', 'Bairro': 'CONJ HAB TANCREDO N', 'Título de Eleitor': '0221599850116', 'Nacionalidade': 'BRASILEIRO', 'Mãe': 'MARIA DE JESUS ROSA', 'Fone': '35225053'}\n",
      "{'CPF': '177.194.388-25', 'Número': '543', 'Sexo': 'MASCULINO', 'Nome': 'DANILO RIBEIRO ROSA', 'Logradouro': 'RUA PEDRO CADENA', 'Situação Cadastral': 'REGULAR', 'Data de Nascimento': '20-12-1979', 'Cidade': 'ITAPEVA/SP', 'Cep': '18410-430', 'Bairro': 'CONJ HAB TANCREDO N', 'Título de Eleitor': '0221599850116', 'Nacionalidade': 'BRASILEIRO', 'Mãe': 'MARIA DE JESUS ROSA', 'Fone': '35225053'}\n"
     ]
    },
    {
     "name": "stdout",
     "output_type": "stream",
     "text": [
      "{'CPF': '319.018.808-42', 'Número': '1327', 'Sexo': 'MASCULINO', 'Nome': 'DANILO SINHEI IHA', 'Logradouro': 'RUA SAO JOAO', 'Situação Cadastral': 'REGULAR', 'Data de Nascimento': '09-08-1983', 'Cidade': 'JABOTICABAL/SP', 'Cep': '14882-010', 'Bairro': 'APARECIDA', 'Título de Eleitor': '0309480840116', 'Nacionalidade': 'BRASILEIRO', 'Mãe': 'CELIA LAGUARDIA IHA', 'Fone': '32023544'}\n",
      "{'CPF': '122.737.288-40', 'Número': '101', 'Sexo': 'MASCULINO', 'Nome': 'DARCI DE SOUZA NUNES', 'Logradouro': 'RUA ISIS DE CAMARGO BARROS MARTINS', 'Situação Cadastral': 'REGULAR', 'Data de Nascimento': '26-04-1972', 'Cidade': 'SOROCABA/SP', 'Cep': '18077-330', 'Bairro': 'JARDIM SANTO ANDRE', 'Título de Eleitor': '0273093950191', 'Nacionalidade': 'BRASILEIRO', 'Mãe': 'LUZIA FERREIRA NUNES', 'Fone': '97052132'}\n",
      "{'CPF': '173.036.908-16', 'Número': '110', 'Sexo': 'MASCULINO', 'Nome': 'DARCI JUVINIANO DA SILVA', 'Logradouro': 'RUA LAURA', 'Situação Cadastral': 'REGULAR', 'Data de Nascimento': '06-12-1961', 'Cidade': 'MOGI DAS CRUZES/SP', 'Cep': '08772-130', 'Bairro': 'J MARGARIDA', 'Título de Eleitor': '0136769200191', 'Nacionalidade': 'BRASILEIRO', 'Mãe': 'OLIMPIA MOREIRA DA SILVA', 'Fone': '46457678'}\n",
      "{'CPF': '173.389.388-14', 'Número': '130', 'Sexo': 'MASCULINO', 'Nome': 'DARCI PAOLINI JUNIOR', 'Logradouro': 'RUA IJACI', 'Situação Cadastral': 'REGULAR', 'Data de Nascimento': '19-02-1969', 'Cidade': 'ITAQUAQUECETUBA/SP', 'Cep': '08573-110', 'Bairro': 'VILA BRUNO', 'Título de Eleitor': '0173229640167', 'Nacionalidade': 'BRASILEIRO', 'Mãe': 'LILIAN MARTA SOARES PAOLINI', 'Fone': '46472495'}\n",
      "{'CPF': '507.891.399-87', 'Número': '911', 'Sexo': 'MASCULINO', 'Nome': 'DARCI RODRIGUES DE MORAES', 'Logradouro': 'OUTROS BELA VISTA', 'Situação Cadastral': 'REGULAR', 'Data de Nascimento': '04-11-1964', 'Cidade': 'ARUJA/SP', 'Cep': '07435-445', 'Bairro': 'CAPUTERA', 'Título de Eleitor': '0105358710612', 'Complemento': 'COND ARUJAZINHO I', 'Nacionalidade': 'BRASILEIRO', 'Mãe': 'ALAIDE DA SILVA MORAES', 'Fone': '00000000'}\n",
      "{'CPF': '042.244.478-27', 'Número': '142', 'Sexo': 'MASCULINO', 'Nome': 'DARCI SEBASTIAO SERIO JUNIOR', 'Logradouro': 'AVENIDA PEDRO FORNER', 'Situação Cadastral': 'REGULAR', 'Data de Nascimento': '20-01-1959', 'Cidade': 'ENGENHEIRO COELHO/SP', 'Cep': '13165-000', 'Bairro': 'CENTRO', 'Título de Eleitor': '0031364070116', 'Nacionalidade': 'BRASILEIRO', 'Mãe': 'DALVA IVONE GALLAO SERIO', 'Fone': '38579298'}\n",
      "{'CPF': '105.563.938-13', 'Número': '141', 'Sexo': 'MASCULINO', 'Nome': 'DARCIO GUIMARAES ULIAN', 'Logradouro': 'RUA SOLDADO ALC BOBADILHA', 'Situação Cadastral': 'REGULAR', 'Data de Nascimento': '14-08-1971', 'Cidade': 'SAO PAULO/SP', 'Cep': '02146-010', 'Bairro': 'VILA SABRINA', 'Título de Eleitor': '0203415080167', 'Nacionalidade': 'BRASILEIRO', 'Mãe': 'MARIA HELENA GUIMARAES ULIAN', 'Fone': '34775764'}\n",
      "{'CPF': '007.762.844-60', 'Número': '65', 'Sexo': 'MASCULINO', 'Nome': 'DACIO JOSE BATISTA', 'Logradouro': 'RUA HENZO NAKANO', 'Situação Cadastral': 'REGULAR', 'Data de Nascimento': '30-05-1978', 'Cidade': 'SAO BERNARDO DO CAMPO/SP', 'Cep': '09811-370', 'Bairro': 'JD JERUSALEM', 'Título de Eleitor': '0026185691252', 'Complemento': 'CASA 02', 'Nacionalidade': 'BRASILEIRO', 'Mãe': 'MARIA HELENA BATISTA', 'Fone': '43962828'}\n",
      "{'CPF': '024.490.448-09', 'Número': '416', 'Sexo': 'MASCULINO', 'Ano do Óbito': '2005', 'Nome': 'DARCI VERONEZI', 'Logradouro': 'RUA JOSE BONIFACIO', 'Situação Cadastral': 'CANCELADA POR ÓBITO SEM ESPÓLIO', 'Data de Nascimento': '16-04-1960', 'Cidade': 'ATIBAIA/SP', 'Cep': '12940-000', 'Bairro': 'CENTRO', 'Título de Eleitor': '0000000000000', 'Nacionalidade': 'BRASILEIRO', 'Mãe': 'TEREZINHA PRODOSSIMO VERONEZI', 'Fone': '00000000'}\n",
      "{'CPF': '195.837.278-14', 'Número': '812', 'Sexo': 'MASCULINO', 'Nome': 'DARIO FERREIRA LIMA', 'Logradouro': 'RUA JOAQUIM OLIVERIA FREITAS', 'Situação Cadastral': 'REGULAR', 'Data de Nascimento': '26-06-1975', 'Cidade': 'SAO PAULO/SP', 'Cep': '05133-000', 'Bairro': 'VILA MANGALOT', 'Título de Eleitor': '0211002560191', 'Complemento': 'APTO 82 8 ANDAR', 'Nacionalidade': 'BRASILEIRO', 'Mãe': 'MARIA DE FATIMA MACIEL LIMA', 'Fone': '58198608'}\n",
      "{'CPF': '002.482.808-48', 'Número': '49', 'Sexo': 'MASCULINO', 'Nome': 'DARIO GONCALVES DE LIMA', 'Logradouro': 'RUA VISCONDE DE CAIRU', 'Situação Cadastral': 'REGULAR', 'Data de Nascimento': '29-10-1959', 'Cidade': 'PORTO VELHO/RO', 'Cep': '76848-000', 'Bairro': 'NOVA CALIFORNIA', 'Título de Eleitor': '0038391830108', 'Nacionalidade': 'BRASILEIRO', 'Mãe': 'EUNICE BEZERRA DE LIMA', 'Fone': '32531294'}\n",
      "{'CPF': '101.247.628-67', 'Número': '154', 'Sexo': 'MASCULINO', 'Nome': 'DARLI ALVES DE SOUZA', 'Logradouro': 'AVENIDA MOFARREJ', 'Situação Cadastral': 'REGULAR', 'Data de Nascimento': '17-05-1968', 'Cidade': 'SAO PAULO/SP', 'Cep': '05311-000', 'Bairro': 'VILA LEOPOLDINA', 'Título de Eleitor': '0139299030132', 'Complemento': 'BLOCO 4 AP 62', 'Nacionalidade': 'BRASILEIRO', 'Mãe': 'RUTH ALVES DE SOUZA', 'Fone': '25744497'}\n",
      "{'CPF': '066.274.058-06', 'Número': '4900', 'Sexo': 'MASCULINO', 'Nome': 'DASSER LETTIERE JUNIOR', 'Logradouro': 'RUA CEL. SPINOLA DE CASTRO', 'Situação Cadastral': 'REGULAR', 'Data de Nascimento': '21-02-1965', 'Cidade': 'SAO JOSE DO RIO PRETO/SP', 'Cep': '15015-500', 'Bairro': 'IMPERIAL', 'Título de Eleitor': '0066213200175', 'Complemento': 'APARTAMENTO 164', 'Nacionalidade': 'BRASILEIRO', 'Mãe': 'RESENETHE DANAGA', 'Fone': '81128181'}\n",
      "{'CPF': '105.672.778-01', 'Número': '000000', 'Sexo': 'MASCULINO', 'Nome': 'DAVI VIEIRA DA SILVA', 'Logradouro': 'RUA EDIPO VILA LAURITA', 'Situação Cadastral': 'REGULAR', 'Data de Nascimento': '30-06-1967', 'Cidade': 'GUARULHOS/SP', 'Cep': '07262-350', 'Bairro': 'PIMENTAS', 'Título de Eleitor': '0113536250191', 'Complemento': '8A', 'Nacionalidade': 'BRASILEIRO', 'Mãe': 'JANITA ROSA DE SOUZA', 'Fone': '00000000'}\n",
      "{'CPF': '607.170.508-82', 'Número': '585', 'Sexo': 'MASCULINO', 'Nome': 'DAVI DOS SANTOS', 'Logradouro': 'RUA SEBASTIANA DE JESUS', 'Situação Cadastral': 'SUSPENSA', 'Data de Nascimento': '05-03-1949', 'Cidade': 'ITAI/SP', 'Cep': '18730-000', 'Bairro': 'JD. N. HORIZONTE', 'Título de Eleitor': '0000000000000', 'Nacionalidade': 'BRASILEIRO', 'Mãe': 'MARIA JOAQUINA DOS SANTOS', 'Fone': '00000000'}\n",
      "{'CPF': '166.913.648-56', 'Número': '80', 'Sexo': 'MASCULINO', 'Nome': 'DAVI GARCIA GUIMARAES', 'Logradouro': 'OUTROS JULIO MACIEL', 'Situação Cadastral': 'REGULAR', 'Data de Nascimento': '10-12-1974', 'Cidade': 'SAO PAULO/SP', 'Cep': '05204-000', 'Bairro': 'VL NOVA PERUS', 'Título de Eleitor': '0264967760132', 'Complemento': 'CASA', 'Nacionalidade': 'BRASILEIRO', 'Mãe': 'NATALINA GARCIA GUIMARAES', 'Fone': '00000000'}\n",
      "{'CPF': '060.203.298-95', 'Número': '240', 'Sexo': 'MASCULINO', 'Nome': 'DAVI GOMES DA SILVA', 'Logradouro': 'RUA CAMPO DA VINHA', 'Situação Cadastral': 'REGULAR', 'Data de Nascimento': '16-04-1962', 'Cidade': 'SAO PAULO/SP', 'Cep': '03572-090', 'Bairro': 'JD STA TEREZINHA', 'Título de Eleitor': '0212003420191', 'Nacionalidade': 'BRASILEIRO', 'Mãe': 'JOSEF CRISTINA DA SIVLA', 'Fone': '27224953'}\n",
      "{'CPF': '109.875.378-06', 'Número': '59', 'Sexo': 'MASCULINO', 'Nome': 'DAVI JOSE MELLON', 'Logradouro': 'AVENIDA DR MAXIMILIANO BARUTO', 'Situação Cadastral': 'REGULAR', 'Data de Nascimento': '24-09-1970', 'Cidade': 'ARARAS/SP', 'Cep': '13607-339', 'Bairro': 'JD.UNIVERSITARIO', 'Título de Eleitor': '0188856420116', 'Nacionalidade': 'BRASILEIRO', 'Mãe': 'CLAUDINA ZUNTINI MELLON', 'Fone': '35419373'}\n",
      "{'CPF': '253.883.678-60', 'Número': '92', 'Sexo': 'MASCULINO', 'Nome': 'DAVI PEREIRA DOMINGUES', 'Logradouro': 'RUA MANOEL JACIINTO DE ANDRADE', 'Situação Cadastral': 'REGULAR', 'Data de Nascimento': '06-04-1976', 'Cidade': 'ITAPECERICA DA SERRA/SP', 'Cep': '06866-140', 'Bairro': 'CRISPIM', 'Título de Eleitor': '0218742480175', 'Nacionalidade': 'BRASILEIRO', 'Mãe': 'CECILIA CELESTINO DOMINGUES', 'Fone': '46698314'}\n",
      "{'CPF': '270.180.808-19', 'Número': '475', 'Sexo': 'MASCULINO', 'Nome': 'DAVI SEBASTIAO DE QUEIROZ', 'Logradouro': 'RUA ABEL LUIZ DE SOUZA', 'Situação Cadastral': 'REGULAR', 'Data de Nascimento': '20-02-1971', 'Cidade': 'PARAISOPOLIS/MG', 'Cep': '37660-000', 'Bairro': 'COSTAS', 'Título de Eleitor': '0226838910191', 'Nacionalidade': 'BRASILEIRO', 'Mãe': 'MARIA APARECIDA DOS SANTOS', 'Fone': '97261188'}\n"
     ]
    },
    {
     "name": "stdout",
     "output_type": "stream",
     "text": [
      "{'CPF': '180.330.558-47', 'Número': '197', 'Sexo': 'MASCULINO', 'Nome': 'DAVID ALVARO DA SILVA', 'Logradouro': 'RUA JAIME DUARTE', 'Situação Cadastral': 'REGULAR', 'Data de Nascimento': '04-05-1976', 'Cidade': 'CUBATAO/SP', 'Cep': '11534-040', 'Bairro': 'JD NOVA REPUBLICA', 'Título de Eleitor': '0238927620183', 'Nacionalidade': 'BRASILEIRO', 'Mãe': 'EUNICE SILVA', 'Fone': '78506205'}\n",
      "{'CPF': '215.687.328-30', 'Número': '543', 'Sexo': 'MASCULINO', 'Nome': 'DAVID CORREIA RODRIGUES SILVA', 'Logradouro': 'AVENIDA ENG FRANCISCO PRESTES MAIA', 'Situação Cadastral': 'REGULAR', 'Data de Nascimento': '23-09-1979', 'Cidade': 'SAO JOSE DOS CAMPOS/SP', 'Cep': '12240-680', 'Bairro': 'JD DAS INDUSTRIAS', 'Título de Eleitor': '0286848180108', 'Nacionalidade': 'BRASILEIRO', 'Mãe': 'SUELY RODRIGUES SILVA', 'Fone': '00000000'}\n",
      "{'CPF': '308.926.458-73', 'Número': '62', 'Sexo': 'MASCULINO', 'Nome': 'DAVID CRISTOFHOR DE LIMA', 'Logradouro': 'RUA AGNALDO MACEDO', 'Situação Cadastral': 'REGULAR', 'Data de Nascimento': '02-10-1983', 'Cidade': 'CAMPINAS/SP', 'Cep': '13040-000', 'Bairro': 'VILA GEORGINA', 'Título de Eleitor': '0289897620191', 'Nacionalidade': 'BRASILEIRO', 'Mãe': 'CICERA LOPES DE LIMA', 'Fone': '32217385'}\n",
      "{'CPF': '097.324.248-50', 'Data de Nascimento': '02-10-1966', 'Situação Cadastral': 'REGULAR', 'Sexo': 'MASCULINO', 'Título de Eleitor': '0101009910175', 'Nacionalidade': 'BRASILEIRO', 'Mãe': 'PEDRINA RODRIGUES', 'Nome': 'DAVID DA SILVA RODRIGUES FILHO', 'Fone': '43354493'}\n",
      "{'CPF': '943.959.428-49', 'Número': '65', 'Sexo': 'MASCULINO', 'Nome': 'DAVID LEITE PARANAIBA', 'Logradouro': 'RUA PONTINS', 'Situação Cadastral': 'REGULAR', 'Data de Nascimento': '31-10-1958', 'Cidade': 'SAO PAULO/SP', 'Cep': '02404-010', 'Bairro': 'SANTANA', 'Título de Eleitor': '0090824780141', 'Complemento': 'APTO 192', 'Nacionalidade': 'BRASILEIRO', 'Mãe': 'EVA JOANA LEITE PARANAIBA', 'Fone': '29580768'}\n",
      "{'CPF': '943.959.428-49', 'Número': '65', 'Sexo': 'MASCULINO', 'Nome': 'DAVID LEITE PARANAIBA', 'Logradouro': 'RUA PONTINS', 'Situação Cadastral': 'REGULAR', 'Data de Nascimento': '31-10-1958', 'Cidade': 'SAO PAULO/SP', 'Cep': '02404-010', 'Bairro': 'SANTANA', 'Título de Eleitor': '0090824780141', 'Complemento': 'APTO 192', 'Nacionalidade': 'BRASILEIRO', 'Mãe': 'EVA JOANA LEITE PARANAIBA', 'Fone': '29580768'}\n",
      "{'CPF': '114.187.738-40', 'Número': '274', 'Sexo': 'MASCULINO', 'Nome': 'DAVID PEREIRA DE CARVALHO', 'Logradouro': 'RUA BOAVENTURA DE SOUZA', 'Situação Cadastral': 'REGULAR', 'Data de Nascimento': '19-01-1964', 'Cidade': 'SAO PAULO/SP', 'Cep': '02230-015', 'Bairro': 'PARQUE EDU CHAVES', 'Título de Eleitor': '0269740520108', 'Nacionalidade': 'BRASILEIRO', 'Mãe': 'DIONISIA SILVA PAIS', 'Fone': '62446136'}\n",
      "{'CPF': '281.652.348-97', 'Número': '1215', 'Sexo': 'MASCULINO', 'Nome': 'DAVID RIBEIRO CAVALHEIRO', 'Logradouro': 'AVENIDA 35', 'Situação Cadastral': 'PENDENTE DE REGULARIZAÇÃO', 'Data de Nascimento': '16-10-1979', 'Cidade': 'BARRETOS/SP', 'Cep': '14780-380', 'Bairro': 'BARONI', 'Título de Eleitor': '0292211010159', 'Complemento': 'CASA', 'Nacionalidade': 'BRASILEIRO', 'Mãe': 'MARIA DAS DORES CAVALHEIRO', 'Fone': '03238635'}\n",
      "{'CPF': '274.592.018-98', 'Número': '276', 'Sexo': 'MASCULINO', 'Nome': 'DAVID ROGERIO FERREIRA', 'Logradouro': 'RUA FELICIO VITTI', 'Situação Cadastral': 'REGULAR', 'Data de Nascimento': '04-10-1979', 'Cidade': 'CORDEIROPOLIS/SP', 'Cep': '13490-000', 'Bairro': 'JARDIM CORDEIRO', 'Título de Eleitor': '0224481890141', 'Nacionalidade': 'BRASILEIRO', 'Mãe': 'FATIMA APARECIDA FERREIRA', 'Fone': '35465091'}\n",
      "None\n",
      "{'CPF': '574.610.588-00', 'Número': '1246', 'Sexo': 'MASCULINO', 'Nome': 'DECIO FANTOZZI', 'Logradouro': 'RUA BORGES LAGOA', 'Situação Cadastral': 'REGULAR', 'Data de Nascimento': '26-11-1952', 'Cidade': 'SAO PAULO/SP', 'Cep': '04038-001', 'Bairro': 'VILA CLEMENTINO', 'Título de Eleitor': '0003315780191', 'Complemento': 'AP 112', 'Nacionalidade': 'BRASILEIRO', 'Mãe': 'ARACELIS PARRA MEDINA FANTOZZI', 'Fone': '55498370'}\n",
      "{'CPF': '272.689.508-53', 'Número': '36', 'Sexo': 'MASCULINO', 'Nome': 'DECIO FOLTRAN', 'Logradouro': 'RUA DR PEIXE ABADE', 'Situação Cadastral': 'REGULAR', 'Data de Nascimento': '05-06-1944', 'Cidade': 'LEME/SP', 'Cep': '13611-430', 'Bairro': 'BELA VISTA', 'Título de Eleitor': '0062951020159', 'Nacionalidade': 'BRASILEIRO', 'Mãe': 'JOANNA TONON FOLTRAN', 'Fone': '35715909'}\n",
      "None\n",
      "{'CPF': '320.477.808-88', 'Número': '83', 'Sexo': 'MASCULINO', 'Nome': 'DEILDO DE OLIVEIRA', 'Logradouro': 'RUA MINAS GERAIS', 'Situação Cadastral': 'REGULAR', 'Data de Nascimento': '02-12-1983', 'Cidade': 'ENGENHEIRO COELHO/SP', 'Cep': '13165-000', 'Bairro': 'JD AMERICA', 'Título de Eleitor': '0218165150132', 'Nacionalidade': 'BRASILEIRO', 'Mãe': 'LEONICE APARECIDA DE OLIVEIRA', 'Fone': '97382893'}\n",
      "{'CPF': '258.056.328-88', 'Número': '364', 'Sexo': 'MASCULINO', 'Nome': 'DEINES THAIZER TANNER', 'Logradouro': 'RUA MARIANA SALGADO DA ROCHA', 'Situação Cadastral': 'REGULAR', 'Data de Nascimento': '15-03-1976', 'Cidade': 'SUMARE/SP', 'Cep': '13172-150', 'Bairro': 'VILA ZILDA NATEL', 'Título de Eleitor': '0248751060191', 'Complemento': '-', 'Nacionalidade': 'BRASILEIRO', 'Mãe': 'ANTONIA JASCON TANNER', 'Fone': '00734081'}\n",
      "{'CPF': '102.913.628-93', 'Número': '270', 'Sexo': 'MASCULINO', 'Nome': 'DEJAIR DA ROCHA', 'Logradouro': 'RUA SANTA RITA DE CASSIA', 'Situação Cadastral': 'REGULAR', 'Data de Nascimento': '29-04-1971', 'Cidade': 'OSASCO/SP', 'Cep': '06190-050', 'Bairro': 'CENTRO', 'Título de Eleitor': '0020007151899', 'Complemento': 'KM 18', 'Nacionalidade': 'BRASILEIRO', 'Mãe': 'MARIA FRORENTINO DA ROCHA', 'Fone': '32723421'}\n",
      "{'CPF': '237.839.079-34', 'Número': '1000', 'Sexo': 'MASCULINO', 'Nome': 'DEJAIR DAVELLI', 'Logradouro': 'RUA MIRO VETORAZZO', 'Situação Cadastral': 'SUSPENSA', 'Data de Nascimento': '17-01-1953', 'Cidade': 'SAO BERNARDO DO CAMPO/SP', 'Cep': '09820-135', 'Bairro': 'DEMARCHI', 'Título de Eleitor': '0000000000000', 'Complemento': 'BL. 09 - APT. 102', 'Nacionalidade': 'BRASILEIRO', 'Mãe': 'HERONDINA ANICETO DAVELLI', 'Fone': '43479134'}\n",
      "{'CPF': '274.592.828-71', 'Número': '223', 'Sexo': 'MASCULINO', 'Nome': 'DELCHARLES FERNANDES', 'Logradouro': 'OUTROS CUNHA MOREIRA', 'Situação Cadastral': 'REGULAR', 'Data de Nascimento': '05-03-1979', 'Cidade': 'SANTOS/SP', 'Cep': '11050-231', 'Bairro': 'ENCRUZILHADA', 'Título de Eleitor': '0289834520108', 'Complemento': '506', 'Nacionalidade': 'BRASILEIRO', 'Mãe': 'ERICA TEREZINHA FERNANDES', 'Fone': '91722583'}\n",
      "{'CPF': '495.104.951-15', 'Número': '95', 'Sexo': 'MASCULINO', 'Nome': 'DELCIO LOPES DA SILVA', 'Logradouro': 'RUA SAO JOAO', 'Situação Cadastral': 'REGULAR', 'Data de Nascimento': '10-07-1973', 'Cidade': 'CORUMBA/MS', 'Cep': '79310-731', 'Bairro': 'MARIA LEITE', 'Título de Eleitor': '0010303391910', 'Nacionalidade': 'BRASILEIRO', 'Mãe': 'ANTONIA LOPES DA SILVA', 'Fone': '92652943'}\n",
      "{'CPF': '046.011.807-24', 'Número': 'S N', 'Sexo': 'MASCULINO', 'Nome': 'DELMARIO PAGUNG', 'Logradouro': 'ESTRADA PEDRA BRANCA', 'Situação Cadastral': 'REGULAR', 'Data de Nascimento': '07-09-1974', 'Cidade': 'DOMINGOS MARTINS/ES', 'Cep': '29260-000', 'Bairro': 'SEDE', 'Título de Eleitor': '0016400011414', 'Complemento': 'ZONA RURAL', 'Nacionalidade': 'BRASILEIRO', 'Mãe': 'TEREZINHA RAASCH PAGUNG', 'Fone': '00000000'}\n",
      "{'CPF': '216.335.438-54', 'Número': '5360', 'Sexo': 'MASCULINO', 'Nome': 'DELSO AUGUSTO JUNIOR', 'Logradouro': 'RUA GUERINO ANDRETTO', 'Situação Cadastral': 'REGULAR', 'Data de Nascimento': '01-05-1978', 'Cidade': 'VOTUPORANGA/SP', 'Cep': '15505-117', 'Bairro': 'PQRES DO LAGO', 'Título de Eleitor': '0241842480141', 'Nacionalidade': 'BRASILEIRO', 'Mãe': 'ELZA CORREA AUGUSTO', 'Fone': '34226194'}\n",
      "{'CPF': '216.877.918-05', 'Número': '9', 'Sexo': 'MASCULINO', 'Nome': 'DELZIO DEUSDETE DOS SANTOS', 'Logradouro': 'OUTROS JOSENOPOLIS', 'Situação Cadastral': 'REGULAR', 'Data de Nascimento': '05-11-1970', 'Cidade': 'SAO PAULO/SP', 'Cep': '08021-045', 'Bairro': 'VILA ROSARIA', 'Título de Eleitor': '0223447220167', 'Nacionalidade': 'BRASILEIRO', 'Mãe': 'GILDETE MATILDE DA SILVA', 'Fone': '20330671'}\n",
      "{'CPF': '879.414.579-20', 'Número': '30', 'Sexo': 'MASCULINO', 'Nome': 'DEMETRIO SEDLAK RIBEIRO', 'Logradouro': 'OUTROS IVO PICOLLI', 'Situação Cadastral': 'REGULAR', 'Data de Nascimento': '23-05-1970', 'Cidade': 'AMERICANA/SP', 'Cep': '13477-190', 'Bairro': 'JARDIM AMERICA II', 'Título de Eleitor': '0045574470620', 'Complemento': 'FDS', 'Nacionalidade': 'BRASILEIRO', 'Mãe': 'VLASTA APOLONIA SEDLAK', 'Fone': '34684504'}\n"
     ]
    },
    {
     "name": "stdout",
     "output_type": "stream",
     "text": [
      "{'CPF': '214.005.168-89', 'Número': '30', 'Sexo': 'MASCULINO', 'Nome': 'DEMETRIUS DE ANDRADE NASCIMENTO', 'Logradouro': 'RUA IBITIGUACU', 'Situação Cadastral': 'REGULAR', 'Data de Nascimento': '01-08-1977', 'Cidade': 'SAO PAULO/SP', 'Cep': '03578-180', 'Bairro': 'JARDIM ELIANE', 'Título de Eleitor': '0243858470175', 'Nacionalidade': 'BRASILEIRO', 'Mãe': 'IRACEMA DE ANDRADE NASCIMENTO', 'Fone': '22530418'}\n",
      "{'CPF': '214.005.168-89', 'Número': '30', 'Sexo': 'MASCULINO', 'Nome': 'DEMETRIUS DE ANDRADE NASCIMENTO', 'Logradouro': 'RUA IBITIGUACU', 'Situação Cadastral': 'REGULAR', 'Data de Nascimento': '01-08-1977', 'Cidade': 'SAO PAULO/SP', 'Cep': '03578-180', 'Bairro': 'JARDIM ELIANE', 'Título de Eleitor': '0243858470175', 'Nacionalidade': 'BRASILEIRO', 'Mãe': 'IRACEMA DE ANDRADE NASCIMENTO', 'Fone': '22530418'}\n",
      "{'CPF': '155.419.058-42', 'Número': '1286', 'Sexo': 'MASCULINO', 'Nome': 'DEMETRIUS FERNANDO LUCIO', 'Logradouro': 'RUA BERTIOGA', 'Situação Cadastral': 'REGULAR', 'Data de Nascimento': '06-01-1972', 'Cidade': 'AMERICANA/SP', 'Cep': '13467-570', 'Bairro': 'PQ NOVO MUNDO', 'Título de Eleitor': '0173509630116', 'Nacionalidade': 'BRASILEIRO', 'Mãe': 'VERA APARECIDA LUCIO', 'Fone': '04492322'}\n",
      "{'CPF': '313.480.528-64', 'Número': '229', 'Sexo': 'MASCULINO', 'Nome': 'DEMIVAL VASQUES FILHO', 'Logradouro': 'RUA CALIXTO ESTEVAO BARBOSA', 'Situação Cadastral': 'REGULAR', 'Data de Nascimento': '28-06-1983', 'Cidade': 'SAO JOSE DO RIO PRETO/SP', 'Cep': '15093-312', 'Bairro': 'QUINTA DO GOLFE', 'Título de Eleitor': '0303035150132', 'Nacionalidade': 'BRASILEIRO', 'Mãe': 'DULCE REGINA LOPES VASQUES', 'Fone': '81804224'}\n",
      "{'CPF': '070.857.738-55', 'Número': '431', 'Sexo': 'MASCULINO', 'Nome': 'DENER JORGE PIRES', 'Logradouro': 'RUA ARMANDO PETRELA', 'Situação Cadastral': 'REGULAR', 'Data de Nascimento': '29-08-1965', 'Cidade': 'SAO PAULO/SP', 'Cep': '05676-900', 'Bairro': 'CIDADE JARDIM', 'Título de Eleitor': '0111408050191', 'Complemento': 'IPES APTO 25 TORRE 09', 'Nacionalidade': 'BRASILEIRO', 'Mãe': 'ZULMIRA JORGE PIRES', 'Fone': '33020911'}\n",
      "{'CPF': '172.129.298-59', 'Número': '86', 'Sexo': 'MASCULINO', 'Nome': 'DENILSON ANTONIO TRIGO CALIAN', 'Logradouro': 'RUA NEVILE GIOVA', 'Situação Cadastral': 'SUSPENSA', 'Data de Nascimento': '04-07-1975', 'Cidade': 'ITAJOBI/SP', 'Cep': '15840-000', 'Bairro': 'JARDIM EXPLANADA', 'Título de Eleitor': '0218495200108', 'Nacionalidade': 'BRASILEIRO', 'Mãe': 'APARECIDA TRIGO CALIAN', 'Fone': '35461036'}\n",
      "{'CPF': '172.063.718-09', 'Número': '484', 'Sexo': 'MASCULINO', 'Nome': 'DENILSON ALVES PEREIRA', 'Logradouro': 'RUA JOAO BROCHI', 'Situação Cadastral': 'REGULAR', 'Data de Nascimento': '21-04-1977', 'Cidade': 'TAPIRATIBA/SP', 'Cep': '13760-000', 'Bairro': 'SANTA DEOLINDA', 'Título de Eleitor': '0188962040124', 'Nacionalidade': 'BRASILEIRO', 'Mãe': 'LEONICE ALVES PEREIRA', 'Fone': '36572510'}\n",
      "{'CPF': '087.868.088-85', 'Número': '86', 'Sexo': 'MASCULINO', 'Nome': 'DENILSON DONISETI COLA', 'Logradouro': 'OUTROS AUGUSTO DE SOUZA SARDINHA', 'Situação Cadastral': 'REGULAR', 'Data de Nascimento': '27-11-1966', 'Cidade': 'LEME/SP', 'Cep': '13611-065', 'Bairro': 'JD SAULO', 'Título de Eleitor': '0405490450132', 'Nacionalidade': 'BRASILEIRO', 'Mãe': 'MARIA IRACEMA PULTZ COLA', 'Fone': '00000000'}\n"
     ]
    }
   ],
   "source": [
    "counter = 0\n",
    "\n",
    "for cpf in lista_cpf[1479:]:\n",
    "    \n",
    "    while len(cpf) < 11:\n",
    "        \n",
    "        cpf = '0' + str(cpf)\n",
    "    \n",
    "    registro = sapiens.get_registro(cpf)    \n",
    "   \n",
    "    if not registro:\n",
    "    \n",
    "        if len(cpf) == 11:\n",
    "            \n",
    "            sapiens.pesquisa_dados(cpf)            \n",
    "            \n",
    "        else:\n",
    "            \n",
    "            sapiens.registros[cpf] = None\n",
    "            \n",
    "            \n",
    "        registro = sapiens.get_registro(cpf)\n",
    "        \n",
    "        \n",
    "    print(registro)            \n",
    "    \n",
    "    df = df.append(pd.Series(registro), ignore_index=True)\n",
    "    \n",
    "    counter += 1\n",
    "    \n",
    "    if counter > 250:\n",
    "        \n",
    "        sapiens.close()\n",
    "        \n",
    "        del sapiens\n",
    "        \n",
    "        print(gc.collect())\n",
    "        \n",
    "        driver = webdriver.Firefox()\n",
    "        \n",
    "        sapiens = LoginPage(driver).login('33831640807', 'Fer465023@ur_')\n",
    "        \n",
    "        sleep(10)\n",
    "        \n",
    "        counter = 0  "
   ]
  },
  {
   "cell_type": "code",
   "execution_count": null,
   "metadata": {},
   "outputs": [],
   "source": [
    "df = df.fillna(\"\")"
   ]
  },
  {
   "cell_type": "code",
   "execution_count": null,
   "metadata": {},
   "outputs": [],
   "source": [
    "cols = [\"Logradouro\", \"Número\", \"Complemento\", \"Bairro\", \"Cep\", \"Cidade\"]\n",
    "\n",
    "df[\"Endereço_Completo\"] = df.apply(lambda row: \" \".join([str(row[\"Logradouro\"]), \n",
    "                                                         str(row[\"Número\"]), \n",
    "                                                         str(row[\"Complemento\"]),\n",
    "                                                         str(row[\"Bairro\"]), \"\\n\", \"CEP:\", \n",
    "                                                         str(row[\"Cep\"]), \n",
    "                                                         str(row[\"Cidade\"])]\n",
    "                                                       ), axis=1\n",
    "                                  )"
   ]
  },
  {
   "cell_type": "code",
   "execution_count": 24,
   "metadata": {},
   "outputs": [],
   "source": [
    "df.to_excel(\"registros_cadin.csv\", index=False)"
   ]
  },
  {
   "cell_type": "code",
   "execution_count": 25,
   "metadata": {},
   "outputs": [
    {
     "ename": "APIError",
     "evalue": "{\n  \"error\": {\n    \"code\": 401,\n    \"message\": \"Request had invalid authentication credentials. Expected OAuth 2 access token, login cookie or other valid authentication credential. See https://developers.google.com/identity/sign-in/web/devconsole-project.\",\n    \"status\": \"UNAUTHENTICATED\"\n  }\n}\n",
     "output_type": "error",
     "traceback": [
      "\u001b[1;31m---------------------------------------------------------------------------\u001b[0m",
      "\u001b[1;31mAPIError\u001b[0m                                  Traceback (most recent call last)",
      "\u001b[1;32m<ipython-input-25-7b2d7338a1b3>\u001b[0m in \u001b[0;36m<module>\u001b[1;34m()\u001b[0m\n\u001b[1;32m----> 1\u001b[1;33m \u001b[0mgs_df\u001b[0m\u001b[1;33m.\u001b[0m\u001b[0mset_with_dataframe\u001b[0m\u001b[1;33m(\u001b[0m\u001b[0mregistros_rf\u001b[0m\u001b[1;33m,\u001b[0m \u001b[0mdf\u001b[0m\u001b[1;33m,\u001b[0m \u001b[0mrow\u001b[0m\u001b[1;33m=\u001b[0m\u001b[1;36m142\u001b[0m\u001b[1;33m,\u001b[0m \u001b[0minclude_column_header\u001b[0m\u001b[1;33m=\u001b[0m\u001b[1;32mFalse\u001b[0m\u001b[1;33m)\u001b[0m\u001b[1;33m\u001b[0m\u001b[0m\n\u001b[0m\u001b[0;32m      2\u001b[0m \u001b[1;31m#gs_df.set_with_dataframe(registros, pd.DataFrame(df[\"Nome\"]), row=2, col=9, include_column_header=False)\u001b[0m\u001b[1;33m\u001b[0m\u001b[1;33m\u001b[0m\u001b[0m\n\u001b[0;32m      3\u001b[0m \u001b[1;31m#gs_df.set_with_dataframe(registros, pd.DataFrame(df[\"Endereço_Completo\"]), row=2, col=12, include_column_header=False)\u001b[0m\u001b[1;33m\u001b[0m\u001b[1;33m\u001b[0m\u001b[0m\n",
      "\u001b[1;32mC:\\Users\\rsilva\\miniconda3\\envs\\automation\\lib\\site-packages\\gspread_dataframe.py\u001b[0m in \u001b[0;36mset_with_dataframe\u001b[1;34m(worksheet, dataframe, row, col, include_index, include_column_header, resize, allow_formulas)\u001b[0m\n\u001b[0;32m    209\u001b[0m     \u001b[0mlogger\u001b[0m\u001b[1;33m.\u001b[0m\u001b[0mdebug\u001b[0m\u001b[1;33m(\u001b[0m\u001b[1;34m\"%d cell updates to send\"\u001b[0m\u001b[1;33m,\u001b[0m \u001b[0mlen\u001b[0m\u001b[1;33m(\u001b[0m\u001b[0mcells_to_update\u001b[0m\u001b[1;33m)\u001b[0m\u001b[1;33m)\u001b[0m\u001b[1;33m\u001b[0m\u001b[0m\n\u001b[0;32m    210\u001b[0m \u001b[1;33m\u001b[0m\u001b[0m\n\u001b[1;32m--> 211\u001b[1;33m     \u001b[0mresp\u001b[0m \u001b[1;33m=\u001b[0m \u001b[0mworksheet\u001b[0m\u001b[1;33m.\u001b[0m\u001b[0mupdate_cells\u001b[0m\u001b[1;33m(\u001b[0m\u001b[0mcells_to_update\u001b[0m\u001b[1;33m,\u001b[0m \u001b[0mvalue_input_option\u001b[0m\u001b[1;33m=\u001b[0m\u001b[1;34m'USER_ENTERED'\u001b[0m\u001b[1;33m)\u001b[0m\u001b[1;33m\u001b[0m\u001b[0m\n\u001b[0m\u001b[0;32m    212\u001b[0m     \u001b[0mlogger\u001b[0m\u001b[1;33m.\u001b[0m\u001b[0mdebug\u001b[0m\u001b[1;33m(\u001b[0m\u001b[1;34m\"Cell update response: %s\"\u001b[0m\u001b[1;33m,\u001b[0m \u001b[0mresp\u001b[0m\u001b[1;33m)\u001b[0m\u001b[1;33m\u001b[0m\u001b[0m\n\u001b[0;32m    213\u001b[0m \u001b[1;33m\u001b[0m\u001b[0m\n",
      "\u001b[1;32mC:\\Users\\rsilva\\miniconda3\\envs\\automation\\lib\\site-packages\\gspread\\models.py\u001b[0m in \u001b[0;36mupdate_cells\u001b[1;34m(self, cell_list, value_input_option)\u001b[0m\n\u001b[0;32m    607\u001b[0m             },\n\u001b[0;32m    608\u001b[0m             body={\n\u001b[1;32m--> 609\u001b[1;33m                 \u001b[1;34m'values'\u001b[0m\u001b[1;33m:\u001b[0m \u001b[0mvalues_rect\u001b[0m\u001b[1;33m\u001b[0m\u001b[0m\n\u001b[0m\u001b[0;32m    610\u001b[0m             }\n\u001b[0;32m    611\u001b[0m         )\n",
      "\u001b[1;32mC:\\Users\\rsilva\\miniconda3\\envs\\automation\\lib\\site-packages\\gspread\\models.py\u001b[0m in \u001b[0;36mvalues_update\u001b[1;34m(self, range, params, body)\u001b[0m\n\u001b[0;32m    113\u001b[0m     \u001b[1;32mdef\u001b[0m \u001b[0mvalues_update\u001b[0m\u001b[1;33m(\u001b[0m\u001b[0mself\u001b[0m\u001b[1;33m,\u001b[0m \u001b[0mrange\u001b[0m\u001b[1;33m,\u001b[0m \u001b[0mparams\u001b[0m\u001b[1;33m=\u001b[0m\u001b[1;32mNone\u001b[0m\u001b[1;33m,\u001b[0m \u001b[0mbody\u001b[0m\u001b[1;33m=\u001b[0m\u001b[1;32mNone\u001b[0m\u001b[1;33m)\u001b[0m\u001b[1;33m:\u001b[0m\u001b[1;33m\u001b[0m\u001b[0m\n\u001b[0;32m    114\u001b[0m         \u001b[0murl\u001b[0m \u001b[1;33m=\u001b[0m \u001b[0mSPREADSHEET_VALUES_URL\u001b[0m \u001b[1;33m%\u001b[0m \u001b[1;33m(\u001b[0m\u001b[0mself\u001b[0m\u001b[1;33m.\u001b[0m\u001b[0mid\u001b[0m\u001b[1;33m,\u001b[0m \u001b[0mquote\u001b[0m\u001b[1;33m(\u001b[0m\u001b[0mrange\u001b[0m\u001b[1;33m,\u001b[0m \u001b[0msafe\u001b[0m\u001b[1;33m=\u001b[0m\u001b[1;34m''\u001b[0m\u001b[1;33m)\u001b[0m\u001b[1;33m)\u001b[0m\u001b[1;33m\u001b[0m\u001b[0m\n\u001b[1;32m--> 115\u001b[1;33m         \u001b[0mr\u001b[0m \u001b[1;33m=\u001b[0m \u001b[0mself\u001b[0m\u001b[1;33m.\u001b[0m\u001b[0mclient\u001b[0m\u001b[1;33m.\u001b[0m\u001b[0mrequest\u001b[0m\u001b[1;33m(\u001b[0m\u001b[1;34m'put'\u001b[0m\u001b[1;33m,\u001b[0m \u001b[0murl\u001b[0m\u001b[1;33m,\u001b[0m \u001b[0mparams\u001b[0m\u001b[1;33m=\u001b[0m\u001b[0mparams\u001b[0m\u001b[1;33m,\u001b[0m \u001b[0mjson\u001b[0m\u001b[1;33m=\u001b[0m\u001b[0mbody\u001b[0m\u001b[1;33m)\u001b[0m\u001b[1;33m\u001b[0m\u001b[0m\n\u001b[0m\u001b[0;32m    116\u001b[0m         \u001b[1;32mreturn\u001b[0m \u001b[0mr\u001b[0m\u001b[1;33m.\u001b[0m\u001b[0mjson\u001b[0m\u001b[1;33m(\u001b[0m\u001b[1;33m)\u001b[0m\u001b[1;33m\u001b[0m\u001b[0m\n\u001b[0;32m    117\u001b[0m \u001b[1;33m\u001b[0m\u001b[0m\n",
      "\u001b[1;32mC:\\Users\\rsilva\\miniconda3\\envs\\automation\\lib\\site-packages\\gspread\\client.py\u001b[0m in \u001b[0;36mrequest\u001b[1;34m(self, method, endpoint, params, data, json, files, headers)\u001b[0m\n\u001b[0;32m     77\u001b[0m             \u001b[1;32mreturn\u001b[0m \u001b[0mresponse\u001b[0m\u001b[1;33m\u001b[0m\u001b[0m\n\u001b[0;32m     78\u001b[0m         \u001b[1;32melse\u001b[0m\u001b[1;33m:\u001b[0m\u001b[1;33m\u001b[0m\u001b[0m\n\u001b[1;32m---> 79\u001b[1;33m             \u001b[1;32mraise\u001b[0m \u001b[0mAPIError\u001b[0m\u001b[1;33m(\u001b[0m\u001b[0mresponse\u001b[0m\u001b[1;33m)\u001b[0m\u001b[1;33m\u001b[0m\u001b[0m\n\u001b[0m\u001b[0;32m     80\u001b[0m \u001b[1;33m\u001b[0m\u001b[0m\n\u001b[0;32m     81\u001b[0m     \u001b[1;32mdef\u001b[0m \u001b[0mlist_spreadsheet_files\u001b[0m\u001b[1;33m(\u001b[0m\u001b[0mself\u001b[0m\u001b[1;33m)\u001b[0m\u001b[1;33m:\u001b[0m\u001b[1;33m\u001b[0m\u001b[0m\n",
      "\u001b[1;31mAPIError\u001b[0m: {\n  \"error\": {\n    \"code\": 401,\n    \"message\": \"Request had invalid authentication credentials. Expected OAuth 2 access token, login cookie or other valid authentication credential. See https://developers.google.com/identity/sign-in/web/devconsole-project.\",\n    \"status\": \"UNAUTHENTICATED\"\n  }\n}\n"
     ]
    }
   ],
   "source": [
    "#gs_df.set_with_dataframe(registros_rf, df, row=142, include_column_header=False)\n",
    "#gs_df.set_with_dataframe(registros, pd.DataFrame(df[\"Nome\"]), row=2, col=9, include_column_header=False)\n",
    "#gs_df.set_with_dataframe(registros, pd.DataFrame(df[\"Endereço_Completo\"]), row=2, col=12, include_column_header=False)\n"
   ]
  },
  {
   "cell_type": "code",
   "execution_count": 27,
   "metadata": {},
   "outputs": [
    {
     "data": {
      "text/plain": [
       "2006"
      ]
     },
     "execution_count": 27,
     "metadata": {},
     "output_type": "execute_result"
    }
   ],
   "source": [
    "registros.row_count"
   ]
  },
  {
   "cell_type": "code",
   "execution_count": null,
   "metadata": {},
   "outputs": [],
   "source": []
  }
 ],
 "metadata": {
  "kernelspec": {
   "display_name": "Python 3",
   "language": "python",
   "name": "python3"
  },
  "language_info": {
   "codemirror_mode": {
    "name": "ipython",
    "version": 3
   },
   "file_extension": ".py",
   "mimetype": "text/x-python",
   "name": "python",
   "nbconvert_exporter": "python",
   "pygments_lexer": "ipython3",
   "version": "3.5.4"
  }
 },
 "nbformat": 4,
 "nbformat_minor": 2
}
