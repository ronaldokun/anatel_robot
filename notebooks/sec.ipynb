{
 "cells": [
  {
   "cell_type": "code",
   "execution_count": 2,
   "metadata": {
    "ExecuteTime": {
     "end_time": "2018-08-17T16:12:52.441937Z",
     "start_time": "2018-08-17T16:12:50.559839Z"
    }
   },
   "outputs": [],
   "source": [
    "import os\n",
    "import gc\n",
    "import pandas as pd\n",
    "# Change the directory to reflect the main repository\n",
    "os.chdir(\"C:/Users/rsilva/gdrive/projects/programming/automation\")\n",
    "\n",
    "from time import sleep\n",
    "\n",
    "import sistemas\n",
    "import sei\n",
    "import functions\n",
    "import page\n",
    "from page import *\n",
    "from selenium.webdriver.common.desired_capabilities import DesiredCapabilities\n",
    "\n",
    "import gspread as gs\n",
    "\n",
    "import gspread_dataframe as gs_df\n",
    "\n",
    "% reload_ext autoreload\n",
    "% autoreload 2"
   ]
  },
  {
   "cell_type": "code",
   "execution_count": 3,
   "metadata": {
    "ExecuteTime": {
     "end_time": "2018-08-17T16:13:00.615953Z",
     "start_time": "2018-08-17T16:12:53.364501Z"
    }
   },
   "outputs": [],
   "source": [
    "caps = DesiredCapabilities.INTERNETEXPLORER\n",
    "\n",
    "caps['version'] = '11.0'\n",
    "caps['requireWindowsFocus'] = True\n",
    "caps['ignoreProtectedModeSettings'] = True\n",
    "\n",
    "driver = webdriver.Ie(capabilities=caps)"
   ]
  },
  {
   "cell_type": "code",
   "execution_count": null,
   "metadata": {
    "ExecuteTime": {
     "end_time": "2018-08-17T16:12:27.960309Z",
     "start_time": "2018-08-17T16:12:27.410Z"
    }
   },
   "outputs": [],
   "source": [
    "COLS = [\"CNPJ/CPF\", \"Nome/Razão Social\", \"Situação\", \"Nacionalidade\", \"Data de Nascimento\", \"Identidade\",\n",
    "        \"Órgão Exp.\", \"E-mail\", \"Principal\", \"Cep\", \"Logradouro\", \"Número\", \"Complemento\", \"Bairro\", \"Município\",\n",
    "        \"UF\", \"Categoria\"]"
   ]
  },
  {
   "cell_type": "code",
   "execution_count": 25,
   "metadata": {
    "ExecuteTime": {
     "end_time": "2018-08-17T18:25:30.417681Z",
     "start_time": "2018-08-17T18:25:27.391453Z"
    }
   },
   "outputs": [],
   "source": [
    "wb = functions.authenticate_google().open(\"ANATEL - Prova de Radioamador - Pinhal\")"
   ]
  },
  {
   "cell_type": "code",
   "execution_count": 26,
   "metadata": {
    "ExecuteTime": {
     "end_time": "2018-08-17T18:25:32.212849Z",
     "start_time": "2018-08-17T18:25:30.419681Z"
    }
   },
   "outputs": [],
   "source": [
    "sht, df = functions.load_sheet_from_workbook(wb, 'interessados')\n",
    "sht_2, df_2 = functions.load_sheet_from_workbook(wb, 'sistema')"
   ]
  },
  {
   "cell_type": "code",
   "execution_count": 16,
   "metadata": {
    "ExecuteTime": {
     "end_time": "2018-08-17T16:16:28.005718Z",
     "start_time": "2018-08-17T16:16:27.823706Z"
    }
   },
   "outputs": [],
   "source": [
    "df[\"E-mail\"] = df[\"E-mail\"].str.lower()\n",
    "df[\"Endereço\"] = df[\"Endereço\"].str.title()\n",
    "df[\"Cidade\"] = df[\"Cidade\"].str.title()\n",
    "df[\"Bairro\"] = df[\"Bairro\"].str.title()\n",
    "df[\"CPF\"] = df[\"CPF\"].str.replace(\"-\", \"\")\n",
    "df[\"Complemento\"] = df[\"Complemento\"].str.replace(\"CS\", \"\")"
   ]
  },
  {
   "cell_type": "code",
   "execution_count": 6,
   "metadata": {
    "ExecuteTime": {
     "end_time": "2018-08-17T16:13:52.602651Z",
     "start_time": "2018-08-17T16:13:48.535423Z"
    }
   },
   "outputs": [],
   "source": [
    "#sec = sistemas.Sec(driver, 'rsilva', 'Savorthemom3nts')"
   ]
  },
  {
   "cell_type": "code",
   "execution_count": 207,
   "metadata": {
    "ExecuteTime": {
     "end_time": "2018-08-17T01:04:51.285592Z",
     "start_time": "2018-08-17T01:04:48.849005Z"
    }
   },
   "outputs": [
    {
     "ename": "KeyError",
     "evalue": "'CPF'",
     "output_type": "error",
     "traceback": [
      "\u001b[1;31m---------------------------------------------------------------------------\u001b[0m",
      "\u001b[1;31mKeyError\u001b[0m                                  Traceback (most recent call last)",
      "\u001b[1;32m<ipython-input-207-15682eb42e47>\u001b[0m in \u001b[0;36m<module>\u001b[1;34m()\u001b[0m\n\u001b[0;32m      1\u001b[0m \u001b[1;32mfor\u001b[0m \u001b[0mcandidato\u001b[0m \u001b[1;32min\u001b[0m \u001b[0msht\u001b[0m\u001b[1;33m.\u001b[0m\u001b[0mget_all_records\u001b[0m\u001b[1;33m(\u001b[0m\u001b[1;33m)\u001b[0m\u001b[1;33m:\u001b[0m\u001b[1;33m\u001b[0m\u001b[0m\n\u001b[0;32m      2\u001b[0m \u001b[1;33m\u001b[0m\u001b[0m\n\u001b[1;32m----> 3\u001b[1;33m     \u001b[0msec\u001b[0m\u001b[1;33m.\u001b[0m\u001b[0matualiza_cadastro\u001b[0m\u001b[1;33m(\u001b[0m\u001b[0mcandidato\u001b[0m\u001b[1;33m)\u001b[0m\u001b[1;33m\u001b[0m\u001b[0m\n\u001b[0m\u001b[0;32m      4\u001b[0m \u001b[1;33m\u001b[0m\u001b[0m\n\u001b[0;32m      5\u001b[0m     \u001b[1;32mbreak\u001b[0m\u001b[1;33m\u001b[0m\u001b[0m\n",
      "\u001b[1;32m~\\gdrive\\projects\\programming\\automation\\sistemas.py\u001b[0m in \u001b[0;36matualiza_cadastro\u001b[1;34m(self, dados, novo)\u001b[0m\n\u001b[0;32m    522\u001b[0m         \u001b[0macoes\u001b[0m \u001b[1;33m=\u001b[0m \u001b[0mself\u001b[0m\u001b[1;33m.\u001b[0m\u001b[0m_get_acoes\u001b[0m\u001b[1;33m(\u001b[0m\u001b[0mh\u001b[0m\u001b[1;33m,\u001b[0m \u001b[1;33m(\u001b[0m\u001b[1;34m'alterar'\u001b[0m\u001b[1;33m,\u001b[0m \u001b[1;34m'id_cpf'\u001b[0m\u001b[1;33m,\u001b[0m \u001b[1;34m'submit'\u001b[0m\u001b[1;33m)\u001b[0m\u001b[1;33m)\u001b[0m\u001b[1;33m\u001b[0m\u001b[0m\n\u001b[0;32m    523\u001b[0m \u001b[1;33m\u001b[0m\u001b[0m\n\u001b[1;32m--> 524\u001b[1;33m         \u001b[0mcpf\u001b[0m \u001b[1;33m=\u001b[0m \u001b[0mdados\u001b[0m\u001b[1;33m[\u001b[0m\u001b[1;34m'CPF'\u001b[0m\u001b[1;33m]\u001b[0m\u001b[1;33m.\u001b[0m\u001b[0mreplace\u001b[0m\u001b[1;33m(\u001b[0m\u001b[1;34m\"-\"\u001b[0m\u001b[1;33m,\u001b[0m \u001b[1;34m\"\"\u001b[0m\u001b[1;33m)\u001b[0m\u001b[1;33m.\u001b[0m\u001b[0mreplace\u001b[0m\u001b[1;33m(\u001b[0m\u001b[1;34m\".\"\u001b[0m\u001b[1;33m,\u001b[0m \u001b[1;34m\"\"\u001b[0m\u001b[1;33m)\u001b[0m\u001b[1;33m\u001b[0m\u001b[0m\n\u001b[0m\u001b[0;32m    525\u001b[0m \u001b[1;33m\u001b[0m\u001b[0m\n\u001b[0;32m    526\u001b[0m         \u001b[0mdados\u001b[0m \u001b[1;33m=\u001b[0m \u001b[1;33m{\u001b[0m\u001b[0mk\u001b[0m\u001b[1;33m:\u001b[0m\u001b[0mv\u001b[0m\u001b[1;33m.\u001b[0m\u001b[0mtitle\u001b[0m\u001b[1;33m(\u001b[0m\u001b[1;33m)\u001b[0m \u001b[1;32mfor\u001b[0m \u001b[0mk\u001b[0m\u001b[1;33m,\u001b[0m\u001b[0mv\u001b[0m \u001b[1;32min\u001b[0m \u001b[0mdados\u001b[0m\u001b[1;33m.\u001b[0m\u001b[0mitems\u001b[0m\u001b[1;33m(\u001b[0m\u001b[1;33m)\u001b[0m \u001b[1;32mif\u001b[0m \u001b[0mk\u001b[0m \u001b[1;32mnot\u001b[0m \u001b[1;32min\u001b[0m \u001b[1;33m(\u001b[0m\u001b[1;34m'UF'\u001b[0m\u001b[1;33m)\u001b[0m\u001b[1;33m}\u001b[0m\u001b[1;33m\u001b[0m\u001b[0m\n",
      "\u001b[1;31mKeyError\u001b[0m: 'CPF'"
     ]
    }
   ],
   "source": [
    "for candidato in sht.get_all_records():\n",
    "    \n",
    "    sec.atualiza_cadastro(candidato)\n",
    "        \n",
    "    break"
   ]
  },
  {
   "cell_type": "code",
   "execution_count": 17,
   "metadata": {
    "ExecuteTime": {
     "end_time": "2018-08-17T16:16:56.061849Z",
     "start_time": "2018-08-17T16:16:55.925339Z"
    }
   },
   "outputs": [],
   "source": [
    "db = pd.DataFrame(columns=df.columns)"
   ]
  },
  {
   "cell_type": "code",
   "execution_count": 22,
   "metadata": {
    "ExecuteTime": {
     "end_time": "2018-08-17T16:57:02.720840Z",
     "start_time": "2018-08-17T16:23:20.927868Z"
    }
   },
   "outputs": [],
   "source": [
    "for _, row in df.iterrows():\n",
    "    \n",
    "    #sec.consulta(str(row['CNPJ/CPF']))\n",
    "    \n",
    "    cpf = str(row['CPF'])\n",
    "    \n",
    "    while len(cpf) < 11:\n",
    "        \n",
    "        cpf = '0' + cpf\n",
    "        \n",
    "    \n",
    "    try:\n",
    "            \n",
    "        dados = {k:v for k,v in sec.extrai_cadastro(cpf).items() if k in df.columns}\n",
    "        \n",
    "    except:\n",
    "        \n",
    "        dados = {k:\"\" for k in df.columns}\n",
    "    \n",
    "    \n",
    "    db = db.append(pd.Series(dados), ignore_index=True)   "
   ]
  },
  {
   "cell_type": "code",
   "execution_count": 28,
   "metadata": {
    "ExecuteTime": {
     "end_time": "2018-08-17T18:26:08.457835Z",
     "start_time": "2018-08-17T18:26:08.264324Z"
    }
   },
   "outputs": [
    {
     "data": {
      "text/html": [
       "<div>\n",
       "<style scoped>\n",
       "    .dataframe tbody tr th:only-of-type {\n",
       "        vertical-align: middle;\n",
       "    }\n",
       "\n",
       "    .dataframe tbody tr th {\n",
       "        vertical-align: top;\n",
       "    }\n",
       "\n",
       "    .dataframe thead th {\n",
       "        text-align: right;\n",
       "    }\n",
       "</style>\n",
       "<table border=\"1\" class=\"dataframe\">\n",
       "  <thead>\n",
       "    <tr style=\"text-align: right;\">\n",
       "      <th></th>\n",
       "      <th>Carimbo de data/hora</th>\n",
       "      <th>E-mail</th>\n",
       "      <th>CPF</th>\n",
       "      <th>Nome</th>\n",
       "      <th>Identidade</th>\n",
       "      <th>Órgão Exp.</th>\n",
       "      <th>Data de Nascimento</th>\n",
       "      <th>Fone</th>\n",
       "      <th>Endereço</th>\n",
       "      <th>Número</th>\n",
       "      <th>...</th>\n",
       "      <th>Cidade</th>\n",
       "      <th>UF</th>\n",
       "      <th>Cep</th>\n",
       "      <th>Classe Pretendida</th>\n",
       "      <th>Unnamed: 17</th>\n",
       "      <th>Unnamed: 18</th>\n",
       "      <th>Unnamed: 19</th>\n",
       "      <th>Unnamed: 20</th>\n",
       "      <th>Unnamed: 21</th>\n",
       "      <th>Unnamed: 22</th>\n",
       "    </tr>\n",
       "  </thead>\n",
       "  <tbody>\n",
       "    <tr>\n",
       "      <th>0</th>\n",
       "      <td>NaN</td>\n",
       "      <td>aprrc@hotmail.com</td>\n",
       "      <td></td>\n",
       "      <td>NaN</td>\n",
       "      <td>255421679</td>\n",
       "      <td>SSP</td>\n",
       "      <td>NaN</td>\n",
       "      <td>NaN</td>\n",
       "      <td>NaN</td>\n",
       "      <td>30</td>\n",
       "      <td>...</td>\n",
       "      <td>NaN</td>\n",
       "      <td>SP</td>\n",
       "      <td>13990000</td>\n",
       "      <td>NaN</td>\n",
       "      <td>NaN</td>\n",
       "      <td>NaN</td>\n",
       "      <td>NaN</td>\n",
       "      <td>NaN</td>\n",
       "      <td>NaN</td>\n",
       "      <td>NaN</td>\n",
       "    </tr>\n",
       "    <tr>\n",
       "      <th>1</th>\n",
       "      <td>NaN</td>\n",
       "      <td>aprrc@hotmail.com</td>\n",
       "      <td></td>\n",
       "      <td>NaN</td>\n",
       "      <td>.</td>\n",
       "      <td>.</td>\n",
       "      <td>NaN</td>\n",
       "      <td>NaN</td>\n",
       "      <td>NaN</td>\n",
       "      <td>27</td>\n",
       "      <td>...</td>\n",
       "      <td>NaN</td>\n",
       "      <td>SP</td>\n",
       "      <td>13970000</td>\n",
       "      <td>NaN</td>\n",
       "      <td>NaN</td>\n",
       "      <td>NaN</td>\n",
       "      <td>NaN</td>\n",
       "      <td>NaN</td>\n",
       "      <td>NaN</td>\n",
       "      <td>NaN</td>\n",
       "    </tr>\n",
       "    <tr>\n",
       "      <th>2</th>\n",
       "      <td>NaN</td>\n",
       "      <td>adeartigozo@gmail.com</td>\n",
       "      <td></td>\n",
       "      <td>NaN</td>\n",
       "      <td>10512846</td>\n",
       "      <td>SSP/SP</td>\n",
       "      <td>NaN</td>\n",
       "      <td>NaN</td>\n",
       "      <td>NaN</td>\n",
       "      <td>271</td>\n",
       "      <td>...</td>\n",
       "      <td>NaN</td>\n",
       "      <td>SP</td>\n",
       "      <td>13481724</td>\n",
       "      <td>NaN</td>\n",
       "      <td>NaN</td>\n",
       "      <td>NaN</td>\n",
       "      <td>NaN</td>\n",
       "      <td>NaN</td>\n",
       "      <td>NaN</td>\n",
       "      <td>NaN</td>\n",
       "    </tr>\n",
       "    <tr>\n",
       "      <th>3</th>\n",
       "      <td>NaN</td>\n",
       "      <td>aprrc@hotmail.com</td>\n",
       "      <td></td>\n",
       "      <td>NaN</td>\n",
       "      <td>439309335</td>\n",
       "      <td>SSP</td>\n",
       "      <td>NaN</td>\n",
       "      <td>NaN</td>\n",
       "      <td>NaN</td>\n",
       "      <td>188</td>\n",
       "      <td>...</td>\n",
       "      <td>NaN</td>\n",
       "      <td>SP</td>\n",
       "      <td>13606226</td>\n",
       "      <td>NaN</td>\n",
       "      <td>NaN</td>\n",
       "      <td>NaN</td>\n",
       "      <td>NaN</td>\n",
       "      <td>NaN</td>\n",
       "      <td>NaN</td>\n",
       "      <td>NaN</td>\n",
       "    </tr>\n",
       "    <tr>\n",
       "      <th>4</th>\n",
       "      <td>NaN</td>\n",
       "      <td>aprrc@hotmail.com</td>\n",
       "      <td></td>\n",
       "      <td>NaN</td>\n",
       "      <td>189000806</td>\n",
       "      <td>SSP</td>\n",
       "      <td>NaN</td>\n",
       "      <td>NaN</td>\n",
       "      <td>NaN</td>\n",
       "      <td>290</td>\n",
       "      <td>...</td>\n",
       "      <td>NaN</td>\n",
       "      <td>SP</td>\n",
       "      <td>13990000</td>\n",
       "      <td>NaN</td>\n",
       "      <td>NaN</td>\n",
       "      <td>NaN</td>\n",
       "      <td>NaN</td>\n",
       "      <td>NaN</td>\n",
       "      <td>NaN</td>\n",
       "      <td>NaN</td>\n",
       "    </tr>\n",
       "  </tbody>\n",
       "</table>\n",
       "<p>5 rows × 22 columns</p>\n",
       "</div>"
      ],
      "text/plain": [
       "  Carimbo de data/hora                 E-mail CPF Nome Identidade Órgão Exp.  \\\n",
       "0                  NaN      aprrc@hotmail.com      NaN  255421679        SSP   \n",
       "1                  NaN      aprrc@hotmail.com      NaN          .          .   \n",
       "2                  NaN  adeartigozo@gmail.com      NaN   10512846     SSP/SP   \n",
       "3                  NaN      aprrc@hotmail.com      NaN  439309335        SSP   \n",
       "4                  NaN      aprrc@hotmail.com      NaN  189000806        SSP   \n",
       "\n",
       "  Data de Nascimento Fone Endereço Número     ...     Cidade  UF       Cep  \\\n",
       "0                NaN  NaN      NaN     30     ...        NaN  SP  13990000   \n",
       "1                NaN  NaN      NaN     27     ...        NaN  SP  13970000   \n",
       "2                NaN  NaN      NaN    271     ...        NaN  SP  13481724   \n",
       "3                NaN  NaN      NaN    188     ...        NaN  SP  13606226   \n",
       "4                NaN  NaN      NaN    290     ...        NaN  SP  13990000   \n",
       "\n",
       "  Classe Pretendida Unnamed: 17 Unnamed: 18 Unnamed: 19 Unnamed: 20  \\\n",
       "0               NaN         NaN         NaN         NaN         NaN   \n",
       "1               NaN         NaN         NaN         NaN         NaN   \n",
       "2               NaN         NaN         NaN         NaN         NaN   \n",
       "3               NaN         NaN         NaN         NaN         NaN   \n",
       "4               NaN         NaN         NaN         NaN         NaN   \n",
       "\n",
       "  Unnamed: 21 Unnamed: 22  \n",
       "0         NaN         NaN  \n",
       "1         NaN         NaN  \n",
       "2         NaN         NaN  \n",
       "3         NaN         NaN  \n",
       "4         NaN         NaN  \n",
       "\n",
       "[5 rows x 22 columns]"
      ]
     },
     "execution_count": 28,
     "metadata": {},
     "output_type": "execute_result"
    }
   ],
   "source": [
    "db.head()"
   ]
  },
  {
   "cell_type": "code",
   "execution_count": 27,
   "metadata": {
    "ExecuteTime": {
     "end_time": "2018-08-17T18:25:35.560555Z",
     "start_time": "2018-08-17T18:25:33.928961Z"
    }
   },
   "outputs": [],
   "source": [
    "gs_df.set_with_dataframe(sht_2, db)"
   ]
  },
  {
   "cell_type": "code",
   "execution_count": 19,
   "metadata": {
    "ExecuteTime": {
     "end_time": "2018-08-17T16:18:33.594952Z",
     "start_time": "2018-08-17T16:18:33.453467Z"
    }
   },
   "outputs": [],
   "source": [
    "sht_2. = [\"Teste_1\", \"Teste_2\"]"
   ]
  },
  {
   "cell_type": "code",
   "execution_count": null,
   "metadata": {
    "ExecuteTime": {
     "end_time": "2018-07-24T19:18:33.051816Z",
     "start_time": "2018-07-24T19:04:21.719986Z"
    }
   },
   "outputs": [],
   "source": [
    "sec.imprimir_provas('25/07/2018', '09:10:00', num_registros=90)"
   ]
  },
  {
   "cell_type": "code",
   "execution_count": 195,
   "metadata": {
    "ExecuteTime": {
     "end_time": "2018-08-17T00:09:42.843265Z",
     "start_time": "2018-08-17T00:09:41.582139Z"
    }
   },
   "outputs": [
    {
     "data": {
      "text/plain": [
       "91"
      ]
     },
     "execution_count": 195,
     "metadata": {},
     "output_type": "execute_result"
    }
   ],
   "source": []
  }
 ],
 "metadata": {
  "kernelspec": {
   "display_name": "Python 3",
   "language": "python",
   "name": "python3"
  },
  "language_info": {
   "codemirror_mode": {
    "name": "ipython",
    "version": 3
   },
   "file_extension": ".py",
   "mimetype": "text/x-python",
   "name": "python",
   "nbconvert_exporter": "python",
   "pygments_lexer": "ipython3",
   "version": "3.5.4"
  },
  "toc": {
   "base_numbering": 1,
   "nav_menu": {},
   "number_sections": true,
   "sideBar": true,
   "skip_h1_title": false,
   "title_cell": "Table of Contents",
   "title_sidebar": "Contents",
   "toc_cell": false,
   "toc_position": {},
   "toc_section_display": true,
   "toc_window_display": false
  }
 },
 "nbformat": 4,
 "nbformat_minor": 2
}
