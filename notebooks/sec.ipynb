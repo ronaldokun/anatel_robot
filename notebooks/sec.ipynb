{
 "cells": [
  {
   "cell_type": "code",
   "execution_count": 1,
   "metadata": {
    "ExecuteTime": {
     "end_time": "2018-07-24T17:46:12.239386Z",
     "start_time": "2018-07-24T17:46:06.733386Z"
    }
   },
   "outputs": [],
   "source": [
    "import os\n",
    "import gc\n",
    "# Change the directory to reflect the main repository\n",
    "os.chdir(\"C:/Users/rsilva/gdrive/projects/programming/automation\")\n",
    "\n",
    "from time import sleep\n",
    "\n",
    "import sistemas\n",
    "import sei\n",
    "import functions\n",
    "import page\n",
    "from page import *\n",
    "from selenium.webdriver.common.desired_capabilities import DesiredCapabilities\n",
    "\n",
    "% reload_ext autoreload\n",
    "% autoreload 2"
   ]
  },
  {
   "cell_type": "code",
   "execution_count": 22,
   "metadata": {
    "ExecuteTime": {
     "end_time": "2018-07-24T19:04:17.239586Z",
     "start_time": "2018-07-24T19:04:12.706986Z"
    }
   },
   "outputs": [],
   "source": [
    "caps = DesiredCapabilities.INTERNETEXPLORER\n",
    "\n",
    "caps['version'] = '11.0'\n",
    "caps['requireWindowsFocus'] = True\n",
    "caps['ignoreProtectedModeSettings'] = True\n",
    "\n",
    "driver = webdriver.Ie(capabilities=caps)"
   ]
  },
  {
   "cell_type": "code",
   "execution_count": 23,
   "metadata": {
    "ExecuteTime": {
     "end_time": "2018-07-24T19:04:21.719986Z",
     "start_time": "2018-07-24T19:04:17.239586Z"
    }
   },
   "outputs": [],
   "source": [
    "sec = sistemas.Sec(driver)"
   ]
  },
  {
   "cell_type": "code",
   "execution_count": 24,
   "metadata": {
    "ExecuteTime": {
     "end_time": "2018-07-24T19:18:33.051816Z",
     "start_time": "2018-07-24T19:04:21.719986Z"
    }
   },
   "outputs": [],
   "source": [
    "sec.imprimir_provas('25/07/2018', '09:10:00', num_registros=90)"
   ]
  },
  {
   "cell_type": "code",
   "execution_count": 88,
   "metadata": {
    "ExecuteTime": {
     "end_time": "2018-07-23T19:40:52.171410Z",
     "start_time": "2018-07-23T19:40:51.621885Z"
    }
   },
   "outputs": [],
   "source": [
    "dados = sec._extrai_inscritos_prova()"
   ]
  },
  {
   "cell_type": "code",
   "execution_count": 84,
   "metadata": {
    "ExecuteTime": {
     "end_time": "2018-07-23T19:38:57.245485Z",
     "start_time": "2018-07-23T19:38:56.857466Z"
    }
   },
   "outputs": [
    {
     "data": {
      "text/plain": [
       "83"
      ]
     },
     "execution_count": 84,
     "metadata": {},
     "output_type": "execute_result"
    }
   ],
   "source": [
    "len(dados)"
   ]
  },
  {
   "cell_type": "code",
   "execution_count": 89,
   "metadata": {
    "ExecuteTime": {
     "end_time": "2018-07-23T19:40:59.620744Z",
     "start_time": "2018-07-23T19:40:54.055512Z"
    }
   },
   "outputs": [],
   "source": [
    "sec.driver.get(dados['325.621.888-10'].link)"
   ]
  },
  {
   "cell_type": "code",
   "execution_count": null,
   "metadata": {},
   "outputs": [],
   "source": []
  }
 ],
 "metadata": {
  "kernelspec": {
   "display_name": "Python 3",
   "language": "python",
   "name": "python3"
  },
  "language_info": {
   "codemirror_mode": {
    "name": "ipython",
    "version": 3
   },
   "file_extension": ".py",
   "mimetype": "text/x-python",
   "name": "python",
   "nbconvert_exporter": "python",
   "pygments_lexer": "ipython3",
   "version": "3.5.4"
  },
  "toc": {
   "base_numbering": 1,
   "nav_menu": {},
   "number_sections": true,
   "sideBar": true,
   "skip_h1_title": false,
   "title_cell": "Table of Contents",
   "title_sidebar": "Contents",
   "toc_cell": false,
   "toc_position": {},
   "toc_section_display": true,
   "toc_window_display": false
  }
 },
 "nbformat": 4,
 "nbformat_minor": 2
}
