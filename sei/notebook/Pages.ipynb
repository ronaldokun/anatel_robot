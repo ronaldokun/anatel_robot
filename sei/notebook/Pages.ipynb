{
 "cells": [
  {
   "cell_type": "markdown",
   "metadata": {},
   "source": [
    "### Imports "
   ]
  },
  {
   "cell_type": "code",
   "execution_count": 17,
   "metadata": {},
   "outputs": [],
   "source": [
    "import os\n",
    "\n",
    "os.chdir('c:/Users/rsilva/Gdrive/projects/programming/automation/sei')\n",
    "\n",
    "# HTML PARSER\n",
    "from bs4 import BeautifulSoup as soup\n",
    "\n",
    "# INITIALIZE DRIVER\n",
    "from selenium import webdriver\n",
    "\n",
    "# WAIT AND CONDITIONS METHODS\n",
    "# available since 2.26.0\n",
    "from selenium.webdriver.support.ui import Select\n",
    "\n",
    "# Exceptions\n",
    "from selenium.common.exceptions import TimeoutException\n",
    "\n",
    "\n",
    "# METHODS\n",
    "from selenium.webdriver.common.keys import Keys\n",
    "from selenium.webdriver.common.by import By\n",
    "\n",
    "from locators import Login, Base, LatMenu, \\\n",
    "    Main, ListaBlocos, Bloco, Processo, Envio\n",
    "\n",
    "\n",
    "from base import Page\n",
    "\n",
    "import re\n",
    "\n",
    "import pandas as pd\n",
    "\n",
    "from datetime import date"
   ]
  },
  {
   "cell_type": "code",
   "execution_count": 18,
   "metadata": {
    "collapsed": true
   },
   "outputs": [],
   "source": [
    "def login_SEI(driver, usr, pwd):\n",
    "        \"\"\"\n",
    "        Esta função recebe um objeto Webdrive e as credenciais  \n",
    "        do usuário, loga no SEI - ANATEL e retorna uma instância da classe  \n",
    "        SEI. \n",
    "        \"\"\"\n",
    "\n",
    "        page = Page(driver)\n",
    "        page.driver.get(Login.URL)\n",
    "        page.driver.maximize_window()\n",
    "\n",
    "        usuario = page.wait_for_element_to_click(Login.LOGIN)\n",
    "        senha = page.wait_for_element_to_click(Login.SENHA)\n",
    "\n",
    "        # Clear any clutter on the form\n",
    "        usuario.clear()\n",
    "        usuario.send_keys(usr)\n",
    "\n",
    "        senha.clear()\n",
    "        senha.send_keys(pwd)\n",
    "\n",
    "        # Hit Enter\n",
    "        senha.send_keys(Keys.RETURN)\n",
    "\n",
    "        return SEI(page.driver)"
   ]
  },
  {
   "cell_type": "code",
   "execution_count": 19,
   "metadata": {
    "collapsed": true
   },
   "outputs": [],
   "source": [
    "class SEI(Page):\n",
    "    \"\"\"\n",
    "    Esta subclasse da classe Page define métodos de execução de ações na \n",
    "    página principal do SEI e de resgate de informações\n",
    "    \"\"\"\n",
    "    \n",
    "    processos = []\n",
    "    \n",
    "    def ver_proc_detalhado(self):\n",
    "        \"\"\"\n",
    "        Expands the visualization from the main page in SEI\n",
    "        \"\"\"\n",
    "        try:\n",
    "            ver_todos = self.wait_for_element_to_click(Main.FILTROATRIBUICAO)\n",
    "            \n",
    "            if ver_todos.text ==\"Ver todos os processos\":\n",
    "                ver_todos.click()\n",
    "        \n",
    "        except TimeoutException:\n",
    "            \n",
    "            print(\"A página não carregou no tempo limite ou cheque o link\\\n",
    "                  'ver todos os processos'\")\n",
    "            \n",
    "        try:\n",
    "            \n",
    "            visual_detalhado = self.wait_for_element_to_click(Main.TIPOVISUALIZACAO)\n",
    "        \n",
    "            if visual_detalhado.text == \"Visualização detalhada\":\n",
    "                visual_detalhado.click()\n",
    "                \n",
    "        except TimeoutException:\n",
    "            \n",
    "            print(\"A página não carregou no tempo limite ou cheque o link\\\n",
    "            de visualização detalhada\")\n",
    "            \n",
    "    def isPaginaInicial(self):\n",
    "        \"\"\"Retorna True se a página estiver na página inicial do SEI, False\n",
    "        caso contrário\"\"\"        \n",
    "        return self.get_title() == 'SEI - Controle de Processos'\n",
    "\n",
    "    def go_to_initial_page(self):\n",
    "        \"\"\"\n",
    "        Navega até a página inicial do SEI caso já esteja nela \n",
    "        a página é recarregada\n",
    "        Assume que o link está presente em qualquer subpágina do SEI\n",
    "        \"\"\"\n",
    "        self.wait_for_element_to_click(\n",
    "            Base.INITIALPAGE).click()\n",
    "\n",
    "    def exibir_menu_lateral(self):\n",
    "        \"\"\"\n",
    "        Exibe o Menu Lateral á Esquerda no SEI para acessos aos seus diversos\n",
    "        links\n",
    "        Assume que o link está presente em qualquer subpágina do SEI\n",
    "        \"\"\"\n",
    "        menu = self.wait_for_element(Base.EXIBIRMENU)\n",
    "\n",
    "        if menu.get_attribute(\"title\") == \"Exibir Menu do Sistema\":\n",
    "            menu.click()\n",
    "            \n",
    "    def itera_processos(self):\n",
    "        \"\"\"\n",
    "        Navega as páginas de processos abertos no SEI e guarda as tags\n",
    "        html dos processos como objeto soup no atributo processos_abertos\n",
    "        \"\"\"     \n",
    "        \n",
    "        #Apaga o conteúdo atual da lista de processos\n",
    "        self.processos = []\n",
    "        \n",
    "        # assegura que está inicial\n",
    "        if not self.isPaginaInicial():\n",
    "            self.go_to_initial_page()\n",
    "\n",
    "        # Mostra página com informações detalhadas\n",
    "        self.ver_proc_detalhado()\n",
    "        \n",
    "        contador = Select(self.wait_for_element(Main.CONTADOR))\n",
    "\n",
    "        pages = [pag.text for pag in contador.options]\n",
    "\n",
    "        for pag in pages:\n",
    "            \n",
    "            # One simple repetition to avoid more complex code\n",
    "            contador = Select(self.wait_for_element(Main.CONTADOR))\n",
    "            contador.select_by_visible_text(pag)\n",
    "            html_sei = soup(self.driver.page_source, \"lxml\")\n",
    "            self.processos += html_sei(\"tr\", {\"class\": 'infraTrClara'})\n",
    "            \n",
    "            \n",
    "        # percorre a lista de processos\n",
    "        # cada linha corresponde a uma tag mãe 'tr'\n",
    "        # substituimos a tag mãe por uma lista das tags filhas 'tag.contents', descartando os '\\n'\n",
    "        # a função lista_to_dict_tags recebe essa lista e retorna um dicionário das tags\n",
    "        self.processos =  [lista_to_dict_tags([tag for tag in line.contents if tag !='\\n']) for line in self.processos]     "
   ]
  },
  {
   "cell_type": "code",
   "execution_count": 20,
   "metadata": {
    "collapsed": true
   },
   "outputs": [],
   "source": [
    "driver = webdriver.Chrome()\n",
    "sei = login_SEI(driver, 'rsilva', 'Savorthemom3nts')"
   ]
  },
  {
   "cell_type": "code",
   "execution_count": 21,
   "metadata": {
    "collapsed": true
   },
   "outputs": [],
   "source": [
    "def lista_to_dict_tags(lista_tags):\n",
    "\n",
    "    dict_tags = {}\n",
    "    \n",
    "    assert len(lista_tags) == 6, \"Verifique o nº de tags de cada linha do processo, valor diferente de 10\"\n",
    "\n",
    "    #dict_tags['checkbox'] = lista_tags[0].find(class_='infraCheckbox')\n",
    "    \n",
    "    controles = lista_tags[1].find_all('a')    \n",
    "    \n",
    "    for tag_a in controles:\n",
    "        \n",
    "        img = str(tag_a.img['src'])\n",
    "        \n",
    "        if 'imagens/sei_anotacao' in img:\n",
    "            \n",
    "            #dict_tags['anotacao'] = tag_a\n",
    "            \n",
    "            dict_tags['anotacao'] = re.search('\\((.*)\\)', tag_a.attrs['onmouseover']).group().split(\"'\")[1:4:2]\n",
    "            \n",
    "            if 'prioridade' in img: \n",
    "                \n",
    "                dict_tags['prioridade'] = True\n",
    "                \n",
    "            else:                \n",
    "                \n",
    "                dict_tags['prioridade'] = False\n",
    "            \n",
    "        elif 'imagens/sei_situacao' in  img:\n",
    "            \n",
    "            dict_tags['situacao'] = re.search('\\((.*)\\)', tag_a.attrs['onmouseover']).group().split(\"'\")[1]\n",
    "            \n",
    "        elif 'imagens/marcador' in img:\n",
    "            \n",
    "            #dict_tags['marcador'] = tag_a\n",
    "            \n",
    "            marcador = re.search('\\((.*)\\)', tag_a.attrs['onmouseover']).group().split(\"'\")[1:4:2]\n",
    "            \n",
    "            dict_tags['marcador'] = marcador[0] + ' - ' + marcador[1]            \n",
    "            \n",
    "            \n",
    "        elif 'imagens/exclamacao' in img:                        \n",
    "           \n",
    "            dict_tags['aviso'] = re.search('(\\(\\')(.*)(\\'\\))', tag_a.attrs['onmouseover']).group(2)\n",
    "            \n",
    "            \n",
    "        peticionamento = lista_tags[1].find(src = re.compile('peticionamento'))\n",
    "        \n",
    "        if peticionamento:\n",
    "            \n",
    "            dict_tags['peticionamento'] = re.search('\\((.*)\\)', peticionamento.attrs['onmouseover']).group().split('\"')[1]\n",
    "            \n",
    "            \n",
    "    processo = lista_tags[2].find('a')\n",
    "    \n",
    "    dict_tags['processo'] = processo.string    \n",
    "    \n",
    "    dict_tags['visualizado'] = processo.attrs['class'][0]\n",
    "    \n",
    "    #dict_tags['link'] = Base.NAV_URL + processo.attrs['href']\n",
    "    \n",
    "    \n",
    "    try:\n",
    "        dict_tags['atribuicao'] = lista_tags[3].find('a').string\n",
    "    \n",
    "    except:        \n",
    "        \n",
    "        pass\n",
    "                \n",
    "    dict_tags['tipo'] = lista_tags[4].string\n",
    "    \n",
    "    try:\n",
    "        dict_tags['interessado'] = lista_tags[5].find(class_='spanItemCelula').string\n",
    "        \n",
    "    except: \n",
    "        \n",
    "        pass\n",
    "        \n",
    "        \n",
    "    return dict_tags    \n"
   ]
  },
  {
   "cell_type": "code",
   "execution_count": 22,
   "metadata": {
    "collapsed": true
   },
   "outputs": [],
   "source": [
    "sei.itera_processos()"
   ]
  },
  {
   "cell_type": "code",
   "execution_count": null,
   "metadata": {
    "collapsed": true
   },
   "outputs": [],
   "source": []
  },
  {
   "cell_type": "code",
   "execution_count": 23,
   "metadata": {
    "collapsed": true
   },
   "outputs": [],
   "source": [
    "def dict_to_df(processos):\n",
    "\n",
    "    tags = ['processo', 'tipo', 'visualizado', 'atribuicao',  \n",
    "            'anotacao', 'prioridade', 'peticionamento', 'aviso', 'marcador', 'situacao', 'interessado']\n",
    "\n",
    "    df = pd.DataFrame(columns=tags)\n",
    "\n",
    "    for p in processos:\n",
    "\n",
    "        df = df.append(pd.Series(p), ignore_index=True)\n",
    "        \n",
    "    df['visualizado'] = df['visualizado'].astype(\"category\")\n",
    "    df['atribuicao'] = df['atribuicao'].astype(\"category\")\n",
    "    df['tipo'] = df['tipo'].astype(\"category\")\n",
    "    df['visualizado'].cat.categories = ['NÃO', 'SIM']\n",
    "    \n",
    "    return df    \n"
   ]
  },
  {
   "cell_type": "code",
   "execution_count": 24,
   "metadata": {
    "collapsed": true
   },
   "outputs": [],
   "source": [
    "df = dict_to_df(sei.processos)"
   ]
  },
  {
   "cell_type": "code",
   "execution_count": 26,
   "metadata": {
    "collapsed": true
   },
   "outputs": [],
   "source": [
    "writer = pd.ExcelWriter('C:\\\\Users\\\\rsilva\\\\Google_Drive\\\\anatel\\\\processos_abertos_SEI.xlsx')\n",
    "df.to_excel(writer, index=False, sheet_name = str(date.today()))\n",
    "writer.save()"
   ]
  },
  {
   "cell_type": "code",
   "execution_count": 27,
   "metadata": {
    "collapsed": true,
    "scrolled": true
   },
   "outputs": [],
   "source": [
    "categorias = ['Outorga: Limitado Móvel Marítimo', 'Outorga: Limitado Móvel Aeronáutico',\n",
    "              'Outorga: Rádio do Cidadão', 'Outorga: Radioamador']"
   ]
  },
  {
   "cell_type": "code",
   "execution_count": null,
   "metadata": {
    "collapsed": true
   },
   "outputs": [],
   "source": []
  },
  {
   "cell_type": "code",
   "execution_count": 7,
   "metadata": {},
   "outputs": [],
   "source": [
    "import gspread\n",
    "from oauth2client.service_account import ServiceAccountCredentials\n",
    "\n",
    "scope = ['https://spreadsheets.google.com/feeds']\n",
    "\n",
    "credentials = ServiceAccountCredentials.from_json_keyfile_name('gspread-91fb9e2e8b49.json', scope)\n",
    "\n",
    "gc = gspread.authorize(credentials)"
   ]
  },
  {
   "cell_type": "code",
   "execution_count": 11,
   "metadata": {},
   "outputs": [
    {
     "ename": "AttributeError",
     "evalue": "'Spreadsheet' object has no attribute 'close'",
     "output_type": "error",
     "traceback": [
      "\u001b[1;31m---------------------------------------------------------------------------\u001b[0m",
      "\u001b[1;31mAttributeError\u001b[0m                            Traceback (most recent call last)",
      "\u001b[1;32m<ipython-input-11-06deebce099e>\u001b[0m in \u001b[0;36m<module>\u001b[1;34m()\u001b[0m\n\u001b[1;32m----> 1\u001b[1;33m \u001b[0mwks\u001b[0m\u001b[1;33m.\u001b[0m\u001b[0mclose\u001b[0m\u001b[1;33m(\u001b[0m\u001b[1;33m)\u001b[0m\u001b[1;33m\u001b[0m\u001b[0m\n\u001b[0m",
      "\u001b[1;31mAttributeError\u001b[0m: 'Spreadsheet' object has no attribute 'close'"
     ]
    }
   ],
   "source": []
  },
  {
   "cell_type": "code",
   "execution_count": 15,
   "metadata": {},
   "outputs": [],
   "source": [
    "wks = gc.open(title='SEI').sheet1"
   ]
  },
  {
   "cell_type": "code",
   "execution_count": 16,
   "metadata": {},
   "outputs": [],
   "source": [
    "wks.update_acell('B2', \"it's down there somewhere, let me take another look.\")"
   ]
  },
  {
   "cell_type": "code",
   "execution_count": null,
   "metadata": {
    "collapsed": true
   },
   "outputs": [],
   "source": []
  }
 ],
 "metadata": {
  "kernelspec": {
   "display_name": "Python 3",
   "language": "python",
   "name": "python3"
  },
  "language_info": {
   "codemirror_mode": {
    "name": "ipython",
    "version": 3
   },
   "file_extension": ".py",
   "mimetype": "text/x-python",
   "name": "python",
   "nbconvert_exporter": "python",
   "pygments_lexer": "ipython3",
   "version": "3.6.1"
  }
 },
 "nbformat": 4,
 "nbformat_minor": 2
}
