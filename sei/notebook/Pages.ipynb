{
 "cells": [
  {
   "cell_type": "markdown",
   "metadata": {},
   "source": [
    "### Imports "
   ]
  },
  {
   "cell_type": "code",
   "execution_count": 9,
   "metadata": {},
   "outputs": [],
   "source": [
    "import os\n",
    "\n",
    "os.chdir('../')\n",
    "\n",
    "# HTML PARSER\n",
    "from bs4 import BeautifulSoup as soup\n",
    "\n",
    "# INITIALIZE DRIVER\n",
    "from selenium import webdriver\n",
    "\n",
    "# WAIT AND CONDITIONS METHODS\n",
    "# available since 2.26.0\n",
    "from selenium.webdriver.support.ui import Select\n",
    "\n",
    "# Exceptions\n",
    "from selenium.common.exceptions import TimeoutException\n",
    "\n",
    "\n",
    "# METHODS\n",
    "from selenium.webdriver.common.keys import Keys\n",
    "from selenium.webdriver.common.by import By\n",
    "\n",
    "from locators import Login, Base, LatMenu, \\\n",
    "    Main, ListaBlocos, Bloco, Processo, Envio\n",
    "\n",
    "\n",
    "from base import Page\n",
    "\n",
    "import re"
   ]
  },
  {
   "cell_type": "code",
   "execution_count": 10,
   "metadata": {},
   "outputs": [],
   "source": [
    "def login_SEI(driver, usr, pwd):\n",
    "        \"\"\"\n",
    "        Esta função recebe um objeto Webdrive e as credenciais  \n",
    "        do usuário, loga no SEI - ANATEL e retorna uma instância da classe  \n",
    "        SEI. \n",
    "        \"\"\"\n",
    "\n",
    "        page = Page(driver)\n",
    "        page.driver.get(Login.URL)\n",
    "        page.driver.maximize_window()\n",
    "\n",
    "        usuario = page.wait_for_element_to_click(Login.LOGIN)\n",
    "        senha = page.wait_for_element_to_click(Login.SENHA)\n",
    "\n",
    "        # Clear any clutter on the form\n",
    "        usuario.clear()\n",
    "        usuario.send_keys(usr)\n",
    "\n",
    "        senha.clear()\n",
    "        senha.send_keys(pwd)\n",
    "\n",
    "        # Hit Enter\n",
    "        senha.send_keys(Keys.RETURN)\n",
    "\n",
    "        return SEI(page.driver)"
   ]
  },
  {
   "cell_type": "code",
   "execution_count": null,
   "metadata": {
    "collapsed": true
   },
   "outputs": [],
   "source": []
  },
  {
   "cell_type": "code",
   "execution_count": 77,
   "metadata": {},
   "outputs": [],
   "source": [
    "class SEI(Page):\n",
    "    \"\"\"\n",
    "    Esta subclasse da classe Page define métodos de execução de ações na \n",
    "    página principal do SEI e de resgate de informações\n",
    "    \"\"\"\n",
    "    \n",
    "    processos = []\n",
    "    \n",
    "    def ver_proc_detalhado(self):\n",
    "        \"\"\"\n",
    "        Expands the visualization from the main page in SEI\n",
    "        \"\"\"\n",
    "        try:\n",
    "            ver_todos = self.wait_for_element_to_click(Main.FILTROATRIBUICAO)\n",
    "            \n",
    "            if ver_todos.text ==\"Ver todos os processos\":\n",
    "                ver_todos.click()\n",
    "        \n",
    "        except TimeoutException:\n",
    "            \n",
    "            print(\"A página não carregou no tempo limite ou cheque o link\\\n",
    "                  'ver todos os processos'\")\n",
    "            \n",
    "        try:\n",
    "            \n",
    "            visual_detalhado = self.wait_for_element_to_click(Main.TIPOVISUALIZACAO)\n",
    "        \n",
    "            if visual_detalhado.text == \"Visualização detalhada\":\n",
    "                visual_detalhado.click()\n",
    "                \n",
    "        except TimeoutException:\n",
    "            \n",
    "            print(\"A página não carregou no tempo limite ou cheque o link\\\n",
    "            de visualização detalhada\")\n",
    "            \n",
    "    def isPaginaInicial(self):\n",
    "        \"\"\"Retorna True se a página estiver na página inicial do SEI, False\n",
    "        caso contrário\"\"\"        \n",
    "        return self.get_title() == 'SEI - Controle de Processos'\n",
    "\n",
    "    def go_to_initial_page(self):\n",
    "        \"\"\"\n",
    "        Navega até a página inicial do SEI caso já esteja nela \n",
    "        a página é recarregada\n",
    "        Assume que o link está presente em qualquer subpágina do SEI\n",
    "        \"\"\"\n",
    "        self.wait_for_element_to_click(\n",
    "            Base.INITIALPAGE).click()\n",
    "\n",
    "    def exibir_menu_lateral(self):\n",
    "        \"\"\"\n",
    "        Exibe o Menu Lateral á Esquerda no SEI para acessos aos seus diversos\n",
    "        links\n",
    "        Assume que o link está presente em qualquer subpágina do SEI\n",
    "        \"\"\"\n",
    "        menu = self.wait_for_element(Base.EXIBIRMENU)\n",
    "\n",
    "        if menu.get_attribute(\"title\") == \"Exibir Menu do Sistema\":\n",
    "            menu.click()\n",
    "            \n",
    "    def itera_processos(self):\n",
    "        \"\"\"\n",
    "        Navega as páginas de processos abertos no SEI e guarda as tags\n",
    "        html dos processos como objeto soup no atributo processos_abertos\n",
    "        \"\"\"     \n",
    "        # assegura que está inicial\n",
    "        if not self.isPaginaInicial():\n",
    "            self.go_to_initial_page()\n",
    "\n",
    "        # Mostra página com informações detalhadas\n",
    "        self.ver_proc_detalhado()\n",
    "        \n",
    "        contador = Select(self.wait_for_element(Main.CONTADOR))\n",
    "\n",
    "        pages = [pag.text for pag in contador.options]\n",
    "\n",
    "        for pag in pages:\n",
    "            \n",
    "            # One simple repetition to avoid more complex code\n",
    "            contador = Select(self.wait_for_element(Main.CONTADOR))\n",
    "            contador.select_by_visible_text(pag)\n",
    "            html_sei = soup(self.driver.page_source, \"lxml\")\n",
    "            self.processos += html_sei(\"tr\", {\"class\": 'infraTrClara'})\n",
    "            break\n",
    "            \n",
    "        self.processos = [[tag for tag in line.contents if tag !='\\n'] for line in self.processos]\n",
    "        \n",
    "        for i, lista in enumerate(self.processos):\n",
    "            \n",
    "           \n",
    "                \n",
    "                \n",
    "def extrai_tags_processo(lista_tags):\n",
    "\n",
    "    dict_tags = {}\n",
    "\n",
    "    assert len(lista_tags) == 6, \"Verifique o nº de tags de cada linha do processo, valor diferente de 10\"\n",
    "\n",
    "    dict_tags['checkbox'] = lista_tags[0].find(class_='infraCheckbox')\n",
    "\n",
    "    controles = lista_tags[1].find_all('a')\n",
    "    \n",
    "    for tag_a in controles:\n",
    "        \n",
    "        if tag_a.find(src=re.compile(\"imagens/sei_anotacao\")).parent:\n",
    "            dict_tags['anotacao'] = tag_a\n",
    "            \n",
    "        elif tag_a.find(src = re.compile(\"imagens/sei_situacao\")).parent:\n",
    "            dict_tags['situacao'] = tag_a\n",
    "            \n",
    "        elif tag_a.find(src= re.compile(\"imagens/marcador\")).parent:\n",
    "            dict_tags['marcador'] = tag_a\n",
    "            \n",
    "        elif tag_a.find(src = re.compile(\"imagens/exclamacao\")).parent:\n",
    "            dict_tags['aviso'] = tag_a\n",
    "            \n",
    "        elif tag_a.find(src = re.compile(\"imagens/peticionamento\")).parent:\n",
    "            dict_tags['peticionamento'] = tag_a\n",
    "            \n",
    "    dict_tags['processo'] = lista_tags[2].find('a')\n",
    "    \n",
    "    dict_tags['atribuicao'] = lista_tags[3].find('a')\n",
    "    \n",
    "    \n",
    "        \n",
    "\n",
    "\n",
    "            \n",
    "    #def cataloga_processo()\n",
    "            \n",
    "    \n",
    "    \n",
    "    "
   ]
  },
  {
   "cell_type": "code",
   "execution_count": 13,
   "metadata": {
    "collapsed": true
   },
   "outputs": [],
   "source": [
    "driver = webdriver.Chrome()\n",
    "sei = login_SEI(driver, 'rsilva', 'Savorthemom3nts')"
   ]
  },
  {
   "cell_type": "code",
   "execution_count": 78,
   "metadata": {
    "collapsed": true
   },
   "outputs": [],
   "source": [
    "sei = SEI(sei.driver)"
   ]
  },
  {
   "cell_type": "code",
   "execution_count": 79,
   "metadata": {},
   "outputs": [],
   "source": [
    "sei.itera_processos()"
   ]
  },
  {
   "cell_type": "code",
   "execution_count": 100,
   "metadata": {},
   "outputs": [
    {
     "data": {
      "text/plain": [
       "<td align=\"left\" valign=\"top\">(<a class=\"ancoraSigla\" href=\"controlador.php?acao=procedimento_atribuicao_listar&amp;acao_retorno=procedimento_controlar&amp;id_usuario_atribuicao=100001287&amp;id_procedimento=2379630&amp;infra_sistema=100000100&amp;infra_unidade_atual=110001005&amp;infra_hash=f276f20111581bc84cc69ee98598195821c3ec42cf63043434780485a362f523\" title=\"Atribuído para Rodrigo Ferraz de Melo\">rodrigoferraz</a>)</td>"
      ]
     },
     "execution_count": 100,
     "metadata": {},
     "output_type": "execute_result"
    }
   ],
   "source": [
    "sei.processos[3][3]"
   ]
  },
  {
   "cell_type": "code",
   "execution_count": 94,
   "metadata": {},
   "outputs": [
    {
     "data": {
      "text/plain": [
       "<a href=\"controlador.php?acao=anotacao_registrar&amp;acao_origem=procedimento_controlar&amp;acao_retorno=procedimento_controlar&amp;id_protocolo=2379630&amp;infra_sistema=100000100&amp;infra_unidade_atual=110001005&amp;infra_hash=b2fce00dfcbdc437bd42dcf1619c5abb2cc3e2725cf50e1424e7d24c9bacb212\" onmouseout=\"return infraTooltipOcultar();\" onmouseover=\"return infraTooltipMostrar('ANALISADO','rodrigoferraz');\"><img class=\"imagemStatus\" src=\"imagens/sei_anotacao_pequeno.gif\"/></a>"
      ]
     },
     "execution_count": 94,
     "metadata": {},
     "output_type": "execute_result"
    }
   ],
   "source": [
    "sei.processos[3][1].find(src=re.compile(\"imagens/sei_anotacao\")).parent"
   ]
  },
  {
   "cell_type": "code",
   "execution_count": 41,
   "metadata": {},
   "outputs": [
    {
     "data": {
      "text/plain": [
       "[<td align=\"center\" valign=\"top\"><a id=\"lnkDetalhadoID-2379630\" name=\"ID-2379630\"></a><input class=\"infraCheckbox\" id=\"chkDetalhadoItem2\" name=\"chkDetalhadoItem2\" onclick=\"infraSelecionarItens(this,'Detalhado');\" title=\"53504.012141/2017-17\" type=\"checkbox\" value=\"2379630\"/></td>,\n",
       " '\\n',\n",
       " <td align=\"center\" valign=\"top\"><a href=\"controlador.php?acao=anotacao_registrar&amp;acao_origem=procedimento_controlar&amp;acao_retorno=procedimento_controlar&amp;id_protocolo=2379630&amp;infra_sistema=100000100&amp;infra_unidade_atual=110001005&amp;infra_hash=b2fce00dfcbdc437bd42dcf1619c5abb2cc3e2725cf50e1424e7d24c9bacb212\" onmouseout=\"return infraTooltipOcultar();\" onmouseover=\"return infraTooltipMostrar('ANALISADO','rodrigoferraz');\"><img class=\"imagemStatus\" src=\"imagens/sei_anotacao_pequeno.gif\"/></a><a href=\"controlador.php?acao=andamento_situacao_gerenciar&amp;acao_origem=procedimento_controlar&amp;acao_retorno=procedimento_controlar&amp;id_procedimento=2379630&amp;infra_sistema=100000100&amp;infra_unidade_atual=110001005&amp;infra_hash=dc5816aeeadf734b1c758b32c065a0d7238301a3998e8a648f4da8f3c82897d4\" onmouseout=\"return infraTooltipOcultar();\" onmouseover=\"return infraTooltipMostrar('Outorga: Aguardando pagamento');\"><img class=\"imagemStatus\" src=\"imagens/sei_situacao_pequeno.png\"/></a><a href=\"controlador.php?acao=andamento_marcador_gerenciar&amp;acao_origem=procedimento_controlar&amp;acao_retorno=procedimento_controlar&amp;id_procedimento=2379630&amp;infra_sistema=100000100&amp;infra_unidade_atual=110001005&amp;infra_hash=f75201fdd560a7c32eeb4aad55706ef0bd6fdf64faf7675230ae1db416629a62\" onmouseout=\"return infraTooltipOcultar();\" onmouseover=\"return infraTooltipMostrar('26/10/2017','MA');\"><img class=\"imagemStatus\" src=\"imagens/marcador_ciano.png\"/></a></td>,\n",
       " '\\n',\n",
       " <td align=\"center\" valign=\"top\"><a class=\"processoVisualizado\" href=\"controlador.php?acao=procedimento_trabalhar&amp;acao_origem=procedimento_controlar&amp;acao_retorno=procedimento_controlar&amp;id_procedimento=2379630&amp;infra_sistema=100000100&amp;infra_unidade_atual=110001005&amp;infra_hash=f4b6413685bddf7f700642fe86d1a56f75929f6d3d9a475072d8cb4b0b01c4a1\" onmouseout=\"return infraTooltipOcultar();\" onmouseover=\"return infraTooltipMostrar('','Outorga: Limitado Móvel Aeronáutico');\">53504.012141/2017-17</a></td>,\n",
       " '\\n',\n",
       " <td align=\"left\" valign=\"top\">(<a class=\"ancoraSigla\" href=\"controlador.php?acao=procedimento_atribuicao_listar&amp;acao_retorno=procedimento_controlar&amp;id_usuario_atribuicao=100001287&amp;id_procedimento=2379630&amp;infra_sistema=100000100&amp;infra_unidade_atual=110001005&amp;infra_hash=f276f20111581bc84cc69ee98598195821c3ec42cf63043434780485a362f523\" title=\"Atribuído para Rodrigo Ferraz de Melo\">rodrigoferraz</a>)</td>,\n",
       " '\\n',\n",
       " <td align=\"left\" valign=\"top\">Outorga: Limitado Móvel Aeronáutico</td>,\n",
       " <td align=\"left\" valign=\"top\"><div><div class=\"divItemCelula\"><div class=\"divDiamante\">♦  </div><div><span class=\"spanItemCelula\">Bradesco Leasing S.A - Arrendamento Mercantil</span></div></div></div></td>]"
      ]
     },
     "execution_count": 41,
     "metadata": {},
     "output_type": "execute_result"
    }
   ],
   "source": [
    "sei.processos[2].contents"
   ]
  }
 ],
 "metadata": {
  "kernelspec": {
   "display_name": "Python 3",
   "language": "python",
   "name": "python3"
  },
  "language_info": {
   "codemirror_mode": {
    "name": "ipython",
    "version": 3
   },
   "file_extension": ".py",
   "mimetype": "text/x-python",
   "name": "python",
   "nbconvert_exporter": "python",
   "pygments_lexer": "ipython3",
   "version": "3.6.1"
  }
 },
 "nbformat": 4,
 "nbformat_minor": 2
}
