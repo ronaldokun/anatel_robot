{
 "cells": [
  {
   "cell_type": "markdown",
   "metadata": {},
   "source": [
    "### Imports "
   ]
  },
  {
   "cell_type": "code",
   "execution_count": null,
   "metadata": {
    "collapsed": true
   },
   "outputs": [],
   "source": [
    "import os\n",
    "\n",
    "os.chdir('../')\n",
    "\n",
    "# HTML PARSER\n",
    "from bs4 import BeautifulSoup as soup\n",
    "\n",
    "# INITIALIZE DRIVER\n",
    "from selenium import webdriver\n",
    "\n",
    "# WAIT AND CONDITIONS METHODS\n",
    "# available since 2.26.0\n",
    "from selenium.webdriver.support.ui import Select\n",
    "\n",
    "# Exceptions\n",
    "from selenium.common.exceptions import TimeoutException\n",
    "\n",
    "\n",
    "# METHODS\n",
    "from selenium.webdriver.common.keys import Keys\n",
    "from selenium.webdriver.common.by import By\n",
    "\n",
    "from locators import Login, Base, LatMenu, \\\n",
    "    Main, ListaBlocos, Bloco, Processo, Envio\n",
    "\n",
    "\n",
    "from base import Page\n",
    "\n",
    "import re\n",
    "\n",
    "import pandas as pd"
   ]
  },
  {
   "cell_type": "code",
   "execution_count": null,
   "metadata": {
    "collapsed": true
   },
   "outputs": [],
   "source": [
    "def login_SEI(driver, usr, pwd):\n",
    "        \"\"\"\n",
    "        Esta função recebe um objeto Webdrive e as credenciais  \n",
    "        do usuário, loga no SEI - ANATEL e retorna uma instância da classe  \n",
    "        SEI. \n",
    "        \"\"\"\n",
    "\n",
    "        page = Page(driver)\n",
    "        page.driver.get(Login.URL)\n",
    "        page.driver.maximize_window()\n",
    "\n",
    "        usuario = page.wait_for_element_to_click(Login.LOGIN)\n",
    "        senha = page.wait_for_element_to_click(Login.SENHA)\n",
    "\n",
    "        # Clear any clutter on the form\n",
    "        usuario.clear()\n",
    "        usuario.send_keys(usr)\n",
    "\n",
    "        senha.clear()\n",
    "        senha.send_keys(pwd)\n",
    "\n",
    "        # Hit Enter\n",
    "        senha.send_keys(Keys.RETURN)\n",
    "\n",
    "        return SEI(page.driver)"
   ]
  },
  {
   "cell_type": "code",
   "execution_count": 71,
   "metadata": {},
   "outputs": [],
   "source": [
    "class SEI(Page):\n",
    "    \"\"\"\n",
    "    Esta subclasse da classe Page define métodos de execução de ações na \n",
    "    página principal do SEI e de resgate de informações\n",
    "    \"\"\"\n",
    "    \n",
    "    processos = []\n",
    "    \n",
    "    def ver_proc_detalhado(self):\n",
    "        \"\"\"\n",
    "        Expands the visualization from the main page in SEI\n",
    "        \"\"\"\n",
    "        try:\n",
    "            ver_todos = self.wait_for_element_to_click(Main.FILTROATRIBUICAO)\n",
    "            \n",
    "            if ver_todos.text ==\"Ver todos os processos\":\n",
    "                ver_todos.click()\n",
    "        \n",
    "        except TimeoutException:\n",
    "            \n",
    "            print(\"A página não carregou no tempo limite ou cheque o link\\\n",
    "                  'ver todos os processos'\")\n",
    "            \n",
    "        try:\n",
    "            \n",
    "            visual_detalhado = self.wait_for_element_to_click(Main.TIPOVISUALIZACAO)\n",
    "        \n",
    "            if visual_detalhado.text == \"Visualização detalhada\":\n",
    "                visual_detalhado.click()\n",
    "                \n",
    "        except TimeoutException:\n",
    "            \n",
    "            print(\"A página não carregou no tempo limite ou cheque o link\\\n",
    "            de visualização detalhada\")\n",
    "            \n",
    "    def isPaginaInicial(self):\n",
    "        \"\"\"Retorna True se a página estiver na página inicial do SEI, False\n",
    "        caso contrário\"\"\"        \n",
    "        return self.get_title() == 'SEI - Controle de Processos'\n",
    "\n",
    "    def go_to_initial_page(self):\n",
    "        \"\"\"\n",
    "        Navega até a página inicial do SEI caso já esteja nela \n",
    "        a página é recarregada\n",
    "        Assume que o link está presente em qualquer subpágina do SEI\n",
    "        \"\"\"\n",
    "        self.wait_for_element_to_click(\n",
    "            Base.INITIALPAGE).click()\n",
    "\n",
    "    def exibir_menu_lateral(self):\n",
    "        \"\"\"\n",
    "        Exibe o Menu Lateral á Esquerda no SEI para acessos aos seus diversos\n",
    "        links\n",
    "        Assume que o link está presente em qualquer subpágina do SEI\n",
    "        \"\"\"\n",
    "        menu = self.wait_for_element(Base.EXIBIRMENU)\n",
    "\n",
    "        if menu.get_attribute(\"title\") == \"Exibir Menu do Sistema\":\n",
    "            menu.click()\n",
    "            \n",
    "    def itera_processos(self):\n",
    "        \"\"\"\n",
    "        Navega as páginas de processos abertos no SEI e guarda as tags\n",
    "        html dos processos como objeto soup no atributo processos_abertos\n",
    "        \"\"\"     \n",
    "        # assegura que está inicial\n",
    "        if not self.isPaginaInicial():\n",
    "            self.go_to_initial_page()\n",
    "\n",
    "        # Mostra página com informações detalhadas\n",
    "        self.ver_proc_detalhado()\n",
    "        \n",
    "        contador = Select(self.wait_for_element(Main.CONTADOR))\n",
    "\n",
    "        pages = [pag.text for pag in contador.options]\n",
    "\n",
    "        for pag in pages:\n",
    "            \n",
    "            # One simple repetition to avoid more complex code\n",
    "            contador = Select(self.wait_for_element(Main.CONTADOR))\n",
    "            contador.select_by_visible_text(pag)\n",
    "            html_sei = soup(self.driver.page_source, \"lxml\")\n",
    "            self.processos += html_sei(\"tr\", {\"class\": 'infraTrClara'})\n",
    "            \n",
    "        # percorre a lista de processos\n",
    "        # cada linha corresponde a uma tag mãe 'tr'\n",
    "        # substituimos a tag mãe por uma lista das tags filhas 'tag.contents', descartando os '\\n'\n",
    "        # a função lista_to_dict_tags recebe essa lista e retorna um dicionário das tags\n",
    "        self.processos =  [lista_to_dict_tags([tag for tag in line.contents if tag !='\\n']) for line in self.processos]     "
   ]
  },
  {
   "cell_type": "code",
   "execution_count": 72,
   "metadata": {
    "collapsed": true
   },
   "outputs": [],
   "source": [
    "def lista_to_dict_tags(lista_tags):\n",
    "\n",
    "    tags = ['checkbox', 'anotacao', 'situacao', 'marcador', 'aviso', \n",
    "            'peticionamento', 'processo', 'atribuicao', 'tipo', 'interessado']\n",
    "    \n",
    "    dict_tags = {tag:None for tag in tags}\n",
    "\n",
    "    assert len(lista_tags) == 6, \"Verifique o nº de tags de cada linha do processo, valor diferente de 10\"\n",
    "\n",
    "    dict_tags['checkbox'] = lista_tags[0].find(class_='infraCheckbox')\n",
    "\n",
    "    controles = lista_tags[1].find_all('a')\n",
    "    \n",
    "    for tag_a in controles:\n",
    "        \n",
    "        if tag_a.find(src=re.compile(\"imagens/sei_anotacao\")):\n",
    "            dict_tags['anotacao'] = tag_a\n",
    "            \n",
    "        elif tag_a.find(src = re.compile(\"imagens/sei_situacao\")):\n",
    "            dict_tags['situacao'] = tag_a\n",
    "            \n",
    "        elif tag_a.find(src= re.compile(\"imagens/marcador\")):\n",
    "            dict_tags['marcador'] = tag_a\n",
    "            \n",
    "        elif tag_a.find(src = re.compile(\"imagens/exclamacao\")):\n",
    "            dict_tags['aviso'] = tag_a\n",
    "            \n",
    "        elif tag_a.find(src = re.compile(\"imagens/peticionamento\")):\n",
    "            dict_tags['peticionamento'] = tag_a\n",
    "            \n",
    "    try:    \n",
    "        dict_tags['processo'] = lista_tags[2].find('a')       \n",
    "    except:        \n",
    "        #print(\"Problema na tag 'processo'\")\n",
    "        \n",
    "    try:\n",
    "        dict_tags['atribuicao'] = lista_tags[3].find('a')\n",
    "    except:\n",
    "        #print(\"Problema na tag ou processo sem atribuição\")\n",
    "        \n",
    "    try:    \n",
    "        dict_tags['tipo'] = lista_tags[4].string\n",
    "    except:\n",
    "        #print(\"Problema na tag 'tipo de processo'\")\n",
    "    \n",
    "    try:        \n",
    "        #dict_tags['interessado'] = lista_tags[5].find(class_='spanItemCelula').string        \n",
    "    except:        \n",
    "        #print(\"Problema na tag ou processo sem 'interessado\")\n",
    "\n",
    "    return dict_tags\n",
    "    \n",
    "    \n"
   ]
  },
  {
   "cell_type": "code",
   "execution_count": null,
   "metadata": {
    "collapsed": true
   },
   "outputs": [],
   "source": [
    "driver = webdriver.Chrome()\n",
    "sei = login_SEI(driver, 'rsilva', 'Savorthemom3nts')"
   ]
  },
  {
   "cell_type": "code",
   "execution_count": 73,
   "metadata": {},
   "outputs": [],
   "source": [
    "def dict_to_df(dict_tags):\n",
    "    \n",
    "     tags = ['anotacao', 'situacao', 'marcador', 'aviso', \n",
    "            'peticionamento', 'processo', 'atribuicao', 'tipo', 'interessado']\n",
    "    \n",
    "    dict_tags = {tag:None for tag in tags}\n",
    "    \n",
    "    if dict_tags[]     \n",
    "    \n",
    "    \n",
    "        \n",
    "\n",
    "sei = SEI(sei.driver)"
   ]
  },
  {
   "cell_type": "code",
   "execution_count": 110,
   "metadata": {},
   "outputs": [
    {
     "data": {
      "text/plain": [
       "\"return infraTooltipMostrar('Analisado','rodrigoferraz');\""
      ]
     },
     "execution_count": 110,
     "metadata": {},
     "output_type": "execute_result"
    }
   ],
   "source": [
    "sei.processos[25]['anotacao'].attrs['onmouseover']"
   ]
  },
  {
   "cell_type": "code",
   "execution_count": 85,
   "metadata": {},
   "outputs": [],
   "source": [
    "re.compile()"
   ]
  },
  {
   "cell_type": "code",
   "execution_count": 86,
   "metadata": {},
   "outputs": [
    {
     "data": {
      "text/plain": [
       "[{'anotacao': None,\n",
       "  'atribuicao': None,\n",
       "  'aviso': None,\n",
       "  'checkbox': <input class=\"infraCheckbox\" id=\"chkDetalhadoItem47\" name=\"chkDetalhadoItem47\" onclick=\"infraSelecionarItens(this,'Detalhado');\" title=\"53504.203989/2015-91\" type=\"checkbox\" value=\"214778\"/>,\n",
       "  'interessado': 'Marcelo Vaz Netto',\n",
       "  'marcador': None,\n",
       "  'peticionamento': None,\n",
       "  'processo': <a class=\"processoVisualizado\" href=\"controlador.php?acao=procedimento_trabalhar&amp;acao_origem=procedimento_controlar&amp;acao_retorno=procedimento_controlar&amp;id_procedimento=214778&amp;infra_sistema=100000100&amp;infra_unidade_atual=110001005&amp;infra_hash=c5d3150ae9840e6dadc257aa05423491f33f4535ecf5f0750c6a87061e483181\" onmouseout=\"return infraTooltipOcultar();\" onmouseover=\"return infraTooltipMostrar('Requisição de Afastamento  Curso de Pós-Graduação','Pessoal: Afastamento para Pós-Graduação');\">53504.203989/2015-91</a>,\n",
       "  'situacao': None,\n",
       "  'tipo': 'Pessoal: Afastamento para Pós-Graduação'}]"
      ]
     },
     "execution_count": 86,
     "metadata": {},
     "output_type": "execute_result"
    }
   ],
   "source": [
    "tipos_sem_atribuicao"
   ]
  },
  {
   "cell_type": "code",
   "execution_count": null,
   "metadata": {},
   "outputs": [],
   "source": [
    "sei.processos[2].contents"
   ]
  }
 ],
 "metadata": {
  "kernelspec": {
   "display_name": "Python 3",
   "language": "python",
   "name": "python3"
  },
  "language_info": {
   "codemirror_mode": {
    "name": "ipython",
    "version": 3
   },
   "file_extension": ".py",
   "mimetype": "text/x-python",
   "name": "python",
   "nbconvert_exporter": "python",
   "pygments_lexer": "ipython3",
   "version": "3.6.1"
  }
 },
 "nbformat": 4,
 "nbformat_minor": 2
}
