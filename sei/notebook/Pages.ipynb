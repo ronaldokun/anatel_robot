{
 "cells": [
  {
   "cell_type": "markdown",
   "metadata": {},
   "source": [
    "### Imports "
   ]
  },
  {
   "cell_type": "code",
   "execution_count": null,
   "metadata": {
    "collapsed": true
   },
   "outputs": [],
   "source": [
    "import os\n",
    "\n",
    "os.chdir('../')\n",
    "\n",
    "# HTML PARSER\n",
    "from bs4 import BeautifulSoup as soup\n",
    "\n",
    "# INITIALIZE DRIVER\n",
    "from selenium import webdriver\n",
    "\n",
    "# WAIT AND CONDITIONS METHODS\n",
    "# available since 2.26.0\n",
    "from selenium.webdriver.support.ui import Select\n",
    "\n",
    "# Exceptions\n",
    "from selenium.common.exceptions import TimeoutException\n",
    "\n",
    "\n",
    "# METHODS\n",
    "from selenium.webdriver.common.keys import Keys\n",
    "from selenium.webdriver.common.by import By\n",
    "\n",
    "from locators import Login, Base, LatMenu, \\\n",
    "    Main, ListaBlocos, Bloco, Processo, Envio\n",
    "\n",
    "\n",
    "from base import Page\n",
    "\n",
    "import re\n",
    "\n",
    "import pandas as pd"
   ]
  },
  {
   "cell_type": "code",
   "execution_count": null,
   "metadata": {
    "collapsed": true
   },
   "outputs": [],
   "source": [
    "def login_SEI(driver, usr, pwd):\n",
    "        \"\"\"\n",
    "        Esta função recebe um objeto Webdrive e as credenciais  \n",
    "        do usuário, loga no SEI - ANATEL e retorna uma instância da classe  \n",
    "        SEI. \n",
    "        \"\"\"\n",
    "\n",
    "        page = Page(driver)\n",
    "        page.driver.get(Login.URL)\n",
    "        page.driver.maximize_window()\n",
    "\n",
    "        usuario = page.wait_for_element_to_click(Login.LOGIN)\n",
    "        senha = page.wait_for_element_to_click(Login.SENHA)\n",
    "\n",
    "        # Clear any clutter on the form\n",
    "        usuario.clear()\n",
    "        usuario.send_keys(usr)\n",
    "\n",
    "        senha.clear()\n",
    "        senha.send_keys(pwd)\n",
    "\n",
    "        # Hit Enter\n",
    "        senha.send_keys(Keys.RETURN)\n",
    "\n",
    "        return SEI(page.driver)"
   ]
  },
  {
   "cell_type": "code",
   "execution_count": null,
   "metadata": {
    "collapsed": true
   },
   "outputs": [],
   "source": [
    "class SEI(Page):\n",
    "    \"\"\"\n",
    "    Esta subclasse da classe Page define métodos de execução de ações na \n",
    "    página principal do SEI e de resgate de informações\n",
    "    \"\"\"\n",
    "    \n",
    "    processos = []\n",
    "    \n",
    "    def ver_proc_detalhado(self):\n",
    "        \"\"\"\n",
    "        Expands the visualization from the main page in SEI\n",
    "        \"\"\"\n",
    "        try:\n",
    "            ver_todos = self.wait_for_element_to_click(Main.FILTROATRIBUICAO)\n",
    "            \n",
    "            if ver_todos.text ==\"Ver todos os processos\":\n",
    "                ver_todos.click()\n",
    "        \n",
    "        except TimeoutException:\n",
    "            \n",
    "            print(\"A página não carregou no tempo limite ou cheque o link\\\n",
    "                  'ver todos os processos'\")\n",
    "            \n",
    "        try:\n",
    "            \n",
    "            visual_detalhado = self.wait_for_element_to_click(Main.TIPOVISUALIZACAO)\n",
    "        \n",
    "            if visual_detalhado.text == \"Visualização detalhada\":\n",
    "                visual_detalhado.click()\n",
    "                \n",
    "        except TimeoutException:\n",
    "            \n",
    "            print(\"A página não carregou no tempo limite ou cheque o link\\\n",
    "            de visualização detalhada\")\n",
    "            \n",
    "    def isPaginaInicial(self):\n",
    "        \"\"\"Retorna True se a página estiver na página inicial do SEI, False\n",
    "        caso contrário\"\"\"        \n",
    "        return self.get_title() == 'SEI - Controle de Processos'\n",
    "\n",
    "    def go_to_initial_page(self):\n",
    "        \"\"\"\n",
    "        Navega até a página inicial do SEI caso já esteja nela \n",
    "        a página é recarregada\n",
    "        Assume que o link está presente em qualquer subpágina do SEI\n",
    "        \"\"\"\n",
    "        self.wait_for_element_to_click(\n",
    "            Base.INITIALPAGE).click()\n",
    "\n",
    "    def exibir_menu_lateral(self):\n",
    "        \"\"\"\n",
    "        Exibe o Menu Lateral á Esquerda no SEI para acessos aos seus diversos\n",
    "        links\n",
    "        Assume que o link está presente em qualquer subpágina do SEI\n",
    "        \"\"\"\n",
    "        menu = self.wait_for_element(Base.EXIBIRMENU)\n",
    "\n",
    "        if menu.get_attribute(\"title\") == \"Exibir Menu do Sistema\":\n",
    "            menu.click()\n",
    "            \n",
    "    def itera_processos(self):\n",
    "        \"\"\"\n",
    "        Navega as páginas de processos abertos no SEI e guarda as tags\n",
    "        html dos processos como objeto soup no atributo processos_abertos\n",
    "        \"\"\"     \n",
    "        \n",
    "        #Apaga o conteúdo atual da lista de processos\n",
    "        self.processos = []\n",
    "        \n",
    "        # assegura que está inicial\n",
    "        if not self.isPaginaInicial():\n",
    "            self.go_to_initial_page()\n",
    "\n",
    "        # Mostra página com informações detalhadas\n",
    "        self.ver_proc_detalhado()\n",
    "        \n",
    "        contador = Select(self.wait_for_element(Main.CONTADOR))\n",
    "\n",
    "        pages = [pag.text for pag in contador.options]\n",
    "\n",
    "        for pag in pages:\n",
    "            \n",
    "            # One simple repetition to avoid more complex code\n",
    "            contador = Select(self.wait_for_element(Main.CONTADOR))\n",
    "            contador.select_by_visible_text(pag)\n",
    "            html_sei = soup(self.driver.page_source, \"lxml\")\n",
    "            self.processos += html_sei(\"tr\", {\"class\": 'infraTrClara'})\n",
    "            break\n",
    "            \n",
    "        # percorre a lista de processos\n",
    "        # cada linha corresponde a uma tag mãe 'tr'\n",
    "        # substituimos a tag mãe por uma lista das tags filhas 'tag.contents', descartando os '\\n'\n",
    "        # a função lista_to_dict_tags recebe essa lista e retorna um dicionário das tags\n",
    "        self.processos =  [lista_to_dict_tags([tag for tag in line.contents if tag !='\\n']) for line in self.processos]     "
   ]
  },
  {
   "cell_type": "code",
   "execution_count": 126,
   "metadata": {},
   "outputs": [],
   "source": [
    "def lista_to_dict_tags(lista_tags):\n",
    "\n",
    "    tags = ['checkbox', 'anotacao', 'prioridade', 'situacao', 'marcador', 'aviso', \n",
    "            'peticionamento', 'processo', 'atribuicao', 'tipo', 'interessado']\n",
    "    \n",
    "    dict_tags = {tag:None for tag in tags}\n",
    "\n",
    "    assert len(lista_tags) == 6, \"Verifique o nº de tags de cada linha do processo, valor diferente de 10\"\n",
    "\n",
    "    dict_tags['checkbox'] = lista_tags[0].find(class_='infraCheckbox')\n",
    "\n",
    "    controles = lista_tags[1].find_all('a')\n",
    "    \n",
    "    for tag_a in controles:\n",
    "        \n",
    "        img = str(tag_a.img['src'])\n",
    "        \n",
    "        if 'imagens/sei_anotacao' in img:\n",
    "            \n",
    "            dict_tags['anotacao'] = tag_a\n",
    "            \n",
    "            if 'prioridade' in img: \n",
    "                \n",
    "                dict_tags['prioridade'] = True\n",
    "                \n",
    "            else:                \n",
    "                \n",
    "                dict_tags['prioridade'] = False\n",
    "            \n",
    "        elif 'imagens/sei_situacao' in  img:\n",
    "            \n",
    "            dict_tags['situacao'] = tag_a\n",
    "            \n",
    "        elif 'imagens/marcador' in img:\n",
    "            \n",
    "            dict_tags['marcador'] = tag_a\n",
    "            \n",
    "        aviso = lista_tags[1].find(src = re.compile('imagens/exclamacao'))\n",
    "        \n",
    "        if aviso:\n",
    "            \n",
    "            dict_tags['aviso'] = re.search('\\((.*)\\)', aviso.attrs['onmouseover']).group()\n",
    "            \n",
    "        peticionamento = lista_tags[1].find(src = re.compile('peticionamento'))\n",
    "        \n",
    "        if peticionamento:\n",
    "            \n",
    "            dict_tags['peticionamento'] = re.search('\\((.*)\\)', peticionamento.attrs['onmouseover']).group()\n",
    "            \n",
    "    try:    \n",
    "        dict_tags['processo'] = lista_tags[2].find('a')       \n",
    "    except:        \n",
    "        print(\"Problema na tag 'processo'\")\n",
    "        \n",
    "    try:\n",
    "        dict_tags['atribuicao'] = lista_tags[3].find('a').string\n",
    "    except:\n",
    "        print(\"Problema na tag ou processo sem atribuição\")\n",
    "        \n",
    "    try:    \n",
    "        dict_tags['tipo'] = lista_tags[4].string\n",
    "    except:\n",
    "        print(\"Problema na tag 'tipo de processo'\")\n",
    "    \n",
    "    try:        \n",
    "        dict_tags['interessado'] = lista_tags[5].find(class_='spanItemCelula').string        \n",
    "    except:        \n",
    "        print(\"Processo: \" + dict_tags['processo'].string + \" Problema na tag ou processo sem 'interessado'\")\n",
    "\n",
    "    return dict_tags\n",
    "    \n",
    "    \n"
   ]
  },
  {
   "cell_type": "code",
   "execution_count": null,
   "metadata": {
    "collapsed": true
   },
   "outputs": [],
   "source": [
    "def dict_to_df(processos):\n",
    "    \n",
    "     tags = ['anotacao', 'prioridade', 'situacao', 'marcador', 'aviso', \n",
    "             'processo', 'atribuicao', 'tipo', 'interessado']\n",
    "    \n",
    "    atributos = {tag:None for tag in tags}\n",
    "    \n",
    "    for num_proc, dict_tags in processos.items():\n",
    "        \n",
    "        anotacao = dict_tags['anotacao']\n",
    "        \n",
    "        if anotacao:\n",
    "            \n",
    "            atributos['anotacao'] = re.search('\\(.*)\\)', anotacao.attrs['onmouseover']).group()\n",
    "            \n",
    "            if 'prioridade' in str(anotacao.img):\n",
    "                \n",
    "                atributos['prioridade'] = True\n",
    "                \n",
    "        situacao = dict_tags['situacao']\n",
    "        \n",
    "        if situacao:\n",
    "            \n",
    "            atributos['situacao'] = re.search('\\(.*)\\)', situacao.attrs['onmouseover']).group()\n",
    "            \n",
    "        marcador = dict_tags['marcador']\n",
    "        \n",
    "        if marcador:\n",
    "            \n",
    "            atributos['marcador'] = re.search('\\(.*)\\)', marcador.attrs['onmouseover']).group()\n",
    "            \n",
    "        aviso = dict_tags['aviso']\n",
    "        \n",
    "        if aviso:\n",
    "            \n",
    "            atributos['aviso'] = re.search('\\(.*)\\)', aviso.attrs['onmouseover']).group()\n",
    "            \n",
    "        \n",
    "            \n",
    "            \n",
    "        \n",
    "            \n",
    "        \n",
    "            \n",
    "        \n",
    "            \n",
    "    \n",
    "    \n",
    "        \n",
    "\n"
   ]
  },
  {
   "cell_type": "code",
   "execution_count": 109,
   "metadata": {
    "collapsed": true
   },
   "outputs": [],
   "source": [
    "driver = webdriver.Chrome()\n",
    "sei = login_SEI(driver, 'rsilva', 'Savorthemom3nts')"
   ]
  },
  {
   "cell_type": "code",
   "execution_count": 127,
   "metadata": {},
   "outputs": [
    {
     "name": "stdout",
     "output_type": "stream",
     "text": [
      "Problema na tag ou processo sem atribuição\n",
      "Problema na tag ou processo sem atribuição\n",
      "Problema na tag ou processo sem atribuição\n",
      "Problema na tag ou processo sem atribuição\n",
      "Problema na tag ou processo sem atribuição\n",
      "Problema na tag ou processo sem atribuição\n",
      "Problema na tag ou processo sem atribuição\n",
      "Problema na tag ou processo sem atribuição\n",
      "Problema na tag ou processo sem atribuição\n",
      "Problema na tag ou processo sem atribuição\n",
      "Problema na tag ou processo sem atribuição\n",
      "Problema na tag ou processo sem atribuição\n"
     ]
    },
    {
     "ename": "AttributeError",
     "evalue": "'NoneType' object has no attribute 'group'",
     "output_type": "error",
     "traceback": [
      "\u001b[1;31m---------------------------------------------------------------------------\u001b[0m",
      "\u001b[1;31mAttributeError\u001b[0m                            Traceback (most recent call last)",
      "\u001b[1;32m<ipython-input-127-982f57033d31>\u001b[0m in \u001b[0;36m<module>\u001b[1;34m()\u001b[0m\n\u001b[1;32m----> 1\u001b[1;33m \u001b[0msei\u001b[0m\u001b[1;33m.\u001b[0m\u001b[0mitera_processos\u001b[0m\u001b[1;33m(\u001b[0m\u001b[1;33m)\u001b[0m\u001b[1;33m\u001b[0m\u001b[0m\n\u001b[0m\u001b[0;32m      2\u001b[0m \u001b[0msei\u001b[0m\u001b[1;33m.\u001b[0m\u001b[0mprocessos\u001b[0m\u001b[1;33m[\u001b[0m\u001b[1;36m6\u001b[0m\u001b[1;33m]\u001b[0m\u001b[1;33m\u001b[0m\u001b[0m\n",
      "\u001b[1;32m<ipython-input-23-03fb30d2e516>\u001b[0m in \u001b[0;36mitera_processos\u001b[1;34m(self)\u001b[0m\n\u001b[0;32m     90\u001b[0m         \u001b[1;31m# substituimos a tag mãe por uma lista das tags filhas 'tag.contents', descartando os '\\n'\u001b[0m\u001b[1;33m\u001b[0m\u001b[1;33m\u001b[0m\u001b[0m\n\u001b[0;32m     91\u001b[0m         \u001b[1;31m# a função lista_to_dict_tags recebe essa lista e retorna um dicionário das tags\u001b[0m\u001b[1;33m\u001b[0m\u001b[1;33m\u001b[0m\u001b[0m\n\u001b[1;32m---> 92\u001b[1;33m         \u001b[0mself\u001b[0m\u001b[1;33m.\u001b[0m\u001b[0mprocessos\u001b[0m \u001b[1;33m=\u001b[0m  \u001b[1;33m[\u001b[0m\u001b[0mlista_to_dict_tags\u001b[0m\u001b[1;33m(\u001b[0m\u001b[1;33m[\u001b[0m\u001b[0mtag\u001b[0m \u001b[1;32mfor\u001b[0m \u001b[0mtag\u001b[0m \u001b[1;32min\u001b[0m \u001b[0mline\u001b[0m\u001b[1;33m.\u001b[0m\u001b[0mcontents\u001b[0m \u001b[1;32mif\u001b[0m \u001b[0mtag\u001b[0m \u001b[1;33m!=\u001b[0m\u001b[1;34m'\\n'\u001b[0m\u001b[1;33m]\u001b[0m\u001b[1;33m)\u001b[0m \u001b[1;32mfor\u001b[0m \u001b[0mline\u001b[0m \u001b[1;32min\u001b[0m \u001b[0mself\u001b[0m\u001b[1;33m.\u001b[0m\u001b[0mprocessos\u001b[0m\u001b[1;33m]\u001b[0m\u001b[1;33m\u001b[0m\u001b[0m\n\u001b[0m",
      "\u001b[1;32m<ipython-input-23-03fb30d2e516>\u001b[0m in \u001b[0;36m<listcomp>\u001b[1;34m(.0)\u001b[0m\n\u001b[0;32m     90\u001b[0m         \u001b[1;31m# substituimos a tag mãe por uma lista das tags filhas 'tag.contents', descartando os '\\n'\u001b[0m\u001b[1;33m\u001b[0m\u001b[1;33m\u001b[0m\u001b[0m\n\u001b[0;32m     91\u001b[0m         \u001b[1;31m# a função lista_to_dict_tags recebe essa lista e retorna um dicionário das tags\u001b[0m\u001b[1;33m\u001b[0m\u001b[1;33m\u001b[0m\u001b[0m\n\u001b[1;32m---> 92\u001b[1;33m         \u001b[0mself\u001b[0m\u001b[1;33m.\u001b[0m\u001b[0mprocessos\u001b[0m \u001b[1;33m=\u001b[0m  \u001b[1;33m[\u001b[0m\u001b[0mlista_to_dict_tags\u001b[0m\u001b[1;33m(\u001b[0m\u001b[1;33m[\u001b[0m\u001b[0mtag\u001b[0m \u001b[1;32mfor\u001b[0m \u001b[0mtag\u001b[0m \u001b[1;32min\u001b[0m \u001b[0mline\u001b[0m\u001b[1;33m.\u001b[0m\u001b[0mcontents\u001b[0m \u001b[1;32mif\u001b[0m \u001b[0mtag\u001b[0m \u001b[1;33m!=\u001b[0m\u001b[1;34m'\\n'\u001b[0m\u001b[1;33m]\u001b[0m\u001b[1;33m)\u001b[0m \u001b[1;32mfor\u001b[0m \u001b[0mline\u001b[0m \u001b[1;32min\u001b[0m \u001b[0mself\u001b[0m\u001b[1;33m.\u001b[0m\u001b[0mprocessos\u001b[0m\u001b[1;33m]\u001b[0m\u001b[1;33m\u001b[0m\u001b[0m\n\u001b[0m",
      "\u001b[1;32m<ipython-input-126-89f78ccbbaa5>\u001b[0m in \u001b[0;36mlista_to_dict_tags\u001b[1;34m(lista_tags)\u001b[0m\n\u001b[0;32m     40\u001b[0m         \u001b[1;32mif\u001b[0m \u001b[0maviso\u001b[0m\u001b[1;33m:\u001b[0m\u001b[1;33m\u001b[0m\u001b[0m\n\u001b[0;32m     41\u001b[0m \u001b[1;33m\u001b[0m\u001b[0m\n\u001b[1;32m---> 42\u001b[1;33m             \u001b[0mdict_tags\u001b[0m\u001b[1;33m[\u001b[0m\u001b[1;34m'aviso'\u001b[0m\u001b[1;33m]\u001b[0m \u001b[1;33m=\u001b[0m \u001b[0mre\u001b[0m\u001b[1;33m.\u001b[0m\u001b[0msearch\u001b[0m\u001b[1;33m(\u001b[0m\u001b[1;34m'onmouseover=.+\\((.*)\\)'\u001b[0m\u001b[1;33m,\u001b[0m \u001b[0mstr\u001b[0m\u001b[1;33m(\u001b[0m\u001b[0maviso\u001b[0m\u001b[1;33m)\u001b[0m\u001b[1;33m)\u001b[0m\u001b[1;33m.\u001b[0m\u001b[0mgroup\u001b[0m\u001b[1;33m(\u001b[0m\u001b[1;33m)\u001b[0m\u001b[1;33m\u001b[0m\u001b[0m\n\u001b[0m\u001b[0;32m     43\u001b[0m \u001b[1;33m\u001b[0m\u001b[0m\n\u001b[0;32m     44\u001b[0m         \u001b[0mpeticionamento\u001b[0m \u001b[1;33m=\u001b[0m \u001b[0mlista_tags\u001b[0m\u001b[1;33m[\u001b[0m\u001b[1;36m1\u001b[0m\u001b[1;33m]\u001b[0m\u001b[1;33m.\u001b[0m\u001b[0mfind\u001b[0m\u001b[1;33m(\u001b[0m\u001b[0msrc\u001b[0m \u001b[1;33m=\u001b[0m \u001b[0mre\u001b[0m\u001b[1;33m.\u001b[0m\u001b[0mcompile\u001b[0m\u001b[1;33m(\u001b[0m\u001b[1;34m'peticionamento'\u001b[0m\u001b[1;33m)\u001b[0m\u001b[1;33m)\u001b[0m\u001b[1;33m\u001b[0m\u001b[0m\n",
      "\u001b[1;31mAttributeError\u001b[0m: 'NoneType' object has no attribute 'group'"
     ]
    }
   ],
   "source": [
    "sei.itera_processos()\n",
    "sei.processos[6]"
   ]
  },
  {
   "cell_type": "code",
   "execution_count": 90,
   "metadata": {},
   "outputs": [
    {
     "name": "stdout",
     "output_type": "stream",
     "text": [
      "<a href=\"javascript:void(0);\" onmouseout=\"return infraTooltipOcultar();\" onmouseover=\"return infraTooltipMostrar('Um documento foi incluído ou assinado neste processo');\"><img class=\"imagemStatus\" src=\"imagens/exclamacao.png\"/></a>\n",
      "<a href=\"javascript:void(0);\" onmouseout=\"return infraTooltipOcultar();\" onmouseover=\"return infraTooltipMostrar('Um documento foi incluído ou assinado neste processo');\"><img class=\"imagemStatus\" src=\"imagens/exclamacao.png\"/></a>\n",
      "<a href=\"javascript:void(0);\" onmouseout=\"return infraTooltipOcultar();\" onmouseover=\"return infraTooltipMostrar('Um documento foi incluído ou assinado neste processo');\"><img class=\"imagemStatus\" src=\"imagens/exclamacao.png\"/></a>\n",
      "<a href=\"javascript:void(0);\" onmouseout=\"return infraTooltipOcultar();\" onmouseover=\"return infraTooltipMostrar('Um documento foi incluído ou assinado neste processo');\"><img class=\"imagemStatus\" src=\"imagens/exclamacao.png\"/></a>\n",
      "<a href=\"javascript:void(0);\" onmouseout=\"return infraTooltipOcultar();\" onmouseover=\"return infraTooltipMostrar('Um documento foi incluído ou assinado neste processo');\"><img class=\"imagemStatus\" src=\"imagens/exclamacao.png\"/></a>\n",
      "<a href=\"javascript:void(0);\" onmouseout=\"return infraTooltipOcultar();\" onmouseover=\"return infraTooltipMostrar('Um documento foi incluído ou assinado neste processo');\"><img class=\"imagemStatus\" src=\"imagens/exclamacao.png\"/></a>\n",
      "<a href=\"javascript:void(0);\" onmouseout=\"return infraTooltipOcultar();\" onmouseover=\"return infraTooltipMostrar('Um documento foi incluído ou assinado neste processo');\"><img class=\"imagemStatus\" src=\"imagens/exclamacao.png\"/></a>\n",
      "<a href=\"javascript:void(0);\" onmouseout=\"return infraTooltipOcultar();\" onmouseover=\"return infraTooltipMostrar('Um documento foi incluído ou assinado neste processo');\"><img class=\"imagemStatus\" src=\"imagens/exclamacao.png\"/></a>\n",
      "<a href=\"javascript:void(0);\" onmouseout=\"return infraTooltipOcultar();\" onmouseover=\"return infraTooltipMostrar('Um documento foi incluído ou assinado neste processo');\"><img class=\"imagemStatus\" src=\"imagens/exclamacao.png\"/></a>\n",
      "<a href=\"javascript:void(0);\" onmouseout=\"return infraTooltipOcultar();\" onmouseover=\"return infraTooltipMostrar('Um documento foi incluído ou assinado neste processo');\"><img class=\"imagemStatus\" src=\"imagens/exclamacao.png\"/></a>\n",
      "<a href=\"javascript:void(0);\" onmouseout=\"return infraTooltipOcultar();\" onmouseover=\"return infraTooltipMostrar('Um documento foi incluído ou assinado neste processo');\"><img class=\"imagemStatus\" src=\"imagens/exclamacao.png\"/></a>\n",
      "<a href=\"javascript:void(0);\" onmouseout=\"return infraTooltipOcultar();\" onmouseover=\"return infraTooltipMostrar('Um documento foi incluído ou assinado neste processo');\"><img class=\"imagemStatus\" src=\"imagens/exclamacao.png\"/></a>\n",
      "<a href=\"javascript:void(0);\" onmouseout=\"return infraTooltipOcultar();\" onmouseover=\"return infraTooltipMostrar('Um documento foi incluído ou assinado neste processo');\"><img class=\"imagemStatus\" src=\"imagens/exclamacao.png\"/></a>\n",
      "<a href=\"javascript:void(0);\" onmouseout=\"return infraTooltipOcultar();\" onmouseover=\"return infraTooltipMostrar('Um documento foi incluído ou assinado neste processo');\"><img class=\"imagemStatus\" src=\"imagens/exclamacao.png\"/></a>\n",
      "<a href=\"javascript:void(0);\" onmouseout=\"return infraTooltipOcultar();\" onmouseover=\"return infraTooltipMostrar('Um documento foi incluído ou assinado neste processo');\"><img class=\"imagemStatus\" src=\"imagens/exclamacao.png\"/></a>\n",
      "<a href=\"javascript:void(0);\" onmouseout=\"return infraTooltipOcultar();\" onmouseover=\"return infraTooltipMostrar('Um documento foi incluído ou assinado neste processo');\"><img class=\"imagemStatus\" src=\"imagens/exclamacao.png\"/></a>\n",
      "<a href=\"javascript:void(0);\" onmouseout=\"return infraTooltipOcultar();\" onmouseover=\"return infraTooltipMostrar('Um documento foi incluído ou assinado neste processo');\"><img class=\"imagemStatus\" src=\"imagens/exclamacao.png\"/></a>\n"
     ]
    }
   ],
   "source": [
    "for p in sei.processos:\n",
    "    \n",
    "    for v in p.values():\n",
    "    \n",
    "        if v['aviso']:\n",
    "        \n",
    "            print(v['aviso'])"
   ]
  },
  {
   "cell_type": "code",
   "execution_count": 42,
   "metadata": {},
   "outputs": [
    {
     "data": {
      "text/plain": [
       "\"('ANALISADO','rodrigoferraz')\""
      ]
     },
     "execution_count": 42,
     "metadata": {},
     "output_type": "execute_result"
    }
   ],
   "source": [
    "re.search('\\(.+\\)', text).group()"
   ]
  },
  {
   "cell_type": "code",
   "execution_count": null,
   "metadata": {},
   "outputs": [],
   "source": [
    "sei.processos[10]['processo'].attrs['href']\n"
   ]
  },
  {
   "cell_type": "code",
   "execution_count": null,
   "metadata": {},
   "outputs": [],
   "source": [
    "processos = lista"
   ]
  },
  {
   "cell_type": "code",
   "execution_count": 38,
   "metadata": {},
   "outputs": [
    {
     "name": "stdout",
     "output_type": "stream",
     "text": [
      "Help on function compile in module re:\n",
      "\n",
      "compile(pattern, flags=0)\n",
      "    Compile a regular expression pattern, returning a pattern object.\n",
      "\n"
     ]
    }
   ],
   "source": [
    "tag = <img src=\"modulos/peticionamento/imagens/peticionamento_processo_novo.png\" onmouseout=\"return infraTooltipOcultar();\" onmouseover=\"return infraTooltipMostrar(&quot;Processo Novo: 13/09/2017&quot;,&quot;Peticionamento Eletrônico&quot;);\">"
   ]
  }
 ],
 "metadata": {
  "kernelspec": {
   "display_name": "Python 3",
   "language": "python",
   "name": "python3"
  },
  "language_info": {
   "codemirror_mode": {
    "name": "ipython",
    "version": 3
   },
   "file_extension": ".py",
   "mimetype": "text/x-python",
   "name": "python",
   "nbconvert_exporter": "python",
   "pygments_lexer": "ipython3",
   "version": "3.6.1"
  }
 },
 "nbformat": 4,
 "nbformat_minor": 2
}
