{
 "cells": [
  {
   "cell_type": "code",
   "execution_count": null,
   "metadata": {
    "collapsed": true
   },
   "outputs": [],
   "source": [
    "import pandas as pd\n",
    "# HTML PARSER\n",
    "from bs4 import BeautifulSoup as soup\n",
    "from bs4.element import Tag\n",
    "\n",
    "# INITIALIZE DRIVER\n",
    "from selenium import webdriver\n",
    "\n",
    "# METHODS\n",
    "from selenium.webdriver.common.keys import Keys\n",
    "from selenium.webdriver.common.by import By\n",
    "\n",
    "from base import Page\n",
    "\n",
    "from locators import Login, Rf\n",
    "\n",
    "import re"
   ]
  },
  {
   "cell_type": "markdown",
   "metadata": {},
   "source": [
    "### Necessary steps to authenticate credentials and work with Google Sheets"
   ]
  },
  {
   "cell_type": "code",
   "execution_count": null,
   "metadata": {
    "collapsed": true
   },
   "outputs": [],
   "source": [
    "import gspread\n",
    "from oauth2client.service_account import ServiceAccountCredentials\n",
    "\n",
    "scope = ['https://spreadsheets.google.com/feeds']\n",
    "\n",
    "path = 'c:/Users/rsilva/Gdrive/projects/programming/automation/gspread-91fb9e2e8b49.json'\n",
    "\n",
    "credentials = ServiceAccountCredentials.from_json_keyfile_name(path, scope)\n",
    "\n",
    "gc = gspread.authorize(credentials)"
   ]
  },
  {
   "cell_type": "markdown",
   "metadata": {},
   "source": [
    "#### Module to Convert gsheets to pandas df"
   ]
  },
  {
   "cell_type": "code",
   "execution_count": 42,
   "metadata": {
    "collapsed": true
   },
   "outputs": [],
   "source": [
    "import gspread_dataframe as gsTodf"
   ]
  },
  {
   "cell_type": "code",
   "execution_count": null,
   "metadata": {
    "collapsed": true
   },
   "outputs": [],
   "source": [
    "class LoginPage(Page):\n",
    "\n",
    "    def login(self, usr, pwd):\n",
    "        \"\"\"\n",
    "        make login and return and instance of browser\"\"\"\n",
    "\n",
    "        self.driver.get(Login.URL)\n",
    "        self.driver.maximize_window()\n",
    "\n",
    "        usuario = self.wait_for_element_to_click(Login.LOGIN)\n",
    "        senha = self.wait_for_element_to_click(Login.SENHA)\n",
    "\n",
    "        # Clear any clutter on the form\n",
    "        usuario.clear()\n",
    "        usuario.send_keys(usr)\n",
    "\n",
    "        senha.clear()\n",
    "        senha.send_keys(pwd)\n",
    "\n",
    "        # Hit Enter\n",
    "        senha.send_keys(Keys.RETURN)\n",
    "\n",
    "        return PagInicial(self.driver)"
   ]
  },
  {
   "cell_type": "code",
   "execution_count": null,
   "metadata": {
    "collapsed": true
   },
   "outputs": [],
   "source": [
    "class PagInicial(Page):\n",
    "    \n",
    "    def go_to_RF(self):\n",
    "        self.driver.get(Rf.URL)\n",
    "        \n",
    "    def pesquisa_obito(self, cpf):\n",
    "        \n",
    "        if self.get_url != Rf.URL:\n",
    "            with self.wait_for_page_load():\n",
    "                self.go_to_RF() \n",
    "        \n",
    "        entidade = self.wait_for_element((By.ID, \"textfield-1014-inputEl\"))\n",
    "        entidade.clear()\n",
    "        \n",
    "        entidade.send_keys(str(cpf) + Keys.RETURN)\n",
    "        \n",
    "        try:\n",
    "            \n",
    "            elem = self.elem_is_visible((By.CLASS_NAME, \"x-grid-cell-inner\"))\n",
    "        \n",
    "            if \"Óbito\" in str(elem.text):\n",
    "                return \"OBITO\"\n",
    "            else:\n",
    "                return \"ATIVO\"\n",
    "\n",
    "        except:\n",
    "            print(\"Problema ao resgatar o elemento da busca\")\n",
    "            return \"\"\n",
    "\n",
    "        \n",
    "    def pesquisa_dados(self, cpf):\n",
    "        \n",
    "        if self.get_url != Rf.URL:\n",
    "            with self.wait_for_page_load():\n",
    "                self.go_to_RF() \n",
    "        \n",
    "        entidade = self.wait_for_element(Rf.IDINPUTCPF)\n",
    "        entidade.clear()\n",
    "        \n",
    "        entidade.send_keys(str(cpf) + Keys.RETURN)\n",
    "        \n",
    "        if self.check_element_exists(Rf.RESULTADO):\n",
    "            \n",
    "            html = soup(self.driver.page_source, \"lxml\")\n",
    "            \n",
    "            resultado = html.find('tr', {'data-recordid' : str(cpf)})\n",
    "            \n",
    "            try:\n",
    "                resultado = [content.div for content in resultado.contents]\n",
    "            except:\n",
    "                print('Resultado não possui atributos contents')\n",
    "                \n",
    "            return resultado\n",
    "        \n",
    "        else:\n",
    "            \n",
    "            return None"
   ]
  },
  {
   "cell_type": "code",
   "execution_count": null,
   "metadata": {
    "collapsed": true
   },
   "outputs": [],
   "source": [
    "def tags_to_string(lista_tags):\n",
    "    \n",
    "    reg = []\n",
    "    \n",
    "    for tag in lista_tags:\n",
    "        \n",
    "        for string in tag.stripped_strings:\n",
    "            \n",
    "            reg.append(string)\n",
    "            \n",
    "    # Corrige o registro de nome e endereço    \n",
    "    reg[0] = reg[0] + reg[1]\n",
    "    \n",
    "    reg.remove(reg[1])\n",
    "    \n",
    "    reg[1] = reg[1] + reg[2]\n",
    "    \n",
    "    reg.remove(reg[2])\n",
    "    \n",
    "    return reg\n",
    "    "
   ]
  },
  {
   "cell_type": "code",
   "execution_count": null,
   "metadata": {
    "collapsed": true
   },
   "outputs": [],
   "source": [
    "def cria_dict_dados(registros):\n",
    "    \n",
    "    dados = {}\n",
    "    \n",
    "    chaves = ['CPF', 'Nome', 'Mãe', 'Data de Nascimento', 'Sexo', \n",
    "                 'Ano do Óbito','Nacionalidade','Título de Eleitor', \n",
    "                 'Situação Cadastral','Fone']\n",
    "    \n",
    "    for s in registros:\n",
    "    \n",
    "        s = s.split(':')\n",
    "\n",
    "        if s[0] in chaves:\n",
    "\n",
    "            dados[s[0]] = s[1].lstrip(' ')\n",
    "            \n",
    "    endereço = registros[-2].split(',')\n",
    "    \n",
    "    if len(endereço) == 6:\n",
    "    \n",
    "        items_end = ['Logradouro', 'Número', 'Complemento', 'Bairro', 'Cidade',\n",
    "                'Cep']\n",
    "    else:\n",
    "    \n",
    "        items_end = ['Logradouro', 'Número', 'Bairro', 'Cidade', 'Cep']\n",
    "    \n",
    "    \n",
    "    for k,v in zip(items_end, endereço):\n",
    "\n",
    "        dados[k] = v.lstrip(' ')\n",
    "        \n",
    "    # corrige CEP \n",
    "    \n",
    "    if 'Cep' in dados:\n",
    "        dados['Cep'] = dados['Cep'][-9:]\n",
    "        \n",
    "    return dados"
   ]
  },
  {
   "cell_type": "markdown",
   "metadata": {},
   "source": [
    "### Código para logar no Sapiens"
   ]
  },
  {
   "cell_type": "code",
   "execution_count": null,
   "metadata": {
    "collapsed": true
   },
   "outputs": [],
   "source": [
    "driver = webdriver.Chrome()\n",
    "sapiens = LoginPage(driver).login('33831640807', 'Fer465023@ur_')"
   ]
  },
  {
   "cell_type": "markdown",
   "metadata": {},
   "source": [
    "### Criar o Data Frame para exportar os dados"
   ]
  },
  {
   "cell_type": "code",
   "execution_count": null,
   "metadata": {
    "collapsed": true
   },
   "outputs": [],
   "source": [
    "keys = ['CPF', 'Nome', 'Mãe', 'Data de Nascimento', 'Sexo', \n",
    "        'Ano do Óbito','Nacionalidade','Título de Eleitor', \n",
    "        'Situação Cadastral','Fone', 'Logradouro', 'Número', \n",
    "        'Complemento', 'Bairro', 'Cidade','Cep']\n",
    "\n",
    "df = pd.DataFrame(columns = keys)"
   ]
  },
  {
   "cell_type": "markdown",
   "metadata": {},
   "source": [
    "### Leitura dos Dados Brutos na Planilha"
   ]
  },
  {
   "cell_type": "code",
   "execution_count": null,
   "metadata": {},
   "outputs": [],
   "source": [
    "sht = gc.open(title='RC').worksheet('Registros')\n",
    "lista_CPF = sht.col_values(1)[1:]"
   ]
  },
  {
   "cell_type": "code",
   "execution_count": null,
   "metadata": {},
   "outputs": [],
   "source": [
    "dados = pd.DataFrame()\n",
    "\n",
    "for CPF in lista_CPF[400:]:\n",
    "    \n",
    "    resultado = cria_dict_dados(tags_to_string(sapiens.pesquisa_dados(CPF)))\n",
    "    \n",
    "    df = df.append(pd.Series(resultado), ignore_index=True)\n",
    "    \n",
    "df.tail()"
   ]
  },
  {
   "cell_type": "code",
   "execution_count": 44,
   "metadata": {},
   "outputs": [],
   "source": [
    "plan_RF = gc.open(title='RC').worksheet('Atualização')"
   ]
  },
  {
   "cell_type": "code",
   "execution_count": 45,
   "metadata": {},
   "outputs": [],
   "source": [
    "gsTodf.set_with_dataframe(plan_RF, df)"
   ]
  },
  {
   "cell_type": "code",
   "execution_count": null,
   "metadata": {
    "collapsed": true
   },
   "outputs": [],
   "source": [
    "planilha = pd.read_table(\"planilha_obito_guilherme.tsv\", converters={'CPF': lambda x: str(x), 'FISTEL': lambda x: str(x)})"
   ]
  },
  {
   "cell_type": "code",
   "execution_count": 46,
   "metadata": {},
   "outputs": [
    {
     "ename": "WebDriverException",
     "evalue": "Message: Unexpected error launching Internet Explorer. Protected Mode settings are not the same for all zones. Enable Protected Mode must be set to the same value (enabled or disabled) for all zones.\n",
     "output_type": "error",
     "traceback": [
      "\u001b[1;31m---------------------------------------------------------------------------\u001b[0m",
      "\u001b[1;31mWebDriverException\u001b[0m                        Traceback (most recent call last)",
      "\u001b[1;32m<ipython-input-46-fe16f07056fa>\u001b[0m in \u001b[0;36m<module>\u001b[1;34m()\u001b[0m\n\u001b[1;32m----> 1\u001b[1;33m \u001b[0mIE\u001b[0m \u001b[1;33m=\u001b[0m \u001b[0mwebdriver\u001b[0m\u001b[1;33m.\u001b[0m\u001b[0mIe\u001b[0m\u001b[1;33m(\u001b[0m\u001b[1;33m)\u001b[0m\u001b[1;33m\u001b[0m\u001b[0m\n\u001b[0m",
      "\u001b[1;32mC:\\Users\\rsilva\\Anaconda3\\lib\\site-packages\\selenium\\webdriver\\ie\\webdriver.py\u001b[0m in \u001b[0;36m__init__\u001b[1;34m(self, executable_path, capabilities, port, timeout, host, log_level, log_file)\u001b[0m\n\u001b[0;32m     55\u001b[0m             \u001b[0mself\u001b[0m\u001b[1;33m,\u001b[0m\u001b[1;33m\u001b[0m\u001b[0m\n\u001b[0;32m     56\u001b[0m             \u001b[0mcommand_executor\u001b[0m\u001b[1;33m=\u001b[0m\u001b[1;34m'http://localhost:%d'\u001b[0m \u001b[1;33m%\u001b[0m \u001b[0mself\u001b[0m\u001b[1;33m.\u001b[0m\u001b[0mport\u001b[0m\u001b[1;33m,\u001b[0m\u001b[1;33m\u001b[0m\u001b[0m\n\u001b[1;32m---> 57\u001b[1;33m             desired_capabilities=capabilities)\n\u001b[0m\u001b[0;32m     58\u001b[0m         \u001b[0mself\u001b[0m\u001b[1;33m.\u001b[0m\u001b[0m_is_remote\u001b[0m \u001b[1;33m=\u001b[0m \u001b[1;32mFalse\u001b[0m\u001b[1;33m\u001b[0m\u001b[0m\n\u001b[0;32m     59\u001b[0m \u001b[1;33m\u001b[0m\u001b[0m\n",
      "\u001b[1;32mC:\\Users\\rsilva\\Anaconda3\\lib\\site-packages\\selenium\\webdriver\\remote\\webdriver.py\u001b[0m in \u001b[0;36m__init__\u001b[1;34m(self, command_executor, desired_capabilities, browser_profile, proxy, keep_alive, file_detector)\u001b[0m\n\u001b[0;32m    138\u001b[0m             warnings.warn(\"Please use FirefoxOptions to set browser profile\",\n\u001b[0;32m    139\u001b[0m                           DeprecationWarning)\n\u001b[1;32m--> 140\u001b[1;33m         \u001b[0mself\u001b[0m\u001b[1;33m.\u001b[0m\u001b[0mstart_session\u001b[0m\u001b[1;33m(\u001b[0m\u001b[0mdesired_capabilities\u001b[0m\u001b[1;33m,\u001b[0m \u001b[0mbrowser_profile\u001b[0m\u001b[1;33m)\u001b[0m\u001b[1;33m\u001b[0m\u001b[0m\n\u001b[0m\u001b[0;32m    141\u001b[0m         \u001b[0mself\u001b[0m\u001b[1;33m.\u001b[0m\u001b[0m_switch_to\u001b[0m \u001b[1;33m=\u001b[0m \u001b[0mSwitchTo\u001b[0m\u001b[1;33m(\u001b[0m\u001b[0mself\u001b[0m\u001b[1;33m)\u001b[0m\u001b[1;33m\u001b[0m\u001b[0m\n\u001b[0;32m    142\u001b[0m         \u001b[0mself\u001b[0m\u001b[1;33m.\u001b[0m\u001b[0m_mobile\u001b[0m \u001b[1;33m=\u001b[0m \u001b[0mMobile\u001b[0m\u001b[1;33m(\u001b[0m\u001b[0mself\u001b[0m\u001b[1;33m)\u001b[0m\u001b[1;33m\u001b[0m\u001b[0m\n",
      "\u001b[1;32mC:\\Users\\rsilva\\Anaconda3\\lib\\site-packages\\selenium\\webdriver\\remote\\webdriver.py\u001b[0m in \u001b[0;36mstart_session\u001b[1;34m(self, capabilities, browser_profile)\u001b[0m\n\u001b[0;32m    227\u001b[0m         parameters = {\"capabilities\": w3c_caps,\n\u001b[0;32m    228\u001b[0m                       \"desiredCapabilities\": capabilities}\n\u001b[1;32m--> 229\u001b[1;33m         \u001b[0mresponse\u001b[0m \u001b[1;33m=\u001b[0m \u001b[0mself\u001b[0m\u001b[1;33m.\u001b[0m\u001b[0mexecute\u001b[0m\u001b[1;33m(\u001b[0m\u001b[0mCommand\u001b[0m\u001b[1;33m.\u001b[0m\u001b[0mNEW_SESSION\u001b[0m\u001b[1;33m,\u001b[0m \u001b[0mparameters\u001b[0m\u001b[1;33m)\u001b[0m\u001b[1;33m\u001b[0m\u001b[0m\n\u001b[0m\u001b[0;32m    230\u001b[0m         \u001b[1;32mif\u001b[0m \u001b[1;34m'sessionId'\u001b[0m \u001b[1;32mnot\u001b[0m \u001b[1;32min\u001b[0m \u001b[0mresponse\u001b[0m\u001b[1;33m:\u001b[0m\u001b[1;33m\u001b[0m\u001b[0m\n\u001b[0;32m    231\u001b[0m             \u001b[0mresponse\u001b[0m \u001b[1;33m=\u001b[0m \u001b[0mresponse\u001b[0m\u001b[1;33m[\u001b[0m\u001b[1;34m'value'\u001b[0m\u001b[1;33m]\u001b[0m\u001b[1;33m\u001b[0m\u001b[0m\n",
      "\u001b[1;32mC:\\Users\\rsilva\\Anaconda3\\lib\\site-packages\\selenium\\webdriver\\remote\\webdriver.py\u001b[0m in \u001b[0;36mexecute\u001b[1;34m(self, driver_command, params)\u001b[0m\n\u001b[0;32m    295\u001b[0m         \u001b[0mresponse\u001b[0m \u001b[1;33m=\u001b[0m \u001b[0mself\u001b[0m\u001b[1;33m.\u001b[0m\u001b[0mcommand_executor\u001b[0m\u001b[1;33m.\u001b[0m\u001b[0mexecute\u001b[0m\u001b[1;33m(\u001b[0m\u001b[0mdriver_command\u001b[0m\u001b[1;33m,\u001b[0m \u001b[0mparams\u001b[0m\u001b[1;33m)\u001b[0m\u001b[1;33m\u001b[0m\u001b[0m\n\u001b[0;32m    296\u001b[0m         \u001b[1;32mif\u001b[0m \u001b[0mresponse\u001b[0m\u001b[1;33m:\u001b[0m\u001b[1;33m\u001b[0m\u001b[0m\n\u001b[1;32m--> 297\u001b[1;33m             \u001b[0mself\u001b[0m\u001b[1;33m.\u001b[0m\u001b[0merror_handler\u001b[0m\u001b[1;33m.\u001b[0m\u001b[0mcheck_response\u001b[0m\u001b[1;33m(\u001b[0m\u001b[0mresponse\u001b[0m\u001b[1;33m)\u001b[0m\u001b[1;33m\u001b[0m\u001b[0m\n\u001b[0m\u001b[0;32m    298\u001b[0m             response['value'] = self._unwrap_value(\n\u001b[0;32m    299\u001b[0m                 response.get('value', None))\n",
      "\u001b[1;32mC:\\Users\\rsilva\\Anaconda3\\lib\\site-packages\\selenium\\webdriver\\remote\\errorhandler.py\u001b[0m in \u001b[0;36mcheck_response\u001b[1;34m(self, response)\u001b[0m\n\u001b[0;32m    192\u001b[0m         \u001b[1;32melif\u001b[0m \u001b[0mexception_class\u001b[0m \u001b[1;33m==\u001b[0m \u001b[0mUnexpectedAlertPresentException\u001b[0m \u001b[1;32mand\u001b[0m \u001b[1;34m'alert'\u001b[0m \u001b[1;32min\u001b[0m \u001b[0mvalue\u001b[0m\u001b[1;33m:\u001b[0m\u001b[1;33m\u001b[0m\u001b[0m\n\u001b[0;32m    193\u001b[0m             \u001b[1;32mraise\u001b[0m \u001b[0mexception_class\u001b[0m\u001b[1;33m(\u001b[0m\u001b[0mmessage\u001b[0m\u001b[1;33m,\u001b[0m \u001b[0mscreen\u001b[0m\u001b[1;33m,\u001b[0m \u001b[0mstacktrace\u001b[0m\u001b[1;33m,\u001b[0m \u001b[0mvalue\u001b[0m\u001b[1;33m[\u001b[0m\u001b[1;34m'alert'\u001b[0m\u001b[1;33m]\u001b[0m\u001b[1;33m.\u001b[0m\u001b[0mget\u001b[0m\u001b[1;33m(\u001b[0m\u001b[1;34m'text'\u001b[0m\u001b[1;33m)\u001b[0m\u001b[1;33m)\u001b[0m\u001b[1;33m\u001b[0m\u001b[0m\n\u001b[1;32m--> 194\u001b[1;33m         \u001b[1;32mraise\u001b[0m \u001b[0mexception_class\u001b[0m\u001b[1;33m(\u001b[0m\u001b[0mmessage\u001b[0m\u001b[1;33m,\u001b[0m \u001b[0mscreen\u001b[0m\u001b[1;33m,\u001b[0m \u001b[0mstacktrace\u001b[0m\u001b[1;33m)\u001b[0m\u001b[1;33m\u001b[0m\u001b[0m\n\u001b[0m\u001b[0;32m    195\u001b[0m \u001b[1;33m\u001b[0m\u001b[0m\n\u001b[0;32m    196\u001b[0m     \u001b[1;32mdef\u001b[0m \u001b[0m_value_or_default\u001b[0m\u001b[1;33m(\u001b[0m\u001b[0mself\u001b[0m\u001b[1;33m,\u001b[0m \u001b[0mobj\u001b[0m\u001b[1;33m,\u001b[0m \u001b[0mkey\u001b[0m\u001b[1;33m,\u001b[0m \u001b[0mdefault\u001b[0m\u001b[1;33m)\u001b[0m\u001b[1;33m:\u001b[0m\u001b[1;33m\u001b[0m\u001b[0m\n",
      "\u001b[1;31mWebDriverException\u001b[0m: Message: Unexpected error launching Internet Explorer. Protected Mode settings are not the same for all zones. Enable Protected Mode must be set to the same value (enabled or disabled) for all zones.\n"
     ]
    }
   ],
   "source": [
    "IE = webdriver.Ie()"
   ]
  },
  {
   "cell_type": "code",
   "execution_count": null,
   "metadata": {
    "collapsed": true
   },
   "outputs": [],
   "source": []
  }
 ],
 "metadata": {
  "kernelspec": {
   "display_name": "Python 3",
   "language": "python",
   "name": "python3"
  },
  "language_info": {
   "codemirror_mode": {
    "name": "ipython",
    "version": 3
   },
   "file_extension": ".py",
   "mimetype": "text/x-python",
   "name": "python",
   "nbconvert_exporter": "python",
   "pygments_lexer": "ipython3",
   "version": "3.6.1"
  }
 },
 "nbformat": 4,
 "nbformat_minor": 2
}
