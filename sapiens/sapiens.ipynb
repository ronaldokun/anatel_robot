{
 "cells": [
  {
   "cell_type": "code",
   "execution_count": 1,
   "metadata": {
    "collapsed": true
   },
   "outputs": [],
   "source": [
    "import pandas as pd\n",
    "# HTML PARSER\n",
    "from bs4 import BeautifulSoup as soup\n",
    "from bs4.element import Tag\n",
    "\n",
    "# INITIALIZE DRIVER\n",
    "from selenium import webdriver\n",
    "\n",
    "# METHODS\n",
    "from selenium.webdriver.common.keys import Keys\n",
    "from selenium.webdriver.common.by import By\n",
    "\n",
    "from base import Page\n",
    "\n",
    "from locators import Login, Rf\n",
    "\n",
    "import re"
   ]
  },
  {
   "cell_type": "markdown",
   "metadata": {},
   "source": [
    "### Necessary steps to authenticate credentials and work with Google Sheets"
   ]
  },
  {
   "cell_type": "code",
   "execution_count": null,
   "metadata": {
    "collapsed": true
   },
   "outputs": [],
   "source": [
    "import gspread\n",
    "from oauth2client.service_account import ServiceAccountCredentials\n",
    "\n",
    "scope = ['https://spreadsheets.google.com/feeds']\n",
    "\n",
    "path = 'c:/Users/rsilva/Gdrive/projects/programming/automation/gspread-91fb9e2e8b49.json'\n",
    "\n",
    "credentials = ServiceAccountCredentials.from_json_keyfile_name(path, scope)\n",
    "\n",
    "gc = gspread.authorize(credentials)"
   ]
  },
  {
   "cell_type": "markdown",
   "metadata": {},
   "source": [
    "#### Module to Convert gsheets to pandas df"
   ]
  },
  {
   "cell_type": "code",
   "execution_count": null,
   "metadata": {
    "collapsed": true
   },
   "outputs": [],
   "source": [
    "import gspread_dataframe as gsTodf"
   ]
  },
  {
   "cell_type": "code",
   "execution_count": 2,
   "metadata": {
    "collapsed": true
   },
   "outputs": [],
   "source": [
    "class LoginPage(Page):\n",
    "\n",
    "    def login(self, usr, pwd):\n",
    "        \"\"\"\n",
    "        make login and return and instance of browser\"\"\"\n",
    "\n",
    "        self.driver.get(Login.URL)\n",
    "        self.driver.maximize_window()\n",
    "\n",
    "        usuario = self.wait_for_element_to_click(Login.LOGIN)\n",
    "        senha = self.wait_for_element_to_click(Login.SENHA)\n",
    "\n",
    "        # Clear any clutter on the form\n",
    "        usuario.clear()\n",
    "        usuario.send_keys(usr)\n",
    "\n",
    "        senha.clear()\n",
    "        senha.send_keys(pwd)\n",
    "\n",
    "        # Hit Enter\n",
    "        senha.send_keys(Keys.RETURN)\n",
    "\n",
    "        return PagInicial(self.driver)"
   ]
  },
  {
   "cell_type": "code",
   "execution_count": 3,
   "metadata": {
    "collapsed": true
   },
   "outputs": [],
   "source": [
    "class PagInicial(Page):\n",
    "    \n",
    "    def go_to_RF(self):\n",
    "        self.driver.get(Rf.URL)\n",
    "        \n",
    "    def pesquisa_obito(self, cpf):\n",
    "        \n",
    "        if self.get_url != Rf.URL:\n",
    "            with self.wait_for_page_load():\n",
    "                self.go_to_RF() \n",
    "        \n",
    "        entidade = self.wait_for_element((By.ID, \"textfield-1014-inputEl\"))\n",
    "        entidade.clear()\n",
    "        \n",
    "        entidade.send_keys(str(cpf) + Keys.RETURN)\n",
    "        \n",
    "        try:\n",
    "            \n",
    "            elem = self.elem_is_visible((By.CLASS_NAME, \"x-grid-cell-inner\"))\n",
    "        \n",
    "            if \"Óbito\" in str(elem.text):\n",
    "                return \"OBITO\"\n",
    "            else:\n",
    "                return \"ATIVO\"\n",
    "\n",
    "        except:\n",
    "            print(\"Problema ao resgatar o elemento da busca\")\n",
    "            return \"\"\n",
    "\n",
    "        \n",
    "    def pesquisa_dados(self, cpf):\n",
    "        \n",
    "        if self.get_url != Rf.URL:\n",
    "            with self.wait_for_page_load():\n",
    "                self.go_to_RF() \n",
    "        \n",
    "        entidade = self.wait_for_element(Rf.IDINPUTCPF)\n",
    "        entidade.clear()\n",
    "        \n",
    "        entidade.send_keys(str(cpf) + Keys.RETURN)\n",
    "        \n",
    "        if self.check_element_exists(Rf.RESULTADO):\n",
    "            \n",
    "            html = soup(self.driver.page_source, \"lxml\")\n",
    "            \n",
    "            resultado = html.find('tr', {'data-recordid' : str(cpf)})\n",
    "            \n",
    "            try:\n",
    "                resultado = [content.div for content in resultado.contents]\n",
    "            except:\n",
    "                print('Resultado não possui atributos contents')\n",
    "                \n",
    "            return resultado\n",
    "        \n",
    "        else:\n",
    "            \n",
    "            return None"
   ]
  },
  {
   "cell_type": "code",
   "execution_count": null,
   "metadata": {
    "collapsed": true
   },
   "outputs": [],
   "source": [
    "def tags_to_string(lista_tags):\n",
    "    \n",
    "    reg = []\n",
    "    \n",
    "    for tag in lista_tags:\n",
    "        \n",
    "        for string in tag.stripped_strings:\n",
    "            \n",
    "            reg.append(string)\n",
    "            \n",
    "    # Corrige o registro de nome e endereço    \n",
    "    reg[0] = reg[0] + reg[1]\n",
    "    \n",
    "    reg.remove(reg[1])\n",
    "    \n",
    "    reg[1] = reg[1] + reg[2]\n",
    "    \n",
    "    reg.remove(reg[2])\n",
    "    \n",
    "    return reg\n",
    "    "
   ]
  },
  {
   "cell_type": "code",
   "execution_count": null,
   "metadata": {
    "collapsed": true
   },
   "outputs": [],
   "source": [
    "def cria_dict_dados(registros):\n",
    "    \n",
    "    dados = {}\n",
    "    \n",
    "    chaves = ['CPF', 'Nome', 'Mãe', 'Data de Nascimento', 'Sexo', \n",
    "                 'Ano do Óbito','Nacionalidade','Título de Eleitor', \n",
    "                 'Situação Cadastral','Fone']\n",
    "    \n",
    "    for s in registros:\n",
    "    \n",
    "        s = s.split(':')\n",
    "\n",
    "        if s[0] in chaves:\n",
    "\n",
    "            dados[s[0]] = s[1].lstrip(' ')\n",
    "            \n",
    "    endereço = registros[-2].split(',')\n",
    "    \n",
    "    if len(endereço) == 6:\n",
    "    \n",
    "        items_end = ['Logradouro', 'Número', 'Complemento', 'Bairro', 'Cidade',\n",
    "                'Cep']\n",
    "    else:\n",
    "    \n",
    "        items_end = ['Logradouro', 'Número', 'Bairro', 'Cidade', 'Cep']\n",
    "    \n",
    "    \n",
    "    for k,v in zip(items_end, endereço):\n",
    "\n",
    "        dados[k] = v.lstrip(' ')\n",
    "        \n",
    "    # corrige CEP \n",
    "    \n",
    "    if 'Cep' in dados:\n",
    "        dados['Cep'] = dados['Cep'][-9:]\n",
    "        \n",
    "    return dados"
   ]
  },
  {
   "cell_type": "markdown",
   "metadata": {},
   "source": [
    "### Código para logar no Sapiens"
   ]
  },
  {
   "cell_type": "code",
   "execution_count": 4,
   "metadata": {
    "collapsed": true
   },
   "outputs": [],
   "source": [
    "driver = webdriver.Chrome()\n",
    "sapiens = LoginPage(driver).login('33831640807', 'Fer465023@ur_')"
   ]
  },
  {
   "cell_type": "markdown",
   "metadata": {},
   "source": [
    "### Criar o Data Frame para exportar os dados"
   ]
  },
  {
   "cell_type": "code",
   "execution_count": null,
   "metadata": {
    "collapsed": true
   },
   "outputs": [],
   "source": [
    "keys = ['CPF', 'Nome', 'Mãe', 'Data de Nascimento', 'Sexo', \n",
    "        'Ano do Óbito','Nacionalidade','Título de Eleitor', \n",
    "        'Situação Cadastral','Fone', 'Logradouro', 'Número', \n",
    "        'Complemento', 'Bairro', 'Cidade','Cep']\n",
    "\n",
    "df = pd.DataFrame(columns = keys)"
   ]
  },
  {
   "cell_type": "markdown",
   "metadata": {},
   "source": [
    "### Leitura dos Dados Brutos na Planilha"
   ]
  },
  {
   "cell_type": "code",
   "execution_count": null,
   "metadata": {
    "collapsed": true
   },
   "outputs": [],
   "source": [
    "sht = gc.open(title='RC').worksheet('Registros')\n",
    "lista_CPF = sht.col_values(1)[1:]"
   ]
  },
  {
   "cell_type": "code",
   "execution_count": null,
   "metadata": {
    "collapsed": true
   },
   "outputs": [],
   "source": [
    "dados = pd.DataFrame()\n",
    "\n",
    "for CPF in lista_CPF[400:]:\n",
    "    \n",
    "    resultado = cria_dict_dados(tags_to_string(sapiens.pesquisa_dados(CPF)))\n",
    "    \n",
    "    df = df.append(pd.Series(resultado), ignore_index=True)\n",
    "    \n",
    "df.tail()"
   ]
  },
  {
   "cell_type": "code",
   "execution_count": null,
   "metadata": {
    "collapsed": true
   },
   "outputs": [],
   "source": [
    "plan_RF = gc.open(title='RC').worksheet('Atualização')"
   ]
  },
  {
   "cell_type": "code",
   "execution_count": null,
   "metadata": {
    "collapsed": true
   },
   "outputs": [],
   "source": [
    "gsTodf.set_with_dataframe(plan_RF, df)"
   ]
  },
  {
   "cell_type": "code",
   "execution_count": null,
   "metadata": {
    "collapsed": true
   },
   "outputs": [],
   "source": [
    "planilha = pd.read_table(\"planilha_obito_guilherme.tsv\", converters={'CPF': lambda x: str(x), 'FISTEL': lambda x: str(x)})"
   ]
  },
  {
   "cell_type": "code",
   "execution_count": null,
   "metadata": {
    "collapsed": true
   },
   "outputs": [],
   "source": []
  },
  {
   "cell_type": "code",
   "execution_count": null,
   "metadata": {
    "collapsed": true
   },
   "outputs": [],
   "source": []
  }
 ],
 "metadata": {
  "kernelspec": {
   "display_name": "Python 3",
   "language": "python",
   "name": "python3"
  },
  "language_info": {
   "codemirror_mode": {
    "name": "ipython",
    "version": 3
   },
   "file_extension": ".py",
   "mimetype": "text/x-python",
   "name": "python",
   "nbconvert_exporter": "python",
   "pygments_lexer": "ipython3",
   "version": "3.6.1"
  }
 },
 "nbformat": 4,
 "nbformat_minor": 2
}
